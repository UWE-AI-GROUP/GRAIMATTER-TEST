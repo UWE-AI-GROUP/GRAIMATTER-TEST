{
 "cells": [
  {
   "cell_type": "markdown",
   "metadata": {},
   "source": [
    "### ML Privacy Meter (white-box) membership inference attack"
   ]
  },
  {
   "cell_type": "code",
   "execution_count": 1,
   "metadata": {},
   "outputs": [
    {
     "name": "stderr",
     "output_type": "stream",
     "text": [
      "2022-02-07 21:31:36.365830: I tensorflow/stream_executor/cuda/cuda_gpu_executor.cc:939] successful NUMA node read from SysFS had negative value (-1), but there must be at least one NUMA node, so returning NUMA node zero\n",
      "2022-02-07 21:31:36.372106: I tensorflow/stream_executor/cuda/cuda_gpu_executor.cc:939] successful NUMA node read from SysFS had negative value (-1), but there must be at least one NUMA node, so returning NUMA node zero\n",
      "2022-02-07 21:31:36.372454: I tensorflow/stream_executor/cuda/cuda_gpu_executor.cc:939] successful NUMA node read from SysFS had negative value (-1), but there must be at least one NUMA node, so returning NUMA node zero\n"
     ]
    }
   ],
   "source": [
    "import ml_privacy_meter\n",
    "import tensorflow as tf\n",
    "\n",
    "import numpy as np\n",
    "import matplotlib.pyplot as plt\n",
    "from sklearn.model_selection import train_test_split\n",
    "from sklearn.datasets import make_classification, make_moons\n",
    "from sklearn.metrics import ConfusionMatrixDisplay\n",
    "from sklearn.metrics import confusion_matrix, classification_report, roc_curve, auc\n",
    "\n",
    "# Tensorflow imports\n",
    "from tensorflow.keras.models import Model\n",
    "from tensorflow.keras.layers import Input, Dense, Dropout"
   ]
  },
  {
   "cell_type": "markdown",
   "metadata": {},
   "source": [
    "### Create datasets"
   ]
  },
  {
   "cell_type": "code",
   "execution_count": 2,
   "metadata": {},
   "outputs": [],
   "source": [
    "n_classes = 2\n",
    "n_features = 300\n",
    "\n",
    "# (X,y): Original distribution\n",
    "X, y = make_classification(\n",
    "    n_samples=1000,\n",
    "    n_classes=n_classes,\n",
    "    n_features=n_features,\n",
    "    n_informative=n_features,\n",
    "    n_redundant=0,\n",
    "    n_repeated=0,\n",
    "    random_state=15,\n",
    ")\n",
    "# One-hot encoding of the label\n",
    "y = np.eye(n_classes)[y]\n",
    "\n",
    "# (Xt, yt) is the target dataset, owned by the TRE and drawn from the (X,y) distribution\n",
    "# (Xs, ys) is a shadow dataset drawn from the (X,y) distribution\n",
    "Xt, Xs, yt, ys = train_test_split(X, y, test_size=0.50, random_state=15)\n",
    "\n",
    "# (Xd, yd) is a shadow dataset, drawn from a different distribution (different seed)\n",
    "Xd, yd = make_classification(\n",
    "    n_samples=1000,\n",
    "    n_classes=n_classes,\n",
    "    n_features=n_features,\n",
    "    n_informative=n_features,\n",
    "    n_redundant=0,\n",
    "    n_repeated=0,\n",
    "    random_state=42,\n",
    ")\n",
    "yd = np.eye(n_classes)[yd]"
   ]
  },
  {
   "cell_type": "markdown",
   "metadata": {},
   "source": [
    "### Train target model"
   ]
  },
  {
   "cell_type": "code",
   "execution_count": 3,
   "metadata": {},
   "outputs": [
    {
     "name": "stderr",
     "output_type": "stream",
     "text": [
      "2022-02-07 21:31:36.845900: I tensorflow/core/platform/cpu_feature_guard.cc:151] This TensorFlow binary is optimized with oneAPI Deep Neural Network Library (oneDNN) to use the following CPU instructions in performance-critical operations:  AVX2 FMA\n",
      "To enable them in other operations, rebuild TensorFlow with the appropriate compiler flags.\n",
      "2022-02-07 21:31:36.846533: I tensorflow/stream_executor/cuda/cuda_gpu_executor.cc:939] successful NUMA node read from SysFS had negative value (-1), but there must be at least one NUMA node, so returning NUMA node zero\n",
      "2022-02-07 21:31:36.847189: I tensorflow/stream_executor/cuda/cuda_gpu_executor.cc:939] successful NUMA node read from SysFS had negative value (-1), but there must be at least one NUMA node, so returning NUMA node zero\n",
      "2022-02-07 21:31:36.847743: I tensorflow/stream_executor/cuda/cuda_gpu_executor.cc:939] successful NUMA node read from SysFS had negative value (-1), but there must be at least one NUMA node, so returning NUMA node zero\n",
      "2022-02-07 21:31:37.265537: I tensorflow/stream_executor/cuda/cuda_gpu_executor.cc:939] successful NUMA node read from SysFS had negative value (-1), but there must be at least one NUMA node, so returning NUMA node zero\n",
      "2022-02-07 21:31:37.265856: I tensorflow/stream_executor/cuda/cuda_gpu_executor.cc:939] successful NUMA node read from SysFS had negative value (-1), but there must be at least one NUMA node, so returning NUMA node zero\n",
      "2022-02-07 21:31:37.266133: I tensorflow/stream_executor/cuda/cuda_gpu_executor.cc:939] successful NUMA node read from SysFS had negative value (-1), but there must be at least one NUMA node, so returning NUMA node zero\n",
      "2022-02-07 21:31:37.266390: I tensorflow/core/common_runtime/gpu/gpu_device.cc:1525] Created device /job:localhost/replica:0/task:0/device:GPU:0 with 2919 MB memory:  -> device: 0, name: Quadro M2200, pci bus id: 0000:01:00.0, compute capability: 5.2\n"
     ]
    },
    {
     "name": "stdout",
     "output_type": "stream",
     "text": [
      "Epoch 1/10\n",
      "8/8 [==============================] - 1s 33ms/step - loss: 2.1408 - accuracy: 0.5680 - val_loss: 2.0165 - val_accuracy: 0.5120\n",
      "Epoch 2/10\n",
      "8/8 [==============================] - 0s 7ms/step - loss: 0.2545 - accuracy: 0.9040 - val_loss: 1.4891 - val_accuracy: 0.5480\n",
      "Epoch 3/10\n",
      "8/8 [==============================] - 0s 6ms/step - loss: 0.0507 - accuracy: 0.9960 - val_loss: 1.4179 - val_accuracy: 0.5480\n",
      "Epoch 4/10\n",
      "8/8 [==============================] - 0s 6ms/step - loss: 0.0143 - accuracy: 1.0000 - val_loss: 1.4931 - val_accuracy: 0.5320\n",
      "Epoch 5/10\n",
      "8/8 [==============================] - 0s 6ms/step - loss: 0.0070 - accuracy: 1.0000 - val_loss: 1.4641 - val_accuracy: 0.5320\n",
      "Epoch 6/10\n",
      "8/8 [==============================] - 0s 6ms/step - loss: 0.0035 - accuracy: 1.0000 - val_loss: 1.4369 - val_accuracy: 0.5560\n",
      "Epoch 7/10\n",
      "8/8 [==============================] - 0s 6ms/step - loss: 0.0025 - accuracy: 1.0000 - val_loss: 1.4336 - val_accuracy: 0.5480\n",
      "Epoch 8/10\n",
      "8/8 [==============================] - 0s 6ms/step - loss: 0.0021 - accuracy: 1.0000 - val_loss: 1.4361 - val_accuracy: 0.5400\n",
      "Epoch 9/10\n",
      "8/8 [==============================] - 0s 6ms/step - loss: 0.0018 - accuracy: 1.0000 - val_loss: 1.4414 - val_accuracy: 0.5400\n",
      "Epoch 10/10\n",
      "8/8 [==============================] - 0s 6ms/step - loss: 0.0015 - accuracy: 1.0000 - val_loss: 1.4478 - val_accuracy: 0.5480\n"
     ]
    }
   ],
   "source": [
    "# Split into train (member) and test (non-member) datasets\n",
    "# Set shuffle to False so that Xt_membership is consistent with Xt, otherwise\n",
    "# we need to stack Xt_member and Xt_nonmember again to get a consistent Xt.\n",
    "Xt_member, Xt_nonmember, yt_member, yt_nonmember = train_test_split(\n",
    "    Xt, yt, test_size=0.5, shuffle=False\n",
    ")\n",
    "\n",
    "# Set membership status for future tests\n",
    "Xt_membership = np.vstack(\n",
    "    (\n",
    "        np.ones((Xt_member.shape[0], 1), np.uint8),\n",
    "        np.zeros((Xt_nonmember.shape[0], 1), np.uint8),\n",
    "    )\n",
    ").flatten()\n",
    "\n",
    "# Define target model\n",
    "# Tensorflow model (MLP) (making it big to make it overfit)\n",
    "\n",
    "\n",
    "def get_model():\n",
    "    input_data = Input(shape=Xt_member[0].shape)\n",
    "    x = Dense(128, activation=\"relu\")(input_data)\n",
    "    x = Dense(128, activation=\"relu\")(x)\n",
    "    x = Dense(64, activation=\"relu\")(x)\n",
    "    output = Dense(2, activation=\"softmax\")(x)\n",
    "    model = Model(input_data, output)\n",
    "    model.compile(\n",
    "        optimizer=\"adam\", loss=\"categorical_crossentropy\", metrics=[\"accuracy\"]\n",
    "    )\n",
    "    return model\n",
    "\n",
    "\n",
    "# Train target model\n",
    "target_model = get_model()\n",
    "r = target_model.fit(\n",
    "    Xt_member,\n",
    "    yt_member,\n",
    "    validation_data=(Xt_nonmember, yt_nonmember),\n",
    "    epochs=10,\n",
    "    batch_size=32,\n",
    ")"
   ]
  },
  {
   "cell_type": "code",
   "execution_count": 4,
   "metadata": {},
   "outputs": [
    {
     "data": {
      "image/png": "[encoded data removed]",
      "text/plain": [
       "<Figure size 432x288 with 1 Axes>"
      ]
     },
     "metadata": {
      "needs_background": "light"
     },
     "output_type": "display_data"
    }
   ],
   "source": [
    "plt.plot(r.history[\"accuracy\"], label=\"accuracy\")\n",
    "plt.plot(r.history[\"val_accuracy\"], label=\"validation accuracy\")\n",
    "plt.legend()\n",
    "plt.show()"
   ]
  },
  {
   "cell_type": "markdown",
   "metadata": {},
   "source": [
    "### ML Privacy Meter attack"
   ]
  },
  {
   "cell_type": "markdown",
   "metadata": {},
   "source": [
    "#### Convert data to the requisite format"
   ]
  },
  {
   "cell_type": "code",
   "execution_count": 5,
   "metadata": {},
   "outputs": [],
   "source": [
    "def to_str(A, B):\n",
    "    s = \"\"\n",
    "    for i in range(len(A)):\n",
    "        s += f\"{A[i][0]}\"\n",
    "        for j in range(1, len(A[0])):\n",
    "            s += f\",{A[i][j]}\"\n",
    "        s += f\";{np.argmax(B[i])}\\n\"\n",
    "    return s\n",
    "\n",
    "\n",
    "with open(\"Xt_nonmember.txt\", \"wt\") as f:\n",
    "    f.write(to_str(Xt_nonmember, yt_nonmember))\n",
    "\n",
    "with open(\"Xt_member.txt\", \"wt\") as f:\n",
    "    f.write(to_str(Xt_member, yt_member))\n",
    "\n",
    "with open(\"Xt_member.txt\", \"r\") as f:\n",
    "    dataset = f.readlines()\n",
    "dataset = map(lambda i: i.strip(\"\\n\").split(\";\"), dataset)\n",
    "dataset = np.array(list(dataset))\n",
    "np.save(\"Xt_member.txt.npy\", dataset)"
   ]
  },
  {
   "cell_type": "markdown",
   "metadata": {},
   "source": [
    "#### Run white-box attack"
   ]
  },
  {
   "cell_type": "code",
   "execution_count": 6,
   "metadata": {},
   "outputs": [
    {
     "name": "stdout",
     "output_type": "stream",
     "text": [
      "WARNING:tensorflow:From /home/unknown/ml_privacy_meter/ml_privacy_meter/attack/meminf_modules/create_fcn.py:13: The name tf.keras.initializers.random_normal is deprecated. Please use tf.compat.v1.keras.initializers.random_normal instead.\n",
      "\n",
      "Target model test accuracy 0.536\n"
     ]
    },
    {
     "name": "stderr",
     "output_type": "stream",
     "text": [
      "/home/unknown/ml_privacy_meter/ml_privacy_meter/utils/attack_utils.py:148: VisibleDeprecationWarning: Creating an ndarray from ragged nested sequences (which is a list-or-tuple of lists-or-tuples-or ndarrays with different lengths or shapes) is deprecated. If you meant to do this, you must specify 'dtype=object' when creating the ndarray\n",
      "  hashval = hash(bytes(np.array(example)))\n",
      "/home/unknown/ml_privacy_meter/ml_privacy_meter/utils/attack_utils.py:151: VisibleDeprecationWarning: Creating an ndarray from ragged nested sequences (which is a list-or-tuple of lists-or-tuples-or ndarrays with different lengths or shapes) is deprecated. If you meant to do this, you must specify 'dtype=object' when creating the ndarray\n",
      "  hashval = hash(bytes(np.array(example)))\n",
      "/home/unknown/.local/lib/python3.8/site-packages/numpy/core/_asarray.py:83: VisibleDeprecationWarning: Creating an ndarray from ragged nested sequences (which is a list-or-tuple of lists-or-tuples-or ndarrays with different lengths or shapes) is deprecated. If you meant to do this, you must specify 'dtype=object' when creating the ndarray\n",
      "  return array(a, dtype, copy=False, order=order)\n",
      "2022-02-07 21:31:39.858480: I tensorflow/stream_executor/cuda/cuda_dnn.cc:366] Loaded cuDNN version 8101\n",
      "2022-02-07 21:31:40.038434: I tensorflow/core/platform/default/subprocess.cc:304] Start cannot spawn child process: No such file or directory\n"
     ]
    },
    {
     "name": "stdout",
     "output_type": "stream",
     "text": [
      "Epoch 0 over :Attack test accuracy: 0.5, Best accuracy : 0.5\n",
      "Epoch 1 over :Attack test accuracy: 0.5, Best accuracy : 0.5\n",
      "Epoch 2 over :Attack test accuracy: 0.5, Best accuracy : 0.5\n",
      "Epoch 3 over :Attack test accuracy: 0.5, Best accuracy : 0.5\n",
      "Epoch 4 over :Attack test accuracy: 0.5, Best accuracy : 0.5\n",
      "Epoch 5 over :Attack test accuracy: 0.5, Best accuracy : 0.5\n",
      "Epoch 6 over :Attack test accuracy: 0.5, Best accuracy : 0.5\n",
      "Epoch 7 over :Attack test accuracy: 0.5, Best accuracy : 0.5\n",
      "Epoch 8 over :Attack test accuracy: 0.5, Best accuracy : 0.5\n",
      "Epoch 9 over :Attack test accuracy: 0.5720000267028809, Best accuracy : 0.5720000267028809\n",
      "Epoch 10 over :Attack test accuracy: 0.5120000243186951, Best accuracy : 0.5720000267028809\n",
      "Epoch 11 over :Attack test accuracy: 0.5759999752044678, Best accuracy : 0.5759999752044678\n",
      "Epoch 12 over :Attack test accuracy: 0.5640000104904175, Best accuracy : 0.5759999752044678\n",
      "Epoch 13 over :Attack test accuracy: 0.5640000104904175, Best accuracy : 0.5759999752044678\n",
      "Epoch 14 over :Attack test accuracy: 0.6439999938011169, Best accuracy : 0.6439999938011169\n",
      "Epoch 15 over :Attack test accuracy: 0.6200000047683716, Best accuracy : 0.6439999938011169\n",
      "Epoch 16 over :Attack test accuracy: 0.6200000047683716, Best accuracy : 0.6439999938011169\n",
      "Epoch 17 over :Attack test accuracy: 0.6520000100135803, Best accuracy : 0.6520000100135803\n",
      "Epoch 18 over :Attack test accuracy: 0.6840000152587891, Best accuracy : 0.6840000152587891\n",
      "Epoch 19 over :Attack test accuracy: 0.7120000123977661, Best accuracy : 0.7120000123977661\n",
      "Epoch 20 over :Attack test accuracy: 0.7400000095367432, Best accuracy : 0.7400000095367432\n",
      "Epoch 21 over :Attack test accuracy: 0.7559999823570251, Best accuracy : 0.7559999823570251\n",
      "Epoch 22 over :Attack test accuracy: 0.7680000066757202, Best accuracy : 0.7680000066757202\n",
      "Epoch 23 over :Attack test accuracy: 0.8040000200271606, Best accuracy : 0.8040000200271606\n",
      "Epoch 24 over :Attack test accuracy: 0.8119999766349792, Best accuracy : 0.8119999766349792\n",
      "Epoch 25 over :Attack test accuracy: 0.8240000009536743, Best accuracy : 0.8240000009536743\n",
      "Epoch 26 over :Attack test accuracy: 0.8360000252723694, Best accuracy : 0.8360000252723694\n",
      "Epoch 27 over :Attack test accuracy: 0.8479999899864197, Best accuracy : 0.8479999899864197\n",
      "Epoch 28 over :Attack test accuracy: 0.8519999980926514, Best accuracy : 0.8519999980926514\n",
      "Epoch 29 over :Attack test accuracy: 0.8519999980926514, Best accuracy : 0.8519999980926514\n",
      "Epoch 30 over :Attack test accuracy: 0.8679999709129333, Best accuracy : 0.8679999709129333\n",
      "Epoch 31 over :Attack test accuracy: 0.871999979019165, Best accuracy : 0.871999979019165\n",
      "Epoch 32 over :Attack test accuracy: 0.8759999871253967, Best accuracy : 0.8759999871253967\n",
      "Epoch 33 over :Attack test accuracy: 0.8759999871253967, Best accuracy : 0.8759999871253967\n",
      "Epoch 34 over :Attack test accuracy: 0.8759999871253967, Best accuracy : 0.8759999871253967\n",
      "Epoch 35 over :Attack test accuracy: 0.871999979019165, Best accuracy : 0.8759999871253967\n",
      "Epoch 36 over :Attack test accuracy: 0.8759999871253967, Best accuracy : 0.8759999871253967\n",
      "Epoch 37 over :Attack test accuracy: 0.8759999871253967, Best accuracy : 0.8759999871253967\n",
      "Epoch 38 over :Attack test accuracy: 0.8759999871253967, Best accuracy : 0.8759999871253967\n",
      "Epoch 39 over :Attack test accuracy: 0.8759999871253967, Best accuracy : 0.8759999871253967\n",
      "Epoch 40 over :Attack test accuracy: 0.8759999871253967, Best accuracy : 0.8759999871253967\n",
      "Epoch 41 over :Attack test accuracy: 0.871999979019165, Best accuracy : 0.8759999871253967\n",
      "Epoch 42 over :Attack test accuracy: 0.8679999709129333, Best accuracy : 0.8759999871253967\n",
      "Epoch 43 over :Attack test accuracy: 0.8679999709129333, Best accuracy : 0.8759999871253967\n",
      "Epoch 44 over :Attack test accuracy: 0.8560000061988831, Best accuracy : 0.8759999871253967\n",
      "Epoch 45 over :Attack test accuracy: 0.8560000061988831, Best accuracy : 0.8759999871253967\n",
      "Epoch 46 over :Attack test accuracy: 0.8519999980926514, Best accuracy : 0.8759999871253967\n",
      "Epoch 47 over :Attack test accuracy: 0.8519999980926514, Best accuracy : 0.8759999871253967\n",
      "Epoch 48 over :Attack test accuracy: 0.8479999899864197, Best accuracy : 0.8759999871253967\n",
      "Epoch 49 over :Attack test accuracy: 0.8479999899864197, Best accuracy : 0.8759999871253967\n",
      "Epoch 50 over :Attack test accuracy: 0.8479999899864197, Best accuracy : 0.8759999871253967\n",
      "Epoch 51 over :Attack test accuracy: 0.8519999980926514, Best accuracy : 0.8759999871253967\n",
      "Epoch 52 over :Attack test accuracy: 0.8519999980926514, Best accuracy : 0.8759999871253967\n",
      "Epoch 53 over :Attack test accuracy: 0.8519999980926514, Best accuracy : 0.8759999871253967\n",
      "Epoch 54 over :Attack test accuracy: 0.8519999980926514, Best accuracy : 0.8759999871253967\n",
      "Epoch 55 over :Attack test accuracy: 0.8519999980926514, Best accuracy : 0.8759999871253967\n",
      "Epoch 56 over :Attack test accuracy: 0.8519999980926514, Best accuracy : 0.8759999871253967\n",
      "Epoch 57 over :Attack test accuracy: 0.8519999980926514, Best accuracy : 0.8759999871253967\n",
      "Epoch 58 over :Attack test accuracy: 0.8519999980926514, Best accuracy : 0.8759999871253967\n",
      "Epoch 59 over :Attack test accuracy: 0.8479999899864197, Best accuracy : 0.8759999871253967\n",
      "Epoch 60 over :Attack test accuracy: 0.8519999980926514, Best accuracy : 0.8759999871253967\n",
      "Epoch 61 over :Attack test accuracy: 0.8519999980926514, Best accuracy : 0.8759999871253967\n",
      "Epoch 62 over :Attack test accuracy: 0.8519999980926514, Best accuracy : 0.8759999871253967\n",
      "Epoch 63 over :Attack test accuracy: 0.8519999980926514, Best accuracy : 0.8759999871253967\n",
      "Epoch 64 over :Attack test accuracy: 0.8519999980926514, Best accuracy : 0.8759999871253967\n",
      "Epoch 65 over :Attack test accuracy: 0.8519999980926514, Best accuracy : 0.8759999871253967\n",
      "Epoch 66 over :Attack test accuracy: 0.8519999980926514, Best accuracy : 0.8759999871253967\n",
      "Epoch 67 over :Attack test accuracy: 0.8519999980926514, Best accuracy : 0.8759999871253967\n",
      "Epoch 68 over :Attack test accuracy: 0.8479999899864197, Best accuracy : 0.8759999871253967\n",
      "Epoch 69 over :Attack test accuracy: 0.8479999899864197, Best accuracy : 0.8759999871253967\n",
      "Epoch 70 over :Attack test accuracy: 0.8479999899864197, Best accuracy : 0.8759999871253967\n",
      "Epoch 71 over :Attack test accuracy: 0.8519999980926514, Best accuracy : 0.8759999871253967\n",
      "Epoch 72 over :Attack test accuracy: 0.8519999980926514, Best accuracy : 0.8759999871253967\n",
      "Epoch 73 over :Attack test accuracy: 0.8519999980926514, Best accuracy : 0.8759999871253967\n",
      "Epoch 74 over :Attack test accuracy: 0.8560000061988831, Best accuracy : 0.8759999871253967\n",
      "Epoch 75 over :Attack test accuracy: 0.8560000061988831, Best accuracy : 0.8759999871253967\n",
      "Epoch 76 over :Attack test accuracy: 0.8560000061988831, Best accuracy : 0.8759999871253967\n",
      "Epoch 77 over :Attack test accuracy: 0.8560000061988831, Best accuracy : 0.8759999871253967\n",
      "Epoch 78 over :Attack test accuracy: 0.8600000143051147, Best accuracy : 0.8759999871253967\n",
      "Epoch 79 over :Attack test accuracy: 0.8600000143051147, Best accuracy : 0.8759999871253967\n",
      "Epoch 80 over :Attack test accuracy: 0.8600000143051147, Best accuracy : 0.8759999871253967\n",
      "Epoch 81 over :Attack test accuracy: 0.8600000143051147, Best accuracy : 0.8759999871253967\n",
      "Epoch 82 over :Attack test accuracy: 0.8560000061988831, Best accuracy : 0.8759999871253967\n",
      "Epoch 83 over :Attack test accuracy: 0.8560000061988831, Best accuracy : 0.8759999871253967\n",
      "Epoch 84 over :Attack test accuracy: 0.8560000061988831, Best accuracy : 0.8759999871253967\n",
      "Epoch 85 over :Attack test accuracy: 0.8560000061988831, Best accuracy : 0.8759999871253967\n",
      "Epoch 86 over :Attack test accuracy: 0.8560000061988831, Best accuracy : 0.8759999871253967\n",
      "Epoch 87 over :Attack test accuracy: 0.8560000061988831, Best accuracy : 0.8759999871253967\n",
      "Epoch 88 over :Attack test accuracy: 0.8560000061988831, Best accuracy : 0.8759999871253967\n",
      "Epoch 89 over :Attack test accuracy: 0.8560000061988831, Best accuracy : 0.8759999871253967\n",
      "Epoch 90 over :Attack test accuracy: 0.8600000143051147, Best accuracy : 0.8759999871253967\n",
      "Epoch 91 over :Attack test accuracy: 0.8679999709129333, Best accuracy : 0.8759999871253967\n",
      "Epoch 92 over :Attack test accuracy: 0.8640000224113464, Best accuracy : 0.8759999871253967\n"
     ]
    },
    {
     "name": "stdout",
     "output_type": "stream",
     "text": [
      "Epoch 93 over :Attack test accuracy: 0.8560000061988831, Best accuracy : 0.8759999871253967\n",
      "Epoch 94 over :Attack test accuracy: 0.8640000224113464, Best accuracy : 0.8759999871253967\n",
      "Epoch 95 over :Attack test accuracy: 0.8640000224113464, Best accuracy : 0.8759999871253967\n",
      "Epoch 96 over :Attack test accuracy: 0.8640000224113464, Best accuracy : 0.8759999871253967\n",
      "Epoch 97 over :Attack test accuracy: 0.8640000224113464, Best accuracy : 0.8759999871253967\n",
      "Epoch 98 over :Attack test accuracy: 0.8600000143051147, Best accuracy : 0.8759999871253967\n",
      "Epoch 99 over :Attack test accuracy: 0.8640000224113464, Best accuracy : 0.8759999871253967\n"
     ]
    }
   ],
   "source": [
    "saved_path = \"Xt_member.txt.npy\"  # memberset\n",
    "dataset_path = \"Xt_nonmember.txt\"  # non-memberset\n",
    "\n",
    "cmodelA = target_model\n",
    "\n",
    "datahandlerA = ml_privacy_meter.utils.attack_data.attack_data(\n",
    "    dataset_path=dataset_path,\n",
    "    member_dataset_path=saved_path,\n",
    "    batch_size=64,\n",
    "    attack_percentage=50,\n",
    "    input_shape=(n_features,),\n",
    ")\n",
    "\n",
    "attackobj = ml_privacy_meter.attack.meminf.initialize(\n",
    "    target_train_model=cmodelA,\n",
    "    target_attack_model=cmodelA,\n",
    "    learning_rate=0.0001,\n",
    "    optimizer=\"adam\",\n",
    "    train_datahandler=datahandlerA,\n",
    "    attack_datahandler=datahandlerA,\n",
    "    layers_to_exploit=[4],\n",
    "    gradients_to_exploit=[2, 3, 4],\n",
    ")\n",
    "attackobj.train_attack()"
   ]
  },
  {
   "cell_type": "code",
   "execution_count": null,
   "metadata": {},
   "outputs": [],
   "source": []
  }
 ],
 "metadata": {
  "kernelspec": {
   "display_name": "Python 3 (ipykernel)",
   "language": "python",
   "name": "python3"
  },
  "language_info": {
   "codemirror_mode": {
    "name": "ipython",
    "version": 3
   },
   "file_extension": ".py",
   "mimetype": "text/x-python",
   "name": "python",
   "nbconvert_exporter": "python",
   "pygments_lexer": "ipython3",
   "version": "3.8.10"
  }
 },
 "nbformat": 4,
 "nbformat_minor": 4
}
