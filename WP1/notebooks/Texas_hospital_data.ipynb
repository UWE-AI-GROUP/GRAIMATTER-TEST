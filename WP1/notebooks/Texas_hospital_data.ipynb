{
 "cells": [
  {
   "cell_type": "markdown",
   "id": "promising-cameroon",
   "metadata": {},
   "source": [
    "# Donwload Texas hospitals dataset"
   ]
  },
  {
   "cell_type": "markdown",
   "id": "professional-vegetation",
   "metadata": {},
   "source": [
    "Click this link https://www.dshs.texas.gov/THCIC/Hospitals/Download.shtm and accept the terms and conditions.\n",
    "Then a list of available files are displayed, including files describing them.\n",
    "Download the Base Data #1 for the first quarter of 2015 (https://www.dshs.state.tx.us/thcic/hospitals/Data/PUDF_base1_1q2015/)\n",
    "The fields are explained here: https://www.dshs.state.tx.us/thcic/hospitals/UserManual1Q2015.pdf\n",
    "\n",
    "Download the tab-separated files from 2006 to 2009 (note for 2nd quarter 2006 there is an update)\n",
    "\n",
    "\n",
    "Once downloaded, replace the blank spaces file names e.g. witht the following command line:\n",
    "\n",
    "for f in *\\ *; do mv \"$f\" \"${f// /_}\"; done\n"
   ]
  },
  {
   "cell_type": "code",
   "execution_count": 18,
   "id": "occasional-detective",
   "metadata": {},
   "outputs": [],
   "source": [
    "import json, os\n",
    "import pandas as pd\n",
    "import numpy as np\n",
    "from zipfile import ZipFile\n",
    "from collections import Counter"
   ]
  },
  {
   "cell_type": "code",
   "execution_count": 19,
   "id": "pressed-partition",
   "metadata": {},
   "outputs": [],
   "source": [
    "path = \"/home/alba/Documents/HIC_Dundee/GRAIMAtter/data/TexasHospital/\"\n",
    "file_list = [\"PUDF_1Q2006_tab-delimited.zip\", \n",
    "             \"PUDF_1Q2007_tab-delimited.zip\", \n",
    "             \"PUDF_1Q2008_tab-delimited.zip\", \n",
    "             \"PUDF_1Q2009_tab-delimited.zip\", \n",
    "             #\"PUDF2q06_update_tab.zip\", \n",
    "             \"PUDF_2Q2006_tab-delimited.zip\", \n",
    "             \"PUDF_2Q2007_tab-delimited.zip\", \n",
    "             \"PUDF_2Q2008_tab-delimited.zip\", \n",
    "             \"PUDF_2Q2009_tab-delimited.zip\", \n",
    "             \"PUDF_3Q2006_tab-delimited.zip\", \n",
    "             \"PUDF_3Q2007_tab-delimited.zip\", \n",
    "             \"PUDF_3Q2008_tab-delimited.zip\", \n",
    "             \"PUDF_3Q2009_tab-delimited.zip\", \n",
    "             \"PUDF_4Q2006_tab-delimited.zip\", \n",
    "             \"PUDF_4Q2007_tab-delimited.zip\", \n",
    "             \"PUDF_4Q2008_tab-delimited.zip\", \n",
    "             \"PUDF_4Q2009_tab-delimited.zip\"]"
   ]
  },
  {
   "cell_type": "code",
   "execution_count": 21,
   "id": "acute-impact",
   "metadata": {},
   "outputs": [],
   "source": [
    "#Load data\n",
    "columns_names = ['THCIC_ID',# Provider ID. Unique identifier assigned to the provider by DSHS. Hospitals with fewer than 50 discharges have been aggregated into the Provider ID '999999'\n",
    "                 'DISCHARGE_QTR', #yyyyQm\n",
    "                 'TYPE_OF_ADMISSION',\n",
    "                 'SOURCE_OF_ADMISSION',\n",
    "                 #'PAT_STATE', #State of the patient’s mailing address in Texas and contiguous states #only US after droping NAs\n",
    "                 'PAT_ZIP',#Patient’s five-digit ZIP code\n",
    "                 #'PAT_COUNTRY', #Country of patient’s residential address # only TX after droping NAs\n",
    "                 'PUBLIC_HEALTH_REGION', #Public Health Region of patient’s address\n",
    "                 'PAT_STATUS', #Code indicating patient status as of the ending date of service for the period of care reported\n",
    "                 'SEX_CODE',\n",
    "                 'RACE',\n",
    "                 'ETHNICITY',\n",
    "                 'LENGTH_OF_STAY',\n",
    "                 'PAT_AGE', #Code indicating age of patient in days or years on date of discharge. \n",
    "                 'PRINC_DIAG_CODE', #diagnosis code for the principal diagnosis\n",
    "                 'E_CODE_1', #external cause of injury\n",
    "                 'PRINC_SURG_PROC_CODE', #Code for the principal surgical or other procedure performed during the period covered by the bill           \n",
    "                 'RISK_MORTALITY', #Assignment of a risk of mortality score from the All Patient Refined (APR) Diagnosis Related Group (DRG) \n",
    "                 'ILLNESS_SEVERITY',#Assignment of a severity of illness score from the All Patient Refined (APR) Diagnosis RelatedGroup (DRG\n",
    "                 'RECORD_ID'\n",
    "                ]"
   ]
  },
  {
   "cell_type": "code",
   "execution_count": 22,
   "id": "bigger-future",
   "metadata": {},
   "outputs": [
    {
     "name": "stdout",
     "output_type": "stream",
     "text": [
      "PUDF_1Q2006_tab-delimited.zip\n"
     ]
    },
    {
     "name": "stderr",
     "output_type": "stream",
     "text": [
      "/usr/lib/python3/dist-packages/IPython/core/interactiveshell.py:3347: DtypeWarning: Columns (92) have mixed types.Specify dtype option on import or set low_memory=False.\n",
      "  if (await self.run_code(code, result,  async_=asy)):\n"
     ]
    },
    {
     "name": "stdout",
     "output_type": "stream",
     "text": [
      "PUDF_1Q2007_tab-delimited.zip\n",
      "PUDF_1Q2008_tab-delimited.zip\n",
      "PUDF_1Q2009_tab-delimited.zip\n"
     ]
    },
    {
     "name": "stderr",
     "output_type": "stream",
     "text": [
      "/usr/lib/python3/dist-packages/IPython/core/interactiveshell.py:3347: DtypeWarning: Columns (92) have mixed types.Specify dtype option on import or set low_memory=False.\n",
      "  if (await self.run_code(code, result,  async_=asy)):\n"
     ]
    },
    {
     "name": "stdout",
     "output_type": "stream",
     "text": [
      "PUDF_2Q2006_tab-delimited.zip\n",
      "PUDF_2Q2007_tab-delimited.zip\n",
      "PUDF_2Q2008_tab-delimited.zip\n",
      "PUDF_2Q2009_tab-delimited.zip\n",
      "PUDF_3Q2006_tab-delimited.zip\n",
      "PUDF_3Q2007_tab-delimited.zip\n",
      "PUDF_3Q2008_tab-delimited.zip\n"
     ]
    },
    {
     "name": "stderr",
     "output_type": "stream",
     "text": [
      "/usr/lib/python3/dist-packages/IPython/core/interactiveshell.py:3347: DtypeWarning: Columns (92) have mixed types.Specify dtype option on import or set low_memory=False.\n",
      "  if (await self.run_code(code, result,  async_=asy)):\n"
     ]
    },
    {
     "name": "stdout",
     "output_type": "stream",
     "text": [
      "PUDF_3Q2009_tab-delimited.zip\n",
      "PUDF_4Q2006_tab-delimited.zip\n"
     ]
    },
    {
     "name": "stderr",
     "output_type": "stream",
     "text": [
      "/usr/lib/python3/dist-packages/IPython/core/interactiveshell.py:3347: DtypeWarning: Columns (92) have mixed types.Specify dtype option on import or set low_memory=False.\n",
      "  if (await self.run_code(code, result,  async_=asy)):\n"
     ]
    },
    {
     "name": "stdout",
     "output_type": "stream",
     "text": [
      "PUDF_4Q2007_tab-delimited.zip\n",
      "PUDF_4Q2008_tab-delimited.zip\n",
      "PUDF_4Q2009_tab-delimited.zip\n"
     ]
    },
    {
     "name": "stderr",
     "output_type": "stream",
     "text": [
      "/usr/lib/python3/dist-packages/IPython/core/interactiveshell.py:3347: DtypeWarning: Columns (92) have mixed types.Specify dtype option on import or set low_memory=False.\n",
      "  if (await self.run_code(code, result,  async_=asy)):\n"
     ]
    },
    {
     "name": "stdout",
     "output_type": "stream",
     "text": [
      "100 most common [(741.0, 528541), (9955.0, 466736), (7359.0, 440002), (640.0, 347937), (7569.0, 250996), (9904.0, 219835), (3893.0, 189215), (66.0, 172663), (8154.0, 140846), (3995.0, 126284), (3722.0, 125353), (5123.0, 120288), (736.0, 120121), (4516.0, 118209), (9671.0, 87017), (9547.0, 86570), (331.0, 85763), (6849.0, 71181), (8604.0, 68497), (4701.0, 66280), (9339.0, 64725), (8622.0, 57246), (9672.0, 56231), (4513.0, 56055), (9925.0, 54508), (9983.0, 49297), (8151.0, 48518), (8102.0, 46457), (8872.0, 45504), (3950.0, 42518), (9604.0, 42182), (8108.0, 41667), (5491.0, 38986), (9390.0, 38457), (7935.0, 36911), (3491.0, 35732), (7936.0, 33553), (9929.0, 32210), (3812.0, 31917), (6859.0, 31861), (309.0, 30150), (8051.0, 29536), (8152.0, 28445), (6851.0, 26465), (4525.0, 26329), (3772.0, 25927), (7271.0, 25757), (4311.0, 25547), (6632.0, 24532), (7279.0, 24305), (4523.0, 24182), (4709.0, 24043), (387.0, 22789), (9921.0, 21956), (3612.0, 21541), (3895.0, 21251), (3613.0, 20343), (4573.0, 20247), (3324.0, 20055), (4438.0, 19980), (684.0, 19654), (7915.0, 18678), (4576.0, 18456), (5459.0, 18179), (3794.0, 18167), (8659.0, 18006), (605.0, 17775), (311.0, 17542), (5794.0, 16669), (4562.0, 16430), (734.0, 15885), (9915.0, 15772), (8628.0, 15580), (3327.0, 15195), (3929.0, 14993), (3723.0, 14967), (598.0, 14846), (7562.0, 14823), (9394.0, 14821), (4131.0, 14740), (5122.0, 14211), (6029.0, 13996), (8411.0, 13756), (9396.0, 13680), (5551.0, 13660), (9907.0, 13128), (3404.0, 12865), (4443.0, 12742), (4542.0, 12595), (9462.0, 12526), (3734.0, 12393), (6639.0, 12254), (3927.0, 12206), (7534.0, 12188), (9444.0, 12045), (51.0, 11934), (560.0, 11703), (159.0, 11512), (5361.0, 11481), (7309.0, 11268)]\n"
     ]
    }
   ],
   "source": [
    "#obtain the 100 most frequent procedures\n",
    "# if this is done first, the resulting size of the dataframe can be reduced from the start\n",
    "tmp = []\n",
    "for f in file_list:\n",
    "    print(f)\n",
    "    df = [pd.read_csv(ZipFile(path+f).open(i), sep=\"\\t\", usecols=[\"PRINC_SURG_PROC_CODE\"])\n",
    "          for i in ZipFile(path+f).namelist() if 'base' in i][0]\n",
    "    df.dropna(inplace=True)\n",
    "    #print(df)\n",
    "    tmp.extend(list(df.PRINC_SURG_PROC_CODE))\n",
    "\n",
    "counts = Counter(tmp)\n",
    "print('100 most common',counts.most_common(100))\n",
    "princ_surg_proc_keep = [k for k,v in counts.most_common(100)]"
   ]
  },
  {
   "cell_type": "code",
   "execution_count": 23,
   "id": "contained-robinson",
   "metadata": {},
   "outputs": [],
   "source": [
    "#remove unecessary variables\n",
    "del tmp, counts"
   ]
  },
  {
   "cell_type": "code",
   "execution_count": 24,
   "id": "interracial-medicare",
   "metadata": {},
   "outputs": [
    {
     "name": "stdout",
     "output_type": "stream",
     "text": [
      "/home/alba/Documents/HIC_Dundee/GRAIMAtter/data/TexasHospital/PUDF_1Q2006_tab-delimited.zip\n"
     ]
    },
    {
     "name": "stderr",
     "output_type": "stream",
     "text": [
      "/usr/lib/python3/dist-packages/IPython/core/interactiveshell.py:3347: DtypeWarning: Columns (14,15,17,24,25,26,92) have mixed types.Specify dtype option on import or set low_memory=False.\n",
      "  if (await self.run_code(code, result,  async_=asy)):\n"
     ]
    },
    {
     "name": "stdout",
     "output_type": "stream",
     "text": [
      "/home/alba/Documents/HIC_Dundee/GRAIMAtter/data/TexasHospital/PUDF_1Q2007_tab-delimited.zip\n"
     ]
    },
    {
     "name": "stderr",
     "output_type": "stream",
     "text": [
      "/usr/lib/python3/dist-packages/IPython/core/interactiveshell.py:3347: DtypeWarning: Columns (14,15,17,24,25,26) have mixed types.Specify dtype option on import or set low_memory=False.\n",
      "  if (await self.run_code(code, result,  async_=asy)):\n"
     ]
    },
    {
     "name": "stdout",
     "output_type": "stream",
     "text": [
      "/home/alba/Documents/HIC_Dundee/GRAIMAtter/data/TexasHospital/PUDF_1Q2008_tab-delimited.zip\n"
     ]
    },
    {
     "name": "stderr",
     "output_type": "stream",
     "text": [
      "/usr/lib/python3/dist-packages/IPython/core/interactiveshell.py:3347: DtypeWarning: Columns (14,15,17,24,25,26,67) have mixed types.Specify dtype option on import or set low_memory=False.\n",
      "  if (await self.run_code(code, result,  async_=asy)):\n",
      "/usr/lib/python3/dist-packages/pandas/core/missing.py:49: FutureWarning: elementwise comparison failed; returning scalar instead, but in the future will perform elementwise comparison\n",
      "  mask = arr == x\n"
     ]
    },
    {
     "name": "stdout",
     "output_type": "stream",
     "text": [
      "/home/alba/Documents/HIC_Dundee/GRAIMAtter/data/TexasHospital/PUDF_1Q2009_tab-delimited.zip\n"
     ]
    },
    {
     "name": "stderr",
     "output_type": "stream",
     "text": [
      "/usr/lib/python3/dist-packages/IPython/core/interactiveshell.py:3347: DtypeWarning: Columns (14,15,17,24,25,26,92) have mixed types.Specify dtype option on import or set low_memory=False.\n",
      "  if (await self.run_code(code, result,  async_=asy)):\n",
      "/usr/lib/python3/dist-packages/pandas/core/missing.py:49: FutureWarning: elementwise comparison failed; returning scalar instead, but in the future will perform elementwise comparison\n",
      "  mask = arr == x\n"
     ]
    },
    {
     "name": "stdout",
     "output_type": "stream",
     "text": [
      "/home/alba/Documents/HIC_Dundee/GRAIMAtter/data/TexasHospital/PUDF_2Q2006_tab-delimited.zip\n"
     ]
    },
    {
     "name": "stderr",
     "output_type": "stream",
     "text": [
      "/usr/lib/python3/dist-packages/IPython/core/interactiveshell.py:3347: DtypeWarning: Columns (14,15,17,24,25,26,67) have mixed types.Specify dtype option on import or set low_memory=False.\n",
      "  if (await self.run_code(code, result,  async_=asy)):\n"
     ]
    },
    {
     "name": "stdout",
     "output_type": "stream",
     "text": [
      "/home/alba/Documents/HIC_Dundee/GRAIMAtter/data/TexasHospital/PUDF_2Q2007_tab-delimited.zip\n"
     ]
    },
    {
     "name": "stderr",
     "output_type": "stream",
     "text": [
      "/usr/lib/python3/dist-packages/IPython/core/interactiveshell.py:3347: DtypeWarning: Columns (14,15,17,24,25,26) have mixed types.Specify dtype option on import or set low_memory=False.\n",
      "  if (await self.run_code(code, result,  async_=asy)):\n"
     ]
    },
    {
     "name": "stdout",
     "output_type": "stream",
     "text": [
      "/home/alba/Documents/HIC_Dundee/GRAIMAtter/data/TexasHospital/PUDF_2Q2008_tab-delimited.zip\n"
     ]
    },
    {
     "name": "stderr",
     "output_type": "stream",
     "text": [
      "/usr/lib/python3/dist-packages/IPython/core/interactiveshell.py:3347: DtypeWarning: Columns (14,15,17,24,25,26,67) have mixed types.Specify dtype option on import or set low_memory=False.\n",
      "  if (await self.run_code(code, result,  async_=asy)):\n",
      "/usr/lib/python3/dist-packages/pandas/core/missing.py:49: FutureWarning: elementwise comparison failed; returning scalar instead, but in the future will perform elementwise comparison\n",
      "  mask = arr == x\n"
     ]
    },
    {
     "name": "stdout",
     "output_type": "stream",
     "text": [
      "/home/alba/Documents/HIC_Dundee/GRAIMAtter/data/TexasHospital/PUDF_2Q2009_tab-delimited.zip\n"
     ]
    },
    {
     "name": "stderr",
     "output_type": "stream",
     "text": [
      "/usr/lib/python3/dist-packages/IPython/core/interactiveshell.py:3347: DtypeWarning: Columns (14,15,17,24,25,26,67) have mixed types.Specify dtype option on import or set low_memory=False.\n",
      "  if (await self.run_code(code, result,  async_=asy)):\n",
      "/usr/lib/python3/dist-packages/pandas/core/missing.py:49: FutureWarning: elementwise comparison failed; returning scalar instead, but in the future will perform elementwise comparison\n",
      "  mask = arr == x\n"
     ]
    },
    {
     "name": "stdout",
     "output_type": "stream",
     "text": [
      "/home/alba/Documents/HIC_Dundee/GRAIMAtter/data/TexasHospital/PUDF_3Q2006_tab-delimited.zip\n"
     ]
    },
    {
     "name": "stderr",
     "output_type": "stream",
     "text": [
      "/usr/lib/python3/dist-packages/IPython/core/interactiveshell.py:3347: DtypeWarning: Columns (14,15,17,24,25,26,67) have mixed types.Specify dtype option on import or set low_memory=False.\n",
      "  if (await self.run_code(code, result,  async_=asy)):\n"
     ]
    },
    {
     "name": "stdout",
     "output_type": "stream",
     "text": [
      "/home/alba/Documents/HIC_Dundee/GRAIMAtter/data/TexasHospital/PUDF_3Q2007_tab-delimited.zip\n"
     ]
    },
    {
     "name": "stderr",
     "output_type": "stream",
     "text": [
      "/usr/lib/python3/dist-packages/IPython/core/interactiveshell.py:3347: DtypeWarning: Columns (14,15,17,25,26) have mixed types.Specify dtype option on import or set low_memory=False.\n",
      "  if (await self.run_code(code, result,  async_=asy)):\n"
     ]
    },
    {
     "name": "stdout",
     "output_type": "stream",
     "text": [
      "/home/alba/Documents/HIC_Dundee/GRAIMAtter/data/TexasHospital/PUDF_3Q2008_tab-delimited.zip\n"
     ]
    },
    {
     "name": "stderr",
     "output_type": "stream",
     "text": [
      "/usr/lib/python3/dist-packages/IPython/core/interactiveshell.py:3347: DtypeWarning: Columns (14,15,17,24,25,26,67,92,167) have mixed types.Specify dtype option on import or set low_memory=False.\n",
      "  if (await self.run_code(code, result,  async_=asy)):\n",
      "/usr/lib/python3/dist-packages/pandas/core/missing.py:49: FutureWarning: elementwise comparison failed; returning scalar instead, but in the future will perform elementwise comparison\n",
      "  mask = arr == x\n"
     ]
    },
    {
     "name": "stdout",
     "output_type": "stream",
     "text": [
      "/home/alba/Documents/HIC_Dundee/GRAIMAtter/data/TexasHospital/PUDF_3Q2009_tab-delimited.zip\n"
     ]
    },
    {
     "name": "stderr",
     "output_type": "stream",
     "text": [
      "/usr/lib/python3/dist-packages/IPython/core/interactiveshell.py:3347: DtypeWarning: Columns (14,15,17,24,25,26) have mixed types.Specify dtype option on import or set low_memory=False.\n",
      "  if (await self.run_code(code, result,  async_=asy)):\n",
      "/usr/lib/python3/dist-packages/pandas/core/missing.py:49: FutureWarning: elementwise comparison failed; returning scalar instead, but in the future will perform elementwise comparison\n",
      "  mask = arr == x\n"
     ]
    },
    {
     "name": "stdout",
     "output_type": "stream",
     "text": [
      "/home/alba/Documents/HIC_Dundee/GRAIMAtter/data/TexasHospital/PUDF_4Q2006_tab-delimited.zip\n"
     ]
    },
    {
     "name": "stderr",
     "output_type": "stream",
     "text": [
      "/usr/lib/python3/dist-packages/IPython/core/interactiveshell.py:3347: DtypeWarning: Columns (14,15,17,24,25,26,92) have mixed types.Specify dtype option on import or set low_memory=False.\n",
      "  if (await self.run_code(code, result,  async_=asy)):\n",
      "/usr/lib/python3/dist-packages/pandas/core/missing.py:49: FutureWarning: elementwise comparison failed; returning scalar instead, but in the future will perform elementwise comparison\n",
      "  mask = arr == x\n"
     ]
    },
    {
     "name": "stdout",
     "output_type": "stream",
     "text": [
      "/home/alba/Documents/HIC_Dundee/GRAIMAtter/data/TexasHospital/PUDF_4Q2007_tab-delimited.zip\n"
     ]
    },
    {
     "name": "stderr",
     "output_type": "stream",
     "text": [
      "/usr/lib/python3/dist-packages/IPython/core/interactiveshell.py:3347: DtypeWarning: Columns (14,15,17,24,25,26) have mixed types.Specify dtype option on import or set low_memory=False.\n",
      "  if (await self.run_code(code, result,  async_=asy)):\n",
      "/usr/lib/python3/dist-packages/pandas/core/missing.py:49: FutureWarning: elementwise comparison failed; returning scalar instead, but in the future will perform elementwise comparison\n",
      "  mask = arr == x\n"
     ]
    },
    {
     "name": "stdout",
     "output_type": "stream",
     "text": [
      "/home/alba/Documents/HIC_Dundee/GRAIMAtter/data/TexasHospital/PUDF_4Q2008_tab-delimited.zip\n"
     ]
    },
    {
     "name": "stderr",
     "output_type": "stream",
     "text": [
      "/usr/lib/python3/dist-packages/IPython/core/interactiveshell.py:3347: DtypeWarning: Columns (14,15,17,24,25,26) have mixed types.Specify dtype option on import or set low_memory=False.\n",
      "  if (await self.run_code(code, result,  async_=asy)):\n",
      "/usr/lib/python3/dist-packages/pandas/core/missing.py:49: FutureWarning: elementwise comparison failed; returning scalar instead, but in the future will perform elementwise comparison\n",
      "  mask = arr == x\n"
     ]
    },
    {
     "name": "stdout",
     "output_type": "stream",
     "text": [
      "/home/alba/Documents/HIC_Dundee/GRAIMAtter/data/TexasHospital/PUDF_4Q2009_tab-delimited.zip\n"
     ]
    },
    {
     "name": "stderr",
     "output_type": "stream",
     "text": [
      "/usr/lib/python3/dist-packages/IPython/core/interactiveshell.py:3347: DtypeWarning: Columns (14,15,17,24,25,26,92) have mixed types.Specify dtype option on import or set low_memory=False.\n",
      "  if (await self.run_code(code, result,  async_=asy)):\n",
      "/usr/lib/python3/dist-packages/pandas/core/missing.py:49: FutureWarning: elementwise comparison failed; returning scalar instead, but in the future will perform elementwise comparison\n",
      "  mask = arr == x\n"
     ]
    },
    {
     "ename": "AttributeError",
     "evalue": "'int' object has no attribute 'isnumeric'",
     "output_type": "error",
     "traceback": [
      "\u001b[0;31m---------------------------------------------------------------------------\u001b[0m",
      "\u001b[0;31mAttributeError\u001b[0m                            Traceback (most recent call last)",
      "\u001b[0;32m<ipython-input-24-3c5bbab44753>\u001b[0m in \u001b[0;36m<module>\u001b[0;34m\u001b[0m\n\u001b[1;32m     56\u001b[0m     \u001b[0;31m#        print('not numeric', x)\u001b[0m\u001b[0;34m\u001b[0m\u001b[0;34m\u001b[0m\u001b[0;34m\u001b[0m\u001b[0m\n\u001b[1;32m     57\u001b[0m     \u001b[0mtx_data\u001b[0m \u001b[0;34m=\u001b[0m \u001b[0mpd\u001b[0m\u001b[0;34m.\u001b[0m\u001b[0mconcat\u001b[0m\u001b[0;34m(\u001b[0m\u001b[0;34m[\u001b[0m\u001b[0mtx_data\u001b[0m\u001b[0;34m,\u001b[0m \u001b[0mdf\u001b[0m\u001b[0;34m]\u001b[0m\u001b[0;34m)\u001b[0m\u001b[0;34m\u001b[0m\u001b[0;34m\u001b[0m\u001b[0m\n\u001b[0;32m---> 58\u001b[0;31m \u001b[0mtmp\u001b[0m \u001b[0;34m=\u001b[0m \u001b[0mlist\u001b[0m\u001b[0;34m(\u001b[0m\u001b[0mset\u001b[0m\u001b[0;34m(\u001b[0m\u001b[0;34m[\u001b[0m\u001b[0mx\u001b[0m \u001b[0;32mfor\u001b[0m \u001b[0mx\u001b[0m \u001b[0;32min\u001b[0m \u001b[0mtx_data\u001b[0m\u001b[0;34m.\u001b[0m\u001b[0mPRINC_DIAG_CODE\u001b[0m \u001b[0;32mif\u001b[0m \u001b[0;32mnot\u001b[0m \u001b[0mx\u001b[0m\u001b[0;34m.\u001b[0m\u001b[0misnumeric\u001b[0m\u001b[0;34m(\u001b[0m\u001b[0;34m)\u001b[0m\u001b[0;34m]\u001b[0m\u001b[0;34m)\u001b[0m\u001b[0;34m)\u001b[0m\u001b[0;34m\u001b[0m\u001b[0;34m\u001b[0m\u001b[0m\n\u001b[0m\u001b[1;32m     59\u001b[0m \u001b[0mtmp_n\u001b[0m \u001b[0;34m=\u001b[0m \u001b[0mlist\u001b[0m\u001b[0;34m(\u001b[0m\u001b[0mset\u001b[0m\u001b[0;34m(\u001b[0m\u001b[0;34m[\u001b[0m\u001b[0mint\u001b[0m\u001b[0;34m(\u001b[0m\u001b[0mx\u001b[0m\u001b[0;34m)\u001b[0m \u001b[0;32mfor\u001b[0m \u001b[0mx\u001b[0m \u001b[0;32min\u001b[0m \u001b[0mtx_data\u001b[0m\u001b[0;34m.\u001b[0m\u001b[0mPRINC_DIAG_CODE\u001b[0m \u001b[0;32mif\u001b[0m \u001b[0mx\u001b[0m\u001b[0;34m.\u001b[0m\u001b[0misnumeric\u001b[0m\u001b[0;34m(\u001b[0m\u001b[0;34m)\u001b[0m\u001b[0;34m]\u001b[0m\u001b[0;34m)\u001b[0m\u001b[0;34m)\u001b[0m\u001b[0;34m\u001b[0m\u001b[0;34m\u001b[0m\u001b[0m\n\u001b[1;32m     60\u001b[0m \u001b[0mnew\u001b[0m \u001b[0;34m=\u001b[0m \u001b[0;34m{\u001b[0m\u001b[0;34m}\u001b[0m\u001b[0;34m\u001b[0m\u001b[0;34m\u001b[0m\u001b[0m\n",
      "\u001b[0;32m<ipython-input-24-3c5bbab44753>\u001b[0m in \u001b[0;36m<listcomp>\u001b[0;34m(.0)\u001b[0m\n\u001b[1;32m     56\u001b[0m     \u001b[0;31m#        print('not numeric', x)\u001b[0m\u001b[0;34m\u001b[0m\u001b[0;34m\u001b[0m\u001b[0;34m\u001b[0m\u001b[0m\n\u001b[1;32m     57\u001b[0m     \u001b[0mtx_data\u001b[0m \u001b[0;34m=\u001b[0m \u001b[0mpd\u001b[0m\u001b[0;34m.\u001b[0m\u001b[0mconcat\u001b[0m\u001b[0;34m(\u001b[0m\u001b[0;34m[\u001b[0m\u001b[0mtx_data\u001b[0m\u001b[0;34m,\u001b[0m \u001b[0mdf\u001b[0m\u001b[0;34m]\u001b[0m\u001b[0;34m)\u001b[0m\u001b[0;34m\u001b[0m\u001b[0;34m\u001b[0m\u001b[0m\n\u001b[0;32m---> 58\u001b[0;31m \u001b[0mtmp\u001b[0m \u001b[0;34m=\u001b[0m \u001b[0mlist\u001b[0m\u001b[0;34m(\u001b[0m\u001b[0mset\u001b[0m\u001b[0;34m(\u001b[0m\u001b[0;34m[\u001b[0m\u001b[0mx\u001b[0m \u001b[0;32mfor\u001b[0m \u001b[0mx\u001b[0m \u001b[0;32min\u001b[0m \u001b[0mtx_data\u001b[0m\u001b[0;34m.\u001b[0m\u001b[0mPRINC_DIAG_CODE\u001b[0m \u001b[0;32mif\u001b[0m \u001b[0;32mnot\u001b[0m \u001b[0mx\u001b[0m\u001b[0;34m.\u001b[0m\u001b[0misnumeric\u001b[0m\u001b[0;34m(\u001b[0m\u001b[0;34m)\u001b[0m\u001b[0;34m]\u001b[0m\u001b[0;34m)\u001b[0m\u001b[0;34m)\u001b[0m\u001b[0;34m\u001b[0m\u001b[0;34m\u001b[0m\u001b[0m\n\u001b[0m\u001b[1;32m     59\u001b[0m \u001b[0mtmp_n\u001b[0m \u001b[0;34m=\u001b[0m \u001b[0mlist\u001b[0m\u001b[0;34m(\u001b[0m\u001b[0mset\u001b[0m\u001b[0;34m(\u001b[0m\u001b[0;34m[\u001b[0m\u001b[0mint\u001b[0m\u001b[0;34m(\u001b[0m\u001b[0mx\u001b[0m\u001b[0;34m)\u001b[0m \u001b[0;32mfor\u001b[0m \u001b[0mx\u001b[0m \u001b[0;32min\u001b[0m \u001b[0mtx_data\u001b[0m\u001b[0;34m.\u001b[0m\u001b[0mPRINC_DIAG_CODE\u001b[0m \u001b[0;32mif\u001b[0m \u001b[0mx\u001b[0m\u001b[0;34m.\u001b[0m\u001b[0misnumeric\u001b[0m\u001b[0;34m(\u001b[0m\u001b[0;34m)\u001b[0m\u001b[0;34m]\u001b[0m\u001b[0;34m)\u001b[0m\u001b[0;34m)\u001b[0m\u001b[0;34m\u001b[0m\u001b[0;34m\u001b[0m\u001b[0m\n\u001b[1;32m     60\u001b[0m \u001b[0mnew\u001b[0m \u001b[0;34m=\u001b[0m \u001b[0;34m{\u001b[0m\u001b[0;34m}\u001b[0m\u001b[0;34m\u001b[0m\u001b[0;34m\u001b[0m\u001b[0m\n",
      "\u001b[0;31mAttributeError\u001b[0m: 'int' object has no attribute 'isnumeric'"
     ]
    }
   ],
   "source": [
    "#Load the data    \n",
    "tx_data = pd.DataFrame()\n",
    "for f in file_list:\n",
    "    print(path+f)\n",
    "    ecode = {}\n",
    "    discharge = {}\n",
    "    source_ad = {}\n",
    "    df = [pd.read_csv(ZipFile(path+f).open(i), sep=\"\\t\", usecols=columns_names)\n",
    "          for i in ZipFile(path+f).namelist() if 'base' in i][0]\n",
    "    #keep only those rows with one of the 100 most common principal surgical procedure\n",
    "    df = df[df[\"PRINC_SURG_PROC_CODE\"].isin(princ_surg_proc_keep)]\n",
    "    #print(df.types)\n",
    "    df.dropna(inplace=True)\n",
    "    #df.replace('Q', 0, inplace=True)\n",
    "    df.replace('`', pd.NA, inplace=True)\n",
    "    df.replace('*', pd.NA, inplace=True)\n",
    "    #df.replace('U', pd.NA, inplace=True)\n",
    "    df.SEX_CODE.replace('M',0,inplace=True)\n",
    "    df.SEX_CODE.replace('F',1,inplace=True)\n",
    "    df.SEX_CODE.replace('U',2,inplace=True)\n",
    "    max_code = len(ecode)\n",
    "    for x,code in enumerate(set(list(df.E_CODE_1))):\n",
    "        if code not in ecode:\n",
    "            ecode[code] = x+max_code \n",
    "    \n",
    "    \n",
    "    [df.E_CODE_1.replace(code,new_code,inplace=True) for code, new_code in ecode.items()] \n",
    "    #for x,d_code in enumerate(set(list(df.DISCHARGE_QTR))):\n",
    "\n",
    "    [df.DISCHARGE_QTR.replace(d_code,''.join(d_code.split('Q')),inplace=True) for d_code in set(list(df.DISCHARGE_QTR))]\n",
    "        #if d_code not in discharge:\n",
    "        #    discharge[d_code] = x+max_discharge \n",
    "    #[df.DISCHARGE_QTR.replace(d_code,new_code,inplace=True) for d_code, new_code in discharge.items()] \n",
    "    \n",
    "    max_source_ad = len(source_ad)\n",
    "    for x,code in enumerate(set(list(df.SOURCE_OF_ADMISSION))):\n",
    "        if code not in ecode:\n",
    "            source_ad[code] = x+max_source_ad\n",
    "    [df.SOURCE_OF_ADMISSION.replace(code,new_code,inplace=True) for code, new_code in source_ad.items()] \n",
    "    \n",
    "    df.dropna(inplace=True)\n",
    "    #print(set(list(df.PRINC_DIAG_CODE)))\n",
    "    #print('change astype')\n",
    "    #df = df.astype({\"PRINC_DIAG_CODE\": int},errors='ignore')\n",
    "    #print(set(list(df.PRINC_DIAG_CODE)))\n",
    "                 #'E_CODE_1', #external cause of injury\n",
    "                 #'PRINC_SURG_PROC_CODE', #Code for the principal surgical or other procedure performed during the period covered by the bill           \n",
    "                 #'RISK_MORTALITY', #Assignment of a risk of mortality score from the All Patient Refined (APR) Diagnosis Related Group (DRG) \n",
    "                 #'ILLNESS_SEVERITY',#Assignment of a severity of illness score from the All Patient Refined (APR) Diagnosis RelatedGroup (DRG\n",
    "                 #'RECORD_ID')\n",
    "    #df.PAT_STATUS.astype(int)#to_numeric()\n",
    "    #df = df.astype(int)#to_numeric()\n",
    "    #print(set(list(df.TYPE_OF_ADMISSION)))\n",
    "    #for x in set(list(df.RECORD_ID)):\n",
    "    #    if not x.isnumeric():\n",
    "    #        print('not numeric', x)\n",
    "    tx_data = pd.concat([tx_data, df])\n",
    "tmp = list(set([x for x in tx_data.PRINC_DIAG_CODE if not x.isnumeric()]))\n",
    "tmp_n = list(set([int(x) for x in tx_data.PRINC_DIAG_CODE if x.isnumeric()]))\n",
    "new = {}\n",
    "for x in tmp:#df.PRINC_DIAG_CODE:\n",
    "    if int(x[1:]) not in tmp_n:\n",
    "        new[x] = int(x[1:])\n",
    "        tmp_n.append(int(x[1:]))\n",
    "    else:\n",
    "        new[x] = int(str(999)+x[1:]) \n",
    "        tmp_n.append(int(str(999)+x[1:]))\n"
   ]
  },
  {
   "cell_type": "code",
   "execution_count": 25,
   "id": "dental-lingerie",
   "metadata": {},
   "outputs": [
    {
     "data": {
      "text/html": [
       "<div>\n",
       "<style scoped>\n",
       "    .dataframe tbody tr th:only-of-type {\n",
       "        vertical-align: middle;\n",
       "    }\n",
       "\n",
       "    .dataframe tbody tr th {\n",
       "        vertical-align: top;\n",
       "    }\n",
       "\n",
       "    .dataframe thead th {\n",
       "        text-align: right;\n",
       "    }\n",
       "</style>\n",
       "<table border=\"1\" class=\"dataframe\">\n",
       "  <thead>\n",
       "    <tr style=\"text-align: right;\">\n",
       "      <th></th>\n",
       "      <th>DISCHARGE_QTR</th>\n",
       "      <th>THCIC_ID</th>\n",
       "      <th>SEX_CODE</th>\n",
       "      <th>TYPE_OF_ADMISSION</th>\n",
       "      <th>SOURCE_OF_ADMISSION</th>\n",
       "      <th>PAT_ZIP</th>\n",
       "      <th>PUBLIC_HEALTH_REGION</th>\n",
       "      <th>LENGTH_OF_STAY</th>\n",
       "      <th>PAT_AGE</th>\n",
       "      <th>PAT_STATUS</th>\n",
       "      <th>RACE</th>\n",
       "      <th>ETHNICITY</th>\n",
       "      <th>PRINC_DIAG_CODE</th>\n",
       "      <th>PRINC_SURG_PROC_CODE</th>\n",
       "      <th>E_CODE_1</th>\n",
       "      <th>RISK_MORTALITY</th>\n",
       "      <th>ILLNESS_SEVERITY</th>\n",
       "      <th>RECORD_ID</th>\n",
       "    </tr>\n",
       "  </thead>\n",
       "  <tbody>\n",
       "    <tr>\n",
       "      <th>1339</th>\n",
       "      <td>20061</td>\n",
       "      <td>102</td>\n",
       "      <td>0</td>\n",
       "      <td>5</td>\n",
       "      <td>7</td>\n",
       "      <td>77081</td>\n",
       "      <td>6.0</td>\n",
       "      <td>31.0</td>\n",
       "      <td>7</td>\n",
       "      <td>1</td>\n",
       "      <td>4</td>\n",
       "      <td>1</td>\n",
       "      <td>8505</td>\n",
       "      <td>387.0</td>\n",
       "      <td>207</td>\n",
       "      <td>1</td>\n",
       "      <td>3</td>\n",
       "      <td>120060010757</td>\n",
       "    </tr>\n",
       "    <tr>\n",
       "      <th>1341</th>\n",
       "      <td>20061</td>\n",
       "      <td>102</td>\n",
       "      <td>0</td>\n",
       "      <td>5</td>\n",
       "      <td>7</td>\n",
       "      <td>77563</td>\n",
       "      <td>6.0</td>\n",
       "      <td>7.0</td>\n",
       "      <td>10</td>\n",
       "      <td>7</td>\n",
       "      <td>4</td>\n",
       "      <td>2</td>\n",
       "      <td>80326</td>\n",
       "      <td>387.0</td>\n",
       "      <td>435</td>\n",
       "      <td>1</td>\n",
       "      <td>3</td>\n",
       "      <td>120060010804</td>\n",
       "    </tr>\n",
       "    <tr>\n",
       "      <th>1584</th>\n",
       "      <td>20061</td>\n",
       "      <td>102</td>\n",
       "      <td>0</td>\n",
       "      <td>1</td>\n",
       "      <td>7</td>\n",
       "      <td>77590</td>\n",
       "      <td>6.0</td>\n",
       "      <td>3.0</td>\n",
       "      <td>15</td>\n",
       "      <td>1</td>\n",
       "      <td>3</td>\n",
       "      <td>2</td>\n",
       "      <td>85186</td>\n",
       "      <td>3893.0</td>\n",
       "      <td>267</td>\n",
       "      <td>2</td>\n",
       "      <td>1</td>\n",
       "      <td>120060010381</td>\n",
       "    </tr>\n",
       "    <tr>\n",
       "      <th>1589</th>\n",
       "      <td>20061</td>\n",
       "      <td>102</td>\n",
       "      <td>0</td>\n",
       "      <td>5</td>\n",
       "      <td>7</td>\n",
       "      <td>77565</td>\n",
       "      <td>6.0</td>\n",
       "      <td>21.0</td>\n",
       "      <td>7</td>\n",
       "      <td>1</td>\n",
       "      <td>4</td>\n",
       "      <td>2</td>\n",
       "      <td>80126</td>\n",
       "      <td>9921.0</td>\n",
       "      <td>406</td>\n",
       "      <td>1</td>\n",
       "      <td>3</td>\n",
       "      <td>120060010710</td>\n",
       "    </tr>\n",
       "    <tr>\n",
       "      <th>1595</th>\n",
       "      <td>20061</td>\n",
       "      <td>102</td>\n",
       "      <td>0</td>\n",
       "      <td>3</td>\n",
       "      <td>1</td>\n",
       "      <td>77340</td>\n",
       "      <td>6.0</td>\n",
       "      <td>20.0</td>\n",
       "      <td>14</td>\n",
       "      <td>1</td>\n",
       "      <td>4</td>\n",
       "      <td>2</td>\n",
       "      <td>85210</td>\n",
       "      <td>9604.0</td>\n",
       "      <td>267</td>\n",
       "      <td>4</td>\n",
       "      <td>4</td>\n",
       "      <td>120060001343</td>\n",
       "    </tr>\n",
       "    <tr>\n",
       "      <th>...</th>\n",
       "      <td>...</td>\n",
       "      <td>...</td>\n",
       "      <td>...</td>\n",
       "      <td>...</td>\n",
       "      <td>...</td>\n",
       "      <td>...</td>\n",
       "      <td>...</td>\n",
       "      <td>...</td>\n",
       "      <td>...</td>\n",
       "      <td>...</td>\n",
       "      <td>...</td>\n",
       "      <td>...</td>\n",
       "      <td>...</td>\n",
       "      <td>...</td>\n",
       "      <td>...</td>\n",
       "      <td>...</td>\n",
       "      <td>...</td>\n",
       "      <td>...</td>\n",
       "    </tr>\n",
       "    <tr>\n",
       "      <th>739729</th>\n",
       "      <td>20094</td>\n",
       "      <td>923000</td>\n",
       "      <td>1</td>\n",
       "      <td>3</td>\n",
       "      <td>1</td>\n",
       "      <td>77378</td>\n",
       "      <td>6.0</td>\n",
       "      <td>4.0</td>\n",
       "      <td>20</td>\n",
       "      <td>62</td>\n",
       "      <td>4</td>\n",
       "      <td>2</td>\n",
       "      <td>72210</td>\n",
       "      <td>8051.0</td>\n",
       "      <td>207</td>\n",
       "      <td>3</td>\n",
       "      <td>3</td>\n",
       "      <td>420090727720</td>\n",
       "    </tr>\n",
       "    <tr>\n",
       "      <th>739753</th>\n",
       "      <td>20094</td>\n",
       "      <td>923000</td>\n",
       "      <td>1</td>\n",
       "      <td>2</td>\n",
       "      <td>7</td>\n",
       "      <td>77355</td>\n",
       "      <td>6.0</td>\n",
       "      <td>3.0</td>\n",
       "      <td>9</td>\n",
       "      <td>01</td>\n",
       "      <td>4</td>\n",
       "      <td>2</td>\n",
       "      <td>82382</td>\n",
       "      <td>7936.0</td>\n",
       "      <td>459</td>\n",
       "      <td>1</td>\n",
       "      <td>1</td>\n",
       "      <td>420090727813</td>\n",
       "    </tr>\n",
       "    <tr>\n",
       "      <th>739754</th>\n",
       "      <td>20094</td>\n",
       "      <td>923000</td>\n",
       "      <td>0</td>\n",
       "      <td>3</td>\n",
       "      <td>1</td>\n",
       "      <td>77378</td>\n",
       "      <td>6.0</td>\n",
       "      <td>1.0</td>\n",
       "      <td>17</td>\n",
       "      <td>01</td>\n",
       "      <td>4</td>\n",
       "      <td>2</td>\n",
       "      <td>82382</td>\n",
       "      <td>7936.0</td>\n",
       "      <td>400</td>\n",
       "      <td>1</td>\n",
       "      <td>1</td>\n",
       "      <td>420090727748</td>\n",
       "    </tr>\n",
       "    <tr>\n",
       "      <th>739756</th>\n",
       "      <td>20094</td>\n",
       "      <td>923000</td>\n",
       "      <td>0</td>\n",
       "      <td>3</td>\n",
       "      <td>1</td>\n",
       "      <td>77388</td>\n",
       "      <td>6.0</td>\n",
       "      <td>2.0</td>\n",
       "      <td>9</td>\n",
       "      <td>01</td>\n",
       "      <td>4</td>\n",
       "      <td>2</td>\n",
       "      <td>82300</td>\n",
       "      <td>7936.0</td>\n",
       "      <td>357</td>\n",
       "      <td>1</td>\n",
       "      <td>2</td>\n",
       "      <td>420090727766</td>\n",
       "    </tr>\n",
       "    <tr>\n",
       "      <th>739761</th>\n",
       "      <td>20094</td>\n",
       "      <td>923000</td>\n",
       "      <td>1</td>\n",
       "      <td>3</td>\n",
       "      <td>1</td>\n",
       "      <td>77382</td>\n",
       "      <td>6.0</td>\n",
       "      <td>1.0</td>\n",
       "      <td>13</td>\n",
       "      <td>01</td>\n",
       "      <td>4</td>\n",
       "      <td>2</td>\n",
       "      <td>99859</td>\n",
       "      <td>8622.0</td>\n",
       "      <td>106</td>\n",
       "      <td>1</td>\n",
       "      <td>1</td>\n",
       "      <td>420090727833</td>\n",
       "    </tr>\n",
       "  </tbody>\n",
       "</table>\n",
       "<p>467357 rows × 18 columns</p>\n",
       "</div>"
      ],
      "text/plain": [
       "       DISCHARGE_QTR  THCIC_ID  SEX_CODE TYPE_OF_ADMISSION  \\\n",
       "1339           20061       102         0                 5   \n",
       "1341           20061       102         0                 5   \n",
       "1584           20061       102         0                 1   \n",
       "1589           20061       102         0                 5   \n",
       "1595           20061       102         0                 3   \n",
       "...              ...       ...       ...               ...   \n",
       "739729         20094    923000         1                 3   \n",
       "739753         20094    923000         1                 2   \n",
       "739754         20094    923000         0                 3   \n",
       "739756         20094    923000         0                 3   \n",
       "739761         20094    923000         1                 3   \n",
       "\n",
       "       SOURCE_OF_ADMISSION PAT_ZIP  PUBLIC_HEALTH_REGION  LENGTH_OF_STAY  \\\n",
       "1339                     7   77081                   6.0            31.0   \n",
       "1341                     7   77563                   6.0             7.0   \n",
       "1584                     7   77590                   6.0             3.0   \n",
       "1589                     7   77565                   6.0            21.0   \n",
       "1595                     1   77340                   6.0            20.0   \n",
       "...                    ...     ...                   ...             ...   \n",
       "739729                   1   77378                   6.0             4.0   \n",
       "739753                   7   77355                   6.0             3.0   \n",
       "739754                   1   77378                   6.0             1.0   \n",
       "739756                   1   77388                   6.0             2.0   \n",
       "739761                   1   77382                   6.0             1.0   \n",
       "\n",
       "        PAT_AGE PAT_STATUS RACE ETHNICITY PRINC_DIAG_CODE  \\\n",
       "1339          7          1    4         1            8505   \n",
       "1341         10          7    4         2           80326   \n",
       "1584         15          1    3         2           85186   \n",
       "1589          7          1    4         2           80126   \n",
       "1595         14          1    4         2           85210   \n",
       "...         ...        ...  ...       ...             ...   \n",
       "739729       20         62    4         2           72210   \n",
       "739753        9         01    4         2           82382   \n",
       "739754       17         01    4         2           82382   \n",
       "739756        9         01    4         2           82300   \n",
       "739761       13         01    4         2           99859   \n",
       "\n",
       "        PRINC_SURG_PROC_CODE  E_CODE_1  RISK_MORTALITY  ILLNESS_SEVERITY  \\\n",
       "1339                   387.0       207               1                 3   \n",
       "1341                   387.0       435               1                 3   \n",
       "1584                  3893.0       267               2                 1   \n",
       "1589                  9921.0       406               1                 3   \n",
       "1595                  9604.0       267               4                 4   \n",
       "...                      ...       ...             ...               ...   \n",
       "739729                8051.0       207               3                 3   \n",
       "739753                7936.0       459               1                 1   \n",
       "739754                7936.0       400               1                 1   \n",
       "739756                7936.0       357               1                 2   \n",
       "739761                8622.0       106               1                 1   \n",
       "\n",
       "           RECORD_ID  \n",
       "1339    120060010757  \n",
       "1341    120060010804  \n",
       "1584    120060010381  \n",
       "1589    120060010710  \n",
       "1595    120060001343  \n",
       "...              ...  \n",
       "739729  420090727720  \n",
       "739753  420090727813  \n",
       "739754  420090727748  \n",
       "739756  420090727766  \n",
       "739761  420090727833  \n",
       "\n",
       "[467357 rows x 18 columns]"
      ]
     },
     "execution_count": 25,
     "metadata": {},
     "output_type": "execute_result"
    }
   ],
   "source": [
    "tx_data"
   ]
  },
  {
   "cell_type": "code",
   "execution_count": 26,
   "id": "directed-terror",
   "metadata": {},
   "outputs": [
    {
     "ename": "AttributeError",
     "evalue": "'int' object has no attribute 'isnumeric'",
     "output_type": "error",
     "traceback": [
      "\u001b[0;31m---------------------------------------------------------------------------\u001b[0m",
      "\u001b[0;31mAttributeError\u001b[0m                            Traceback (most recent call last)",
      "\u001b[0;32m<ipython-input-26-0b26d21aa3ff>\u001b[0m in \u001b[0;36m<module>\u001b[0;34m\u001b[0m\n\u001b[0;32m----> 1\u001b[0;31m \u001b[0mtmp\u001b[0m \u001b[0;34m=\u001b[0m \u001b[0mlist\u001b[0m\u001b[0;34m(\u001b[0m\u001b[0mset\u001b[0m\u001b[0;34m(\u001b[0m\u001b[0;34m[\u001b[0m\u001b[0mx\u001b[0m \u001b[0;32mfor\u001b[0m \u001b[0mx\u001b[0m \u001b[0;32min\u001b[0m \u001b[0mtx_data\u001b[0m\u001b[0;34m.\u001b[0m\u001b[0mPRINC_DIAG_CODE\u001b[0m \u001b[0;32mif\u001b[0m \u001b[0;32mnot\u001b[0m \u001b[0mx\u001b[0m\u001b[0;34m.\u001b[0m\u001b[0misnumeric\u001b[0m\u001b[0;34m(\u001b[0m\u001b[0;34m)\u001b[0m\u001b[0;34m]\u001b[0m\u001b[0;34m)\u001b[0m\u001b[0;34m)\u001b[0m\u001b[0;34m\u001b[0m\u001b[0;34m\u001b[0m\u001b[0m\n\u001b[0m\u001b[1;32m      2\u001b[0m \u001b[0mtmp_n\u001b[0m \u001b[0;34m=\u001b[0m \u001b[0mlist\u001b[0m\u001b[0;34m(\u001b[0m\u001b[0mset\u001b[0m\u001b[0;34m(\u001b[0m\u001b[0;34m[\u001b[0m\u001b[0mint\u001b[0m\u001b[0;34m(\u001b[0m\u001b[0mx\u001b[0m\u001b[0;34m)\u001b[0m \u001b[0;32mfor\u001b[0m \u001b[0mx\u001b[0m \u001b[0;32min\u001b[0m \u001b[0mtx_data\u001b[0m\u001b[0;34m.\u001b[0m\u001b[0mPRINC_DIAG_CODE\u001b[0m \u001b[0;32mif\u001b[0m \u001b[0mx\u001b[0m\u001b[0;34m.\u001b[0m\u001b[0misnumeric\u001b[0m\u001b[0;34m(\u001b[0m\u001b[0;34m)\u001b[0m\u001b[0;34m]\u001b[0m\u001b[0;34m)\u001b[0m\u001b[0;34m)\u001b[0m\u001b[0;34m\u001b[0m\u001b[0;34m\u001b[0m\u001b[0m\n\u001b[1;32m      3\u001b[0m \u001b[0mnew\u001b[0m \u001b[0;34m=\u001b[0m \u001b[0;34m{\u001b[0m\u001b[0;34m}\u001b[0m\u001b[0;34m\u001b[0m\u001b[0;34m\u001b[0m\u001b[0m\n\u001b[1;32m      4\u001b[0m \u001b[0;32mfor\u001b[0m \u001b[0mx\u001b[0m \u001b[0;32min\u001b[0m \u001b[0mtmp\u001b[0m\u001b[0;34m:\u001b[0m\u001b[0;31m#df.PRINC_DIAG_CODE:\u001b[0m\u001b[0;34m\u001b[0m\u001b[0;34m\u001b[0m\u001b[0m\n\u001b[1;32m      5\u001b[0m     \u001b[0;32mif\u001b[0m \u001b[0mint\u001b[0m\u001b[0;34m(\u001b[0m\u001b[0mx\u001b[0m\u001b[0;34m[\u001b[0m\u001b[0;36m1\u001b[0m\u001b[0;34m:\u001b[0m\u001b[0;34m]\u001b[0m\u001b[0;34m)\u001b[0m \u001b[0;32mnot\u001b[0m \u001b[0;32min\u001b[0m \u001b[0mtmp_n\u001b[0m\u001b[0;34m:\u001b[0m\u001b[0;34m\u001b[0m\u001b[0;34m\u001b[0m\u001b[0m\n",
      "\u001b[0;32m<ipython-input-26-0b26d21aa3ff>\u001b[0m in \u001b[0;36m<listcomp>\u001b[0;34m(.0)\u001b[0m\n\u001b[0;32m----> 1\u001b[0;31m \u001b[0mtmp\u001b[0m \u001b[0;34m=\u001b[0m \u001b[0mlist\u001b[0m\u001b[0;34m(\u001b[0m\u001b[0mset\u001b[0m\u001b[0;34m(\u001b[0m\u001b[0;34m[\u001b[0m\u001b[0mx\u001b[0m \u001b[0;32mfor\u001b[0m \u001b[0mx\u001b[0m \u001b[0;32min\u001b[0m \u001b[0mtx_data\u001b[0m\u001b[0;34m.\u001b[0m\u001b[0mPRINC_DIAG_CODE\u001b[0m \u001b[0;32mif\u001b[0m \u001b[0;32mnot\u001b[0m \u001b[0mx\u001b[0m\u001b[0;34m.\u001b[0m\u001b[0misnumeric\u001b[0m\u001b[0;34m(\u001b[0m\u001b[0;34m)\u001b[0m\u001b[0;34m]\u001b[0m\u001b[0;34m)\u001b[0m\u001b[0;34m)\u001b[0m\u001b[0;34m\u001b[0m\u001b[0;34m\u001b[0m\u001b[0m\n\u001b[0m\u001b[1;32m      2\u001b[0m \u001b[0mtmp_n\u001b[0m \u001b[0;34m=\u001b[0m \u001b[0mlist\u001b[0m\u001b[0;34m(\u001b[0m\u001b[0mset\u001b[0m\u001b[0;34m(\u001b[0m\u001b[0;34m[\u001b[0m\u001b[0mint\u001b[0m\u001b[0;34m(\u001b[0m\u001b[0mx\u001b[0m\u001b[0;34m)\u001b[0m \u001b[0;32mfor\u001b[0m \u001b[0mx\u001b[0m \u001b[0;32min\u001b[0m \u001b[0mtx_data\u001b[0m\u001b[0;34m.\u001b[0m\u001b[0mPRINC_DIAG_CODE\u001b[0m \u001b[0;32mif\u001b[0m \u001b[0mx\u001b[0m\u001b[0;34m.\u001b[0m\u001b[0misnumeric\u001b[0m\u001b[0;34m(\u001b[0m\u001b[0;34m)\u001b[0m\u001b[0;34m]\u001b[0m\u001b[0;34m)\u001b[0m\u001b[0;34m)\u001b[0m\u001b[0;34m\u001b[0m\u001b[0;34m\u001b[0m\u001b[0m\n\u001b[1;32m      3\u001b[0m \u001b[0mnew\u001b[0m \u001b[0;34m=\u001b[0m \u001b[0;34m{\u001b[0m\u001b[0;34m}\u001b[0m\u001b[0;34m\u001b[0m\u001b[0;34m\u001b[0m\u001b[0m\n\u001b[1;32m      4\u001b[0m \u001b[0;32mfor\u001b[0m \u001b[0mx\u001b[0m \u001b[0;32min\u001b[0m \u001b[0mtmp\u001b[0m\u001b[0;34m:\u001b[0m\u001b[0;31m#df.PRINC_DIAG_CODE:\u001b[0m\u001b[0;34m\u001b[0m\u001b[0;34m\u001b[0m\u001b[0m\n\u001b[1;32m      5\u001b[0m     \u001b[0;32mif\u001b[0m \u001b[0mint\u001b[0m\u001b[0;34m(\u001b[0m\u001b[0mx\u001b[0m\u001b[0;34m[\u001b[0m\u001b[0;36m1\u001b[0m\u001b[0;34m:\u001b[0m\u001b[0;34m]\u001b[0m\u001b[0;34m)\u001b[0m \u001b[0;32mnot\u001b[0m \u001b[0;32min\u001b[0m \u001b[0mtmp_n\u001b[0m\u001b[0;34m:\u001b[0m\u001b[0;34m\u001b[0m\u001b[0;34m\u001b[0m\u001b[0m\n",
      "\u001b[0;31mAttributeError\u001b[0m: 'int' object has no attribute 'isnumeric'"
     ]
    }
   ],
   "source": [
    "tmp = list(set([x for x in tx_data.PRINC_DIAG_CODE if not x.isnumeric()]))\n",
    "tmp_n = list(set([int(x) for x in tx_data.PRINC_DIAG_CODE if x.isnumeric()]))\n",
    "new = {}\n",
    "for x in tmp:#df.PRINC_DIAG_CODE:\n",
    "    if int(x[1:]) not in tmp_n:\n",
    "        new[x] = int(x[1:])\n",
    "        tmp_n.append(int(x[1:]))\n",
    "    else:\n",
    "        new[x] = int(str(999)+x[1:]) \n",
    "        tmp_n.append(int(str(999)+x[1:]))"
   ]
  },
  {
   "cell_type": "code",
   "execution_count": null,
   "id": "coordinate-prophet",
   "metadata": {},
   "outputs": [],
   "source": [
    "df.to_json('../../texas_data.json')"
   ]
  },
  {
   "cell_type": "code",
   "execution_count": null,
   "id": "romance-allah",
   "metadata": {},
   "outputs": [],
   "source": []
  }
 ],
 "metadata": {
  "kernelspec": {
   "display_name": "Python 3",
   "language": "python",
   "name": "python3"
  },
  "language_info": {
   "codemirror_mode": {
    "name": "ipython",
    "version": 3
   },
   "file_extension": ".py",
   "mimetype": "text/x-python",
   "name": "python",
   "nbconvert_exporter": "python",
   "pygments_lexer": "ipython3",
   "version": "3.9.2"
  }
 },
 "nbformat": 4,
 "nbformat_minor": 5
}
