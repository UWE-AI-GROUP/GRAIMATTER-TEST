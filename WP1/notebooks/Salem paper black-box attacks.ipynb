{
 "cells": [
  {
   "cell_type": "markdown",
   "metadata": {},
   "source": [
    "# Salem paper attacks\n",
    "\n",
    "This notebook showcases the three different scenarios presented in Salem *et al.* [ML-Leaks: Model and Data Independent Membership Inference Attacks and Defenses on Machine Learning Models](https://arxiv.org/abs/1806.01246).\n",
    "\n",
    "In summary the three presented adversaries are as follows:\n",
    "1. The attacker has access to a dataset drawn from the same distribution as the target data, and uses it to train a single shadow model that infers the membership information.\n",
    "2. The attacker uses a dataset from a different distribution than the target data to do the same as Adv 1.\n",
    "3. The attacker queries the target model and chooses a threshold on the classification probability to determine membership, no shadow models required."
   ]
  },
  {
   "cell_type": "code",
   "execution_count": 1,
   "metadata": {},
   "outputs": [],
   "source": [
    "import numpy as np\n",
    "import matplotlib.pyplot as plt\n",
    "\n",
    "%matplotlib inline\n",
    "\n",
    "# Scikit-learn utils\n",
    "from sklearn.model_selection import train_test_split\n",
    "from sklearn.datasets import make_classification, make_moons\n",
    "from sklearn.metrics import ConfusionMatrixDisplay\n",
    "from sklearn.metrics import confusion_matrix, classification_report, roc_curve, auc\n",
    "\n",
    "# Tensorflow imports\n",
    "import tensorflow as tf\n",
    "from tensorflow.keras.models import Model\n",
    "from tensorflow.keras.layers import Input, Dense, Dropout\n",
    "\n",
    "# Classifiers for attack models\n",
    "from sklearn.linear_model import LogisticRegression\n",
    "from sklearn.neural_network import MLPClassifier"
   ]
  },
  {
   "cell_type": "markdown",
   "metadata": {},
   "source": [
    "### Definition of the datasets\n",
    "1. We draw data points from a distribution.\n",
    "2. We split these data points into the target dataset and a shadow dataset drawn from the same distribution.\n",
    "3. We also draw a dataset from a different distribution.\n",
    "\n",
    "**NOTE**. ***I make datasets with few samples but with many features to force the target model to overfit.***"
   ]
  },
  {
   "cell_type": "code",
   "execution_count": 2,
   "metadata": {},
   "outputs": [],
   "source": [
    "n_classes = 2\n",
    "\n",
    "# (X,y): Original distribution\n",
    "X, y = make_classification(n_samples=10000,\n",
    "                           n_classes=n_classes, \n",
    "                           n_features=300,\n",
    "                           n_informative=300,\n",
    "                           n_redundant=0,\n",
    "                           n_repeated=0,\n",
    "                           random_state=15\n",
    "                          )\n",
    "# One-hot encoding of the label\n",
    "y = np.eye(n_classes)[y]\n",
    "\n",
    "# (Xt, yt) is the target dataset, owned by the TRE and drawn from the (X,y) distribution\n",
    "# (Xs, ys) is a shadow dataset drawn from the (X,y) distribution\n",
    "Xt, Xs, yt, ys = train_test_split(X, y, test_size=0.50, random_state=15)\n",
    "\n",
    "# (Xd, yd) is a shadow dataset, drawn from a different distribution (different seed)\n",
    "Xd, yd = make_classification(n_samples=10000,\n",
    "                           n_classes=n_classes, \n",
    "                           n_features=300,\n",
    "                           n_informative=300,\n",
    "                           n_redundant=0,\n",
    "                           n_repeated=0,\n",
    "                           random_state=42\n",
    "                          )\n",
    "yd = np.eye(n_classes)[yd]"
   ]
  },
  {
   "cell_type": "markdown",
   "metadata": {},
   "source": [
    "### Train the target model\n",
    "\n",
    "*Again, I'm using a rather big model (for the classification task) to favour overfitting.*"
   ]
  },
  {
   "cell_type": "code",
   "execution_count": 3,
   "metadata": {},
   "outputs": [
    {
     "name": "stdout",
     "output_type": "stream",
     "text": [
      "Epoch 1/10\n",
      "79/79 [==============================] - 1s 5ms/step - loss: 1.1512 - accuracy: 0.6192 - val_loss: 0.6343 - val_accuracy: 0.7152\n",
      "Epoch 2/10\n",
      "79/79 [==============================] - 0s 4ms/step - loss: 0.1807 - accuracy: 0.9392 - val_loss: 0.5742 - val_accuracy: 0.7660\n",
      "Epoch 3/10\n",
      "79/79 [==============================] - 0s 4ms/step - loss: 0.0441 - accuracy: 0.9952 - val_loss: 0.5521 - val_accuracy: 0.7920\n",
      "Epoch 4/10\n",
      "79/79 [==============================] - 0s 4ms/step - loss: 0.0154 - accuracy: 1.0000 - val_loss: 0.5537 - val_accuracy: 0.8056\n",
      "Epoch 5/10\n",
      "79/79 [==============================] - 0s 4ms/step - loss: 0.0082 - accuracy: 1.0000 - val_loss: 0.5656 - val_accuracy: 0.8084\n",
      "Epoch 6/10\n",
      "79/79 [==============================] - 0s 4ms/step - loss: 0.0055 - accuracy: 1.0000 - val_loss: 0.5736 - val_accuracy: 0.8096\n",
      "Epoch 7/10\n",
      "79/79 [==============================] - 0s 4ms/step - loss: 0.0041 - accuracy: 1.0000 - val_loss: 0.5772 - val_accuracy: 0.8164\n",
      "Epoch 8/10\n",
      "79/79 [==============================] - 0s 4ms/step - loss: 0.0030 - accuracy: 1.0000 - val_loss: 0.5837 - val_accuracy: 0.8196\n",
      "Epoch 9/10\n",
      "79/79 [==============================] - 0s 4ms/step - loss: 0.0023 - accuracy: 1.0000 - val_loss: 0.5898 - val_accuracy: 0.8200\n",
      "Epoch 10/10\n",
      "79/79 [==============================] - 0s 4ms/step - loss: 0.0019 - accuracy: 1.0000 - val_loss: 0.5951 - val_accuracy: 0.8200\n"
     ]
    }
   ],
   "source": [
    "# Split into train (member) and test (non-member) datasets\n",
    "# Set shuffle to False so that Xt_membership is consistent with Xt, otherwise\n",
    "# we need to stack Xt_member and Xt_nonmember again to get a consistent Xt.\n",
    "Xt_member, Xt_nonmember, yt_member, yt_nonmember = train_test_split(Xt, yt, test_size=0.5, shuffle=False)\n",
    "\n",
    "# Set membership status for future tests\n",
    "Xt_membership = np.vstack(\n",
    "    (\n",
    "        np.ones((Xt_member.shape[0], 1), np.uint8),\n",
    "        np.zeros((Xt_nonmember.shape[0], 1), np.uint8)\n",
    "    )\n",
    ").flatten()\n",
    "\n",
    "# Define target model\n",
    "# Tensorflow model (MLP) (making it big to make it overfit)\n",
    "input_data = Input(shape = Xt_member[0].shape)\n",
    "x = Dense(128, activation='relu')(input_data)\n",
    "x = Dense(128, activation='relu')(x)\n",
    "x = Dense(64, activation='relu')(x)\n",
    "output = Dense(2, activation='softmax')(x)\n",
    "\n",
    "target_model = Model(input_data, output)\n",
    "target_model.compile(optimizer='adam', loss='categorical_crossentropy', metrics=['accuracy'])\n",
    "\n",
    "# Train target model\n",
    "r = target_model.fit(Xt_member, \n",
    "                     yt_member, \n",
    "                     validation_data=(Xt_nonmember, yt_nonmember),\n",
    "                     epochs=10, \n",
    "                     batch_size=32\n",
    "                    )  "
   ]
  },
  {
   "cell_type": "code",
   "execution_count": 4,
   "metadata": {},
   "outputs": [
    {
     "data": {
      "image/png": "[encoded data removed]",
      "text/plain": [
       "<Figure size 432x288 with 1 Axes>"
      ]
     },
     "metadata": {
      "needs_background": "light"
     },
     "output_type": "display_data"
    }
   ],
   "source": [
    "plt.plot(r.history['accuracy'], label='accuracy')\n",
    "plt.plot(r.history['val_accuracy'], label='validation accuracy')\n",
    "plt.legend()\n",
    "plt.show()"
   ]
  },
  {
   "cell_type": "markdown",
   "metadata": {},
   "source": [
    "**SUCCESS. The model overfits a lot.**"
   ]
  },
  {
   "cell_type": "markdown",
   "metadata": {},
   "source": [
    "### TOWARDS MODEL INDEPENDENT MEMBERSHIP INFERENCE ATTACKS (ADVERSARY 1)\n",
    "\n",
    "In this section, we describe our first adversary considered for membership inference attack. For this adversary, we mainly\n",
    "relax the assumption on her shadow model design. In consequence, membership inference attack can be performed in a much more efficient and less costly way.\n",
    "\n",
    "We start by defining the threat model. Then, we describe our first simplification, *i.e.*, using one shadow model instead of multiple. In the end, we propose our second simplification which frees the adversary from knowing the target model’s\n",
    "structure.\n",
    "\n",
    "#### Threat Model\n",
    "We define our attack model *A* as a supervised ML classifier with binary classes (member or non-member). To train *A*, the adversary needs to derive the labeled training data. *i.e.*, the ground truth membership. The adversary only has black-box access to the target model, *i.e.*, she is not able to extract the membership status from the target model. Therefore, the adversary trains a shadow model to mimic the behavior of the target model, and relies on the shadow model to obtain the ground truth membership to train *A*.\n",
    "\n",
    "To train the shadow model, we assume that the adversary has a dataset, denoted by `(Xs,ys)`, that comes from the same underlying distribution as the training data for the target model. Note that most of the experiments by Shokri *et al.* make the same assumption. We further assume that the shadow model uses the same ML algorithm and has the same hyperparameters as the target model. To achieve this in practice, the adversary can either rely on the same MLaaS provider which builds the target model or perform model extraction to approximate the target model. Later in this section, we show this assumption can be relaxed as well.\n",
    "\n",
    "#### One Shadow Model\n",
    "**Methodology.** The adversary’s methodology can be organized into three stages, *i.e.*, shadow model training, attack model training, and membership inference. \n",
    "\n",
    "*Shadow Model Training.* The adversary first splits her dataset, *i.e.*, `(Xs,ys)`, into two disjoint sets, namely `(Xs_train,ys_train)` and `(Xs_out,ys_out)`. Then, she uses `(Xs_train,ys_train)` to train her only shadow model, denoted by `shadow_model`."
   ]
  },
  {
   "cell_type": "code",
   "execution_count": 5,
   "metadata": {},
   "outputs": [
    {
     "name": "stdout",
     "output_type": "stream",
     "text": [
      "Epoch 1/10\n",
      "79/79 [==============================] - 0s 4ms/step - loss: 1.5798 - accuracy: 0.6796 - val_loss: 0.8152 - val_accuracy: 0.7580\n",
      "Epoch 2/10\n",
      "79/79 [==============================] - 0s 3ms/step - loss: 0.1350 - accuracy: 0.9520 - val_loss: 0.7126 - val_accuracy: 0.7816\n",
      "Epoch 3/10\n",
      "79/79 [==============================] - 0s 3ms/step - loss: 0.0224 - accuracy: 0.9980 - val_loss: 0.7055 - val_accuracy: 0.8000\n",
      "Epoch 4/10\n",
      "79/79 [==============================] - 0s 3ms/step - loss: 0.0069 - accuracy: 1.0000 - val_loss: 0.6940 - val_accuracy: 0.8028\n",
      "Epoch 5/10\n",
      "79/79 [==============================] - 0s 3ms/step - loss: 0.0045 - accuracy: 1.0000 - val_loss: 0.6934 - val_accuracy: 0.8056\n",
      "Epoch 6/10\n",
      "79/79 [==============================] - 0s 3ms/step - loss: 0.0034 - accuracy: 1.0000 - val_loss: 0.6932 - val_accuracy: 0.8064\n",
      "Epoch 7/10\n",
      "79/79 [==============================] - 0s 3ms/step - loss: 0.0027 - accuracy: 1.0000 - val_loss: 0.6937 - val_accuracy: 0.8092\n",
      "Epoch 8/10\n",
      "79/79 [==============================] - 0s 3ms/step - loss: 0.0023 - accuracy: 1.0000 - val_loss: 0.6937 - val_accuracy: 0.8112\n",
      "Epoch 9/10\n",
      "79/79 [==============================] - 0s 4ms/step - loss: 0.0019 - accuracy: 1.0000 - val_loss: 0.6943 - val_accuracy: 0.8128\n",
      "Epoch 10/10\n",
      "79/79 [==============================] - 0s 4ms/step - loss: 0.0016 - accuracy: 1.0000 - val_loss: 0.6947 - val_accuracy: 0.8132\n"
     ]
    }
   ],
   "source": [
    "# Split shadow dataset\n",
    "Xs_train, Xs_out, ys_train, ys_out = train_test_split(Xs, ys, test_size=0.5)\n",
    "                    \n",
    "# Train shadow model  \n",
    "# This model is deliberately different from the target model.\n",
    "input_data = Input(shape = Xs_train[0].shape)\n",
    "x = Dense(128, activation='relu')(input_data)\n",
    "x = Dense(64, activation='relu')(x)\n",
    "output = Dense(2, activation='softmax')(x)\n",
    "\n",
    "shadow_model1 = Model(input_data, output)\n",
    "shadow_model1.compile(optimizer='adam', loss='categorical_crossentropy', metrics=['accuracy'])\n",
    "\n",
    "r = shadow_model1.fit(Xs_train, \n",
    "                      ys_train, \n",
    "                      validation_data=(Xs_out, ys_out),\n",
    "                      epochs=10, \n",
    "                      batch_size=32\n",
    "                     )                                                      "
   ]
  },
  {
   "cell_type": "markdown",
   "metadata": {},
   "source": [
    "*Attack Model Training.* The adversary uses the trained `shadow_model` to perform prediction over all data points in `(Xs,ys)` (consisting of `(Xs_train,ys_train)` and `(Xs_out,ys_out)`), and obtain the corresponding posterior probabilities. For each data point in `(Xs,ys)`, she takes its three largest posteriors (ordered from high to low) or two in the case of binary-class datasets as its feature vector. A feature vector is labeled as 1 (member), if its corresponding data point is in `(Xs_train,ys_train)`, and as 0 (nonmember) otherwise. All the generated feature vectors and labels are then used to train the attack model `attack_model`."
   ]
  },
  {
   "cell_type": "code",
   "execution_count": 6,
   "metadata": {},
   "outputs": [
    {
     "data": {
      "text/plain": [
       "MLPClassifier(hidden_layer_sizes=[32, 32], max_iter=300)"
      ]
     },
     "execution_count": 6,
     "metadata": {},
     "output_type": "execute_result"
    }
   ],
   "source": [
    "# Get prediction probabilities from the shadow model \n",
    "Xs_proba = np.vstack(\n",
    "    (\n",
    "        shadow_model1.predict(Xs_train),\n",
    "        shadow_model1.predict(Xs_out)\n",
    "    )\n",
    ")\n",
    "# Sort (only ascending order allowed)\n",
    "Xs_proba = np.sort(Xs_proba, axis=1)\n",
    "# Flip to get arrays sorted in descending order\n",
    "Xs_proba = np.flip(Xs_proba, axis=1)\n",
    "\n",
    "# Membership labels\n",
    "Xs_membership = np.vstack(\n",
    "    (\n",
    "        np.ones((Xs_train.shape[0], 1), np.uint8),\n",
    "        np.zeros((Xs_out.shape[0], 1), np.uint8)\n",
    "    )\n",
    ").flatten()\n",
    "\n",
    "attack_model1 = MLPClassifier(hidden_layer_sizes=[32,32], activation='relu', solver='adam', max_iter=300)\n",
    "attack_model1.fit(Xs_proba, Xs_membership)"
   ]
  },
  {
   "cell_type": "markdown",
   "metadata": {},
   "source": [
    "*Membership Inference.* To perform the attack on whether `x_target` is in `(Xt, yt)`, the adversary queries `target_model` with `x_target` to obtain the corresponding posteriors. Then, she picks the 3 maximal posteriors, again ordered from high to low, and feed them into `attack_model` to obtain the membership prediction.\n",
    "\n",
    "It is important to note that our adversary only uses one shadow model and one attack model in her attack, while the approach by Shokri et al. [38] adopts multiple shadow models as well as multiple attack models (one for each class).\n",
    "In particular, as each shadow model is established through MLaaS [38], this strategy will largely reduce the cost of her\n",
    "membership inference attack."
   ]
  },
  {
   "cell_type": "code",
   "execution_count": 7,
   "metadata": {},
   "outputs": [
    {
     "name": "stdout",
     "output_type": "stream",
     "text": [
      "              precision    recall  f1-score   support\n",
      "\n",
      "   nonmember     0.9630    0.5108    0.6675      2500\n",
      "      member     0.6671    0.9804    0.7940      2500\n",
      "\n",
      "    accuracy                         0.7456      5000\n",
      "   macro avg     0.8151    0.7456    0.7308      5000\n",
      "weighted avg     0.8151    0.7456    0.7308      5000\n",
      "\n"
     ]
    },
    {
     "data": {
      "image/png": "[encoded data removed]",
      "text/plain": [
       "<Figure size 432x288 with 2 Axes>"
      ]
     },
     "metadata": {
      "needs_background": "light"
     },
     "output_type": "display_data"
    }
   ],
   "source": [
    "# Query target model with all Xt, which includes members and nonmembers, to get probabilities\n",
    "Xt_proba = target_model.predict(Xt)\n",
    "# Order from highest to lowest\n",
    "Xt_proba = np.sort(Xt_proba, axis=1)\n",
    "Xt_proba = np.flip(Xt_proba, axis=1)\n",
    "\n",
    "# Membership predictions from attack model \n",
    "Xt_membership_predictions = attack_model1.predict(Xt_proba)\n",
    "\n",
    "# Show attack stats\n",
    "print(classification_report(Xt_membership, Xt_membership_predictions, target_names=['nonmember', 'member'], digits=4))\n",
    "cm = confusion_matrix(Xt_membership, Xt_membership_predictions)\n",
    "disp = ConfusionMatrixDisplay(confusion_matrix=cm, display_labels=['nonmember', 'member'])\n",
    "disp.plot()\n",
    "plt.show()"
   ]
  },
  {
   "cell_type": "markdown",
   "metadata": {},
   "source": [
    "### TOWARDS DATA INDEPENDENT MEMBERSHIP INFERENCE ATTACKS (ADVERSARY 2)\n",
    "\n",
    "In this section, we relax the assumption on the adversary having a dataset that comes from the same distribution as the\n",
    "target model’s dataset.\n",
    "\n",
    "We start by explaining the threat model, then describe the adversary’s attack methodology. In the end, we present a comprehensive experimental evaluation.\n",
    "\n",
    "\n",
    "#### Threat Model\n",
    "Different from the threat model in Section III, we remove the assumption that the adversary has a dataset `(Xs,ys)` coming from the same distribution as the training data for the target model. We will use the dataset `(Xd,yd)` which comes from a different distribution. This largely reduces the attack capabilities of the adversary. For this scenario, Shokri et al. propose to query the target model multiple times to generate synthetic data to train the shadow model. However, this approach can only be applied when the dataset is assembled with binary features. In contrast, our approach can be applied to attack ML models trained on any kind of data.\n",
    "\n",
    "\n",
    "#### Methodology\n",
    "The strategy of the second adversary is very similar to the one of the first adversary. The only difference is that the\n",
    "second adversary utilizes an existing dataset that comes from a different distribution than the target model’s training data to train her shadow model. We refer to this attack as the data transferring attack.\n",
    "\n",
    "The shadow model here is not to mimic the target model’s behavior, but only to summarize the membership status of a\n",
    "data point in the training set of a machine learning model. As only the three - or two in case of binary datasets - largest\n",
    "posteriors are used for the attack model, we can also neglect the effect brought by datasets with different number of classes."
   ]
  },
  {
   "cell_type": "markdown",
   "metadata": {},
   "source": [
    "*Shadow model training.* In this case `(Xd, yd)` are used, which come from a different data distribution."
   ]
  },
  {
   "cell_type": "code",
   "execution_count": 8,
   "metadata": {},
   "outputs": [
    {
     "name": "stdout",
     "output_type": "stream",
     "text": [
      "Epoch 1/10\n",
      "157/157 [==============================] - 1s 6ms/step - loss: 1.2438 - accuracy: 0.7176 - val_loss: 0.6015 - val_accuracy: 0.7942\n",
      "Epoch 2/10\n",
      "157/157 [==============================] - 1s 5ms/step - loss: 0.1415 - accuracy: 0.9494 - val_loss: 0.4806 - val_accuracy: 0.8402\n",
      "Epoch 3/10\n",
      "157/157 [==============================] - 1s 5ms/step - loss: 0.0277 - accuracy: 0.9962 - val_loss: 0.4577 - val_accuracy: 0.8536\n",
      "Epoch 4/10\n",
      "157/157 [==============================] - 1s 5ms/step - loss: 0.0089 - accuracy: 1.0000 - val_loss: 0.4556 - val_accuracy: 0.8570\n",
      "Epoch 5/10\n",
      "157/157 [==============================] - 1s 6ms/step - loss: 0.0049 - accuracy: 1.0000 - val_loss: 0.4549 - val_accuracy: 0.8600\n",
      "Epoch 6/10\n",
      "157/157 [==============================] - 1s 5ms/step - loss: 0.0034 - accuracy: 1.0000 - val_loss: 0.4542 - val_accuracy: 0.8616\n",
      "Epoch 7/10\n",
      "157/157 [==============================] - 1s 3ms/step - loss: 0.0026 - accuracy: 1.0000 - val_loss: 0.4546 - val_accuracy: 0.8634\n",
      "Epoch 8/10\n",
      "157/157 [==============================] - 1s 4ms/step - loss: 0.0020 - accuracy: 1.0000 - val_loss: 0.4549 - val_accuracy: 0.8650\n",
      "Epoch 9/10\n",
      "157/157 [==============================] - 1s 3ms/step - loss: 0.0016 - accuracy: 1.0000 - val_loss: 0.4552 - val_accuracy: 0.8668\n",
      "Epoch 10/10\n",
      "157/157 [==============================] - 1s 3ms/step - loss: 0.0013 - accuracy: 1.0000 - val_loss: 0.4562 - val_accuracy: 0.8690\n"
     ]
    }
   ],
   "source": [
    "# Split dataset\n",
    "Xd_train, Xd_out, yd_train, yd_out = train_test_split(Xd, yd, test_size=0.5)\n",
    "                    \n",
    "# Train shadow model    \n",
    "input_data = Input(shape = Xd_train[0].shape)\n",
    "x = Dense(128, activation='relu')(input_data)\n",
    "x = Dense(64, activation='relu')(x)\n",
    "output = Dense(2, activation='softmax')(x)\n",
    "\n",
    "shadow_model2 = Model(input_data, output)\n",
    "shadow_model2.compile(optimizer='adam', loss='categorical_crossentropy', metrics=['accuracy'])\n",
    "\n",
    "r = shadow_model2.fit(Xd_train, \n",
    "                      yd_train, \n",
    "                      validation_data=(Xd_out, yd_out),\n",
    "                      epochs=10, \n",
    "                      batch_size=32\n",
    "                     ) "
   ]
  },
  {
   "cell_type": "markdown",
   "metadata": {},
   "source": [
    "*Attack model training.* "
   ]
  },
  {
   "cell_type": "code",
   "execution_count": 9,
   "metadata": {},
   "outputs": [
    {
     "data": {
      "text/plain": [
       "MLPClassifier(hidden_layer_sizes=[32, 32], max_iter=300)"
      ]
     },
     "execution_count": 9,
     "metadata": {},
     "output_type": "execute_result"
    }
   ],
   "source": [
    "# Get probabilities \n",
    "Xd_proba = np.vstack(\n",
    "    (\n",
    "        shadow_model2.predict(Xd_train),\n",
    "        shadow_model2.predict(Xd_out)\n",
    "    )\n",
    ")\n",
    "# Sort (only ascending order allowed)\n",
    "Xd_proba = np.sort(Xd_proba, axis=1)\n",
    "# Flip to get array sorted in descending order\n",
    "Xd_proba = np.flip(Xd_proba, axis=1)\n",
    "\n",
    "Xd_membership = np.vstack(\n",
    "    (\n",
    "        np.ones((Xd_train.shape[0], 1), np.uint8),\n",
    "        np.zeros((Xd_out.shape[0], 1), np.uint8)\n",
    "    )\n",
    ").flatten()\n",
    "\n",
    "attack_model2 = MLPClassifier(hidden_layer_sizes=[32,32], activation='relu', solver='adam', max_iter=300)\n",
    "attack_model2.fit(Xd_proba, Xd_membership)"
   ]
  },
  {
   "cell_type": "markdown",
   "metadata": {},
   "source": [
    "*Membership inference.*"
   ]
  },
  {
   "cell_type": "code",
   "execution_count": 10,
   "metadata": {},
   "outputs": [
    {
     "name": "stdout",
     "output_type": "stream",
     "text": [
      "              precision    recall  f1-score   support\n",
      "\n",
      "   nonmember     0.9446    0.5188    0.6698      2500\n",
      "      member     0.6683    0.9696    0.7913      2500\n",
      "\n",
      "    accuracy                         0.7442      5000\n",
      "   macro avg     0.8065    0.7442    0.7305      5000\n",
      "weighted avg     0.8065    0.7442    0.7305      5000\n",
      "\n"
     ]
    },
    {
     "data": {
      "image/png": "[encoded data removed]",
      "text/plain": [
       "<Figure size 432x288 with 2 Axes>"
      ]
     },
     "metadata": {
      "needs_background": "light"
     },
     "output_type": "display_data"
    }
   ],
   "source": [
    "# Query target model with all Xt, which includes members and nonmembers, to get probabilities\n",
    "Xt_proba = target_model.predict(Xt)\n",
    "# Order from highest to lowest\n",
    "Xt_proba = np.sort(Xt_proba, axis=1)\n",
    "Xt_proba = np.flip(Xt_proba, axis=1)\n",
    "\n",
    "# Membership predictions \n",
    "Xt_membership_predictions = attack_model2.predict(Xt_proba)\n",
    "\n",
    "# Show attack stats\n",
    "print(classification_report(Xt_membership, Xt_membership_predictions, target_names=['nonmember', 'member'], digits=4))\n",
    "cm = confusion_matrix(Xt_membership, Xt_membership_predictions)\n",
    "disp = ConfusionMatrixDisplay(confusion_matrix=cm, display_labels=['nonmember', 'member'])\n",
    "disp.plot()\n",
    "plt.show()"
   ]
  },
  {
   "cell_type": "markdown",
   "metadata": {},
   "source": [
    "### MODEL AND DATA INDEPENDENT MEMBERSHIP INFERENCE ATTACK WITHOUT TRAINING (ADVERSARY 3)\n",
    "\n",
    "In this section, we present our third adversary, who does not need to train any shadow model and does not assume knowledge of model or data distribution. We start with the threat model description. Then, we list the attack methodology. In the end, we present the evaluation results.\n",
    "\n",
    "\n",
    "#### A. Threat Model\n",
    "We relax the assumption that the adversary needs to train any shadow model to perform her attack. All she could rely on is the target model’s output posteriors `target_model.predict(Xt)` after querying her target data point `x_target`. Note that  Yeom et al. propose a similar attack, however, their membership inference attack requires the adversary to know the target data point’s class label which is hard to obtain in some cases, such as in biomedical settings. Therefore, our threat model\n",
    "covers a broader range of scenarios.\n",
    "\n",
    "\n",
    "#### B. Methodology\n",
    "The attack model for the third adversary is implemented as an unsupervised binary classification. Concretely, the adversary\n",
    "first obtains `target_model.predict(x_target)`. Then, she extracts the highest posterior and compares whether this maximum is above a certain threshold. If the answer is yes, then she predicts the data point is in the training set of the target model and vice versa. The reason we pick maximum as the feature follows the reasoning that an ML model is more confident, *i.e.*, one posterior is much higher than others, when facing a data point that it was trained on. In another words, the maximal posterior of a member data point is much higher than the one of a non-member data point.\n",
    "\n",
    "**Threshold Choosing.** The attacker can pick the threshold for membership inference depending on her requirements, as in\n",
    "many machine learning applications. For instance, if she concentrates more on inference precision (recall), then she\n",
    "can pick a relatively high (low) threshold.\n",
    "\n",
    "Nevertheless, we provide a general method for choosing a threshold. Concretely, we generate a sample of random points in the feature space of the target data point. For image datasets including CIFAR-10, CIFAR-100, MNIST, and Face, we generate random images, where the value of each pixel is drawn from a uniform distribution. For datasets with binary features including Location and Purchase datasets, we generate 0 and 1 for each feature according to an unbiased coin flip.\n",
    "For Adult and News, as the bounds for features are not clear, our method cannot apply. One way to tackle this is to collect\n",
    "News articles or people’s records (with the same features as in the Adult dataset) from the Internet as the “random” points. We leave this for future work. Next, we query these random points to the target model to get the corresponding maximal posteriors. We hypothesize that these points act as the nonmember points. Thus, top t percentile of these random points’ maximal posteriors can serve as a good threshold. Below, we show empirically that there exists a choice of t percentile that works well and generalizes across all the dataset and therefore can be used to automatically determine the detection threshold."
   ]
  },
  {
   "cell_type": "code",
   "execution_count": 12,
   "metadata": {},
   "outputs": [
    {
     "data": {
      "image/png": "[encoded data removed]",
      "text/plain": [
       "<Figure size 432x288 with 1 Axes>"
      ]
     },
     "metadata": {
      "needs_background": "light"
     },
     "output_type": "display_data"
    },
    {
     "name": "stdout",
     "output_type": "stream",
     "text": [
      "              precision    recall  f1-score   support\n",
      "\n",
      "   nonmember     0.9667    0.5108    0.6684      2500\n",
      "      member     0.6676    0.9824    0.7950      2500\n",
      "\n",
      "    accuracy                         0.7466      5000\n",
      "   macro avg     0.8171    0.7466    0.7317      5000\n",
      "weighted avg     0.8171    0.7466    0.7317      5000\n",
      "\n"
     ]
    },
    {
     "data": {
      "image/png": "[encoded data removed]",
      "text/plain": [
       "<Figure size 432x288 with 2 Axes>"
      ]
     },
     "metadata": {
      "needs_background": "light"
     },
     "output_type": "display_data"
    }
   ],
   "source": [
    "# Query target model with all Xt, which includes members and nonmembers, to get probabilities\n",
    "Xt_probs = target_model.predict(Xt)\n",
    "# Get array of max probabilities\n",
    "Xt_max_probs = np.amax(Xt_probs, axis=1)\n",
    "# Test for thresholds\n",
    "fpr, tpr, thresholds = roc_curve(Xt_membership, Xt_max_probs)\n",
    "roc_auc = auc(fpr, tpr)\n",
    "\n",
    "plt.figure()\n",
    "lw = 2\n",
    "plt.plot(fpr, tpr, color=\"darkorange\", lw=lw, label=\"ROC curve (area = %0.2f)\" % roc_auc)\n",
    "plt.plot([0, 1], [0, 1], color=\"navy\", lw=lw, linestyle=\"--\")\n",
    "plt.xlim([0.0, 1.0])\n",
    "plt.ylim([0.0, 1.05])\n",
    "plt.xlabel(\"False Positive Rate\")\n",
    "plt.ylabel(\"True Positive Rate\")\n",
    "plt.title(\"ROC Curve\")\n",
    "plt.legend(loc=\"lower right\")\n",
    "plt.show()\n",
    "\n",
    "\n",
    "# Find threshold with max advantage\n",
    "adv = np.abs(tpr-fpr)\n",
    "max_adv_idx = np.argmax(adv)\n",
    "opt_threshold = thresholds[max_adv_idx]\n",
    "\n",
    "# Attack with best threshold\n",
    "Xt_membership_predictions = np.where(Xt_max_probs >= opt_threshold, 1, 0)\n",
    "# Show attack stats\n",
    "print(classification_report(Xt_membership, Xt_membership_predictions, target_names=['nonmember', 'member'], digits=4))\n",
    "cm = confusion_matrix(Xt_membership, Xt_membership_predictions)\n",
    "disp = ConfusionMatrixDisplay(confusion_matrix=cm, display_labels=['nonmember', 'member'])\n",
    "disp.plot()\n",
    "plt.show()"
   ]
  },
  {
   "cell_type": "code",
   "execution_count": null,
   "metadata": {},
   "outputs": [],
   "source": []
  }
 ],
 "metadata": {
  "kernelspec": {
   "display_name": "Python 3",
   "language": "python",
   "name": "python3"
  },
  "language_info": {
   "codemirror_mode": {
    "name": "ipython",
    "version": 3
   },
   "file_extension": ".py",
   "mimetype": "text/x-python",
   "name": "python",
   "nbconvert_exporter": "python",
   "pygments_lexer": "ipython3",
   "version": "3.8.10"
  }
 },
 "nbformat": 4,
 "nbformat_minor": 4
}
