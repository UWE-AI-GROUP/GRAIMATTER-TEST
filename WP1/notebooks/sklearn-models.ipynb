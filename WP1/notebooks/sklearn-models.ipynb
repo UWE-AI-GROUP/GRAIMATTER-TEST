{
 "cells": [
  {
   "cell_type": "markdown",
   "id": "impressive-patrol",
   "metadata": {},
   "source": [
    "# sklearn example of SVM model and RandomForest and SVM attack with AUC and histograms"
   ]
  },
  {
   "cell_type": "markdown",
   "id": "dated-operation",
   "metadata": {},
   "source": [
    "This notebook gives an example of performing MIA using sklearn models. It makes the following MIA assumptions:\n",
    "1. Attacker has access to the exact train and test data. Unrealistic, but maybe worst case.\n",
    "1. Attacker builds a target model based on the predictive probabilities of the classifier on the train and test data.\n",
    "\n",
    "This is the scenario we have been discussing, which is neither Shokri or Salem, but might be useful given it is somewhat assumption-free.\n",
    "\n",
    "Download data from https://physionet.org/content/mimic2-iaccd/1.0/ (https://physionet.org/content/mimic2-iaccd/1.0/full_cohort_data.csv to download the full_cohort data)"
   ]
  },
  {
   "cell_type": "code",
   "execution_count": 2,
   "id": "modified-candle",
   "metadata": {},
   "outputs": [],
   "source": [
    "import pandas as pd\n",
    "import numpy as np\n",
    "import matplotlib.pyplot as plt\n",
    "import os\n",
    "from sklearn.model_selection import train_test_split\n",
    "from sklearn.svm import SVC\n",
    "from sklearn.metrics import classification_report, confusion_matrix\n",
    "from sklearn.metrics import roc_auc_score\n",
    "from sklearn.metrics import auc\n",
    "from sklearn.metrics import RocCurveDisplay\n",
    "from sklearn.model_selection import StratifiedKFold\n",
    "from sklearn.ensemble import RandomForestClassifier\n",
    "import itertools\n",
    "\n",
    "%matplotlib inline"
   ]
  },
  {
   "cell_type": "code",
   "execution_count": 3,
   "id": "diagnostic-municipality",
   "metadata": {},
   "outputs": [],
   "source": [
    "path = \"../../data/mimic2-iaccd/1.0/\""
   ]
  },
  {
   "cell_type": "code",
   "execution_count": 4,
   "id": "limiting-struggle",
   "metadata": {},
   "outputs": [],
   "source": [
    "data_path = os.path.join(path, 'full_cohort_data.csv')"
   ]
  },
  {
   "cell_type": "code",
   "execution_count": 5,
   "id": "organizational-confusion",
   "metadata": {},
   "outputs": [],
   "source": [
    "X = pd.read_csv(data_path)"
   ]
  },
  {
   "cell_type": "code",
   "execution_count": 6,
   "id": "eastern-macedonia",
   "metadata": {},
   "outputs": [
    {
     "data": {
      "text/plain": [
       "(1776, 46)"
      ]
     },
     "execution_count": 6,
     "metadata": {},
     "output_type": "execute_result"
    }
   ],
   "source": [
    "X.shape"
   ]
  },
  {
   "cell_type": "markdown",
   "id": "broad-reservation",
   "metadata": {},
   "source": [
    "## Explore the data"
   ]
  },
  {
   "cell_type": "code",
   "execution_count": 7,
   "id": "solar-manual",
   "metadata": {},
   "outputs": [
    {
     "data": {
      "text/html": [
       "<div>\n",
       "<style scoped>\n",
       "    .dataframe tbody tr th:only-of-type {\n",
       "        vertical-align: middle;\n",
       "    }\n",
       "\n",
       "    .dataframe tbody tr th {\n",
       "        vertical-align: top;\n",
       "    }\n",
       "\n",
       "    .dataframe thead th {\n",
       "        text-align: right;\n",
       "    }\n",
       "</style>\n",
       "<table border=\"1\" class=\"dataframe\">\n",
       "  <thead>\n",
       "    <tr style=\"text-align: right;\">\n",
       "      <th></th>\n",
       "      <th>aline_flg</th>\n",
       "      <th>icu_los_day</th>\n",
       "      <th>hospital_los_day</th>\n",
       "      <th>age</th>\n",
       "      <th>gender_num</th>\n",
       "      <th>weight_first</th>\n",
       "      <th>bmi</th>\n",
       "      <th>sapsi_first</th>\n",
       "      <th>sofa_first</th>\n",
       "      <th>service_unit</th>\n",
       "      <th>...</th>\n",
       "      <th>platelet_first</th>\n",
       "      <th>sodium_first</th>\n",
       "      <th>potassium_first</th>\n",
       "      <th>tco2_first</th>\n",
       "      <th>chloride_first</th>\n",
       "      <th>bun_first</th>\n",
       "      <th>creatinine_first</th>\n",
       "      <th>po2_first</th>\n",
       "      <th>pco2_first</th>\n",
       "      <th>iv_day_1</th>\n",
       "    </tr>\n",
       "  </thead>\n",
       "  <tbody>\n",
       "    <tr>\n",
       "      <th>0</th>\n",
       "      <td>1</td>\n",
       "      <td>7.63</td>\n",
       "      <td>13</td>\n",
       "      <td>72.36841</td>\n",
       "      <td>1.0</td>\n",
       "      <td>75.0</td>\n",
       "      <td>29.912791</td>\n",
       "      <td>15.0</td>\n",
       "      <td>9.0</td>\n",
       "      <td>SICU</td>\n",
       "      <td>...</td>\n",
       "      <td>354.0</td>\n",
       "      <td>138.0</td>\n",
       "      <td>4.6</td>\n",
       "      <td>15.0</td>\n",
       "      <td>109.0</td>\n",
       "      <td>41.0</td>\n",
       "      <td>1.6</td>\n",
       "      <td>196.0</td>\n",
       "      <td>39.0</td>\n",
       "      <td>2230.875000</td>\n",
       "    </tr>\n",
       "    <tr>\n",
       "      <th>1</th>\n",
       "      <td>0</td>\n",
       "      <td>1.14</td>\n",
       "      <td>1</td>\n",
       "      <td>64.92076</td>\n",
       "      <td>0.0</td>\n",
       "      <td>55.0</td>\n",
       "      <td>20.121312</td>\n",
       "      <td>NaN</td>\n",
       "      <td>5.0</td>\n",
       "      <td>MICU</td>\n",
       "      <td>...</td>\n",
       "      <td>NaN</td>\n",
       "      <td>NaN</td>\n",
       "      <td>NaN</td>\n",
       "      <td>NaN</td>\n",
       "      <td>NaN</td>\n",
       "      <td>NaN</td>\n",
       "      <td>NaN</td>\n",
       "      <td>NaN</td>\n",
       "      <td>NaN</td>\n",
       "      <td>600.000000</td>\n",
       "    </tr>\n",
       "    <tr>\n",
       "      <th>2</th>\n",
       "      <td>0</td>\n",
       "      <td>2.86</td>\n",
       "      <td>5</td>\n",
       "      <td>36.50000</td>\n",
       "      <td>0.0</td>\n",
       "      <td>70.0</td>\n",
       "      <td>27.118272</td>\n",
       "      <td>16.0</td>\n",
       "      <td>5.0</td>\n",
       "      <td>MICU</td>\n",
       "      <td>...</td>\n",
       "      <td>295.0</td>\n",
       "      <td>144.0</td>\n",
       "      <td>3.9</td>\n",
       "      <td>17.0</td>\n",
       "      <td>101.0</td>\n",
       "      <td>16.0</td>\n",
       "      <td>0.8</td>\n",
       "      <td>298.0</td>\n",
       "      <td>30.0</td>\n",
       "      <td>2086.800293</td>\n",
       "    </tr>\n",
       "    <tr>\n",
       "      <th>3</th>\n",
       "      <td>1</td>\n",
       "      <td>0.58</td>\n",
       "      <td>3</td>\n",
       "      <td>44.49191</td>\n",
       "      <td>0.0</td>\n",
       "      <td>NaN</td>\n",
       "      <td>NaN</td>\n",
       "      <td>21.0</td>\n",
       "      <td>7.0</td>\n",
       "      <td>SICU</td>\n",
       "      <td>...</td>\n",
       "      <td>262.0</td>\n",
       "      <td>139.0</td>\n",
       "      <td>4.2</td>\n",
       "      <td>31.0</td>\n",
       "      <td>100.0</td>\n",
       "      <td>16.0</td>\n",
       "      <td>0.5</td>\n",
       "      <td>146.0</td>\n",
       "      <td>23.0</td>\n",
       "      <td>NaN</td>\n",
       "    </tr>\n",
       "    <tr>\n",
       "      <th>4</th>\n",
       "      <td>1</td>\n",
       "      <td>1.75</td>\n",
       "      <td>5</td>\n",
       "      <td>23.74217</td>\n",
       "      <td>1.0</td>\n",
       "      <td>95.2</td>\n",
       "      <td>28.464563</td>\n",
       "      <td>18.0</td>\n",
       "      <td>7.0</td>\n",
       "      <td>SICU</td>\n",
       "      <td>...</td>\n",
       "      <td>22.0</td>\n",
       "      <td>146.0</td>\n",
       "      <td>3.4</td>\n",
       "      <td>19.0</td>\n",
       "      <td>110.0</td>\n",
       "      <td>10.0</td>\n",
       "      <td>1.0</td>\n",
       "      <td>134.0</td>\n",
       "      <td>30.0</td>\n",
       "      <td>2358.244141</td>\n",
       "    </tr>\n",
       "  </tbody>\n",
       "</table>\n",
       "<p>5 rows × 46 columns</p>\n",
       "</div>"
      ],
      "text/plain": [
       "   aline_flg  icu_los_day  hospital_los_day       age  gender_num  \\\n",
       "0          1         7.63                13  72.36841         1.0   \n",
       "1          0         1.14                 1  64.92076         0.0   \n",
       "2          0         2.86                 5  36.50000         0.0   \n",
       "3          1         0.58                 3  44.49191         0.0   \n",
       "4          1         1.75                 5  23.74217         1.0   \n",
       "\n",
       "   weight_first        bmi  sapsi_first  sofa_first service_unit  ...  \\\n",
       "0          75.0  29.912791         15.0         9.0         SICU  ...   \n",
       "1          55.0  20.121312          NaN         5.0         MICU  ...   \n",
       "2          70.0  27.118272         16.0         5.0         MICU  ...   \n",
       "3           NaN        NaN         21.0         7.0         SICU  ...   \n",
       "4          95.2  28.464563         18.0         7.0         SICU  ...   \n",
       "\n",
       "   platelet_first sodium_first  potassium_first  tco2_first  chloride_first  \\\n",
       "0           354.0        138.0              4.6        15.0           109.0   \n",
       "1             NaN          NaN              NaN         NaN             NaN   \n",
       "2           295.0        144.0              3.9        17.0           101.0   \n",
       "3           262.0        139.0              4.2        31.0           100.0   \n",
       "4            22.0        146.0              3.4        19.0           110.0   \n",
       "\n",
       "   bun_first  creatinine_first  po2_first  pco2_first     iv_day_1  \n",
       "0       41.0               1.6      196.0        39.0  2230.875000  \n",
       "1        NaN               NaN        NaN         NaN   600.000000  \n",
       "2       16.0               0.8      298.0        30.0  2086.800293  \n",
       "3       16.0               0.5      146.0        23.0          NaN  \n",
       "4       10.0               1.0      134.0        30.0  2358.244141  \n",
       "\n",
       "[5 rows x 46 columns]"
      ]
     },
     "execution_count": 7,
     "metadata": {},
     "output_type": "execute_result"
    }
   ],
   "source": [
    "X.head()"
   ]
  },
  {
   "cell_type": "code",
   "execution_count": 8,
   "id": "suspected-gossip",
   "metadata": {},
   "outputs": [
    {
     "data": {
      "text/html": [
       "<div>\n",
       "<style scoped>\n",
       "    .dataframe tbody tr th:only-of-type {\n",
       "        vertical-align: middle;\n",
       "    }\n",
       "\n",
       "    .dataframe tbody tr th {\n",
       "        vertical-align: top;\n",
       "    }\n",
       "\n",
       "    .dataframe thead th {\n",
       "        text-align: right;\n",
       "    }\n",
       "</style>\n",
       "<table border=\"1\" class=\"dataframe\">\n",
       "  <thead>\n",
       "    <tr style=\"text-align: right;\">\n",
       "      <th></th>\n",
       "      <th>aline_flg</th>\n",
       "      <th>icu_los_day</th>\n",
       "      <th>hospital_los_day</th>\n",
       "      <th>age</th>\n",
       "      <th>gender_num</th>\n",
       "      <th>weight_first</th>\n",
       "      <th>bmi</th>\n",
       "      <th>sapsi_first</th>\n",
       "      <th>sofa_first</th>\n",
       "      <th>service_num</th>\n",
       "      <th>...</th>\n",
       "      <th>platelet_first</th>\n",
       "      <th>sodium_first</th>\n",
       "      <th>potassium_first</th>\n",
       "      <th>tco2_first</th>\n",
       "      <th>chloride_first</th>\n",
       "      <th>bun_first</th>\n",
       "      <th>creatinine_first</th>\n",
       "      <th>po2_first</th>\n",
       "      <th>pco2_first</th>\n",
       "      <th>iv_day_1</th>\n",
       "    </tr>\n",
       "  </thead>\n",
       "  <tbody>\n",
       "    <tr>\n",
       "      <th>count</th>\n",
       "      <td>1776.000000</td>\n",
       "      <td>1776.000000</td>\n",
       "      <td>1776.000000</td>\n",
       "      <td>1776.000000</td>\n",
       "      <td>1775.000000</td>\n",
       "      <td>1666.000000</td>\n",
       "      <td>1310.000000</td>\n",
       "      <td>1691.000000</td>\n",
       "      <td>1770.000000</td>\n",
       "      <td>1776.000000</td>\n",
       "      <td>...</td>\n",
       "      <td>1768.000000</td>\n",
       "      <td>1771.000000</td>\n",
       "      <td>1771.000000</td>\n",
       "      <td>1771.000000</td>\n",
       "      <td>1771.000000</td>\n",
       "      <td>1771.000000</td>\n",
       "      <td>1770.000000</td>\n",
       "      <td>1590.000000</td>\n",
       "      <td>1590.000000</td>\n",
       "      <td>1633.000000</td>\n",
       "    </tr>\n",
       "    <tr>\n",
       "      <th>mean</th>\n",
       "      <td>0.554054</td>\n",
       "      <td>3.346498</td>\n",
       "      <td>8.110923</td>\n",
       "      <td>54.379660</td>\n",
       "      <td>0.577465</td>\n",
       "      <td>80.075948</td>\n",
       "      <td>27.827316</td>\n",
       "      <td>14.136606</td>\n",
       "      <td>5.820904</td>\n",
       "      <td>0.552928</td>\n",
       "      <td>...</td>\n",
       "      <td>246.083145</td>\n",
       "      <td>139.559006</td>\n",
       "      <td>4.107623</td>\n",
       "      <td>24.416657</td>\n",
       "      <td>103.839074</td>\n",
       "      <td>19.277809</td>\n",
       "      <td>1.095706</td>\n",
       "      <td>227.623270</td>\n",
       "      <td>43.413836</td>\n",
       "      <td>1622.907946</td>\n",
       "    </tr>\n",
       "    <tr>\n",
       "      <th>std</th>\n",
       "      <td>0.497210</td>\n",
       "      <td>3.356261</td>\n",
       "      <td>8.157159</td>\n",
       "      <td>21.062854</td>\n",
       "      <td>0.494102</td>\n",
       "      <td>22.490516</td>\n",
       "      <td>8.210074</td>\n",
       "      <td>4.114302</td>\n",
       "      <td>2.334666</td>\n",
       "      <td>0.497331</td>\n",
       "      <td>...</td>\n",
       "      <td>99.865469</td>\n",
       "      <td>4.726209</td>\n",
       "      <td>0.794724</td>\n",
       "      <td>4.992172</td>\n",
       "      <td>5.734283</td>\n",
       "      <td>14.366890</td>\n",
       "      <td>1.083477</td>\n",
       "      <td>144.863403</td>\n",
       "      <td>13.980786</td>\n",
       "      <td>1677.129157</td>\n",
       "    </tr>\n",
       "    <tr>\n",
       "      <th>min</th>\n",
       "      <td>0.000000</td>\n",
       "      <td>0.500000</td>\n",
       "      <td>1.000000</td>\n",
       "      <td>15.180230</td>\n",
       "      <td>0.000000</td>\n",
       "      <td>30.000000</td>\n",
       "      <td>12.784877</td>\n",
       "      <td>3.000000</td>\n",
       "      <td>0.000000</td>\n",
       "      <td>0.000000</td>\n",
       "      <td>...</td>\n",
       "      <td>7.000000</td>\n",
       "      <td>105.000000</td>\n",
       "      <td>1.900000</td>\n",
       "      <td>2.000000</td>\n",
       "      <td>78.000000</td>\n",
       "      <td>2.000000</td>\n",
       "      <td>0.000000</td>\n",
       "      <td>22.000000</td>\n",
       "      <td>8.000000</td>\n",
       "      <td>0.000000</td>\n",
       "    </tr>\n",
       "    <tr>\n",
       "      <th>25%</th>\n",
       "      <td>0.000000</td>\n",
       "      <td>1.370000</td>\n",
       "      <td>3.000000</td>\n",
       "      <td>38.247318</td>\n",
       "      <td>0.000000</td>\n",
       "      <td>65.400000</td>\n",
       "      <td>22.617307</td>\n",
       "      <td>11.000000</td>\n",
       "      <td>4.000000</td>\n",
       "      <td>0.000000</td>\n",
       "      <td>...</td>\n",
       "      <td>182.000000</td>\n",
       "      <td>137.000000</td>\n",
       "      <td>3.600000</td>\n",
       "      <td>22.000000</td>\n",
       "      <td>101.000000</td>\n",
       "      <td>11.000000</td>\n",
       "      <td>0.700000</td>\n",
       "      <td>108.000000</td>\n",
       "      <td>36.000000</td>\n",
       "      <td>329.750000</td>\n",
       "    </tr>\n",
       "    <tr>\n",
       "      <th>50%</th>\n",
       "      <td>1.000000</td>\n",
       "      <td>2.185000</td>\n",
       "      <td>6.000000</td>\n",
       "      <td>53.678585</td>\n",
       "      <td>1.000000</td>\n",
       "      <td>77.000000</td>\n",
       "      <td>26.324846</td>\n",
       "      <td>14.000000</td>\n",
       "      <td>6.000000</td>\n",
       "      <td>1.000000</td>\n",
       "      <td>...</td>\n",
       "      <td>239.000000</td>\n",
       "      <td>140.000000</td>\n",
       "      <td>4.000000</td>\n",
       "      <td>24.000000</td>\n",
       "      <td>104.000000</td>\n",
       "      <td>15.000000</td>\n",
       "      <td>0.900000</td>\n",
       "      <td>195.000000</td>\n",
       "      <td>41.000000</td>\n",
       "      <td>1081.529175</td>\n",
       "    </tr>\n",
       "    <tr>\n",
       "      <th>75%</th>\n",
       "      <td>1.000000</td>\n",
       "      <td>4.002500</td>\n",
       "      <td>10.000000</td>\n",
       "      <td>72.762992</td>\n",
       "      <td>1.000000</td>\n",
       "      <td>90.000000</td>\n",
       "      <td>30.796551</td>\n",
       "      <td>17.000000</td>\n",
       "      <td>7.000000</td>\n",
       "      <td>1.000000</td>\n",
       "      <td>...</td>\n",
       "      <td>297.000000</td>\n",
       "      <td>142.000000</td>\n",
       "      <td>4.400000</td>\n",
       "      <td>27.000000</td>\n",
       "      <td>107.000000</td>\n",
       "      <td>22.000000</td>\n",
       "      <td>1.100000</td>\n",
       "      <td>323.000000</td>\n",
       "      <td>47.000000</td>\n",
       "      <td>2493.900146</td>\n",
       "    </tr>\n",
       "    <tr>\n",
       "      <th>max</th>\n",
       "      <td>1.000000</td>\n",
       "      <td>28.240000</td>\n",
       "      <td>112.000000</td>\n",
       "      <td>99.110950</td>\n",
       "      <td>1.000000</td>\n",
       "      <td>257.600000</td>\n",
       "      <td>98.797134</td>\n",
       "      <td>32.000000</td>\n",
       "      <td>17.000000</td>\n",
       "      <td>1.000000</td>\n",
       "      <td>...</td>\n",
       "      <td>988.000000</td>\n",
       "      <td>165.000000</td>\n",
       "      <td>9.800000</td>\n",
       "      <td>62.000000</td>\n",
       "      <td>133.000000</td>\n",
       "      <td>139.000000</td>\n",
       "      <td>18.300000</td>\n",
       "      <td>634.000000</td>\n",
       "      <td>158.000000</td>\n",
       "      <td>13910.000000</td>\n",
       "    </tr>\n",
       "  </tbody>\n",
       "</table>\n",
       "<p>8 rows × 44 columns</p>\n",
       "</div>"
      ],
      "text/plain": [
       "         aline_flg  icu_los_day  hospital_los_day          age   gender_num  \\\n",
       "count  1776.000000  1776.000000       1776.000000  1776.000000  1775.000000   \n",
       "mean      0.554054     3.346498          8.110923    54.379660     0.577465   \n",
       "std       0.497210     3.356261          8.157159    21.062854     0.494102   \n",
       "min       0.000000     0.500000          1.000000    15.180230     0.000000   \n",
       "25%       0.000000     1.370000          3.000000    38.247318     0.000000   \n",
       "50%       1.000000     2.185000          6.000000    53.678585     1.000000   \n",
       "75%       1.000000     4.002500         10.000000    72.762992     1.000000   \n",
       "max       1.000000    28.240000        112.000000    99.110950     1.000000   \n",
       "\n",
       "       weight_first          bmi  sapsi_first   sofa_first  service_num  ...  \\\n",
       "count   1666.000000  1310.000000  1691.000000  1770.000000  1776.000000  ...   \n",
       "mean      80.075948    27.827316    14.136606     5.820904     0.552928  ...   \n",
       "std       22.490516     8.210074     4.114302     2.334666     0.497331  ...   \n",
       "min       30.000000    12.784877     3.000000     0.000000     0.000000  ...   \n",
       "25%       65.400000    22.617307    11.000000     4.000000     0.000000  ...   \n",
       "50%       77.000000    26.324846    14.000000     6.000000     1.000000  ...   \n",
       "75%       90.000000    30.796551    17.000000     7.000000     1.000000  ...   \n",
       "max      257.600000    98.797134    32.000000    17.000000     1.000000  ...   \n",
       "\n",
       "       platelet_first  sodium_first  potassium_first   tco2_first  \\\n",
       "count     1768.000000   1771.000000      1771.000000  1771.000000   \n",
       "mean       246.083145    139.559006         4.107623    24.416657   \n",
       "std         99.865469      4.726209         0.794724     4.992172   \n",
       "min          7.000000    105.000000         1.900000     2.000000   \n",
       "25%        182.000000    137.000000         3.600000    22.000000   \n",
       "50%        239.000000    140.000000         4.000000    24.000000   \n",
       "75%        297.000000    142.000000         4.400000    27.000000   \n",
       "max        988.000000    165.000000         9.800000    62.000000   \n",
       "\n",
       "       chloride_first    bun_first  creatinine_first    po2_first  \\\n",
       "count     1771.000000  1771.000000       1770.000000  1590.000000   \n",
       "mean       103.839074    19.277809          1.095706   227.623270   \n",
       "std          5.734283    14.366890          1.083477   144.863403   \n",
       "min         78.000000     2.000000          0.000000    22.000000   \n",
       "25%        101.000000    11.000000          0.700000   108.000000   \n",
       "50%        104.000000    15.000000          0.900000   195.000000   \n",
       "75%        107.000000    22.000000          1.100000   323.000000   \n",
       "max        133.000000   139.000000         18.300000   634.000000   \n",
       "\n",
       "        pco2_first      iv_day_1  \n",
       "count  1590.000000   1633.000000  \n",
       "mean     43.413836   1622.907946  \n",
       "std      13.980786   1677.129157  \n",
       "min       8.000000      0.000000  \n",
       "25%      36.000000    329.750000  \n",
       "50%      41.000000   1081.529175  \n",
       "75%      47.000000   2493.900146  \n",
       "max     158.000000  13910.000000  \n",
       "\n",
       "[8 rows x 44 columns]"
      ]
     },
     "execution_count": 8,
     "metadata": {},
     "output_type": "execute_result"
    }
   ],
   "source": [
    "X.describe()"
   ]
  },
  {
   "cell_type": "markdown",
   "id": "patient-genealogy",
   "metadata": {},
   "source": [
    "Identify the number of NaNs in each column, and remove columns with a lot of them"
   ]
  },
  {
   "cell_type": "code",
   "execution_count": 9,
   "id": "cloudy-seventh",
   "metadata": {},
   "outputs": [
    {
     "name": "stdout",
     "output_type": "stream",
     "text": [
      "aline_flg 0\n",
      "icu_los_day 0\n",
      "hospital_los_day 0\n",
      "age 0\n",
      "gender_num 1\n",
      "weight_first 110\n",
      "bmi 466\n",
      "sapsi_first 85\n",
      "sofa_first 6\n",
      "service_unit 0\n",
      "service_num 0\n",
      "day_icu_intime 0\n",
      "day_icu_intime_num 0\n",
      "hour_icu_intime 0\n",
      "hosp_exp_flg 0\n",
      "icu_exp_flg 0\n",
      "day_28_flg 0\n",
      "mort_day_censored 0\n",
      "censor_flg 0\n",
      "sepsis_flg 0\n",
      "chf_flg 0\n",
      "afib_flg 0\n",
      "renal_flg 0\n",
      "liver_flg 0\n",
      "copd_flg 0\n",
      "cad_flg 0\n",
      "stroke_flg 0\n",
      "mal_flg 0\n",
      "resp_flg 0\n",
      "map_1st 0\n",
      "hr_1st 0\n",
      "temp_1st 3\n",
      "spo2_1st 0\n",
      "abg_count 0\n",
      "wbc_first 8\n",
      "hgb_first 8\n",
      "platelet_first 8\n",
      "sodium_first 5\n",
      "potassium_first 5\n",
      "tco2_first 5\n",
      "chloride_first 5\n",
      "bun_first 5\n",
      "creatinine_first 6\n",
      "po2_first 186\n",
      "pco2_first 186\n",
      "iv_day_1 143\n"
     ]
    }
   ],
   "source": [
    "for col in X.columns:\n",
    "    print(col, X[col].isnull().sum().sum())"
   ]
  },
  {
   "cell_type": "markdown",
   "id": "secret-certificate",
   "metadata": {},
   "source": [
    "## Prepocess"
   ]
  },
  {
   "cell_type": "markdown",
   "id": "streaming-committee",
   "metadata": {},
   "source": [
    "Remove columns with non numerical values"
   ]
  },
  {
   "cell_type": "code",
   "execution_count": 10,
   "id": "fuzzy-african",
   "metadata": {},
   "outputs": [],
   "source": [
    "#remove columns non-numerical and repetitive or uninformative data for the analysis\n",
    "col = ['service_unit', 'day_icu_intime', 'hosp_exp_flg','icu_exp_flg', 'day_28_flg'] \n",
    "#service_num is the numerical version of service_unit\n",
    "#day_icu_intime_num is the numerical version of day_icu_intime\n",
    "# the other columns are to do with death and are somewhat repetitive with censor_flg\n",
    "X = X.drop(col,axis = 1)"
   ]
  },
  {
   "cell_type": "code",
   "execution_count": 11,
   "id": "forced-source",
   "metadata": {},
   "outputs": [
    {
     "data": {
      "text/plain": [
       "(1776, 41)"
      ]
     },
     "execution_count": 11,
     "metadata": {},
     "output_type": "execute_result"
    }
   ],
   "source": [
    "X.shape"
   ]
  },
  {
   "cell_type": "code",
   "execution_count": 12,
   "id": "taken-passage",
   "metadata": {},
   "outputs": [],
   "source": [
    "#drop NA by row\n",
    "X.dropna(axis=0, inplace=True)"
   ]
  },
  {
   "cell_type": "code",
   "execution_count": 13,
   "id": "burning-circle",
   "metadata": {},
   "outputs": [],
   "source": [
    "#drop columns with only 1 value\n",
    "X.drop('sepsis_flg', axis=1, inplace=True)"
   ]
  },
  {
   "cell_type": "code",
   "execution_count": 14,
   "id": "stunning-atlantic",
   "metadata": {},
   "outputs": [],
   "source": [
    "var = 'censor_flg'#'aline_flg'#\n",
    "\n",
    "y = X[var]\n",
    "# Drop the column that contains the labels\n",
    "X.drop([var], axis=1, inplace=True)"
   ]
  },
  {
   "cell_type": "code",
   "execution_count": 15,
   "id": "located-group",
   "metadata": {},
   "outputs": [
    {
     "data": {
      "text/plain": [
       "(1064, 39)"
      ]
     },
     "execution_count": 15,
     "metadata": {},
     "output_type": "execute_result"
    }
   ],
   "source": [
    "len(X)\n",
    "y = np.array(y)\n",
    "X = np.array(X)\n",
    "X.shape"
   ]
  },
  {
   "cell_type": "markdown",
   "id": "worthy-uruguay",
   "metadata": {},
   "source": [
    "\n",
    "# Target Model"
   ]
  },
  {
   "cell_type": "markdown",
   "id": "coordinated-words",
   "metadata": {},
   "source": [
    "Split train and test data"
   ]
  },
  {
   "cell_type": "code",
   "execution_count": 16,
   "id": "wanted-pledge",
   "metadata": {},
   "outputs": [],
   "source": [
    "X_train, X_test, y_train, y_test = train_test_split(X, y, shuffle=True, test_size=0.2, random_state=58954)"
   ]
  },
  {
   "cell_type": "markdown",
   "id": "unexpected-playlist",
   "metadata": {},
   "source": [
    "## Training the target model\n",
    "\n",
    "Playing with `gamma` can help overfitting and produce risk of MIA."
   ]
  },
  {
   "cell_type": "code",
   "execution_count": 17,
   "id": "specific-namibia",
   "metadata": {},
   "outputs": [
    {
     "data": {
      "text/plain": [
       "SVC(gamma=100.0, probability=True)"
      ]
     },
     "execution_count": 17,
     "metadata": {},
     "output_type": "execute_result"
    }
   ],
   "source": [
    "svclassifier = SVC(kernel='rbf', probability=True, gamma=100.)#linear\n",
    "svclassifier.fit(X_train, y_train)"
   ]
  },
  {
   "cell_type": "markdown",
   "id": "handed-reasoning",
   "metadata": {},
   "source": [
    "## Evaluate the target model model"
   ]
  },
  {
   "cell_type": "code",
   "execution_count": 19,
   "id": "protective-valentine",
   "metadata": {},
   "outputs": [
    {
     "name": "stdout",
     "output_type": "stream",
     "text": [
      "[[  0  59]\n",
      " [  0 154]]\n",
      "              precision    recall  f1-score   support\n",
      "\n",
      "           0       0.00      0.00      0.00        59\n",
      "           1       0.72      1.00      0.84       154\n",
      "\n",
      "    accuracy                           0.72       213\n",
      "   macro avg       0.36      0.50      0.42       213\n",
      "weighted avg       0.52      0.72      0.61       213\n",
      "\n"
     ]
    },
    {
     "name": "stderr",
     "output_type": "stream",
     "text": [
      "C:\\Users\\simonr04\\git\\GRAIMatter\\venv\\lib\\site-packages\\sklearn\\metrics\\_classification.py:1318: UndefinedMetricWarning: Precision and F-score are ill-defined and being set to 0.0 in labels with no predicted samples. Use `zero_division` parameter to control this behavior.\n",
      "  _warn_prf(average, modifier, msg_start, len(result))\n",
      "C:\\Users\\simonr04\\git\\GRAIMatter\\venv\\lib\\site-packages\\sklearn\\metrics\\_classification.py:1318: UndefinedMetricWarning: Precision and F-score are ill-defined and being set to 0.0 in labels with no predicted samples. Use `zero_division` parameter to control this behavior.\n",
      "  _warn_prf(average, modifier, msg_start, len(result))\n",
      "C:\\Users\\simonr04\\git\\GRAIMatter\\venv\\lib\\site-packages\\sklearn\\metrics\\_classification.py:1318: UndefinedMetricWarning: Precision and F-score are ill-defined and being set to 0.0 in labels with no predicted samples. Use `zero_division` parameter to control this behavior.\n",
      "  _warn_prf(average, modifier, msg_start, len(result))\n"
     ]
    }
   ],
   "source": [
    "y_pred = svclassifier.predict(X_test)\n",
    "print(confusion_matrix(y_test,y_pred))\n",
    "print(classification_report(y_test,y_pred))"
   ]
  },
  {
   "cell_type": "code",
   "execution_count": 20,
   "id": "prime-burns",
   "metadata": {},
   "outputs": [
    {
     "name": "stdout",
     "output_type": "stream",
     "text": [
      "Confusion matrix, without normalization\n",
      "[[  0  59]\n",
      " [  0 154]]\n"
     ]
    },
    {
     "data": {
      "image/png": "[encoded data removed]",
      "text/plain": [
       "<Figure size 432x288 with 2 Axes>"
      ]
     },
     "metadata": {
      "needs_background": "light"
     },
     "output_type": "display_data"
    }
   ],
   "source": [
    "def plot_confusion_matrix(cm, classes,\n",
    "                          normalize=False,\n",
    "                          title='Confusion matrix',\n",
    "                          cmap=plt.cm.Blues):\n",
    "\n",
    "    if normalize:\n",
    "        cm = cm.astype('float') / cm.sum(axis=1)[:, np.newaxis]\n",
    "        print(\"Normalized confusion matrix\")\n",
    "    else:\n",
    "        print('Confusion matrix, without normalization')\n",
    "\n",
    "    print(cm)\n",
    "\n",
    "    plt.imshow(cm, interpolation='nearest', cmap=cmap)\n",
    "    plt.title(title)\n",
    "    plt.colorbar()\n",
    "    tick_marks = np.arange(len(classes))\n",
    "    plt.xticks(tick_marks, classes, rotation=45)\n",
    "    plt.yticks(tick_marks, classes)\n",
    "\n",
    "    fmt = '.2f' if normalize else 'd'\n",
    "    thresh = cm.max() / 2.\n",
    "    for i, j in itertools.product(range(cm.shape[0]), range(cm.shape[1])):\n",
    "        plt.text(j, i, format(cm[i, j], fmt),\n",
    "               horizontalalignment=\"center\",\n",
    "               color=\"white\" if cm[i, j] > thresh else \"black\")\n",
    "\n",
    "    plt.tight_layout()\n",
    "    plt.ylabel('True label')\n",
    "    plt.xlabel('Predicted label')\n",
    "    plt.show()\n",
    "\n",
    "\n",
    "plot_confusion_matrix(confusion_matrix(y_test,y_pred), range(2))"
   ]
  },
  {
   "cell_type": "markdown",
   "id": "bizarre-assembly",
   "metadata": {},
   "source": [
    "https://scikit-learn.org/stable/auto_examples/model_selection/plot_roc_crossval.html#sphx-glr-auto-examples-model-selection-plot-roc-crossval-py"
   ]
  },
  {
   "cell_type": "code",
   "execution_count": 21,
   "id": "animal-seventh",
   "metadata": {},
   "outputs": [],
   "source": [
    "def plotROC_classifier(clf, X_tmp, y_tmp, X_tmp_test, y_tmp_test): #cv):\n",
    "    tprs = []\n",
    "    aucs = []\n",
    "    mean_fpr = np.linspace(0, 1, 100)\n",
    "\n",
    "    fig, ax = plt.subplots()\n",
    "    viz = RocCurveDisplay.from_estimator(\n",
    "            clf,\n",
    "            X_tmp_test,\n",
    "            y_tmp_test,\n",
    "            name=\"ROC fold {}\".format(0),#i),\n",
    "            alpha=0.3,\n",
    "            lw=1,\n",
    "            ax=ax,\n",
    "        )\n",
    "    interp_tpr = np.interp(mean_fpr, viz.fpr, viz.tpr)\n",
    "    interp_tpr[0] = 0.0\n",
    "    tprs.append(interp_tpr)\n",
    "    aucs.append(viz.roc_auc)\n",
    "\n",
    "    ax.plot([0, 1], [0, 1], linestyle=\"--\", lw=2, color=\"r\", label=\"Chance\", alpha=0.8)\n",
    "\n",
    "    mean_tpr = np.mean(tprs, axis=0)\n",
    "    mean_tpr[-1] = 1.0\n",
    "    mean_auc = auc(mean_fpr, mean_tpr)\n",
    "    std_auc = np.std(aucs)\n",
    "    ax.plot(\n",
    "        mean_fpr,\n",
    "        mean_tpr,\n",
    "        color=\"b\",\n",
    "        label=r\"Mean ROC (AUC = %0.2f $\\pm$ %0.2f)\" % (mean_auc, std_auc),\n",
    "        lw=2,\n",
    "        alpha=0.8,\n",
    "    )\n",
    "\n",
    "    std_tpr = np.std(tprs, axis=0)\n",
    "    tprs_upper = np.minimum(mean_tpr + std_tpr, 1)\n",
    "    tprs_lower = np.maximum(mean_tpr - std_tpr, 0)\n",
    "    ax.fill_between(\n",
    "        mean_fpr,\n",
    "        tprs_lower,\n",
    "        tprs_upper,\n",
    "        color=\"grey\",\n",
    "        alpha=0.2,\n",
    "        label=r\"$\\pm$ 1 std. dev.\",\n",
    "    )\n",
    "\n",
    "    ax.set(\n",
    "        xlim=[-0.05, 1.05],\n",
    "        ylim=[-0.05, 1.05],\n",
    "        title=\"Receiver operating characteristic example\",\n",
    "    )\n",
    "    ax.legend(loc=\"lower right\")\n",
    "    plt.show()"
   ]
  },
  {
   "cell_type": "code",
   "execution_count": 22,
   "id": "limited-given",
   "metadata": {},
   "outputs": [
    {
     "data": {
      "image/png": "[encoded data removed]",
      "text/plain": [
       "<Figure size 432x288 with 1 Axes>"
      ]
     },
     "metadata": {
      "needs_background": "light"
     },
     "output_type": "display_data"
    }
   ],
   "source": [
    "plotROC_classifier(svclassifier, X, y, X_test, y_test)"
   ]
  },
  {
   "cell_type": "markdown",
   "id": "natural-coral",
   "metadata": {},
   "source": [
    "# Memebership inference"
   ]
  },
  {
   "cell_type": "markdown",
   "id": "hindu-installation",
   "metadata": {},
   "source": [
    "based on code from Simon (https://github.com/jim-smith/GRAIMatter/blob/main/WP1/notebooks/membership_inference_example.ipynb)"
   ]
  },
  {
   "cell_type": "markdown",
   "id": "educated-nashville",
   "metadata": {},
   "source": [
    "### Construct a dataset with label of whether or not in the training"
   ]
  },
  {
   "cell_type": "markdown",
   "id": "imported-introduction",
   "metadata": {},
   "source": [
    "Construct a dataset with label of whether or not in the training. Assumption is that attacker has access to dataset of training and testing examples. Obviously this is an unrealistic attack model but serves to identify whether the model is intrinsically weak."
   ]
  },
  {
   "cell_type": "code",
   "execution_count": 44,
   "id": "protecting-heather",
   "metadata": {},
   "outputs": [],
   "source": [
    "def classification_labels(clf, sort_probs=False, keep_top=-1):\n",
    "    miX = np.concatenate(\n",
    "        (\n",
    "            clf.predict_proba(X_train),\n",
    "            clf.predict_proba(X_test)\n",
    "        )\n",
    "    )\n",
    "    \n",
    "    # Some methods sort the probs so that the highest\n",
    "    # is always feature 1\n",
    "    if sort_probs:\n",
    "        miX = -np.sort(-miX, axis=1)\n",
    "\n",
    "    if keep_top > -1:\n",
    "        miX = miX[:, :keep_top]\n",
    "        \n",
    "    miY = np.concatenate(\n",
    "        (\n",
    "        np.ones((len(X_train), 1), int),\n",
    "        np.zeros((len(X_test), 1), int)\n",
    "        )\n",
    "    ).flatten()\n",
    "    return(miX,miY)\n",
    "\n",
    "miX, miY = classification_labels(svclassifier, sort_probs=True, keep_top=1)"
   ]
  },
  {
   "cell_type": "code",
   "execution_count": 45,
   "id": "52b52dca",
   "metadata": {},
   "outputs": [
    {
     "name": "stdout",
     "output_type": "stream",
     "text": [
      "(1064, 1)\n"
     ]
    }
   ],
   "source": [
    "print(miX.shape)"
   ]
  },
  {
   "cell_type": "markdown",
   "id": "municipal-canadian",
   "metadata": {},
   "source": [
    "Split the MI dataset into train and test portions"
   ]
  },
  {
   "cell_type": "code",
   "execution_count": 46,
   "id": "manual-underwear",
   "metadata": {},
   "outputs": [],
   "source": [
    "mi_train_x, mi_test_x, mi_train_y, mi_test_y = train_test_split(miX, miY, test_size=0.2, stratify=miY)"
   ]
  },
  {
   "cell_type": "markdown",
   "id": "bottom-spanish",
   "metadata": {},
   "source": [
    "## Train the Attack classifier\n",
    "\n",
    "In this case we use a random forest and a SVC"
   ]
  },
  {
   "cell_type": "code",
   "execution_count": 47,
   "id": "devoted-ghost",
   "metadata": {},
   "outputs": [
    {
     "data": {
      "text/plain": [
       "RandomForestClassifier()"
      ]
     },
     "execution_count": 47,
     "metadata": {},
     "output_type": "execute_result"
    }
   ],
   "source": [
    "mi_rf = RandomForestClassifier()\n",
    "mi_rf.fit(mi_train_x, mi_train_y)"
   ]
  },
  {
   "cell_type": "code",
   "execution_count": 48,
   "id": "sophisticated-indie",
   "metadata": {},
   "outputs": [
    {
     "data": {
      "text/plain": [
       "SVC(probability=True)"
      ]
     },
     "execution_count": 48,
     "metadata": {},
     "output_type": "execute_result"
    }
   ],
   "source": [
    "mi_svclassifier = SVC(kernel='rbf', probability=True)\n",
    "mi_svclassifier.fit(mi_train_x, mi_train_y)"
   ]
  },
  {
   "cell_type": "markdown",
   "id": "05bb8934",
   "metadata": {},
   "source": [
    "Here we plot how well the attack model can distinguish between examples that were used to train and those not used to train. A high AUC suggests that the model is _intrinsically_ disclosive."
   ]
  },
  {
   "cell_type": "code",
   "execution_count": 49,
   "id": "expanded-interim",
   "metadata": {},
   "outputs": [
    {
     "data": {
      "image/png": "[encoded data removed]",
      "text/plain": [
       "<Figure size 432x288 with 1 Axes>"
      ]
     },
     "metadata": {
      "needs_background": "light"
     },
     "output_type": "display_data"
    },
    {
     "data": {
      "image/png": "[encoded data removed]",
      "text/plain": [
       "<Figure size 432x288 with 1 Axes>"
      ]
     },
     "metadata": {
      "needs_background": "light"
     },
     "output_type": "display_data"
    }
   ],
   "source": [
    "plotROC_classifier(mi_rf, miX, miY, mi_test_x, mi_test_y)\n",
    "plotROC_classifier(mi_svclassifier, miX, miY, mi_test_x, mi_test_y)"
   ]
  },
  {
   "cell_type": "markdown",
   "id": "e8f719cf",
   "metadata": {},
   "source": [
    "We can visualise why the attach model is able to work by looking at the probabilities that the attack classifier gives to training and non-training examples."
   ]
  },
  {
   "cell_type": "code",
   "execution_count": 64,
   "id": "failing-characterization",
   "metadata": {},
   "outputs": [],
   "source": [
    "pred_y_svc = svclassifier.predict_proba(X_test)\n",
    "pred_train_y_svc = svclassifier.predict_proba(X_train)"
   ]
  },
  {
   "cell_type": "code",
   "execution_count": 70,
   "id": "regular-trading",
   "metadata": {},
   "outputs": [
    {
     "data": {
      "image/png": "[encoded data removed]",
      "text/plain": [
       "<Figure size 432x288 with 1 Axes>"
      ]
     },
     "metadata": {
      "needs_background": "light"
     },
     "output_type": "display_data"
    }
   ],
   "source": [
    "def plot_prob_test_train(pred_test, pred_train, plot_class=0, plt_title=None):\n",
    "    fig, ax = plt.subplots()\n",
    "    plt.hist(np.array(pred_train)[:, plot_class],  alpha=0.5, bins=20, label='Training Data (Members)',\n",
    "                histtype='bar', range=(0, 1))\n",
    "    plt.hist(np.array(pred_test)[:, plot_class],  alpha=0.5, bins=20, label='Population Data (Non-members)',\n",
    "                histtype='bar', range=(0, 1))\n",
    "    plt.legend()\n",
    "    plt.xlabel('Membership Probability')\n",
    "    plt.ylabel('Fraction')\n",
    "    if plt_title:\n",
    "        plt.title(f'{plt_title} (class {plot_class})')\n",
    "\n",
    "plot_prob_test_train(pred_y_svc, pred_train_y_svc, plot_class=1, plt_title='SVC')"
   ]
  },
  {
   "cell_type": "code",
   "execution_count": null,
   "id": "1dc0e93a",
   "metadata": {},
   "outputs": [],
   "source": []
  }
 ],
 "metadata": {
  "kernelspec": {
   "display_name": "Python 3",
   "language": "python",
   "name": "python3"
  },
  "language_info": {
   "codemirror_mode": {
    "name": "ipython",
    "version": 3
   },
   "file_extension": ".py",
   "mimetype": "text/x-python",
   "name": "python",
   "nbconvert_exporter": "python",
   "pygments_lexer": "ipython3",
   "version": "3.9.2"
  }
 },
 "nbformat": 4,
 "nbformat_minor": 5
}
