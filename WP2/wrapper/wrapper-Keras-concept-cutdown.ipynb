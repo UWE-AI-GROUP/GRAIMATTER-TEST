{
 "cells": [
  {
   "cell_type": "code",
   "execution_count": 1,
   "metadata": {},
   "outputs": [],
   "source": [
    "import sys\n",
    "import os\n",
    "\n",
    "ROOT_DIR = os.path.dirname(os.path.dirname(os.path.abspath(\"\")))\n",
    "sys.path.append(ROOT_DIR)"
   ]
  },
  {
   "cell_type": "code",
   "execution_count": 2,
   "metadata": {},
   "outputs": [
    {
     "name": "stderr",
     "output_type": "stream",
     "text": [
      "2022-05-26 08:23:46.657503: W tensorflow/stream_executor/platform/default/dso_loader.cc:64] Could not load dynamic library 'libcudart.so.11.0'; dlerror: libcudart.so.11.0: cannot open shared object file: No such file or directory\n",
      "2022-05-26 08:23:46.657579: I tensorflow/stream_executor/cuda/cudart_stub.cc:29] Ignore above cudart dlerror if you do not have a GPU set up on your machine.\n"
     ]
    }
   ],
   "source": [
    "import numpy as np\n",
    "import matplotlib.pyplot as plt\n",
    "\n",
    "%matplotlib inline\n",
    "\n",
    "# Scikit-learn utils\n",
    "from sklearn.model_selection import train_test_split\n",
    "from sklearn.datasets import make_classification, make_moons\n",
    "from sklearn.metrics import ConfusionMatrixDisplay\n",
    "from sklearn.metrics import confusion_matrix, classification_report, roc_curve, auc\n",
    "\n",
    "# Tensorflow imports\n",
    "import tensorflow as tf\n",
    "from tensorflow.keras.models import Model\n",
    "from tensorflow.keras.layers import Input, Dense, Dropout\n",
    "\n",
    "# Classifiers for attack models\n",
    "from sklearn.linear_model import LogisticRegression\n",
    "from sklearn.neural_network import MLPClassifier\n"
   ]
  },
  {
   "cell_type": "code",
   "execution_count": 3,
   "metadata": {},
   "outputs": [],
   "source": [
    "#import t=privachy version \n",
    "import tensorflow_privacy\n",
    "\n",
    "from tensorflow_privacy.privacy.analysis import compute_dp_sgd_privacy\n"
   ]
  },
  {
   "cell_type": "markdown",
   "metadata": {},
   "source": [
    "### Definition of the datasets\n",
    "1. We draw data points from a distribution.\n",
    "2. We split these data points into the target dataset and a shadow dataset drawn from the same distribution.\n",
    "3. We also draw a dataset from a different distribution.\n",
    "\n",
    "**NOTE**. ***I make datasets with few samples but with many features to force the target model to overfit.***\n",
    "\n",
    "\n",
    "***NOTE JIM: had to make batch_size 25 so DP optimizer would run with same hyperparams"
   ]
  },
  {
   "cell_type": "code",
   "execution_count": 4,
   "metadata": {},
   "outputs": [],
   "source": [
    "n_classes = 2\n",
    "\n",
    "# (X,y): Original distribution\n",
    "X, y = make_classification(n_samples=1000,\n",
    "                           n_classes=n_classes, \n",
    "                           n_features=300,\n",
    "                           n_informative=300,\n",
    "                           n_redundant=0,\n",
    "                           n_repeated=0,\n",
    "                           random_state=15\n",
    "                          )\n",
    "# One-hot encoding of the label\n",
    "y = np.eye(n_classes)[y]\n",
    "\n",
    "# (Xt, yt) is the target dataset, owned by the TRE and drawn from the (X,y) distribution\n",
    "# (Xs, ys) is a shadow dataset drawn from the (X,y) distribution\n",
    "Xt, Xs, yt, ys = train_test_split(X, y, test_size=0.50, random_state=15)\n",
    "\n",
    "# (Xd, yd) is a shadow dataset, drawn from a different distribution (different seed)\n",
    "Xd, yd = make_classification(n_samples=1000,\n",
    "                           n_classes=n_classes, \n",
    "                           n_features=300,\n",
    "                           n_informative=300,\n",
    "                           n_redundant=0,\n",
    "                           n_repeated=0,\n",
    "                           random_state=42\n",
    "                          )\n",
    "yd = np.eye(n_classes)[yd]\n",
    "\n",
    "\n"
   ]
  },
  {
   "cell_type": "code",
   "execution_count": 5,
   "metadata": {},
   "outputs": [],
   "source": [
    "# Split into train (member) and test (non-member) datasets\n",
    "# Set shuffle to False so that Xt_membership is consistent with Xt, otherwise\n",
    "# we need to stack Xt_member and Xt_nonmember again to get a consistent Xt.\n",
    "Xt_member, Xt_nonmember, yt_member, yt_nonmember = train_test_split(Xt, yt, test_size=0.5, shuffle=False)\n",
    "\n",
    "# Set membership status for future tests\n",
    "Xt_membership = np.vstack(\n",
    "    (\n",
    "        np.ones((Xt_member.shape[0], 1), np.uint8),\n",
    "        np.zeros((Xt_nonmember.shape[0], 1), np.uint8)\n",
    "    )\n",
    ").flatten()"
   ]
  },
  {
   "cell_type": "markdown",
   "metadata": {},
   "source": [
    "### Define the target model architecture\n",
    "\n",
    "*Again, I'm using a rather big model (for the classification task) to favour overfitting.*"
   ]
  },
  {
   "cell_type": "code",
   "execution_count": 6,
   "metadata": {},
   "outputs": [
    {
     "name": "stderr",
     "output_type": "stream",
     "text": [
      "2022-05-26 08:23:49.645644: W tensorflow/stream_executor/platform/default/dso_loader.cc:64] Could not load dynamic library 'libcuda.so.1'; dlerror: libcuda.so.1: cannot open shared object file: No such file or directory\n",
      "2022-05-26 08:23:49.645705: W tensorflow/stream_executor/cuda/cuda_driver.cc:269] failed call to cuInit: UNKNOWN ERROR (303)\n",
      "2022-05-26 08:23:49.645749: I tensorflow/stream_executor/cuda/cuda_diagnostics.cc:156] kernel driver does not appear to be running on this host (ubuntu): /proc/driver/nvidia/version does not exist\n",
      "2022-05-26 08:23:49.646120: I tensorflow/core/platform/cpu_feature_guard.cc:151] This TensorFlow binary is optimized with oneAPI Deep Neural Network Library (oneDNN) to use the following CPU instructions in performance-critical operations:  AVX2 FMA\n",
      "To enable them in other operations, rebuild TensorFlow with the appropriate compiler flags.\n"
     ]
    }
   ],
   "source": [
    "# Define target model\n",
    "# Tensorflow model (MLP) (making it big to make it overfit)\n",
    "\n",
    "input_data = Input(shape = Xt_member[0].shape)\n",
    "x = Dense(128, activation='relu')(input_data)\n",
    "x = Dense(128, activation='relu')(x)\n",
    "x = Dense(64, activation='relu')(x)\n",
    "output = Dense(2, activation='softmax')(x)"
   ]
  },
  {
   "cell_type": "markdown",
   "metadata": {},
   "source": [
    "## Now try the SafeKerasModel version"
   ]
  },
  {
   "cell_type": "code",
   "execution_count": 7,
   "metadata": {
    "scrolled": true
   },
   "outputs": [],
   "source": [
    "import importlib\n",
    "import safemodel\n",
    "from safemodel.classifiers.safekeras import Safe_KerasModel\n",
    "\n",
    "\n",
    "\n",
    "importlib.reload(safemodel.safemodel)\n",
    "importlib.reload(safemodel.classifiers.safekeras)\n",
    "from safemodel.classifiers.safekeras import Safe_KerasModel\n",
    "\n"
   ]
  },
  {
   "cell_type": "code",
   "execution_count": 8,
   "metadata": {},
   "outputs": [
    {
     "name": "stdout",
     "output_type": "stream",
     "text": [
      "args is a <class 'tuple'> = ()  kwargs is a <class 'dict'>= {'inputs': <KerasTensor: shape=(None, 300) dtype=float32 (created by layer 'input_1')>, 'outputs': <KerasTensor: shape=(None, 2) dtype=float32 (created by layer 'dense_3')>, 'name': 'safekeras-test'}\n",
      "inputs is in kwargs.keys\n",
      "KerasTensor(type_spec=TensorSpec(shape=(None, 300), dtype=tf.float32, name='input_1'), name='input_1', description=\"created by layer 'input_1'\")\n",
      "Model parameters are within recommended ranges.\n",
      "\n"
     ]
    }
   ],
   "source": [
    "optimizer=None\n",
    "safeModel = Safe_KerasModel(inputs= input_data, outputs=output,name=\"safekeras-test\")\n"
   ]
  },
  {
   "cell_type": "code",
   "execution_count": 9,
   "metadata": {},
   "outputs": [],
   "source": [
    "#safeModel.__dict__\n"
   ]
  },
  {
   "cell_type": "code",
   "execution_count": 10,
   "metadata": {},
   "outputs": [
    {
     "name": "stdout",
     "output_type": "stream",
     "text": [
      "Changed parameter optimizer = 'DPKerasSGDOptimizer'\n",
      "DP optimizer used = False\n",
      "optimizer has been changed but fit() has not been rerun.\n"
     ]
    }
   ],
   "source": [
    "loss = tf.keras.losses.CategoricalCrossentropy(\n",
    "    from_logits=False, reduction=tf.losses.Reduction.NONE)\n",
    "\n",
    "\n",
    "safeModel.compile(loss=loss)#optimizer='adam', loss='categorical_crossentropy', metrics=['accuracy'])\n",
    "\n",
    "\n"
   ]
  },
  {
   "cell_type": "code",
   "execution_count": 11,
   "metadata": {
    "scrolled": true
   },
   "outputs": [
    {
     "name": "stdout",
     "output_type": "stream",
     "text": [
      "optimiser is type <class 'tensorflow_privacy.privacy.optimizers.dp_optimizer_keras.make_keras_optimizer_class.<locals>.DPOptimizerClass'>\n",
      " It is True that the model will be DP because optimizer does  contain key _was_dp_gradients_called so should be DP.\n"
     ]
    }
   ],
   "source": [
    "theType= type(safeModel.optimizer)\n",
    "print(f'optimiser is type {theType}')\n",
    "\n",
    "dpused,reason = safeModel.check_optimizer_is_DP(safeModel.optimizer)\n",
    "print(f' It is {dpused} that the model will be DP because {reason}')"
   ]
  },
  {
   "cell_type": "code",
   "execution_count": 12,
   "metadata": {},
   "outputs": [
    {
     "name": "stdout",
     "output_type": "stream",
     "text": [
      "(250, 300)\n",
      "DP-SGD with sampling rate = 10% and noise_multiplier = 0.5 iterated over 200 steps satisfies differential privacy with eps = 50.3 and delta = 1e-05.\n",
      "The optimal RDP order is 1.5.\n",
      "Current epsilon is 50.301726361197794\n",
      "The requirements for DP are not met, current epsilon is: 50.301726361197794. To attain true DP the following parameters can be changed:  Num Samples = 250, batch_size = 25, epochs = 20\n",
      "This will not result in a Differentially Private model do you want to continue [Y/N]y\n",
      "Continuing\n",
      "Epoch 1/20\n",
      "10/10 [==============================] - 2s 47ms/step - loss: 2.9210 - accuracy: 0.4760 - val_loss: 2.3364 - val_accuracy: 0.5000\n",
      "Epoch 2/20\n",
      "10/10 [==============================] - 0s 33ms/step - loss: 2.0987 - accuracy: 0.5040 - val_loss: 2.1796 - val_accuracy: 0.5200\n",
      "Epoch 3/20\n",
      "10/10 [==============================] - 0s 34ms/step - loss: 1.8527 - accuracy: 0.5960 - val_loss: 2.1520 - val_accuracy: 0.4880\n",
      "Epoch 4/20\n",
      "10/10 [==============================] - 0s 35ms/step - loss: 1.5755 - accuracy: 0.6240 - val_loss: 2.0723 - val_accuracy: 0.5040\n",
      "Epoch 5/20\n",
      "10/10 [==============================] - 0s 31ms/step - loss: 1.3371 - accuracy: 0.6760 - val_loss: 2.0764 - val_accuracy: 0.4840\n",
      "Epoch 6/20\n",
      "10/10 [==============================] - 0s 35ms/step - loss: 1.1414 - accuracy: 0.7040 - val_loss: 2.0399 - val_accuracy: 0.4800\n",
      "Epoch 7/20\n",
      "10/10 [==============================] - 0s 30ms/step - loss: 0.9844 - accuracy: 0.7400 - val_loss: 2.1015 - val_accuracy: 0.5280\n",
      "Epoch 8/20\n",
      "10/10 [==============================] - 0s 30ms/step - loss: 0.8776 - accuracy: 0.7760 - val_loss: 2.0747 - val_accuracy: 0.5280\n",
      "Epoch 9/20\n",
      "10/10 [==============================] - 0s 35ms/step - loss: 0.8837 - accuracy: 0.7800 - val_loss: 2.0151 - val_accuracy: 0.5480\n",
      "Epoch 10/20\n",
      "10/10 [==============================] - 0s 36ms/step - loss: 0.7511 - accuracy: 0.7840 - val_loss: 2.1297 - val_accuracy: 0.5320\n",
      "Epoch 11/20\n",
      "10/10 [==============================] - 0s 40ms/step - loss: 0.7012 - accuracy: 0.8240 - val_loss: 2.0424 - val_accuracy: 0.5560\n",
      "Epoch 12/20\n",
      "10/10 [==============================] - 0s 39ms/step - loss: 0.5573 - accuracy: 0.8480 - val_loss: 2.0766 - val_accuracy: 0.5520\n",
      "Epoch 13/20\n",
      "10/10 [==============================] - 0s 46ms/step - loss: 0.5008 - accuracy: 0.8560 - val_loss: 2.0457 - val_accuracy: 0.5480\n",
      "Epoch 14/20\n",
      "10/10 [==============================] - 1s 57ms/step - loss: 0.4344 - accuracy: 0.8840 - val_loss: 2.0180 - val_accuracy: 0.5680\n",
      "Epoch 15/20\n",
      "10/10 [==============================] - 0s 46ms/step - loss: 0.3619 - accuracy: 0.8960 - val_loss: 2.0543 - val_accuracy: 0.5680\n",
      "Epoch 16/20\n",
      "10/10 [==============================] - 0s 47ms/step - loss: 0.3275 - accuracy: 0.9000 - val_loss: 2.1008 - val_accuracy: 0.5560\n",
      "Epoch 17/20\n",
      "10/10 [==============================] - 0s 39ms/step - loss: 0.2528 - accuracy: 0.9280 - val_loss: 2.1496 - val_accuracy: 0.5400\n",
      "Epoch 18/20\n",
      "10/10 [==============================] - 1s 65ms/step - loss: 0.2229 - accuracy: 0.9080 - val_loss: 2.2908 - val_accuracy: 0.5480\n",
      "Epoch 19/20\n",
      "10/10 [==============================] - 1s 56ms/step - loss: 0.1836 - accuracy: 0.9240 - val_loss: 2.3914 - val_accuracy: 0.5440\n",
      "Epoch 20/20\n",
      "10/10 [==============================] - 0s 38ms/step - loss: 0.1582 - accuracy: 0.9360 - val_loss: 2.2547 - val_accuracy: 0.5640\n"
     ]
    },
    {
     "data": {
      "image/png": "[encoded data removed]",
      "text/plain": [
       "<Figure size 432x288 with 1 Axes>"
      ]
     },
     "metadata": {
      "needs_background": "light"
     },
     "output_type": "display_data"
    }
   ],
   "source": [
    "epochs = 20\n",
    "batch_size = 25\n",
    "\n",
    "r_DP = safeModel.fit(Xt_member, \n",
    "              yt_member, \n",
    "              validation_data=(Xt_nonmember, yt_nonmember),\n",
    "              epochs=epochs, \n",
    "              batch_size=batch_size\n",
    ")  \n",
    "\n",
    "\n",
    "plt.plot(r_DP.history['accuracy'], label='accuracy')\n",
    "plt.plot(r_DP.history['val_accuracy'], label='validation accuracy')\n",
    "plt.legend()\n",
    "plt.show() \n"
   ]
  },
  {
   "cell_type": "code",
   "execution_count": 13,
   "metadata": {},
   "outputs": [
    {
     "name": "stdout",
     "output_type": "stream",
     "text": [
      "optimiser is type <class 'tensorflow_privacy.privacy.optimizers.dp_optimizer_keras.make_keras_optimizer_class.<locals>.DPOptimizerClass'>\n",
      " It is True that the model will be DP because  value of optimizer._was_dp_gradients_called is True so DP variant of optimizer has been run\n"
     ]
    }
   ],
   "source": [
    "theType= type(safeModel.optimizer)\n",
    "print(f'optimiser is type {theType}')\n",
    "\n",
    "dpused,reason = safeModel.check_DP_used(safeModel.optimizer)\n",
    "print(f' It is {dpused} that the model will be DP because {reason}')"
   ]
  },
  {
   "cell_type": "markdown",
   "metadata": {},
   "source": [
    "## compute privacy"
   ]
  },
  {
   "cell_type": "code",
   "execution_count": 14,
   "metadata": {},
   "outputs": [
    {
     "name": "stdout",
     "output_type": "stream",
     "text": [
      "dataset has 500 entries so batch size is 5.0%\n",
      "DP-SGD with sampling rate = 5% and noise_multiplier = 0.5 iterated over 500 steps satisfies differential privacy with eps = 43.9 and delta = 1e-05.\n",
      "The optimal RDP order is 1.5.\n",
      "with these settings privacy = (43.85228589564216, 1.5)\n"
     ]
    }
   ],
   "source": [
    "print(f'dataset has {Xt.shape[0]} entries so batch size is {100*safeModel.batch_size/Xt.shape[0]}%')\n",
    "privacy = compute_dp_sgd_privacy.compute_dp_sgd_privacy(n=Xt.shape[0],\n",
    "                                              batch_size=safeModel.batch_size,\n",
    "                                              noise_multiplier=safeModel.noise_multiplier,\n",
    "                                              epochs=25,#epochs,\n",
    "                                              delta=1e-5)\n",
    "print(f'with these settings privacy = {privacy}')"
   ]
  },
  {
   "cell_type": "code",
   "execution_count": 15,
   "metadata": {},
   "outputs": [
    {
     "name": "stderr",
     "output_type": "stream",
     "text": [
      "2022-05-26 08:24:07.450844: W tensorflow/python/util/util.cc:368] Sets are not currently considered sequences, but this may change in the future, so consider avoiding using them.\n"
     ]
    },
    {
     "name": "stdout",
     "output_type": "stream",
     "text": [
      "INFO:tensorflow:Assets written to: safekeras.sav/assets\n"
     ]
    }
   ],
   "source": [
    "safeModel.save('safekeras.sav')"
   ]
  },
  {
   "cell_type": "code",
   "execution_count": 16,
   "metadata": {},
   "outputs": [
    {
     "name": "stdout",
     "output_type": "stream",
     "text": [
      "Model parameters are within recommended ranges.\n",
      "\n"
     ]
    },
    {
     "data": {
      "text/plain": [
       "('Model parameters are within recommended ranges.\\n', False)"
      ]
     },
     "execution_count": 16,
     "metadata": {},
     "output_type": "execute_result"
    }
   ],
   "source": [
    "safeModel.preliminary_check()"
   ]
  },
  {
   "cell_type": "code",
   "execution_count": 17,
   "metadata": {},
   "outputs": [
    {
     "name": "stdout",
     "output_type": "stream",
     "text": [
      "thing associated with key _self_setattr_tracking has type <class 'bool'>\n",
      "thing associated with key _obj_reference_counts_dict has type <class 'keras.utils.object_identity.ObjectIdentityDictionary'>\n",
      "thing associated with key inputs has type <class 'list'>\n",
      "thing associated with key outputs has type <class 'list'>\n",
      "thing associated with key l2_norm_clip has type <class 'float'>\n",
      "thing associated with key noise_multiplier has type <class 'float'>\n",
      "thing associated with key min_epsilon has type <class 'int'>\n",
      "thing associated with key delta has type <class 'float'>\n",
      "thing associated with key batch_size has type <class 'int'>\n",
      "thing associated with key learning_rate has type <class 'float'>\n",
      "thing associated with key _is_model_for_instrumentation has type <class 'bool'>\n",
      "thing associated with key _instrumented_keras_api has type <class 'bool'>\n",
      "thing associated with key _instrumented_keras_layer_class has type <class 'bool'>\n",
      "thing associated with key _instrumented_keras_model_class has type <class 'bool'>\n",
      "thing associated with key _trainable has type <class 'bool'>\n",
      "thing associated with key _stateful has type <class 'bool'>\n",
      "thing associated with key built has type <class 'bool'>\n",
      "thing associated with key _input_spec has type <class 'NoneType'>\n",
      "thing associated with key _build_input_shape has type <class 'tensorflow.python.framework.tensor_shape.TensorShape'>\n",
      "thing associated with key _saved_model_inputs_spec has type <class 'tensorflow.python.framework.tensor_spec.TensorSpec'>\n",
      "thing associated with key _saved_model_arg_spec has type <class 'tuple'>\n",
      "thing associated with key _supports_masking has type <class 'bool'>\n",
      "thing associated with key _name has type <class 'str'>\n",
      "thing associated with key _activity_regularizer has type <class 'NoneType'>\n",
      "thing associated with key _trainable_weights has type <class 'list'>\n",
      "thing associated with key _non_trainable_weights has type <class 'list'>\n",
      "thing associated with key _updates has type <class 'list'>\n",
      "thing associated with key _thread_local has type <class '_thread._local'>\n",
      "thing associated with key _callable_losses has type <class 'list'>\n",
      "thing associated with key _losses has type <class 'list'>\n",
      "thing associated with key _metrics has type <class 'list'>\n",
      "thing associated with key _metrics_lock has type <class '_thread.lock'>\n",
      "thing associated with key _dtype_policy has type <class 'keras.mixed_precision.policy.Policy'>\n",
      "thing associated with key _compute_dtype_object has type <class 'tensorflow.python.framework.dtypes.DType'>\n",
      "thing associated with key _autocast has type <class 'bool'>\n",
      "thing associated with key _self_tracked_trackables has type <class 'list'>\n",
      "thing associated with key _inbound_nodes_value has type <class 'list'>\n",
      "thing associated with key _outbound_nodes_value has type <class 'list'>\n",
      "thing associated with key _expects_training_arg has type <class 'bool'>\n",
      "thing associated with key _default_training_arg has type <class 'NoneType'>\n",
      "thing associated with key _expects_mask_arg has type <class 'bool'>\n",
      "thing associated with key _dynamic has type <class 'bool'>\n",
      "thing associated with key _initial_weights has type <class 'NoneType'>\n",
      "thing associated with key _auto_track_sub_layers has type <class 'bool'>\n",
      "thing associated with key _preserve_input_structure_in_config has type <class 'bool'>\n",
      "thing associated with key _outer_name_scope has type <class 'str'>\n",
      "thing associated with key _is_graph_network has type <class 'bool'>\n",
      "thing associated with key input_names has type <class 'list'>\n",
      "thing associated with key output_names has type <class 'list'>\n",
      "thing associated with key _compute_output_and_mask_jointly has type <class 'bool'>\n",
      "thing associated with key _distribution_strategy has type <class 'NoneType'>\n",
      "thing associated with key _cluster_coordinator has type <class 'NoneType'>\n",
      "thing associated with key _compiled_trainable_state has type <class 'weakref.WeakKeyDictionary'>\n",
      "thing associated with key _training_state has type <class 'NoneType'>\n",
      "thing associated with key _trackable_saver has type <class 'tensorflow.python.training.tracking.util.TrackableSaver'>\n",
      "thing associated with key _steps_per_execution has type <class 'tensorflow.python.ops.resource_variable_ops.ResourceVariable'>\n",
      "thing associated with key _train_counter has type <class 'tensorflow.python.ops.resource_variable_ops.ResourceVariable'>\n",
      "thing associated with key _test_counter has type <class 'tensorflow.python.ops.resource_variable_ops.ResourceVariable'>\n",
      "thing associated with key _predict_counter has type <class 'tensorflow.python.ops.resource_variable_ops.ResourceVariable'>\n",
      "thing associated with key _base_model_initialized has type <class 'bool'>\n",
      "thing associated with key _nested_inputs has type <class 'keras.engine.keras_tensor.KerasTensor'>\n",
      "thing associated with key _nested_outputs has type <class 'keras.engine.keras_tensor.KerasTensor'>\n",
      "thing associated with key _enable_dict_to_input_mapping has type <class 'bool'>\n",
      "thing associated with key _input_layers has type <class 'list'>\n",
      "thing associated with key _output_layers has type <class 'list'>\n",
      "thing associated with key _input_coordinates has type <class 'list'>\n",
      "thing associated with key _output_coordinates has type <class 'list'>\n",
      "thing associated with key _output_mask_cache has type <class 'dict'>\n",
      "thing associated with key _output_tensor_cache has type <class 'dict'>\n",
      "thing associated with key _output_shape_cache has type <class 'dict'>\n",
      "thing associated with key _network_nodes has type <class 'set'>\n",
      "thing associated with key _nodes_by_depth has type <class 'collections.defaultdict'>\n",
      "thing associated with key _layer_call_argspecs has type <class 'dict'>\n",
      "thing associated with key _feed_input_names has type <class 'list'>\n",
      "thing associated with key _feed_inputs has type <class 'list'>\n",
      "thing associated with key _feed_input_shapes has type <class 'list'>\n",
      "thing associated with key _tensor_usage_count has type <class 'collections.Counter'>\n",
      "thing associated with key model has type <class 'NoneType'>\n",
      "thing associated with key saved_model has type <class 'NoneType'>\n",
      "thing associated with key model_save_file has type <class 'str'>\n",
      "thing associated with key _self_unconditional_checkpoint_dependencies has type <class 'list'>\n",
      "thing associated with key _self_unconditional_dependency_names has type <class 'dict'>\n",
      "thing associated with key _self_unconditional_deferred_dependencies has type <class 'dict'>\n",
      "thing associated with key _self_update_uid has type <class 'int'>\n",
      "thing associated with key _self_name_based_restores has type <class 'set'>\n",
      "thing associated with key _self_saveable_object_factories has type <class 'dict'>\n",
      "thing associated with key examine_seperately_items has type <class 'tensorflow.python.training.tracking.data_structures.ListWrapper'>\n",
      "thing associated with key filename has type <class 'str'>\n",
      "thing associated with key researcher has type <class 'str'>\n",
      "thing associated with key ignore_items has type <class 'tensorflow.python.training.tracking.data_structures.ListWrapper'>\n",
      "thing associated with key model_type has type <class 'str'>\n",
      "thing associated with key num_microbatches has type <class 'NoneType'>\n",
      "thing associated with key _run_eagerly has type <class 'NoneType'>\n",
      "thing associated with key optimizer has type <class 'tensorflow_privacy.privacy.optimizers.dp_optimizer_keras.make_keras_optimizer_class.<locals>.DPOptimizerClass'>\n",
      "thing associated with key compiled_loss has type <class 'keras.engine.compile_utils.LossesContainer'>\n",
      "thing associated with key compiled_metrics has type <class 'keras.engine.compile_utils.MetricsContainer'>\n",
      "thing associated with key _is_compiled has type <class 'bool'>\n",
      "thing associated with key loss has type <class 'keras.losses.CategoricalCrossentropy'>\n",
      "thing associated with key _jit_compile has type <class 'NoneType'>\n",
      "thing associated with key num_samples has type <class 'int'>\n",
      "thing associated with key stop_training has type <class 'bool'>\n",
      "thing associated with key history has type <class 'keras.callbacks.History'>\n",
      "thing associated with key train_function has type <class 'tensorflow.python.eager.def_function.Function'>\n",
      "thing associated with key test_function has type <class 'tensorflow.python.eager.def_function.Function'>\n",
      "thing associated with key predict_function has type <class 'NoneType'>\n",
      "thing associated with key train_tf_function has type <class 'tensorflow.python.eager.def_function.Function'>\n"
     ]
    }
   ],
   "source": [
    "for key,value in safeModel.__dict__.items():\n",
    "     print (f'thing associated with key {key} has type {type(value)}')"
   ]
  },
  {
   "cell_type": "code",
   "execution_count": 18,
   "metadata": {},
   "outputs": [
    {
     "name": "stdout",
     "output_type": "stream",
     "text": [
      "===============================================================================================\n",
      "Tuples\n",
      "===============================================================================================\n",
      "thing associated with key _saved_model_arg_spec has type <class 'tuple'>\n",
      "===============================================================================================\n",
      "Bools\n",
      "===============================================================================================\n",
      "thing associated with key _self_setattr_tracking has type <class 'bool'>\n",
      "thing associated with key _is_model_for_instrumentation has type <class 'bool'>\n",
      "thing associated with key _instrumented_keras_api has type <class 'bool'>\n",
      "thing associated with key _instrumented_keras_layer_class has type <class 'bool'>\n",
      "thing associated with key _instrumented_keras_model_class has type <class 'bool'>\n",
      "thing associated with key _trainable has type <class 'bool'>\n",
      "thing associated with key _stateful has type <class 'bool'>\n",
      "thing associated with key built has type <class 'bool'>\n",
      "thing associated with key _supports_masking has type <class 'bool'>\n",
      "thing associated with key _autocast has type <class 'bool'>\n",
      "thing associated with key _expects_training_arg has type <class 'bool'>\n",
      "thing associated with key _expects_mask_arg has type <class 'bool'>\n",
      "thing associated with key _dynamic has type <class 'bool'>\n",
      "thing associated with key _auto_track_sub_layers has type <class 'bool'>\n",
      "thing associated with key _preserve_input_structure_in_config has type <class 'bool'>\n",
      "thing associated with key _is_graph_network has type <class 'bool'>\n",
      "thing associated with key _compute_output_and_mask_jointly has type <class 'bool'>\n",
      "thing associated with key _base_model_initialized has type <class 'bool'>\n",
      "thing associated with key _enable_dict_to_input_mapping has type <class 'bool'>\n",
      "thing associated with key _is_compiled has type <class 'bool'>\n",
      "thing associated with key stop_training has type <class 'bool'>\n",
      "===============================================================================================\n",
      "Lists\n",
      "===============================================================================================\n",
      "thing associated with key inputs has type <class 'list'>\n",
      "thing associated with key outputs has type <class 'list'>\n",
      "thing associated with key _trainable_weights has type <class 'list'>\n",
      "thing associated with key _non_trainable_weights has type <class 'list'>\n",
      "thing associated with key _updates has type <class 'list'>\n",
      "thing associated with key _callable_losses has type <class 'list'>\n",
      "thing associated with key _losses has type <class 'list'>\n",
      "thing associated with key _metrics has type <class 'list'>\n",
      "thing associated with key _self_tracked_trackables has type <class 'list'>\n",
      "thing associated with key _inbound_nodes_value has type <class 'list'>\n",
      "thing associated with key _outbound_nodes_value has type <class 'list'>\n",
      "thing associated with key input_names has type <class 'list'>\n",
      "thing associated with key output_names has type <class 'list'>\n",
      "thing associated with key _input_layers has type <class 'list'>\n",
      "thing associated with key _output_layers has type <class 'list'>\n",
      "thing associated with key _input_coordinates has type <class 'list'>\n",
      "thing associated with key _output_coordinates has type <class 'list'>\n",
      "thing associated with key _feed_input_names has type <class 'list'>\n",
      "thing associated with key _feed_inputs has type <class 'list'>\n",
      "thing associated with key _feed_input_shapes has type <class 'list'>\n",
      "thing associated with key _self_unconditional_checkpoint_dependencies has type <class 'list'>\n",
      "===============================================================================================\n",
      "Strings\n",
      "===============================================================================================\n",
      "thing associated with key _name has type <class 'str'>\n",
      "thing associated with key _outer_name_scope has type <class 'str'>\n",
      "thing associated with key model_save_file has type <class 'str'>\n",
      "thing associated with key filename has type <class 'str'>\n",
      "thing associated with key researcher has type <class 'str'>\n",
      "thing associated with key model_type has type <class 'str'>\n",
      "===============================================================================================\n",
      "Ints\n",
      "===============================================================================================\n",
      "thing associated with key min_epsilon has type <class 'int'>\n",
      "thing associated with key batch_size has type <class 'int'>\n",
      "thing associated with key _self_update_uid has type <class 'int'>\n",
      "thing associated with key num_samples has type <class 'int'>\n",
      "===============================================================================================\n",
      "Floats\n",
      "===============================================================================================\n",
      "thing associated with key l2_norm_clip has type <class 'float'>\n",
      "thing associated with key noise_multiplier has type <class 'float'>\n",
      "thing associated with key delta has type <class 'float'>\n",
      "thing associated with key learning_rate has type <class 'float'>\n",
      "===============================================================================================\n",
      "Dicts\n",
      "===============================================================================================\n",
      "thing associated with key _output_mask_cache has type <class 'dict'>\n",
      "thing associated with key _output_tensor_cache has type <class 'dict'>\n",
      "thing associated with key _output_shape_cache has type <class 'dict'>\n",
      "thing associated with key _layer_call_argspecs has type <class 'dict'>\n",
      "thing associated with key _self_unconditional_dependency_names has type <class 'dict'>\n",
      "thing associated with key _self_unconditional_deferred_dependencies has type <class 'dict'>\n",
      "thing associated with key _self_saveable_object_factories has type <class 'dict'>\n",
      "===============================================================================================\n",
      "Sets\n",
      "===============================================================================================\n",
      "thing associated with key _network_nodes has type <class 'set'>\n",
      "thing associated with key _self_name_based_restores has type <class 'set'>\n",
      "===============================================================================================\n",
      "Unusual Ones\n",
      "===============================================================================================\n",
      "thing associated with key _obj_reference_counts_dict has type <class 'keras.utils.object_identity.ObjectIdentityDictionary'>\n",
      "thing associated with key _input_spec has type <class 'NoneType'>\n",
      "thing associated with key _build_input_shape has type <class 'tensorflow.python.framework.tensor_shape.TensorShape'>\n",
      "thing associated with key _saved_model_inputs_spec has type <class 'tensorflow.python.framework.tensor_spec.TensorSpec'>\n",
      "thing associated with key _activity_regularizer has type <class 'NoneType'>\n",
      "thing associated with key _thread_local has type <class '_thread._local'>\n",
      "thing associated with key _metrics_lock has type <class '_thread.lock'>\n",
      "thing associated with key _dtype_policy has type <class 'keras.mixed_precision.policy.Policy'>\n",
      "thing associated with key _compute_dtype_object has type <class 'tensorflow.python.framework.dtypes.DType'>\n",
      "thing associated with key _default_training_arg has type <class 'NoneType'>\n",
      "thing associated with key _initial_weights has type <class 'NoneType'>\n",
      "thing associated with key _distribution_strategy has type <class 'NoneType'>\n",
      "thing associated with key _cluster_coordinator has type <class 'NoneType'>\n",
      "thing associated with key _compiled_trainable_state has type <class 'weakref.WeakKeyDictionary'>\n",
      "thing associated with key _training_state has type <class 'NoneType'>\n",
      "thing associated with key _trackable_saver has type <class 'tensorflow.python.training.tracking.util.TrackableSaver'>\n",
      "thing associated with key _steps_per_execution has type <class 'tensorflow.python.ops.resource_variable_ops.ResourceVariable'>\n",
      "thing associated with key _train_counter has type <class 'tensorflow.python.ops.resource_variable_ops.ResourceVariable'>\n",
      "thing associated with key _test_counter has type <class 'tensorflow.python.ops.resource_variable_ops.ResourceVariable'>\n",
      "thing associated with key _predict_counter has type <class 'tensorflow.python.ops.resource_variable_ops.ResourceVariable'>\n",
      "thing associated with key _nested_inputs has type <class 'keras.engine.keras_tensor.KerasTensor'>\n",
      "thing associated with key _nested_outputs has type <class 'keras.engine.keras_tensor.KerasTensor'>\n",
      "thing associated with key _nodes_by_depth has type <class 'collections.defaultdict'>\n",
      "thing associated with key _tensor_usage_count has type <class 'collections.Counter'>\n",
      "thing associated with key model has type <class 'NoneType'>\n",
      "thing associated with key saved_model has type <class 'NoneType'>\n",
      "thing associated with key examine_seperately_items has type <class 'tensorflow.python.training.tracking.data_structures.ListWrapper'>\n",
      "thing associated with key ignore_items has type <class 'tensorflow.python.training.tracking.data_structures.ListWrapper'>\n",
      "thing associated with key num_microbatches has type <class 'NoneType'>\n",
      "thing associated with key _run_eagerly has type <class 'NoneType'>\n",
      "thing associated with key optimizer has type <class 'tensorflow_privacy.privacy.optimizers.dp_optimizer_keras.make_keras_optimizer_class.<locals>.DPOptimizerClass'>\n",
      "thing associated with key compiled_loss has type <class 'keras.engine.compile_utils.LossesContainer'>\n",
      "thing associated with key compiled_metrics has type <class 'keras.engine.compile_utils.MetricsContainer'>\n",
      "thing associated with key loss has type <class 'keras.losses.CategoricalCrossentropy'>\n",
      "thing associated with key _jit_compile has type <class 'NoneType'>\n",
      "thing associated with key history has type <class 'keras.callbacks.History'>\n",
      "thing associated with key train_function has type <class 'tensorflow.python.eager.def_function.Function'>\n",
      "thing associated with key test_function has type <class 'tensorflow.python.eager.def_function.Function'>\n",
      "thing associated with key predict_function has type <class 'NoneType'>\n",
      "thing associated with key train_tf_function has type <class 'tensorflow.python.eager.def_function.Function'>\n"
     ]
    }
   ],
   "source": [
    "all_keys = []\n",
    "unusuals =[]\n",
    "tuples =[]\n",
    "deleted_keys = []\n",
    "\n",
    "print(\"===============================================================================================\")\n",
    "print(\"Tuples\")\n",
    "print(\"===============================================================================================\")\n",
    "for key,value in safeModel.__dict__.items():\n",
    "    if(type(value) == tuple):\n",
    "        print (f'thing associated with key {key} has type {type(value)}')\n",
    "        tuples.append(key)\n",
    "\n",
    "print(\"===============================================================================================\")\n",
    "print(\"Bools\")\n",
    "print(\"===============================================================================================\")\n",
    "for key,value in safeModel.__dict__.items():\n",
    "    if(type(value) == bool):\n",
    "        print (f'thing associated with key {key} has type {type(value)}')\n",
    "\n",
    "print(\"===============================================================================================\")\n",
    "print(\"Lists\")\n",
    "print(\"===============================================================================================\")        \n",
    "for key,value in safeModel.__dict__.items():\n",
    "    if(type(value) == list):\n",
    "        print (f'thing associated with key {key} has type {type(value)}')\n",
    "\n",
    "print(\"===============================================================================================\")\n",
    "print(\"Strings\")\n",
    "print(\"===============================================================================================\")\n",
    "for key,value in safeModel.__dict__.items():\n",
    "    if(type(value) == str):\n",
    "        print (f'thing associated with key {key} has type {type(value)}')\n",
    "\n",
    "        \n",
    "print(\"===============================================================================================\")\n",
    "print(\"Ints\")\n",
    "print(\"===============================================================================================\")\n",
    "for key,value in safeModel.__dict__.items():\n",
    "    if(type(value) == int):\n",
    "        print (f'thing associated with key {key} has type {type(value)}')\n",
    "\n",
    "print(\"===============================================================================================\")\n",
    "print(\"Floats\")\n",
    "print(\"===============================================================================================\")\n",
    "for key,value in safeModel.__dict__.items():\n",
    "    if(type(value) == float):\n",
    "        print (f'thing associated with key {key} has type {type(value)}')\n",
    "        \n",
    "print(\"===============================================================================================\")\n",
    "print(\"Dicts\")\n",
    "print(\"===============================================================================================\")\n",
    "for key,value in safeModel.__dict__.items():\n",
    "    if(type(value) == dict):\n",
    "        print (f'thing associated with key {key} has type {type(value)}')\n",
    "\n",
    "        \n",
    "print(\"===============================================================================================\")\n",
    "print(\"Sets\")\n",
    "print(\"===============================================================================================\")\n",
    "for key,value in safeModel.__dict__.items():\n",
    "    if(type(value) == set):\n",
    "        print (f'thing associated with key {key} has type {type(value)}')\n",
    "\n",
    "print(\"===============================================================================================\")\n",
    "print(\"Unusual Ones\")\n",
    "print(\"===============================================================================================\")\n",
    "\n",
    "        \n",
    "for key,value in safeModel.__dict__.items():\n",
    "    if((type(value) != int) and (type(value) != str) and \n",
    "       (type(value) != list) and (type(value) != bool) and \n",
    "       (type(value) != tuple) and (type(value) != float) and\n",
    "       (type(value) != dict) and (type(value) != set)):\n",
    "        print (f'thing associated with key {key} has type {type(value)}')\n",
    "        unusuals.append(key)"
   ]
  },
  {
   "cell_type": "code",
   "execution_count": 19,
   "metadata": {},
   "outputs": [
    {
     "name": "stdout",
     "output_type": "stream",
     "text": [
      "INFO:tensorflow:Assets written to: my_model/assets\n",
      "INFO:tensorflow:Assets written to: safe.sav/assets\n"
     ]
    },
    {
     "name": "stderr",
     "output_type": "stream",
     "text": [
      "_obj_reference_counts_dict cannot be copied\n",
      "...<class 'TypeError'> error; cannot pickle '_thread.RLock' object\n",
      "_thread_local cannot be copied\n",
      "...<class 'TypeError'> error; cannot pickle '_thread._local' object\n",
      "_metrics_lock cannot be copied\n",
      "...<class 'TypeError'> error; cannot pickle '_thread.lock' object\n"
     ]
    },
    {
     "name": "stdout",
     "output_type": "stream",
     "text": [
      "INFO:tensorflow:Assets written to: ram://e02aee77-6930-4f17-99b4-307c13bcb87f/assets\n"
     ]
    },
    {
     "name": "stderr",
     "output_type": "stream",
     "text": [
      "_trackable_saver cannot be copied\n",
      "...<class 'ValueError'> error; Unknown optimizer: DPOptimizerClass. Please ensure this object is passed to the `custom_objects` argument. See https://www.tensorflow.org/guide/keras/save_and_serialize#registering_the_custom_object for details.\n",
      "_self_unconditional_checkpoint_dependencies cannot be copied\n",
      "...<class 'TypeError'> error; cannot pickle '_thread.RLock' object\n",
      "_self_unconditional_dependency_names cannot be copied\n",
      "...<class 'TypeError'> error; cannot pickle '_thread.RLock' object\n",
      "compiled_loss cannot be copied\n",
      "...<class 'TypeError'> error; cannot pickle '_thread.RLock' object\n",
      "compiled_metrics cannot be copied\n",
      "...<class 'TypeError'> error; cannot pickle '_thread.RLock' object\n"
     ]
    },
    {
     "name": "stdout",
     "output_type": "stream",
     "text": [
      "INFO:tensorflow:Assets written to: ram://b637ce70-1796-4777-ae47-c56a95309171/assets\n"
     ]
    },
    {
     "name": "stderr",
     "output_type": "stream",
     "text": [
      "history cannot be copied\n",
      "...<class 'ValueError'> error; Unknown optimizer: DPOptimizerClass. Please ensure this object is passed to the `custom_objects` argument. See https://www.tensorflow.org/guide/keras/save_and_serialize#registering_the_custom_object for details.\n",
      "train_function cannot be copied\n",
      "...<class 'TypeError'> error; cannot pickle '_thread.RLock' object\n",
      "test_function cannot be copied\n",
      "...<class 'TypeError'> error; cannot pickle '_thread.RLock' object\n",
      "train_tf_function cannot be copied\n",
      "...<class 'TypeError'> error; cannot pickle '_thread.RLock' object\n"
     ]
    },
    {
     "name": "stdout",
     "output_type": "stream",
     "text": [
      "<tensorflow_privacy.privacy.optimizers.dp_optimizer_keras.make_keras_optimizer_class.<locals>.DPOptimizerClass object at 0x7ff89c316490>\n",
      "<tensorflow_privacy.privacy.optimizers.dp_optimizer_keras.make_keras_optimizer_class.<locals>.DPOptimizerClass object at 0x7ff89c316490>\n",
      "DP-SGD with sampling rate = 10% and noise_multiplier = 0.5 iterated over 200 steps satisfies differential privacy with eps = 50.3 and delta = 1e-05.\n",
      "The optimal RDP order is 1.5.\n"
     ]
    }
   ],
   "source": [
    "#safeModel.request_release('safekeras.pkl') # TypeError: cannot pickle '_thread.RLock' object\n",
    "\n",
    "#safeModel.request_release('safekeras.sav') # TypeError: cannot pickle '_thread.RLock' object\n",
    "\n",
    "#safeModel.request_release('safekeras.tf')\n",
    "\n",
    "\n",
    "\n",
    "\n",
    "safeModel.save('my_model')\n",
    "safeModel.save_weights('weights.h5')\n",
    "\n",
    "safeModel.request_release('safe.sav')"
   ]
  },
  {
   "cell_type": "code",
   "execution_count": 20,
   "metadata": {},
   "outputs": [
    {
     "name": "stderr",
     "output_type": "stream",
     "text": [
      "_obj_reference_counts_dict cannot be copied\n",
      "...<class 'TypeError'> error; cannot pickle '_thread.RLock' object\n",
      "_thread_local cannot be copied\n",
      "...<class 'TypeError'> error; cannot pickle '_thread._local' object\n",
      "_metrics_lock cannot be copied\n",
      "...<class 'TypeError'> error; cannot pickle '_thread.lock' object\n"
     ]
    },
    {
     "name": "stdout",
     "output_type": "stream",
     "text": [
      "INFO:tensorflow:Assets written to: ram://4a2dcffb-6bd2-4216-9432-f411dc5a3712/assets\n"
     ]
    },
    {
     "name": "stderr",
     "output_type": "stream",
     "text": [
      "_trackable_saver cannot be copied\n",
      "...<class 'ValueError'> error; Unknown optimizer: DPOptimizerClass. Please ensure this object is passed to the `custom_objects` argument. See https://www.tensorflow.org/guide/keras/save_and_serialize#registering_the_custom_object for details.\n",
      "_self_unconditional_checkpoint_dependencies cannot be copied\n",
      "...<class 'TypeError'> error; cannot pickle '_thread.RLock' object\n",
      "_self_unconditional_dependency_names cannot be copied\n",
      "...<class 'TypeError'> error; cannot pickle '_thread.RLock' object\n",
      "compiled_loss cannot be copied\n",
      "...<class 'TypeError'> error; cannot pickle '_thread.RLock' object\n",
      "compiled_metrics cannot be copied\n",
      "...<class 'TypeError'> error; cannot pickle '_thread.RLock' object\n"
     ]
    },
    {
     "name": "stdout",
     "output_type": "stream",
     "text": [
      "INFO:tensorflow:Assets written to: ram://f812801d-b029-4028-b16c-876c92b82d58/assets\n"
     ]
    },
    {
     "name": "stderr",
     "output_type": "stream",
     "text": [
      "history cannot be copied\n",
      "...<class 'ValueError'> error; Unknown optimizer: DPOptimizerClass. Please ensure this object is passed to the `custom_objects` argument. See https://www.tensorflow.org/guide/keras/save_and_serialize#registering_the_custom_object for details.\n",
      "train_function cannot be copied\n",
      "...<class 'TypeError'> error; cannot pickle '_thread.RLock' object\n",
      "test_function cannot be copied\n",
      "...<class 'TypeError'> error; cannot pickle '_thread.RLock' object\n",
      "train_tf_function cannot be copied\n",
      "...<class 'TypeError'> error; cannot pickle '_thread.RLock' object\n"
     ]
    },
    {
     "name": "stdout",
     "output_type": "stream",
     "text": [
      "<tensorflow_privacy.privacy.optimizers.dp_optimizer_keras.make_keras_optimizer_class.<locals>.DPOptimizerClass object at 0x7ff89c316490>\n",
      "<tensorflow_privacy.privacy.optimizers.dp_optimizer_keras.make_keras_optimizer_class.<locals>.DPOptimizerClass object at 0x7ff89c316490>\n",
      "DP-SGD with sampling rate = 10% and noise_multiplier = 0.5 iterated over 200 steps satisfies differential privacy with eps = 50.3 and delta = 1e-05.\n",
      "The optimal RDP order is 1.5.\n"
     ]
    }
   ],
   "source": [
    "\n",
    "\n",
    "safeModel.request_release('safekeras.h5')"
   ]
  },
  {
   "cell_type": "code",
   "execution_count": 21,
   "metadata": {},
   "outputs": [
    {
     "name": "stdout",
     "output_type": "stream",
     "text": [
      "args is a <class 'tuple'> = ()  kwargs is a <class 'dict'>= {'inputs': <KerasTensor: shape=(None, 300) dtype=float32 (created by layer 'input_1')>, 'outputs': <KerasTensor: shape=(None, 2) dtype=float32 (created by layer 'dense_3')>, 'name': 'safekeras-test'}\n",
      "inputs is in kwargs.keys\n",
      "KerasTensor(type_spec=TensorSpec(shape=(None, 300), dtype=tf.float32, name='input_1'), name='input_1', description=\"created by layer 'input_1'\")\n",
      "Model parameters are within recommended ranges.\n",
      "\n",
      "Changed parameter optimizer = 'DPKerasSGDOptimizer'\n",
      "DP optimizer used = False\n",
      "optimizer has been changed but fit() has not been rerun.\n",
      "(250, 300)\n",
      "DP-SGD with sampling rate = 10% and noise_multiplier = 0.5 iterated over 200 steps satisfies differential privacy with eps = 50.3 and delta = 1e-05.\n",
      "The optimal RDP order is 1.5.\n",
      "Current epsilon is 50.301726361197794\n",
      "The requirements for DP are not met, current epsilon is: 50.301726361197794. To attain true DP the following parameters can be changed:  Num Samples = 250, batch_size = 25, epochs = 20\n",
      "This will not result in a Differentially Private model do you want to continue [Y/N]y\n",
      "Continuing\n",
      "Epoch 1/20\n",
      "10/10 [==============================] - 2s 44ms/step - loss: 0.1271 - accuracy: 0.9400 - val_loss: 2.2397 - val_accuracy: 0.5760\n",
      "Epoch 2/20\n",
      "10/10 [==============================] - 0s 37ms/step - loss: 0.0845 - accuracy: 0.9600 - val_loss: 2.3477 - val_accuracy: 0.5480\n",
      "Epoch 3/20\n",
      "10/10 [==============================] - 0s 31ms/step - loss: 0.0746 - accuracy: 0.9560 - val_loss: 2.4057 - val_accuracy: 0.5480\n",
      "Epoch 4/20\n",
      "10/10 [==============================] - 0s 40ms/step - loss: 0.0792 - accuracy: 0.9680 - val_loss: 2.4479 - val_accuracy: 0.5560\n",
      "Epoch 5/20\n",
      "10/10 [==============================] - 0s 39ms/step - loss: 0.0727 - accuracy: 0.9760 - val_loss: 2.5028 - val_accuracy: 0.5440\n",
      "Epoch 6/20\n",
      "10/10 [==============================] - 0s 48ms/step - loss: 0.0506 - accuracy: 0.9840 - val_loss: 2.4183 - val_accuracy: 0.5640\n",
      "Epoch 7/20\n",
      "10/10 [==============================] - 0s 40ms/step - loss: 0.0405 - accuracy: 0.9800 - val_loss: 2.4927 - val_accuracy: 0.5720\n",
      "Epoch 8/20\n",
      "10/10 [==============================] - 0s 48ms/step - loss: 0.0330 - accuracy: 0.9840 - val_loss: 2.5047 - val_accuracy: 0.5520\n",
      "Epoch 9/20\n",
      "10/10 [==============================] - 1s 53ms/step - loss: 0.0397 - accuracy: 0.9800 - val_loss: 2.5120 - val_accuracy: 0.5640\n",
      "Epoch 10/20\n",
      "10/10 [==============================] - 1s 76ms/step - loss: 0.0377 - accuracy: 0.9840 - val_loss: 2.5815 - val_accuracy: 0.5600\n",
      "Epoch 11/20\n",
      "10/10 [==============================] - 1s 55ms/step - loss: 0.0427 - accuracy: 0.9840 - val_loss: 2.6847 - val_accuracy: 0.5520\n",
      "Epoch 12/20\n",
      "10/10 [==============================] - 1s 58ms/step - loss: 0.0565 - accuracy: 0.9840 - val_loss: 2.7585 - val_accuracy: 0.5520\n",
      "Epoch 13/20\n",
      "10/10 [==============================] - 0s 33ms/step - loss: 0.0561 - accuracy: 0.9840 - val_loss: 2.8175 - val_accuracy: 0.5640\n",
      "Epoch 14/20\n",
      "10/10 [==============================] - 1s 126ms/step - loss: 0.0664 - accuracy: 0.9840 - val_loss: 2.7599 - val_accuracy: 0.5640\n",
      "Epoch 15/20\n",
      "10/10 [==============================] - 0s 36ms/step - loss: 0.0504 - accuracy: 0.9800 - val_loss: 2.7575 - val_accuracy: 0.5680\n",
      "Epoch 16/20\n",
      "10/10 [==============================] - 0s 34ms/step - loss: 0.0371 - accuracy: 0.9880 - val_loss: 2.8412 - val_accuracy: 0.5800\n",
      "Epoch 17/20\n",
      "10/10 [==============================] - 0s 33ms/step - loss: 0.0395 - accuracy: 0.9880 - val_loss: 3.0090 - val_accuracy: 0.5680\n",
      "Epoch 18/20\n",
      "10/10 [==============================] - 0s 29ms/step - loss: 0.0282 - accuracy: 0.9840 - val_loss: 3.0799 - val_accuracy: 0.5680\n",
      "Epoch 19/20\n",
      "10/10 [==============================] - 0s 31ms/step - loss: 0.0110 - accuracy: 1.0000 - val_loss: 3.1283 - val_accuracy: 0.5600\n",
      "Epoch 20/20\n",
      "10/10 [==============================] - 0s 37ms/step - loss: 0.0237 - accuracy: 0.9920 - val_loss: 3.1946 - val_accuracy: 0.5840\n"
     ]
    }
   ],
   "source": [
    "importlib.reload(safemodel.safemodel)\n",
    "importlib.reload(safemodel.classifiers.safekeras)\n",
    "from safemodel.classifiers.safekeras import Safe_KerasModel\n",
    "\n",
    "optimizer=None\n",
    "safeModel = Safe_KerasModel(inputs= input_data, outputs=output,name=\"safekeras-test\")\n",
    "\n",
    "loss = tf.keras.losses.CategoricalCrossentropy(\n",
    "    from_logits=False, reduction=tf.losses.Reduction.NONE)\n",
    "\n",
    "\n",
    "safeModel.compile(loss=loss)#optimizer='adam', loss='categorical_crossentropy', metrics=['accuracy'])\n",
    "\n",
    "epochs = 20\n",
    "batch_size = 25\n",
    "\n",
    "r_DP = safeModel.fit(Xt_member, \n",
    "              yt_member, \n",
    "              validation_data=(Xt_nonmember, yt_nonmember),\n",
    "              epochs=epochs, \n",
    "              batch_size=batch_size\n",
    ")  \n"
   ]
  },
  {
   "cell_type": "markdown",
   "metadata": {},
   "source": [
    "# Testing\n",
    "## Test 1 - researcher doesn't change recommended params"
   ]
  },
  {
   "cell_type": "code",
   "execution_count": 36,
   "metadata": {},
   "outputs": [
    {
     "name": "stdout",
     "output_type": "stream",
     "text": [
      "***Test 1: researcher doesn't change recommended params\n",
      "args is a <class 'tuple'> = ()  kwargs is a <class 'dict'>= {'inputs': <KerasTensor: shape=(None, 300) dtype=float32 (created by layer 'input_1')>, 'outputs': <KerasTensor: shape=(None, 2) dtype=float32 (created by layer 'dense_3')>, 'name': 'safekerasmodel1-test'}\n",
      "inputs is in kwargs.keys\n",
      "KerasTensor(type_spec=TensorSpec(shape=(None, 300), dtype=tf.float32, name='input_1'), name='input_1', description=\"created by layer 'input_1'\")\n",
      "Model parameters are within recommended ranges.\n",
      "\n",
      "Changed parameter optimizer = 'DPKerasSGDOptimizer'\n",
      "DP optimizer used = False\n",
      "optimizer has been changed but fit() has not been rerun.\n",
      "(250, 300)\n",
      "DP-SGD with sampling rate = 10% and noise_multiplier = 0.5 iterated over 200 steps satisfies differential privacy with eps = 50.3 and delta = 1e-05.\n",
      "The optimal RDP order is 1.5.\n",
      "Current epsilon is 50.301726361197794\n",
      "The requirements for DP are not met, current epsilon is: 50.301726361197794. To attain true DP the following parameters can be changed:  Num Samples = 250, batch_size = 25, epochs = 20\n",
      "This will not result in a Differentially Private model do you want to continue [Y/N]y\n",
      "Continuing\n",
      "Epoch 1/20\n",
      "10/10 [==============================] - 3s 50ms/step - loss: 16226.2578 - accuracy: 0.7160 - val_loss: 42857.6328 - val_accuracy: 0.5600\n",
      "Epoch 2/20\n",
      "10/10 [==============================] - 0s 38ms/step - loss: 16001.5771 - accuracy: 0.7200 - val_loss: 42987.3242 - val_accuracy: 0.5560\n",
      "Epoch 3/20\n",
      "10/10 [==============================] - 0s 36ms/step - loss: 15673.6182 - accuracy: 0.7400 - val_loss: 42592.4648 - val_accuracy: 0.5600\n",
      "Epoch 4/20\n",
      "10/10 [==============================] - 0s 36ms/step - loss: 15659.0371 - accuracy: 0.7440 - val_loss: 42589.3242 - val_accuracy: 0.5560\n",
      "Epoch 5/20\n",
      "10/10 [==============================] - 0s 39ms/step - loss: 15569.0020 - accuracy: 0.7240 - val_loss: 42739.0547 - val_accuracy: 0.5680\n",
      "Epoch 6/20\n",
      "10/10 [==============================] - 0s 39ms/step - loss: 15312.8193 - accuracy: 0.7160 - val_loss: 42634.9531 - val_accuracy: 0.5720\n",
      "Epoch 7/20\n",
      "10/10 [==============================] - 0s 39ms/step - loss: 15260.6826 - accuracy: 0.7280 - val_loss: 42511.2148 - val_accuracy: 0.5680\n",
      "Epoch 8/20\n",
      "10/10 [==============================] - 0s 38ms/step - loss: 14886.3730 - accuracy: 0.7240 - val_loss: 42571.5859 - val_accuracy: 0.5680\n",
      "Epoch 9/20\n",
      "10/10 [==============================] - 0s 37ms/step - loss: 14624.1318 - accuracy: 0.7400 - val_loss: 42321.6562 - val_accuracy: 0.5680\n",
      "Epoch 10/20\n",
      "10/10 [==============================] - 0s 46ms/step - loss: 14609.5078 - accuracy: 0.7200 - val_loss: 42709.5391 - val_accuracy: 0.5720\n",
      "Epoch 11/20\n",
      "10/10 [==============================] - 0s 42ms/step - loss: 14322.2773 - accuracy: 0.7240 - val_loss: 42475.4141 - val_accuracy: 0.5680\n",
      "Epoch 12/20\n",
      "10/10 [==============================] - 0s 42ms/step - loss: 14306.4932 - accuracy: 0.7320 - val_loss: 42391.8281 - val_accuracy: 0.5640\n",
      "Epoch 13/20\n",
      "10/10 [==============================] - 0s 36ms/step - loss: 14023.1465 - accuracy: 0.7400 - val_loss: 42368.6055 - val_accuracy: 0.5720\n",
      "Epoch 14/20\n",
      "10/10 [==============================] - 0s 37ms/step - loss: 13736.5938 - accuracy: 0.7320 - val_loss: 42396.4375 - val_accuracy: 0.5720\n",
      "Epoch 15/20\n",
      "10/10 [==============================] - 0s 45ms/step - loss: 13850.9736 - accuracy: 0.7440 - val_loss: 42455.7227 - val_accuracy: 0.5800\n",
      "Epoch 16/20\n",
      "10/10 [==============================] - 1s 62ms/step - loss: 13671.3730 - accuracy: 0.7480 - val_loss: 42313.0664 - val_accuracy: 0.5760\n",
      "Epoch 17/20\n",
      "10/10 [==============================] - 1s 60ms/step - loss: 13646.2900 - accuracy: 0.7360 - val_loss: 42306.3828 - val_accuracy: 0.5800\n",
      "Epoch 18/20\n",
      "10/10 [==============================] - 1s 58ms/step - loss: 13822.7197 - accuracy: 0.7480 - val_loss: 42323.6250 - val_accuracy: 0.5760\n",
      "Epoch 19/20\n",
      "10/10 [==============================] - 0s 37ms/step - loss: 13458.4463 - accuracy: 0.7440 - val_loss: 41988.2070 - val_accuracy: 0.5680\n",
      "Epoch 20/20\n",
      "10/10 [==============================] - 0s 37ms/step - loss: 13334.0928 - accuracy: 0.7560 - val_loss: 42215.2656 - val_accuracy: 0.5720\n"
     ]
    },
    {
     "name": "stderr",
     "output_type": "stream",
     "text": [
      "_obj_reference_counts_dict cannot be copied\n",
      "...<class 'TypeError'> error; cannot pickle '_thread.RLock' object\n",
      "_thread_local cannot be copied\n",
      "...<class 'TypeError'> error; cannot pickle '_thread._local' object\n",
      "_metrics_lock cannot be copied\n",
      "...<class 'TypeError'> error; cannot pickle '_thread.lock' object\n"
     ]
    },
    {
     "name": "stdout",
     "output_type": "stream",
     "text": [
      "Model parameters are within recommended ranges.\n",
      "\n",
      "INFO:tensorflow:Assets written to: ram://49313ff6-3dea-456a-86f9-e7f48a4116bc/assets\n"
     ]
    },
    {
     "name": "stderr",
     "output_type": "stream",
     "text": [
      "_trackable_saver cannot be copied\n",
      "...<class 'ValueError'> error; Unknown optimizer: DPOptimizerClass. Please ensure this object is passed to the `custom_objects` argument. See https://www.tensorflow.org/guide/keras/save_and_serialize#registering_the_custom_object for details.\n",
      "_self_unconditional_checkpoint_dependencies cannot be copied\n",
      "...<class 'TypeError'> error; cannot pickle '_thread.RLock' object\n",
      "_self_unconditional_dependency_names cannot be copied\n",
      "...<class 'TypeError'> error; cannot pickle '_thread.RLock' object\n",
      "compiled_loss cannot be copied\n",
      "...<class 'TypeError'> error; cannot pickle '_thread.RLock' object\n",
      "compiled_metrics cannot be copied\n",
      "...<class 'TypeError'> error; cannot pickle '_thread.RLock' object\n"
     ]
    },
    {
     "name": "stdout",
     "output_type": "stream",
     "text": [
      "INFO:tensorflow:Assets written to: ram://4f1578e7-c032-4340-9851-992f45cb74a4/assets\n"
     ]
    },
    {
     "name": "stderr",
     "output_type": "stream",
     "text": [
      "history cannot be copied\n",
      "...<class 'ValueError'> error; Unknown optimizer: DPOptimizerClass. Please ensure this object is passed to the `custom_objects` argument. See https://www.tensorflow.org/guide/keras/save_and_serialize#registering_the_custom_object for details.\n",
      "train_function cannot be copied\n",
      "...<class 'TypeError'> error; cannot pickle '_thread.RLock' object\n",
      "test_function cannot be copied\n",
      "...<class 'TypeError'> error; cannot pickle '_thread.RLock' object\n"
     ]
    },
    {
     "ename": "RuntimeError",
     "evalue": "dictionary keys changed during iteration",
     "output_type": "error",
     "traceback": [
      "\u001b[0;31m---------------------------------------------------------------------------\u001b[0m",
      "\u001b[0;31mRuntimeError\u001b[0m                              Traceback (most recent call last)",
      "\u001b[0;32m/tmp/ipykernel_19970/347544179.py\u001b[0m in \u001b[0;36m<module>\u001b[0;34m\u001b[0m\n\u001b[1;32m     18\u001b[0m \u001b[0msafeKerasModel1\u001b[0m\u001b[0;34m.\u001b[0m\u001b[0msave\u001b[0m\u001b[0;34m(\u001b[0m\u001b[0;34m\"safe1.h5\"\u001b[0m\u001b[0;34m,\u001b[0m \u001b[0minclude_optimizer\u001b[0m\u001b[0;34m=\u001b[0m\u001b[0;32mFalse\u001b[0m\u001b[0;34m,\u001b[0m \u001b[0msave_format\u001b[0m\u001b[0;34m=\u001b[0m\u001b[0;34m'h5'\u001b[0m\u001b[0;34m)\u001b[0m\u001b[0;34m\u001b[0m\u001b[0;34m\u001b[0m\u001b[0m\n\u001b[1;32m     19\u001b[0m \u001b[0msafeKerasModel1\u001b[0m\u001b[0;34m.\u001b[0m\u001b[0mpreliminary_check\u001b[0m\u001b[0;34m(\u001b[0m\u001b[0;34m)\u001b[0m\u001b[0;34m\u001b[0m\u001b[0;34m\u001b[0m\u001b[0m\n\u001b[0;32m---> 20\u001b[0;31m \u001b[0msafeKerasModel1\u001b[0m\u001b[0;34m.\u001b[0m\u001b[0mrequest_release\u001b[0m\u001b[0;34m(\u001b[0m\u001b[0mfilename\u001b[0m\u001b[0;34m=\u001b[0m\u001b[0;34m\"safe1.h5\"\u001b[0m\u001b[0;34m)\u001b[0m\u001b[0;34m\u001b[0m\u001b[0;34m\u001b[0m\u001b[0m\n\u001b[0m",
      "\u001b[0;32m~/GRAIMatter/safemodel/safemodel.py\u001b[0m in \u001b[0;36mrequest_release\u001b[0;34m(self, filename)\u001b[0m\n\u001b[1;32m    365\u001b[0m             \u001b[0mself\u001b[0m\u001b[0;34m.\u001b[0m\u001b[0msave\u001b[0m\u001b[0;34m(\u001b[0m\u001b[0mfilename\u001b[0m\u001b[0;34m)\u001b[0m\u001b[0;34m\u001b[0m\u001b[0;34m\u001b[0m\u001b[0m\n\u001b[1;32m    366\u001b[0m             \u001b[0mmsg_prel\u001b[0m\u001b[0;34m,\u001b[0m \u001b[0mdisclosive_prel\u001b[0m \u001b[0;34m=\u001b[0m \u001b[0mself\u001b[0m\u001b[0;34m.\u001b[0m\u001b[0mpreliminary_check\u001b[0m\u001b[0;34m(\u001b[0m\u001b[0mverbose\u001b[0m\u001b[0;34m=\u001b[0m\u001b[0;32mFalse\u001b[0m\u001b[0;34m)\u001b[0m\u001b[0;34m\u001b[0m\u001b[0;34m\u001b[0m\u001b[0m\n\u001b[0;32m--> 367\u001b[0;31m             \u001b[0mmsg_post\u001b[0m\u001b[0;34m,\u001b[0m \u001b[0mdisclosive_post\u001b[0m \u001b[0;34m=\u001b[0m \u001b[0mself\u001b[0m\u001b[0;34m.\u001b[0m\u001b[0mposthoc_check\u001b[0m\u001b[0;34m(\u001b[0m\u001b[0;34m)\u001b[0m\u001b[0;34m\u001b[0m\u001b[0;34m\u001b[0m\u001b[0m\n\u001b[0m\u001b[1;32m    368\u001b[0m             output: dict = {\n\u001b[1;32m    369\u001b[0m                 \u001b[0;34m\"researcher\"\u001b[0m\u001b[0;34m:\u001b[0m \u001b[0mself\u001b[0m\u001b[0;34m.\u001b[0m\u001b[0mresearcher\u001b[0m\u001b[0;34m,\u001b[0m\u001b[0;34m\u001b[0m\u001b[0;34m\u001b[0m\u001b[0m\n",
      "\u001b[0;32m~/GRAIMatter/safemodel/classifiers/safekeras.py\u001b[0m in \u001b[0;36mposthoc_check\u001b[0;34m(self, verbose)\u001b[0m\n\u001b[1;32m    445\u001b[0m         \u001b[0;34m\"\"\"Checks whether model has been changed since fit() was last run and records eta\"\"\"\u001b[0m\u001b[0;34m\u001b[0m\u001b[0;34m\u001b[0m\u001b[0m\n\u001b[1;32m    446\u001b[0m \u001b[0;34m\u001b[0m\u001b[0m\n\u001b[0;32m--> 447\u001b[0;31m         \u001b[0mmsg\u001b[0m\u001b[0;34m,\u001b[0m \u001b[0mdisclosive\u001b[0m \u001b[0;34m=\u001b[0m \u001b[0msuper\u001b[0m\u001b[0;34m(\u001b[0m\u001b[0;34m)\u001b[0m\u001b[0;34m.\u001b[0m\u001b[0mposthoc_check\u001b[0m\u001b[0;34m(\u001b[0m\u001b[0;34m)\u001b[0m\u001b[0;34m\u001b[0m\u001b[0;34m\u001b[0m\u001b[0m\n\u001b[0m\u001b[1;32m    448\u001b[0m         \u001b[0mdpusedmessage\u001b[0m\u001b[0;34m,\u001b[0m \u001b[0mdpused\u001b[0m \u001b[0;34m=\u001b[0m \u001b[0mself\u001b[0m\u001b[0;34m.\u001b[0m\u001b[0mcheck_DP_used\u001b[0m\u001b[0;34m(\u001b[0m\u001b[0mself\u001b[0m\u001b[0;34m.\u001b[0m\u001b[0moptimizer\u001b[0m\u001b[0;34m)\u001b[0m\u001b[0;34m\u001b[0m\u001b[0;34m\u001b[0m\u001b[0m\n\u001b[1;32m    449\u001b[0m \u001b[0;34m\u001b[0m\u001b[0m\n",
      "\u001b[0;32m~/GRAIMatter/safemodel/safemodel.py\u001b[0m in \u001b[0;36mposthoc_check\u001b[0;34m(self)\u001b[0m\n\u001b[1;32m    242\u001b[0m         \u001b[0;31m# get dictionaries of parameters\u001b[0m\u001b[0;34m\u001b[0m\u001b[0;34m\u001b[0m\u001b[0m\n\u001b[1;32m    243\u001b[0m         \u001b[0mcurrent_model\u001b[0m \u001b[0;34m=\u001b[0m\u001b[0;34m{\u001b[0m\u001b[0;34m}\u001b[0m\u001b[0;34m\u001b[0m\u001b[0;34m\u001b[0m\u001b[0m\n\u001b[0;32m--> 244\u001b[0;31m         \u001b[0;32mfor\u001b[0m \u001b[0mkey\u001b[0m\u001b[0;34m,\u001b[0m\u001b[0mvalue\u001b[0m \u001b[0;32min\u001b[0m \u001b[0mself\u001b[0m\u001b[0;34m.\u001b[0m\u001b[0m__dict__\u001b[0m\u001b[0;34m.\u001b[0m\u001b[0mitems\u001b[0m\u001b[0;34m(\u001b[0m\u001b[0;34m)\u001b[0m\u001b[0;34m:\u001b[0m\u001b[0;34m\u001b[0m\u001b[0;34m\u001b[0m\u001b[0m\n\u001b[0m\u001b[1;32m    245\u001b[0m             \u001b[0mlogger\u001b[0m\u001b[0;34m.\u001b[0m\u001b[0mdebug\u001b[0m\u001b[0;34m(\u001b[0m\u001b[0;34mf'copying {key}'\u001b[0m\u001b[0;34m)\u001b[0m\u001b[0;34m\u001b[0m\u001b[0;34m\u001b[0m\u001b[0m\n\u001b[1;32m    246\u001b[0m             \u001b[0;32mtry\u001b[0m\u001b[0;34m:\u001b[0m\u001b[0;34m\u001b[0m\u001b[0;34m\u001b[0m\u001b[0m\n",
      "\u001b[0;31mRuntimeError\u001b[0m: dictionary keys changed during iteration"
     ]
    }
   ],
   "source": [
    "importlib.reload(safemodel.safemodel)\n",
    "importlib.reload(safemodel.classifiers.safekeras)\n",
    "from safemodel.classifiers.safekeras import Safe_KerasModel\n",
    "\n",
    "\n",
    "# create and fit using recommended params\n",
    "\n",
    "\n",
    "print(\"***Test 1: researcher doesn't change recommended params\")\n",
    "optimizer=None\n",
    "safeKerasModel1 = Safe_KerasModel(inputs=input_data, outputs=output,name=\"safekerasmodel1-test\")\n",
    "safeKerasModel1.compile(loss=loss)\n",
    "safeKerasModel1.fit(Xt_member, \n",
    "                    yt_member, \n",
    "                    validation_data=(Xt_nonmember, yt_nonmember),\n",
    "                    epochs=epochs, \n",
    "                    batch_size=batch_size)\n",
    "safeKerasModel1.save(\"safe1.h5\", include_optimizer=False, save_format='h5')\n",
    "safeKerasModel1.preliminary_check()\n",
    "safeKerasModel1.request_release(filename=\"safe1.h5\")"
   ]
  },
  {
   "cell_type": "markdown",
   "metadata": {},
   "source": [
    "## Test 2 - researcher changes params safely\n",
    "Inputs: \n",
    "\n",
    "l2_norm_clip = 1.1, noise_multiplier=0.6\n",
    "\n",
    "Expected Result:\n",
    "\n",
    "Remain Unchanged l2_norm_clip = 1.1, noise_multiplier=0.6"
   ]
  },
  {
   "cell_type": "code",
   "execution_count": 23,
   "metadata": {},
   "outputs": [
    {
     "name": "stdout",
     "output_type": "stream",
     "text": [
      "\n",
      "***Test 2: researcher changes params safely\n",
      "args is a <class 'tuple'> = ()  kwargs is a <class 'dict'>= {'inputs': <KerasTensor: shape=(None, 300) dtype=float32 (created by layer 'input_1')>, 'outputs': <KerasTensor: shape=(None, 2) dtype=float32 (created by layer 'dense_3')>, 'name': 'safekerasmodel2-test', 'l2_norm_clip': 1.1, 'noise_multiplier': 0.6}\n",
      "inputs is in kwargs.keys\n",
      "KerasTensor(type_spec=TensorSpec(shape=(None, 300), dtype=tf.float32, name='input_1'), name='input_1', description=\"created by layer 'input_1'\")\n",
      "Model parameters are within recommended ranges.\n",
      "\n",
      "WARNING: model parameters may present a disclosure risk\n",
      "Unknown optimizer <class 'tensorflow_privacy.privacy.optimizers.dp_optimizer_keras.make_keras_optimizer_class.<locals>.DPOptimizerClass'> - Changed parameter optimizer = 'DPKerasSGDOptimizer'\n",
      "DP optimizer used = False\n",
      "optimizer has been changed but fit() has not been rerun.\n",
      "(250, 300)\n",
      "DP-SGD with sampling rate = 10% and noise_multiplier = 0.6 iterated over 200 steps satisfies differential privacy with eps = 32.9 and delta = 1e-05.\n",
      "The optimal RDP order is 1.75.\n",
      "Current epsilon is 32.860767694468635\n",
      "The requirements for DP are not met, current epsilon is: 32.860767694468635. To attain true DP the following parameters can be changed:  Num Samples = 250, batch_size = 25, epochs = 20\n",
      "This will not result in a Differentially Private model do you want to continue [Y/N]y\n",
      "Continuing\n",
      "Epoch 1/20\n",
      "10/10 [==============================] - 2s 45ms/step - loss: 0.0738 - accuracy: 0.9800 - val_loss: 3.8290 - val_accuracy: 0.5760\n",
      "Epoch 2/20\n",
      "10/10 [==============================] - 0s 35ms/step - loss: 0.0482 - accuracy: 0.9800 - val_loss: 3.9901 - val_accuracy: 0.5560\n",
      "Epoch 3/20\n",
      "10/10 [==============================] - 0s 34ms/step - loss: 0.0327 - accuracy: 0.9840 - val_loss: 3.9793 - val_accuracy: 0.5680\n",
      "Epoch 4/20\n",
      "10/10 [==============================] - 0s 37ms/step - loss: 0.0422 - accuracy: 0.9800 - val_loss: 3.9895 - val_accuracy: 0.5960\n",
      "Epoch 5/20\n",
      "10/10 [==============================] - 0s 36ms/step - loss: 0.0642 - accuracy: 0.9840 - val_loss: 4.1499 - val_accuracy: 0.5840\n",
      "Epoch 6/20\n",
      "10/10 [==============================] - 0s 41ms/step - loss: 0.0591 - accuracy: 0.9760 - val_loss: 4.2072 - val_accuracy: 0.5960\n",
      "Epoch 7/20\n",
      "10/10 [==============================] - 0s 31ms/step - loss: 0.0498 - accuracy: 0.9800 - val_loss: 4.2572 - val_accuracy: 0.5920\n",
      "Epoch 8/20\n",
      "10/10 [==============================] - 0s 41ms/step - loss: 0.0688 - accuracy: 0.9800 - val_loss: 4.2109 - val_accuracy: 0.6120\n",
      "Epoch 9/20\n",
      "10/10 [==============================] - 0s 48ms/step - loss: 0.0732 - accuracy: 0.9720 - val_loss: 4.2630 - val_accuracy: 0.6200\n",
      "Epoch 10/20\n",
      "10/10 [==============================] - 0s 44ms/step - loss: 0.0315 - accuracy: 0.9840 - val_loss: 4.2871 - val_accuracy: 0.6040\n",
      "Epoch 11/20\n",
      "10/10 [==============================] - 0s 37ms/step - loss: 0.0534 - accuracy: 0.9800 - val_loss: 4.4032 - val_accuracy: 0.6160\n",
      "Epoch 12/20\n",
      "10/10 [==============================] - 0s 36ms/step - loss: 0.0622 - accuracy: 0.9800 - val_loss: 4.3475 - val_accuracy: 0.6080\n",
      "Epoch 13/20\n",
      "10/10 [==============================] - 0s 39ms/step - loss: 0.0519 - accuracy: 0.9680 - val_loss: 4.3210 - val_accuracy: 0.5960\n",
      "Epoch 14/20\n",
      "10/10 [==============================] - 0s 36ms/step - loss: 0.0917 - accuracy: 0.9680 - val_loss: 4.4698 - val_accuracy: 0.5920\n",
      "Epoch 15/20\n",
      "10/10 [==============================] - 0s 37ms/step - loss: 0.1038 - accuracy: 0.9520 - val_loss: 4.4271 - val_accuracy: 0.6040\n",
      "Epoch 16/20\n",
      "10/10 [==============================] - 0s 37ms/step - loss: 0.1064 - accuracy: 0.9640 - val_loss: 4.3113 - val_accuracy: 0.6080\n",
      "Epoch 17/20\n",
      "10/10 [==============================] - 0s 40ms/step - loss: 0.0760 - accuracy: 0.9600 - val_loss: 4.4737 - val_accuracy: 0.6120\n",
      "Epoch 18/20\n",
      "10/10 [==============================] - 0s 37ms/step - loss: 0.0713 - accuracy: 0.9680 - val_loss: 4.4734 - val_accuracy: 0.5880\n",
      "Epoch 19/20\n",
      "10/10 [==============================] - 0s 36ms/step - loss: 0.0569 - accuracy: 0.9760 - val_loss: 4.5545 - val_accuracy: 0.5760\n",
      "Epoch 20/20\n",
      "10/10 [==============================] - 0s 40ms/step - loss: 0.0954 - accuracy: 0.9800 - val_loss: 4.3922 - val_accuracy: 0.6000\n",
      "INFO:tensorflow:Assets written to: safe2.hd5/assets\n",
      "Model parameters are within recommended ranges.\n",
      "\n",
      "INFO:tensorflow:Assets written to: safe2.hd5/assets\n"
     ]
    },
    {
     "name": "stderr",
     "output_type": "stream",
     "text": [
      "_obj_reference_counts_dict cannot be copied\n",
      "...<class 'TypeError'> error; cannot pickle '_thread.RLock' object\n",
      "_thread_local cannot be copied\n",
      "...<class 'TypeError'> error; cannot pickle '_thread._local' object\n",
      "_metrics_lock cannot be copied\n",
      "...<class 'TypeError'> error; cannot pickle '_thread.lock' object\n"
     ]
    },
    {
     "name": "stdout",
     "output_type": "stream",
     "text": [
      "INFO:tensorflow:Assets written to: ram://ec3b254e-db11-41b5-9036-63c2f56c70e3/assets\n"
     ]
    },
    {
     "name": "stderr",
     "output_type": "stream",
     "text": [
      "_trackable_saver cannot be copied\n",
      "...<class 'ValueError'> error; Unknown optimizer: DPOptimizerClass. Please ensure this object is passed to the `custom_objects` argument. See https://www.tensorflow.org/guide/keras/save_and_serialize#registering_the_custom_object for details.\n",
      "_self_unconditional_checkpoint_dependencies cannot be copied\n",
      "...<class 'TypeError'> error; cannot pickle '_thread.RLock' object\n",
      "_self_unconditional_dependency_names cannot be copied\n",
      "...<class 'TypeError'> error; cannot pickle '_thread.RLock' object\n",
      "compiled_loss cannot be copied\n",
      "...<class 'TypeError'> error; cannot pickle '_thread.RLock' object\n",
      "compiled_metrics cannot be copied\n",
      "...<class 'TypeError'> error; cannot pickle '_thread.RLock' object\n"
     ]
    },
    {
     "name": "stdout",
     "output_type": "stream",
     "text": [
      "INFO:tensorflow:Assets written to: ram://3ff5c5c7-7aae-4178-9399-a9590ffebd4d/assets\n"
     ]
    },
    {
     "name": "stderr",
     "output_type": "stream",
     "text": [
      "history cannot be copied\n",
      "...<class 'ValueError'> error; Unknown optimizer: DPOptimizerClass. Please ensure this object is passed to the `custom_objects` argument. See https://www.tensorflow.org/guide/keras/save_and_serialize#registering_the_custom_object for details.\n",
      "train_function cannot be copied\n",
      "...<class 'TypeError'> error; cannot pickle '_thread.RLock' object\n",
      "test_function cannot be copied\n",
      "...<class 'TypeError'> error; cannot pickle '_thread.RLock' object\n",
      "train_tf_function cannot be copied\n",
      "...<class 'TypeError'> error; cannot pickle '_thread.RLock' object\n"
     ]
    },
    {
     "name": "stdout",
     "output_type": "stream",
     "text": [
      "<tensorflow_privacy.privacy.optimizers.dp_optimizer_keras.make_keras_optimizer_class.<locals>.DPOptimizerClass object at 0x7ff87faec9d0>\n",
      "<tensorflow_privacy.privacy.optimizers.dp_optimizer_keras.make_keras_optimizer_class.<locals>.DPOptimizerClass object at 0x7ff87faec9d0>\n",
      "DP-SGD with sampling rate = 10% and noise_multiplier = 0.6 iterated over 200 steps satisfies differential privacy with eps = 32.9 and delta = 1e-05.\n",
      "The optimal RDP order is 1.75.\n"
     ]
    }
   ],
   "source": [
    "importlib.reload(safemodel.safemodel)\n",
    "importlib.reload(safemodel.classifiers.safekeras)\n",
    "from safemodel.classifiers.safekeras import Safe_KerasModel\n",
    "\n",
    "# change model params to recommended values\n",
    "print(\"\\n***Test 2: researcher changes params safely\")\n",
    "safeKerasModel2 = Safe_KerasModel(inputs= input_data, outputs=output,name=\"safekerasmodel2-test\", l2_norm_clip = 1.1, noise_multiplier=0.6)\n",
    "safeKerasModel2.optimizer=tensorflow_privacy.DPKerasAdamOptimizer\n",
    "safeKerasModel2.compile(loss=loss)\n",
    "safeKerasModel2.l2_norm_clip = 1.1\n",
    "safeKerasModel2.noise_multiplier = 0.6\n",
    "safeKerasModel2.fit(Xt_member, \n",
    "                    yt_member, \n",
    "                    validation_data=(Xt_nonmember, yt_nonmember),\n",
    "                    epochs=epochs, \n",
    "                    batch_size=batch_size)\n",
    "\n",
    "safeKerasModel2.save(\"safe2.hd5\")\n",
    "safeKerasModel2.preliminary_check()\n",
    "safeKerasModel2.request_release(filename=\"safe2.hd5\")"
   ]
  },
  {
   "cell_type": "markdown",
   "metadata": {},
   "source": [
    "## Test 3 - researcher changes string params unsafely\n",
    "Expected result:\n",
    "\n",
    "WARNING: model parameters may present a disclosure risk:\n",
    "- parameter l2_norm_clip = 0.8 identified as less than the recommended min value of 1.0.\n",
    "Changed parameter l2_norm_clip = 1.0.\n"
   ]
  },
  {
   "cell_type": "code",
   "execution_count": 24,
   "metadata": {
    "scrolled": false
   },
   "outputs": [
    {
     "name": "stdout",
     "output_type": "stream",
     "text": [
      "\n",
      "***Test 3: researcher changes params unsafely\n",
      "args is a <class 'tuple'> = ()  kwargs is a <class 'dict'>= {'inputs': <KerasTensor: shape=(None, 300) dtype=float32 (created by layer 'input_1')>, 'outputs': <KerasTensor: shape=(None, 2) dtype=float32 (created by layer 'dense_3')>, 'name': 'safekerasmodel3-test', 'l2_norm_clip': 0.8}\n",
      "inputs is in kwargs.keys\n",
      "KerasTensor(type_spec=TensorSpec(shape=(None, 300), dtype=tf.float32, name='input_1'), name='input_1', description=\"created by layer 'input_1'\")\n",
      "WARNING: model parameters may present a disclosure risk:\n",
      "- parameter l2_norm_clip = 0.8 identified as less than the recommended min value of 1.0.\n",
      "Changed parameter l2_norm_clip = 1.0.\n",
      "\n",
      "Changed parameter optimizer = 'DPKerasSGDOptimizer'\n",
      "DP optimizer used = False\n",
      "optimizer has been changed but fit() has not been rerun.\n",
      "(250, 300)\n",
      "DP-SGD with sampling rate = 10% and noise_multiplier = 0.5 iterated over 200 steps satisfies differential privacy with eps = 50.3 and delta = 1e-05.\n",
      "The optimal RDP order is 1.5.\n",
      "Current epsilon is 50.301726361197794\n",
      "The requirements for DP are not met, current epsilon is: 50.301726361197794. To attain true DP the following parameters can be changed:  Num Samples = 250, batch_size = 25, epochs = 20\n",
      "This will not result in a Differentially Private model do you want to continue [Y/N]y\n",
      "Continuing\n",
      "Epoch 1/20\n",
      "10/10 [==============================] - 2s 44ms/step - loss: 0.0929 - accuracy: 0.9760 - val_loss: 4.4260 - val_accuracy: 0.5920\n",
      "Epoch 2/20\n",
      "10/10 [==============================] - 0s 31ms/step - loss: 0.0691 - accuracy: 0.9840 - val_loss: 4.6133 - val_accuracy: 0.6080\n",
      "Epoch 3/20\n",
      "10/10 [==============================] - 0s 34ms/step - loss: 0.0452 - accuracy: 0.9920 - val_loss: 4.6508 - val_accuracy: 0.6080\n",
      "Epoch 4/20\n",
      "10/10 [==============================] - 0s 35ms/step - loss: 0.0259 - accuracy: 0.9880 - val_loss: 4.5879 - val_accuracy: 0.5920\n",
      "Epoch 5/20\n",
      "10/10 [==============================] - 0s 37ms/step - loss: 0.0293 - accuracy: 0.9880 - val_loss: 4.6475 - val_accuracy: 0.6040\n",
      "Epoch 6/20\n",
      "10/10 [==============================] - 0s 38ms/step - loss: 0.0298 - accuracy: 0.9840 - val_loss: 4.6352 - val_accuracy: 0.5760\n",
      "Epoch 7/20\n",
      "10/10 [==============================] - 0s 31ms/step - loss: 0.0605 - accuracy: 0.9840 - val_loss: 4.6183 - val_accuracy: 0.5920\n",
      "Epoch 8/20\n",
      "10/10 [==============================] - 0s 31ms/step - loss: 0.0379 - accuracy: 0.9840 - val_loss: 4.8002 - val_accuracy: 0.5800\n",
      "Epoch 9/20\n",
      "10/10 [==============================] - 0s 38ms/step - loss: 0.0136 - accuracy: 0.9960 - val_loss: 4.6401 - val_accuracy: 0.5760\n",
      "Epoch 10/20\n",
      "10/10 [==============================] - 0s 39ms/step - loss: 0.0162 - accuracy: 0.9880 - val_loss: 4.7263 - val_accuracy: 0.5560\n",
      "Epoch 11/20\n",
      "10/10 [==============================] - 0s 41ms/step - loss: 0.0204 - accuracy: 0.9920 - val_loss: 4.8322 - val_accuracy: 0.5720\n",
      "Epoch 12/20\n",
      "10/10 [==============================] - 0s 37ms/step - loss: 0.0299 - accuracy: 0.9880 - val_loss: 4.9730 - val_accuracy: 0.5560\n",
      "Epoch 13/20\n",
      "10/10 [==============================] - 0s 39ms/step - loss: 0.0145 - accuracy: 0.9960 - val_loss: 5.0282 - val_accuracy: 0.5760\n",
      "Epoch 14/20\n",
      "10/10 [==============================] - 0s 40ms/step - loss: 0.0044 - accuracy: 1.0000 - val_loss: 5.1831 - val_accuracy: 0.5880\n",
      "Epoch 15/20\n",
      "10/10 [==============================] - 1s 52ms/step - loss: 0.0020 - accuracy: 1.0000 - val_loss: 5.2839 - val_accuracy: 0.5800\n",
      "Epoch 16/20\n",
      "10/10 [==============================] - 1s 55ms/step - loss: 0.0034 - accuracy: 1.0000 - val_loss: 5.3571 - val_accuracy: 0.5760\n",
      "Epoch 17/20\n",
      "10/10 [==============================] - 0s 37ms/step - loss: 0.0061 - accuracy: 1.0000 - val_loss: 5.3622 - val_accuracy: 0.5800\n",
      "Epoch 18/20\n",
      "10/10 [==============================] - 0s 50ms/step - loss: 0.0019 - accuracy: 1.0000 - val_loss: 5.1457 - val_accuracy: 0.5680\n",
      "Epoch 19/20\n",
      "10/10 [==============================] - 1s 56ms/step - loss: 0.0086 - accuracy: 0.9960 - val_loss: 5.2559 - val_accuracy: 0.5920\n",
      "Epoch 20/20\n",
      "10/10 [==============================] - 0s 37ms/step - loss: 0.0084 - accuracy: 0.9960 - val_loss: 5.2217 - val_accuracy: 0.5920\n",
      "INFO:tensorflow:Assets written to: unsafe3.hd5/assets\n",
      "Model parameters are within recommended ranges.\n",
      "\n",
      "INFO:tensorflow:Assets written to: unsafe3.hd5/assets\n"
     ]
    },
    {
     "name": "stderr",
     "output_type": "stream",
     "text": [
      "_obj_reference_counts_dict cannot be copied\n",
      "...<class 'TypeError'> error; cannot pickle '_thread.RLock' object\n",
      "_thread_local cannot be copied\n",
      "...<class 'TypeError'> error; cannot pickle '_thread._local' object\n",
      "_metrics_lock cannot be copied\n",
      "...<class 'TypeError'> error; cannot pickle '_thread.lock' object\n"
     ]
    },
    {
     "name": "stdout",
     "output_type": "stream",
     "text": [
      "INFO:tensorflow:Assets written to: ram://1bbbbdef-5d0b-4306-b57b-6ca677b22fd3/assets\n"
     ]
    },
    {
     "name": "stderr",
     "output_type": "stream",
     "text": [
      "_trackable_saver cannot be copied\n",
      "...<class 'ValueError'> error; Unknown optimizer: DPOptimizerClass. Please ensure this object is passed to the `custom_objects` argument. See https://www.tensorflow.org/guide/keras/save_and_serialize#registering_the_custom_object for details.\n",
      "_self_unconditional_checkpoint_dependencies cannot be copied\n",
      "...<class 'TypeError'> error; cannot pickle '_thread.RLock' object\n",
      "_self_unconditional_dependency_names cannot be copied\n",
      "...<class 'TypeError'> error; cannot pickle '_thread.RLock' object\n",
      "compiled_loss cannot be copied\n",
      "...<class 'TypeError'> error; cannot pickle '_thread.RLock' object\n",
      "compiled_metrics cannot be copied\n",
      "...<class 'TypeError'> error; cannot pickle '_thread.RLock' object\n"
     ]
    },
    {
     "name": "stdout",
     "output_type": "stream",
     "text": [
      "INFO:tensorflow:Assets written to: ram://58e46f3f-4eec-43e0-991d-8198dc2ce7cf/assets\n"
     ]
    },
    {
     "name": "stderr",
     "output_type": "stream",
     "text": [
      "history cannot be copied\n",
      "...<class 'ValueError'> error; Unknown optimizer: DPOptimizerClass. Please ensure this object is passed to the `custom_objects` argument. See https://www.tensorflow.org/guide/keras/save_and_serialize#registering_the_custom_object for details.\n",
      "train_function cannot be copied\n",
      "...<class 'TypeError'> error; cannot pickle '_thread.RLock' object\n",
      "test_function cannot be copied\n",
      "...<class 'TypeError'> error; cannot pickle '_thread.RLock' object\n",
      "train_tf_function cannot be copied\n",
      "...<class 'TypeError'> error; cannot pickle '_thread.RLock' object\n"
     ]
    },
    {
     "name": "stdout",
     "output_type": "stream",
     "text": [
      "<tensorflow_privacy.privacy.optimizers.dp_optimizer_keras.make_keras_optimizer_class.<locals>.DPOptimizerClass object at 0x7ff896cef160>\n",
      "<tensorflow_privacy.privacy.optimizers.dp_optimizer_keras.make_keras_optimizer_class.<locals>.DPOptimizerClass object at 0x7ff896cef160>\n",
      "DP-SGD with sampling rate = 10% and noise_multiplier = 0.5 iterated over 200 steps satisfies differential privacy with eps = 50.3 and delta = 1e-05.\n",
      "The optimal RDP order is 1.5.\n"
     ]
    }
   ],
   "source": [
    "importlib.reload(safemodel.safemodel)\n",
    "importlib.reload(safemodel.classifiers.safekeras)\n",
    "from safemodel.classifiers.safekeras import Safe_KerasModel\n",
    "\n",
    "# change one model params in an unsafe way\n",
    "print(\"\\n***Test 3: researcher changes params unsafely\")\n",
    "safeKerasModel3 = Safe_KerasModel(inputs= input_data, outputs=output,name=\"safekerasmodel3-test\", l2_norm_clip = 0.8)\n",
    "safeKerasModel3.compile(loss=loss)\n",
    "#safeKerasModel3.optimizer=\"Adam\"\n",
    "safeKerasModel3.fit(Xt_member, \n",
    "                    yt_member, \n",
    "                    validation_data=(Xt_nonmember, yt_nonmember),\n",
    "                    epochs=epochs, \n",
    "                    batch_size=batch_size)\n",
    "safeKerasModel3.save(\"unsafe3.hd5\")\n",
    "safeKerasModel3.preliminary_check()\n",
    "safeKerasModel3.request_release(filename=\"unsafe3.hd5\")"
   ]
  },
  {
   "cell_type": "markdown",
   "metadata": {},
   "source": [
    "## Test 3 - researcher changes string params unsafely\n",
    "Input delta = -1 \n",
    "\n",
    "Expected Result:\n",
    "\n",
    "WARNING: model parameters may present a disclosure risk:\n",
    "- parameter delta = -1 identified as less than the recommended min value of 1e-05.\n",
    "Changed parameter delta = 1e-05."
   ]
  },
  {
   "cell_type": "code",
   "execution_count": 27,
   "metadata": {},
   "outputs": [
    {
     "name": "stdout",
     "output_type": "stream",
     "text": [
      "\n",
      "***Test 3: researcher changes string params unsafely\n",
      "args is a <class 'tuple'> = ()  kwargs is a <class 'dict'>= {'inputs': <KerasTensor: shape=(None, 300) dtype=float32 (created by layer 'input_1')>, 'outputs': <KerasTensor: shape=(None, 2) dtype=float32 (created by layer 'dense_3')>, 'name': 'safekerasmodel3-test', 'delta': -1}\n",
      "inputs is in kwargs.keys\n",
      "KerasTensor(type_spec=TensorSpec(shape=(None, 300), dtype=tf.float32, name='input_1'), name='input_1', description=\"created by layer 'input_1'\")\n",
      "WARNING: model parameters may present a disclosure risk:\n",
      "- parameter delta = -1 identified as less than the recommended min value of 1e-05.\n",
      "Changed parameter delta = 1e-05.\n",
      "\n",
      "Changed parameter optimizer = 'DPKerasSGDOptimizer'\n",
      "DP optimizer used = False\n",
      "optimizer has been changed but fit() has not been rerun.\n",
      "(250, 300)\n",
      "DP-SGD with sampling rate = 10% and noise_multiplier = 0.5 iterated over 200 steps satisfies differential privacy with eps = 50.3 and delta = 1e-05.\n",
      "The optimal RDP order is 1.5.\n",
      "Current epsilon is 50.301726361197794\n",
      "The requirements for DP are not met, current epsilon is: 50.301726361197794. To attain true DP the following parameters can be changed:  Num Samples = 250, batch_size = 25, epochs = 20\n",
      "This will not result in a Differentially Private model do you want to continue [Y/N]y\n",
      "Continuing\n",
      "Epoch 1/20\n",
      "10/10 [==============================] - 3s 46ms/step - loss: 0.0691 - accuracy: 0.9920 - val_loss: 7.8249 - val_accuracy: 0.5920\n",
      "Epoch 2/20\n",
      "10/10 [==============================] - 0s 40ms/step - loss: 0.0765 - accuracy: 0.9840 - val_loss: 7.8371 - val_accuracy: 0.5920\n",
      "Epoch 3/20\n",
      "10/10 [==============================] - 0s 39ms/step - loss: 0.0708 - accuracy: 0.9880 - val_loss: 7.6875 - val_accuracy: 0.5960\n",
      "Epoch 4/20\n",
      "10/10 [==============================] - 0s 41ms/step - loss: 0.0358 - accuracy: 0.9840 - val_loss: 7.9460 - val_accuracy: 0.6000\n",
      "Epoch 5/20\n",
      "10/10 [==============================] - 0s 41ms/step - loss: 0.0124 - accuracy: 0.9960 - val_loss: 8.0767 - val_accuracy: 0.5960\n",
      "Epoch 6/20\n",
      "10/10 [==============================] - 0s 41ms/step - loss: 0.0326 - accuracy: 0.9920 - val_loss: 7.9876 - val_accuracy: 0.6040\n",
      "Epoch 7/20\n",
      "10/10 [==============================] - 0s 34ms/step - loss: 0.0665 - accuracy: 0.9920 - val_loss: 8.0989 - val_accuracy: 0.5880\n",
      "Epoch 8/20\n",
      "10/10 [==============================] - 0s 31ms/step - loss: 0.1116 - accuracy: 0.9800 - val_loss: 8.4321 - val_accuracy: 0.5880\n",
      "Epoch 9/20\n",
      "10/10 [==============================] - 0s 32ms/step - loss: 0.0445 - accuracy: 0.9880 - val_loss: 8.4386 - val_accuracy: 0.5680\n",
      "Epoch 10/20\n",
      "10/10 [==============================] - 0s 35ms/step - loss: 0.0563 - accuracy: 0.9760 - val_loss: 8.0568 - val_accuracy: 0.5920\n",
      "Epoch 11/20\n",
      "10/10 [==============================] - 0s 35ms/step - loss: 0.0269 - accuracy: 0.9920 - val_loss: 7.9630 - val_accuracy: 0.5920\n",
      "Epoch 12/20\n",
      "10/10 [==============================] - 0s 41ms/step - loss: 0.0542 - accuracy: 0.9880 - val_loss: 8.1154 - val_accuracy: 0.5880\n",
      "Epoch 13/20\n",
      "10/10 [==============================] - 0s 46ms/step - loss: 0.0350 - accuracy: 0.9840 - val_loss: 8.1704 - val_accuracy: 0.5920\n",
      "Epoch 14/20\n",
      "10/10 [==============================] - 1s 55ms/step - loss: 0.0178 - accuracy: 0.9960 - val_loss: 8.1535 - val_accuracy: 0.5920\n",
      "Epoch 15/20\n",
      "10/10 [==============================] - 1s 54ms/step - loss: 0.0170 - accuracy: 0.9960 - val_loss: 8.1804 - val_accuracy: 0.5840\n",
      "Epoch 16/20\n",
      "10/10 [==============================] - 1s 54ms/step - loss: 0.0032 - accuracy: 1.0000 - val_loss: 8.3431 - val_accuracy: 0.5920\n",
      "Epoch 17/20\n",
      "10/10 [==============================] - 0s 40ms/step - loss: 0.0204 - accuracy: 0.9920 - val_loss: 8.1664 - val_accuracy: 0.6000\n",
      "Epoch 18/20\n",
      "10/10 [==============================] - 0s 32ms/step - loss: 0.0071 - accuracy: 1.0000 - val_loss: 8.2318 - val_accuracy: 0.5880\n",
      "Epoch 19/20\n",
      "10/10 [==============================] - 0s 42ms/step - loss: 0.0484 - accuracy: 0.9840 - val_loss: 8.2312 - val_accuracy: 0.5920\n",
      "Epoch 20/20\n",
      "10/10 [==============================] - 0s 35ms/step - loss: 0.0340 - accuracy: 0.9800 - val_loss: 8.4904 - val_accuracy: 0.5880\n",
      "INFO:tensorflow:Assets written to: unsafe3.hd5/assets\n",
      "Model parameters are within recommended ranges.\n",
      "\n",
      "INFO:tensorflow:Assets written to: unsafe4.hd5/assets\n"
     ]
    },
    {
     "name": "stderr",
     "output_type": "stream",
     "text": [
      "_obj_reference_counts_dict cannot be copied\n",
      "...<class 'TypeError'> error; cannot pickle '_thread.RLock' object\n",
      "_thread_local cannot be copied\n",
      "...<class 'TypeError'> error; cannot pickle '_thread._local' object\n",
      "_metrics_lock cannot be copied\n",
      "...<class 'TypeError'> error; cannot pickle '_thread.lock' object\n"
     ]
    },
    {
     "name": "stdout",
     "output_type": "stream",
     "text": [
      "INFO:tensorflow:Assets written to: ram://45cb2917-1aa5-463d-86cb-358df7dda162/assets\n"
     ]
    },
    {
     "name": "stderr",
     "output_type": "stream",
     "text": [
      "_trackable_saver cannot be copied\n",
      "...<class 'ValueError'> error; Unknown optimizer: DPOptimizerClass. Please ensure this object is passed to the `custom_objects` argument. See https://www.tensorflow.org/guide/keras/save_and_serialize#registering_the_custom_object for details.\n",
      "_self_unconditional_checkpoint_dependencies cannot be copied\n",
      "...<class 'TypeError'> error; cannot pickle '_thread.RLock' object\n",
      "_self_unconditional_dependency_names cannot be copied\n",
      "...<class 'TypeError'> error; cannot pickle '_thread.RLock' object\n",
      "compiled_loss cannot be copied\n",
      "...<class 'TypeError'> error; cannot pickle '_thread.RLock' object\n",
      "compiled_metrics cannot be copied\n",
      "...<class 'TypeError'> error; cannot pickle '_thread.RLock' object\n"
     ]
    },
    {
     "name": "stdout",
     "output_type": "stream",
     "text": [
      "INFO:tensorflow:Assets written to: ram://74b5481f-fe38-429e-b4db-ec51792df268/assets\n"
     ]
    },
    {
     "name": "stderr",
     "output_type": "stream",
     "text": [
      "history cannot be copied\n",
      "...<class 'ValueError'> error; Unknown optimizer: DPOptimizerClass. Please ensure this object is passed to the `custom_objects` argument. See https://www.tensorflow.org/guide/keras/save_and_serialize#registering_the_custom_object for details.\n",
      "train_function cannot be copied\n",
      "...<class 'TypeError'> error; cannot pickle '_thread.RLock' object\n",
      "test_function cannot be copied\n",
      "...<class 'TypeError'> error; cannot pickle '_thread.RLock' object\n",
      "train_tf_function cannot be copied\n",
      "...<class 'TypeError'> error; cannot pickle '_thread.RLock' object\n"
     ]
    },
    {
     "name": "stdout",
     "output_type": "stream",
     "text": [
      "<tensorflow_privacy.privacy.optimizers.dp_optimizer_keras.make_keras_optimizer_class.<locals>.DPOptimizerClass object at 0x7ff87e9c6160>\n",
      "<tensorflow_privacy.privacy.optimizers.dp_optimizer_keras.make_keras_optimizer_class.<locals>.DPOptimizerClass object at 0x7ff87e9c6160>\n",
      "DP-SGD with sampling rate = 10% and noise_multiplier = 0.5 iterated over 200 steps satisfies differential privacy with eps = 50.3 and delta = 1e-05.\n",
      "The optimal RDP order is 1.5.\n"
     ]
    }
   ],
   "source": [
    "# change another model params in an  unsafe way\n",
    "importlib.reload(safemodel.safemodel)\n",
    "importlib.reload(safemodel.classifiers.safekeras)\n",
    "from safemodel.classifiers.safekeras import Safe_KerasModel\n",
    "\n",
    "print(\"\\n***Test 3: researcher changes string params unsafely\")\n",
    "safeKerasModel4 = Safe_KerasModel(inputs= input_data, outputs=output,name=\"safekerasmodel3-test\", delta=-1)\n",
    "safeKerasModel4.compile(loss=loss)\n",
    "#safeKerasModel3.optimizer=\"Adam\"\n",
    "safeKerasModel4.fit(Xt_member, \n",
    "                    yt_member, \n",
    "                    validation_data=(Xt_nonmember, yt_nonmember),\n",
    "                    epochs=epochs, \n",
    "                    batch_size=batch_size)\n",
    "safeKerasModel4.save(\"unsafe3.hd5\")\n",
    "safeKerasModel4.preliminary_check()\n",
    "safeKerasModel4.request_release(filename=\"unsafe3.hd5\")"
   ]
  },
  {
   "cell_type": "markdown",
   "metadata": {},
   "source": [
    "## Test 5: researcher changes params unsafely\n",
    "input: l2_norm_clip=0.9, noise_multipier=0.4, min_epsilon=9,delta=-1\n",
    "\n",
    "Expected Result:\n",
    "\n",
    "WARNING: model parameters may present a disclosure risk:\n",
    "- parameter l2_norm_clip = 0.9 identified as less than the recommended min value of 1.0.\n",
    "Changed parameter l2_norm_clip = 1.0.\n",
    "- parameter min_epsilon = 9 identified as less than the recommended min value of 10.\n",
    "Changed parameter min_epsilon = 10.\n",
    "- parameter delta = -1 identified as less than the recommended min value of 1e-05.\n",
    "Changed parameter delta = 1e-05."
   ]
  },
  {
   "cell_type": "code",
   "execution_count": 28,
   "metadata": {
    "scrolled": true
   },
   "outputs": [
    {
     "name": "stdout",
     "output_type": "stream",
     "text": [
      "\n",
      "***Test 5: researcher changes string and numeric params unsafely\n",
      "args is a <class 'tuple'> = ()  kwargs is a <class 'dict'>= {'inputs': <KerasTensor: shape=(None, 300) dtype=float32 (created by layer 'input_1')>, 'outputs': <KerasTensor: shape=(None, 2) dtype=float32 (created by layer 'dense_3')>, 'name': 'safekerasmodel3-test', 'l2_norm_clip': 0.9, 'noise_multipier': 0.4, 'min_epsilon': 9, 'delta': -1}\n",
      "inputs is in kwargs.keys\n",
      "KerasTensor(type_spec=TensorSpec(shape=(None, 300), dtype=tf.float32, name='input_1'), name='input_1', description=\"created by layer 'input_1'\")\n",
      "WARNING: model parameters may present a disclosure risk:\n",
      "- parameter l2_norm_clip = 0.9 identified as less than the recommended min value of 1.0.\n",
      "Changed parameter l2_norm_clip = 1.0.\n",
      "- parameter min_epsilon = 9 identified as less than the recommended min value of 10.\n",
      "Changed parameter min_epsilon = 10.\n",
      "- parameter delta = -1 identified as less than the recommended min value of 1e-05.\n",
      "Changed parameter delta = 1e-05.\n",
      "\n",
      "Changed parameter optimizer = 'DPKerasSGDOptimizer'\n",
      "DP optimizer used = False\n",
      "optimizer has been changed but fit() has not been rerun.\n",
      "(250, 300)\n",
      "DP-SGD with sampling rate = 10% and noise_multiplier = 0.5 iterated over 200 steps satisfies differential privacy with eps = 50.3 and delta = 1e-05.\n",
      "The optimal RDP order is 1.5.\n",
      "Current epsilon is 50.301726361197794\n",
      "The requirements for DP are not met, current epsilon is: 50.301726361197794. To attain true DP the following parameters can be changed:  Num Samples = 250, batch_size = 25, epochs = 20\n",
      "This will not result in a Differentially Private model do you want to continue [Y/N]y\n",
      "Continuing\n",
      "Epoch 1/20\n",
      "10/10 [==============================] - 3s 59ms/step - loss: 0.0518 - accuracy: 0.9920 - val_loss: 8.1698 - val_accuracy: 0.5680\n",
      "Epoch 2/20\n",
      "10/10 [==============================] - 1s 52ms/step - loss: 0.0956 - accuracy: 0.9880 - val_loss: 8.0931 - val_accuracy: 0.5600\n",
      "Epoch 3/20\n",
      "10/10 [==============================] - 0s 42ms/step - loss: 0.0608 - accuracy: 0.9840 - val_loss: 8.0214 - val_accuracy: 0.5960\n",
      "Epoch 4/20\n",
      "10/10 [==============================] - 0s 49ms/step - loss: 0.0347 - accuracy: 0.9880 - val_loss: 8.2586 - val_accuracy: 0.5880\n",
      "Epoch 5/20\n",
      "10/10 [==============================] - 0s 47ms/step - loss: 0.0689 - accuracy: 0.9760 - val_loss: 8.1368 - val_accuracy: 0.5600\n",
      "Epoch 6/20\n",
      "10/10 [==============================] - 0s 39ms/step - loss: 0.0547 - accuracy: 0.9800 - val_loss: 8.4725 - val_accuracy: 0.5760\n",
      "Epoch 7/20\n",
      "10/10 [==============================] - 0s 43ms/step - loss: 0.0654 - accuracy: 0.9800 - val_loss: 8.4095 - val_accuracy: 0.5960\n",
      "Epoch 8/20\n",
      "10/10 [==============================] - 0s 40ms/step - loss: 0.0569 - accuracy: 0.9800 - val_loss: 8.3632 - val_accuracy: 0.5920\n",
      "Epoch 9/20\n",
      "10/10 [==============================] - 0s 45ms/step - loss: 0.0650 - accuracy: 0.9920 - val_loss: 8.2277 - val_accuracy: 0.5880\n",
      "Epoch 10/20\n",
      "10/10 [==============================] - 0s 40ms/step - loss: 0.0259 - accuracy: 0.9920 - val_loss: 8.1779 - val_accuracy: 0.5920\n",
      "Epoch 11/20\n",
      "10/10 [==============================] - 0s 42ms/step - loss: 0.0361 - accuracy: 0.9840 - val_loss: 8.5778 - val_accuracy: 0.6000\n",
      "Epoch 12/20\n",
      "10/10 [==============================] - 0s 44ms/step - loss: 0.0472 - accuracy: 0.9840 - val_loss: 8.4503 - val_accuracy: 0.6040\n",
      "Epoch 13/20\n",
      "10/10 [==============================] - 1s 56ms/step - loss: 0.0419 - accuracy: 0.9920 - val_loss: 8.5172 - val_accuracy: 0.6200\n",
      "Epoch 14/20\n",
      "10/10 [==============================] - 1s 57ms/step - loss: 0.0514 - accuracy: 0.9760 - val_loss: 8.3451 - val_accuracy: 0.6160\n",
      "Epoch 15/20\n",
      "10/10 [==============================] - 0s 46ms/step - loss: 0.0484 - accuracy: 0.9800 - val_loss: 8.0922 - val_accuracy: 0.6000\n",
      "Epoch 16/20\n",
      "10/10 [==============================] - 0s 50ms/step - loss: 0.0220 - accuracy: 0.9880 - val_loss: 8.0166 - val_accuracy: 0.5880\n",
      "Epoch 17/20\n",
      "10/10 [==============================] - 0s 44ms/step - loss: 0.0400 - accuracy: 0.9880 - val_loss: 8.1287 - val_accuracy: 0.5960\n",
      "Epoch 18/20\n",
      "10/10 [==============================] - 1s 63ms/step - loss: 0.0379 - accuracy: 0.9880 - val_loss: 8.0523 - val_accuracy: 0.5960\n",
      "Epoch 19/20\n",
      "10/10 [==============================] - 1s 54ms/step - loss: 0.0310 - accuracy: 0.9880 - val_loss: 8.0057 - val_accuracy: 0.5920\n",
      "Epoch 20/20\n",
      "10/10 [==============================] - 0s 41ms/step - loss: 0.0405 - accuracy: 0.9920 - val_loss: 8.0497 - val_accuracy: 0.5920\n",
      "INFO:tensorflow:Assets written to: unsafe4.hd5/assets\n",
      "Model parameters are within recommended ranges.\n",
      "\n",
      "INFO:tensorflow:Assets written to: unsafe4.hd5/assets\n"
     ]
    },
    {
     "name": "stderr",
     "output_type": "stream",
     "text": [
      "_obj_reference_counts_dict cannot be copied\n",
      "...<class 'TypeError'> error; cannot pickle '_thread.RLock' object\n",
      "_thread_local cannot be copied\n",
      "...<class 'TypeError'> error; cannot pickle '_thread._local' object\n",
      "_metrics_lock cannot be copied\n",
      "...<class 'TypeError'> error; cannot pickle '_thread.lock' object\n"
     ]
    },
    {
     "name": "stdout",
     "output_type": "stream",
     "text": [
      "INFO:tensorflow:Assets written to: ram://e1b55f8a-b4e6-494d-8d6d-3f184969d871/assets\n"
     ]
    },
    {
     "name": "stderr",
     "output_type": "stream",
     "text": [
      "_trackable_saver cannot be copied\n",
      "...<class 'ValueError'> error; Unknown optimizer: DPOptimizerClass. Please ensure this object is passed to the `custom_objects` argument. See https://www.tensorflow.org/guide/keras/save_and_serialize#registering_the_custom_object for details.\n",
      "_self_unconditional_checkpoint_dependencies cannot be copied\n",
      "...<class 'TypeError'> error; cannot pickle '_thread.RLock' object\n",
      "_self_unconditional_dependency_names cannot be copied\n",
      "...<class 'TypeError'> error; cannot pickle '_thread.RLock' object\n",
      "compiled_loss cannot be copied\n",
      "...<class 'TypeError'> error; cannot pickle '_thread.RLock' object\n",
      "compiled_metrics cannot be copied\n",
      "...<class 'TypeError'> error; cannot pickle '_thread.RLock' object\n"
     ]
    },
    {
     "name": "stdout",
     "output_type": "stream",
     "text": [
      "INFO:tensorflow:Assets written to: ram://4b4ee846-38f0-4796-89a0-adec71726e0f/assets\n"
     ]
    },
    {
     "name": "stderr",
     "output_type": "stream",
     "text": [
      "history cannot be copied\n",
      "...<class 'ValueError'> error; Unknown optimizer: DPOptimizerClass. Please ensure this object is passed to the `custom_objects` argument. See https://www.tensorflow.org/guide/keras/save_and_serialize#registering_the_custom_object for details.\n",
      "train_function cannot be copied\n",
      "...<class 'TypeError'> error; cannot pickle '_thread.RLock' object\n",
      "test_function cannot be copied\n",
      "...<class 'TypeError'> error; cannot pickle '_thread.RLock' object\n",
      "train_tf_function cannot be copied\n",
      "...<class 'TypeError'> error; cannot pickle '_thread.RLock' object\n"
     ]
    },
    {
     "name": "stdout",
     "output_type": "stream",
     "text": [
      "<tensorflow_privacy.privacy.optimizers.dp_optimizer_keras.make_keras_optimizer_class.<locals>.DPOptimizerClass object at 0x7ff87f920910>\n",
      "<tensorflow_privacy.privacy.optimizers.dp_optimizer_keras.make_keras_optimizer_class.<locals>.DPOptimizerClass object at 0x7ff87f920910>\n",
      "DP-SGD with sampling rate = 10% and noise_multiplier = 0.5 iterated over 200 steps satisfies differential privacy with eps = 50.3 and delta = 1e-05.\n",
      "The optimal RDP order is 1.5.\n"
     ]
    }
   ],
   "source": [
    "# change another model params in an  unsafe way\n",
    "print(\"\\n***Test 5: researcher changes string and numeric params unsafely\")\n",
    "\n",
    "importlib.reload(safemodel.safemodel)\n",
    "importlib.reload(safemodel.classifiers.safekeras)\n",
    "from safemodel.classifiers.safekeras import Safe_KerasModel\n",
    "\n",
    "\n",
    "safeKerasModel4 = Safe_KerasModel(inputs= input_data, outputs=output,name=\"safekerasmodel3-test\", l2_norm_clip=0.9, noise_multipier=0.4, min_epsilon=9,delta=-1)\n",
    "safeKerasModel4.compile(loss=loss)\n",
    "safeKerasModel4.fit(Xt_member, \n",
    "                    yt_member, \n",
    "                    validation_data=(Xt_nonmember, yt_nonmember),\n",
    "                    epochs=epochs, \n",
    "                    batch_size=batch_size)\n",
    "safeKerasModel4.save(\"unsafe4.hd5\")\n",
    "safeKerasModel4.preliminary_check()\n",
    "safeKerasModel4.request_release(filename=\"unsafe4.hd5\")"
   ]
  },
  {
   "cell_type": "markdown",
   "metadata": {},
   "source": [
    "## Test 6 researcher changes params unsafely\n",
    "\n",
    "Expected result:\n",
    "\n",
    "Input optimizer = wobble\n",
    "\n",
    "WARNING: model parameters may present a disclosure risk\n",
    "Unknown optimizer wobble - Changed parameter optimizer = 'DPKerasSGDOptimizer'"
   ]
  },
  {
   "cell_type": "code",
   "execution_count": 29,
   "metadata": {},
   "outputs": [
    {
     "name": "stdout",
     "output_type": "stream",
     "text": [
      "\n",
      "***Test 6: researcher changes string and numeric params unsafely\n",
      "args is a <class 'tuple'> = ()  kwargs is a <class 'dict'>= {'inputs': <KerasTensor: shape=(None, 300) dtype=float32 (created by layer 'input_1')>, 'outputs': <KerasTensor: shape=(None, 2) dtype=float32 (created by layer 'dense_3')>, 'name': 'safekerasmodel6-test', 'optimizer': 'wobble'}\n",
      "inputs is in kwargs.keys\n",
      "KerasTensor(type_spec=TensorSpec(shape=(None, 300), dtype=tf.float32, name='input_1'), name='input_1', description=\"created by layer 'input_1'\")\n",
      "Model parameters are within recommended ranges.\n",
      "\n",
      "WARNING: model parameters may present a disclosure risk\n",
      "Unknown optimizer wobble - Changed parameter optimizer = 'DPKerasSGDOptimizer'\n",
      "DP optimizer used = False\n",
      "optimizer has been changed but fit() has not been rerun.\n",
      "(250, 300)\n",
      "DP-SGD with sampling rate = 10% and noise_multiplier = 0.5 iterated over 200 steps satisfies differential privacy with eps = 50.3 and delta = 1e-05.\n",
      "The optimal RDP order is 1.5.\n",
      "Current epsilon is 50.301726361197794\n",
      "The requirements for DP are not met, current epsilon is: 50.301726361197794. To attain true DP the following parameters can be changed:  Num Samples = 250, batch_size = 25, epochs = 20\n",
      "This will not result in a Differentially Private model do you want to continue [Y/N]y\n",
      "Continuing\n",
      "Epoch 1/20\n",
      "10/10 [==============================] - 3s 44ms/step - loss: 0.0512 - accuracy: 0.9920 - val_loss: 7.9438 - val_accuracy: 0.5960\n",
      "Epoch 2/20\n",
      "10/10 [==============================] - 0s 39ms/step - loss: 0.0624 - accuracy: 0.9960 - val_loss: 8.1264 - val_accuracy: 0.5960\n",
      "Epoch 3/20\n",
      "10/10 [==============================] - 0s 34ms/step - loss: 0.0870 - accuracy: 0.9880 - val_loss: 8.1750 - val_accuracy: 0.6040\n",
      "Epoch 4/20\n",
      "10/10 [==============================] - 0s 31ms/step - loss: 0.1027 - accuracy: 0.9800 - val_loss: 8.2057 - val_accuracy: 0.5880\n",
      "Epoch 5/20\n",
      "10/10 [==============================] - 0s 39ms/step - loss: 0.0457 - accuracy: 0.9920 - val_loss: 7.8867 - val_accuracy: 0.6040\n",
      "Epoch 6/20\n",
      "10/10 [==============================] - 0s 35ms/step - loss: 0.0572 - accuracy: 0.9920 - val_loss: 8.1215 - val_accuracy: 0.6080\n",
      "Epoch 7/20\n",
      "10/10 [==============================] - 0s 36ms/step - loss: 0.0672 - accuracy: 0.9840 - val_loss: 8.3018 - val_accuracy: 0.6160\n",
      "Epoch 8/20\n",
      "10/10 [==============================] - 0s 39ms/step - loss: 0.0895 - accuracy: 0.9760 - val_loss: 8.1746 - val_accuracy: 0.6200\n",
      "Epoch 9/20\n",
      "10/10 [==============================] - 0s 35ms/step - loss: 0.1798 - accuracy: 0.9760 - val_loss: 8.5282 - val_accuracy: 0.6280\n",
      "Epoch 10/20\n",
      "10/10 [==============================] - 0s 43ms/step - loss: 0.0755 - accuracy: 0.9920 - val_loss: 8.4282 - val_accuracy: 0.6080\n",
      "Epoch 11/20\n",
      "10/10 [==============================] - 0s 43ms/step - loss: 0.0427 - accuracy: 0.9880 - val_loss: 8.4578 - val_accuracy: 0.6080\n",
      "Epoch 12/20\n",
      "10/10 [==============================] - 0s 42ms/step - loss: 0.0506 - accuracy: 0.9920 - val_loss: 8.5852 - val_accuracy: 0.6160\n",
      "Epoch 13/20\n",
      "10/10 [==============================] - 0s 39ms/step - loss: 0.0379 - accuracy: 0.9920 - val_loss: 8.5520 - val_accuracy: 0.6080\n",
      "Epoch 14/20\n",
      "10/10 [==============================] - 0s 37ms/step - loss: 0.0275 - accuracy: 0.9880 - val_loss: 8.5091 - val_accuracy: 0.5800\n",
      "Epoch 15/20\n",
      "10/10 [==============================] - 0s 44ms/step - loss: 0.0419 - accuracy: 0.9960 - val_loss: 8.7654 - val_accuracy: 0.5680\n",
      "Epoch 16/20\n",
      "10/10 [==============================] - 0s 45ms/step - loss: 0.0516 - accuracy: 0.9920 - val_loss: 8.8904 - val_accuracy: 0.5720\n",
      "Epoch 17/20\n",
      "10/10 [==============================] - 0s 46ms/step - loss: 0.0340 - accuracy: 0.9960 - val_loss: 8.9673 - val_accuracy: 0.5680\n",
      "Epoch 18/20\n",
      "10/10 [==============================] - 1s 56ms/step - loss: 0.0248 - accuracy: 0.9960 - val_loss: 8.9007 - val_accuracy: 0.5800\n",
      "Epoch 19/20\n",
      "10/10 [==============================] - 1s 58ms/step - loss: 0.0211 - accuracy: 0.9920 - val_loss: 9.0033 - val_accuracy: 0.5640\n",
      "Epoch 20/20\n",
      "10/10 [==============================] - 1s 58ms/step - loss: 0.0165 - accuracy: 0.9960 - val_loss: 8.5998 - val_accuracy: 0.5800\n",
      "INFO:tensorflow:Assets written to: unsafe6.hd5/assets\n",
      "Model parameters are within recommended ranges.\n",
      "\n",
      "INFO:tensorflow:Assets written to: unsafe6.hd5/assets\n"
     ]
    },
    {
     "name": "stderr",
     "output_type": "stream",
     "text": [
      "_obj_reference_counts_dict cannot be copied\n",
      "...<class 'TypeError'> error; cannot pickle '_thread.RLock' object\n",
      "_thread_local cannot be copied\n",
      "...<class 'TypeError'> error; cannot pickle '_thread._local' object\n",
      "_metrics_lock cannot be copied\n",
      "...<class 'TypeError'> error; cannot pickle '_thread.lock' object\n"
     ]
    },
    {
     "name": "stdout",
     "output_type": "stream",
     "text": [
      "INFO:tensorflow:Assets written to: ram://ae9715d6-4387-43af-98a6-590416097c84/assets\n"
     ]
    },
    {
     "name": "stderr",
     "output_type": "stream",
     "text": [
      "_trackable_saver cannot be copied\n",
      "...<class 'ValueError'> error; Unknown optimizer: DPOptimizerClass. Please ensure this object is passed to the `custom_objects` argument. See https://www.tensorflow.org/guide/keras/save_and_serialize#registering_the_custom_object for details.\n",
      "_self_unconditional_checkpoint_dependencies cannot be copied\n",
      "...<class 'TypeError'> error; cannot pickle '_thread.RLock' object\n",
      "_self_unconditional_dependency_names cannot be copied\n",
      "...<class 'TypeError'> error; cannot pickle '_thread.RLock' object\n",
      "compiled_loss cannot be copied\n",
      "...<class 'TypeError'> error; cannot pickle '_thread.RLock' object\n",
      "compiled_metrics cannot be copied\n",
      "...<class 'TypeError'> error; cannot pickle '_thread.RLock' object\n"
     ]
    },
    {
     "name": "stdout",
     "output_type": "stream",
     "text": [
      "INFO:tensorflow:Assets written to: ram://f7a9a61e-3362-4a66-aa06-0b98364e24b0/assets\n"
     ]
    },
    {
     "name": "stderr",
     "output_type": "stream",
     "text": [
      "history cannot be copied\n",
      "...<class 'ValueError'> error; Unknown optimizer: DPOptimizerClass. Please ensure this object is passed to the `custom_objects` argument. See https://www.tensorflow.org/guide/keras/save_and_serialize#registering_the_custom_object for details.\n",
      "train_function cannot be copied\n",
      "...<class 'TypeError'> error; cannot pickle '_thread.RLock' object\n",
      "test_function cannot be copied\n",
      "...<class 'TypeError'> error; cannot pickle '_thread.RLock' object\n",
      "train_tf_function cannot be copied\n",
      "...<class 'TypeError'> error; cannot pickle '_thread.RLock' object\n"
     ]
    },
    {
     "name": "stdout",
     "output_type": "stream",
     "text": [
      "<tensorflow_privacy.privacy.optimizers.dp_optimizer_keras.make_keras_optimizer_class.<locals>.DPOptimizerClass object at 0x7ff87f8eaa90>\n",
      "<tensorflow_privacy.privacy.optimizers.dp_optimizer_keras.make_keras_optimizer_class.<locals>.DPOptimizerClass object at 0x7ff87f8eaa90>\n",
      "DP-SGD with sampling rate = 10% and noise_multiplier = 0.5 iterated over 200 steps satisfies differential privacy with eps = 50.3 and delta = 1e-05.\n",
      "The optimal RDP order is 1.5.\n"
     ]
    }
   ],
   "source": [
    "importlib.reload(safemodel.safemodel)\n",
    "importlib.reload(safemodel.classifiers.safekeras)\n",
    "from safemodel.classifiers.safekeras import Safe_KerasModel\n",
    "\n",
    "# change another model params in an  unsafe way but tells preliminary_check() not to overwrite params\n",
    "print(\"\\n***Test 6: researcher changes string and numeric params unsafely\")\n",
    "safeKerasModel6 = Safe_KerasModel(inputs= input_data, outputs=output,name=\"safekerasmodel6-test\", optimizer=\"wobble\")\n",
    "safeKerasModel6.compile(loss=loss)\n",
    "safeKerasModel6.fit(Xt_member, \n",
    "                    yt_member, \n",
    "                    validation_data=(Xt_nonmember, yt_nonmember),\n",
    "                    epochs=epochs, \n",
    "                    batch_size=batch_size)\n",
    "safeKerasModel6.save(\"unsafe6.hd5\")\n",
    "\n",
    "safeKerasModel6.preliminary_check(apply_constraints=False)\n",
    "safeKerasModel6.request_release(filename=\"unsafe6.hd5\")"
   ]
  },
  {
   "cell_type": "markdown",
   "metadata": {},
   "source": [
    "## Test 7 researcher changes params unsafely\n",
    "\n",
    "Inputs:\n",
    "\n",
    "Input optimizer = Adam\n",
    "\n",
    "Expected Result:\n",
    "\n",
    "WARNING: model parameters may present a disclosure risk\n",
    "Changed parameter optimizer = 'DPKerasAdamOptimizer'"
   ]
  },
  {
   "cell_type": "code",
   "execution_count": 31,
   "metadata": {},
   "outputs": [
    {
     "name": "stdout",
     "output_type": "stream",
     "text": [
      "\n",
      "***Test 7: researcher changes string and numeric params unsafely\n",
      "args is a <class 'tuple'> = ()  kwargs is a <class 'dict'>= {'inputs': <KerasTensor: shape=(None, 300) dtype=float32 (created by layer 'input_1')>, 'outputs': <KerasTensor: shape=(None, 2) dtype=float32 (created by layer 'dense_3')>, 'name': 'safekerasmodel6-test', 'optimizer': 'Adam'}\n",
      "inputs is in kwargs.keys\n",
      "KerasTensor(type_spec=TensorSpec(shape=(None, 300), dtype=tf.float32, name='input_1'), name='input_1', description=\"created by layer 'input_1'\")\n",
      "Model parameters are within recommended ranges.\n",
      "\n",
      "WARNING: model parameters may present a disclosure risk\n",
      "Changed parameter optimizer = 'DPKerasAdamOptimizer'\n",
      "DP optimizer used = False\n",
      "optimizer has been changed but fit() has not been rerun.\n",
      "(250, 300)\n",
      "DP-SGD with sampling rate = 10% and noise_multiplier = 0.5 iterated over 200 steps satisfies differential privacy with eps = 50.3 and delta = 1e-05.\n",
      "The optimal RDP order is 1.5.\n",
      "Current epsilon is 50.301726361197794\n",
      "The requirements for DP are not met, current epsilon is: 50.301726361197794. To attain true DP the following parameters can be changed:  Num Samples = 250, batch_size = 25, epochs = 20\n",
      "This will not result in a Differentially Private model do you want to continue [Y/N]y\n",
      "Continuing\n",
      "Epoch 1/20\n",
      "10/10 [==============================] - 2s 44ms/step - loss: 194.9754 - accuracy: 0.5520 - val_loss: 378.8314 - val_accuracy: 0.5400\n",
      "Epoch 2/20\n",
      "10/10 [==============================] - 1s 103ms/step - loss: 683.6695 - accuracy: 0.5040 - val_loss: 944.4791 - val_accuracy: 0.5480\n",
      "Epoch 3/20\n",
      "10/10 [==============================] - 0s 39ms/step - loss: 1346.8362 - accuracy: 0.5760 - val_loss: 1323.9215 - val_accuracy: 0.6080\n",
      "Epoch 4/20\n",
      "10/10 [==============================] - 0s 34ms/step - loss: 1249.0144 - accuracy: 0.5880 - val_loss: 1377.8927 - val_accuracy: 0.5840\n",
      "Epoch 5/20\n",
      "10/10 [==============================] - 0s 35ms/step - loss: 1447.5879 - accuracy: 0.6200 - val_loss: 1940.9645 - val_accuracy: 0.5520\n",
      "Epoch 6/20\n",
      "10/10 [==============================] - 0s 32ms/step - loss: 1607.5730 - accuracy: 0.6600 - val_loss: 2169.6160 - val_accuracy: 0.5520\n",
      "Epoch 7/20\n",
      "10/10 [==============================] - 0s 41ms/step - loss: 1986.4474 - accuracy: 0.6360 - val_loss: 2554.2253 - val_accuracy: 0.6000\n",
      "Epoch 8/20\n",
      "10/10 [==============================] - 0s 37ms/step - loss: 2526.8879 - accuracy: 0.5920 - val_loss: 4310.4023 - val_accuracy: 0.5680\n",
      "Epoch 9/20\n",
      "10/10 [==============================] - 0s 41ms/step - loss: 4763.7407 - accuracy: 0.5960 - val_loss: 7607.4912 - val_accuracy: 0.5280\n",
      "Epoch 10/20\n",
      "10/10 [==============================] - 0s 37ms/step - loss: 6993.7358 - accuracy: 0.5600 - val_loss: 7995.1904 - val_accuracy: 0.5320\n",
      "Epoch 11/20\n",
      "10/10 [==============================] - 0s 36ms/step - loss: 5982.1333 - accuracy: 0.6400 - val_loss: 10607.4766 - val_accuracy: 0.5120\n",
      "Epoch 12/20\n",
      "10/10 [==============================] - 0s 42ms/step - loss: 9622.2051 - accuracy: 0.5760 - val_loss: 14872.0322 - val_accuracy: 0.5280\n",
      "Epoch 13/20\n",
      "10/10 [==============================] - 0s 36ms/step - loss: 9018.7256 - accuracy: 0.5960 - val_loss: 10288.1895 - val_accuracy: 0.5200\n",
      "Epoch 14/20\n",
      "10/10 [==============================] - 0s 35ms/step - loss: 6448.7021 - accuracy: 0.6320 - val_loss: 11049.6221 - val_accuracy: 0.5040\n",
      "Epoch 15/20\n",
      "10/10 [==============================] - 0s 37ms/step - loss: 6342.3584 - accuracy: 0.6600 - val_loss: 11937.8223 - val_accuracy: 0.5160\n",
      "Epoch 16/20\n",
      "10/10 [==============================] - 0s 35ms/step - loss: 6767.5283 - accuracy: 0.6720 - val_loss: 11647.9512 - val_accuracy: 0.5240\n",
      "Epoch 17/20\n",
      "10/10 [==============================] - 0s 46ms/step - loss: 7874.2861 - accuracy: 0.6600 - val_loss: 11934.4502 - val_accuracy: 0.5840\n",
      "Epoch 18/20\n",
      "10/10 [==============================] - 0s 40ms/step - loss: 8292.9277 - accuracy: 0.6960 - val_loss: 12013.1787 - val_accuracy: 0.5600\n",
      "Epoch 19/20\n",
      "10/10 [==============================] - 0s 37ms/step - loss: 8654.3945 - accuracy: 0.6680 - val_loss: 12766.0850 - val_accuracy: 0.5640\n",
      "Epoch 20/20\n",
      "10/10 [==============================] - 0s 38ms/step - loss: 7684.8164 - accuracy: 0.6840 - val_loss: 17583.2773 - val_accuracy: 0.5240\n",
      "INFO:tensorflow:Assets written to: unsafe7.hd5/assets\n",
      "Model parameters are within recommended ranges.\n",
      "\n",
      "INFO:tensorflow:Assets written to: unsafe7.hd5/assets\n"
     ]
    },
    {
     "name": "stderr",
     "output_type": "stream",
     "text": [
      "_obj_reference_counts_dict cannot be copied\n",
      "...<class 'TypeError'> error; cannot pickle '_thread.RLock' object\n",
      "_thread_local cannot be copied\n",
      "...<class 'TypeError'> error; cannot pickle '_thread._local' object\n",
      "_metrics_lock cannot be copied\n",
      "...<class 'TypeError'> error; cannot pickle '_thread.lock' object\n"
     ]
    },
    {
     "name": "stdout",
     "output_type": "stream",
     "text": [
      "INFO:tensorflow:Assets written to: ram://8a3ac3b0-9279-4508-a50a-570ca2e4c1a4/assets\n"
     ]
    },
    {
     "name": "stderr",
     "output_type": "stream",
     "text": [
      "_trackable_saver cannot be copied\n",
      "...<class 'ValueError'> error; Unknown optimizer: DPOptimizerClass. Please ensure this object is passed to the `custom_objects` argument. See https://www.tensorflow.org/guide/keras/save_and_serialize#registering_the_custom_object for details.\n",
      "_self_unconditional_checkpoint_dependencies cannot be copied\n",
      "...<class 'TypeError'> error; cannot pickle '_thread.RLock' object\n",
      "_self_unconditional_dependency_names cannot be copied\n",
      "...<class 'TypeError'> error; cannot pickle '_thread.RLock' object\n",
      "compiled_loss cannot be copied\n",
      "...<class 'TypeError'> error; cannot pickle '_thread.RLock' object\n",
      "compiled_metrics cannot be copied\n",
      "...<class 'TypeError'> error; cannot pickle '_thread.RLock' object\n"
     ]
    },
    {
     "name": "stdout",
     "output_type": "stream",
     "text": [
      "INFO:tensorflow:Assets written to: ram://3c7217c7-936b-4832-bb85-fb111dc1159a/assets\n"
     ]
    },
    {
     "name": "stderr",
     "output_type": "stream",
     "text": [
      "history cannot be copied\n",
      "...<class 'ValueError'> error; Unknown optimizer: DPOptimizerClass. Please ensure this object is passed to the `custom_objects` argument. See https://www.tensorflow.org/guide/keras/save_and_serialize#registering_the_custom_object for details.\n",
      "train_function cannot be copied\n",
      "...<class 'TypeError'> error; cannot pickle '_thread.RLock' object\n",
      "test_function cannot be copied\n",
      "...<class 'TypeError'> error; cannot pickle '_thread.RLock' object\n",
      "train_tf_function cannot be copied\n",
      "...<class 'TypeError'> error; cannot pickle '_thread.RLock' object\n"
     ]
    },
    {
     "name": "stdout",
     "output_type": "stream",
     "text": [
      "<tensorflow_privacy.privacy.optimizers.dp_optimizer_keras.make_keras_optimizer_class.<locals>.DPOptimizerClass object at 0x7ff87eb05130>\n",
      "<tensorflow_privacy.privacy.optimizers.dp_optimizer_keras.make_keras_optimizer_class.<locals>.DPOptimizerClass object at 0x7ff87eb05130>\n",
      "DP-SGD with sampling rate = 10% and noise_multiplier = 0.5 iterated over 200 steps satisfies differential privacy with eps = 50.3 and delta = 1e-05.\n",
      "The optimal RDP order is 1.5.\n"
     ]
    }
   ],
   "source": [
    "importlib.reload(safemodel.safemodel)\n",
    "importlib.reload(safemodel.classifiers.safekeras)\n",
    "from safemodel.classifiers.safekeras import Safe_KerasModel\n",
    "\n",
    "# change another model params in an  unsafe way but tells preliminary_check() not to overwrite params\n",
    "print(\"\\n***Test 7: researcher changes string and numeric params unsafely\")\n",
    "safeKerasModel7 = Safe_KerasModel(inputs= input_data, outputs=output,name=\"safekerasmodel6-test\", optimizer=\"Adam\")\n",
    "safeKerasModel7.compile(loss=loss)\n",
    "safeKerasModel7.fit(Xt_member, \n",
    "                    yt_member, \n",
    "                    validation_data=(Xt_nonmember, yt_nonmember),\n",
    "                    epochs=epochs, \n",
    "                    batch_size=batch_size)\n",
    "safeKerasModel7.save(\"unsafe7.hd5\")\n",
    "\n",
    "safeKerasModel7.preliminary_check(apply_constraints=False)\n",
    "safeKerasModel7.request_release(filename=\"unsafe7.hd5\")"
   ]
  },
  {
   "cell_type": "markdown",
   "metadata": {},
   "source": [
    "### Dictionary Tests"
   ]
  },
  {
   "cell_type": "code",
   "execution_count": 32,
   "metadata": {},
   "outputs": [
    {
     "name": "stdout",
     "output_type": "stream",
     "text": [
      "\n",
      "***Test 8: researcher changes string and numeric params unsafely\n",
      "args is a <class 'tuple'> = ()  kwargs is a <class 'dict'>= {'inputs': <KerasTensor: shape=(None, 300) dtype=float32 (created by layer 'input_1')>, 'outputs': <KerasTensor: shape=(None, 2) dtype=float32 (created by layer 'dense_3')>, 'name': 'safekerasmodel6-test', 'optimizer': 'Adam'}\n",
      "inputs is in kwargs.keys\n",
      "KerasTensor(type_spec=TensorSpec(shape=(None, 300), dtype=tf.float32, name='input_1'), name='input_1', description=\"created by layer 'input_1'\")\n",
      "Model parameters are within recommended ranges.\n",
      "\n",
      "WARNING: model parameters may present a disclosure risk\n",
      "Changed parameter optimizer = 'DPKerasAdamOptimizer'\n",
      "DP optimizer used = False\n",
      "optimizer has been changed but fit() has not been rerun.\n",
      "(250, 300)\n",
      "DP-SGD with sampling rate = 10% and noise_multiplier = 0.5 iterated over 200 steps satisfies differential privacy with eps = 50.3 and delta = 1e-05.\n",
      "The optimal RDP order is 1.5.\n",
      "Current epsilon is 50.301726361197794\n",
      "The requirements for DP are not met, current epsilon is: 50.301726361197794. To attain true DP the following parameters can be changed:  Num Samples = 250, batch_size = 25, epochs = 20\n",
      "This will not result in a Differentially Private model do you want to continue [Y/N]y\n",
      "Continuing\n",
      "Epoch 1/20\n",
      "10/10 [==============================] - 2s 50ms/step - loss: 13448.2354 - accuracy: 0.6480 - val_loss: 24031.3496 - val_accuracy: 0.5400\n",
      "Epoch 2/20\n",
      "10/10 [==============================] - 0s 39ms/step - loss: 15880.9727 - accuracy: 0.6600 - val_loss: 22992.3301 - val_accuracy: 0.5760\n",
      "Epoch 3/20\n",
      "10/10 [==============================] - 0s 40ms/step - loss: 14763.4180 - accuracy: 0.6640 - val_loss: 25405.7930 - val_accuracy: 0.5360\n",
      "Epoch 4/20\n",
      "10/10 [==============================] - 0s 40ms/step - loss: 16056.8887 - accuracy: 0.6200 - val_loss: 29133.3652 - val_accuracy: 0.5080\n",
      "Epoch 5/20\n",
      "10/10 [==============================] - 0s 44ms/step - loss: 18309.7285 - accuracy: 0.6400 - val_loss: 33344.7266 - val_accuracy: 0.5360\n",
      "Epoch 6/20\n",
      "10/10 [==============================] - 0s 37ms/step - loss: 17350.1367 - accuracy: 0.6840 - val_loss: 37439.2070 - val_accuracy: 0.5040\n",
      "Epoch 7/20\n",
      "10/10 [==============================] - 0s 32ms/step - loss: 19072.0762 - accuracy: 0.6040 - val_loss: 37051.8633 - val_accuracy: 0.4960\n",
      "Epoch 8/20\n",
      "10/10 [==============================] - 0s 36ms/step - loss: 15341.5107 - accuracy: 0.6600 - val_loss: 37979.2070 - val_accuracy: 0.5240\n",
      "Epoch 9/20\n",
      "10/10 [==============================] - 0s 37ms/step - loss: 16534.0938 - accuracy: 0.6640 - val_loss: 33255.3945 - val_accuracy: 0.5520\n",
      "Epoch 10/20\n",
      "10/10 [==============================] - 0s 45ms/step - loss: 17701.1836 - accuracy: 0.6680 - val_loss: 33565.2227 - val_accuracy: 0.5880\n",
      "Epoch 11/20\n",
      "10/10 [==============================] - 0s 46ms/step - loss: 20160.8711 - accuracy: 0.6600 - val_loss: 34414.1562 - val_accuracy: 0.5280\n",
      "Epoch 12/20\n",
      "10/10 [==============================] - 0s 30ms/step - loss: 21903.8301 - accuracy: 0.6600 - val_loss: 39549.3359 - val_accuracy: 0.5520\n",
      "Epoch 13/20\n",
      "10/10 [==============================] - 0s 37ms/step - loss: 23306.8398 - accuracy: 0.6920 - val_loss: 46105.3438 - val_accuracy: 0.5800\n",
      "Epoch 14/20\n",
      "10/10 [==============================] - 0s 31ms/step - loss: 21762.4160 - accuracy: 0.6800 - val_loss: 49115.1172 - val_accuracy: 0.5080\n",
      "Epoch 15/20\n",
      "10/10 [==============================] - 1s 55ms/step - loss: 23327.7910 - accuracy: 0.6840 - val_loss: 53549.0117 - val_accuracy: 0.5480\n",
      "Epoch 16/20\n",
      "10/10 [==============================] - 0s 34ms/step - loss: 20878.5586 - accuracy: 0.6560 - val_loss: 53000.6836 - val_accuracy: 0.5320\n",
      "Epoch 17/20\n",
      "10/10 [==============================] - 0s 34ms/step - loss: 19647.6055 - accuracy: 0.6720 - val_loss: 53306.3281 - val_accuracy: 0.5280\n",
      "Epoch 18/20\n",
      "10/10 [==============================] - 0s 37ms/step - loss: 21784.7832 - accuracy: 0.6800 - val_loss: 57544.0078 - val_accuracy: 0.5240\n",
      "Epoch 19/20\n",
      "10/10 [==============================] - 1s 55ms/step - loss: 22876.5176 - accuracy: 0.6920 - val_loss: 53431.8555 - val_accuracy: 0.5440\n",
      "Epoch 20/20\n",
      "10/10 [==============================] - 0s 35ms/step - loss: 21024.6934 - accuracy: 0.7080 - val_loss: 45651.0000 - val_accuracy: 0.5840\n"
     ]
    }
   ],
   "source": [
    "import h5py\n",
    "importlib.reload(safemodel.safemodel)\n",
    "importlib.reload(safemodel.classifiers.safekeras)\n",
    "from safemodel.classifiers.safekeras import Safe_KerasModel\n",
    "\n",
    "# change another model params in an  unsafe way but tells preliminary_check() not to overwrite params\n",
    "print(\"\\n***Test 8: researcher changes string and numeric params unsafely\")\n",
    "safeKerasModel8 = Safe_KerasModel(inputs= input_data, outputs=output,name=\"safekerasmodel6-test\", optimizer=\"Adam\")\n",
    "safeKerasModel8.compile(loss=loss)\n",
    "safeKerasModel8.fit(Xt_member, \n",
    "                    yt_member, \n",
    "                    validation_data=(Xt_nonmember, yt_nonmember),\n",
    "                    epochs=epochs, \n",
    "                    batch_size=batch_size)\n",
    "safeKerasModel8.save(\"unsafe8.h5\", include_optimizer=False, save_format='h5')"
   ]
  },
  {
   "cell_type": "code",
   "execution_count": 33,
   "metadata": {},
   "outputs": [
    {
     "name": "stdout",
     "output_type": "stream",
     "text": [
      "args is a <class 'tuple'> = ()  kwargs is a <class 'dict'>= {'inputs': [<KerasTensor: shape=(None, 300) dtype=float32 (created by layer 'input_1')>], 'outputs': [<KerasTensor: shape=(None, 2) dtype=float32 (created by layer 'dense_3')>], 'name': 'safe__keras_model_11'}\n",
      "inputs is in kwargs.keys\n",
      "ListWrapper([<KerasTensor: shape=(None, 300) dtype=float32 (created by layer 'input_1')>])\n",
      "Model parameters are within recommended ranges.\n",
      "\n",
      "WARNING:tensorflow:No training configuration found in the save file, so the model was *not* compiled. Compile it manually.\n",
      "Our model has 106 keys\n",
      "The keras model has 103 keys\n",
      "['_activity_regularizer', '_auto_track_sub_layers', '_autocast', '_base_model_initialized', '_build_input_shape', '_callable_losses', '_cluster_coordinator', '_compiled_trainable_state', '_compute_dtype_object', '_compute_output_and_mask_jointly', '_default_training_arg', '_distribution_strategy', '_dtype_policy', '_dynamic', '_enable_dict_to_input_mapping', '_expects_mask_arg', '_expects_training_arg', '_feed_input_names', '_feed_input_shapes', '_feed_inputs', '_inbound_nodes_value', '_initial_weights', '_input_coordinates', '_input_layers', '_input_spec', '_instrumented_keras_api', '_instrumented_keras_layer_class', '_instrumented_keras_model_class', '_is_compiled', '_is_graph_network', '_is_model_for_instrumentation', '_jit_compile', '_layer_call_argspecs', '_losses', '_metrics', '_metrics_lock', '_name', '_nested_inputs', '_nested_outputs', '_network_nodes', '_nodes_by_depth', '_non_trainable_weights', '_obj_reference_counts_dict', '_outbound_nodes_value', '_outer_name_scope', '_output_coordinates', '_output_layers', '_output_mask_cache', '_output_shape_cache', '_output_tensor_cache', '_predict_counter', '_preserve_input_structure_in_config', '_run_eagerly', '_saved_model_arg_spec', '_saved_model_inputs_spec', '_self_name_based_restores', '_self_saveable_object_factories', '_self_setattr_tracking', '_self_tracked_trackables', '_self_unconditional_checkpoint_dependencies', '_self_unconditional_deferred_dependencies', '_self_unconditional_dependency_names', '_self_update_uid', '_stateful', '_steps_per_execution', '_supports_masking', '_tensor_usage_count', '_test_counter', '_thread_local', '_trackable_saver', '_train_counter', '_trainable', '_trainable_weights', '_training_state', '_updates', 'batch_size', 'built', 'compiled_loss', 'compiled_metrics', 'delta', 'examine_seperately_items', 'filename', 'history', 'ignore_items', 'input_names', 'inputs', 'l2_norm_clip', 'learning_rate', 'loss', 'min_epsilon', 'model', 'model_save_file', 'model_type', 'noise_multiplier', 'num_microbatches', 'num_samples', 'optimizer', 'output_names', 'outputs', 'predict_function', 'researcher', 'saved_model', 'stop_training', 'test_function', 'train_function', 'train_tf_function']\n"
     ]
    }
   ],
   "source": [
    "importlib.reload(safemodel.safemodel)\n",
    "importlib.reload(safemodel.classifiers.safekeras)\n",
    "from safemodel.classifiers.safekeras import Safe_KerasModel\n",
    "f = tf.keras.models.load_model('unsafe8.h5', custom_objects={\"Safe_KerasModel\": Safe_KerasModel})\n",
    "kerasmodelkeys =[]\n",
    "for key,value in f.__dict__.items():\n",
    "        #print ( f' key {key} : value {value} \\n')\n",
    "        kerasmodelkeys.append(key)\n",
    "\n",
    "        \n",
    "ourmodelkeys =[]\n",
    "for key,value in safeKerasModel8.__dict__.items():\n",
    "        #print ( f' key {key} : value {value} \\n')\n",
    "        ourmodelkeys.append(key)\n",
    "\n",
    "print(f'Our model has {len(ourmodelkeys)} keys')\n",
    "print(f'The keras model has {len(kerasmodelkeys)} keys')\n",
    "ourmodelkeys.sort()\n",
    "kerasmodelkeys.sort()\n",
    "\n",
    "print(ourmodelkeys)\n",
    "\n",
    "    \n"
   ]
  },
  {
   "cell_type": "code",
   "execution_count": 34,
   "metadata": {},
   "outputs": [
    {
     "name": "stdout",
     "output_type": "stream",
     "text": [
      " key optimizer : value <tensorflow_privacy.privacy.optimizers.dp_optimizer_keras.make_keras_optimizer_class.<locals>.DPOptimizerClass object at 0x7ff87a6cbeb0> \n",
      "\n"
     ]
    }
   ],
   "source": [
    "for key,value in safeKerasModel8.__dict__.items():\n",
    "    if 'optimizer' in key:\n",
    "        print ( f' key {key} : value {value} \\n')"
   ]
  },
  {
   "cell_type": "code",
   "execution_count": null,
   "metadata": {},
   "outputs": [],
   "source": []
  },
  {
   "cell_type": "code",
   "execution_count": null,
   "metadata": {},
   "outputs": [],
   "source": []
  },
  {
   "cell_type": "code",
   "execution_count": null,
   "metadata": {},
   "outputs": [],
   "source": []
  }
 ],
 "metadata": {
  "kernelspec": {
   "display_name": "Python 3 (ipykernel)",
   "language": "python",
   "name": "python3"
  },
  "language_info": {
   "codemirror_mode": {
    "name": "ipython",
    "version": 3
   },
   "file_extension": ".py",
   "mimetype": "text/x-python",
   "name": "python",
   "nbconvert_exporter": "python",
   "pygments_lexer": "ipython3",
   "version": "3.9.7"
  }
 },
 "nbformat": 4,
 "nbformat_minor": 4
}
