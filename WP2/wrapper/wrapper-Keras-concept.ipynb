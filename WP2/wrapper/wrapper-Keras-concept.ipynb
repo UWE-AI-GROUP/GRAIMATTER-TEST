{
 "cells": [
  {
   "cell_type": "markdown",
   "metadata": {},
   "source": [
    "# Salem paper attacks\n",
    "\n",
    "This notebook showcases the three different scenarios presented in Salem *et al.* [ML-Leaks: Model and Data Independent Membership Inference Attacks and Defenses on Machine Learning Models](https://arxiv.org/abs/1806.01246).\n",
    "\n",
    "In summary the three presented adversaries are as follows:\n",
    "1. The attacker has access to a dataset drawn from the same distribution as the target data, and uses it to train a single shadow model that infers the membership information.\n",
    "2. The attacker uses a dataset from a different distribution than the target data to do the same as Adv 1.\n",
    "3. The attacker queries the target model and chooses a threshold on the classification probability to determine membership, no shadow models required."
   ]
  },
  {
   "cell_type": "code",
   "execution_count": 1,
   "metadata": {},
   "outputs": [],
   "source": [
    "import sys\n",
    "import os\n",
    "\n",
    "ROOT_DIR = os.path.dirname(os.path.dirname(os.path.abspath(\"\")))\n",
    "sys.path.append(ROOT_DIR)"
   ]
  },
  {
   "cell_type": "code",
   "execution_count": 2,
   "metadata": {},
   "outputs": [
    {
     "name": "stderr",
     "output_type": "stream",
     "text": [
      "2022-05-04 08:41:37.068997: W tensorflow/stream_executor/platform/default/dso_loader.cc:64] Could not load dynamic library 'libcudart.so.11.0'; dlerror: libcudart.so.11.0: cannot open shared object file: No such file or directory\n",
      "2022-05-04 08:41:37.069051: I tensorflow/stream_executor/cuda/cudart_stub.cc:29] Ignore above cudart dlerror if you do not have a GPU set up on your machine.\n"
     ]
    }
   ],
   "source": [
    "import numpy as np\n",
    "import matplotlib.pyplot as plt\n",
    "\n",
    "%matplotlib inline\n",
    "\n",
    "# Scikit-learn utils\n",
    "from sklearn.model_selection import train_test_split\n",
    "from sklearn.datasets import make_classification, make_moons\n",
    "from sklearn.metrics import ConfusionMatrixDisplay\n",
    "from sklearn.metrics import confusion_matrix, classification_report, roc_curve, auc\n",
    "\n",
    "# Tensorflow imports\n",
    "import tensorflow as tf\n",
    "from tensorflow.keras.models import Model\n",
    "from tensorflow.keras.layers import Input, Dense, Dropout\n",
    "\n",
    "# Classifiers for attack models\n",
    "from sklearn.linear_model import LogisticRegression\n",
    "from sklearn.neural_network import MLPClassifier\n"
   ]
  },
  {
   "cell_type": "code",
   "execution_count": 3,
   "metadata": {},
   "outputs": [],
   "source": [
    "#import t=privachy version \n",
    "import tensorflow_privacy\n",
    "\n",
    "from tensorflow_privacy.privacy.analysis import compute_dp_sgd_privacy\n"
   ]
  },
  {
   "cell_type": "markdown",
   "metadata": {},
   "source": [
    "### Definition of the datasets\n",
    "1. We draw data points from a distribution.\n",
    "2. We split these data points into the target dataset and a shadow dataset drawn from the same distribution.\n",
    "3. We also draw a dataset from a different distribution.\n",
    "\n",
    "**NOTE**. ***I make datasets with few samples but with many features to force the target model to overfit.***\n",
    "\n",
    "\n",
    "***NOTE JIM: had to make batch_size 25 so DP optimizer would run with same hyperparams"
   ]
  },
  {
   "cell_type": "code",
   "execution_count": 4,
   "metadata": {},
   "outputs": [],
   "source": [
    "n_classes = 2\n",
    "\n",
    "# (X,y): Original distribution\n",
    "X, y = make_classification(n_samples=1000,\n",
    "                           n_classes=n_classes, \n",
    "                           n_features=300,\n",
    "                           n_informative=300,\n",
    "                           n_redundant=0,\n",
    "                           n_repeated=0,\n",
    "                           random_state=15\n",
    "                          )\n",
    "# One-hot encoding of the label\n",
    "y = np.eye(n_classes)[y]\n",
    "\n",
    "# (Xt, yt) is the target dataset, owned by the TRE and drawn from the (X,y) distribution\n",
    "# (Xs, ys) is a shadow dataset drawn from the (X,y) distribution\n",
    "Xt, Xs, yt, ys = train_test_split(X, y, test_size=0.50, random_state=15)\n",
    "\n",
    "# (Xd, yd) is a shadow dataset, drawn from a different distribution (different seed)\n",
    "Xd, yd = make_classification(n_samples=1000,\n",
    "                           n_classes=n_classes, \n",
    "                           n_features=300,\n",
    "                           n_informative=300,\n",
    "                           n_redundant=0,\n",
    "                           n_repeated=0,\n",
    "                           random_state=42\n",
    "                          )\n",
    "yd = np.eye(n_classes)[yd]\n",
    "\n",
    "\n"
   ]
  },
  {
   "cell_type": "markdown",
   "metadata": {},
   "source": [
    "### Train the target model\n",
    "\n",
    "*Again, I'm using a rather big model (for the classification task) to favour overfitting.*"
   ]
  },
  {
   "cell_type": "code",
   "execution_count": 5,
   "metadata": {},
   "outputs": [
    {
     "name": "stdout",
     "output_type": "stream",
     "text": [
      "Epoch 1/10\n"
     ]
    },
    {
     "name": "stderr",
     "output_type": "stream",
     "text": [
      "2022-05-04 08:41:43.509372: W tensorflow/stream_executor/platform/default/dso_loader.cc:64] Could not load dynamic library 'libcuda.so.1'; dlerror: libcuda.so.1: cannot open shared object file: No such file or directory\n",
      "2022-05-04 08:41:43.509431: W tensorflow/stream_executor/cuda/cuda_driver.cc:269] failed call to cuInit: UNKNOWN ERROR (303)\n",
      "2022-05-04 08:41:43.509462: I tensorflow/stream_executor/cuda/cuda_diagnostics.cc:156] kernel driver does not appear to be running on this host (ubuntu): /proc/driver/nvidia/version does not exist\n",
      "2022-05-04 08:41:43.509835: I tensorflow/core/platform/cpu_feature_guard.cc:151] This TensorFlow binary is optimized with oneAPI Deep Neural Network Library (oneDNN) to use the following CPU instructions in performance-critical operations:  AVX2 FMA\n",
      "To enable them in other operations, rebuild TensorFlow with the appropriate compiler flags.\n"
     ]
    },
    {
     "name": "stdout",
     "output_type": "stream",
     "text": [
      "10/10 [==============================] - 1s 48ms/step - loss: 3.3409 - accuracy: 0.4800 - val_loss: 2.3620 - val_accuracy: 0.5240\n",
      "Epoch 2/10\n",
      "10/10 [==============================] - 0s 20ms/step - loss: 0.4757 - accuracy: 0.8280 - val_loss: 1.5756 - val_accuracy: 0.5800\n",
      "Epoch 3/10\n",
      "10/10 [==============================] - 0s 18ms/step - loss: 0.1099 - accuracy: 0.9520 - val_loss: 1.4392 - val_accuracy: 0.5720\n",
      "Epoch 4/10\n",
      "10/10 [==============================] - 0s 20ms/step - loss: 0.0300 - accuracy: 0.9960 - val_loss: 1.4932 - val_accuracy: 0.5800\n",
      "Epoch 5/10\n",
      "10/10 [==============================] - 0s 18ms/step - loss: 0.0038 - accuracy: 1.0000 - val_loss: 1.3258 - val_accuracy: 0.6000\n",
      "Epoch 6/10\n",
      "10/10 [==============================] - 0s 21ms/step - loss: 0.0025 - accuracy: 1.0000 - val_loss: 1.2999 - val_accuracy: 0.6200\n",
      "Epoch 7/10\n",
      "10/10 [==============================] - 0s 19ms/step - loss: 0.0020 - accuracy: 1.0000 - val_loss: 1.2994 - val_accuracy: 0.6200\n",
      "Epoch 8/10\n",
      "10/10 [==============================] - 0s 17ms/step - loss: 0.0015 - accuracy: 1.0000 - val_loss: 1.3020 - val_accuracy: 0.6240\n",
      "Epoch 9/10\n",
      "10/10 [==============================] - 0s 18ms/step - loss: 0.0013 - accuracy: 1.0000 - val_loss: 1.3056 - val_accuracy: 0.6200\n",
      "Epoch 10/10\n",
      "10/10 [==============================] - 0s 19ms/step - loss: 0.0011 - accuracy: 1.0000 - val_loss: 1.3089 - val_accuracy: 0.6240\n"
     ]
    }
   ],
   "source": [
    "# Split into train (member) and test (non-member) datasets\n",
    "# Set shuffle to False so that Xt_membership is consistent with Xt, otherwise\n",
    "# we need to stack Xt_member and Xt_nonmember again to get a consistent Xt.\n",
    "Xt_member, Xt_nonmember, yt_member, yt_nonmember = train_test_split(Xt, yt, test_size=0.5, shuffle=False)\n",
    "\n",
    "# Set membership status for future tests\n",
    "Xt_membership = np.vstack(\n",
    "    (\n",
    "        np.ones((Xt_member.shape[0], 1), np.uint8),\n",
    "        np.zeros((Xt_nonmember.shape[0], 1), np.uint8)\n",
    "    )\n",
    ").flatten()\n",
    "\n",
    "# Define target model\n",
    "# Tensorflow model (MLP) (making it big to make it overfit)\n",
    "input_data = Input(shape = Xt_member[0].shape)\n",
    "x = Dense(128, activation='relu')(input_data)\n",
    "x = Dense(128, activation='relu')(x)\n",
    "x = Dense(64, activation='relu')(x)\n",
    "output = Dense(2, activation='softmax')(x)\n",
    "\n",
    "target_model = Model(input_data, output)\n",
    "target_model.compile(optimizer='adam', loss='categorical_crossentropy', metrics=['accuracy'])\n",
    "\n",
    "\n",
    "batch_size=25\n",
    "epochs = 10\n",
    "\n",
    "# Train target model\n",
    "r = target_model.fit(Xt_member, \n",
    "                     yt_member, \n",
    "                     validation_data=(Xt_nonmember, yt_nonmember),\n",
    "                     epochs=epochs, \n",
    "                     batch_size=batch_size\n",
    "                    )  "
   ]
  },
  {
   "cell_type": "code",
   "execution_count": 6,
   "metadata": {},
   "outputs": [
    {
     "data": {
      "image/png": "[encoded data removed]",
      "text/plain": [
       "<Figure size 432x288 with 1 Axes>"
      ]
     },
     "metadata": {
      "needs_background": "light"
     },
     "output_type": "display_data"
    }
   ],
   "source": [
    "plt.plot(r.history['accuracy'], label='accuracy')\n",
    "plt.plot(r.history['val_accuracy'], label='validation accuracy')\n",
    "plt.legend()\n",
    "plt.show()"
   ]
  },
  {
   "cell_type": "markdown",
   "metadata": {},
   "source": [
    "**SUCCESS. The model overfits a lot.**"
   ]
  },
  {
   "cell_type": "markdown",
   "metadata": {},
   "source": [
    "## So now let's see what we can find out about this model if it is exported just be querying it"
   ]
  },
  {
   "cell_type": "code",
   "execution_count": 7,
   "metadata": {},
   "outputs": [
    {
     "data": {
      "text/plain": [
       "{'_self_setattr_tracking': True,\n",
       " '_is_model_for_instrumentation': True,\n",
       " '_instrumented_keras_api': True,\n",
       " '_instrumented_keras_layer_class': False,\n",
       " '_instrumented_keras_model_class': True,\n",
       " '_trainable': True,\n",
       " '_stateful': False,\n",
       " 'built': True,\n",
       " '_input_spec': None,\n",
       " '_build_input_shape': TensorShape([None, 300]),\n",
       " '_saved_model_inputs_spec': TensorSpec(shape=(None, 300), dtype=tf.float32, name='input_1'),\n",
       " '_saved_model_arg_spec': ([TensorSpec(shape=(None, 300), dtype=tf.float32, name='input_1')],\n",
       "  {}),\n",
       " '_supports_masking': True,\n",
       " '_name': 'model',\n",
       " '_activity_regularizer': None,\n",
       " '_trainable_weights': [],\n",
       " '_non_trainable_weights': [],\n",
       " '_updates': [],\n",
       " '_thread_local': <_thread._local at 0x7fe519bc3590>,\n",
       " '_callable_losses': [],\n",
       " '_losses': [],\n",
       " '_metrics': [],\n",
       " '_metrics_lock': <unlocked _thread.lock object at 0x7fe50cc8db10>,\n",
       " '_dtype_policy': <Policy \"float32\">,\n",
       " '_compute_dtype_object': tf.float32,\n",
       " '_autocast': False,\n",
       " '_self_tracked_trackables': [<keras.engine.input_layer.InputLayer at 0x7fe511668ee0>,\n",
       "  <keras.layers.core.dense.Dense at 0x7fe511668400>,\n",
       "  <keras.layers.core.dense.Dense at 0x7fe51161ec70>,\n",
       "  <keras.layers.core.dense.Dense at 0x7fe50ed08190>,\n",
       "  <keras.layers.core.dense.Dense at 0x7fe50cc8d130>],\n",
       " '_inbound_nodes_value': [],\n",
       " '_outbound_nodes_value': [],\n",
       " '_expects_training_arg': True,\n",
       " '_default_training_arg': None,\n",
       " '_expects_mask_arg': True,\n",
       " '_dynamic': False,\n",
       " '_initial_weights': None,\n",
       " '_auto_track_sub_layers': True,\n",
       " '_preserve_input_structure_in_config': False,\n",
       " '_outer_name_scope': '',\n",
       " '_is_graph_network': True,\n",
       " 'inputs': [<KerasTensor: shape=(None, 300) dtype=float32 (created by layer 'input_1')>],\n",
       " 'outputs': [<KerasTensor: shape=(None, 2) dtype=float32 (created by layer 'dense_3')>],\n",
       " 'input_names': ['input_1'],\n",
       " 'output_names': ['dense_3'],\n",
       " '_compute_output_and_mask_jointly': True,\n",
       " '_distribution_strategy': None,\n",
       " '_cluster_coordinator': None,\n",
       " 'predict_function': None,\n",
       " '_compiled_trainable_state': <WeakKeyDictionary at 0x7fe50cc8dac0>,\n",
       " '_training_state': None,\n",
       " '_trackable_saver': <tensorflow.python.training.tracking.util.TrackableSaver at 0x7fe50cc39730>,\n",
       " '_steps_per_execution': <tf.Variable 'Variable:0' shape=() dtype=int64, numpy=1>,\n",
       " '_train_counter': <tf.Variable 'Variable:0' shape=() dtype=int64, numpy=100>,\n",
       " '_test_counter': <tf.Variable 'Variable:0' shape=() dtype=int64, numpy=10>,\n",
       " '_predict_counter': <tf.Variable 'Variable:0' shape=() dtype=int64, numpy=0>,\n",
       " '_base_model_initialized': True,\n",
       " '_nested_inputs': <KerasTensor: shape=(None, 300) dtype=float32 (created by layer 'input_1')>,\n",
       " '_nested_outputs': <KerasTensor: shape=(None, 2) dtype=float32 (created by layer 'dense_3')>,\n",
       " '_enable_dict_to_input_mapping': True,\n",
       " '_input_layers': [<keras.engine.input_layer.InputLayer at 0x7fe511668ee0>],\n",
       " '_output_layers': [<keras.layers.core.dense.Dense at 0x7fe50cc8d130>],\n",
       " '_input_coordinates': [(<keras.engine.input_layer.InputLayer at 0x7fe511668ee0>,\n",
       "   0,\n",
       "   0)],\n",
       " '_output_coordinates': [(<keras.layers.core.dense.Dense at 0x7fe50cc8d130>,\n",
       "   0,\n",
       "   0)],\n",
       " '_output_mask_cache': {},\n",
       " '_output_tensor_cache': {},\n",
       " '_output_shape_cache': {},\n",
       " '_network_nodes': {'dense_1_ib-0',\n",
       "  'dense_2_ib-0',\n",
       "  'dense_3_ib-0',\n",
       "  'dense_ib-0',\n",
       "  'input_1_ib-0'},\n",
       " '_nodes_by_depth': defaultdict(list,\n",
       "             {0: [<keras.engine.node.Node at 0x7fe50cc34af0>],\n",
       "              1: [<keras.engine.node.Node at 0x7fe50cc8daf0>],\n",
       "              2: [<keras.engine.node.Node at 0x7fe50ed089a0>],\n",
       "              3: [<keras.engine.node.Node at 0x7fe50ed08130>],\n",
       "              4: [<keras.engine.node.Node at 0x7fe51161ec40>]}),\n",
       " '_layer_call_argspecs': {<keras.engine.input_layer.InputLayer at 0x7fe511668ee0>: FullArgSpec(args=['self', 'inputs'], varargs='args', varkw='kwargs', defaults=None, kwonlyargs=[], kwonlydefaults=None, annotations={}),\n",
       "  <keras.layers.core.dense.Dense at 0x7fe511668400>: FullArgSpec(args=['self', 'inputs'], varargs=None, varkw=None, defaults=None, kwonlyargs=[], kwonlydefaults=None, annotations={}),\n",
       "  <keras.layers.core.dense.Dense at 0x7fe51161ec70>: FullArgSpec(args=['self', 'inputs'], varargs=None, varkw=None, defaults=None, kwonlyargs=[], kwonlydefaults=None, annotations={}),\n",
       "  <keras.layers.core.dense.Dense at 0x7fe50ed08190>: FullArgSpec(args=['self', 'inputs'], varargs=None, varkw=None, defaults=None, kwonlyargs=[], kwonlydefaults=None, annotations={}),\n",
       "  <keras.layers.core.dense.Dense at 0x7fe50cc8d130>: FullArgSpec(args=['self', 'inputs'], varargs=None, varkw=None, defaults=None, kwonlyargs=[], kwonlydefaults=None, annotations={})},\n",
       " '_feed_input_names': ['input_1'],\n",
       " '_feed_inputs': [<KerasTensor: shape=(None, 300) dtype=float32 (created by layer 'input_1')>],\n",
       " '_feed_input_shapes': [(None, 300)],\n",
       " '_tensor_usage_count': Counter({'140621815868624': 1,\n",
       "          '140621772787232': 1,\n",
       "          '140621738729328': 1,\n",
       "          '140621738364640': 1,\n",
       "          '140621738726688': 1}),\n",
       " '_obj_reference_counts_dict': ObjectIdentityDictionary({<_ObjectIdentityWrapper wrapping <keras.optimizer_v2.adam.Adam object at 0x7fe50cc39910>>: 1, <_ObjectIdentityWrapper wrapping <keras.engine.compile_utils.LossesContainer object at 0x7fe50cc397f0>>: 1, <_ObjectIdentityWrapper wrapping <keras.engine.compile_utils.MetricsContainer object at 0x7fe50cc8d670>>: 1, <_ObjectIdentityWrapper wrapping True>: 1, <_ObjectIdentityWrapper wrapping 'categorical_crossentropy'>: 1, <_ObjectIdentityWrapper wrapping <keras.callbacks.History object at 0x7fe50cba5fd0>>: 1, <_ObjectIdentityWrapper wrapping <tensorflow.python.eager.def_function.Function object at 0x7fe50cb3c940>>: 2, <_ObjectIdentityWrapper wrapping <tensorflow.python.eager.def_function.Function object at 0x7fe50c0c4460>>: 1}),\n",
       " '_run_eagerly': None,\n",
       " '_self_unconditional_checkpoint_dependencies': [TrackableReference(name=optimizer, ref=<keras.optimizer_v2.adam.Adam object at 0x7fe50cc39910>),\n",
       "  TrackableReference(name=train_tf_function, ref=<tensorflow.python.eager.def_function.Function object at 0x7fe50cb3c940>),\n",
       "  TrackableReference(name=train_function, ref=<tensorflow.python.eager.def_function.Function object at 0x7fe50cb3c940>),\n",
       "  TrackableReference(name=test_function, ref=<tensorflow.python.eager.def_function.Function object at 0x7fe50c0c4460>)],\n",
       " '_self_unconditional_dependency_names': {'optimizer': <keras.optimizer_v2.adam.Adam at 0x7fe50cc39910>,\n",
       "  'train_tf_function': <tensorflow.python.eager.def_function.Function at 0x7fe50cb3c940>,\n",
       "  'train_function': <tensorflow.python.eager.def_function.Function at 0x7fe50cb3c940>,\n",
       "  'test_function': <tensorflow.python.eager.def_function.Function at 0x7fe50c0c4460>},\n",
       " '_self_unconditional_deferred_dependencies': {},\n",
       " '_self_update_uid': -1,\n",
       " '_self_name_based_restores': set(),\n",
       " '_self_saveable_object_factories': {},\n",
       " 'optimizer': <keras.optimizer_v2.adam.Adam at 0x7fe50cc39910>,\n",
       " 'compiled_loss': <keras.engine.compile_utils.LossesContainer at 0x7fe50cc397f0>,\n",
       " 'compiled_metrics': <keras.engine.compile_utils.MetricsContainer at 0x7fe50cc8d670>,\n",
       " '_is_compiled': True,\n",
       " 'loss': 'categorical_crossentropy',\n",
       " '_jit_compile': None,\n",
       " 'stop_training': False,\n",
       " 'train_tf_function': <tensorflow.python.eager.def_function.Function at 0x7fe50cb3c940>,\n",
       " 'train_function': <tensorflow.python.eager.def_function.Function at 0x7fe50cb3c940>,\n",
       " 'test_function': <tensorflow.python.eager.def_function.Function at 0x7fe50c0c4460>,\n",
       " 'history': <keras.callbacks.History at 0x7fe50cba5fd0>}"
      ]
     },
     "execution_count": 7,
     "metadata": {},
     "output_type": "execute_result"
    }
   ],
   "source": [
    "target_model.__dict__"
   ]
  },
  {
   "cell_type": "markdown",
   "metadata": {},
   "source": [
    "### in particular, as well as all the config details and weights, we can see this was not compiled with the DP version of the optimiser\n",
    " - and if we print target_model.optimizer.__dict__ we get even mor detail"
   ]
  },
  {
   "cell_type": "code",
   "execution_count": 8,
   "metadata": {},
   "outputs": [
    {
     "name": "stdout",
     "output_type": "stream",
     "text": [
      "trained model has this type of optimiser <class 'keras.optimizer_v2.adam.Adam'>\n",
      "and the loss function is {target_model.loss}\n",
      "Adam\n",
      "16/16 - 0s - loss: 1.4632 - accuracy: 0.6020 - 292ms/epoch - 18ms/step\n",
      "before hacking the model attributes test loss is 1.4632388353347778 test accuracy is 0.6019999980926514\n"
     ]
    }
   ],
   "source": [
    "\n",
    "print(f'trained model has this type of optimiser {type(target_model.optimizer)}')\n",
    "print( 'and the loss function is {target_model.loss}')\n",
    "print(target_model.optimizer._name)\n",
    "\n",
    "saved_nonDP_optimiser_dict= target_model.optimizer.__dict__\n",
    "\n",
    "test_loss, test_acc = target_model.evaluate(Xs,  ys, verbose=2)\n",
    "print(f'before hacking the model attributes test loss is {test_loss} test accuracy is {test_acc}')\n",
    "\n"
   ]
  },
  {
   "cell_type": "markdown",
   "metadata": {},
   "source": [
    "### so ...\n",
    "We could easily:\n",
    "- write a code that tested the model looking to see if it used for the DP optimiser \n",
    "- make it available via `preliminaryCheck()` and `requestRelease()`\n",
    "\n",
    "But what if a researcher tries to change the optimiser afterwards, but forgets to retrain?\n",
    "\n",
    "**Q** check if malicious user could change min_split_size perior to calling fit() then change back afterwards in sklearn safe version\n",
    "\n",
    "\n",
    "**panicking user follows advice from** https://www.tensorflow.org/responsible_ai/privacy/tutorials/classification_privacy\n",
    "\n",
    "- define some params\n",
    "- Define the optimizer and loss function for the learning model. \n",
    "\n",
    "- Compute the loss as a vector of losses per-example rather than as the mean over a minibatch to support gradient manipulation over each training point."
   ]
  },
  {
   "cell_type": "code",
   "execution_count": 9,
   "metadata": {},
   "outputs": [],
   "source": [
    "###user manually creates DP optimiser and resets model\n",
    "#some params\n",
    "l2_norm_clip = 1.5\n",
    "noise_multiplier = 1.3\n",
    "num_microbatches = batch_size\n",
    "learning_rate = 0.25\n",
    "\n",
    "\n",
    "if batch_size % num_microbatches != 0:\n",
    "  raise ValueError('Batch size should be an integer multiple of the number of microbatches')\n",
    "\n",
    "#create the optimiser and loss function\n",
    "\n",
    "optimizer = tensorflow_privacy.DPKerasSGDOptimizer(\n",
    "    l2_norm_clip=l2_norm_clip,\n",
    "    noise_multiplier=noise_multiplier,\n",
    "    num_microbatches=num_microbatches,\n",
    "    learning_rate=learning_rate)\n",
    "\n",
    "loss = tf.keras.losses.CategoricalCrossentropy(\n",
    "    from_logits=True, reduction=tf.losses.Reduction.NONE)"
   ]
  },
  {
   "cell_type": "code",
   "execution_count": 10,
   "metadata": {},
   "outputs": [
    {
     "name": "stderr",
     "output_type": "stream",
     "text": [
      "2022-05-04 08:41:47.912185: W tensorflow/python/util/util.cc:368] Sets are not currently considered sequences, but this may change in the future, so consider avoiding using them.\n"
     ]
    },
    {
     "name": "stdout",
     "output_type": "stream",
     "text": [
      "INFO:tensorflow:Assets written to: ram://dfc1f7b6-3789-4202-bac6-709d8b992de7/assets\n",
      "After hacking the model attributes it now looks like the same trained model has this type of optimiser <tensorflow_privacy.privacy.optimizers.dp_optimizer_keras.make_keras_optimizer_class.<locals>.DPOptimizerClass object at 0x7fe50c9d8e50>\n",
      "16/16 - 0s - loss: 1.4632 - accuracy: 0.6020 - 191ms/epoch - 12ms/step\n",
      "\n",
      " But, importantly, we can still use it to predict: test loss is 1.4632388353347778 test accuracy is 0.6019999980926514\n"
     ]
    }
   ],
   "source": [
    "# now try to manually assign these values to the target_model rather than recompile and refit\n",
    "import copy\n",
    "hacked_model = copy.deepcopy(target_model)\n",
    "\n",
    "hacked_model.optimizer = optimizer\n",
    "hacked_model.loss = loss\n",
    "\n",
    "# so what have we got now?\n",
    "\n",
    "print(f'After hacking the model attributes it now looks like the same trained model has this type of optimiser {hacked_model.optimizer}')\n",
    "\n",
    "\n",
    "# can we still use it for prediction even after this hacking?\n",
    "test_loss, test_acc = hacked_model.evaluate(Xs,  ys, verbose=2)\n",
    "print(f'\\n But, importantly, we can still use it to predict: test loss is {test_loss} test accuracy is {test_acc}')\n",
    "\n",
    "\n"
   ]
  },
  {
   "cell_type": "markdown",
   "metadata": {},
   "source": [
    "\n",
    "### This is what they would have got if they recompiled and reran\n"
   ]
  },
  {
   "cell_type": "code",
   "execution_count": 11,
   "metadata": {},
   "outputs": [
    {
     "name": "stdout",
     "output_type": "stream",
     "text": [
      "Epoch 1/10\n"
     ]
    },
    {
     "name": "stderr",
     "output_type": "stream",
     "text": [
      "/home/andy/anaconda3/lib/python3.9/site-packages/tensorflow/python/util/dispatch.py:1082: UserWarning: \"`categorical_crossentropy` received `from_logits=True`, but the `output` argument was produced by a sigmoid or softmax activation and thus does not represent logits. Was this intended?\"\n",
      "  return dispatch_target(*args, **kwargs)\n"
     ]
    },
    {
     "name": "stdout",
     "output_type": "stream",
     "text": [
      "10/10 [==============================] - 4s 81ms/step - loss: 4821.9087 - accuracy: 0.5400 - val_loss: 17400.2324 - val_accuracy: 0.4840\n",
      "Epoch 2/10\n",
      "10/10 [==============================] - 0s 48ms/step - loss: 26032.7676 - accuracy: 0.5000 - val_loss: 46942.0352 - val_accuracy: 0.4640\n",
      "Epoch 3/10\n",
      "10/10 [==============================] - 1s 55ms/step - loss: 63700.9922 - accuracy: 0.5320 - val_loss: 92376.3438 - val_accuracy: 0.4880\n",
      "Epoch 4/10\n",
      "10/10 [==============================] - 0s 43ms/step - loss: 103606.9453 - accuracy: 0.5240 - val_loss: 147892.2969 - val_accuracy: 0.4960\n",
      "Epoch 5/10\n",
      "10/10 [==============================] - 1s 60ms/step - loss: 132076.3594 - accuracy: 0.5640 - val_loss: 226403.5156 - val_accuracy: 0.4720\n",
      "Epoch 6/10\n",
      "10/10 [==============================] - 1s 57ms/step - loss: 206667.3125 - accuracy: 0.5360 - val_loss: 294979.6875 - val_accuracy: 0.4320\n",
      "Epoch 7/10\n",
      "10/10 [==============================] - 0s 48ms/step - loss: 225393.5000 - accuracy: 0.5760 - val_loss: 359438.4062 - val_accuracy: 0.4480\n",
      "Epoch 8/10\n",
      "10/10 [==============================] - 0s 40ms/step - loss: 245187.5469 - accuracy: 0.6000 - val_loss: 449851.5625 - val_accuracy: 0.4440\n",
      "Epoch 9/10\n",
      "10/10 [==============================] - 0s 39ms/step - loss: 341691.9688 - accuracy: 0.5760 - val_loss: 527475.9375 - val_accuracy: 0.4760\n",
      "Epoch 10/10\n",
      "10/10 [==============================] - 0s 36ms/step - loss: 425583.9062 - accuracy: 0.5960 - val_loss: 719078.8750 - val_accuracy: 0.4920\n"
     ]
    },
    {
     "data": {
      "image/png": "[encoded data removed]",
      "text/plain": [
       "<Figure size 432x288 with 1 Axes>"
      ]
     },
     "metadata": {
      "needs_background": "light"
     },
     "output_type": "display_data"
    },
    {
     "name": "stdout",
     "output_type": "stream",
     "text": [
      "16/16 - 0s - loss: 666839.7500 - accuracy: 0.4880 - 212ms/epoch - 13ms/step\n",
      "\n",
      " The DP trained version gets these test results:  test loss is 666839.75 test accuracy is 0.4880000054836273\n",
      "trained model has this type of optimiser <class 'tensorflow_privacy.privacy.optimizers.dp_optimizer_keras.make_keras_optimizer_class.<locals>.DPOptimizerClass'>\n",
      "and the loss function is {target_model_DP.loss}\n"
     ]
    }
   ],
   "source": [
    "\n",
    "\n",
    "#some params\n",
    "l2_norm_clip = 1.5\n",
    "noise_multiplier = 1.3\n",
    "num_microbatches = batch_size\n",
    "learning_rate = 0.25\n",
    "\n",
    "\n",
    "\n",
    "\n",
    "if batch_size % num_microbatches != 0:\n",
    "  raise ValueError('Batch size should be an integer multiple of the number of microbatches')\n",
    "\n",
    "#create the optimiser and loss function\n",
    "\n",
    "optimizer = tensorflow_privacy.DPKerasAdamOptimizer(\n",
    "    l2_norm_clip=l2_norm_clip,\n",
    "    noise_multiplier=noise_multiplier,\n",
    "    num_microbatches=num_microbatches,\n",
    "    learning_rate=learning_rate)\n",
    "\n",
    "loss = tf.keras.losses.CategoricalCrossentropy(\n",
    "    from_logits=True, reduction=tf.losses.Reduction.NONE)\n",
    "\n",
    "DP_model = Model(input_data, output)\n",
    "DP_model.compile(optimizer=optimizer, loss=loss, metrics=['accuracy'])\n",
    "\n",
    "\n",
    "\n",
    "\n",
    "r_DP = DP_model.fit(Xt_member, \n",
    "                     yt_member, \n",
    "                     validation_data=(Xt_nonmember, yt_nonmember),\n",
    "                     epochs=epochs, \n",
    "                     batch_size=batch_size\n",
    "                    )  \n",
    "                    \n",
    "plt.plot(r_DP.history['accuracy'], label='accuracy')\n",
    "plt.plot(r_DP.history['val_accuracy'], label='validation accuracy')\n",
    "plt.legend()\n",
    "plt.show()                    \n",
    "                    \n",
    "                    \n",
    "test_loss, test_acc = DP_model.evaluate(Xs,  ys, verbose=2)\n",
    "print(f'\\n The DP trained version gets these test results:  test loss is {test_loss} test accuracy is {test_acc}')\n",
    "\n",
    "\n",
    "print(f'trained model has this type of optimiser {type(DP_model.optimizer)}')\n",
    "print( 'and the loss function is {target_model_DP.loss}')\n",
    "  "
   ]
  },
  {
   "cell_type": "markdown",
   "metadata": {},
   "source": [
    "## Checks for differential privacy based on flags within model optimizer"
   ]
  },
  {
   "cell_type": "code",
   "execution_count": 12,
   "metadata": {},
   "outputs": [],
   "source": [
    "#show that DP was not used\n",
    "def check_DP_used(optimizer):\n",
    "    DPused = False\n",
    "    reason = \"None\"\n",
    "    if ( \"_was_dp_gradients_called\" not in optimizer.__dict__ ):\n",
    "        reason = \"optimiser does not contain key _was_dp_gradients_called so is not DP.\"\n",
    "        DPused = False\n",
    "    elif (optimizer._was_dp_gradients_called==False):\n",
    "        reason= \"although the target model optimiser has been changed to a DP variant, fit() has not been rerun.\"\n",
    "        DPused = False\n",
    "    else:\n",
    "        reason= f\" value of the key: target_model.optimizer._was_dp_gradients_called is {optimizer._was_dp_gradients_called} so DP variant of optimiser has been run\"\n",
    "        DPused=True\n",
    "    return DPused, reason"
   ]
  },
  {
   "cell_type": "markdown",
   "metadata": {},
   "source": [
    "## So what have we learned?"
   ]
  },
  {
   "cell_type": "code",
   "execution_count": 13,
   "metadata": {},
   "outputs": [
    {
     "name": "stdout",
     "output_type": "stream",
     "text": [
      "=====For our original non-DP model=====\n",
      "The optimiser is of type <class 'keras.optimizer_v2.adam.Adam'>, with name Adam.\n",
      "calling get_config() on this optimizer returns {'name': 'Adam', 'learning_rate': 0.001, 'decay': 0.0, 'beta_1': 0.9, 'beta_2': 0.999, 'epsilon': 1e-07, 'amsgrad': False}\n",
      "Running our check_DP_used function  gives False because optimiser does not contain key _was_dp_gradients_called so is not DP.\n",
      "\n",
      "=====For the hacked version of original non-DP model=====\n",
      "The optimiser is of type <class 'tensorflow_privacy.privacy.optimizers.dp_optimizer_keras.make_keras_optimizer_class.<locals>.DPOptimizerClass'>, with name SGD.\n",
      "calling get_config() on this optimizer returns {'name': 'SGD', 'learning_rate': 0.25, 'decay': 0.0, 'momentum': 0.0, 'nesterov': False, 'l2_norm_clip': 1.5, 'noise_multiplier': 1.3, 'num_microbatches': 25}\n",
      "Running our check_DP_used function  gives False because although the target model optimiser has been changed to a DP variant, fit() has not been rerun.\n",
      "\n",
      "=====For the DP model =======\n",
      "The optimiser is of type <class 'tensorflow_privacy.privacy.optimizers.dp_optimizer_keras.make_keras_optimizer_class.<locals>.DPOptimizerClass'>, with name Adam.\n",
      "calling get_config() on this optimizer returns {'name': 'Adam', 'learning_rate': 0.25, 'decay': 0.0, 'beta_1': 0.9, 'beta_2': 0.999, 'epsilon': 1e-07, 'amsgrad': False, 'l2_norm_clip': 1.5, 'noise_multiplier': 1.3, 'num_microbatches': 25}\n",
      "Running our check_DP_used function  gives True because  value of the key: target_model.optimizer._was_dp_gradients_called is True so DP variant of optimiser has been run\n",
      "\n"
     ]
    }
   ],
   "source": [
    "print(\"=====For our original non-DP model=====\")\n",
    "the_optimiser = target_model.optimizer\n",
    "print(f\"The optimiser is of type {type(the_optimiser)}, with name {the_optimiser._name}.\")\n",
    "print(f\"calling get_config() on this optimizer returns {the_optimiser.get_config()}\")\n",
    "value, reason = check_DP_used(the_optimiser)\n",
    "print(f\"Running our check_DP_used function  gives {value} because {reason}\\n\")\n",
    "\n",
    "print(f\"=====For the hacked version of original non-DP model=====\")\n",
    "the_optimiser = hacked_model.optimizer      \n",
    "print(f\"The optimiser is of type {type(the_optimiser)}, with name {the_optimiser._name}.\")\n",
    "print(f\"calling get_config() on this optimizer returns {the_optimiser.get_config()}\")\n",
    "value, reason = check_DP_used(the_optimiser)\n",
    "print(f\"Running our check_DP_used function  gives {value} because {reason}\\n\")\n",
    "\n",
    "print(\"=====For the DP model =======\")\n",
    "the_optimiser= DP_model.optimizer\n",
    "print(f\"The optimiser is of type {type(the_optimiser)}, with name {the_optimiser._name}.\")\n",
    "print(f\"calling get_config() on this optimizer returns {the_optimiser.get_config()}\")\n",
    "value, reason = check_DP_used(the_optimiser)\n",
    "print(f\"Running our check_DP_used function  gives {value} because {reason}\\n\")"
   ]
  },
  {
   "cell_type": "code",
   "execution_count": 14,
   "metadata": {
    "scrolled": true
   },
   "outputs": [
    {
     "name": "stdout",
     "output_type": "stream",
     "text": [
      "<class 'tensorflow_privacy.privacy.optimizers.dp_optimizer_keras.make_keras_optimizer_class.<locals>.DPOptimizerClass'>\n"
     ]
    },
    {
     "data": {
      "text/plain": [
       "(\"- parameter optimizer = <tensorflow_privacy.privacy.optimizers.dp_optimizer_keras.make_keras_optimizer_class.<locals>.DPOptimizerClass object at 0x7fe50c5b8d00> identified as different type than the recommended fixed value of <class 'tensorflow_privacy.privacy.optimizers.dp_optimizer_keras.make_keras_optimizer_class.<locals>.DPOptimizerClass'>.\",\n",
       " True)"
      ]
     },
     "execution_count": 14,
     "metadata": {},
     "output_type": "execute_result"
    }
   ],
   "source": [
    "from typing import Any\n",
    "\n",
    "def check_type(key: str, val: Any, cur_val: Any) -> tuple[str, bool]:\n",
    "    \"\"\"Checks the type of a value\"\"\"\n",
    "    print(type(DP_model.optimizer))\n",
    "    if isinstance(cur_val, val) == False:\n",
    "        disclosive = True\n",
    "        msg = (\n",
    "            f\"- parameter {key} = {cur_val}\"\n",
    "            f\" identified as different type than the recommended fixed value of {val}.\"\n",
    "        )\n",
    "    else:\n",
    "        disclosive = False\n",
    "        msg = \"\"\n",
    "    return msg, disclosive\n",
    "\n",
    "\n",
    "\n",
    "\n",
    "check_type(key=\"optimizer\", val=tensorflow_privacy.DPKerasSGDOptimizer,cur_val = DP_model.optimizer)\n"
   ]
  },
  {
   "cell_type": "markdown",
   "metadata": {},
   "source": [
    "### so the test accuracy is now significantly reduced if they properly recompile and retrain using the DP code\n",
    "\n",
    "### and what is the nominal privacy?"
   ]
  },
  {
   "cell_type": "code",
   "execution_count": 15,
   "metadata": {
    "scrolled": true
   },
   "outputs": [
    {
     "name": "stdout",
     "output_type": "stream",
     "text": [
      "DP-SGD with sampling rate = 5% and noise_multiplier = 1.3 iterated over 200 steps satisfies differential privacy with eps = 3.28 and delta = 1e-05.\n",
      "The optimal RDP order is 6.0.\n"
     ]
    },
    {
     "data": {
      "text/plain": [
       "(3.284184302269499, 6.0)"
      ]
     },
     "execution_count": 15,
     "metadata": {},
     "output_type": "execute_result"
    }
   ],
   "source": [
    "compute_dp_sgd_privacy.compute_dp_sgd_privacy(n=Xt.shape[0],\n",
    "                                              batch_size=batch_size,\n",
    "                                              noise_multiplier=noise_multiplier,\n",
    "                                              epochs=epochs,\n",
    "                                              delta=1e-5)"
   ]
  },
  {
   "cell_type": "markdown",
   "metadata": {},
   "source": [
    "## Now try the SafeKerasModel version"
   ]
  },
  {
   "cell_type": "code",
   "execution_count": 29,
   "metadata": {
    "scrolled": true
   },
   "outputs": [
    {
     "data": {
      "text/plain": [
       "<module 'safemodel.safemodel' from '/home/andy/GRAIMatter/safemodel/safemodel.py'>"
      ]
     },
     "execution_count": 29,
     "metadata": {},
     "output_type": "execute_result"
    }
   ],
   "source": [
    "import  importlib, safemodel\n",
    "\"\"\", safemodel, Safe_Keras\"\"\"\n",
    "\n",
    "from safemodel.safemodel import SafeModel\n",
    "from safemodel.classifiers import Safe_KerasModel\n",
    "\n",
    "\n",
    "importlib.reload(safemodel.safemodel)\n"
   ]
  },
  {
   "cell_type": "code",
   "execution_count": 32,
   "metadata": {},
   "outputs": [
    {
     "ename": "TypeError",
     "evalue": "module() argument 'name' must be str, not Safe_KerasModel",
     "output_type": "error",
     "traceback": [
      "\u001b[0;31m---------------------------------------------------------------------------\u001b[0m",
      "\u001b[0;31mTypeError\u001b[0m                                 Traceback (most recent call last)",
      "\u001b[0;32m/tmp/ipykernel_120649/859838037.py\u001b[0m in \u001b[0;36m<module>\u001b[0;34m\u001b[0m\n\u001b[1;32m      1\u001b[0m \u001b[0moptimizer\u001b[0m\u001b[0;34m=\u001b[0m\u001b[0;32mNone\u001b[0m\u001b[0;34m\u001b[0m\u001b[0;34m\u001b[0m\u001b[0m\n\u001b[0;32m----> 2\u001b[0;31m \u001b[0msafeModel\u001b[0m \u001b[0;34m=\u001b[0m \u001b[0mSafe_KerasModel\u001b[0m\u001b[0;34m(\u001b[0m\u001b[0minput\u001b[0m\u001b[0;34m,\u001b[0m \u001b[0moutput\u001b[0m\u001b[0;34m)\u001b[0m\u001b[0;34m\u001b[0m\u001b[0;34m\u001b[0m\u001b[0m\n\u001b[0m",
      "\u001b[0;32m~/GRAIMatter/safemodel/classifiers/safekeras.py\u001b[0m in \u001b[0;36m__init__\u001b[0;34m(self, *args, **kwargs)\u001b[0m\n\u001b[1;32m     16\u001b[0m     \u001b[0;32mdef\u001b[0m \u001b[0m__init__\u001b[0m\u001b[0;34m(\u001b[0m\u001b[0mself\u001b[0m\u001b[0;34m,\u001b[0m \u001b[0;34m*\u001b[0m\u001b[0margs\u001b[0m\u001b[0;34m:\u001b[0m \u001b[0mAny\u001b[0m\u001b[0;34m,\u001b[0m \u001b[0;34m**\u001b[0m\u001b[0mkwargs\u001b[0m\u001b[0;34m:\u001b[0m \u001b[0mAny\u001b[0m\u001b[0;34m)\u001b[0m \u001b[0;34m->\u001b[0m \u001b[0;32mNone\u001b[0m\u001b[0;34m:\u001b[0m\u001b[0;34m\u001b[0m\u001b[0;34m\u001b[0m\u001b[0m\n\u001b[1;32m     17\u001b[0m         \u001b[0;34m\"\"\"Creates model and applies constraints to params\"\"\"\u001b[0m\u001b[0;34m\u001b[0m\u001b[0;34m\u001b[0m\u001b[0m\n\u001b[0;32m---> 18\u001b[0;31m         \u001b[0mSafeModel\u001b[0m\u001b[0;34m.\u001b[0m\u001b[0m__init__\u001b[0m\u001b[0;34m(\u001b[0m\u001b[0mself\u001b[0m\u001b[0;34m)\u001b[0m\u001b[0;34m\u001b[0m\u001b[0;34m\u001b[0m\u001b[0m\n\u001b[0m\u001b[1;32m     19\u001b[0m         \u001b[0mtf\u001b[0m\u001b[0;34m.\u001b[0m\u001b[0mkeras\u001b[0m\u001b[0;34m.\u001b[0m\u001b[0mmodel\u001b[0m\u001b[0;34m.\u001b[0m\u001b[0m__init__\u001b[0m\u001b[0;34m(\u001b[0m\u001b[0mself\u001b[0m\u001b[0;34m,\u001b[0m \u001b[0;34m*\u001b[0m\u001b[0margs\u001b[0m\u001b[0;34m,\u001b[0m \u001b[0;34m**\u001b[0m\u001b[0mkwargs\u001b[0m\u001b[0;34m)\u001b[0m\u001b[0;34m\u001b[0m\u001b[0;34m\u001b[0m\u001b[0m\n\u001b[1;32m     20\u001b[0m         \u001b[0mself\u001b[0m\u001b[0;34m.\u001b[0m\u001b[0mmodel_type\u001b[0m\u001b[0;34m:\u001b[0m \u001b[0mstr\u001b[0m \u001b[0;34m=\u001b[0m \u001b[0;34m\"KerasModel\"\u001b[0m\u001b[0;34m\u001b[0m\u001b[0;34m\u001b[0m\u001b[0m\n",
      "\u001b[0;31mTypeError\u001b[0m: module() argument 'name' must be str, not Safe_KerasModel"
     ]
    }
   ],
   "source": [
    "optimizer=None\n",
    "safeModel = Safe_KerasModel(input, output)\n"
   ]
  },
  {
   "cell_type": "code",
   "execution_count": 26,
   "metadata": {},
   "outputs": [],
   "source": [
    "#safeModel.__dict__\n"
   ]
  },
  {
   "cell_type": "code",
   "execution_count": 27,
   "metadata": {},
   "outputs": [
    {
     "ename": "NameError",
     "evalue": "name 'safeModel' is not defined",
     "output_type": "error",
     "traceback": [
      "\u001b[0;31m---------------------------------------------------------------------------\u001b[0m",
      "\u001b[0;31mNameError\u001b[0m                                 Traceback (most recent call last)",
      "\u001b[0;32m/tmp/ipykernel_120649/2725191718.py\u001b[0m in \u001b[0;36m<module>\u001b[0;34m\u001b[0m\n\u001b[0;32m----> 1\u001b[0;31m \u001b[0msafeModel\u001b[0m\u001b[0;34m.\u001b[0m\u001b[0mcompile\u001b[0m\u001b[0;34m(\u001b[0m\u001b[0;34m)\u001b[0m\u001b[0;31m#optimizer='adam', loss='categorical_crossentropy', metrics=['accuracy'])\u001b[0m\u001b[0;34m\u001b[0m\u001b[0;34m\u001b[0m\u001b[0m\n\u001b[0m\u001b[1;32m      2\u001b[0m \u001b[0;34m\u001b[0m\u001b[0m\n\u001b[1;32m      3\u001b[0m \u001b[0mprint\u001b[0m\u001b[0;34m(\u001b[0m\u001b[0msafeModel\u001b[0m\u001b[0;34m.\u001b[0m\u001b[0moptimizer\u001b[0m\u001b[0;34m)\u001b[0m\u001b[0;34m\u001b[0m\u001b[0;34m\u001b[0m\u001b[0m\n\u001b[1;32m      4\u001b[0m \u001b[0;34m\u001b[0m\u001b[0m\n",
      "\u001b[0;31mNameError\u001b[0m: name 'safeModel' is not defined"
     ]
    }
   ],
   "source": [
    "safeModel.compile()#optimizer='adam', loss='categorical_crossentropy', metrics=['accuracy'])\n",
    "\n",
    "print(safeModel.optimizer)\n",
    "\n"
   ]
  },
  {
   "cell_type": "code",
   "execution_count": null,
   "metadata": {},
   "outputs": [],
   "source": [
    "l2_norm_clip = 1.5\n",
    "noise_multiplier = 1.3\n",
    "num_microbatches = batch_size\n",
    "learning_rate = 0.25\n",
    "\n",
    "\n",
    "\n",
    "\n",
    "if batch_size % num_microbatches != 0:\n",
    "  raise ValueError('Batch size should be an integer multiple of the number of microbatches')\n",
    "\n",
    "#create the optimiser and loss function\n",
    "\n",
    "optimizer = tensorflow_privacy.DPKerasSGDOptimizer(\n",
    "    l2_norm_clip=l2_norm_clip,\n",
    "    noise_multiplier=noise_multiplier,\n",
    "    num_microbatches=num_microbatches,\n",
    "    learning_rate=learning_rate)\n",
    "\n",
    "loss = tf.keras.losses.CategoricalCrossentropy(\n",
    "    from_logits=True, reduction=tf.losses.Reduction.NONE)"
   ]
  },
  {
   "cell_type": "code",
   "execution_count": null,
   "metadata": {},
   "outputs": [],
   "source": []
  },
  {
   "cell_type": "code",
   "execution_count": null,
   "metadata": {},
   "outputs": [],
   "source": []
  },
  {
   "cell_type": "code",
   "execution_count": null,
   "metadata": {},
   "outputs": [],
   "source": []
  },
  {
   "cell_type": "code",
   "execution_count": null,
   "metadata": {},
   "outputs": [],
   "source": []
  }
 ],
 "metadata": {
  "kernelspec": {
   "display_name": "Python 3 (ipykernel)",
   "language": "python",
   "name": "python3"
  },
  "language_info": {
   "codemirror_mode": {
    "name": "ipython",
    "version": 3
   },
   "file_extension": ".py",
   "mimetype": "text/x-python",
   "name": "python",
   "nbconvert_exporter": "python",
   "pygments_lexer": "ipython3",
   "version": "3.9.7"
  }
 },
 "nbformat": 4,
 "nbformat_minor": 4
}
