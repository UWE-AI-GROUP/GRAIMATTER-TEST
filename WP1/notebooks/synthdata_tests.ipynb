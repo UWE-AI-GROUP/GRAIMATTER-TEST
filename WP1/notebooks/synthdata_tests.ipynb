{
 "cells": [
  {
   "cell_type": "markdown",
   "id": "0102479a-ecb2-4ffb-8aaa-6d21c90a06f0",
   "metadata": {},
   "source": [
    "## Test ($\\epsilon$,$\\delta$)-differentially private synthetic data generation on simple dataset"
   ]
  },
  {
   "cell_type": "markdown",
   "id": "0a7e01a9-3da6-4c75-8596-8da820265b68",
   "metadata": {},
   "source": [
    "In this notebook, we investigate the effect of enforcing differential privacy on usefulness of synthetic data. We firstly generate a simple dataset consisting of four independently unit-Gaussian distributed covariates $X$, and a Bernoulli-distributed outcome $Y$ with $E(Y)=logistic(\\beta X)$\n",
    "\n",
    "We make use of a public github library for [differentially private synthetic data generation](https://github.com/BorealisAI/private-data-generation)"
   ]
  },
  {
   "cell_type": "markdown",
   "id": "84d31510-c961-43bd-b180-de3e8d3953e3",
   "metadata": {},
   "source": [
    "Control parameters are as follows"
   ]
  },
  {
   "cell_type": "code",
   "execution_count": 1,
   "id": "c393d9d3-ab38-4a04-899f-d96fb60bcc89",
   "metadata": {},
   "outputs": [],
   "source": [
    "############################################################\n",
    "## File paths --------------------------------------------##\n",
    "############################################################\n",
    "\n",
    "# File paths for original and synthesised data sets\n",
    "orig_path='/home/ec2-user/studies/GRAIMatter/data/Synthetic_generation/Original/'\n",
    "synth_path='/home/ec2-user/studies/GRAIMatter/data/Synthetic_generation/Synthetic/'\n",
    "\n",
    "# File path containing evaluate.py and PDG repository\n",
    "pdg_path='/home/ec2-user/GRAIMatter/WP1/models/Synthetic_data/'\n",
    "\n",
    "# File path to which outputs will be saved. Should contain directories called Figures, Tables\n",
    "output_path='/home/ec2-user/GRAIMatter/WP1/reports/synthetic_data/'\n",
    "\n",
    "# Paths to scripts\n",
    "spath1='/home/ec2-user/GRAIMatter/WP1/models/Synthetic_data/models/PATEGAN/'\n",
    "\n",
    "\n",
    "\n",
    "############################################################\n",
    "## Synth. generation methods and DP levels ---------------##\n",
    "############################################################\n",
    "\n",
    "# This parameter can be 'dp-wgan' or 'pate-gan' (GAN-based) or 'ron-gauss' (Gaussian projection)\n",
    "#  Other options may be added. The parameter synth_extra governs extra parameters to be passed - \n",
    "#  see evaluate.py for details\n",
    "#synth_method='dp-wgan'; synth_extra='--sigma=0.8'\n",
    "#synth_method='ron-gauss'; synth_extra='';\n",
    "synth_method='pate-gan'; synth_extra='';\n",
    "\n",
    "# We will consider epsilon-DP for these epsilon levels\n",
    "dp_levels=[1,5,100,10**6]\n",
    "\n",
    "# This parameter controls whether output from the system call to evaluate.py is shown in the notebook\n",
    "show_output=True\n",
    "\n",
    "\n",
    "\n",
    "############################################################\n",
    "## Data parameters ---------------------------------------##\n",
    "############################################################\n",
    "\n",
    "# Random seed\n",
    "random_seed=38273\n",
    "\n",
    "# Simulate this many points\n",
    "nx=5000\n",
    "\n",
    "# Number of covariates\n",
    "p=4\n",
    "\n",
    "# Parameters of Gaussian distribution for IID covariates\n",
    "mu=0\n",
    "sigma=1\n",
    "\n",
    "# Coefficients of logistic model for Y\n",
    "beta0=[0.5,1,-1,-0.5]\n",
    "beta=tuple([10*x for x in beta0])\n"
   ]
  },
  {
   "cell_type": "markdown",
   "id": "f166a108-1645-4354-8169-3453f1abc38c",
   "metadata": {},
   "source": [
    "Preliminary set-up as follows"
   ]
  },
  {
   "cell_type": "code",
   "execution_count": 2,
   "id": "6bd367ac-a0e4-4906-bdca-3166f6c239f8",
   "metadata": {},
   "outputs": [
    {
     "name": "stdout",
     "output_type": "stream",
     "text": [
      "WARNING:tensorflow:From /home/ec2-user/conda/lib/python3.9/site-packages/tensorflow/python/compat/v2_compat.py:111: disable_resource_variables (from tensorflow.python.ops.variable_scope) is deprecated and will be removed in a future version.\n",
      "Instructions for updating:\n",
      "non-resource variables are not supported in the long term\n"
     ]
    }
   ],
   "source": [
    "# Preliminaries\n",
    "import os\n",
    "import sys\n",
    "import logging\n",
    "import pandas as pd\n",
    "import numpy as np\n",
    "import tensorflow as tf\n",
    "import math\n",
    "import csv\n",
    "import matplotlib.pyplot as plt\n",
    "import seaborn as sns\n",
    "\n",
    "from tensorflow import keras\n",
    "from tensorflow.keras import layers\n",
    "from tensorflow.keras.models import Model\n",
    "from tensorflow.keras import losses\n",
    "from sklearn.linear_model import LogisticRegression\n",
    "from sklearn.metrics import classification_report, confusion_matrix\n",
    "from sklearn.preprocessing import MinMaxScaler\n",
    "from tabulate import tabulate\n",
    "\n",
    "# Add requisite code paths to path\n",
    "sys.path.insert(1, spath1)\n",
    "\n",
    "# Code\n",
    "from data_generator import data_generator\n",
    "from pate_gan import pategan\n",
    "\n",
    "# Silence warnings\n",
    "import warnings\n",
    "warnings.filterwarnings('ignore')\n",
    "\n",
    "# Set random seed\n",
    "np.random.seed(random_seed)"
   ]
  },
  {
   "cell_type": "markdown",
   "id": "94d186dd-c146-4ad1-a837-318c3e5fa94a",
   "metadata": {},
   "source": [
    "Some functions which will be useful"
   ]
  },
  {
   "cell_type": "code",
   "execution_count": 3,
   "id": "01235e13-86a7-482f-be93-cfde32ba2a43",
   "metadata": {},
   "outputs": [],
   "source": [
    "# Basic functions\n",
    "def logistic1(x):\n",
    "  return 1/(1+math.exp(-x))\n",
    "logistic=np.vectorize(logistic1)\n",
    "def logit1(x):\n",
    "  return math.log(x/(1-x))\n",
    "logit=np.vectorize(logit1)\n",
    "\n",
    "# Sensitivity and specificity at range of cutoffs\n",
    "def roc_xy(ypred,y,res=0):\n",
    "    yt=sum(y); yl=len(y)\n",
    "    opred=np.argsort(ypred) \n",
    "    sy=y[opred]; sp=ypred[opred]\n",
    "\n",
    "    sens=1- (np.cumsum(sy)/yt)\n",
    "    spec=np.cumsum(1-sy)/(yl-yt)\n",
    "    \n",
    "    # coarsen; choose points regularly along arc length. Speeds up and privatises plot drawing\n",
    "    if res>0:\n",
    "       ds=np.cumsum(math.sqrt((spec[0:(yl-1)]-spec[1:yl])**2 + (sens[0:(yl-1)]-sens[1:yl])**2))\n",
    "       ds=ds/ds[yl-1]\n",
    "       lsp=list(range(1,yl-1))/yl\n",
    "       sub=np.round(yl*np.interp(np.linspace(0,max(ds),num=res),ds,lsp))\n",
    "       sens=sens[sub]\n",
    "       spec=spec[sub]\n",
    "    \n",
    "    return np.column_stack((sens,spec))\n",
    "\n",
    "# Return a system command to generate synthetic data\n",
    "def syscom_synth(opath,spath,epath,train_name,test_name,target_name,model_type,extra,dp_e,dp_d):\n",
    "    out=\"python \"+ epath + \"evaluate.py \"+\\\n",
    "    \"--train-data-path=\"+opath+train_name+\" \"+\\\n",
    "    \"--test-data-path=\"+opath+test_name+\" \"+\\\n",
    "    \"--target-variable=\"+target_name+\" \"+\\\n",
    "    model_type+\" \"+\\\n",
    "    \"--save-synthetic --output-data-path=\"+spath+\" \"+\\\n",
    "    extra\n",
    "    if dp_e>0:\n",
    "        out=out+\" --enable-privacy --target-epsilon=\"+str(dp_e)\n",
    "    if dp_d>0:\n",
    "        out=out+\" --target-delta=\"+str(dp_d)\n",
    "    return out\n"
   ]
  },
  {
   "cell_type": "markdown",
   "id": "bfe85f39-cd2b-4a01-8185-7b6632cff4b2",
   "metadata": {},
   "source": [
    "Now we generate basic data which we will try and mimic"
   ]
  },
  {
   "cell_type": "code",
   "execution_count": 4,
   "id": "61c84d0b-17c4-4d37-8866-c31b30781c34",
   "metadata": {},
   "outputs": [],
   "source": [
    "# Generate covariate data - random\n",
    "#cov_train=np.reshape(np.random.normal(mu,sigma,p*nx),(nx,p))\n",
    "#cov_test=np.reshape(np.random.normal(mu,sigma,p*nx),(nx,p))\n",
    "\n",
    "# Generate covariate data - uniform\n",
    "cov_train=np.reshape(np.random.uniform(-0.5,0.5,p*nx),(nx,p))\n",
    "cov_test=np.reshape(np.random.uniform(-0.5,0.5,p*nx),(nx,p))\n",
    "\n",
    "\n",
    "# Generate outcome data\n",
    "p_train=logistic(np.matmul(cov_train,beta))\n",
    "p_test=logistic(np.matmul(cov_test,beta))\n",
    "y_train=np.random.binomial(1,p_train,nx)\n",
    "y_test=np.random.binomial(1,p_test,nx)\n",
    "\n",
    "# Combine covariates and outcome\n",
    "dat_train=np.column_stack((cov_train,y_train))\n",
    "dat_test=np.column_stack((cov_test,y_test))\n",
    "\n",
    "# Glimpse\n",
    "#print(dat_train[-5:])\n",
    "#print(dat_test[-5:])\n",
    "\n",
    "# Column names\n",
    "dat_colnames=[\"X1\",\"X2\",\"X3\",\"X4\",\"Y\"]\n",
    "\n",
    "# Write to file\n",
    "with open(orig_path+'simple_logistic/simple_logistic_train.csv', 'w', encoding='UTF8', newline='') as f:\n",
    "    writer = csv.writer(f)\n",
    "    writer.writerow(dat_colnames)\n",
    "    writer.writerows(dat_train)\n",
    "    f.close()\n",
    "with open(orig_path+'simple_logistic/simple_logistic_test.csv', 'w', encoding='UTF8', newline='') as f:\n",
    "    writer = csv.writer(f)\n",
    "    writer.writerow(dat_colnames)\n",
    "    writer.writerows(dat_test)\n",
    "    f.close()\n",
    "    "
   ]
  },
  {
   "cell_type": "markdown",
   "id": "2bcd3609-4e46-40da-a803-0adb03143d5d",
   "metadata": {},
   "source": [
    "Now we will generate some synthetic datasets"
   ]
  },
  {
   "cell_type": "code",
   "execution_count": 24,
   "id": "a4009f7a-9026-4723-b35e-291fe99e5319",
   "metadata": {},
   "outputs": [
    {
     "name": "stderr",
     "output_type": "stream",
     "text": [
      "/home/ec2-user/GRAIMatter/WP1/models/Synthetic_data/models/ron_gauss.py:75: RuntimeWarning: covariance is not positive-semidefinite.\n",
      "  synth_data = prng.multivariate_normal(mu_dp_tilda, cov_dp, n_samples)\n",
      "/home/ec2-user/GRAIMatter/WP1/models/Synthetic_data/models/ron_gauss.py:75: RuntimeWarning: covariance is not positive-semidefinite.\n",
      "  synth_data = prng.multivariate_normal(mu_dp_tilda, cov_dp, n_samples)\n"
     ]
    },
    {
     "name": "stdout",
     "output_type": "stream",
     "text": [
      "AUC scores of downstream classifiers on test data : \n",
      "----------------------------------------\n",
      "LR: 0.5302473605463865\n",
      "----------------------------------------\n",
      "Random Forest: 0.5283651232961432\n",
      "----------------------------------------\n",
      "Neural Network: 0.5149908352971981\n",
      "----------------------------------------\n",
      "GaussianNB: 0.5029961343712528\n",
      "----------------------------------------\n",
      "GradientBoostingClassifier: 0.5046883873004044\n",
      "Saved synthetic data at :  /home/ec2-user/studies/GRAIMatter/data/Synthetic_generation/Synthetic/\n",
      "Processing differential privacy level 1\n"
     ]
    },
    {
     "name": "stderr",
     "output_type": "stream",
     "text": [
      "/home/ec2-user/GRAIMatter/WP1/models/Synthetic_data/models/ron_gauss.py:75: RuntimeWarning: covariance is not positive-semidefinite.\n",
      "  synth_data = prng.multivariate_normal(mu_dp_tilda, cov_dp, n_samples)\n",
      "/home/ec2-user/GRAIMatter/WP1/models/Synthetic_data/models/ron_gauss.py:75: RuntimeWarning: covariance is not positive-semidefinite.\n",
      "  synth_data = prng.multivariate_normal(mu_dp_tilda, cov_dp, n_samples)\n"
     ]
    },
    {
     "name": "stdout",
     "output_type": "stream",
     "text": [
      "AUC scores of downstream classifiers on test data : \n",
      "----------------------------------------\n",
      "LR: 0.5327903014844706\n",
      "----------------------------------------\n",
      "Random Forest: 0.4929264851908262\n",
      "----------------------------------------\n",
      "Neural Network: 0.506676340341786\n",
      "----------------------------------------\n",
      "GaussianNB: 0.5100083484264433\n",
      "----------------------------------------\n",
      "GradientBoostingClassifier: 0.4920835598100093\n",
      "Saved synthetic data at :  /home/ec2-user/studies/GRAIMatter/data/Synthetic_generation/Synthetic/\n",
      "Processing differential privacy level 5\n"
     ]
    },
    {
     "name": "stderr",
     "output_type": "stream",
     "text": [
      "/home/ec2-user/GRAIMatter/WP1/models/Synthetic_data/models/ron_gauss.py:75: RuntimeWarning: covariance is not positive-semidefinite.\n",
      "  synth_data = prng.multivariate_normal(mu_dp_tilda, cov_dp, n_samples)\n",
      "/home/ec2-user/GRAIMatter/WP1/models/Synthetic_data/models/ron_gauss.py:75: RuntimeWarning: covariance is not positive-semidefinite.\n",
      "  synth_data = prng.multivariate_normal(mu_dp_tilda, cov_dp, n_samples)\n"
     ]
    },
    {
     "name": "stdout",
     "output_type": "stream",
     "text": [
      "AUC scores of downstream classifiers on test data : \n",
      "----------------------------------------\n",
      "LR: 0.5210600901041056\n",
      "----------------------------------------\n",
      "Random Forest: 0.5210553685055612\n",
      "----------------------------------------\n",
      "Neural Network: 0.5099939435495281\n",
      "----------------------------------------\n",
      "GaussianNB: 0.5350337810369079\n",
      "----------------------------------------\n",
      "GradientBoostingClassifier: 0.4942687796380342\n",
      "Saved synthetic data at :  /home/ec2-user/studies/GRAIMatter/data/Synthetic_generation/Synthetic/\n",
      "Processing differential privacy level 100\n"
     ]
    },
    {
     "name": "stderr",
     "output_type": "stream",
     "text": [
      "/home/ec2-user/GRAIMatter/WP1/models/Synthetic_data/models/ron_gauss.py:75: RuntimeWarning: covariance is not positive-semidefinite.\n",
      "  synth_data = prng.multivariate_normal(mu_dp_tilda, cov_dp, n_samples)\n",
      "/home/ec2-user/GRAIMatter/WP1/models/Synthetic_data/models/ron_gauss.py:75: RuntimeWarning: covariance is not positive-semidefinite.\n",
      "  synth_data = prng.multivariate_normal(mu_dp_tilda, cov_dp, n_samples)\n"
     ]
    },
    {
     "name": "stdout",
     "output_type": "stream",
     "text": [
      "AUC scores of downstream classifiers on test data : \n",
      "----------------------------------------\n",
      "LR: 0.5482838669860067\n",
      "----------------------------------------\n",
      "Random Forest: 0.5133904534719275\n",
      "----------------------------------------\n",
      "Neural Network: 0.5169849504248158\n",
      "----------------------------------------\n",
      "GaussianNB: 0.5418533698769055\n",
      "----------------------------------------\n",
      "GradientBoostingClassifier: 0.517324665438731\n",
      "Saved synthetic data at :  /home/ec2-user/studies/GRAIMatter/data/Synthetic_generation/Synthetic/\n",
      "Processing differential privacy level 1000000\n"
     ]
    },
    {
     "name": "stderr",
     "output_type": "stream",
     "text": [
      "/home/ec2-user/GRAIMatter/WP1/models/Synthetic_data/models/ron_gauss.py:75: RuntimeWarning: covariance is not positive-semidefinite.\n",
      "  synth_data = prng.multivariate_normal(mu_dp_tilda, cov_dp, n_samples)\n"
     ]
    },
    {
     "name": "stdout",
     "output_type": "stream",
     "text": [
      "AUC scores of downstream classifiers on test data : \n",
      "----------------------------------------\n",
      "LR: 0.5240916764779884\n",
      "----------------------------------------\n",
      "Random Forest: 0.49626265468437003\n",
      "----------------------------------------\n",
      "Neural Network: 0.5110126884558036\n",
      "----------------------------------------\n",
      "GaussianNB: 0.5109219377312383\n",
      "----------------------------------------\n",
      "GradientBoostingClassifier: 0.5117060431979851\n",
      "Saved synthetic data at :  /home/ec2-user/studies/GRAIMatter/data/Synthetic_generation/Synthetic/\n"
     ]
    }
   ],
   "source": [
    "# Firstly with no differential privacy. \n",
    "if (synth_method in ['ron-gauss','dp-wgan']) \n",
    "\n",
    "    s0=syscom_synth(orig_path,synth_path,pdg_path,\n",
    "             'simple_logistic/simple_logistic_train.csv','simple_logistic/simple_logistic_test.csv',\n",
    "             'Y',synth_method,synth_extra,0,0)\n",
    "    if show_output:\n",
    "        os.system(s0)\n",
    "    else:\n",
    "        s0_out=os.popen(s0).read()\n",
    "    s0_mv=\"mv \"+synth_path+\"synthetic_data.csv \"+synth_path+\"simple_logistic_0_\"+synth_method+\".csv\"\n",
    "    os.system(s0_mv)\n",
    "\n",
    "if (synth_method=='pate-gan') \n",
    "    parameters = {'n_s': 1, 'batch_size': 64, 'k': 100, \n",
    "                'epsilon': 100, 'delta': 0.0001, \n",
    "                'lamda': 1}\n",
    "    stemp=pategan(dat_train, parameters)\n",
    "    stemp[:,stemp.shape[2]-1]=round(stemp[:,stemp.shape[2]-1])\n",
    "    with open(synth_path+'simple_logistic_0_pate-gan.csv', 'w', encoding='UTF8', newline='') as f:\n",
    "        writer = csv.writer(f)\n",
    "        writer.writerow(dat_colnames)\n",
    "        writer.writerows(stemp)\n",
    "        f.close()\n",
    "    \n",
    "# With differential privacy\n",
    "for dp in dp_levels:\n",
    "    print(\"Processing differential privacy level \"+str(dp))\n",
    "    sdp=syscom_synth(orig_path,synth_path,pdg_path,\n",
    "             'simple_logistic/simple_logistic_train.csv','simple_logistic/simple_logistic_test.csv',\n",
    "             'Y',synth_method,synth_extra,dp,0)\n",
    "    if show_output:\n",
    "        os.system(sdp)\n",
    "    else:\n",
    "        sdp_out=os.popen(sdp).read()\n",
    "    sdp_mv=\"mv \"+synth_path+\"synthetic_data.csv \"+synth_path+\\\n",
    "           \"simple_logistic_\"+str(dp)+\"_\"+synth_method+\".csv\"\n",
    "    os.system(sdp_mv)\n"
   ]
  },
  {
   "cell_type": "markdown",
   "id": "c2a8ca65-bb27-405e-8f52-bb0b5c69f41e",
   "metadata": {},
   "source": [
    "We now read synthetic-datasets back in. We fit (M-open) models to\n",
    " - the test set\n",
    " - a synthetic dataset with no DP guarantee\n",
    " - DP-guaranteed synthetic datasets\n",
    " \n",
    "and test them on the original test set"
   ]
  },
  {
   "cell_type": "code",
   "execution_count": 25,
   "id": "c1542042-0310-40ea-a5c5-16b91d6c1dda",
   "metadata": {},
   "outputs": [
    {
     "name": "stdout",
     "output_type": "stream",
     "text": [
      "Loading /home/ec2-user/studies/GRAIMatter/data/Synthetic_generation/Synthetic/simple_logistic_0_ron-gauss.csv\n",
      "Loading /home/ec2-user/studies/GRAIMatter/data/Synthetic_generation/Synthetic/simple_logistic_1_ron-gauss.csv\n",
      "Loading /home/ec2-user/studies/GRAIMatter/data/Synthetic_generation/Synthetic/simple_logistic_5_ron-gauss.csv\n",
      "Loading /home/ec2-user/studies/GRAIMatter/data/Synthetic_generation/Synthetic/simple_logistic_100_ron-gauss.csv\n",
      "Loading /home/ec2-user/studies/GRAIMatter/data/Synthetic_generation/Synthetic/simple_logistic_1000000_ron-gauss.csv\n"
     ]
    },
    {
     "data": {
      "image/png": "[encoded data removed]",
      "text/plain": [
       "<Figure size 432x288 with 1 Axes>"
      ]
     },
     "metadata": {},
     "output_type": "display_data"
    },
    {
     "name": "stdout",
     "output_type": "stream",
     "text": [
      "------------  ---------  --------  ----------  ---------\n",
      "True           5         10        -10         -5\n",
      "Orig.          4.45992    8.7797    -8.85289   -4.36927\n",
      "Synth, no DP   0.407253   2.03792   -3.34355   -1.81237\n",
      "DP 1           2.34575    1.32426    0.231387   3.0895\n",
      "DP 5           2.55887    2.15936    2.73135    0.798331\n",
      "DP 100        -0.299513  -2.8389    -4.72953   -2.77944\n",
      "DP 1000000    -1.42371   -1.91522   -0.652408  -1.88998\n",
      "------------  ---------  --------  ----------  ---------\n"
     ]
    }
   ],
   "source": [
    "## Model fitted to original training data\n",
    "model = LogisticRegression(solver='liblinear', random_state=0)\n",
    "model.fit(cov_train,y_train)\n",
    "ypred_test_orig=model.predict_proba(cov_test)[:,1]\n",
    "beta_orig=model.coef_\n",
    "\n",
    "## Model fitted to synthetic dataset with no DP guarantee\n",
    "# Read in\n",
    "s0_path=synth_path+\"simple_logistic_0_\"+synth_method+\".csv\"\n",
    "print(\"Loading \"+s0_path)\n",
    "synth0 = np.loadtxt(s0_path, delimiter=\",\",skiprows=1)[:,1:]\n",
    "# Fit model\n",
    "model = LogisticRegression(solver='liblinear', random_state=0)\n",
    "model.fit(synth0[:,0:p],synth0[:,p:(p+1)])\n",
    "ypred_test_0=model.predict_proba(cov_test)[:,1]\n",
    "beta_0=model.coef_\n",
    "\n",
    "# Models fitted to DP datasets\n",
    "ypred_test_dp=np.zeros([nx,len(dp_levels)])\n",
    "beta_dp=np.zeros([p,len(dp_levels)])\n",
    "for i in list(range(0,len(dp_levels))):\n",
    "    dp=dp_levels[i]\n",
    "    sdp=synth_path+\"simple_logistic_\"+str(dp)+\"_\"+synth_method+\".csv\"\n",
    "    print(\"Loading \"+sdp)\n",
    "    synthd = np.loadtxt(sdp, delimiter=\",\",skiprows=1)[:,1:]\n",
    "    # Fit model\n",
    "    model = LogisticRegression(solver='liblinear', random_state=0)\n",
    "    model.fit(synthd[:,0:p],synthd[:,p:(p+1)])\n",
    "    ypred_test_d=model.predict_proba(cov_test)[:,1]\n",
    "    ypred_test_dp[:,i]=ypred_test_d\n",
    "    beta_dp[:,i]=model.coef_\n",
    "\n",
    "## Plot ROC curves\n",
    "\n",
    "# Original data\n",
    "ss_orig=roc_xy(ypred_test_orig,y_test)\n",
    "plt.plot(1-ss_orig[:,1],ss_orig[:,0],label=\"Orig\",color=\"black\")\n",
    "\n",
    "# No DP\n",
    "ss_0=roc_xy(ypred_test_0,y_test)\n",
    "plt.plot(1-ss_0[:,1],ss_0[:,0],label=\"No DP\",color=\"red\")\n",
    "\n",
    "# DP levels\n",
    "for i in list(range(0,len(dp_levels))):\n",
    "    ss_dp=roc_xy(ypred_test_dp[:,i],y_test)\n",
    "    plt.plot(1-ss_dp[:,1],ss_dp[:,0],\n",
    "             label=\"DP\"+str(dp_levels[i]),\n",
    "             color=str((i+1)/(len(dp_levels)+1)))\n",
    "\n",
    "# X-Y line\n",
    "plt.plot([0,1],[0,1],linestyle=\"--\",linewidth=1,color=\"black\")\n",
    "\n",
    "# Draw plot\n",
    "plt.title('ROCs for DP')\n",
    "plt.xlabel('1-spec')\n",
    "plt.ylabel('Sens')\n",
    "plt.legend()\n",
    "\n",
    "# Save figure\n",
    "plt.savefig(output_path+'Figures/DP_ROC_'+synth_method+\"_\"+str(nx)+'.pdf', bbox_inches='tight')\n",
    "\n",
    "# Show figure\n",
    "plt.show()\n",
    "\n",
    "# Print betas\n",
    "btab=np.concatenate(\n",
    "    (np.reshape(np.array(beta),(1,p)),\n",
    "     beta_orig,\n",
    "     beta_0,\n",
    "     beta_dp))\n",
    "rindex=[\"True\",\"Orig.\",\"Synth, no DP\"] + [\"DP \"+str(d) for d in dp_levels]\n",
    "print(tabulate(btab,showindex=rindex))\n",
    "\n",
    "# Write to table\n",
    "with open(output_path+'Tables/DP_beta_'+synth_method+'_'+str(nx)+'.csv', 'w', encoding='UTF8', newline='') as f:\n",
    "    writer = csv.writer(f)\n",
    "    writer.writerow(rindex)\n",
    "    writer.writerows(np.transpose(btab))\n",
    "    f.close()\n",
    "\n"
   ]
  },
  {
   "cell_type": "markdown",
   "id": "c7991ada-3ba9-47f8-b25d-83da8d9853dd",
   "metadata": {},
   "source": [
    "Check densities of original and synthesised variables"
   ]
  },
  {
   "cell_type": "code",
   "execution_count": 26,
   "id": "e2c2e3fc-4d08-4037-b9e1-23fde2fa8f86",
   "metadata": {},
   "outputs": [
    {
     "data": {
      "text/plain": [
       "<AxesSubplot:ylabel='Density'>"
      ]
     },
     "execution_count": 26,
     "metadata": {},
     "output_type": "execute_result"
    },
    {
     "data": {
      "image/png": "[encoded data removed]",
      "text/plain": [
       "<Figure size 432x288 with 1 Axes>"
      ]
     },
     "metadata": {},
     "output_type": "display_data"
    }
   ],
   "source": [
    "sns.set_style('whitegrid'); bwx=0.1\n",
    "sns.kdeplot(np.array(synth0[:,0]), bw=bwx,color=\"red\")\n",
    "sns.kdeplot(np.array(synthd[:,0]), bw=bwx,color=\"blue\")\n",
    "sns.kdeplot(cov_train[:,1], bw=bwx,color=\"black\")"
   ]
  },
  {
   "cell_type": "code",
   "execution_count": null,
   "id": "a8d7ad43-25ab-4bf9-9cfe-62060e8a388d",
   "metadata": {},
   "outputs": [],
   "source": []
  }
 ],
 "metadata": {
  "kernelspec": {
   "display_name": "Python 3 (ipykernel)",
   "language": "python",
   "name": "python3"
  },
  "language_info": {
   "codemirror_mode": {
    "name": "ipython",
    "version": 3
   },
   "file_extension": ".py",
   "mimetype": "text/x-python",
   "name": "python",
   "nbconvert_exporter": "python",
   "pygments_lexer": "ipython3",
   "version": "3.9.7"
  }
 },
 "nbformat": 4,
 "nbformat_minor": 5
}
