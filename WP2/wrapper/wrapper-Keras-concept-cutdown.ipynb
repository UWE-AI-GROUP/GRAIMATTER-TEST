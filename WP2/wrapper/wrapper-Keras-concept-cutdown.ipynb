{
 "cells": [
  {
   "cell_type": "code",
   "execution_count": 1,
   "metadata": {},
   "outputs": [],
   "source": [
    "import sys\n",
    "import os\n",
    "\n",
    "ROOT_DIR = os.path.dirname(os.path.dirname(os.path.abspath(\"\")))\n",
    "sys.path.append(ROOT_DIR)"
   ]
  },
  {
   "cell_type": "code",
   "execution_count": 2,
   "metadata": {},
   "outputs": [
    {
     "name": "stderr",
     "output_type": "stream",
     "text": [
      "2022-05-23 05:30:21.859008: W tensorflow/stream_executor/platform/default/dso_loader.cc:64] Could not load dynamic library 'libcudart.so.11.0'; dlerror: libcudart.so.11.0: cannot open shared object file: No such file or directory\n",
      "2022-05-23 05:30:21.859081: I tensorflow/stream_executor/cuda/cudart_stub.cc:29] Ignore above cudart dlerror if you do not have a GPU set up on your machine.\n"
     ]
    }
   ],
   "source": [
    "import numpy as np\n",
    "import matplotlib.pyplot as plt\n",
    "\n",
    "%matplotlib inline\n",
    "\n",
    "# Scikit-learn utils\n",
    "from sklearn.model_selection import train_test_split\n",
    "from sklearn.datasets import make_classification, make_moons\n",
    "from sklearn.metrics import ConfusionMatrixDisplay\n",
    "from sklearn.metrics import confusion_matrix, classification_report, roc_curve, auc\n",
    "\n",
    "# Tensorflow imports\n",
    "import tensorflow as tf\n",
    "from tensorflow.keras.models import Model\n",
    "from tensorflow.keras.layers import Input, Dense, Dropout\n",
    "\n",
    "# Classifiers for attack models\n",
    "from sklearn.linear_model import LogisticRegression\n",
    "from sklearn.neural_network import MLPClassifier\n"
   ]
  },
  {
   "cell_type": "code",
   "execution_count": 3,
   "metadata": {},
   "outputs": [],
   "source": [
    "#import t=privachy version \n",
    "import tensorflow_privacy\n",
    "\n",
    "from tensorflow_privacy.privacy.analysis import compute_dp_sgd_privacy\n"
   ]
  },
  {
   "cell_type": "markdown",
   "metadata": {},
   "source": [
    "### Definition of the datasets\n",
    "1. We draw data points from a distribution.\n",
    "2. We split these data points into the target dataset and a shadow dataset drawn from the same distribution.\n",
    "3. We also draw a dataset from a different distribution.\n",
    "\n",
    "**NOTE**. ***I make datasets with few samples but with many features to force the target model to overfit.***\n",
    "\n",
    "\n",
    "***NOTE JIM: had to make batch_size 25 so DP optimizer would run with same hyperparams"
   ]
  },
  {
   "cell_type": "code",
   "execution_count": 4,
   "metadata": {},
   "outputs": [],
   "source": [
    "n_classes = 2\n",
    "\n",
    "# (X,y): Original distribution\n",
    "X, y = make_classification(n_samples=1000,\n",
    "                           n_classes=n_classes, \n",
    "                           n_features=300,\n",
    "                           n_informative=300,\n",
    "                           n_redundant=0,\n",
    "                           n_repeated=0,\n",
    "                           random_state=15\n",
    "                          )\n",
    "# One-hot encoding of the label\n",
    "y = np.eye(n_classes)[y]\n",
    "\n",
    "# (Xt, yt) is the target dataset, owned by the TRE and drawn from the (X,y) distribution\n",
    "# (Xs, ys) is a shadow dataset drawn from the (X,y) distribution\n",
    "Xt, Xs, yt, ys = train_test_split(X, y, test_size=0.50, random_state=15)\n",
    "\n",
    "# (Xd, yd) is a shadow dataset, drawn from a different distribution (different seed)\n",
    "Xd, yd = make_classification(n_samples=1000,\n",
    "                           n_classes=n_classes, \n",
    "                           n_features=300,\n",
    "                           n_informative=300,\n",
    "                           n_redundant=0,\n",
    "                           n_repeated=0,\n",
    "                           random_state=42\n",
    "                          )\n",
    "yd = np.eye(n_classes)[yd]\n",
    "\n",
    "\n"
   ]
  },
  {
   "cell_type": "code",
   "execution_count": 5,
   "metadata": {},
   "outputs": [],
   "source": [
    "# Split into train (member) and test (non-member) datasets\n",
    "# Set shuffle to False so that Xt_membership is consistent with Xt, otherwise\n",
    "# we need to stack Xt_member and Xt_nonmember again to get a consistent Xt.\n",
    "Xt_member, Xt_nonmember, yt_member, yt_nonmember = train_test_split(Xt, yt, test_size=0.5, shuffle=False)\n",
    "\n",
    "# Set membership status for future tests\n",
    "Xt_membership = np.vstack(\n",
    "    (\n",
    "        np.ones((Xt_member.shape[0], 1), np.uint8),\n",
    "        np.zeros((Xt_nonmember.shape[0], 1), np.uint8)\n",
    "    )\n",
    ").flatten()"
   ]
  },
  {
   "cell_type": "markdown",
   "metadata": {},
   "source": [
    "### Define the target model architecture\n",
    "\n",
    "*Again, I'm using a rather big model (for the classification task) to favour overfitting.*"
   ]
  },
  {
   "cell_type": "code",
   "execution_count": 6,
   "metadata": {},
   "outputs": [
    {
     "name": "stderr",
     "output_type": "stream",
     "text": [
      "2022-05-23 05:30:29.556893: W tensorflow/stream_executor/platform/default/dso_loader.cc:64] Could not load dynamic library 'libcuda.so.1'; dlerror: libcuda.so.1: cannot open shared object file: No such file or directory\n",
      "2022-05-23 05:30:29.557018: W tensorflow/stream_executor/cuda/cuda_driver.cc:269] failed call to cuInit: UNKNOWN ERROR (303)\n",
      "2022-05-23 05:30:29.557698: I tensorflow/stream_executor/cuda/cuda_diagnostics.cc:156] kernel driver does not appear to be running on this host (ubuntu): /proc/driver/nvidia/version does not exist\n",
      "2022-05-23 05:30:29.560022: I tensorflow/core/platform/cpu_feature_guard.cc:151] This TensorFlow binary is optimized with oneAPI Deep Neural Network Library (oneDNN) to use the following CPU instructions in performance-critical operations:  AVX2 FMA\n",
      "To enable them in other operations, rebuild TensorFlow with the appropriate compiler flags.\n"
     ]
    }
   ],
   "source": [
    "# Define target model\n",
    "# Tensorflow model (MLP) (making it big to make it overfit)\n",
    "\n",
    "input_data = Input(shape = Xt_member[0].shape)\n",
    "x = Dense(128, activation='relu')(input_data)\n",
    "x = Dense(128, activation='relu')(x)\n",
    "x = Dense(64, activation='relu')(x)\n",
    "output = Dense(2, activation='softmax')(x)"
   ]
  },
  {
   "cell_type": "markdown",
   "metadata": {},
   "source": [
    "## Now try the SafeKerasModel version"
   ]
  },
  {
   "cell_type": "code",
   "execution_count": 7,
   "metadata": {
    "scrolled": true
   },
   "outputs": [],
   "source": [
    "import importlib\n",
    "import safemodel\n",
    "from safemodel.classifiers.safekeras import Safe_KerasModel\n",
    "\n",
    "\n",
    "\n",
    "importlib.reload(safemodel.safemodel)\n",
    "importlib.reload(safemodel.classifiers.safekeras)\n",
    "from safemodel.classifiers.safekeras import Safe_KerasModel\n",
    "\n"
   ]
  },
  {
   "cell_type": "code",
   "execution_count": 8,
   "metadata": {},
   "outputs": [
    {
     "name": "stdout",
     "output_type": "stream",
     "text": [
      "args is a <class 'tuple'> = ()  kwargs is a <class 'dict'>= {'inputs': <KerasTensor: shape=(None, 300) dtype=float32 (created by layer 'input_1')>, 'outputs': <KerasTensor: shape=(None, 2) dtype=float32 (created by layer 'dense_3')>, 'name': 'safekeras-test'}\n",
      "inputs is in kwargs.keys\n",
      "KerasTensor(type_spec=TensorSpec(shape=(None, 300), dtype=tf.float32, name='input_1'), name='input_1', description=\"created by layer 'input_1'\")\n",
      "Model parameters are within recommended ranges.\n",
      "\n"
     ]
    }
   ],
   "source": [
    "optimizer=None\n",
    "safeModel = Safe_KerasModel(inputs= input_data, outputs=output,name=\"safekeras-test\")\n"
   ]
  },
  {
   "cell_type": "code",
   "execution_count": 9,
   "metadata": {},
   "outputs": [],
   "source": [
    "#safeModel.__dict__\n"
   ]
  },
  {
   "cell_type": "code",
   "execution_count": 10,
   "metadata": {},
   "outputs": [
    {
     "name": "stdout",
     "output_type": "stream",
     "text": [
      "Changed parameter optimizer = 'DPKerasSGDOptimizer'\n",
      "WARNING: model parameters may present a disclosure risk\n",
      "Unknown optimizer <class 'tensorflow_privacy.privacy.optimizers.dp_optimizer_keras.make_keras_optimizer_class.<locals>.DPOptimizerClass'> - Changed parameter optimizer = 'DPKerasSGDOptimizer'\n",
      "DP optimizer used = False\n",
      "optimizer has been changed but fit() has not been rerun.\n"
     ]
    }
   ],
   "source": [
    "loss = tf.keras.losses.CategoricalCrossentropy(\n",
    "    from_logits=False, reduction=tf.losses.Reduction.NONE)\n",
    "\n",
    "\n",
    "safeModel.compile(loss=loss)#optimizer='adam', loss='categorical_crossentropy', metrics=['accuracy'])\n",
    "\n",
    "\n"
   ]
  },
  {
   "cell_type": "code",
   "execution_count": 11,
   "metadata": {
    "scrolled": true
   },
   "outputs": [
    {
     "name": "stdout",
     "output_type": "stream",
     "text": [
      "optimiser is type <class 'tensorflow_privacy.privacy.optimizers.dp_optimizer_keras.make_keras_optimizer_class.<locals>.DPOptimizerClass'>\n",
      " It is True that the model will be DP because optimizer does  contain key _was_dp_gradients_called so should be DP.\n"
     ]
    }
   ],
   "source": [
    "theType= type(safeModel.optimizer)\n",
    "print(f'optimiser is type {theType}')\n",
    "\n",
    "dpused,reason = safeModel.check_optimizer_is_DP(safeModel.optimizer)\n",
    "print(f' It is {dpused} that the model will be DP because {reason}')"
   ]
  },
  {
   "cell_type": "code",
   "execution_count": 12,
   "metadata": {},
   "outputs": [
    {
     "name": "stdout",
     "output_type": "stream",
     "text": [
      "(250, 300)\n",
      "DP-SGD with sampling rate = 10% and noise_multiplier = 0.5 iterated over 200 steps satisfies differential privacy with eps = 50.3 and delta = 1e-05.\n",
      "The optimal RDP order is 1.5.\n",
      "Current epsilon is 50.301726361197794\n",
      "The requirements for DP are not met, current epsilon is: 50.301726361197794. To attain true DP the following parameters can be changed:  Num Samples = 250, batch_size = 25, epochs = 20\n",
      "This will not result in a Differentially Private model do you want to continue [Y/N]y\n",
      "Continuing\n",
      "Epoch 1/20\n",
      "10/10 [==============================] - 5s 62ms/step - loss: 5.1170 - accuracy: 0.5320 - val_loss: 2.6398 - val_accuracy: 0.5240\n",
      "Epoch 2/20\n",
      "10/10 [==============================] - 0s 43ms/step - loss: 1.9878 - accuracy: 0.5440 - val_loss: 1.6589 - val_accuracy: 0.5400\n",
      "Epoch 3/20\n",
      "10/10 [==============================] - 0s 44ms/step - loss: 1.3812 - accuracy: 0.5640 - val_loss: 1.6512 - val_accuracy: 0.5200\n",
      "Epoch 4/20\n",
      "10/10 [==============================] - 0s 40ms/step - loss: 1.0936 - accuracy: 0.6360 - val_loss: 1.4805 - val_accuracy: 0.5560\n",
      "Epoch 5/20\n",
      "10/10 [==============================] - 0s 36ms/step - loss: 0.9047 - accuracy: 0.6800 - val_loss: 1.5202 - val_accuracy: 0.5560\n",
      "Epoch 6/20\n",
      "10/10 [==============================] - 0s 41ms/step - loss: 0.8018 - accuracy: 0.7360 - val_loss: 1.6192 - val_accuracy: 0.5600\n",
      "Epoch 7/20\n",
      "10/10 [==============================] - 0s 41ms/step - loss: 0.7015 - accuracy: 0.7600 - val_loss: 1.6495 - val_accuracy: 0.5560\n",
      "Epoch 8/20\n",
      "10/10 [==============================] - 2s 230ms/step - loss: 0.6022 - accuracy: 0.8200 - val_loss: 1.6127 - val_accuracy: 0.5640\n",
      "Epoch 9/20\n",
      "10/10 [==============================] - 0s 43ms/step - loss: 0.4955 - accuracy: 0.8120 - val_loss: 1.5944 - val_accuracy: 0.5960\n",
      "Epoch 10/20\n",
      "10/10 [==============================] - 1s 62ms/step - loss: 0.4357 - accuracy: 0.8320 - val_loss: 1.6045 - val_accuracy: 0.5880\n",
      "Epoch 11/20\n",
      "10/10 [==============================] - 0s 35ms/step - loss: 0.4243 - accuracy: 0.8480 - val_loss: 1.6461 - val_accuracy: 0.5680\n",
      "Epoch 12/20\n",
      "10/10 [==============================] - 0s 44ms/step - loss: 0.3919 - accuracy: 0.8680 - val_loss: 1.6843 - val_accuracy: 0.5840\n",
      "Epoch 13/20\n",
      "10/10 [==============================] - 0s 41ms/step - loss: 0.3819 - accuracy: 0.8680 - val_loss: 1.7222 - val_accuracy: 0.5720\n",
      "Epoch 14/20\n",
      "10/10 [==============================] - 0s 41ms/step - loss: 0.3371 - accuracy: 0.8840 - val_loss: 1.8113 - val_accuracy: 0.5960\n",
      "Epoch 15/20\n",
      "10/10 [==============================] - 0s 38ms/step - loss: 0.3371 - accuracy: 0.8800 - val_loss: 1.8181 - val_accuracy: 0.6160\n",
      "Epoch 16/20\n",
      "10/10 [==============================] - 0s 38ms/step - loss: 0.2742 - accuracy: 0.8960 - val_loss: 1.9409 - val_accuracy: 0.6080\n",
      "Epoch 17/20\n",
      "10/10 [==============================] - 0s 39ms/step - loss: 0.2653 - accuracy: 0.9080 - val_loss: 1.9812 - val_accuracy: 0.5960\n",
      "Epoch 18/20\n",
      "10/10 [==============================] - 0s 38ms/step - loss: 0.2339 - accuracy: 0.9240 - val_loss: 2.0590 - val_accuracy: 0.6040\n",
      "Epoch 19/20\n",
      "10/10 [==============================] - 0s 48ms/step - loss: 0.2483 - accuracy: 0.9160 - val_loss: 1.9261 - val_accuracy: 0.6200\n",
      "Epoch 20/20\n",
      "10/10 [==============================] - 0s 39ms/step - loss: 0.1962 - accuracy: 0.9360 - val_loss: 2.0050 - val_accuracy: 0.5720\n"
     ]
    },
    {
     "data": {
      "image/png": "[encoded data removed]",
      "text/plain": [
       "<Figure size 432x288 with 1 Axes>"
      ]
     },
     "metadata": {
      "needs_background": "light"
     },
     "output_type": "display_data"
    }
   ],
   "source": [
    "epochs = 20\n",
    "batch_size = 25\n",
    "\n",
    "r_DP = safeModel.fit(Xt_member, \n",
    "              yt_member, \n",
    "              validation_data=(Xt_nonmember, yt_nonmember),\n",
    "              epochs=epochs, \n",
    "              batch_size=batch_size\n",
    ")  \n",
    "\n",
    "\n",
    "plt.plot(r_DP.history['accuracy'], label='accuracy')\n",
    "plt.plot(r_DP.history['val_accuracy'], label='validation accuracy')\n",
    "plt.legend()\n",
    "plt.show() \n"
   ]
  },
  {
   "cell_type": "code",
   "execution_count": 13,
   "metadata": {},
   "outputs": [
    {
     "name": "stdout",
     "output_type": "stream",
     "text": [
      "optimiser is type <class 'tensorflow_privacy.privacy.optimizers.dp_optimizer_keras.make_keras_optimizer_class.<locals>.DPOptimizerClass'>\n",
      " It is True that the model will be DP because  value of optimizer._was_dp_gradients_called is True so DP variant of optimizer has been run\n"
     ]
    }
   ],
   "source": [
    "theType= type(safeModel.optimizer)\n",
    "print(f'optimiser is type {theType}')\n",
    "\n",
    "dpused,reason = safeModel.check_DP_used(safeModel.optimizer)\n",
    "print(f' It is {dpused} that the model will be DP because {reason}')"
   ]
  },
  {
   "cell_type": "markdown",
   "metadata": {},
   "source": [
    "## compute privacy"
   ]
  },
  {
   "cell_type": "code",
   "execution_count": 14,
   "metadata": {},
   "outputs": [
    {
     "name": "stdout",
     "output_type": "stream",
     "text": [
      "dataset has 500 entries so batch size is 5.0%\n",
      "DP-SGD with sampling rate = 5% and noise_multiplier = 0.5 iterated over 500 steps satisfies differential privacy with eps = 43.9 and delta = 1e-05.\n",
      "The optimal RDP order is 1.5.\n",
      "with these settings privacy = (43.85228589564216, 1.5)\n"
     ]
    }
   ],
   "source": [
    "print(f'dataset has {Xt.shape[0]} entries so batch size is {100*safeModel.batch_size/Xt.shape[0]}%')\n",
    "privacy = compute_dp_sgd_privacy.compute_dp_sgd_privacy(n=Xt.shape[0],\n",
    "                                              batch_size=safeModel.batch_size,\n",
    "                                              noise_multiplier=safeModel.noise_multiplier,\n",
    "                                              epochs=25,#epochs,\n",
    "                                              delta=1e-5)\n",
    "print(f'with these settings privacy = {privacy}')"
   ]
  },
  {
   "cell_type": "code",
   "execution_count": 15,
   "metadata": {},
   "outputs": [
    {
     "name": "stderr",
     "output_type": "stream",
     "text": [
      "2022-05-23 05:31:07.908302: W tensorflow/python/util/util.cc:368] Sets are not currently considered sequences, but this may change in the future, so consider avoiding using them.\n"
     ]
    },
    {
     "name": "stdout",
     "output_type": "stream",
     "text": [
      "INFO:tensorflow:Assets written to: safekeras.sav/assets\n"
     ]
    }
   ],
   "source": [
    "safeModel.save('safekeras.sav')"
   ]
  },
  {
   "cell_type": "code",
   "execution_count": 16,
   "metadata": {},
   "outputs": [
    {
     "name": "stdout",
     "output_type": "stream",
     "text": [
      "Model parameters are within recommended ranges.\n",
      "\n"
     ]
    },
    {
     "data": {
      "text/plain": [
       "('Model parameters are within recommended ranges.\\n', False)"
      ]
     },
     "execution_count": 16,
     "metadata": {},
     "output_type": "execute_result"
    }
   ],
   "source": [
    "safeModel.preliminary_check()"
   ]
  },
  {
   "cell_type": "code",
   "execution_count": 17,
   "metadata": {},
   "outputs": [
    {
     "name": "stdout",
     "output_type": "stream",
     "text": [
      "thing associated with key _self_setattr_tracking has type <class 'bool'>\n",
      "thing associated with key _obj_reference_counts_dict has type <class 'keras.utils.object_identity.ObjectIdentityDictionary'>\n",
      "thing associated with key inputs has type <class 'list'>\n",
      "thing associated with key outputs has type <class 'list'>\n",
      "thing associated with key l2_norm_clip has type <class 'float'>\n",
      "thing associated with key noise_multiplier has type <class 'float'>\n",
      "thing associated with key min_epsilon has type <class 'int'>\n",
      "thing associated with key delta has type <class 'float'>\n",
      "thing associated with key batch_size has type <class 'int'>\n",
      "thing associated with key learning_rate has type <class 'float'>\n",
      "thing associated with key _is_model_for_instrumentation has type <class 'bool'>\n",
      "thing associated with key _instrumented_keras_api has type <class 'bool'>\n",
      "thing associated with key _instrumented_keras_layer_class has type <class 'bool'>\n",
      "thing associated with key _instrumented_keras_model_class has type <class 'bool'>\n",
      "thing associated with key _trainable has type <class 'bool'>\n",
      "thing associated with key _stateful has type <class 'bool'>\n",
      "thing associated with key built has type <class 'bool'>\n",
      "thing associated with key _input_spec has type <class 'NoneType'>\n",
      "thing associated with key _build_input_shape has type <class 'tensorflow.python.framework.tensor_shape.TensorShape'>\n",
      "thing associated with key _saved_model_inputs_spec has type <class 'tensorflow.python.framework.tensor_spec.TensorSpec'>\n",
      "thing associated with key _saved_model_arg_spec has type <class 'tuple'>\n",
      "thing associated with key _supports_masking has type <class 'bool'>\n",
      "thing associated with key _name has type <class 'str'>\n",
      "thing associated with key _activity_regularizer has type <class 'NoneType'>\n",
      "thing associated with key _trainable_weights has type <class 'list'>\n",
      "thing associated with key _non_trainable_weights has type <class 'list'>\n",
      "thing associated with key _updates has type <class 'list'>\n",
      "thing associated with key _thread_local has type <class '_thread._local'>\n",
      "thing associated with key _callable_losses has type <class 'list'>\n",
      "thing associated with key _losses has type <class 'list'>\n",
      "thing associated with key _metrics has type <class 'list'>\n",
      "thing associated with key _metrics_lock has type <class '_thread.lock'>\n",
      "thing associated with key _dtype_policy has type <class 'keras.mixed_precision.policy.Policy'>\n",
      "thing associated with key _compute_dtype_object has type <class 'tensorflow.python.framework.dtypes.DType'>\n",
      "thing associated with key _autocast has type <class 'bool'>\n",
      "thing associated with key _self_tracked_trackables has type <class 'list'>\n",
      "thing associated with key _inbound_nodes_value has type <class 'list'>\n",
      "thing associated with key _outbound_nodes_value has type <class 'list'>\n",
      "thing associated with key _expects_training_arg has type <class 'bool'>\n",
      "thing associated with key _default_training_arg has type <class 'NoneType'>\n",
      "thing associated with key _expects_mask_arg has type <class 'bool'>\n",
      "thing associated with key _dynamic has type <class 'bool'>\n",
      "thing associated with key _initial_weights has type <class 'NoneType'>\n",
      "thing associated with key _auto_track_sub_layers has type <class 'bool'>\n",
      "thing associated with key _preserve_input_structure_in_config has type <class 'bool'>\n",
      "thing associated with key _outer_name_scope has type <class 'str'>\n",
      "thing associated with key _is_graph_network has type <class 'bool'>\n",
      "thing associated with key input_names has type <class 'list'>\n",
      "thing associated with key output_names has type <class 'list'>\n",
      "thing associated with key _compute_output_and_mask_jointly has type <class 'bool'>\n",
      "thing associated with key _distribution_strategy has type <class 'NoneType'>\n",
      "thing associated with key _cluster_coordinator has type <class 'NoneType'>\n",
      "thing associated with key _compiled_trainable_state has type <class 'weakref.WeakKeyDictionary'>\n",
      "thing associated with key _training_state has type <class 'NoneType'>\n",
      "thing associated with key _trackable_saver has type <class 'tensorflow.python.training.tracking.util.TrackableSaver'>\n",
      "thing associated with key _steps_per_execution has type <class 'tensorflow.python.ops.resource_variable_ops.ResourceVariable'>\n",
      "thing associated with key _train_counter has type <class 'tensorflow.python.ops.resource_variable_ops.ResourceVariable'>\n",
      "thing associated with key _test_counter has type <class 'tensorflow.python.ops.resource_variable_ops.ResourceVariable'>\n",
      "thing associated with key _predict_counter has type <class 'tensorflow.python.ops.resource_variable_ops.ResourceVariable'>\n",
      "thing associated with key _base_model_initialized has type <class 'bool'>\n",
      "thing associated with key _nested_inputs has type <class 'keras.engine.keras_tensor.KerasTensor'>\n",
      "thing associated with key _nested_outputs has type <class 'keras.engine.keras_tensor.KerasTensor'>\n",
      "thing associated with key _enable_dict_to_input_mapping has type <class 'bool'>\n",
      "thing associated with key _input_layers has type <class 'list'>\n",
      "thing associated with key _output_layers has type <class 'list'>\n",
      "thing associated with key _input_coordinates has type <class 'list'>\n",
      "thing associated with key _output_coordinates has type <class 'list'>\n",
      "thing associated with key _output_mask_cache has type <class 'dict'>\n",
      "thing associated with key _output_tensor_cache has type <class 'dict'>\n",
      "thing associated with key _output_shape_cache has type <class 'dict'>\n",
      "thing associated with key _network_nodes has type <class 'set'>\n",
      "thing associated with key _nodes_by_depth has type <class 'collections.defaultdict'>\n",
      "thing associated with key _layer_call_argspecs has type <class 'dict'>\n",
      "thing associated with key _feed_input_names has type <class 'list'>\n",
      "thing associated with key _feed_inputs has type <class 'list'>\n",
      "thing associated with key _feed_input_shapes has type <class 'list'>\n",
      "thing associated with key _tensor_usage_count has type <class 'collections.Counter'>\n",
      "thing associated with key model has type <class 'NoneType'>\n",
      "thing associated with key saved_model has type <class 'NoneType'>\n",
      "thing associated with key model_save_file has type <class 'str'>\n",
      "thing associated with key _self_unconditional_checkpoint_dependencies has type <class 'list'>\n",
      "thing associated with key _self_unconditional_dependency_names has type <class 'dict'>\n",
      "thing associated with key _self_unconditional_deferred_dependencies has type <class 'dict'>\n",
      "thing associated with key _self_update_uid has type <class 'int'>\n",
      "thing associated with key _self_name_based_restores has type <class 'set'>\n",
      "thing associated with key _self_saveable_object_factories has type <class 'dict'>\n",
      "thing associated with key examine_seperately_items has type <class 'tensorflow.python.training.tracking.data_structures.ListWrapper'>\n",
      "thing associated with key filename has type <class 'str'>\n",
      "thing associated with key researcher has type <class 'str'>\n",
      "thing associated with key ignore_items has type <class 'tensorflow.python.training.tracking.data_structures.ListWrapper'>\n",
      "thing associated with key model_type has type <class 'str'>\n",
      "thing associated with key num_microbatches has type <class 'NoneType'>\n",
      "thing associated with key _run_eagerly has type <class 'NoneType'>\n",
      "thing associated with key optimizer has type <class 'tensorflow_privacy.privacy.optimizers.dp_optimizer_keras.make_keras_optimizer_class.<locals>.DPOptimizerClass'>\n",
      "thing associated with key compiled_loss has type <class 'keras.engine.compile_utils.LossesContainer'>\n",
      "thing associated with key compiled_metrics has type <class 'keras.engine.compile_utils.MetricsContainer'>\n",
      "thing associated with key _is_compiled has type <class 'bool'>\n",
      "thing associated with key loss has type <class 'keras.losses.CategoricalCrossentropy'>\n",
      "thing associated with key _jit_compile has type <class 'NoneType'>\n",
      "thing associated with key num_samples has type <class 'int'>\n",
      "thing associated with key stop_training has type <class 'bool'>\n",
      "thing associated with key history has type <class 'keras.callbacks.History'>\n",
      "thing associated with key train_function has type <class 'tensorflow.python.eager.def_function.Function'>\n",
      "thing associated with key test_function has type <class 'tensorflow.python.eager.def_function.Function'>\n",
      "thing associated with key predict_function has type <class 'NoneType'>\n",
      "thing associated with key train_tf_function has type <class 'tensorflow.python.eager.def_function.Function'>\n"
     ]
    }
   ],
   "source": [
    "for key,value in safeModel.__dict__.items():\n",
    "     print (f'thing associated with key {key} has type {type(value)}')"
   ]
  },
  {
   "cell_type": "code",
   "execution_count": 18,
   "metadata": {},
   "outputs": [
    {
     "name": "stdout",
     "output_type": "stream",
     "text": [
      "===============================================================================================\n",
      "Tuples\n",
      "===============================================================================================\n",
      "thing associated with key _saved_model_arg_spec has type <class 'tuple'>\n",
      "===============================================================================================\n",
      "Bools\n",
      "===============================================================================================\n",
      "thing associated with key _self_setattr_tracking has type <class 'bool'>\n",
      "thing associated with key _is_model_for_instrumentation has type <class 'bool'>\n",
      "thing associated with key _instrumented_keras_api has type <class 'bool'>\n",
      "thing associated with key _instrumented_keras_layer_class has type <class 'bool'>\n",
      "thing associated with key _instrumented_keras_model_class has type <class 'bool'>\n",
      "thing associated with key _trainable has type <class 'bool'>\n",
      "thing associated with key _stateful has type <class 'bool'>\n",
      "thing associated with key built has type <class 'bool'>\n",
      "thing associated with key _supports_masking has type <class 'bool'>\n",
      "thing associated with key _autocast has type <class 'bool'>\n",
      "thing associated with key _expects_training_arg has type <class 'bool'>\n",
      "thing associated with key _expects_mask_arg has type <class 'bool'>\n",
      "thing associated with key _dynamic has type <class 'bool'>\n",
      "thing associated with key _auto_track_sub_layers has type <class 'bool'>\n",
      "thing associated with key _preserve_input_structure_in_config has type <class 'bool'>\n",
      "thing associated with key _is_graph_network has type <class 'bool'>\n",
      "thing associated with key _compute_output_and_mask_jointly has type <class 'bool'>\n",
      "thing associated with key _base_model_initialized has type <class 'bool'>\n",
      "thing associated with key _enable_dict_to_input_mapping has type <class 'bool'>\n",
      "thing associated with key _is_compiled has type <class 'bool'>\n",
      "thing associated with key stop_training has type <class 'bool'>\n",
      "===============================================================================================\n",
      "Lists\n",
      "===============================================================================================\n",
      "thing associated with key inputs has type <class 'list'>\n",
      "thing associated with key outputs has type <class 'list'>\n",
      "thing associated with key _trainable_weights has type <class 'list'>\n",
      "thing associated with key _non_trainable_weights has type <class 'list'>\n",
      "thing associated with key _updates has type <class 'list'>\n",
      "thing associated with key _callable_losses has type <class 'list'>\n",
      "thing associated with key _losses has type <class 'list'>\n",
      "thing associated with key _metrics has type <class 'list'>\n",
      "thing associated with key _self_tracked_trackables has type <class 'list'>\n",
      "thing associated with key _inbound_nodes_value has type <class 'list'>\n",
      "thing associated with key _outbound_nodes_value has type <class 'list'>\n",
      "thing associated with key input_names has type <class 'list'>\n",
      "thing associated with key output_names has type <class 'list'>\n",
      "thing associated with key _input_layers has type <class 'list'>\n",
      "thing associated with key _output_layers has type <class 'list'>\n",
      "thing associated with key _input_coordinates has type <class 'list'>\n",
      "thing associated with key _output_coordinates has type <class 'list'>\n",
      "thing associated with key _feed_input_names has type <class 'list'>\n",
      "thing associated with key _feed_inputs has type <class 'list'>\n",
      "thing associated with key _feed_input_shapes has type <class 'list'>\n",
      "thing associated with key _self_unconditional_checkpoint_dependencies has type <class 'list'>\n",
      "===============================================================================================\n",
      "Strings\n",
      "===============================================================================================\n",
      "thing associated with key _name has type <class 'str'>\n",
      "thing associated with key _outer_name_scope has type <class 'str'>\n",
      "thing associated with key model_save_file has type <class 'str'>\n",
      "thing associated with key filename has type <class 'str'>\n",
      "thing associated with key researcher has type <class 'str'>\n",
      "thing associated with key model_type has type <class 'str'>\n",
      "===============================================================================================\n",
      "Ints\n",
      "===============================================================================================\n",
      "thing associated with key min_epsilon has type <class 'int'>\n",
      "thing associated with key batch_size has type <class 'int'>\n",
      "thing associated with key _self_update_uid has type <class 'int'>\n",
      "thing associated with key num_samples has type <class 'int'>\n",
      "===============================================================================================\n",
      "Floats\n",
      "===============================================================================================\n",
      "thing associated with key l2_norm_clip has type <class 'float'>\n",
      "thing associated with key noise_multiplier has type <class 'float'>\n",
      "thing associated with key delta has type <class 'float'>\n",
      "thing associated with key learning_rate has type <class 'float'>\n",
      "===============================================================================================\n",
      "Dicts\n",
      "===============================================================================================\n",
      "thing associated with key _output_mask_cache has type <class 'dict'>\n",
      "thing associated with key _output_tensor_cache has type <class 'dict'>\n",
      "thing associated with key _output_shape_cache has type <class 'dict'>\n",
      "thing associated with key _layer_call_argspecs has type <class 'dict'>\n",
      "thing associated with key _self_unconditional_dependency_names has type <class 'dict'>\n",
      "thing associated with key _self_unconditional_deferred_dependencies has type <class 'dict'>\n",
      "thing associated with key _self_saveable_object_factories has type <class 'dict'>\n",
      "===============================================================================================\n",
      "Sets\n",
      "===============================================================================================\n",
      "thing associated with key _network_nodes has type <class 'set'>\n",
      "thing associated with key _self_name_based_restores has type <class 'set'>\n",
      "===============================================================================================\n",
      "Unusual Ones\n",
      "===============================================================================================\n",
      "thing associated with key _obj_reference_counts_dict has type <class 'keras.utils.object_identity.ObjectIdentityDictionary'>\n",
      "thing associated with key _input_spec has type <class 'NoneType'>\n",
      "thing associated with key _build_input_shape has type <class 'tensorflow.python.framework.tensor_shape.TensorShape'>\n",
      "thing associated with key _saved_model_inputs_spec has type <class 'tensorflow.python.framework.tensor_spec.TensorSpec'>\n",
      "thing associated with key _activity_regularizer has type <class 'NoneType'>\n",
      "thing associated with key _thread_local has type <class '_thread._local'>\n",
      "thing associated with key _metrics_lock has type <class '_thread.lock'>\n",
      "thing associated with key _dtype_policy has type <class 'keras.mixed_precision.policy.Policy'>\n",
      "thing associated with key _compute_dtype_object has type <class 'tensorflow.python.framework.dtypes.DType'>\n",
      "thing associated with key _default_training_arg has type <class 'NoneType'>\n",
      "thing associated with key _initial_weights has type <class 'NoneType'>\n",
      "thing associated with key _distribution_strategy has type <class 'NoneType'>\n",
      "thing associated with key _cluster_coordinator has type <class 'NoneType'>\n",
      "thing associated with key _compiled_trainable_state has type <class 'weakref.WeakKeyDictionary'>\n",
      "thing associated with key _training_state has type <class 'NoneType'>\n",
      "thing associated with key _trackable_saver has type <class 'tensorflow.python.training.tracking.util.TrackableSaver'>\n",
      "thing associated with key _steps_per_execution has type <class 'tensorflow.python.ops.resource_variable_ops.ResourceVariable'>\n",
      "thing associated with key _train_counter has type <class 'tensorflow.python.ops.resource_variable_ops.ResourceVariable'>\n",
      "thing associated with key _test_counter has type <class 'tensorflow.python.ops.resource_variable_ops.ResourceVariable'>\n",
      "thing associated with key _predict_counter has type <class 'tensorflow.python.ops.resource_variable_ops.ResourceVariable'>\n",
      "thing associated with key _nested_inputs has type <class 'keras.engine.keras_tensor.KerasTensor'>\n",
      "thing associated with key _nested_outputs has type <class 'keras.engine.keras_tensor.KerasTensor'>\n",
      "thing associated with key _nodes_by_depth has type <class 'collections.defaultdict'>\n",
      "thing associated with key _tensor_usage_count has type <class 'collections.Counter'>\n",
      "thing associated with key model has type <class 'NoneType'>\n",
      "thing associated with key saved_model has type <class 'NoneType'>\n",
      "thing associated with key examine_seperately_items has type <class 'tensorflow.python.training.tracking.data_structures.ListWrapper'>\n",
      "thing associated with key ignore_items has type <class 'tensorflow.python.training.tracking.data_structures.ListWrapper'>\n",
      "thing associated with key num_microbatches has type <class 'NoneType'>\n",
      "thing associated with key _run_eagerly has type <class 'NoneType'>\n",
      "thing associated with key optimizer has type <class 'tensorflow_privacy.privacy.optimizers.dp_optimizer_keras.make_keras_optimizer_class.<locals>.DPOptimizerClass'>\n",
      "thing associated with key compiled_loss has type <class 'keras.engine.compile_utils.LossesContainer'>\n",
      "thing associated with key compiled_metrics has type <class 'keras.engine.compile_utils.MetricsContainer'>\n",
      "thing associated with key loss has type <class 'keras.losses.CategoricalCrossentropy'>\n",
      "thing associated with key _jit_compile has type <class 'NoneType'>\n",
      "thing associated with key history has type <class 'keras.callbacks.History'>\n",
      "thing associated with key train_function has type <class 'tensorflow.python.eager.def_function.Function'>\n",
      "thing associated with key test_function has type <class 'tensorflow.python.eager.def_function.Function'>\n",
      "thing associated with key predict_function has type <class 'NoneType'>\n",
      "thing associated with key train_tf_function has type <class 'tensorflow.python.eager.def_function.Function'>\n"
     ]
    }
   ],
   "source": [
    "all_keys = []\n",
    "unusuals =[]\n",
    "tuples =[]\n",
    "deleted_keys = []\n",
    "\n",
    "print(\"===============================================================================================\")\n",
    "print(\"Tuples\")\n",
    "print(\"===============================================================================================\")\n",
    "for key,value in safeModel.__dict__.items():\n",
    "    if(type(value) == tuple):\n",
    "        print (f'thing associated with key {key} has type {type(value)}')\n",
    "        tuples.append(key)\n",
    "\n",
    "print(\"===============================================================================================\")\n",
    "print(\"Bools\")\n",
    "print(\"===============================================================================================\")\n",
    "for key,value in safeModel.__dict__.items():\n",
    "    if(type(value) == bool):\n",
    "        print (f'thing associated with key {key} has type {type(value)}')\n",
    "\n",
    "print(\"===============================================================================================\")\n",
    "print(\"Lists\")\n",
    "print(\"===============================================================================================\")        \n",
    "for key,value in safeModel.__dict__.items():\n",
    "    if(type(value) == list):\n",
    "        print (f'thing associated with key {key} has type {type(value)}')\n",
    "\n",
    "print(\"===============================================================================================\")\n",
    "print(\"Strings\")\n",
    "print(\"===============================================================================================\")\n",
    "for key,value in safeModel.__dict__.items():\n",
    "    if(type(value) == str):\n",
    "        print (f'thing associated with key {key} has type {type(value)}')\n",
    "\n",
    "        \n",
    "print(\"===============================================================================================\")\n",
    "print(\"Ints\")\n",
    "print(\"===============================================================================================\")\n",
    "for key,value in safeModel.__dict__.items():\n",
    "    if(type(value) == int):\n",
    "        print (f'thing associated with key {key} has type {type(value)}')\n",
    "\n",
    "print(\"===============================================================================================\")\n",
    "print(\"Floats\")\n",
    "print(\"===============================================================================================\")\n",
    "for key,value in safeModel.__dict__.items():\n",
    "    if(type(value) == float):\n",
    "        print (f'thing associated with key {key} has type {type(value)}')\n",
    "        \n",
    "print(\"===============================================================================================\")\n",
    "print(\"Dicts\")\n",
    "print(\"===============================================================================================\")\n",
    "for key,value in safeModel.__dict__.items():\n",
    "    if(type(value) == dict):\n",
    "        print (f'thing associated with key {key} has type {type(value)}')\n",
    "\n",
    "        \n",
    "print(\"===============================================================================================\")\n",
    "print(\"Sets\")\n",
    "print(\"===============================================================================================\")\n",
    "for key,value in safeModel.__dict__.items():\n",
    "    if(type(value) == set):\n",
    "        print (f'thing associated with key {key} has type {type(value)}')\n",
    "\n",
    "print(\"===============================================================================================\")\n",
    "print(\"Unusual Ones\")\n",
    "print(\"===============================================================================================\")\n",
    "\n",
    "        \n",
    "for key,value in safeModel.__dict__.items():\n",
    "    if((type(value) != int) and (type(value) != str) and \n",
    "       (type(value) != list) and (type(value) != bool) and \n",
    "       (type(value) != tuple) and (type(value) != float) and\n",
    "       (type(value) != dict) and (type(value) != set)):\n",
    "        print (f'thing associated with key {key} has type {type(value)}')\n",
    "        unusuals.append(key)"
   ]
  },
  {
   "cell_type": "code",
   "execution_count": 19,
   "metadata": {},
   "outputs": [
    {
     "name": "stdout",
     "output_type": "stream",
     "text": [
      "INFO:tensorflow:Assets written to: my_model/assets\n",
      "INFO:tensorflow:Assets written to: safe.sav/assets\n"
     ]
    },
    {
     "name": "stderr",
     "output_type": "stream",
     "text": [
      "_obj_reference_counts_dict cannot be copied\n",
      "...<class 'TypeError'> error; cannot pickle '_thread.RLock' object\n",
      "_thread_local cannot be copied\n",
      "...<class 'TypeError'> error; cannot pickle '_thread._local' object\n",
      "_metrics_lock cannot be copied\n",
      "...<class 'TypeError'> error; cannot pickle '_thread.lock' object\n"
     ]
    },
    {
     "name": "stdout",
     "output_type": "stream",
     "text": [
      "INFO:tensorflow:Assets written to: ram://fe00b263-c0df-4c67-9250-c859e3fe4dfb/assets\n"
     ]
    },
    {
     "name": "stderr",
     "output_type": "stream",
     "text": [
      "_trackable_saver cannot be copied\n",
      "...<class 'ValueError'> error; Unknown optimizer: DPOptimizerClass. Please ensure this object is passed to the `custom_objects` argument. See https://www.tensorflow.org/guide/keras/save_and_serialize#registering_the_custom_object for details.\n",
      "_self_unconditional_checkpoint_dependencies cannot be copied\n",
      "...<class 'TypeError'> error; cannot pickle '_thread.RLock' object\n",
      "_self_unconditional_dependency_names cannot be copied\n",
      "...<class 'TypeError'> error; cannot pickle '_thread.RLock' object\n",
      "compiled_loss cannot be copied\n",
      "...<class 'TypeError'> error; cannot pickle '_thread.RLock' object\n",
      "compiled_metrics cannot be copied\n",
      "...<class 'TypeError'> error; cannot pickle '_thread.RLock' object\n"
     ]
    },
    {
     "name": "stdout",
     "output_type": "stream",
     "text": [
      "INFO:tensorflow:Assets written to: ram://93a78faa-017e-4645-8ef6-3681e0a179cb/assets\n"
     ]
    },
    {
     "name": "stderr",
     "output_type": "stream",
     "text": [
      "history cannot be copied\n",
      "...<class 'ValueError'> error; Unknown optimizer: DPOptimizerClass. Please ensure this object is passed to the `custom_objects` argument. See https://www.tensorflow.org/guide/keras/save_and_serialize#registering_the_custom_object for details.\n",
      "train_function cannot be copied\n",
      "...<class 'TypeError'> error; cannot pickle '_thread.RLock' object\n",
      "test_function cannot be copied\n",
      "...<class 'TypeError'> error; cannot pickle '_thread.RLock' object\n",
      "train_tf_function cannot be copied\n",
      "...<class 'TypeError'> error; cannot pickle '_thread.RLock' object\n"
     ]
    },
    {
     "name": "stdout",
     "output_type": "stream",
     "text": [
      "<tensorflow_privacy.privacy.optimizers.dp_optimizer_keras.make_keras_optimizer_class.<locals>.DPOptimizerClass object at 0x7f74e26465e0>\n",
      "<tensorflow_privacy.privacy.optimizers.dp_optimizer_keras.make_keras_optimizer_class.<locals>.DPOptimizerClass object at 0x7f74e26465e0>\n",
      "DP-SGD with sampling rate = 10% and noise_multiplier = 0.5 iterated over 200 steps satisfies differential privacy with eps = 50.3 and delta = 1e-05.\n",
      "The optimal RDP order is 1.5.\n",
      "optimiser is type <class 'tensorflow_privacy.privacy.optimizers.dp_optimizer_keras.make_keras_optimizer_class.<locals>.DPOptimizerClass'>\n",
      "Error: user has not called fit() method or has deleted saved values.Recommendation: Do not release. It is True that the model will be DP because  value of optimizer._was_dp_gradients_called is True so DP variant of optimizer has been runepsilon is not sufficient for Differential privacy: 50.301726361197794. You must modify one or more of batch_size, epochs, number of samples.\n",
      " value of optimizer._was_dp_gradients_called is True so DP variant of optimizer has been run\n"
     ]
    }
   ],
   "source": [
    "#safeModel.request_release('safekeras.pkl') # TypeError: cannot pickle '_thread.RLock' object\n",
    "\n",
    "#safeModel.request_release('safekeras.sav') # TypeError: cannot pickle '_thread.RLock' object\n",
    "\n",
    "#safeModel.request_release('safekeras.tf')\n",
    "\n",
    "\n",
    "\n",
    "\n",
    "safeModel.save('my_model')\n",
    "safeModel.save_weights('weights.h5')\n",
    "\n",
    "safeModel.request_release('safe.sav')"
   ]
  },
  {
   "cell_type": "code",
   "execution_count": 20,
   "metadata": {},
   "outputs": [
    {
     "name": "stderr",
     "output_type": "stream",
     "text": [
      "_obj_reference_counts_dict cannot be copied\n",
      "...<class 'TypeError'> error; cannot pickle '_thread.RLock' object\n",
      "_thread_local cannot be copied\n",
      "...<class 'TypeError'> error; cannot pickle '_thread._local' object\n",
      "_metrics_lock cannot be copied\n",
      "...<class 'TypeError'> error; cannot pickle '_thread.lock' object\n"
     ]
    },
    {
     "name": "stdout",
     "output_type": "stream",
     "text": [
      "INFO:tensorflow:Assets written to: ram://21e3b920-569c-40c0-add3-c7f46f62a6c3/assets\n"
     ]
    },
    {
     "name": "stderr",
     "output_type": "stream",
     "text": [
      "_trackable_saver cannot be copied\n",
      "...<class 'ValueError'> error; Unknown optimizer: DPOptimizerClass. Please ensure this object is passed to the `custom_objects` argument. See https://www.tensorflow.org/guide/keras/save_and_serialize#registering_the_custom_object for details.\n",
      "_self_unconditional_checkpoint_dependencies cannot be copied\n",
      "...<class 'TypeError'> error; cannot pickle '_thread.RLock' object\n",
      "_self_unconditional_dependency_names cannot be copied\n",
      "...<class 'TypeError'> error; cannot pickle '_thread.RLock' object\n",
      "compiled_loss cannot be copied\n",
      "...<class 'TypeError'> error; cannot pickle '_thread.RLock' object\n",
      "compiled_metrics cannot be copied\n",
      "...<class 'TypeError'> error; cannot pickle '_thread.RLock' object\n"
     ]
    },
    {
     "name": "stdout",
     "output_type": "stream",
     "text": [
      "INFO:tensorflow:Assets written to: ram://a70d6ea6-87e2-4f76-97ba-2b5a7e95b776/assets\n"
     ]
    },
    {
     "name": "stderr",
     "output_type": "stream",
     "text": [
      "history cannot be copied\n",
      "...<class 'ValueError'> error; Unknown optimizer: DPOptimizerClass. Please ensure this object is passed to the `custom_objects` argument. See https://www.tensorflow.org/guide/keras/save_and_serialize#registering_the_custom_object for details.\n",
      "train_function cannot be copied\n",
      "...<class 'TypeError'> error; cannot pickle '_thread.RLock' object\n",
      "test_function cannot be copied\n",
      "...<class 'TypeError'> error; cannot pickle '_thread.RLock' object\n",
      "train_tf_function cannot be copied\n",
      "...<class 'TypeError'> error; cannot pickle '_thread.RLock' object\n"
     ]
    },
    {
     "name": "stdout",
     "output_type": "stream",
     "text": [
      "<tensorflow_privacy.privacy.optimizers.dp_optimizer_keras.make_keras_optimizer_class.<locals>.DPOptimizerClass object at 0x7f74e26465e0>\n",
      "<tensorflow_privacy.privacy.optimizers.dp_optimizer_keras.make_keras_optimizer_class.<locals>.DPOptimizerClass object at 0x7f74e26465e0>\n",
      "DP-SGD with sampling rate = 10% and noise_multiplier = 0.5 iterated over 200 steps satisfies differential privacy with eps = 50.3 and delta = 1e-05.\n",
      "The optimal RDP order is 1.5.\n",
      "optimiser is type <class 'tensorflow_privacy.privacy.optimizers.dp_optimizer_keras.make_keras_optimizer_class.<locals>.DPOptimizerClass'>\n",
      "Error: user has not called fit() method or has deleted saved values.Recommendation: Do not release. It is True that the model will be DP because  value of optimizer._was_dp_gradients_called is True so DP variant of optimizer has been runepsilon is not sufficient for Differential privacy: 50.301726361197794. You must modify one or more of batch_size, epochs, number of samples.\n",
      " value of optimizer._was_dp_gradients_called is True so DP variant of optimizer has been run\n"
     ]
    }
   ],
   "source": [
    "\n",
    "\n",
    "safeModel.request_release('safekeras.h5')"
   ]
  },
  {
   "cell_type": "code",
   "execution_count": 21,
   "metadata": {},
   "outputs": [
    {
     "name": "stdout",
     "output_type": "stream",
     "text": [
      "args is a <class 'tuple'> = ()  kwargs is a <class 'dict'>= {'inputs': <KerasTensor: shape=(None, 300) dtype=float32 (created by layer 'input_1')>, 'outputs': <KerasTensor: shape=(None, 2) dtype=float32 (created by layer 'dense_3')>, 'name': 'safekeras-test'}\n",
      "inputs is in kwargs.keys\n",
      "KerasTensor(type_spec=TensorSpec(shape=(None, 300), dtype=tf.float32, name='input_1'), name='input_1', description=\"created by layer 'input_1'\")\n",
      "Model parameters are within recommended ranges.\n",
      "\n",
      "Changed parameter optimizer = 'DPKerasSGDOptimizer'\n",
      "WARNING: model parameters may present a disclosure risk\n",
      "Unknown optimizer <class 'tensorflow_privacy.privacy.optimizers.dp_optimizer_keras.make_keras_optimizer_class.<locals>.DPOptimizerClass'> - Changed parameter optimizer = 'DPKerasSGDOptimizer'\n",
      "DP optimizer used = False\n",
      "optimizer has been changed but fit() has not been rerun.\n",
      "(250, 300)\n",
      "DP-SGD with sampling rate = 10% and noise_multiplier = 0.5 iterated over 200 steps satisfies differential privacy with eps = 50.3 and delta = 1e-05.\n",
      "The optimal RDP order is 1.5.\n",
      "Current epsilon is 50.301726361197794\n",
      "The requirements for DP are not met, current epsilon is: 50.301726361197794. To attain true DP the following parameters can be changed:  Num Samples = 250, batch_size = 25, epochs = 20\n",
      "This will not result in a Differentially Private model do you want to continue [Y/N]y\n",
      "Continuing\n",
      "Epoch 1/20\n",
      "10/10 [==============================] - 3s 81ms/step - loss: 0.1882 - accuracy: 0.9280 - val_loss: 2.1626 - val_accuracy: 0.6200\n",
      "Epoch 2/20\n",
      "10/10 [==============================] - 1s 64ms/step - loss: 0.1813 - accuracy: 0.9400 - val_loss: 2.1379 - val_accuracy: 0.6120\n",
      "Epoch 3/20\n",
      "10/10 [==============================] - 0s 43ms/step - loss: 0.1749 - accuracy: 0.9480 - val_loss: 2.1970 - val_accuracy: 0.6200\n",
      "Epoch 4/20\n",
      "10/10 [==============================] - 0s 38ms/step - loss: 0.1536 - accuracy: 0.9560 - val_loss: 2.1499 - val_accuracy: 0.6200\n",
      "Epoch 5/20\n",
      "10/10 [==============================] - 0s 49ms/step - loss: 0.1503 - accuracy: 0.9640 - val_loss: 2.1399 - val_accuracy: 0.6320\n",
      "Epoch 6/20\n",
      "10/10 [==============================] - 0s 38ms/step - loss: 0.1263 - accuracy: 0.9600 - val_loss: 2.2668 - val_accuracy: 0.6000\n",
      "Epoch 7/20\n",
      "10/10 [==============================] - 1s 65ms/step - loss: 0.1100 - accuracy: 0.9600 - val_loss: 2.3040 - val_accuracy: 0.6080\n",
      "Epoch 8/20\n",
      "10/10 [==============================] - 1s 104ms/step - loss: 0.1275 - accuracy: 0.9640 - val_loss: 2.3993 - val_accuracy: 0.5960\n",
      "Epoch 9/20\n",
      "10/10 [==============================] - 1s 49ms/step - loss: 0.0889 - accuracy: 0.9760 - val_loss: 2.5145 - val_accuracy: 0.5960\n",
      "Epoch 10/20\n",
      "10/10 [==============================] - 0s 41ms/step - loss: 0.0945 - accuracy: 0.9760 - val_loss: 2.4858 - val_accuracy: 0.5760\n",
      "Epoch 11/20\n",
      "10/10 [==============================] - 0s 50ms/step - loss: 0.0831 - accuracy: 0.9720 - val_loss: 2.4718 - val_accuracy: 0.5840\n",
      "Epoch 12/20\n",
      "10/10 [==============================] - 1s 52ms/step - loss: 0.0938 - accuracy: 0.9720 - val_loss: 2.5339 - val_accuracy: 0.5800\n",
      "Epoch 13/20\n",
      "10/10 [==============================] - 0s 48ms/step - loss: 0.0663 - accuracy: 0.9840 - val_loss: 2.7303 - val_accuracy: 0.5720\n",
      "Epoch 14/20\n",
      "10/10 [==============================] - 1s 57ms/step - loss: 0.0813 - accuracy: 0.9720 - val_loss: 2.8539 - val_accuracy: 0.5880\n",
      "Epoch 15/20\n",
      "10/10 [==============================] - 0s 43ms/step - loss: 0.0854 - accuracy: 0.9760 - val_loss: 2.9212 - val_accuracy: 0.5760\n",
      "Epoch 16/20\n",
      "10/10 [==============================] - 0s 40ms/step - loss: 0.0736 - accuracy: 0.9800 - val_loss: 2.8892 - val_accuracy: 0.5720\n",
      "Epoch 17/20\n",
      "10/10 [==============================] - 0s 43ms/step - loss: 0.0688 - accuracy: 0.9880 - val_loss: 2.8736 - val_accuracy: 0.5720\n",
      "Epoch 18/20\n",
      "10/10 [==============================] - 0s 38ms/step - loss: 0.0573 - accuracy: 0.9880 - val_loss: 2.8313 - val_accuracy: 0.5880\n",
      "Epoch 19/20\n",
      "10/10 [==============================] - 0s 36ms/step - loss: 0.0472 - accuracy: 0.9840 - val_loss: 2.8442 - val_accuracy: 0.6000\n",
      "Epoch 20/20\n",
      "10/10 [==============================] - 1s 54ms/step - loss: 0.0474 - accuracy: 0.9800 - val_loss: 2.8744 - val_accuracy: 0.6040\n"
     ]
    }
   ],
   "source": [
    "importlib.reload(safemodel.safemodel)\n",
    "importlib.reload(safemodel.classifiers.safekeras)\n",
    "from safemodel.classifiers.safekeras import Safe_KerasModel\n",
    "\n",
    "optimizer=None\n",
    "safeModel = Safe_KerasModel(inputs= input_data, outputs=output,name=\"safekeras-test\")\n",
    "\n",
    "loss = tf.keras.losses.CategoricalCrossentropy(\n",
    "    from_logits=False, reduction=tf.losses.Reduction.NONE)\n",
    "\n",
    "\n",
    "safeModel.compile(loss=loss)#optimizer='adam', loss='categorical_crossentropy', metrics=['accuracy'])\n",
    "\n",
    "epochs = 20\n",
    "batch_size = 25\n",
    "\n",
    "r_DP = safeModel.fit(Xt_member, \n",
    "              yt_member, \n",
    "              validation_data=(Xt_nonmember, yt_nonmember),\n",
    "              epochs=epochs, \n",
    "              batch_size=batch_size\n",
    ")  \n"
   ]
  },
  {
   "cell_type": "code",
   "execution_count": 22,
   "metadata": {},
   "outputs": [
    {
     "name": "stdout",
     "output_type": "stream",
     "text": [
      "***Test 1: researcher doesn't change recommended params\n",
      "args is a <class 'tuple'> = ()  kwargs is a <class 'dict'>= {'inputs': <KerasTensor: shape=(None, 300) dtype=float32 (created by layer 'input_1')>, 'outputs': <KerasTensor: shape=(None, 2) dtype=float32 (created by layer 'dense_3')>, 'name': 'safekerasmodel1-test'}\n",
      "inputs is in kwargs.keys\n",
      "KerasTensor(type_spec=TensorSpec(shape=(None, 300), dtype=tf.float32, name='input_1'), name='input_1', description=\"created by layer 'input_1'\")\n",
      "Model parameters are within recommended ranges.\n",
      "\n",
      "Changed parameter optimizer = 'DPKerasSGDOptimizer'\n",
      "WARNING: model parameters may present a disclosure risk\n",
      "Unknown optimizer <class 'tensorflow_privacy.privacy.optimizers.dp_optimizer_keras.make_keras_optimizer_class.<locals>.DPOptimizerClass'> - Changed parameter optimizer = 'DPKerasSGDOptimizer'\n",
      "DP optimizer used = False\n",
      "optimizer has been changed but fit() has not been rerun.\n",
      "(250, 300)\n",
      "DP-SGD with sampling rate = 10% and noise_multiplier = 0.5 iterated over 200 steps satisfies differential privacy with eps = 50.3 and delta = 1e-05.\n",
      "The optimal RDP order is 1.5.\n",
      "Current epsilon is 50.301726361197794\n",
      "The requirements for DP are not met, current epsilon is: 50.301726361197794. To attain true DP the following parameters can be changed:  Num Samples = 250, batch_size = 25, epochs = 20\n",
      "This will not result in a Differentially Private model do you want to continue [Y/N]y\n",
      "Continuing\n",
      "Epoch 1/20\n",
      "10/10 [==============================] - 3s 49ms/step - loss: 0.0676 - accuracy: 0.9880 - val_loss: 2.8832 - val_accuracy: 0.6000\n",
      "Epoch 2/20\n",
      "10/10 [==============================] - 0s 38ms/step - loss: 0.0532 - accuracy: 0.9920 - val_loss: 3.0418 - val_accuracy: 0.5880\n",
      "Epoch 3/20\n",
      "10/10 [==============================] - 0s 33ms/step - loss: 0.0571 - accuracy: 0.9880 - val_loss: 3.0766 - val_accuracy: 0.5680\n",
      "Epoch 4/20\n",
      "10/10 [==============================] - 0s 39ms/step - loss: 0.0689 - accuracy: 0.9840 - val_loss: 3.1662 - val_accuracy: 0.5520\n",
      "Epoch 5/20\n",
      "10/10 [==============================] - 0s 41ms/step - loss: 0.0484 - accuracy: 0.9880 - val_loss: 3.2734 - val_accuracy: 0.5760\n",
      "Epoch 6/20\n",
      "10/10 [==============================] - 0s 45ms/step - loss: 0.0344 - accuracy: 0.9920 - val_loss: 3.2195 - val_accuracy: 0.5640\n",
      "Epoch 7/20\n",
      "10/10 [==============================] - 1s 109ms/step - loss: 0.0278 - accuracy: 0.9920 - val_loss: 3.2220 - val_accuracy: 0.5720\n",
      "Epoch 8/20\n",
      "10/10 [==============================] - 1s 67ms/step - loss: 0.0240 - accuracy: 0.9960 - val_loss: 3.2691 - val_accuracy: 0.5960\n",
      "Epoch 9/20\n",
      "10/10 [==============================] - 1s 61ms/step - loss: 0.0195 - accuracy: 0.9920 - val_loss: 3.2043 - val_accuracy: 0.6080\n",
      "Epoch 10/20\n",
      "10/10 [==============================] - 0s 39ms/step - loss: 0.0067 - accuracy: 1.0000 - val_loss: 3.2230 - val_accuracy: 0.6080\n",
      "Epoch 11/20\n",
      "10/10 [==============================] - 0s 43ms/step - loss: 0.0091 - accuracy: 0.9960 - val_loss: 3.2228 - val_accuracy: 0.5920\n",
      "Epoch 12/20\n",
      "10/10 [==============================] - 1s 63ms/step - loss: 0.0139 - accuracy: 0.9960 - val_loss: 3.2561 - val_accuracy: 0.5920\n",
      "Epoch 13/20\n",
      "10/10 [==============================] - 0s 36ms/step - loss: 0.0082 - accuracy: 0.9960 - val_loss: 3.1896 - val_accuracy: 0.6200\n",
      "Epoch 14/20\n",
      "10/10 [==============================] - 0s 38ms/step - loss: 0.0198 - accuracy: 0.9920 - val_loss: 3.2463 - val_accuracy: 0.6240\n",
      "Epoch 15/20\n",
      "10/10 [==============================] - 0s 42ms/step - loss: 0.0037 - accuracy: 1.0000 - val_loss: 3.3519 - val_accuracy: 0.6240\n",
      "Epoch 16/20\n",
      "10/10 [==============================] - 0s 44ms/step - loss: 0.0108 - accuracy: 0.9920 - val_loss: 3.5834 - val_accuracy: 0.6280\n",
      "Epoch 17/20\n",
      "10/10 [==============================] - 0s 40ms/step - loss: 0.0071 - accuracy: 1.0000 - val_loss: 3.5730 - val_accuracy: 0.6200\n",
      "Epoch 18/20\n",
      "10/10 [==============================] - 0s 41ms/step - loss: 0.0044 - accuracy: 1.0000 - val_loss: 3.7434 - val_accuracy: 0.6360\n",
      "Epoch 19/20\n",
      "10/10 [==============================] - 0s 40ms/step - loss: 0.0044 - accuracy: 1.0000 - val_loss: 3.7137 - val_accuracy: 0.6200\n",
      "Epoch 20/20\n",
      "10/10 [==============================] - 0s 51ms/step - loss: 0.0035 - accuracy: 1.0000 - val_loss: 3.7597 - val_accuracy: 0.6320\n",
      "INFO:tensorflow:Assets written to: safe1.pkl/assets\n",
      "Model parameters are within recommended ranges.\n",
      "\n",
      "INFO:tensorflow:Assets written to: safe1.pkl/assets\n"
     ]
    },
    {
     "name": "stderr",
     "output_type": "stream",
     "text": [
      "_obj_reference_counts_dict cannot be copied\n",
      "...<class 'TypeError'> error; cannot pickle '_thread.RLock' object\n",
      "_thread_local cannot be copied\n",
      "...<class 'TypeError'> error; cannot pickle '_thread._local' object\n",
      "_metrics_lock cannot be copied\n",
      "...<class 'TypeError'> error; cannot pickle '_thread.lock' object\n"
     ]
    },
    {
     "name": "stdout",
     "output_type": "stream",
     "text": [
      "INFO:tensorflow:Assets written to: ram://93b0cd19-eeb9-4307-8896-f742d7846b91/assets\n"
     ]
    },
    {
     "name": "stderr",
     "output_type": "stream",
     "text": [
      "_trackable_saver cannot be copied\n",
      "...<class 'ValueError'> error; Unknown optimizer: DPOptimizerClass. Please ensure this object is passed to the `custom_objects` argument. See https://www.tensorflow.org/guide/keras/save_and_serialize#registering_the_custom_object for details.\n",
      "_self_unconditional_checkpoint_dependencies cannot be copied\n",
      "...<class 'TypeError'> error; cannot pickle '_thread.RLock' object\n",
      "_self_unconditional_dependency_names cannot be copied\n",
      "...<class 'TypeError'> error; cannot pickle '_thread.RLock' object\n",
      "compiled_loss cannot be copied\n",
      "...<class 'TypeError'> error; cannot pickle '_thread.RLock' object\n",
      "compiled_metrics cannot be copied\n",
      "...<class 'TypeError'> error; cannot pickle '_thread.RLock' object\n"
     ]
    },
    {
     "name": "stdout",
     "output_type": "stream",
     "text": [
      "INFO:tensorflow:Assets written to: ram://8898f2c8-affe-456c-aab3-6c009bcd4e1d/assets\n"
     ]
    },
    {
     "name": "stderr",
     "output_type": "stream",
     "text": [
      "history cannot be copied\n",
      "...<class 'ValueError'> error; Unknown optimizer: DPOptimizerClass. Please ensure this object is passed to the `custom_objects` argument. See https://www.tensorflow.org/guide/keras/save_and_serialize#registering_the_custom_object for details.\n",
      "train_function cannot be copied\n",
      "...<class 'TypeError'> error; cannot pickle '_thread.RLock' object\n",
      "test_function cannot be copied\n",
      "...<class 'TypeError'> error; cannot pickle '_thread.RLock' object\n",
      "train_tf_function cannot be copied\n",
      "...<class 'TypeError'> error; cannot pickle '_thread.RLock' object\n"
     ]
    },
    {
     "name": "stdout",
     "output_type": "stream",
     "text": [
      "<tensorflow_privacy.privacy.optimizers.dp_optimizer_keras.make_keras_optimizer_class.<locals>.DPOptimizerClass object at 0x7f74e24ff6d0>\n",
      "<tensorflow_privacy.privacy.optimizers.dp_optimizer_keras.make_keras_optimizer_class.<locals>.DPOptimizerClass object at 0x7f74e24ff6d0>\n",
      "DP-SGD with sampling rate = 10% and noise_multiplier = 0.5 iterated over 200 steps satisfies differential privacy with eps = 50.3 and delta = 1e-05.\n",
      "The optimal RDP order is 1.5.\n",
      "optimiser is type <class 'tensorflow_privacy.privacy.optimizers.dp_optimizer_keras.make_keras_optimizer_class.<locals>.DPOptimizerClass'>\n",
      "Error: user has not called fit() method or has deleted saved values.Recommendation: Do not release. It is True that the model will be DP because  value of optimizer._was_dp_gradients_called is True so DP variant of optimizer has been runepsilon is not sufficient for Differential privacy: 50.301726361197794. You must modify one or more of batch_size, epochs, number of samples.\n",
      " value of optimizer._was_dp_gradients_called is True so DP variant of optimizer has been run\n"
     ]
    }
   ],
   "source": [
    "importlib.reload(safemodel.safemodel)\n",
    "importlib.reload(safemodel.classifiers.safekeras)\n",
    "from safemodel.classifiers.safekeras import Safe_KerasModel\n",
    "\n",
    "\n",
    "# create and fit using recommended params\n",
    "\n",
    "\n",
    "print(\"***Test 1: researcher doesn't change recommended params\")\n",
    "optimizer=None\n",
    "safeKerasModel1 = Safe_KerasModel(inputs=input_data, outputs=output,name=\"safekerasmodel1-test\")\n",
    "safeKerasModel1.compile(loss=loss)\n",
    "safeKerasModel1.fit(Xt_member, \n",
    "                    yt_member, \n",
    "                    validation_data=(Xt_nonmember, yt_nonmember),\n",
    "                    epochs=epochs, \n",
    "                    batch_size=batch_size)\n",
    "safeKerasModel1.save(\"safe1.pkl\")\n",
    "safeKerasModel1.preliminary_check()\n",
    "safeKerasModel1.request_release(filename=\"safe1.pkl\")"
   ]
  },
  {
   "cell_type": "code",
   "execution_count": 23,
   "metadata": {},
   "outputs": [
    {
     "name": "stdout",
     "output_type": "stream",
     "text": [
      "\n",
      "***Test 2: researcher changes params safely\n",
      "args is a <class 'tuple'> = ()  kwargs is a <class 'dict'>= {'inputs': <KerasTensor: shape=(None, 300) dtype=float32 (created by layer 'input_1')>, 'outputs': <KerasTensor: shape=(None, 2) dtype=float32 (created by layer 'dense_3')>, 'name': 'safekerasmodel2-test', 'l2_norm_clip': 1.1, 'noise_multiplier': 0.6}\n",
      "inputs is in kwargs.keys\n",
      "KerasTensor(type_spec=TensorSpec(shape=(None, 300), dtype=tf.float32, name='input_1'), name='input_1', description=\"created by layer 'input_1'\")\n",
      "Model parameters are within recommended ranges.\n",
      "\n",
      "WARNING: model parameters may present a disclosure risk\n",
      "Unknown optimizer <class 'tensorflow_privacy.privacy.optimizers.dp_optimizer_keras.make_keras_optimizer_class.<locals>.DPOptimizerClass'> - Changed parameter optimizer = 'DPKerasSGDOptimizer'\n",
      "DP optimizer used = False\n",
      "optimizer has been changed but fit() has not been rerun.\n",
      "(250, 300)\n",
      "DP-SGD with sampling rate = 10% and noise_multiplier = 0.6 iterated over 200 steps satisfies differential privacy with eps = 32.9 and delta = 1e-05.\n",
      "The optimal RDP order is 1.75.\n",
      "Current epsilon is 32.860767694468635\n",
      "The requirements for DP are not met, current epsilon is: 32.860767694468635. To attain true DP the following parameters can be changed:  Num Samples = 250, batch_size = 25, epochs = 20\n",
      "This will not result in a Differentially Private model do you want to continue [Y/N]y\n",
      "Continuing\n",
      "Epoch 1/20\n",
      "10/10 [==============================] - 3s 56ms/step - loss: 0.0068 - accuracy: 1.0000 - val_loss: 3.9574 - val_accuracy: 0.6160\n",
      "Epoch 2/20\n",
      "10/10 [==============================] - 0s 39ms/step - loss: 0.0145 - accuracy: 0.9920 - val_loss: 4.2700 - val_accuracy: 0.6120\n",
      "Epoch 3/20\n",
      "10/10 [==============================] - 0s 40ms/step - loss: 0.0211 - accuracy: 0.9960 - val_loss: 4.4584 - val_accuracy: 0.5800\n",
      "Epoch 4/20\n",
      "10/10 [==============================] - 0s 40ms/step - loss: 0.0080 - accuracy: 1.0000 - val_loss: 4.3461 - val_accuracy: 0.6080\n",
      "Epoch 5/20\n",
      "10/10 [==============================] - 0s 42ms/step - loss: 0.0308 - accuracy: 0.9840 - val_loss: 4.2287 - val_accuracy: 0.5920\n",
      "Epoch 6/20\n",
      "10/10 [==============================] - 0s 36ms/step - loss: 0.0182 - accuracy: 0.9960 - val_loss: 4.1323 - val_accuracy: 0.6040\n",
      "Epoch 7/20\n",
      "10/10 [==============================] - 0s 42ms/step - loss: 0.0587 - accuracy: 0.9760 - val_loss: 4.2661 - val_accuracy: 0.6080\n",
      "Epoch 8/20\n",
      "10/10 [==============================] - 0s 35ms/step - loss: 0.0463 - accuracy: 0.9800 - val_loss: 4.2183 - val_accuracy: 0.6040\n",
      "Epoch 9/20\n",
      "10/10 [==============================] - 0s 43ms/step - loss: 0.0542 - accuracy: 0.9760 - val_loss: 4.4158 - val_accuracy: 0.6200\n",
      "Epoch 10/20\n",
      "10/10 [==============================] - 0s 36ms/step - loss: 0.0538 - accuracy: 0.9840 - val_loss: 4.6035 - val_accuracy: 0.6080\n",
      "Epoch 11/20\n",
      "10/10 [==============================] - 0s 41ms/step - loss: 0.0752 - accuracy: 0.9800 - val_loss: 4.6462 - val_accuracy: 0.6000\n",
      "Epoch 12/20\n",
      "10/10 [==============================] - 0s 40ms/step - loss: 0.1174 - accuracy: 0.9760 - val_loss: 5.0099 - val_accuracy: 0.6200\n",
      "Epoch 13/20\n",
      "10/10 [==============================] - 0s 42ms/step - loss: 0.1296 - accuracy: 0.9720 - val_loss: 5.0795 - val_accuracy: 0.6240\n",
      "Epoch 14/20\n",
      "10/10 [==============================] - 0s 37ms/step - loss: 0.1162 - accuracy: 0.9800 - val_loss: 5.3058 - val_accuracy: 0.6120\n",
      "Epoch 15/20\n",
      "10/10 [==============================] - 0s 45ms/step - loss: 0.1368 - accuracy: 0.9720 - val_loss: 5.4282 - val_accuracy: 0.6400\n",
      "Epoch 16/20\n",
      "10/10 [==============================] - 0s 44ms/step - loss: 0.1549 - accuracy: 0.9480 - val_loss: 5.1068 - val_accuracy: 0.6200\n",
      "Epoch 17/20\n",
      "10/10 [==============================] - 0s 36ms/step - loss: 0.1329 - accuracy: 0.9600 - val_loss: 5.2513 - val_accuracy: 0.6120\n",
      "Epoch 18/20\n",
      "10/10 [==============================] - 0s 39ms/step - loss: 0.1594 - accuracy: 0.9600 - val_loss: 5.3219 - val_accuracy: 0.6040\n",
      "Epoch 19/20\n",
      "10/10 [==============================] - 0s 42ms/step - loss: 0.1170 - accuracy: 0.9680 - val_loss: 5.4637 - val_accuracy: 0.5920\n",
      "Epoch 20/20\n",
      "10/10 [==============================] - 0s 45ms/step - loss: 0.1242 - accuracy: 0.9600 - val_loss: 5.2966 - val_accuracy: 0.6120\n",
      "INFO:tensorflow:Assets written to: safe2.hd5/assets\n",
      "Model parameters are within recommended ranges.\n",
      "\n",
      "INFO:tensorflow:Assets written to: safe2.hd5/assets\n"
     ]
    },
    {
     "name": "stderr",
     "output_type": "stream",
     "text": [
      "_obj_reference_counts_dict cannot be copied\n",
      "...<class 'TypeError'> error; cannot pickle '_thread.RLock' object\n",
      "_thread_local cannot be copied\n",
      "...<class 'TypeError'> error; cannot pickle '_thread._local' object\n",
      "_metrics_lock cannot be copied\n",
      "...<class 'TypeError'> error; cannot pickle '_thread.lock' object\n"
     ]
    },
    {
     "name": "stdout",
     "output_type": "stream",
     "text": [
      "INFO:tensorflow:Assets written to: ram://f19e82c4-05b4-4b9e-8ca8-ba85c138b36e/assets\n"
     ]
    },
    {
     "name": "stderr",
     "output_type": "stream",
     "text": [
      "_trackable_saver cannot be copied\n",
      "...<class 'ValueError'> error; Unknown optimizer: DPOptimizerClass. Please ensure this object is passed to the `custom_objects` argument. See https://www.tensorflow.org/guide/keras/save_and_serialize#registering_the_custom_object for details.\n",
      "_self_unconditional_checkpoint_dependencies cannot be copied\n",
      "...<class 'TypeError'> error; cannot pickle '_thread.RLock' object\n",
      "_self_unconditional_dependency_names cannot be copied\n",
      "...<class 'TypeError'> error; cannot pickle '_thread.RLock' object\n",
      "compiled_loss cannot be copied\n",
      "...<class 'TypeError'> error; cannot pickle '_thread.RLock' object\n",
      "compiled_metrics cannot be copied\n",
      "...<class 'TypeError'> error; cannot pickle '_thread.RLock' object\n"
     ]
    },
    {
     "name": "stdout",
     "output_type": "stream",
     "text": [
      "INFO:tensorflow:Assets written to: ram://feb2f988-0991-4702-aa5c-2183413b2c98/assets\n"
     ]
    },
    {
     "name": "stderr",
     "output_type": "stream",
     "text": [
      "history cannot be copied\n",
      "...<class 'ValueError'> error; Unknown optimizer: DPOptimizerClass. Please ensure this object is passed to the `custom_objects` argument. See https://www.tensorflow.org/guide/keras/save_and_serialize#registering_the_custom_object for details.\n",
      "train_function cannot be copied\n",
      "...<class 'TypeError'> error; cannot pickle '_thread.RLock' object\n",
      "test_function cannot be copied\n",
      "...<class 'TypeError'> error; cannot pickle '_thread.RLock' object\n",
      "train_tf_function cannot be copied\n",
      "...<class 'TypeError'> error; cannot pickle '_thread.RLock' object\n"
     ]
    },
    {
     "name": "stdout",
     "output_type": "stream",
     "text": [
      "<tensorflow_privacy.privacy.optimizers.dp_optimizer_keras.make_keras_optimizer_class.<locals>.DPOptimizerClass object at 0x7f74e2190940>\n",
      "<tensorflow_privacy.privacy.optimizers.dp_optimizer_keras.make_keras_optimizer_class.<locals>.DPOptimizerClass object at 0x7f74e2190940>\n",
      "DP-SGD with sampling rate = 10% and noise_multiplier = 0.6 iterated over 200 steps satisfies differential privacy with eps = 32.9 and delta = 1e-05.\n",
      "The optimal RDP order is 1.75.\n",
      "optimiser is type <class 'tensorflow_privacy.privacy.optimizers.dp_optimizer_keras.make_keras_optimizer_class.<locals>.DPOptimizerClass'>\n",
      "Error: user has not called fit() method or has deleted saved values.Recommendation: Do not release. It is True that the model will be DP because  value of optimizer._was_dp_gradients_called is True so DP variant of optimizer has been runepsilon is not sufficient for Differential privacy: 32.860767694468635. You must modify one or more of batch_size, epochs, number of samples.\n",
      " value of optimizer._was_dp_gradients_called is True so DP variant of optimizer has been run\n"
     ]
    }
   ],
   "source": [
    "importlib.reload(safemodel.safemodel)\n",
    "importlib.reload(safemodel.classifiers.safekeras)\n",
    "from safemodel.classifiers.safekeras import Safe_KerasModel\n",
    "\n",
    "# change model params to recommended values\n",
    "print(\"\\n***Test 2: researcher changes params safely\")\n",
    "safeKerasModel2 = Safe_KerasModel(inputs= input_data, outputs=output,name=\"safekerasmodel2-test\", l2_norm_clip = 1.1, noise_multiplier=0.6)\n",
    "safeKerasModel2.optimizer=tensorflow_privacy.DPKerasAdamOptimizer\n",
    "safeKerasModel2.compile(loss=loss)\n",
    "safeKerasModel2.l2_norm_clip = 1.1\n",
    "safeKerasModel2.noise_multiplier = 0.6\n",
    "safeKerasModel2.fit(Xt_member, \n",
    "                    yt_member, \n",
    "                    validation_data=(Xt_nonmember, yt_nonmember),\n",
    "                    epochs=epochs, \n",
    "                    batch_size=batch_size)\n",
    "\n",
    "safeKerasModel2.save(\"safe2.hd5\")\n",
    "safeKerasModel2.preliminary_check()\n",
    "safeKerasModel2.request_release(filename=\"safe2.hd5\")"
   ]
  },
  {
   "cell_type": "code",
   "execution_count": 24,
   "metadata": {},
   "outputs": [
    {
     "name": "stdout",
     "output_type": "stream",
     "text": [
      "\n",
      "***Test 3: researcher changes string params unsafely\n",
      "args is a <class 'tuple'> = ()  kwargs is a <class 'dict'>= {'inputs': <KerasTensor: shape=(None, 300) dtype=float32 (created by layer 'input_1')>, 'outputs': <KerasTensor: shape=(None, 2) dtype=float32 (created by layer 'dense_3')>, 'name': 'safekerasmodel3-test', 'l2_norm_clip': 0.8}\n",
      "inputs is in kwargs.keys\n",
      "KerasTensor(type_spec=TensorSpec(shape=(None, 300), dtype=tf.float32, name='input_1'), name='input_1', description=\"created by layer 'input_1'\")\n",
      "WARNING: model parameters may present a disclosure risk:\n",
      "- parameter l2_norm_clip = 0.8 identified as less than the recommended min value of 1.0.\n",
      "Changed parameter l2_norm_clip = 1.0.\n",
      "\n",
      "Changed parameter optimizer = 'DPKerasSGDOptimizer'\n",
      "WARNING: model parameters may present a disclosure risk\n",
      "Unknown optimizer <class 'tensorflow_privacy.privacy.optimizers.dp_optimizer_keras.make_keras_optimizer_class.<locals>.DPOptimizerClass'> - Changed parameter optimizer = 'DPKerasSGDOptimizer'\n",
      "DP optimizer used = False\n",
      "optimizer has been changed but fit() has not been rerun.\n",
      "(250, 300)\n",
      "DP-SGD with sampling rate = 10% and noise_multiplier = 0.5 iterated over 200 steps satisfies differential privacy with eps = 50.3 and delta = 1e-05.\n",
      "The optimal RDP order is 1.5.\n",
      "Current epsilon is 50.301726361197794\n",
      "The requirements for DP are not met, current epsilon is: 50.301726361197794. To attain true DP the following parameters can be changed:  Num Samples = 250, batch_size = 25, epochs = 20\n",
      "This will not result in a Differentially Private model do you want to continue [Y/N]y\n",
      "Continuing\n",
      "Epoch 1/20\n",
      "10/10 [==============================] - 4s 53ms/step - loss: 0.0777 - accuracy: 0.9680 - val_loss: 5.3273 - val_accuracy: 0.6000\n",
      "Epoch 2/20\n",
      "10/10 [==============================] - 0s 42ms/step - loss: 0.0924 - accuracy: 0.9760 - val_loss: 5.4714 - val_accuracy: 0.5880\n",
      "Epoch 3/20\n",
      "10/10 [==============================] - 0s 36ms/step - loss: 0.1024 - accuracy: 0.9720 - val_loss: 5.3721 - val_accuracy: 0.6000\n",
      "Epoch 4/20\n",
      "10/10 [==============================] - 0s 40ms/step - loss: 0.0720 - accuracy: 0.9840 - val_loss: 5.2080 - val_accuracy: 0.5720\n",
      "Epoch 5/20\n",
      "10/10 [==============================] - 0s 38ms/step - loss: 0.0550 - accuracy: 0.9840 - val_loss: 5.2378 - val_accuracy: 0.5800\n",
      "Epoch 6/20\n",
      "10/10 [==============================] - 0s 42ms/step - loss: 0.0425 - accuracy: 0.9880 - val_loss: 5.3202 - val_accuracy: 0.5840\n",
      "Epoch 7/20\n",
      "10/10 [==============================] - 0s 39ms/step - loss: 0.0949 - accuracy: 0.9720 - val_loss: 5.3690 - val_accuracy: 0.6080\n",
      "Epoch 8/20\n",
      "10/10 [==============================] - 0s 41ms/step - loss: 0.0543 - accuracy: 0.9800 - val_loss: 5.3458 - val_accuracy: 0.5840\n",
      "Epoch 9/20\n",
      "10/10 [==============================] - 0s 38ms/step - loss: 0.0470 - accuracy: 0.9840 - val_loss: 5.3010 - val_accuracy: 0.5920\n",
      "Epoch 10/20\n",
      "10/10 [==============================] - 0s 37ms/step - loss: 0.0542 - accuracy: 0.9840 - val_loss: 5.1740 - val_accuracy: 0.5840\n",
      "Epoch 11/20\n",
      "10/10 [==============================] - 0s 43ms/step - loss: 0.0430 - accuracy: 0.9880 - val_loss: 5.2246 - val_accuracy: 0.5920\n",
      "Epoch 12/20\n",
      "10/10 [==============================] - 0s 49ms/step - loss: 0.0232 - accuracy: 0.9920 - val_loss: 5.1878 - val_accuracy: 0.6000\n",
      "Epoch 13/20\n",
      "10/10 [==============================] - 1s 89ms/step - loss: 0.0347 - accuracy: 0.9880 - val_loss: 5.3835 - val_accuracy: 0.5920\n",
      "Epoch 14/20\n",
      "10/10 [==============================] - 0s 37ms/step - loss: 0.0138 - accuracy: 0.9920 - val_loss: 5.1501 - val_accuracy: 0.6040\n",
      "Epoch 15/20\n",
      "10/10 [==============================] - 0s 38ms/step - loss: 0.0230 - accuracy: 0.9920 - val_loss: 5.1669 - val_accuracy: 0.6080\n",
      "Epoch 16/20\n",
      "10/10 [==============================] - 0s 47ms/step - loss: 0.0159 - accuracy: 0.9960 - val_loss: 5.3545 - val_accuracy: 0.6160\n",
      "Epoch 17/20\n",
      "10/10 [==============================] - 0s 42ms/step - loss: 0.0177 - accuracy: 0.9920 - val_loss: 5.2299 - val_accuracy: 0.6160\n",
      "Epoch 18/20\n",
      "10/10 [==============================] - 1s 74ms/step - loss: 0.0101 - accuracy: 0.9960 - val_loss: 5.1313 - val_accuracy: 0.6280\n",
      "Epoch 19/20\n",
      "10/10 [==============================] - 1s 59ms/step - loss: 0.0261 - accuracy: 0.9960 - val_loss: 5.2352 - val_accuracy: 0.6160\n",
      "Epoch 20/20\n",
      "10/10 [==============================] - 0s 35ms/step - loss: 0.0312 - accuracy: 0.9920 - val_loss: 5.2611 - val_accuracy: 0.5960\n",
      "INFO:tensorflow:Assets written to: unsafe3.hd5/assets\n",
      "Model parameters are within recommended ranges.\n",
      "\n",
      "INFO:tensorflow:Assets written to: unsafe3.hd5/assets\n"
     ]
    },
    {
     "name": "stderr",
     "output_type": "stream",
     "text": [
      "_obj_reference_counts_dict cannot be copied\n",
      "...<class 'TypeError'> error; cannot pickle '_thread.RLock' object\n",
      "_thread_local cannot be copied\n",
      "...<class 'TypeError'> error; cannot pickle '_thread._local' object\n",
      "_metrics_lock cannot be copied\n",
      "...<class 'TypeError'> error; cannot pickle '_thread.lock' object\n"
     ]
    },
    {
     "name": "stdout",
     "output_type": "stream",
     "text": [
      "INFO:tensorflow:Assets written to: ram://03e7311d-afe6-4dc2-917e-18b9f579dd82/assets\n"
     ]
    },
    {
     "name": "stderr",
     "output_type": "stream",
     "text": [
      "_trackable_saver cannot be copied\n",
      "...<class 'ValueError'> error; Unknown optimizer: DPOptimizerClass. Please ensure this object is passed to the `custom_objects` argument. See https://www.tensorflow.org/guide/keras/save_and_serialize#registering_the_custom_object for details.\n",
      "_self_unconditional_checkpoint_dependencies cannot be copied\n",
      "...<class 'TypeError'> error; cannot pickle '_thread.RLock' object\n",
      "_self_unconditional_dependency_names cannot be copied\n",
      "...<class 'TypeError'> error; cannot pickle '_thread.RLock' object\n",
      "compiled_loss cannot be copied\n",
      "...<class 'TypeError'> error; cannot pickle '_thread.RLock' object\n",
      "compiled_metrics cannot be copied\n",
      "...<class 'TypeError'> error; cannot pickle '_thread.RLock' object\n"
     ]
    },
    {
     "name": "stdout",
     "output_type": "stream",
     "text": [
      "INFO:tensorflow:Assets written to: ram://b80d5912-7afe-4545-926b-c4afc182a9b0/assets\n"
     ]
    },
    {
     "name": "stderr",
     "output_type": "stream",
     "text": [
      "history cannot be copied\n",
      "...<class 'ValueError'> error; Unknown optimizer: DPOptimizerClass. Please ensure this object is passed to the `custom_objects` argument. See https://www.tensorflow.org/guide/keras/save_and_serialize#registering_the_custom_object for details.\n",
      "train_function cannot be copied\n",
      "...<class 'TypeError'> error; cannot pickle '_thread.RLock' object\n",
      "test_function cannot be copied\n",
      "...<class 'TypeError'> error; cannot pickle '_thread.RLock' object\n",
      "train_tf_function cannot be copied\n",
      "...<class 'TypeError'> error; cannot pickle '_thread.RLock' object\n"
     ]
    },
    {
     "name": "stdout",
     "output_type": "stream",
     "text": [
      "<tensorflow_privacy.privacy.optimizers.dp_optimizer_keras.make_keras_optimizer_class.<locals>.DPOptimizerClass object at 0x7f74cace7130>\n",
      "<tensorflow_privacy.privacy.optimizers.dp_optimizer_keras.make_keras_optimizer_class.<locals>.DPOptimizerClass object at 0x7f74cace7130>\n",
      "DP-SGD with sampling rate = 10% and noise_multiplier = 0.5 iterated over 200 steps satisfies differential privacy with eps = 50.3 and delta = 1e-05.\n",
      "The optimal RDP order is 1.5.\n",
      "optimiser is type <class 'tensorflow_privacy.privacy.optimizers.dp_optimizer_keras.make_keras_optimizer_class.<locals>.DPOptimizerClass'>\n",
      "Error: user has not called fit() method or has deleted saved values.Recommendation: Do not release. It is True that the model will be DP because  value of optimizer._was_dp_gradients_called is True so DP variant of optimizer has been runepsilon is not sufficient for Differential privacy: 50.301726361197794. You must modify one or more of batch_size, epochs, number of samples.\n",
      " value of optimizer._was_dp_gradients_called is True so DP variant of optimizer has been run\n"
     ]
    }
   ],
   "source": [
    "importlib.reload(safemodel.safemodel)\n",
    "importlib.reload(safemodel.classifiers.safekeras)\n",
    "from safemodel.classifiers.safekeras import Safe_KerasModel\n",
    "\n",
    "# change one model params in an unsafe way\n",
    "print(\"\\n***Test 3: researcher changes string params unsafely\")\n",
    "safeKerasModel3 = Safe_KerasModel(inputs= input_data, outputs=output,name=\"safekerasmodel3-test\", l2_norm_clip = 0.8)\n",
    "safeKerasModel3.compile(loss=loss)\n",
    "#safeKerasModel3.optimizer=\"Adam\"\n",
    "safeKerasModel3.fit(Xt_member, \n",
    "                    yt_member, \n",
    "                    validation_data=(Xt_nonmember, yt_nonmember),\n",
    "                    epochs=epochs, \n",
    "                    batch_size=batch_size)\n",
    "safeKerasModel3.save(\"unsafe3.hd5\")\n",
    "safeKerasModel3.preliminary_check()\n",
    "safeKerasModel3.request_release(filename=\"unsafe3.hd5\")"
   ]
  },
  {
   "cell_type": "code",
   "execution_count": 25,
   "metadata": {},
   "outputs": [
    {
     "name": "stdout",
     "output_type": "stream",
     "text": [
      "\n",
      "***Test 3: researcher changes string params unsafely\n",
      "args is a <class 'tuple'> = ()  kwargs is a <class 'dict'>= {'inputs': <KerasTensor: shape=(None, 300) dtype=float32 (created by layer 'input_1')>, 'outputs': <KerasTensor: shape=(None, 2) dtype=float32 (created by layer 'dense_3')>, 'name': 'safekerasmodel3-test', 'delta': -1}\n",
      "inputs is in kwargs.keys\n",
      "KerasTensor(type_spec=TensorSpec(shape=(None, 300), dtype=tf.float32, name='input_1'), name='input_1', description=\"created by layer 'input_1'\")\n",
      "WARNING: model parameters may present a disclosure risk:\n",
      "- parameter delta = -1 identified as less than the recommended min value of 1e-05.\n",
      "Changed parameter delta = 1e-05.\n",
      "\n",
      "Changed parameter optimizer = 'DPKerasSGDOptimizer'\n",
      "WARNING: model parameters may present a disclosure risk\n",
      "Unknown optimizer <class 'tensorflow_privacy.privacy.optimizers.dp_optimizer_keras.make_keras_optimizer_class.<locals>.DPOptimizerClass'> - Changed parameter optimizer = 'DPKerasSGDOptimizer'\n",
      "DP optimizer used = False\n",
      "optimizer has been changed but fit() has not been rerun.\n",
      "(250, 300)\n",
      "DP-SGD with sampling rate = 10% and noise_multiplier = 0.5 iterated over 200 steps satisfies differential privacy with eps = 50.3 and delta = 1e-05.\n",
      "The optimal RDP order is 1.5.\n",
      "Current epsilon is 50.301726361197794\n",
      "The requirements for DP are not met, current epsilon is: 50.301726361197794. To attain true DP the following parameters can be changed:  Num Samples = 250, batch_size = 25, epochs = 20\n",
      "This will not result in a Differentially Private model do you want to continue [Y/N]y\n",
      "Continuing\n",
      "Epoch 1/20\n",
      "10/10 [==============================] - 3s 53ms/step - loss: 0.0093 - accuracy: 0.9960 - val_loss: 5.1012 - val_accuracy: 0.6240\n",
      "Epoch 2/20\n",
      "10/10 [==============================] - 0s 37ms/step - loss: 0.0072 - accuracy: 1.0000 - val_loss: 5.2879 - val_accuracy: 0.5920\n",
      "Epoch 3/20\n",
      "10/10 [==============================] - 0s 42ms/step - loss: 0.0036 - accuracy: 1.0000 - val_loss: 5.1692 - val_accuracy: 0.6320\n",
      "Epoch 4/20\n",
      "10/10 [==============================] - 0s 34ms/step - loss: 0.0023 - accuracy: 1.0000 - val_loss: 5.3207 - val_accuracy: 0.6320\n",
      "Epoch 5/20\n",
      "10/10 [==============================] - 0s 40ms/step - loss: 0.0092 - accuracy: 0.9960 - val_loss: 5.3206 - val_accuracy: 0.6480\n",
      "Epoch 6/20\n",
      "10/10 [==============================] - 0s 42ms/step - loss: 0.0161 - accuracy: 0.9960 - val_loss: 5.1576 - val_accuracy: 0.6600\n",
      "Epoch 7/20\n",
      "10/10 [==============================] - 0s 40ms/step - loss: 0.0053 - accuracy: 1.0000 - val_loss: 5.6520 - val_accuracy: 0.6080\n",
      "Epoch 8/20\n",
      "10/10 [==============================] - 0s 39ms/step - loss: 0.0072 - accuracy: 0.9960 - val_loss: 5.9035 - val_accuracy: 0.6080\n",
      "Epoch 9/20\n",
      "10/10 [==============================] - 0s 43ms/step - loss: 0.0011 - accuracy: 1.0000 - val_loss: 5.6880 - val_accuracy: 0.6120\n",
      "Epoch 10/20\n",
      "10/10 [==============================] - 0s 40ms/step - loss: 0.0017 - accuracy: 1.0000 - val_loss: 5.7950 - val_accuracy: 0.6240\n",
      "Epoch 11/20\n",
      "10/10 [==============================] - 0s 39ms/step - loss: 0.0018 - accuracy: 1.0000 - val_loss: 5.6118 - val_accuracy: 0.6280\n",
      "Epoch 12/20\n",
      "10/10 [==============================] - 0s 37ms/step - loss: 0.0061 - accuracy: 1.0000 - val_loss: 5.7823 - val_accuracy: 0.6280\n",
      "Epoch 13/20\n",
      "10/10 [==============================] - 0s 40ms/step - loss: 0.0206 - accuracy: 0.9920 - val_loss: 5.7632 - val_accuracy: 0.6120\n",
      "Epoch 14/20\n",
      "10/10 [==============================] - 0s 37ms/step - loss: 0.0295 - accuracy: 0.9880 - val_loss: 5.9581 - val_accuracy: 0.6320\n",
      "Epoch 15/20\n",
      "10/10 [==============================] - 0s 38ms/step - loss: 0.0201 - accuracy: 0.9880 - val_loss: 6.1204 - val_accuracy: 0.6240\n",
      "Epoch 16/20\n",
      "10/10 [==============================] - 0s 40ms/step - loss: 0.0210 - accuracy: 0.9960 - val_loss: 6.1531 - val_accuracy: 0.6240\n",
      "Epoch 17/20\n",
      "10/10 [==============================] - 0s 41ms/step - loss: 0.0504 - accuracy: 0.9800 - val_loss: 6.1658 - val_accuracy: 0.6000\n",
      "Epoch 18/20\n",
      "10/10 [==============================] - 0s 43ms/step - loss: 0.0295 - accuracy: 0.9920 - val_loss: 6.2790 - val_accuracy: 0.6000\n",
      "Epoch 19/20\n",
      "10/10 [==============================] - 1s 140ms/step - loss: 0.0209 - accuracy: 0.9880 - val_loss: 6.3776 - val_accuracy: 0.5960\n",
      "Epoch 20/20\n",
      "10/10 [==============================] - 0s 45ms/step - loss: 0.0484 - accuracy: 0.9800 - val_loss: 6.3933 - val_accuracy: 0.5920\n",
      "INFO:tensorflow:Assets written to: unsafe3.hd5/assets\n",
      "Model parameters are within recommended ranges.\n",
      "\n",
      "INFO:tensorflow:Assets written to: unsafe4.hd5/assets\n"
     ]
    },
    {
     "name": "stderr",
     "output_type": "stream",
     "text": [
      "_obj_reference_counts_dict cannot be copied\n",
      "...<class 'TypeError'> error; cannot pickle '_thread.RLock' object\n",
      "_thread_local cannot be copied\n",
      "...<class 'TypeError'> error; cannot pickle '_thread._local' object\n",
      "_metrics_lock cannot be copied\n",
      "...<class 'TypeError'> error; cannot pickle '_thread.lock' object\n"
     ]
    },
    {
     "name": "stdout",
     "output_type": "stream",
     "text": [
      "INFO:tensorflow:Assets written to: ram://7b51c22c-a098-4048-9c2a-b3fd29180bef/assets\n"
     ]
    },
    {
     "name": "stderr",
     "output_type": "stream",
     "text": [
      "_trackable_saver cannot be copied\n",
      "...<class 'ValueError'> error; Unknown optimizer: DPOptimizerClass. Please ensure this object is passed to the `custom_objects` argument. See https://www.tensorflow.org/guide/keras/save_and_serialize#registering_the_custom_object for details.\n",
      "_self_unconditional_checkpoint_dependencies cannot be copied\n",
      "...<class 'TypeError'> error; cannot pickle '_thread.RLock' object\n",
      "_self_unconditional_dependency_names cannot be copied\n",
      "...<class 'TypeError'> error; cannot pickle '_thread.RLock' object\n",
      "compiled_loss cannot be copied\n",
      "...<class 'TypeError'> error; cannot pickle '_thread.RLock' object\n",
      "compiled_metrics cannot be copied\n",
      "...<class 'TypeError'> error; cannot pickle '_thread.RLock' object\n"
     ]
    },
    {
     "name": "stdout",
     "output_type": "stream",
     "text": [
      "INFO:tensorflow:Assets written to: ram://dc231720-9ef5-463e-9e4f-cad1a4a8011b/assets\n"
     ]
    },
    {
     "name": "stderr",
     "output_type": "stream",
     "text": [
      "history cannot be copied\n",
      "...<class 'ValueError'> error; Unknown optimizer: DPOptimizerClass. Please ensure this object is passed to the `custom_objects` argument. See https://www.tensorflow.org/guide/keras/save_and_serialize#registering_the_custom_object for details.\n",
      "train_function cannot be copied\n",
      "...<class 'TypeError'> error; cannot pickle '_thread.RLock' object\n",
      "test_function cannot be copied\n",
      "...<class 'TypeError'> error; cannot pickle '_thread.RLock' object\n",
      "train_tf_function cannot be copied\n",
      "...<class 'TypeError'> error; cannot pickle '_thread.RLock' object\n"
     ]
    },
    {
     "name": "stdout",
     "output_type": "stream",
     "text": [
      "<tensorflow_privacy.privacy.optimizers.dp_optimizer_keras.make_keras_optimizer_class.<locals>.DPOptimizerClass object at 0x7f74c9a80070>\n",
      "<tensorflow_privacy.privacy.optimizers.dp_optimizer_keras.make_keras_optimizer_class.<locals>.DPOptimizerClass object at 0x7f74c9a80070>\n",
      "DP-SGD with sampling rate = 10% and noise_multiplier = 0.5 iterated over 200 steps satisfies differential privacy with eps = 50.3 and delta = 1e-05.\n",
      "The optimal RDP order is 1.5.\n",
      "optimiser is type <class 'tensorflow_privacy.privacy.optimizers.dp_optimizer_keras.make_keras_optimizer_class.<locals>.DPOptimizerClass'>\n",
      "Error: user has not called fit() method or has deleted saved values.Recommendation: Do not release. It is True that the model will be DP because  value of optimizer._was_dp_gradients_called is True so DP variant of optimizer has been runepsilon is not sufficient for Differential privacy: 50.301726361197794. You must modify one or more of batch_size, epochs, number of samples.\n",
      " value of optimizer._was_dp_gradients_called is True so DP variant of optimizer has been run\n"
     ]
    }
   ],
   "source": [
    "# change another model params in an  unsafe way\n",
    "importlib.reload(safemodel.safemodel)\n",
    "importlib.reload(safemodel.classifiers.safekeras)\n",
    "from safemodel.classifiers.safekeras import Safe_KerasModel\n",
    "\n",
    "print(\"\\n***Test 3: researcher changes string params unsafely\")\n",
    "safeKerasModel4 = Safe_KerasModel(inputs= input_data, outputs=output,name=\"safekerasmodel3-test\", delta=-1)\n",
    "safeKerasModel4.compile(loss=loss)\n",
    "#safeKerasModel3.optimizer=\"Adam\"\n",
    "safeKerasModel4.fit(Xt_member, \n",
    "                    yt_member, \n",
    "                    validation_data=(Xt_nonmember, yt_nonmember),\n",
    "                    epochs=epochs, \n",
    "                    batch_size=batch_size)\n",
    "safeKerasModel4.save(\"unsafe3.hd5\")\n",
    "safeKerasModel4.preliminary_check()\n",
    "safeKerasModel4.request_release(filename=\"unsafe4.hd5\")"
   ]
  },
  {
   "cell_type": "code",
   "execution_count": 26,
   "metadata": {
    "scrolled": true
   },
   "outputs": [
    {
     "name": "stdout",
     "output_type": "stream",
     "text": [
      "\n",
      "***Test 5: researcher changes string and numeric params unsafely\n",
      "args is a <class 'tuple'> = ()  kwargs is a <class 'dict'>= {'inputs': <KerasTensor: shape=(None, 300) dtype=float32 (created by layer 'input_1')>, 'outputs': <KerasTensor: shape=(None, 2) dtype=float32 (created by layer 'dense_3')>, 'name': 'safekerasmodel3-test', 'l2_norm_clip': 0.9, 'noise_multipier': 0.4, 'min_epsilon': 9, 'delta': -1}\n",
      "inputs is in kwargs.keys\n",
      "KerasTensor(type_spec=TensorSpec(shape=(None, 300), dtype=tf.float32, name='input_1'), name='input_1', description=\"created by layer 'input_1'\")\n",
      "WARNING: model parameters may present a disclosure risk:\n",
      "- parameter l2_norm_clip = 0.9 identified as less than the recommended min value of 1.0.\n",
      "Changed parameter l2_norm_clip = 1.0.\n",
      "- parameter min_epsilon = 9 identified as less than the recommended min value of 10.\n",
      "Changed parameter min_epsilon = 10.\n",
      "- parameter delta = -1 identified as less than the recommended min value of 1e-05.\n",
      "Changed parameter delta = 1e-05.\n",
      "\n",
      "Changed parameter optimizer = 'DPKerasSGDOptimizer'\n",
      "WARNING: model parameters may present a disclosure risk\n",
      "Unknown optimizer <class 'tensorflow_privacy.privacy.optimizers.dp_optimizer_keras.make_keras_optimizer_class.<locals>.DPOptimizerClass'> - Changed parameter optimizer = 'DPKerasSGDOptimizer'\n",
      "DP optimizer used = False\n",
      "optimizer has been changed but fit() has not been rerun.\n",
      "(250, 300)\n",
      "DP-SGD with sampling rate = 10% and noise_multiplier = 0.5 iterated over 200 steps satisfies differential privacy with eps = 50.3 and delta = 1e-05.\n",
      "The optimal RDP order is 1.5.\n",
      "Current epsilon is 50.301726361197794\n",
      "The requirements for DP are not met, current epsilon is: 50.301726361197794. To attain true DP the following parameters can be changed:  Num Samples = 250, batch_size = 25, epochs = 20\n",
      "This will not result in a Differentially Private model do you want to continue [Y/N]y\n",
      "Continuing\n",
      "Epoch 1/20\n",
      "10/10 [==============================] - 3s 52ms/step - loss: 0.0565 - accuracy: 0.9840 - val_loss: 6.3431 - val_accuracy: 0.6000\n",
      "Epoch 2/20\n",
      "10/10 [==============================] - 0s 37ms/step - loss: 0.0762 - accuracy: 0.9800 - val_loss: 6.4874 - val_accuracy: 0.6120\n",
      "Epoch 3/20\n",
      "10/10 [==============================] - 0s 35ms/step - loss: 0.0718 - accuracy: 0.9760 - val_loss: 6.3603 - val_accuracy: 0.6080\n",
      "Epoch 4/20\n",
      "10/10 [==============================] - 0s 40ms/step - loss: 0.0289 - accuracy: 0.9840 - val_loss: 6.5542 - val_accuracy: 0.6120\n",
      "Epoch 5/20\n",
      "10/10 [==============================] - 0s 38ms/step - loss: 0.0465 - accuracy: 0.9880 - val_loss: 6.5575 - val_accuracy: 0.6000\n",
      "Epoch 6/20\n",
      "10/10 [==============================] - 0s 36ms/step - loss: 0.0222 - accuracy: 0.9920 - val_loss: 6.5725 - val_accuracy: 0.6160\n",
      "Epoch 7/20\n",
      "10/10 [==============================] - 0s 36ms/step - loss: 0.0156 - accuracy: 0.9920 - val_loss: 6.8618 - val_accuracy: 0.6120\n",
      "Epoch 8/20\n",
      "10/10 [==============================] - 0s 37ms/step - loss: 0.0044 - accuracy: 1.0000 - val_loss: 6.9802 - val_accuracy: 0.5800\n",
      "Epoch 9/20\n",
      "10/10 [==============================] - 0s 36ms/step - loss: 0.0191 - accuracy: 0.9880 - val_loss: 6.6563 - val_accuracy: 0.6000\n",
      "Epoch 10/20\n",
      "10/10 [==============================] - 0s 46ms/step - loss: 0.0217 - accuracy: 0.9920 - val_loss: 6.5828 - val_accuracy: 0.6040\n",
      "Epoch 11/20\n",
      "10/10 [==============================] - 0s 33ms/step - loss: 0.0180 - accuracy: 0.9880 - val_loss: 6.8661 - val_accuracy: 0.5920\n",
      "Epoch 12/20\n",
      "10/10 [==============================] - 0s 41ms/step - loss: 0.0276 - accuracy: 0.9840 - val_loss: 6.8838 - val_accuracy: 0.5960\n",
      "Epoch 13/20\n",
      "10/10 [==============================] - 0s 39ms/step - loss: 0.0227 - accuracy: 0.9880 - val_loss: 6.9415 - val_accuracy: 0.5960\n",
      "Epoch 14/20\n",
      "10/10 [==============================] - 0s 42ms/step - loss: 0.0444 - accuracy: 0.9840 - val_loss: 6.8640 - val_accuracy: 0.5880\n",
      "Epoch 15/20\n",
      "10/10 [==============================] - 0s 42ms/step - loss: 0.0199 - accuracy: 0.9920 - val_loss: 6.8287 - val_accuracy: 0.6120\n",
      "Epoch 16/20\n",
      "10/10 [==============================] - 0s 40ms/step - loss: 0.0114 - accuracy: 0.9960 - val_loss: 6.8324 - val_accuracy: 0.6200\n",
      "Epoch 17/20\n",
      "10/10 [==============================] - 0s 42ms/step - loss: 0.0224 - accuracy: 0.9840 - val_loss: 6.8854 - val_accuracy: 0.6240\n",
      "Epoch 18/20\n",
      "10/10 [==============================] - 0s 39ms/step - loss: 0.0549 - accuracy: 0.9800 - val_loss: 6.9053 - val_accuracy: 0.6200\n",
      "Epoch 19/20\n",
      "10/10 [==============================] - 0s 43ms/step - loss: 0.0591 - accuracy: 0.9840 - val_loss: 6.9507 - val_accuracy: 0.6080\n",
      "Epoch 20/20\n",
      "10/10 [==============================] - 0s 38ms/step - loss: 0.0535 - accuracy: 0.9920 - val_loss: 6.9383 - val_accuracy: 0.5960\n",
      "INFO:tensorflow:Assets written to: unsafe3.hd5/assets\n",
      "Model parameters are within recommended ranges.\n",
      "\n",
      "INFO:tensorflow:Assets written to: unsafe4.hd5/assets\n"
     ]
    },
    {
     "name": "stderr",
     "output_type": "stream",
     "text": [
      "_obj_reference_counts_dict cannot be copied\n",
      "...<class 'TypeError'> error; cannot pickle '_thread.RLock' object\n",
      "_thread_local cannot be copied\n",
      "...<class 'TypeError'> error; cannot pickle '_thread._local' object\n",
      "_metrics_lock cannot be copied\n",
      "...<class 'TypeError'> error; cannot pickle '_thread.lock' object\n"
     ]
    },
    {
     "name": "stdout",
     "output_type": "stream",
     "text": [
      "INFO:tensorflow:Assets written to: ram://4f73cd97-aae1-41fb-a27a-aff68e226c23/assets\n"
     ]
    },
    {
     "name": "stderr",
     "output_type": "stream",
     "text": [
      "_trackable_saver cannot be copied\n",
      "...<class 'ValueError'> error; Unknown optimizer: DPOptimizerClass. Please ensure this object is passed to the `custom_objects` argument. See https://www.tensorflow.org/guide/keras/save_and_serialize#registering_the_custom_object for details.\n",
      "_self_unconditional_checkpoint_dependencies cannot be copied\n",
      "...<class 'TypeError'> error; cannot pickle '_thread.RLock' object\n",
      "_self_unconditional_dependency_names cannot be copied\n",
      "...<class 'TypeError'> error; cannot pickle '_thread.RLock' object\n",
      "compiled_loss cannot be copied\n",
      "...<class 'TypeError'> error; cannot pickle '_thread.RLock' object\n",
      "compiled_metrics cannot be copied\n",
      "...<class 'TypeError'> error; cannot pickle '_thread.RLock' object\n"
     ]
    },
    {
     "name": "stdout",
     "output_type": "stream",
     "text": [
      "INFO:tensorflow:Assets written to: ram://62d560ce-d8f9-4b81-9aa6-462af6a0b758/assets\n"
     ]
    },
    {
     "name": "stderr",
     "output_type": "stream",
     "text": [
      "history cannot be copied\n",
      "...<class 'ValueError'> error; Unknown optimizer: DPOptimizerClass. Please ensure this object is passed to the `custom_objects` argument. See https://www.tensorflow.org/guide/keras/save_and_serialize#registering_the_custom_object for details.\n",
      "train_function cannot be copied\n",
      "...<class 'TypeError'> error; cannot pickle '_thread.RLock' object\n",
      "test_function cannot be copied\n",
      "...<class 'TypeError'> error; cannot pickle '_thread.RLock' object\n",
      "train_tf_function cannot be copied\n",
      "...<class 'TypeError'> error; cannot pickle '_thread.RLock' object\n"
     ]
    },
    {
     "name": "stdout",
     "output_type": "stream",
     "text": [
      "<tensorflow_privacy.privacy.optimizers.dp_optimizer_keras.make_keras_optimizer_class.<locals>.DPOptimizerClass object at 0x7f74c6ebcdf0>\n",
      "<tensorflow_privacy.privacy.optimizers.dp_optimizer_keras.make_keras_optimizer_class.<locals>.DPOptimizerClass object at 0x7f74c6ebcdf0>\n",
      "DP-SGD with sampling rate = 10% and noise_multiplier = 0.5 iterated over 200 steps satisfies differential privacy with eps = 50.3 and delta = 1e-05.\n",
      "The optimal RDP order is 1.5.\n",
      "optimiser is type <class 'tensorflow_privacy.privacy.optimizers.dp_optimizer_keras.make_keras_optimizer_class.<locals>.DPOptimizerClass'>\n",
      "Error: user has not called fit() method or has deleted saved values.Recommendation: Do not release. It is True that the model will be DP because  value of optimizer._was_dp_gradients_called is True so DP variant of optimizer has been runepsilon is not sufficient for Differential privacy: 50.301726361197794. You must modify one or more of batch_size, epochs, number of samples.\n",
      " value of optimizer._was_dp_gradients_called is True so DP variant of optimizer has been run\n"
     ]
    }
   ],
   "source": [
    "# change another model params in an  unsafe way\n",
    "print(\"\\n***Test 5: researcher changes string and numeric params unsafely\")\n",
    "\n",
    "importlib.reload(safemodel.safemodel)\n",
    "importlib.reload(safemodel.classifiers.safekeras)\n",
    "from safemodel.classifiers.safekeras import Safe_KerasModel\n",
    "\n",
    "\n",
    "safeKerasModel4 = Safe_KerasModel(inputs= input_data, outputs=output,name=\"safekerasmodel3-test\", l2_norm_clip=0.9, noise_multipier=0.4, min_epsilon=9,delta=-1)\n",
    "safeKerasModel4.compile(loss=loss)\n",
    "#safeKerasModel3.optimizer=\"Adam\"\n",
    "safeKerasModel4.fit(Xt_member, \n",
    "                    yt_member, \n",
    "                    validation_data=(Xt_nonmember, yt_nonmember),\n",
    "                    epochs=epochs, \n",
    "                    batch_size=batch_size)\n",
    "safeKerasModel4.save(\"unsafe3.hd5\")\n",
    "safeKerasModel4.preliminary_check()\n",
    "safeKerasModel4.request_release(filename=\"unsafe4.hd5\")"
   ]
  },
  {
   "cell_type": "code",
   "execution_count": 27,
   "metadata": {},
   "outputs": [
    {
     "name": "stdout",
     "output_type": "stream",
     "text": [
      "\n",
      "***Test 6: researcher changes string and numeric params unsafely\n",
      "args is a <class 'tuple'> = ()  kwargs is a <class 'dict'>= {'inputs': <KerasTensor: shape=(None, 300) dtype=float32 (created by layer 'input_1')>, 'outputs': <KerasTensor: shape=(None, 2) dtype=float32 (created by layer 'dense_3')>, 'name': 'safekerasmodel6-test', 'optimizer': 'wobble'}\n",
      "inputs is in kwargs.keys\n",
      "KerasTensor(type_spec=TensorSpec(shape=(None, 300), dtype=tf.float32, name='input_1'), name='input_1', description=\"created by layer 'input_1'\")\n",
      "Model parameters are within recommended ranges.\n",
      "\n",
      "WARNING: model parameters may present a disclosure risk\n",
      "Unknown optimizer wobble - Changed parameter optimizer = 'DPKerasSGDOptimizer'\n",
      "DP optimizer used = False\n",
      "optimizer has been changed but fit() has not been rerun.\n",
      "(250, 300)\n",
      "DP-SGD with sampling rate = 10% and noise_multiplier = 0.5 iterated over 200 steps satisfies differential privacy with eps = 50.3 and delta = 1e-05.\n",
      "The optimal RDP order is 1.5.\n",
      "Current epsilon is 50.301726361197794\n",
      "The requirements for DP are not met, current epsilon is: 50.301726361197794. To attain true DP the following parameters can be changed:  Num Samples = 250, batch_size = 25, epochs = 20\n",
      "This will not result in a Differentially Private model do you want to continue [Y/N]y\n",
      "Continuing\n",
      "Epoch 1/20\n",
      "10/10 [==============================] - 3s 52ms/step - loss: 0.0327 - accuracy: 0.9920 - val_loss: 6.7791 - val_accuracy: 0.6040\n",
      "Epoch 2/20\n",
      "10/10 [==============================] - 0s 38ms/step - loss: 0.0222 - accuracy: 0.9920 - val_loss: 6.7641 - val_accuracy: 0.6240\n",
      "Epoch 3/20\n",
      "10/10 [==============================] - 0s 40ms/step - loss: 0.0368 - accuracy: 0.9920 - val_loss: 6.8318 - val_accuracy: 0.6120\n",
      "Epoch 4/20\n",
      "10/10 [==============================] - 0s 38ms/step - loss: 0.0568 - accuracy: 0.9920 - val_loss: 7.1418 - val_accuracy: 0.6000\n",
      "Epoch 5/20\n",
      "10/10 [==============================] - 0s 40ms/step - loss: 0.0642 - accuracy: 0.9840 - val_loss: 7.1545 - val_accuracy: 0.5840\n",
      "Epoch 6/20\n",
      "10/10 [==============================] - 0s 42ms/step - loss: 0.0681 - accuracy: 0.9880 - val_loss: 7.2626 - val_accuracy: 0.5880\n",
      "Epoch 7/20\n",
      "10/10 [==============================] - 0s 34ms/step - loss: 0.0589 - accuracy: 0.9920 - val_loss: 7.2329 - val_accuracy: 0.6040\n",
      "Epoch 8/20\n",
      "10/10 [==============================] - 0s 38ms/step - loss: 0.0650 - accuracy: 0.9840 - val_loss: 7.2865 - val_accuracy: 0.6000\n",
      "Epoch 9/20\n",
      "10/10 [==============================] - 0s 40ms/step - loss: 0.0586 - accuracy: 0.9880 - val_loss: 7.3479 - val_accuracy: 0.5880\n",
      "Epoch 10/20\n",
      "10/10 [==============================] - 0s 39ms/step - loss: 0.0983 - accuracy: 0.9840 - val_loss: 7.5426 - val_accuracy: 0.5720\n",
      "Epoch 11/20\n",
      "10/10 [==============================] - 0s 37ms/step - loss: 0.0767 - accuracy: 0.9800 - val_loss: 7.4065 - val_accuracy: 0.5920\n",
      "Epoch 12/20\n",
      "10/10 [==============================] - 0s 34ms/step - loss: 0.0682 - accuracy: 0.9920 - val_loss: 7.4317 - val_accuracy: 0.5760\n",
      "Epoch 13/20\n",
      "10/10 [==============================] - 0s 38ms/step - loss: 0.0605 - accuracy: 0.9920 - val_loss: 7.5446 - val_accuracy: 0.5880\n",
      "Epoch 14/20\n",
      "10/10 [==============================] - 0s 38ms/step - loss: 0.0619 - accuracy: 0.9920 - val_loss: 7.5503 - val_accuracy: 0.5880\n",
      "Epoch 15/20\n",
      "10/10 [==============================] - 0s 43ms/step - loss: 0.0403 - accuracy: 0.9880 - val_loss: 7.8032 - val_accuracy: 0.5880\n",
      "Epoch 16/20\n",
      "10/10 [==============================] - 0s 42ms/step - loss: 0.0364 - accuracy: 0.9920 - val_loss: 7.8417 - val_accuracy: 0.6000\n",
      "Epoch 17/20\n",
      "10/10 [==============================] - 0s 38ms/step - loss: 0.0314 - accuracy: 0.9960 - val_loss: 7.9475 - val_accuracy: 0.5880\n",
      "Epoch 18/20\n",
      "10/10 [==============================] - 0s 45ms/step - loss: 0.0476 - accuracy: 0.9880 - val_loss: 8.0719 - val_accuracy: 0.5920\n",
      "Epoch 19/20\n",
      "10/10 [==============================] - 0s 43ms/step - loss: 0.0349 - accuracy: 0.9880 - val_loss: 7.9236 - val_accuracy: 0.5920\n",
      "Epoch 20/20\n",
      "10/10 [==============================] - 0s 42ms/step - loss: 0.0160 - accuracy: 0.9920 - val_loss: 7.8261 - val_accuracy: 0.5920\n",
      "INFO:tensorflow:Assets written to: unsafe6.hd5/assets\n",
      "Model parameters are within recommended ranges.\n",
      "\n",
      "INFO:tensorflow:Assets written to: unsafe6.hd5/assets\n"
     ]
    },
    {
     "name": "stderr",
     "output_type": "stream",
     "text": [
      "_obj_reference_counts_dict cannot be copied\n",
      "...<class 'TypeError'> error; cannot pickle '_thread.RLock' object\n",
      "_thread_local cannot be copied\n",
      "...<class 'TypeError'> error; cannot pickle '_thread._local' object\n",
      "_metrics_lock cannot be copied\n",
      "...<class 'TypeError'> error; cannot pickle '_thread.lock' object\n"
     ]
    },
    {
     "name": "stdout",
     "output_type": "stream",
     "text": [
      "INFO:tensorflow:Assets written to: ram://c0bd3a08-6b2c-4a56-a535-0a01ca43ffb0/assets\n"
     ]
    },
    {
     "name": "stderr",
     "output_type": "stream",
     "text": [
      "_trackable_saver cannot be copied\n",
      "...<class 'ValueError'> error; Unknown optimizer: DPOptimizerClass. Please ensure this object is passed to the `custom_objects` argument. See https://www.tensorflow.org/guide/keras/save_and_serialize#registering_the_custom_object for details.\n",
      "_self_unconditional_checkpoint_dependencies cannot be copied\n",
      "...<class 'TypeError'> error; cannot pickle '_thread.RLock' object\n",
      "_self_unconditional_dependency_names cannot be copied\n",
      "...<class 'TypeError'> error; cannot pickle '_thread.RLock' object\n",
      "compiled_loss cannot be copied\n",
      "...<class 'TypeError'> error; cannot pickle '_thread.RLock' object\n",
      "compiled_metrics cannot be copied\n",
      "...<class 'TypeError'> error; cannot pickle '_thread.RLock' object\n"
     ]
    },
    {
     "name": "stdout",
     "output_type": "stream",
     "text": [
      "INFO:tensorflow:Assets written to: ram://a686748d-7f92-4335-9e50-4e63abfb3bd4/assets\n"
     ]
    },
    {
     "name": "stderr",
     "output_type": "stream",
     "text": [
      "history cannot be copied\n",
      "...<class 'ValueError'> error; Unknown optimizer: DPOptimizerClass. Please ensure this object is passed to the `custom_objects` argument. See https://www.tensorflow.org/guide/keras/save_and_serialize#registering_the_custom_object for details.\n",
      "train_function cannot be copied\n",
      "...<class 'TypeError'> error; cannot pickle '_thread.RLock' object\n",
      "test_function cannot be copied\n",
      "...<class 'TypeError'> error; cannot pickle '_thread.RLock' object\n",
      "train_tf_function cannot be copied\n",
      "...<class 'TypeError'> error; cannot pickle '_thread.RLock' object\n"
     ]
    },
    {
     "name": "stdout",
     "output_type": "stream",
     "text": [
      "<tensorflow_privacy.privacy.optimizers.dp_optimizer_keras.make_keras_optimizer_class.<locals>.DPOptimizerClass object at 0x7f74e2410d30>\n",
      "<tensorflow_privacy.privacy.optimizers.dp_optimizer_keras.make_keras_optimizer_class.<locals>.DPOptimizerClass object at 0x7f74e2410d30>\n",
      "DP-SGD with sampling rate = 10% and noise_multiplier = 0.5 iterated over 200 steps satisfies differential privacy with eps = 50.3 and delta = 1e-05.\n",
      "The optimal RDP order is 1.5.\n",
      "optimiser is type <class 'tensorflow_privacy.privacy.optimizers.dp_optimizer_keras.make_keras_optimizer_class.<locals>.DPOptimizerClass'>\n",
      "Error: user has not called fit() method or has deleted saved values.Recommendation: Do not release. It is True that the model will be DP because  value of optimizer._was_dp_gradients_called is True so DP variant of optimizer has been runepsilon is not sufficient for Differential privacy: 50.301726361197794. You must modify one or more of batch_size, epochs, number of samples.\n",
      " value of optimizer._was_dp_gradients_called is True so DP variant of optimizer has been run\n"
     ]
    }
   ],
   "source": [
    "importlib.reload(safemodel.safemodel)\n",
    "importlib.reload(safemodel.classifiers.safekeras)\n",
    "from safemodel.classifiers.safekeras import Safe_KerasModel\n",
    "\n",
    "# change another model params in an  unsafe way but tells preliminary_check() not to overwrite params\n",
    "print(\"\\n***Test 6: researcher changes string and numeric params unsafely\")\n",
    "safeKerasModel6 = Safe_KerasModel(inputs= input_data, outputs=output,name=\"safekerasmodel6-test\", optimizer=\"wobble\")\n",
    "safeKerasModel6.compile(loss=loss)\n",
    "safeKerasModel6.fit(Xt_member, \n",
    "                    yt_member, \n",
    "                    validation_data=(Xt_nonmember, yt_nonmember),\n",
    "                    epochs=epochs, \n",
    "                    batch_size=batch_size)\n",
    "safeKerasModel6.save(\"unsafe6.hd5\")\n",
    "\n",
    "safeKerasModel6.preliminary_check(apply_constraints=False)\n",
    "safeKerasModel6.request_release(filename=\"unsafe6.hd5\")"
   ]
  },
  {
   "cell_type": "code",
   "execution_count": 28,
   "metadata": {},
   "outputs": [
    {
     "name": "stdout",
     "output_type": "stream",
     "text": [
      "\n",
      "***Test 7: researcher changes string and numeric params unsafely\n",
      "args is a <class 'tuple'> = ()  kwargs is a <class 'dict'>= {'inputs': <KerasTensor: shape=(None, 300) dtype=float32 (created by layer 'input_1')>, 'outputs': <KerasTensor: shape=(None, 2) dtype=float32 (created by layer 'dense_3')>, 'name': 'safekerasmodel6-test', 'optimizer': 'Adam'}\n",
      "inputs is in kwargs.keys\n",
      "KerasTensor(type_spec=TensorSpec(shape=(None, 300), dtype=tf.float32, name='input_1'), name='input_1', description=\"created by layer 'input_1'\")\n",
      "Model parameters are within recommended ranges.\n",
      "\n",
      "WARNING: model parameters may present a disclosure risk\n",
      "Changed parameter optimizer = 'DPKerasAdamOptimizer'\n",
      "DP optimizer used = False\n",
      "optimizer has been changed but fit() has not been rerun.\n",
      "(250, 300)\n",
      "DP-SGD with sampling rate = 10% and noise_multiplier = 0.5 iterated over 200 steps satisfies differential privacy with eps = 50.3 and delta = 1e-05.\n",
      "The optimal RDP order is 1.5.\n",
      "Current epsilon is 50.301726361197794\n",
      "The requirements for DP are not met, current epsilon is: 50.301726361197794. To attain true DP the following parameters can be changed:  Num Samples = 250, batch_size = 25, epochs = 20\n",
      "This will not result in a Differentially Private model do you want to continue [Y/N]y\n",
      "Continuing\n",
      "Epoch 1/20\n",
      "10/10 [==============================] - 3s 54ms/step - loss: 212.5448 - accuracy: 0.5560 - val_loss: 406.9254 - val_accuracy: 0.5240\n",
      "Epoch 2/20\n",
      "10/10 [==============================] - 0s 41ms/step - loss: 742.7490 - accuracy: 0.5520 - val_loss: 1199.8678 - val_accuracy: 0.5120\n",
      "Epoch 3/20\n",
      "10/10 [==============================] - 0s 41ms/step - loss: 1166.9574 - accuracy: 0.5680 - val_loss: 2433.5593 - val_accuracy: 0.5200\n",
      "Epoch 4/20\n",
      "10/10 [==============================] - 0s 41ms/step - loss: 1504.9794 - accuracy: 0.6160 - val_loss: 2352.3228 - val_accuracy: 0.5520\n",
      "Epoch 5/20\n",
      "10/10 [==============================] - 0s 42ms/step - loss: 1371.6428 - accuracy: 0.6160 - val_loss: 2545.1257 - val_accuracy: 0.5600\n",
      "Epoch 6/20\n",
      "10/10 [==============================] - 0s 40ms/step - loss: 1886.5292 - accuracy: 0.6520 - val_loss: 2939.2690 - val_accuracy: 0.5840\n",
      "Epoch 7/20\n",
      "10/10 [==============================] - 0s 41ms/step - loss: 3305.5325 - accuracy: 0.5960 - val_loss: 4741.6914 - val_accuracy: 0.5800\n",
      "Epoch 8/20\n",
      "10/10 [==============================] - 0s 34ms/step - loss: 3559.3716 - accuracy: 0.6200 - val_loss: 6178.5039 - val_accuracy: 0.5280\n",
      "Epoch 9/20\n",
      "10/10 [==============================] - 0s 42ms/step - loss: 5334.7183 - accuracy: 0.5960 - val_loss: 6861.7344 - val_accuracy: 0.5080\n",
      "Epoch 10/20\n",
      "10/10 [==============================] - 0s 37ms/step - loss: 5665.3745 - accuracy: 0.6400 - val_loss: 6963.1836 - val_accuracy: 0.5120\n",
      "Epoch 11/20\n",
      "10/10 [==============================] - 0s 37ms/step - loss: 5210.4062 - accuracy: 0.5920 - val_loss: 9423.6973 - val_accuracy: 0.5280\n",
      "Epoch 12/20\n",
      "10/10 [==============================] - 0s 35ms/step - loss: 8715.7617 - accuracy: 0.6200 - val_loss: 11744.8242 - val_accuracy: 0.5920\n",
      "Epoch 13/20\n",
      "10/10 [==============================] - 0s 42ms/step - loss: 9179.7754 - accuracy: 0.6400 - val_loss: 14009.9248 - val_accuracy: 0.5640\n",
      "Epoch 14/20\n",
      "10/10 [==============================] - 0s 37ms/step - loss: 11755.4014 - accuracy: 0.5960 - val_loss: 18803.3145 - val_accuracy: 0.5360\n",
      "Epoch 15/20\n",
      "10/10 [==============================] - 0s 42ms/step - loss: 11026.3486 - accuracy: 0.6120 - val_loss: 21933.2051 - val_accuracy: 0.5360\n",
      "Epoch 16/20\n",
      "10/10 [==============================] - 0s 41ms/step - loss: 10621.3564 - accuracy: 0.6400 - val_loss: 24896.0176 - val_accuracy: 0.5360\n",
      "Epoch 17/20\n",
      "10/10 [==============================] - 0s 38ms/step - loss: 13099.5234 - accuracy: 0.6520 - val_loss: 29426.2246 - val_accuracy: 0.5200\n",
      "Epoch 18/20\n",
      "10/10 [==============================] - 0s 38ms/step - loss: 11395.8311 - accuracy: 0.6800 - val_loss: 21896.7598 - val_accuracy: 0.5240\n",
      "Epoch 19/20\n",
      "10/10 [==============================] - 0s 41ms/step - loss: 9920.9424 - accuracy: 0.6720 - val_loss: 22611.2695 - val_accuracy: 0.5200\n",
      "Epoch 20/20\n",
      "10/10 [==============================] - 0s 35ms/step - loss: 12976.6523 - accuracy: 0.6600 - val_loss: 24414.1230 - val_accuracy: 0.5240\n",
      "INFO:tensorflow:Assets written to: unsafe7.hd5/assets\n",
      "Model parameters are within recommended ranges.\n",
      "\n",
      "INFO:tensorflow:Assets written to: unsafe7.hd5/assets\n"
     ]
    },
    {
     "name": "stderr",
     "output_type": "stream",
     "text": [
      "_obj_reference_counts_dict cannot be copied\n",
      "...<class 'TypeError'> error; cannot pickle '_thread.RLock' object\n",
      "_thread_local cannot be copied\n",
      "...<class 'TypeError'> error; cannot pickle '_thread._local' object\n",
      "_metrics_lock cannot be copied\n",
      "...<class 'TypeError'> error; cannot pickle '_thread.lock' object\n"
     ]
    },
    {
     "name": "stdout",
     "output_type": "stream",
     "text": [
      "INFO:tensorflow:Assets written to: ram://36735960-9efd-41ef-8030-cd212fdc98e1/assets\n"
     ]
    },
    {
     "name": "stderr",
     "output_type": "stream",
     "text": [
      "_trackable_saver cannot be copied\n",
      "...<class 'ValueError'> error; Unknown optimizer: DPOptimizerClass. Please ensure this object is passed to the `custom_objects` argument. See https://www.tensorflow.org/guide/keras/save_and_serialize#registering_the_custom_object for details.\n",
      "_self_unconditional_checkpoint_dependencies cannot be copied\n",
      "...<class 'TypeError'> error; cannot pickle '_thread.RLock' object\n",
      "_self_unconditional_dependency_names cannot be copied\n",
      "...<class 'TypeError'> error; cannot pickle '_thread.RLock' object\n",
      "compiled_loss cannot be copied\n",
      "...<class 'TypeError'> error; cannot pickle '_thread.RLock' object\n",
      "compiled_metrics cannot be copied\n",
      "...<class 'TypeError'> error; cannot pickle '_thread.RLock' object\n"
     ]
    },
    {
     "name": "stdout",
     "output_type": "stream",
     "text": [
      "INFO:tensorflow:Assets written to: ram://bdd58e1e-1d9d-4c44-bec1-4ba5c945d285/assets\n"
     ]
    },
    {
     "name": "stderr",
     "output_type": "stream",
     "text": [
      "history cannot be copied\n",
      "...<class 'ValueError'> error; Unknown optimizer: DPOptimizerClass. Please ensure this object is passed to the `custom_objects` argument. See https://www.tensorflow.org/guide/keras/save_and_serialize#registering_the_custom_object for details.\n",
      "train_function cannot be copied\n",
      "...<class 'TypeError'> error; cannot pickle '_thread.RLock' object\n",
      "test_function cannot be copied\n",
      "...<class 'TypeError'> error; cannot pickle '_thread.RLock' object\n",
      "train_tf_function cannot be copied\n",
      "...<class 'TypeError'> error; cannot pickle '_thread.RLock' object\n"
     ]
    },
    {
     "name": "stdout",
     "output_type": "stream",
     "text": [
      "<tensorflow_privacy.privacy.optimizers.dp_optimizer_keras.make_keras_optimizer_class.<locals>.DPOptimizerClass object at 0x7f74cab8b760>\n",
      "<tensorflow_privacy.privacy.optimizers.dp_optimizer_keras.make_keras_optimizer_class.<locals>.DPOptimizerClass object at 0x7f74cab8b760>\n",
      "DP-SGD with sampling rate = 10% and noise_multiplier = 0.5 iterated over 200 steps satisfies differential privacy with eps = 50.3 and delta = 1e-05.\n",
      "The optimal RDP order is 1.5.\n",
      "optimiser is type <class 'tensorflow_privacy.privacy.optimizers.dp_optimizer_keras.make_keras_optimizer_class.<locals>.DPOptimizerClass'>\n",
      "Error: user has not called fit() method or has deleted saved values.Recommendation: Do not release. It is True that the model will be DP because  value of optimizer._was_dp_gradients_called is True so DP variant of optimizer has been runepsilon is not sufficient for Differential privacy: 50.301726361197794. You must modify one or more of batch_size, epochs, number of samples.\n",
      " value of optimizer._was_dp_gradients_called is True so DP variant of optimizer has been run\n"
     ]
    }
   ],
   "source": [
    "importlib.reload(safemodel.safemodel)\n",
    "importlib.reload(safemodel.classifiers.safekeras)\n",
    "from safemodel.classifiers.safekeras import Safe_KerasModel\n",
    "\n",
    "# change another model params in an  unsafe way but tells preliminary_check() not to overwrite params\n",
    "print(\"\\n***Test 7: researcher changes string and numeric params unsafely\")\n",
    "safeKerasModel6 = Safe_KerasModel(inputs= input_data, outputs=output,name=\"safekerasmodel6-test\", optimizer=\"Adam\")\n",
    "safeKerasModel6.compile(loss=loss)\n",
    "safeKerasModel6.fit(Xt_member, \n",
    "                    yt_member, \n",
    "                    validation_data=(Xt_nonmember, yt_nonmember),\n",
    "                    epochs=epochs, \n",
    "                    batch_size=batch_size)\n",
    "safeKerasModel6.save(\"unsafe7.hd5\")\n",
    "\n",
    "safeKerasModel6.preliminary_check(apply_constraints=False)\n",
    "safeKerasModel6.request_release(filename=\"unsafe7.hd5\")"
   ]
  },
  {
   "cell_type": "code",
   "execution_count": null,
   "metadata": {},
   "outputs": [],
   "source": []
  },
  {
   "cell_type": "code",
   "execution_count": null,
   "metadata": {},
   "outputs": [],
   "source": []
  },
  {
   "cell_type": "code",
   "execution_count": null,
   "metadata": {},
   "outputs": [],
   "source": []
  },
  {
   "cell_type": "code",
   "execution_count": null,
   "metadata": {},
   "outputs": [],
   "source": []
  },
  {
   "cell_type": "code",
   "execution_count": null,
   "metadata": {},
   "outputs": [],
   "source": []
  }
 ],
 "metadata": {
  "kernelspec": {
   "display_name": "Python 3 (ipykernel)",
   "language": "python",
   "name": "python3"
  },
  "language_info": {
   "codemirror_mode": {
    "name": "ipython",
    "version": 3
   },
   "file_extension": ".py",
   "mimetype": "text/x-python",
   "name": "python",
   "nbconvert_exporter": "python",
   "pygments_lexer": "ipython3",
   "version": "3.9.7"
  }
 },
 "nbformat": 4,
 "nbformat_minor": 4
}
