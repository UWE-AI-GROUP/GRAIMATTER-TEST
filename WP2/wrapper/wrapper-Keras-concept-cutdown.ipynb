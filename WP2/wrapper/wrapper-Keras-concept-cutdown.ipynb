{
 "cells": [
  {
   "cell_type": "code",
   "execution_count": 1,
   "metadata": {},
   "outputs": [],
   "source": [
    "import sys\n",
    "import os\n",
    "\n",
    "ROOT_DIR = os.path.dirname(os.path.dirname(os.path.abspath(\"\")))\n",
    "sys.path.append(ROOT_DIR)"
   ]
  },
  {
   "cell_type": "code",
   "execution_count": 2,
   "metadata": {},
   "outputs": [
    {
     "name": "stderr",
     "output_type": "stream",
     "text": [
      "2022-05-13 10:07:07.901096: W tensorflow/stream_executor/platform/default/dso_loader.cc:64] Could not load dynamic library 'libcudart.so.11.0'; dlerror: libcudart.so.11.0: cannot open shared object file: No such file or directory\n",
      "2022-05-13 10:07:07.901169: I tensorflow/stream_executor/cuda/cudart_stub.cc:29] Ignore above cudart dlerror if you do not have a GPU set up on your machine.\n"
     ]
    }
   ],
   "source": [
    "import numpy as np\n",
    "import matplotlib.pyplot as plt\n",
    "\n",
    "%matplotlib inline\n",
    "\n",
    "# Scikit-learn utils\n",
    "from sklearn.model_selection import train_test_split\n",
    "from sklearn.datasets import make_classification, make_moons\n",
    "from sklearn.metrics import ConfusionMatrixDisplay\n",
    "from sklearn.metrics import confusion_matrix, classification_report, roc_curve, auc\n",
    "\n",
    "# Tensorflow imports\n",
    "import tensorflow as tf\n",
    "from tensorflow.keras.models import Model\n",
    "from tensorflow.keras.layers import Input, Dense, Dropout\n",
    "\n",
    "# Classifiers for attack models\n",
    "from sklearn.linear_model import LogisticRegression\n",
    "from sklearn.neural_network import MLPClassifier\n"
   ]
  },
  {
   "cell_type": "code",
   "execution_count": 3,
   "metadata": {},
   "outputs": [],
   "source": [
    "#import t=privachy version \n",
    "import tensorflow_privacy\n",
    "\n",
    "from tensorflow_privacy.privacy.analysis import compute_dp_sgd_privacy\n"
   ]
  },
  {
   "cell_type": "markdown",
   "metadata": {},
   "source": [
    "### Definition of the datasets\n",
    "1. We draw data points from a distribution.\n",
    "2. We split these data points into the target dataset and a shadow dataset drawn from the same distribution.\n",
    "3. We also draw a dataset from a different distribution.\n",
    "\n",
    "**NOTE**. ***I make datasets with few samples but with many features to force the target model to overfit.***\n",
    "\n",
    "\n",
    "***NOTE JIM: had to make batch_size 25 so DP optimizer would run with same hyperparams"
   ]
  },
  {
   "cell_type": "code",
   "execution_count": 4,
   "metadata": {},
   "outputs": [],
   "source": [
    "n_classes = 2\n",
    "\n",
    "# (X,y): Original distribution\n",
    "X, y = make_classification(n_samples=1000,\n",
    "                           n_classes=n_classes, \n",
    "                           n_features=300,\n",
    "                           n_informative=300,\n",
    "                           n_redundant=0,\n",
    "                           n_repeated=0,\n",
    "                           random_state=15\n",
    "                          )\n",
    "# One-hot encoding of the label\n",
    "y = np.eye(n_classes)[y]\n",
    "\n",
    "# (Xt, yt) is the target dataset, owned by the TRE and drawn from the (X,y) distribution\n",
    "# (Xs, ys) is a shadow dataset drawn from the (X,y) distribution\n",
    "Xt, Xs, yt, ys = train_test_split(X, y, test_size=0.50, random_state=15)\n",
    "\n",
    "# (Xd, yd) is a shadow dataset, drawn from a different distribution (different seed)\n",
    "Xd, yd = make_classification(n_samples=1000,\n",
    "                           n_classes=n_classes, \n",
    "                           n_features=300,\n",
    "                           n_informative=300,\n",
    "                           n_redundant=0,\n",
    "                           n_repeated=0,\n",
    "                           random_state=42\n",
    "                          )\n",
    "yd = np.eye(n_classes)[yd]\n",
    "\n",
    "\n"
   ]
  },
  {
   "cell_type": "code",
   "execution_count": 5,
   "metadata": {},
   "outputs": [],
   "source": [
    "# Split into train (member) and test (non-member) datasets\n",
    "# Set shuffle to False so that Xt_membership is consistent with Xt, otherwise\n",
    "# we need to stack Xt_member and Xt_nonmember again to get a consistent Xt.\n",
    "Xt_member, Xt_nonmember, yt_member, yt_nonmember = train_test_split(Xt, yt, test_size=0.5, shuffle=False)\n",
    "\n",
    "# Set membership status for future tests\n",
    "Xt_membership = np.vstack(\n",
    "    (\n",
    "        np.ones((Xt_member.shape[0], 1), np.uint8),\n",
    "        np.zeros((Xt_nonmember.shape[0], 1), np.uint8)\n",
    "    )\n",
    ").flatten()"
   ]
  },
  {
   "cell_type": "markdown",
   "metadata": {},
   "source": [
    "### Define the target model architecture\n",
    "\n",
    "*Again, I'm using a rather big model (for the classification task) to favour overfitting.*"
   ]
  },
  {
   "cell_type": "code",
   "execution_count": 6,
   "metadata": {},
   "outputs": [
    {
     "name": "stderr",
     "output_type": "stream",
     "text": [
      "2022-05-13 10:07:11.360722: W tensorflow/stream_executor/platform/default/dso_loader.cc:64] Could not load dynamic library 'libcuda.so.1'; dlerror: libcuda.so.1: cannot open shared object file: No such file or directory\n",
      "2022-05-13 10:07:11.360763: W tensorflow/stream_executor/cuda/cuda_driver.cc:269] failed call to cuInit: UNKNOWN ERROR (303)\n",
      "2022-05-13 10:07:11.360794: I tensorflow/stream_executor/cuda/cuda_diagnostics.cc:156] kernel driver does not appear to be running on this host (ubuntu): /proc/driver/nvidia/version does not exist\n",
      "2022-05-13 10:07:11.361141: I tensorflow/core/platform/cpu_feature_guard.cc:151] This TensorFlow binary is optimized with oneAPI Deep Neural Network Library (oneDNN) to use the following CPU instructions in performance-critical operations:  AVX2 FMA\n",
      "To enable them in other operations, rebuild TensorFlow with the appropriate compiler flags.\n"
     ]
    }
   ],
   "source": [
    "# Define target model\n",
    "# Tensorflow model (MLP) (making it big to make it overfit)\n",
    "\n",
    "input_data = Input(shape = Xt_member[0].shape)\n",
    "x = Dense(128, activation='relu')(input_data)\n",
    "x = Dense(128, activation='relu')(x)\n",
    "x = Dense(64, activation='relu')(x)\n",
    "output = Dense(2, activation='softmax')(x)"
   ]
  },
  {
   "cell_type": "markdown",
   "metadata": {},
   "source": [
    "## Now try the SafeKerasModel version"
   ]
  },
  {
   "cell_type": "code",
   "execution_count": 7,
   "metadata": {
    "scrolled": true
   },
   "outputs": [],
   "source": [
    "import importlib\n",
    "import safemodel\n",
    "from safemodel.classifiers.safekeras import Safe_KerasModel\n",
    "\n",
    "\n",
    "\n",
    "importlib.reload(safemodel.safemodel)\n",
    "importlib.reload(safemodel.classifiers.safekeras)\n",
    "from safemodel.classifiers.safekeras import Safe_KerasModel\n",
    "\n"
   ]
  },
  {
   "cell_type": "code",
   "execution_count": 8,
   "metadata": {},
   "outputs": [
    {
     "name": "stdout",
     "output_type": "stream",
     "text": [
      "args is a <class 'tuple'> = ()  kwargs is a <class 'dict'>= {'inputs': <KerasTensor: shape=(None, 300) dtype=float32 (created by layer 'input_1')>, 'outputs': <KerasTensor: shape=(None, 2) dtype=float32 (created by layer 'dense_3')>, 'name': 'safekeras-test'}\n",
      "WARNING: model parameters may present a disclosure risk:\n",
      "- parameter optimizer = None identified as different type to recommendation of tensorflow_privacy.privacy.optimizers.dp_optimizer_keras.make_keras_optimizer_class.<locals>.DPOptimizerClass.Nothing currently implemented to change type of parameter optimizer from NoneType to tensorflow_privacy.privacy.optimizers.dp_optimizer_keras.make_keras_optimizer_class.<locals>.DPOptimizerClass.\n",
      "\n"
     ]
    }
   ],
   "source": [
    "optimizer=None\n",
    "safeModel = Safe_KerasModel(inputs= input_data, outputs=output,name=\"safekeras-test\")\n"
   ]
  },
  {
   "cell_type": "code",
   "execution_count": 9,
   "metadata": {},
   "outputs": [],
   "source": [
    "#safeModel.__dict__\n"
   ]
  },
  {
   "cell_type": "code",
   "execution_count": 10,
   "metadata": {},
   "outputs": [],
   "source": [
    "loss = tf.keras.losses.CategoricalCrossentropy(\n",
    "    from_logits=False, reduction=tf.losses.Reduction.NONE)\n",
    "\n",
    "\n",
    "safeModel.compile(loss=loss)#optimizer='adam', loss='categorical_crossentropy', metrics=['accuracy'])\n",
    "\n",
    "\n"
   ]
  },
  {
   "cell_type": "code",
   "execution_count": 11,
   "metadata": {},
   "outputs": [
    {
     "name": "stdout",
     "output_type": "stream",
     "text": [
      "optimiser is type <class 'tensorflow_privacy.privacy.optimizers.dp_optimizer_keras.make_keras_optimizer_class.<locals>.DPOptimizerClass'>\n",
      " It is True that the moddel will be DP because optimiser does  contain key _was_dp_gradients_called so should be DP.\n"
     ]
    }
   ],
   "source": [
    "theType= type(safeModel.optimizer)\n",
    "print(f'optimiser is type {theType}')\n",
    "\n",
    "dpused,reason = safeModel.check_optimizer_is_DP(safeModel.optimizer)\n",
    "print(f' It is {dpused} that the moddel will be DP because {reason}')"
   ]
  },
  {
   "cell_type": "code",
   "execution_count": 12,
   "metadata": {},
   "outputs": [
    {
     "name": "stdout",
     "output_type": "stream",
     "text": [
      "(250, 300)\n",
      "DP-SGD with sampling rate = 10% and noise_multiplier = 0.5 iterated over 200 steps satisfies differential privacy with eps = 50.3 and delta = 1e-05.\n",
      "The optimal RDP order is 1.5.\n",
      "Current epsilon is 50.301726361197794\n",
      "this is not going to be ok do you want to continue [Y/N]y\n",
      "Continuing\n",
      "Epoch 1/20\n",
      "10/10 [==============================] - 4s 122ms/step - loss: 4.1732 - accuracy: 0.5120 - val_loss: 2.7350 - val_accuracy: 0.5280\n",
      "Epoch 2/20\n",
      "10/10 [==============================] - 1s 52ms/step - loss: 2.7893 - accuracy: 0.5600 - val_loss: 2.4135 - val_accuracy: 0.5480\n",
      "Epoch 3/20\n",
      "10/10 [==============================] - 1s 47ms/step - loss: 2.2717 - accuracy: 0.5960 - val_loss: 2.3006 - val_accuracy: 0.5720\n",
      "Epoch 4/20\n",
      "10/10 [==============================] - 1s 50ms/step - loss: 1.9862 - accuracy: 0.6520 - val_loss: 2.1349 - val_accuracy: 0.5600\n",
      "Epoch 5/20\n",
      "10/10 [==============================] - 1s 54ms/step - loss: 1.7455 - accuracy: 0.6880 - val_loss: 2.2286 - val_accuracy: 0.5680\n",
      "Epoch 6/20\n",
      "10/10 [==============================] - 0s 51ms/step - loss: 1.5849 - accuracy: 0.7200 - val_loss: 2.3804 - val_accuracy: 0.5880\n",
      "Epoch 7/20\n",
      "10/10 [==============================] - 0s 49ms/step - loss: 1.4869 - accuracy: 0.7320 - val_loss: 2.1508 - val_accuracy: 0.5880\n",
      "Epoch 8/20\n",
      "10/10 [==============================] - 1s 62ms/step - loss: 1.3117 - accuracy: 0.7600 - val_loss: 2.1727 - val_accuracy: 0.5800\n",
      "Epoch 9/20\n",
      "10/10 [==============================] - 0s 53ms/step - loss: 1.1188 - accuracy: 0.7880 - val_loss: 2.1657 - val_accuracy: 0.5840\n",
      "Epoch 10/20\n",
      "10/10 [==============================] - 0s 41ms/step - loss: 1.0726 - accuracy: 0.8040 - val_loss: 2.2482 - val_accuracy: 0.5800\n",
      "Epoch 11/20\n",
      "10/10 [==============================] - 1s 58ms/step - loss: 0.9980 - accuracy: 0.8080 - val_loss: 2.2545 - val_accuracy: 0.5840\n",
      "Epoch 12/20\n",
      "10/10 [==============================] - 1s 83ms/step - loss: 0.8647 - accuracy: 0.8240 - val_loss: 2.2537 - val_accuracy: 0.5760\n",
      "Epoch 13/20\n",
      "10/10 [==============================] - 0s 44ms/step - loss: 0.8889 - accuracy: 0.8440 - val_loss: 2.2621 - val_accuracy: 0.6000\n",
      "Epoch 14/20\n",
      "10/10 [==============================] - 1s 78ms/step - loss: 0.7947 - accuracy: 0.8560 - val_loss: 2.1676 - val_accuracy: 0.6320\n",
      "Epoch 15/20\n",
      "10/10 [==============================] - 0s 49ms/step - loss: 0.6949 - accuracy: 0.8680 - val_loss: 2.1497 - val_accuracy: 0.6120\n",
      "Epoch 16/20\n",
      "10/10 [==============================] - 1s 64ms/step - loss: 0.5951 - accuracy: 0.8640 - val_loss: 2.0731 - val_accuracy: 0.6080\n",
      "Epoch 17/20\n",
      "10/10 [==============================] - 1s 58ms/step - loss: 0.5635 - accuracy: 0.9000 - val_loss: 2.1898 - val_accuracy: 0.6040\n",
      "Epoch 18/20\n",
      "10/10 [==============================] - 0s 53ms/step - loss: 0.5411 - accuracy: 0.9000 - val_loss: 2.2757 - val_accuracy: 0.5760\n",
      "Epoch 19/20\n",
      "10/10 [==============================] - 1s 68ms/step - loss: 0.5531 - accuracy: 0.9000 - val_loss: 2.2111 - val_accuracy: 0.5920\n",
      "Epoch 20/20\n",
      "10/10 [==============================] - 1s 61ms/step - loss: 0.5223 - accuracy: 0.9120 - val_loss: 2.1417 - val_accuracy: 0.6120\n"
     ]
    },
    {
     "data": {
      "image/png": "[encoded data removed]",
      "text/plain": [
       "<Figure size 432x288 with 1 Axes>"
      ]
     },
     "metadata": {
      "needs_background": "light"
     },
     "output_type": "display_data"
    }
   ],
   "source": [
    "epochs = 20\n",
    "batch_size = 25\n",
    "\n",
    "r_DP = safeModel.fit(Xt_member, \n",
    "              yt_member, \n",
    "              validation_data=(Xt_nonmember, yt_nonmember),\n",
    "              epochs=epochs, \n",
    "              batch_size=batch_size\n",
    ")  \n",
    "\n",
    "\n",
    "plt.plot(r_DP.history['accuracy'], label='accuracy')\n",
    "plt.plot(r_DP.history['val_accuracy'], label='validation accuracy')\n",
    "plt.legend()\n",
    "plt.show() \n"
   ]
  },
  {
   "cell_type": "code",
   "execution_count": 13,
   "metadata": {},
   "outputs": [
    {
     "name": "stdout",
     "output_type": "stream",
     "text": [
      "optimiser is type <class 'tensorflow_privacy.privacy.optimizers.dp_optimizer_keras.make_keras_optimizer_class.<locals>.DPOptimizerClass'>\n",
      " It is True that the model will be DP because  value of optimizer._was_dp_gradients_called is True so DP variant of optimiser has been run\n"
     ]
    }
   ],
   "source": [
    "theType= type(safeModel.optimizer)\n",
    "print(f'optimiser is type {theType}')\n",
    "\n",
    "dpused,reason = safeModel.check_DP_used(safeModel.optimizer)\n",
    "print(f' It is {dpused} that the model will be DP because {reason}')"
   ]
  },
  {
   "cell_type": "markdown",
   "metadata": {},
   "source": [
    "## compute privacy"
   ]
  },
  {
   "cell_type": "code",
   "execution_count": 14,
   "metadata": {},
   "outputs": [
    {
     "name": "stdout",
     "output_type": "stream",
     "text": [
      "dataset has 500 entries so batch size is 5.0%\n",
      "DP-SGD with sampling rate = 5% and noise_multiplier = 0.5 iterated over 500 steps satisfies differential privacy with eps = 43.9 and delta = 1e-05.\n",
      "The optimal RDP order is 1.5.\n",
      "with these settings privacy = (43.85228589564216, 1.5)\n"
     ]
    }
   ],
   "source": [
    "print(f'dataset has {Xt.shape[0]} entries so batch size is {100*safeModel.batch_size/Xt.shape[0]}%')\n",
    "privacy = compute_dp_sgd_privacy.compute_dp_sgd_privacy(n=Xt.shape[0],\n",
    "                                              batch_size=safeModel.batch_size,\n",
    "                                              noise_multiplier=safeModel.noise_multiplier,\n",
    "                                              epochs=25,#epochs,\n",
    "                                              delta=1e-5)\n",
    "print(f'with these settings privacy = {privacy}')"
   ]
  },
  {
   "cell_type": "code",
   "execution_count": 15,
   "metadata": {},
   "outputs": [
    {
     "name": "stderr",
     "output_type": "stream",
     "text": [
      "2022-05-13 10:07:30.663239: W tensorflow/python/util/util.cc:368] Sets are not currently considered sequences, but this may change in the future, so consider avoiding using them.\n"
     ]
    },
    {
     "name": "stdout",
     "output_type": "stream",
     "text": [
      "INFO:tensorflow:Assets written to: safekeras.sav/assets\n"
     ]
    }
   ],
   "source": [
    "safeModel.save('safekeras.sav')"
   ]
  },
  {
   "cell_type": "code",
   "execution_count": 16,
   "metadata": {},
   "outputs": [
    {
     "name": "stdout",
     "output_type": "stream",
     "text": [
      "WARNING: model parameters may present a disclosure risk:\n",
      "- parameter optimizer = <tensorflow_privacy.privacy.optimizers.dp_optimizer_keras.make_keras_optimizer_class.<locals>.DPOptimizerClass object at 0x7ff5ef734a30> identified as different type to recommendation of tensorflow_privacy.privacy.optimizers.dp_optimizer_keras.make_keras_optimizer_class.<locals>.DPOptimizerClass.\n"
     ]
    },
    {
     "data": {
      "text/plain": [
       "('WARNING: model parameters may present a disclosure risk:\\n- parameter optimizer = <tensorflow_privacy.privacy.optimizers.dp_optimizer_keras.make_keras_optimizer_class.<locals>.DPOptimizerClass object at 0x7ff5ef734a30> identified as different type to recommendation of tensorflow_privacy.privacy.optimizers.dp_optimizer_keras.make_keras_optimizer_class.<locals>.DPOptimizerClass.',\n",
       " True)"
      ]
     },
     "execution_count": 16,
     "metadata": {},
     "output_type": "execute_result"
    }
   ],
   "source": [
    "safeModel.preliminary_check()"
   ]
  },
  {
   "cell_type": "code",
   "execution_count": 17,
   "metadata": {},
   "outputs": [
    {
     "name": "stdout",
     "output_type": "stream",
     "text": [
      "thing associated with key _self_setattr_tracking has type <class 'bool'>\n",
      "thing associated with key _obj_reference_counts_dict has type <class 'keras.utils.object_identity.ObjectIdentityDictionary'>\n",
      "thing associated with key inputs has type <class 'list'>\n",
      "thing associated with key outputs has type <class 'list'>\n",
      "thing associated with key _is_model_for_instrumentation has type <class 'bool'>\n",
      "thing associated with key _instrumented_keras_api has type <class 'bool'>\n",
      "thing associated with key _instrumented_keras_layer_class has type <class 'bool'>\n",
      "thing associated with key _instrumented_keras_model_class has type <class 'bool'>\n",
      "thing associated with key _trainable has type <class 'bool'>\n",
      "thing associated with key _stateful has type <class 'bool'>\n",
      "thing associated with key built has type <class 'bool'>\n",
      "thing associated with key _input_spec has type <class 'NoneType'>\n",
      "thing associated with key _build_input_shape has type <class 'tensorflow.python.framework.tensor_shape.TensorShape'>\n",
      "thing associated with key _saved_model_inputs_spec has type <class 'tensorflow.python.framework.tensor_spec.TensorSpec'>\n",
      "thing associated with key _saved_model_arg_spec has type <class 'tuple'>\n",
      "thing associated with key _supports_masking has type <class 'bool'>\n",
      "thing associated with key _name has type <class 'str'>\n",
      "thing associated with key _activity_regularizer has type <class 'NoneType'>\n",
      "thing associated with key _trainable_weights has type <class 'list'>\n",
      "thing associated with key _non_trainable_weights has type <class 'list'>\n",
      "thing associated with key _updates has type <class 'list'>\n",
      "thing associated with key _thread_local has type <class '_thread._local'>\n",
      "thing associated with key _callable_losses has type <class 'list'>\n",
      "thing associated with key _losses has type <class 'list'>\n",
      "thing associated with key _metrics has type <class 'list'>\n",
      "thing associated with key _metrics_lock has type <class '_thread.lock'>\n",
      "thing associated with key _dtype_policy has type <class 'keras.mixed_precision.policy.Policy'>\n",
      "thing associated with key _compute_dtype_object has type <class 'tensorflow.python.framework.dtypes.DType'>\n",
      "thing associated with key _autocast has type <class 'bool'>\n",
      "thing associated with key _self_tracked_trackables has type <class 'list'>\n",
      "thing associated with key _inbound_nodes_value has type <class 'list'>\n",
      "thing associated with key _outbound_nodes_value has type <class 'list'>\n",
      "thing associated with key _expects_training_arg has type <class 'bool'>\n",
      "thing associated with key _default_training_arg has type <class 'NoneType'>\n",
      "thing associated with key _expects_mask_arg has type <class 'bool'>\n",
      "thing associated with key _dynamic has type <class 'bool'>\n",
      "thing associated with key _initial_weights has type <class 'NoneType'>\n",
      "thing associated with key _auto_track_sub_layers has type <class 'bool'>\n",
      "thing associated with key _preserve_input_structure_in_config has type <class 'bool'>\n",
      "thing associated with key _outer_name_scope has type <class 'str'>\n",
      "thing associated with key _is_graph_network has type <class 'bool'>\n",
      "thing associated with key input_names has type <class 'list'>\n",
      "thing associated with key output_names has type <class 'list'>\n",
      "thing associated with key _compute_output_and_mask_jointly has type <class 'bool'>\n",
      "thing associated with key _distribution_strategy has type <class 'NoneType'>\n",
      "thing associated with key _cluster_coordinator has type <class 'NoneType'>\n",
      "thing associated with key _compiled_trainable_state has type <class 'weakref.WeakKeyDictionary'>\n",
      "thing associated with key _training_state has type <class 'NoneType'>\n",
      "thing associated with key _trackable_saver has type <class 'tensorflow.python.training.tracking.util.TrackableSaver'>\n",
      "thing associated with key _steps_per_execution has type <class 'tensorflow.python.ops.resource_variable_ops.ResourceVariable'>\n",
      "thing associated with key _train_counter has type <class 'tensorflow.python.ops.resource_variable_ops.ResourceVariable'>\n",
      "thing associated with key _test_counter has type <class 'tensorflow.python.ops.resource_variable_ops.ResourceVariable'>\n",
      "thing associated with key _predict_counter has type <class 'tensorflow.python.ops.resource_variable_ops.ResourceVariable'>\n",
      "thing associated with key _base_model_initialized has type <class 'bool'>\n",
      "thing associated with key _nested_inputs has type <class 'keras.engine.keras_tensor.KerasTensor'>\n",
      "thing associated with key _nested_outputs has type <class 'keras.engine.keras_tensor.KerasTensor'>\n",
      "thing associated with key _enable_dict_to_input_mapping has type <class 'bool'>\n",
      "thing associated with key _input_layers has type <class 'list'>\n",
      "thing associated with key _output_layers has type <class 'list'>\n",
      "thing associated with key _input_coordinates has type <class 'list'>\n",
      "thing associated with key _output_coordinates has type <class 'list'>\n",
      "thing associated with key _output_mask_cache has type <class 'dict'>\n",
      "thing associated with key _output_tensor_cache has type <class 'dict'>\n",
      "thing associated with key _output_shape_cache has type <class 'dict'>\n",
      "thing associated with key _network_nodes has type <class 'set'>\n",
      "thing associated with key _nodes_by_depth has type <class 'collections.defaultdict'>\n",
      "thing associated with key _layer_call_argspecs has type <class 'dict'>\n",
      "thing associated with key _feed_input_names has type <class 'list'>\n",
      "thing associated with key _feed_inputs has type <class 'list'>\n",
      "thing associated with key _feed_input_shapes has type <class 'list'>\n",
      "thing associated with key _tensor_usage_count has type <class 'collections.Counter'>\n",
      "thing associated with key model has type <class 'NoneType'>\n",
      "thing associated with key saved_model has type <class 'NoneType'>\n",
      "thing associated with key model_save_file has type <class 'str'>\n",
      "thing associated with key _self_unconditional_checkpoint_dependencies has type <class 'list'>\n",
      "thing associated with key _self_unconditional_dependency_names has type <class 'dict'>\n",
      "thing associated with key _self_unconditional_deferred_dependencies has type <class 'dict'>\n",
      "thing associated with key _self_update_uid has type <class 'int'>\n",
      "thing associated with key _self_name_based_restores has type <class 'set'>\n",
      "thing associated with key _self_saveable_object_factories has type <class 'dict'>\n",
      "thing associated with key ignore_items has type <class 'tensorflow.python.training.tracking.data_structures.ListWrapper'>\n",
      "thing associated with key examine_seperately_items has type <class 'tensorflow.python.training.tracking.data_structures.ListWrapper'>\n",
      "thing associated with key filename has type <class 'str'>\n",
      "thing associated with key researcher has type <class 'str'>\n",
      "thing associated with key model_type has type <class 'str'>\n",
      "thing associated with key min_epsilon has type <class 'int'>\n",
      "thing associated with key delta has type <class 'float'>\n",
      "thing associated with key batch_size has type <class 'int'>\n",
      "thing associated with key l2_norm_clip has type <class 'float'>\n",
      "thing associated with key noise_multiplier has type <class 'float'>\n",
      "thing associated with key num_microbatches has type <class 'NoneType'>\n",
      "thing associated with key learning_rate has type <class 'float'>\n",
      "thing associated with key _run_eagerly has type <class 'NoneType'>\n",
      "thing associated with key optimizer has type <class 'tensorflow_privacy.privacy.optimizers.dp_optimizer_keras.make_keras_optimizer_class.<locals>.DPOptimizerClass'>\n",
      "thing associated with key compiled_loss has type <class 'keras.engine.compile_utils.LossesContainer'>\n",
      "thing associated with key compiled_metrics has type <class 'keras.engine.compile_utils.MetricsContainer'>\n",
      "thing associated with key _is_compiled has type <class 'bool'>\n",
      "thing associated with key loss has type <class 'keras.losses.CategoricalCrossentropy'>\n",
      "thing associated with key _jit_compile has type <class 'NoneType'>\n",
      "thing associated with key stop_training has type <class 'bool'>\n",
      "thing associated with key history has type <class 'keras.callbacks.History'>\n",
      "thing associated with key train_function has type <class 'tensorflow.python.eager.def_function.Function'>\n",
      "thing associated with key test_function has type <class 'tensorflow.python.eager.def_function.Function'>\n",
      "thing associated with key predict_function has type <class 'NoneType'>\n",
      "thing associated with key train_tf_function has type <class 'tensorflow.python.eager.def_function.Function'>\n"
     ]
    }
   ],
   "source": [
    "for key,value in safeModel.__dict__.items():\n",
    "     print (f'thing associated with key {key} has type {type(value)}')"
   ]
  },
  {
   "cell_type": "code",
   "execution_count": 27,
   "metadata": {},
   "outputs": [
    {
     "name": "stdout",
     "output_type": "stream",
     "text": [
      "===============================================================================================\n",
      "Tuples\n",
      "===============================================================================================\n",
      "thing associated with key _saved_model_arg_spec has type <class 'tuple'>\n",
      "===============================================================================================\n",
      "Bools\n",
      "===============================================================================================\n",
      "thing associated with key _self_setattr_tracking has type <class 'bool'>\n",
      "thing associated with key _is_model_for_instrumentation has type <class 'bool'>\n",
      "thing associated with key _instrumented_keras_api has type <class 'bool'>\n",
      "thing associated with key _instrumented_keras_layer_class has type <class 'bool'>\n",
      "thing associated with key _instrumented_keras_model_class has type <class 'bool'>\n",
      "thing associated with key _trainable has type <class 'bool'>\n",
      "thing associated with key _stateful has type <class 'bool'>\n",
      "thing associated with key built has type <class 'bool'>\n",
      "thing associated with key _supports_masking has type <class 'bool'>\n",
      "thing associated with key _autocast has type <class 'bool'>\n",
      "thing associated with key _expects_training_arg has type <class 'bool'>\n",
      "thing associated with key _expects_mask_arg has type <class 'bool'>\n",
      "thing associated with key _dynamic has type <class 'bool'>\n",
      "thing associated with key _auto_track_sub_layers has type <class 'bool'>\n",
      "thing associated with key _preserve_input_structure_in_config has type <class 'bool'>\n",
      "thing associated with key _is_graph_network has type <class 'bool'>\n",
      "thing associated with key _compute_output_and_mask_jointly has type <class 'bool'>\n",
      "thing associated with key _base_model_initialized has type <class 'bool'>\n",
      "thing associated with key _enable_dict_to_input_mapping has type <class 'bool'>\n",
      "thing associated with key _is_compiled has type <class 'bool'>\n",
      "thing associated with key stop_training has type <class 'bool'>\n",
      "===============================================================================================\n",
      "Lists\n",
      "===============================================================================================\n",
      "thing associated with key inputs has type <class 'list'>\n",
      "thing associated with key outputs has type <class 'list'>\n",
      "thing associated with key _trainable_weights has type <class 'list'>\n",
      "thing associated with key _non_trainable_weights has type <class 'list'>\n",
      "thing associated with key _updates has type <class 'list'>\n",
      "thing associated with key _callable_losses has type <class 'list'>\n",
      "thing associated with key _losses has type <class 'list'>\n",
      "thing associated with key _metrics has type <class 'list'>\n",
      "thing associated with key _self_tracked_trackables has type <class 'list'>\n",
      "thing associated with key _inbound_nodes_value has type <class 'list'>\n",
      "thing associated with key _outbound_nodes_value has type <class 'list'>\n",
      "thing associated with key input_names has type <class 'list'>\n",
      "thing associated with key output_names has type <class 'list'>\n",
      "thing associated with key _input_layers has type <class 'list'>\n",
      "thing associated with key _output_layers has type <class 'list'>\n",
      "thing associated with key _input_coordinates has type <class 'list'>\n",
      "thing associated with key _output_coordinates has type <class 'list'>\n",
      "thing associated with key _feed_input_names has type <class 'list'>\n",
      "thing associated with key _feed_inputs has type <class 'list'>\n",
      "thing associated with key _feed_input_shapes has type <class 'list'>\n",
      "thing associated with key _self_unconditional_checkpoint_dependencies has type <class 'list'>\n",
      "===============================================================================================\n",
      "Strings\n",
      "===============================================================================================\n",
      "thing associated with key _name has type <class 'str'>\n",
      "thing associated with key _outer_name_scope has type <class 'str'>\n",
      "thing associated with key model_save_file has type <class 'str'>\n",
      "thing associated with key filename has type <class 'str'>\n",
      "thing associated with key researcher has type <class 'str'>\n",
      "thing associated with key model_type has type <class 'str'>\n",
      "===============================================================================================\n",
      "Ints\n",
      "===============================================================================================\n",
      "thing associated with key _self_update_uid has type <class 'int'>\n",
      "thing associated with key min_epsilon has type <class 'int'>\n",
      "thing associated with key batch_size has type <class 'int'>\n",
      "===============================================================================================\n",
      "Floats\n",
      "===============================================================================================\n",
      "thing associated with key delta has type <class 'float'>\n",
      "thing associated with key l2_norm_clip has type <class 'float'>\n",
      "thing associated with key noise_multiplier has type <class 'float'>\n",
      "thing associated with key learning_rate has type <class 'float'>\n",
      "===============================================================================================\n",
      "Dicts\n",
      "===============================================================================================\n",
      "thing associated with key _output_mask_cache has type <class 'dict'>\n",
      "thing associated with key _output_tensor_cache has type <class 'dict'>\n",
      "thing associated with key _output_shape_cache has type <class 'dict'>\n",
      "thing associated with key _layer_call_argspecs has type <class 'dict'>\n",
      "thing associated with key _self_unconditional_dependency_names has type <class 'dict'>\n",
      "thing associated with key _self_unconditional_deferred_dependencies has type <class 'dict'>\n",
      "thing associated with key _self_saveable_object_factories has type <class 'dict'>\n",
      "===============================================================================================\n",
      "Sets\n",
      "===============================================================================================\n",
      "thing associated with key _network_nodes has type <class 'set'>\n",
      "thing associated with key _self_name_based_restores has type <class 'set'>\n",
      "===============================================================================================\n",
      "Unusual Ones\n",
      "===============================================================================================\n",
      "thing associated with key _steps_per_execution has type <class 'tensorflow.python.ops.resource_variable_ops.ResourceVariable'>\n",
      "thing associated with key _train_counter has type <class 'tensorflow.python.ops.resource_variable_ops.ResourceVariable'>\n",
      "thing associated with key _test_counter has type <class 'tensorflow.python.ops.resource_variable_ops.ResourceVariable'>\n",
      "thing associated with key _predict_counter has type <class 'tensorflow.python.ops.resource_variable_ops.ResourceVariable'>\n",
      "thing associated with key _nested_inputs has type <class 'keras.engine.keras_tensor.KerasTensor'>\n",
      "thing associated with key _nested_outputs has type <class 'keras.engine.keras_tensor.KerasTensor'>\n",
      "thing associated with key _nodes_by_depth has type <class 'collections.defaultdict'>\n",
      "thing associated with key _tensor_usage_count has type <class 'collections.Counter'>\n",
      "thing associated with key model has type <class 'NoneType'>\n",
      "thing associated with key saved_model has type <class 'NoneType'>\n",
      "thing associated with key ignore_items has type <class 'tensorflow.python.training.tracking.data_structures.ListWrapper'>\n",
      "thing associated with key examine_seperately_items has type <class 'tensorflow.python.training.tracking.data_structures.ListWrapper'>\n",
      "thing associated with key num_microbatches has type <class 'NoneType'>\n",
      "thing associated with key _run_eagerly has type <class 'NoneType'>\n",
      "thing associated with key optimizer has type <class 'tensorflow_privacy.privacy.optimizers.dp_optimizer_keras.make_keras_optimizer_class.<locals>.DPOptimizerClass'>\n",
      "thing associated with key compiled_loss has type <class 'keras.engine.compile_utils.LossesContainer'>\n",
      "thing associated with key compiled_metrics has type <class 'keras.engine.compile_utils.MetricsContainer'>\n",
      "thing associated with key loss has type <class 'keras.losses.CategoricalCrossentropy'>\n",
      "thing associated with key _jit_compile has type <class 'NoneType'>\n",
      "thing associated with key history has type <class 'keras.callbacks.History'>\n",
      "thing associated with key train_function has type <class 'tensorflow.python.eager.def_function.Function'>\n",
      "thing associated with key test_function has type <class 'tensorflow.python.eager.def_function.Function'>\n",
      "thing associated with key predict_function has type <class 'NoneType'>\n",
      "thing associated with key train_tf_function has type <class 'tensorflow.python.eager.def_function.Function'>\n"
     ]
    }
   ],
   "source": [
    "all_keys = []\n",
    "unusuals =[]\n",
    "tuples =[]\n",
    "deleted_keys = []\n",
    "\n",
    "print(\"===============================================================================================\")\n",
    "print(\"Tuples\")\n",
    "print(\"===============================================================================================\")\n",
    "for key,value in safeModel.__dict__.items():\n",
    "    if(type(value) == tuple):\n",
    "        print (f'thing associated with key {key} has type {type(value)}')\n",
    "        tuples.append(key)\n",
    "\n",
    "print(\"===============================================================================================\")\n",
    "print(\"Bools\")\n",
    "print(\"===============================================================================================\")\n",
    "for key,value in safeModel.__dict__.items():\n",
    "    if(type(value) == bool):\n",
    "        print (f'thing associated with key {key} has type {type(value)}')\n",
    "\n",
    "print(\"===============================================================================================\")\n",
    "print(\"Lists\")\n",
    "print(\"===============================================================================================\")        \n",
    "for key,value in safeModel.__dict__.items():\n",
    "    if(type(value) == list):\n",
    "        print (f'thing associated with key {key} has type {type(value)}')\n",
    "\n",
    "print(\"===============================================================================================\")\n",
    "print(\"Strings\")\n",
    "print(\"===============================================================================================\")\n",
    "for key,value in safeModel.__dict__.items():\n",
    "    if(type(value) == str):\n",
    "        print (f'thing associated with key {key} has type {type(value)}')\n",
    "\n",
    "        \n",
    "print(\"===============================================================================================\")\n",
    "print(\"Ints\")\n",
    "print(\"===============================================================================================\")\n",
    "for key,value in safeModel.__dict__.items():\n",
    "    if(type(value) == int):\n",
    "        print (f'thing associated with key {key} has type {type(value)}')\n",
    "\n",
    "print(\"===============================================================================================\")\n",
    "print(\"Floats\")\n",
    "print(\"===============================================================================================\")\n",
    "for key,value in safeModel.__dict__.items():\n",
    "    if(type(value) == float):\n",
    "        print (f'thing associated with key {key} has type {type(value)}')\n",
    "        \n",
    "print(\"===============================================================================================\")\n",
    "print(\"Dicts\")\n",
    "print(\"===============================================================================================\")\n",
    "for key,value in safeModel.__dict__.items():\n",
    "    if(type(value) == dict):\n",
    "        print (f'thing associated with key {key} has type {type(value)}')\n",
    "\n",
    "        \n",
    "print(\"===============================================================================================\")\n",
    "print(\"Sets\")\n",
    "print(\"===============================================================================================\")\n",
    "for key,value in safeModel.__dict__.items():\n",
    "    if(type(value) == set):\n",
    "        print (f'thing associated with key {key} has type {type(value)}')\n",
    "\n",
    "print(\"===============================================================================================\")\n",
    "print(\"Unusual Ones\")\n",
    "print(\"===============================================================================================\")\n",
    "\n",
    "        \n",
    "for key,value in safeModel.__dict__.items():\n",
    "    if((type(value) != int) and (type(value) != str) and \n",
    "       (type(value) != list) and (type(value) != bool) and \n",
    "       (type(value) != tuple) and (type(value) != float) and\n",
    "       (type(value) != dict) and (type(value) != set)):\n",
    "        print (f'thing associated with key {key} has type {type(value)}')\n",
    "        unusuals.append(key)"
   ]
  },
  {
   "cell_type": "code",
   "execution_count": 19,
   "metadata": {},
   "outputs": [
    {
     "name": "stdout",
     "output_type": "stream",
     "text": [
      "INFO:tensorflow:Assets written to: my_model/assets\n"
     ]
    }
   ],
   "source": [
    "#safeModel.request_release('safekeras.pkl') # TypeError: cannot pickle '_thread.RLock' object\n",
    "\n",
    "#safeModel.request_release('safekeras.sav') # TypeError: cannot pickle '_thread.RLock' object\n",
    "\n",
    "#safeModel.request_release('safekeras.tf')\n",
    "\n",
    "\n",
    "\n",
    "\n",
    "safeModel.save('my_model')\n",
    "safeModel.save_weights('weights.h5')"
   ]
  },
  {
   "cell_type": "code",
   "execution_count": 20,
   "metadata": {},
   "outputs": [
    {
     "ename": "TypeError",
     "evalue": "Cannot convert '_network_nodes' to EagerTensor of dtype int64",
     "output_type": "error",
     "traceback": [
      "\u001b[0;31m---------------------------------------------------------------------------\u001b[0m",
      "\u001b[0;31mTypeError\u001b[0m                                 Traceback (most recent call last)",
      "\u001b[0;32m/tmp/ipykernel_190705/2595954814.py\u001b[0m in \u001b[0;36m<module>\u001b[0;34m\u001b[0m\n\u001b[1;32m      2\u001b[0m \u001b[0;34m\u001b[0m\u001b[0m\n\u001b[1;32m      3\u001b[0m \u001b[0;32mfor\u001b[0m \u001b[0mi\u001b[0m \u001b[0;32min\u001b[0m \u001b[0mrange\u001b[0m\u001b[0;34m(\u001b[0m\u001b[0;36m0\u001b[0m\u001b[0;34m,\u001b[0m\u001b[0mlen\u001b[0m\u001b[0;34m(\u001b[0m\u001b[0munusuals\u001b[0m\u001b[0;34m)\u001b[0m\u001b[0;34m)\u001b[0m\u001b[0;34m:\u001b[0m\u001b[0;34m\u001b[0m\u001b[0;34m\u001b[0m\u001b[0m\n\u001b[0;32m----> 4\u001b[0;31m     \u001b[0;32mif\u001b[0m\u001b[0;34m(\u001b[0m\u001b[0msafeModel\u001b[0m\u001b[0;34m.\u001b[0m\u001b[0m__dict__\u001b[0m\u001b[0;34m[\u001b[0m\u001b[0munusuals\u001b[0m\u001b[0;34m[\u001b[0m\u001b[0mi\u001b[0m\u001b[0;34m]\u001b[0m\u001b[0;34m]\u001b[0m \u001b[0;32min\u001b[0m \u001b[0mkeepers\u001b[0m \u001b[0;34m)\u001b[0m\u001b[0;34m:\u001b[0m\u001b[0;34m\u001b[0m\u001b[0;34m\u001b[0m\u001b[0m\n\u001b[0m\u001b[1;32m      5\u001b[0m         \u001b[0;32mpass\u001b[0m\u001b[0;34m\u001b[0m\u001b[0;34m\u001b[0m\u001b[0m\n\u001b[1;32m      6\u001b[0m     \u001b[0;32melse\u001b[0m\u001b[0;34m:\u001b[0m\u001b[0;34m\u001b[0m\u001b[0;34m\u001b[0m\u001b[0m\n",
      "\u001b[0;32m~/anaconda3/lib/python3.9/site-packages/tensorflow/python/ops/variables.py\u001b[0m in \u001b[0;36m__eq__\u001b[0;34m(self, other)\u001b[0m\n\u001b[1;32m   1090\u001b[0m     \u001b[0;34m\"\"\"Compares two variables element-wise for equality.\"\"\"\u001b[0m\u001b[0;34m\u001b[0m\u001b[0;34m\u001b[0m\u001b[0m\n\u001b[1;32m   1091\u001b[0m     \u001b[0;32mif\u001b[0m \u001b[0mops\u001b[0m\u001b[0;34m.\u001b[0m\u001b[0mTensor\u001b[0m\u001b[0;34m.\u001b[0m\u001b[0m_USE_EQUALITY\u001b[0m \u001b[0;32mand\u001b[0m \u001b[0mops\u001b[0m\u001b[0;34m.\u001b[0m\u001b[0mexecuting_eagerly_outside_functions\u001b[0m\u001b[0;34m(\u001b[0m\u001b[0;34m)\u001b[0m\u001b[0;34m:\u001b[0m  \u001b[0;31m# pylint: disable=protected-access\u001b[0m\u001b[0;34m\u001b[0m\u001b[0;34m\u001b[0m\u001b[0m\n\u001b[0;32m-> 1092\u001b[0;31m       \u001b[0;32mreturn\u001b[0m \u001b[0mgen_math_ops\u001b[0m\u001b[0;34m.\u001b[0m\u001b[0mequal\u001b[0m\u001b[0;34m(\u001b[0m\u001b[0mself\u001b[0m\u001b[0;34m,\u001b[0m \u001b[0mother\u001b[0m\u001b[0;34m,\u001b[0m \u001b[0mincompatible_shape_error\u001b[0m\u001b[0;34m=\u001b[0m\u001b[0;32mFalse\u001b[0m\u001b[0;34m)\u001b[0m\u001b[0;34m\u001b[0m\u001b[0;34m\u001b[0m\u001b[0m\n\u001b[0m\u001b[1;32m   1093\u001b[0m     \u001b[0;32melse\u001b[0m\u001b[0;34m:\u001b[0m\u001b[0;34m\u001b[0m\u001b[0;34m\u001b[0m\u001b[0m\n\u001b[1;32m   1094\u001b[0m       \u001b[0;31m# In legacy graph mode, tensor equality is object equality\u001b[0m\u001b[0;34m\u001b[0m\u001b[0;34m\u001b[0m\u001b[0m\n",
      "\u001b[0;32m~/anaconda3/lib/python3.9/site-packages/tensorflow/python/ops/gen_math_ops.py\u001b[0m in \u001b[0;36mequal\u001b[0;34m(x, y, incompatible_shape_error, name)\u001b[0m\n\u001b[1;32m   3308\u001b[0m       \u001b[0;32mpass\u001b[0m\u001b[0;34m\u001b[0m\u001b[0;34m\u001b[0m\u001b[0m\n\u001b[1;32m   3309\u001b[0m     \u001b[0;32mtry\u001b[0m\u001b[0;34m:\u001b[0m\u001b[0;34m\u001b[0m\u001b[0;34m\u001b[0m\u001b[0m\n\u001b[0;32m-> 3310\u001b[0;31m       return equal_eager_fallback(\n\u001b[0m\u001b[1;32m   3311\u001b[0m           \u001b[0mx\u001b[0m\u001b[0;34m,\u001b[0m \u001b[0my\u001b[0m\u001b[0;34m,\u001b[0m \u001b[0mincompatible_shape_error\u001b[0m\u001b[0;34m=\u001b[0m\u001b[0mincompatible_shape_error\u001b[0m\u001b[0;34m,\u001b[0m \u001b[0mname\u001b[0m\u001b[0;34m=\u001b[0m\u001b[0mname\u001b[0m\u001b[0;34m,\u001b[0m\u001b[0;34m\u001b[0m\u001b[0;34m\u001b[0m\u001b[0m\n\u001b[1;32m   3312\u001b[0m           ctx=_ctx)\n",
      "\u001b[0;32m~/anaconda3/lib/python3.9/site-packages/tensorflow/python/ops/gen_math_ops.py\u001b[0m in \u001b[0;36mequal_eager_fallback\u001b[0;34m(x, y, incompatible_shape_error, name, ctx)\u001b[0m\n\u001b[1;32m   3337\u001b[0m     \u001b[0mincompatible_shape_error\u001b[0m \u001b[0;34m=\u001b[0m \u001b[0;32mTrue\u001b[0m\u001b[0;34m\u001b[0m\u001b[0;34m\u001b[0m\u001b[0m\n\u001b[1;32m   3338\u001b[0m   \u001b[0mincompatible_shape_error\u001b[0m \u001b[0;34m=\u001b[0m \u001b[0m_execute\u001b[0m\u001b[0;34m.\u001b[0m\u001b[0mmake_bool\u001b[0m\u001b[0;34m(\u001b[0m\u001b[0mincompatible_shape_error\u001b[0m\u001b[0;34m,\u001b[0m \u001b[0;34m\"incompatible_shape_error\"\u001b[0m\u001b[0;34m)\u001b[0m\u001b[0;34m\u001b[0m\u001b[0;34m\u001b[0m\u001b[0m\n\u001b[0;32m-> 3339\u001b[0;31m   \u001b[0m_attr_T\u001b[0m\u001b[0;34m,\u001b[0m \u001b[0m_inputs_T\u001b[0m \u001b[0;34m=\u001b[0m \u001b[0m_execute\u001b[0m\u001b[0;34m.\u001b[0m\u001b[0margs_to_matching_eager\u001b[0m\u001b[0;34m(\u001b[0m\u001b[0;34m[\u001b[0m\u001b[0mx\u001b[0m\u001b[0;34m,\u001b[0m \u001b[0my\u001b[0m\u001b[0;34m]\u001b[0m\u001b[0;34m,\u001b[0m \u001b[0mctx\u001b[0m\u001b[0;34m,\u001b[0m \u001b[0;34m[\u001b[0m\u001b[0;34m]\u001b[0m\u001b[0;34m)\u001b[0m\u001b[0;34m\u001b[0m\u001b[0;34m\u001b[0m\u001b[0m\n\u001b[0m\u001b[1;32m   3340\u001b[0m   \u001b[0;34m(\u001b[0m\u001b[0mx\u001b[0m\u001b[0;34m,\u001b[0m \u001b[0my\u001b[0m\u001b[0;34m)\u001b[0m \u001b[0;34m=\u001b[0m \u001b[0m_inputs_T\u001b[0m\u001b[0;34m\u001b[0m\u001b[0;34m\u001b[0m\u001b[0m\n\u001b[1;32m   3341\u001b[0m   \u001b[0m_inputs_flat\u001b[0m \u001b[0;34m=\u001b[0m \u001b[0;34m[\u001b[0m\u001b[0mx\u001b[0m\u001b[0;34m,\u001b[0m \u001b[0my\u001b[0m\u001b[0;34m]\u001b[0m\u001b[0;34m\u001b[0m\u001b[0;34m\u001b[0m\u001b[0m\n",
      "\u001b[0;32m~/anaconda3/lib/python3.9/site-packages/tensorflow/python/eager/execute.py\u001b[0m in \u001b[0;36margs_to_matching_eager\u001b[0;34m(l, ctx, allowed_dtypes, default_dtype)\u001b[0m\n\u001b[1;32m    262\u001b[0m \u001b[0;34m\u001b[0m\u001b[0m\n\u001b[1;32m    263\u001b[0m       \u001b[0;32mif\u001b[0m \u001b[0mtensor\u001b[0m \u001b[0;32mis\u001b[0m \u001b[0;32mNone\u001b[0m\u001b[0;34m:\u001b[0m\u001b[0;34m\u001b[0m\u001b[0;34m\u001b[0m\u001b[0m\n\u001b[0;32m--> 264\u001b[0;31m         tensor = ops.convert_to_tensor(\n\u001b[0m\u001b[1;32m    265\u001b[0m             t, dtype, preferred_dtype=default_dtype, ctx=ctx)\n\u001b[1;32m    266\u001b[0m \u001b[0;34m\u001b[0m\u001b[0m\n",
      "\u001b[0;32m~/anaconda3/lib/python3.9/site-packages/tensorflow/python/profiler/trace.py\u001b[0m in \u001b[0;36mwrapped\u001b[0;34m(*args, **kwargs)\u001b[0m\n\u001b[1;32m    181\u001b[0m         \u001b[0;32mwith\u001b[0m \u001b[0mTrace\u001b[0m\u001b[0;34m(\u001b[0m\u001b[0mtrace_name\u001b[0m\u001b[0;34m,\u001b[0m \u001b[0;34m**\u001b[0m\u001b[0mtrace_kwargs\u001b[0m\u001b[0;34m)\u001b[0m\u001b[0;34m:\u001b[0m\u001b[0;34m\u001b[0m\u001b[0;34m\u001b[0m\u001b[0m\n\u001b[1;32m    182\u001b[0m           \u001b[0;32mreturn\u001b[0m \u001b[0mfunc\u001b[0m\u001b[0;34m(\u001b[0m\u001b[0;34m*\u001b[0m\u001b[0margs\u001b[0m\u001b[0;34m,\u001b[0m \u001b[0;34m**\u001b[0m\u001b[0mkwargs\u001b[0m\u001b[0;34m)\u001b[0m\u001b[0;34m\u001b[0m\u001b[0;34m\u001b[0m\u001b[0m\n\u001b[0;32m--> 183\u001b[0;31m       \u001b[0;32mreturn\u001b[0m \u001b[0mfunc\u001b[0m\u001b[0;34m(\u001b[0m\u001b[0;34m*\u001b[0m\u001b[0margs\u001b[0m\u001b[0;34m,\u001b[0m \u001b[0;34m**\u001b[0m\u001b[0mkwargs\u001b[0m\u001b[0;34m)\u001b[0m\u001b[0;34m\u001b[0m\u001b[0;34m\u001b[0m\u001b[0m\n\u001b[0m\u001b[1;32m    184\u001b[0m \u001b[0;34m\u001b[0m\u001b[0m\n\u001b[1;32m    185\u001b[0m     \u001b[0;32mreturn\u001b[0m \u001b[0mwrapped\u001b[0m\u001b[0;34m\u001b[0m\u001b[0;34m\u001b[0m\u001b[0m\n",
      "\u001b[0;32m~/anaconda3/lib/python3.9/site-packages/tensorflow/python/framework/ops.py\u001b[0m in \u001b[0;36mconvert_to_tensor\u001b[0;34m(value, dtype, name, as_ref, preferred_dtype, dtype_hint, ctx, accepted_result_types)\u001b[0m\n\u001b[1;32m   1693\u001b[0m \u001b[0;34m\u001b[0m\u001b[0m\n\u001b[1;32m   1694\u001b[0m     \u001b[0;32mif\u001b[0m \u001b[0mret\u001b[0m \u001b[0;32mis\u001b[0m \u001b[0;32mNone\u001b[0m\u001b[0;34m:\u001b[0m\u001b[0;34m\u001b[0m\u001b[0;34m\u001b[0m\u001b[0m\n\u001b[0;32m-> 1695\u001b[0;31m       \u001b[0mret\u001b[0m \u001b[0;34m=\u001b[0m \u001b[0mconversion_func\u001b[0m\u001b[0;34m(\u001b[0m\u001b[0mvalue\u001b[0m\u001b[0;34m,\u001b[0m \u001b[0mdtype\u001b[0m\u001b[0;34m=\u001b[0m\u001b[0mdtype\u001b[0m\u001b[0;34m,\u001b[0m \u001b[0mname\u001b[0m\u001b[0;34m=\u001b[0m\u001b[0mname\u001b[0m\u001b[0;34m,\u001b[0m \u001b[0mas_ref\u001b[0m\u001b[0;34m=\u001b[0m\u001b[0mas_ref\u001b[0m\u001b[0;34m)\u001b[0m\u001b[0;34m\u001b[0m\u001b[0;34m\u001b[0m\u001b[0m\n\u001b[0m\u001b[1;32m   1696\u001b[0m \u001b[0;34m\u001b[0m\u001b[0m\n\u001b[1;32m   1697\u001b[0m     \u001b[0;32mif\u001b[0m \u001b[0mret\u001b[0m \u001b[0;32mis\u001b[0m \u001b[0mNotImplemented\u001b[0m\u001b[0;34m:\u001b[0m\u001b[0;34m\u001b[0m\u001b[0;34m\u001b[0m\u001b[0m\n",
      "\u001b[0;32m~/anaconda3/lib/python3.9/site-packages/tensorflow/python/framework/constant_op.py\u001b[0m in \u001b[0;36m_constant_tensor_conversion_function\u001b[0;34m(v, dtype, name, as_ref)\u001b[0m\n\u001b[1;32m    341\u001b[0m                                          as_ref=False):\n\u001b[1;32m    342\u001b[0m   \u001b[0m_\u001b[0m \u001b[0;34m=\u001b[0m \u001b[0mas_ref\u001b[0m\u001b[0;34m\u001b[0m\u001b[0;34m\u001b[0m\u001b[0m\n\u001b[0;32m--> 343\u001b[0;31m   \u001b[0;32mreturn\u001b[0m \u001b[0mconstant\u001b[0m\u001b[0;34m(\u001b[0m\u001b[0mv\u001b[0m\u001b[0;34m,\u001b[0m \u001b[0mdtype\u001b[0m\u001b[0;34m=\u001b[0m\u001b[0mdtype\u001b[0m\u001b[0;34m,\u001b[0m \u001b[0mname\u001b[0m\u001b[0;34m=\u001b[0m\u001b[0mname\u001b[0m\u001b[0;34m)\u001b[0m\u001b[0;34m\u001b[0m\u001b[0;34m\u001b[0m\u001b[0m\n\u001b[0m\u001b[1;32m    344\u001b[0m \u001b[0;34m\u001b[0m\u001b[0m\n\u001b[1;32m    345\u001b[0m \u001b[0;34m\u001b[0m\u001b[0m\n",
      "\u001b[0;32m~/anaconda3/lib/python3.9/site-packages/tensorflow/python/framework/constant_op.py\u001b[0m in \u001b[0;36mconstant\u001b[0;34m(value, dtype, shape, name)\u001b[0m\n\u001b[1;32m    265\u001b[0m     \u001b[0mValueError\u001b[0m\u001b[0;34m:\u001b[0m \u001b[0;32mif\u001b[0m \u001b[0mcalled\u001b[0m \u001b[0mon\u001b[0m \u001b[0ma\u001b[0m \u001b[0msymbolic\u001b[0m \u001b[0mtensor\u001b[0m\u001b[0;34m.\u001b[0m\u001b[0;34m\u001b[0m\u001b[0;34m\u001b[0m\u001b[0m\n\u001b[1;32m    266\u001b[0m   \"\"\"\n\u001b[0;32m--> 267\u001b[0;31m   return _constant_impl(value, dtype, shape, name, verify_shape=False,\n\u001b[0m\u001b[1;32m    268\u001b[0m                         allow_broadcast=True)\n\u001b[1;32m    269\u001b[0m \u001b[0;34m\u001b[0m\u001b[0m\n",
      "\u001b[0;32m~/anaconda3/lib/python3.9/site-packages/tensorflow/python/framework/constant_op.py\u001b[0m in \u001b[0;36m_constant_impl\u001b[0;34m(value, dtype, shape, name, verify_shape, allow_broadcast)\u001b[0m\n\u001b[1;32m    277\u001b[0m       \u001b[0;32mwith\u001b[0m \u001b[0mtrace\u001b[0m\u001b[0;34m.\u001b[0m\u001b[0mTrace\u001b[0m\u001b[0;34m(\u001b[0m\u001b[0;34m\"tf.constant\"\u001b[0m\u001b[0;34m)\u001b[0m\u001b[0;34m:\u001b[0m\u001b[0;34m\u001b[0m\u001b[0;34m\u001b[0m\u001b[0m\n\u001b[1;32m    278\u001b[0m         \u001b[0;32mreturn\u001b[0m \u001b[0m_constant_eager_impl\u001b[0m\u001b[0;34m(\u001b[0m\u001b[0mctx\u001b[0m\u001b[0;34m,\u001b[0m \u001b[0mvalue\u001b[0m\u001b[0;34m,\u001b[0m \u001b[0mdtype\u001b[0m\u001b[0;34m,\u001b[0m \u001b[0mshape\u001b[0m\u001b[0;34m,\u001b[0m \u001b[0mverify_shape\u001b[0m\u001b[0;34m)\u001b[0m\u001b[0;34m\u001b[0m\u001b[0;34m\u001b[0m\u001b[0m\n\u001b[0;32m--> 279\u001b[0;31m     \u001b[0;32mreturn\u001b[0m \u001b[0m_constant_eager_impl\u001b[0m\u001b[0;34m(\u001b[0m\u001b[0mctx\u001b[0m\u001b[0;34m,\u001b[0m \u001b[0mvalue\u001b[0m\u001b[0;34m,\u001b[0m \u001b[0mdtype\u001b[0m\u001b[0;34m,\u001b[0m \u001b[0mshape\u001b[0m\u001b[0;34m,\u001b[0m \u001b[0mverify_shape\u001b[0m\u001b[0;34m)\u001b[0m\u001b[0;34m\u001b[0m\u001b[0;34m\u001b[0m\u001b[0m\n\u001b[0m\u001b[1;32m    280\u001b[0m \u001b[0;34m\u001b[0m\u001b[0m\n\u001b[1;32m    281\u001b[0m   \u001b[0mg\u001b[0m \u001b[0;34m=\u001b[0m \u001b[0mops\u001b[0m\u001b[0;34m.\u001b[0m\u001b[0mget_default_graph\u001b[0m\u001b[0;34m(\u001b[0m\u001b[0;34m)\u001b[0m\u001b[0;34m\u001b[0m\u001b[0;34m\u001b[0m\u001b[0m\n",
      "\u001b[0;32m~/anaconda3/lib/python3.9/site-packages/tensorflow/python/framework/constant_op.py\u001b[0m in \u001b[0;36m_constant_eager_impl\u001b[0;34m(ctx, value, dtype, shape, verify_shape)\u001b[0m\n\u001b[1;32m    302\u001b[0m \u001b[0;32mdef\u001b[0m \u001b[0m_constant_eager_impl\u001b[0m\u001b[0;34m(\u001b[0m\u001b[0mctx\u001b[0m\u001b[0;34m,\u001b[0m \u001b[0mvalue\u001b[0m\u001b[0;34m,\u001b[0m \u001b[0mdtype\u001b[0m\u001b[0;34m,\u001b[0m \u001b[0mshape\u001b[0m\u001b[0;34m,\u001b[0m \u001b[0mverify_shape\u001b[0m\u001b[0;34m)\u001b[0m\u001b[0;34m:\u001b[0m\u001b[0;34m\u001b[0m\u001b[0;34m\u001b[0m\u001b[0m\n\u001b[1;32m    303\u001b[0m   \u001b[0;34m\"\"\"Creates a constant on the current device.\"\"\"\u001b[0m\u001b[0;34m\u001b[0m\u001b[0;34m\u001b[0m\u001b[0m\n\u001b[0;32m--> 304\u001b[0;31m   \u001b[0mt\u001b[0m \u001b[0;34m=\u001b[0m \u001b[0mconvert_to_eager_tensor\u001b[0m\u001b[0;34m(\u001b[0m\u001b[0mvalue\u001b[0m\u001b[0;34m,\u001b[0m \u001b[0mctx\u001b[0m\u001b[0;34m,\u001b[0m \u001b[0mdtype\u001b[0m\u001b[0;34m)\u001b[0m\u001b[0;34m\u001b[0m\u001b[0;34m\u001b[0m\u001b[0m\n\u001b[0m\u001b[1;32m    305\u001b[0m   \u001b[0;32mif\u001b[0m \u001b[0mshape\u001b[0m \u001b[0;32mis\u001b[0m \u001b[0;32mNone\u001b[0m\u001b[0;34m:\u001b[0m\u001b[0;34m\u001b[0m\u001b[0;34m\u001b[0m\u001b[0m\n\u001b[1;32m    306\u001b[0m     \u001b[0;32mreturn\u001b[0m \u001b[0mt\u001b[0m\u001b[0;34m\u001b[0m\u001b[0;34m\u001b[0m\u001b[0m\n",
      "\u001b[0;32m~/anaconda3/lib/python3.9/site-packages/tensorflow/python/framework/constant_op.py\u001b[0m in \u001b[0;36mconvert_to_eager_tensor\u001b[0;34m(value, ctx, dtype)\u001b[0m\n\u001b[1;32m    100\u001b[0m       \u001b[0mdtype\u001b[0m \u001b[0;34m=\u001b[0m \u001b[0mdtypes\u001b[0m\u001b[0;34m.\u001b[0m\u001b[0mas_dtype\u001b[0m\u001b[0;34m(\u001b[0m\u001b[0mdtype\u001b[0m\u001b[0;34m)\u001b[0m\u001b[0;34m.\u001b[0m\u001b[0mas_datatype_enum\u001b[0m\u001b[0;34m\u001b[0m\u001b[0;34m\u001b[0m\u001b[0m\n\u001b[1;32m    101\u001b[0m   \u001b[0mctx\u001b[0m\u001b[0;34m.\u001b[0m\u001b[0mensure_initialized\u001b[0m\u001b[0;34m(\u001b[0m\u001b[0;34m)\u001b[0m\u001b[0;34m\u001b[0m\u001b[0;34m\u001b[0m\u001b[0m\n\u001b[0;32m--> 102\u001b[0;31m   \u001b[0;32mreturn\u001b[0m \u001b[0mops\u001b[0m\u001b[0;34m.\u001b[0m\u001b[0mEagerTensor\u001b[0m\u001b[0;34m(\u001b[0m\u001b[0mvalue\u001b[0m\u001b[0;34m,\u001b[0m \u001b[0mctx\u001b[0m\u001b[0;34m.\u001b[0m\u001b[0mdevice_name\u001b[0m\u001b[0;34m,\u001b[0m \u001b[0mdtype\u001b[0m\u001b[0;34m)\u001b[0m\u001b[0;34m\u001b[0m\u001b[0;34m\u001b[0m\u001b[0m\n\u001b[0m\u001b[1;32m    103\u001b[0m \u001b[0;34m\u001b[0m\u001b[0m\n\u001b[1;32m    104\u001b[0m \u001b[0;34m\u001b[0m\u001b[0m\n",
      "\u001b[0;31mTypeError\u001b[0m: Cannot convert '_network_nodes' to EagerTensor of dtype int64"
     ]
    }
   ],
   "source": [
    "keepers = ['_network_nodes']\n",
    "\n",
    "for i in range(0,len(unusuals)):\n",
    "    if(safeModel.__dict__[unusuals[i]] in keepers ):\n",
    "        pass\n",
    "    else:\n",
    "        del safeModel.__dict__[unusuals[i]]\n",
    "    \n",
    "#for i in range(0,len(tuples)):\n",
    "#    del safeModel.__dict__[tuples[i]]\n",
    "\n",
    "\n",
    "safeModel.request_release('safekeras.h5')"
   ]
  },
  {
   "cell_type": "code",
   "execution_count": null,
   "metadata": {},
   "outputs": [],
   "source": [
    "# create and fit using recommended params\n",
    "print(\"***Test 1: researcher doesn't change recommended params\")\n",
    "safeKerasModel1 = Safe_KerasModel(input_data, output)\n",
    "safeKerasModel1.compile()\n",
    "safeKerasModel1.fit(Xt_member, \n",
    "                    yt_member, \n",
    "                    validation_data=(Xt_nonmember, yt_nonmember),\n",
    "                    epochs=epochs, \n",
    "                    batch_size=batch_size)\n",
    "safeKerasModel1.save(name=\"safe1.pkl\")\n",
    "safeKerasModel1.preliminary_check()\n",
    "safeKerasModel1.request_release(filename=\"safe1.pkl\")\n",
    "\n",
    "\n",
    "# change model params to recommended values\n",
    "print(\"\\n***Test 2: researcher changes params safely\")\n",
    "safeKerasModel2 = Safe_KerasModel(input_data, output)\n",
    "safeKerasModel2.compile()\n",
    "safeKerasModel2.optimizer=\"DPAdam\"\n",
    "safeKerasModel2.fit(Xt_member, \n",
    "                    yt_member, \n",
    "                    validation_data=(Xt_nonmember, yt_nonmember),\n",
    "                    epochs=epochs, \n",
    "                    batch_size=batch_size)\n",
    "safeKerasModel2.save(name=\"safe2.pkl\")\n",
    "safeKerasModel2.preliminary_check()\n",
    "safeKerasModel2.request_release(filename=\"safe2.pkl\")\n",
    "\n",
    "# change one model params in an unsafe way\n",
    "print(\"\\n***Test 3: researcher changes string params unsafely\")\n",
    "safeKerasModel3 = Safe_KerasModel(input_data, output)\n",
    "safeKerasModel3.compile()\n",
    "safeKerasModel3.optimizer=\"Adam\"\n",
    "safeKerasModel3.fit(Xt_member, \n",
    "                    yt_member, \n",
    "                    validation_data=(Xt_nonmember, yt_nonmember),\n",
    "                    epochs=epochs, \n",
    "                    batch_size=batch_size)\n",
    "safeKerasModel3.save(name=\"unsafe3.pkl\")\n",
    "safeKerasModel3.preliminary_check()\n",
    "safeKerasModel3.request_release(filename=\"unsafe3.pkl\")\n",
    "\n",
    "# change another model params in an  unsafe way\n",
    "\n",
    "\n",
    "# change another model params in an  unsafe way\n",
    "print(\"\\n***Test 5: researcher changes string and numeric params unsafely\")\n"
   ]
  },
  {
   "cell_type": "code",
   "execution_count": null,
   "metadata": {},
   "outputs": [],
   "source": [
    "# change another model params in an  unsafe way but tells preliminary_check() not to overwrite params\n",
    "print(\"\\n***Test 6: researcher changes string and numeric params unsafely\")\n",
    "safeKerasModel6 = Safe_KerasModel(input_data, output)\n",
    "safeKerasModel6.compile()\n",
    "safeKerasModel6.optimizer=\"Adam\"\n",
    "safeKerasModel6.fit(Xt_member, \n",
    "                    yt_member, \n",
    "                    validation_data=(Xt_nonmember, yt_nonmember),\n",
    "                    epochs=epochs, \n",
    "                    batch_size=batch_size)\n",
    "safeKerasModel6.save(name=\"unsafe6.pkl\")\n",
    "safeKerasModel6.preliminary_check(apply_constraints=False)\n",
    "safeKerasModel6.request_release(filename=\"unsafe6.pkl\")"
   ]
  },
  {
   "cell_type": "code",
   "execution_count": null,
   "metadata": {},
   "outputs": [],
   "source": []
  },
  {
   "cell_type": "code",
   "execution_count": null,
   "metadata": {},
   "outputs": [],
   "source": []
  }
 ],
 "metadata": {
  "kernelspec": {
   "display_name": "Python 3 (ipykernel)",
   "language": "python",
   "name": "python3"
  },
  "language_info": {
   "codemirror_mode": {
    "name": "ipython",
    "version": 3
   },
   "file_extension": ".py",
   "mimetype": "text/x-python",
   "name": "python",
   "nbconvert_exporter": "python",
   "pygments_lexer": "ipython3",
   "version": "3.9.7"
  }
 },
 "nbformat": 4,
 "nbformat_minor": 4
}
