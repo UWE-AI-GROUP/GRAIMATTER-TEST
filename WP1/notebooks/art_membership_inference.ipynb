{
 "cells": [
  {
   "cell_type": "markdown",
   "metadata": {},
   "source": [
    "# Adversarial Robustness Toolkit Membership Inference Attacks"
   ]
  },
  {
   "cell_type": "markdown",
   "metadata": {},
   "source": [
    "Download data from https://physionet.org/content/mimic2-iaccd/1.0/ (https://physionet.org/content/mimic2-iaccd/1.0/full_cohort_data.csv to download the full_cohort data)"
   ]
  },
  {
   "cell_type": "code",
   "execution_count": 1,
   "metadata": {},
   "outputs": [],
   "source": [
    "import pandas as pd\n",
    "import numpy as np\n",
    "import matplotlib.pyplot as plt\n",
    "import os\n",
    "from sklearn.model_selection import train_test_split\n",
    "from sklearn.svm import SVC\n",
    "from sklearn.metrics import classification_report, confusion_matrix\n",
    "from sklearn.model_selection import StratifiedKFold"
   ]
  },
  {
   "cell_type": "markdown",
   "metadata": {},
   "source": [
    "### Load data"
   ]
  },
  {
   "cell_type": "code",
   "execution_count": 2,
   "metadata": {},
   "outputs": [],
   "source": [
    "path = \"./data/mimic2-iaccd/1.0/\"\n",
    "data_path = os.path.join(path, \"full_cohort_data.csv\")\n",
    "X = pd.read_csv(data_path)"
   ]
  },
  {
   "cell_type": "code",
   "execution_count": 3,
   "metadata": {},
   "outputs": [
    {
     "data": {
      "text/plain": [
       "(1776, 46)"
      ]
     },
     "execution_count": 3,
     "metadata": {},
     "output_type": "execute_result"
    }
   ],
   "source": [
    "X.shape"
   ]
  },
  {
   "cell_type": "code",
   "execution_count": 4,
   "metadata": {},
   "outputs": [
    {
     "data": {
      "text/html": [
       "<div>\n",
       "<style scoped>\n",
       "    .dataframe tbody tr th:only-of-type {\n",
       "        vertical-align: middle;\n",
       "    }\n",
       "\n",
       "    .dataframe tbody tr th {\n",
       "        vertical-align: top;\n",
       "    }\n",
       "\n",
       "    .dataframe thead th {\n",
       "        text-align: right;\n",
       "    }\n",
       "</style>\n",
       "<table border=\"1\" class=\"dataframe\">\n",
       "  <thead>\n",
       "    <tr style=\"text-align: right;\">\n",
       "      <th></th>\n",
       "      <th>aline_flg</th>\n",
       "      <th>icu_los_day</th>\n",
       "      <th>hospital_los_day</th>\n",
       "      <th>age</th>\n",
       "      <th>gender_num</th>\n",
       "      <th>weight_first</th>\n",
       "      <th>bmi</th>\n",
       "      <th>sapsi_first</th>\n",
       "      <th>sofa_first</th>\n",
       "      <th>service_unit</th>\n",
       "      <th>...</th>\n",
       "      <th>platelet_first</th>\n",
       "      <th>sodium_first</th>\n",
       "      <th>potassium_first</th>\n",
       "      <th>tco2_first</th>\n",
       "      <th>chloride_first</th>\n",
       "      <th>bun_first</th>\n",
       "      <th>creatinine_first</th>\n",
       "      <th>po2_first</th>\n",
       "      <th>pco2_first</th>\n",
       "      <th>iv_day_1</th>\n",
       "    </tr>\n",
       "  </thead>\n",
       "  <tbody>\n",
       "    <tr>\n",
       "      <th>0</th>\n",
       "      <td>1</td>\n",
       "      <td>7.63</td>\n",
       "      <td>13</td>\n",
       "      <td>72.36841</td>\n",
       "      <td>1.0</td>\n",
       "      <td>75.0</td>\n",
       "      <td>29.912791</td>\n",
       "      <td>15.0</td>\n",
       "      <td>9.0</td>\n",
       "      <td>SICU</td>\n",
       "      <td>...</td>\n",
       "      <td>354.0</td>\n",
       "      <td>138.0</td>\n",
       "      <td>4.6</td>\n",
       "      <td>15.0</td>\n",
       "      <td>109.0</td>\n",
       "      <td>41.0</td>\n",
       "      <td>1.6</td>\n",
       "      <td>196.0</td>\n",
       "      <td>39.0</td>\n",
       "      <td>2230.875000</td>\n",
       "    </tr>\n",
       "    <tr>\n",
       "      <th>1</th>\n",
       "      <td>0</td>\n",
       "      <td>1.14</td>\n",
       "      <td>1</td>\n",
       "      <td>64.92076</td>\n",
       "      <td>0.0</td>\n",
       "      <td>55.0</td>\n",
       "      <td>20.121312</td>\n",
       "      <td>NaN</td>\n",
       "      <td>5.0</td>\n",
       "      <td>MICU</td>\n",
       "      <td>...</td>\n",
       "      <td>NaN</td>\n",
       "      <td>NaN</td>\n",
       "      <td>NaN</td>\n",
       "      <td>NaN</td>\n",
       "      <td>NaN</td>\n",
       "      <td>NaN</td>\n",
       "      <td>NaN</td>\n",
       "      <td>NaN</td>\n",
       "      <td>NaN</td>\n",
       "      <td>600.000000</td>\n",
       "    </tr>\n",
       "    <tr>\n",
       "      <th>2</th>\n",
       "      <td>0</td>\n",
       "      <td>2.86</td>\n",
       "      <td>5</td>\n",
       "      <td>36.50000</td>\n",
       "      <td>0.0</td>\n",
       "      <td>70.0</td>\n",
       "      <td>27.118272</td>\n",
       "      <td>16.0</td>\n",
       "      <td>5.0</td>\n",
       "      <td>MICU</td>\n",
       "      <td>...</td>\n",
       "      <td>295.0</td>\n",
       "      <td>144.0</td>\n",
       "      <td>3.9</td>\n",
       "      <td>17.0</td>\n",
       "      <td>101.0</td>\n",
       "      <td>16.0</td>\n",
       "      <td>0.8</td>\n",
       "      <td>298.0</td>\n",
       "      <td>30.0</td>\n",
       "      <td>2086.800293</td>\n",
       "    </tr>\n",
       "    <tr>\n",
       "      <th>3</th>\n",
       "      <td>1</td>\n",
       "      <td>0.58</td>\n",
       "      <td>3</td>\n",
       "      <td>44.49191</td>\n",
       "      <td>0.0</td>\n",
       "      <td>NaN</td>\n",
       "      <td>NaN</td>\n",
       "      <td>21.0</td>\n",
       "      <td>7.0</td>\n",
       "      <td>SICU</td>\n",
       "      <td>...</td>\n",
       "      <td>262.0</td>\n",
       "      <td>139.0</td>\n",
       "      <td>4.2</td>\n",
       "      <td>31.0</td>\n",
       "      <td>100.0</td>\n",
       "      <td>16.0</td>\n",
       "      <td>0.5</td>\n",
       "      <td>146.0</td>\n",
       "      <td>23.0</td>\n",
       "      <td>NaN</td>\n",
       "    </tr>\n",
       "    <tr>\n",
       "      <th>4</th>\n",
       "      <td>1</td>\n",
       "      <td>1.75</td>\n",
       "      <td>5</td>\n",
       "      <td>23.74217</td>\n",
       "      <td>1.0</td>\n",
       "      <td>95.2</td>\n",
       "      <td>28.464563</td>\n",
       "      <td>18.0</td>\n",
       "      <td>7.0</td>\n",
       "      <td>SICU</td>\n",
       "      <td>...</td>\n",
       "      <td>22.0</td>\n",
       "      <td>146.0</td>\n",
       "      <td>3.4</td>\n",
       "      <td>19.0</td>\n",
       "      <td>110.0</td>\n",
       "      <td>10.0</td>\n",
       "      <td>1.0</td>\n",
       "      <td>134.0</td>\n",
       "      <td>30.0</td>\n",
       "      <td>2358.244141</td>\n",
       "    </tr>\n",
       "  </tbody>\n",
       "</table>\n",
       "<p>5 rows × 46 columns</p>\n",
       "</div>"
      ],
      "text/plain": [
       "   aline_flg  icu_los_day  hospital_los_day       age  gender_num  \\\n",
       "0          1         7.63                13  72.36841         1.0   \n",
       "1          0         1.14                 1  64.92076         0.0   \n",
       "2          0         2.86                 5  36.50000         0.0   \n",
       "3          1         0.58                 3  44.49191         0.0   \n",
       "4          1         1.75                 5  23.74217         1.0   \n",
       "\n",
       "   weight_first        bmi  sapsi_first  sofa_first service_unit  ...  \\\n",
       "0          75.0  29.912791         15.0         9.0         SICU  ...   \n",
       "1          55.0  20.121312          NaN         5.0         MICU  ...   \n",
       "2          70.0  27.118272         16.0         5.0         MICU  ...   \n",
       "3           NaN        NaN         21.0         7.0         SICU  ...   \n",
       "4          95.2  28.464563         18.0         7.0         SICU  ...   \n",
       "\n",
       "   platelet_first sodium_first  potassium_first  tco2_first  chloride_first  \\\n",
       "0           354.0        138.0              4.6        15.0           109.0   \n",
       "1             NaN          NaN              NaN         NaN             NaN   \n",
       "2           295.0        144.0              3.9        17.0           101.0   \n",
       "3           262.0        139.0              4.2        31.0           100.0   \n",
       "4            22.0        146.0              3.4        19.0           110.0   \n",
       "\n",
       "   bun_first  creatinine_first  po2_first  pco2_first     iv_day_1  \n",
       "0       41.0               1.6      196.0        39.0  2230.875000  \n",
       "1        NaN               NaN        NaN         NaN   600.000000  \n",
       "2       16.0               0.8      298.0        30.0  2086.800293  \n",
       "3       16.0               0.5      146.0        23.0          NaN  \n",
       "4       10.0               1.0      134.0        30.0  2358.244141  \n",
       "\n",
       "[5 rows x 46 columns]"
      ]
     },
     "execution_count": 4,
     "metadata": {},
     "output_type": "execute_result"
    }
   ],
   "source": [
    "X.head()"
   ]
  },
  {
   "cell_type": "code",
   "execution_count": 5,
   "metadata": {},
   "outputs": [
    {
     "data": {
      "text/html": [
       "<div>\n",
       "<style scoped>\n",
       "    .dataframe tbody tr th:only-of-type {\n",
       "        vertical-align: middle;\n",
       "    }\n",
       "\n",
       "    .dataframe tbody tr th {\n",
       "        vertical-align: top;\n",
       "    }\n",
       "\n",
       "    .dataframe thead th {\n",
       "        text-align: right;\n",
       "    }\n",
       "</style>\n",
       "<table border=\"1\" class=\"dataframe\">\n",
       "  <thead>\n",
       "    <tr style=\"text-align: right;\">\n",
       "      <th></th>\n",
       "      <th>aline_flg</th>\n",
       "      <th>icu_los_day</th>\n",
       "      <th>hospital_los_day</th>\n",
       "      <th>age</th>\n",
       "      <th>gender_num</th>\n",
       "      <th>weight_first</th>\n",
       "      <th>bmi</th>\n",
       "      <th>sapsi_first</th>\n",
       "      <th>sofa_first</th>\n",
       "      <th>service_num</th>\n",
       "      <th>...</th>\n",
       "      <th>platelet_first</th>\n",
       "      <th>sodium_first</th>\n",
       "      <th>potassium_first</th>\n",
       "      <th>tco2_first</th>\n",
       "      <th>chloride_first</th>\n",
       "      <th>bun_first</th>\n",
       "      <th>creatinine_first</th>\n",
       "      <th>po2_first</th>\n",
       "      <th>pco2_first</th>\n",
       "      <th>iv_day_1</th>\n",
       "    </tr>\n",
       "  </thead>\n",
       "  <tbody>\n",
       "    <tr>\n",
       "      <th>count</th>\n",
       "      <td>1776.000000</td>\n",
       "      <td>1776.000000</td>\n",
       "      <td>1776.000000</td>\n",
       "      <td>1776.000000</td>\n",
       "      <td>1775.000000</td>\n",
       "      <td>1666.000000</td>\n",
       "      <td>1310.000000</td>\n",
       "      <td>1691.000000</td>\n",
       "      <td>1770.000000</td>\n",
       "      <td>1776.000000</td>\n",
       "      <td>...</td>\n",
       "      <td>1768.000000</td>\n",
       "      <td>1771.000000</td>\n",
       "      <td>1771.000000</td>\n",
       "      <td>1771.000000</td>\n",
       "      <td>1771.000000</td>\n",
       "      <td>1771.000000</td>\n",
       "      <td>1770.000000</td>\n",
       "      <td>1590.000000</td>\n",
       "      <td>1590.000000</td>\n",
       "      <td>1633.000000</td>\n",
       "    </tr>\n",
       "    <tr>\n",
       "      <th>mean</th>\n",
       "      <td>0.554054</td>\n",
       "      <td>3.346498</td>\n",
       "      <td>8.110923</td>\n",
       "      <td>54.379660</td>\n",
       "      <td>0.577465</td>\n",
       "      <td>80.075948</td>\n",
       "      <td>27.827316</td>\n",
       "      <td>14.136606</td>\n",
       "      <td>5.820904</td>\n",
       "      <td>0.552928</td>\n",
       "      <td>...</td>\n",
       "      <td>246.083145</td>\n",
       "      <td>139.559006</td>\n",
       "      <td>4.107623</td>\n",
       "      <td>24.416657</td>\n",
       "      <td>103.839074</td>\n",
       "      <td>19.277809</td>\n",
       "      <td>1.095706</td>\n",
       "      <td>227.623270</td>\n",
       "      <td>43.413836</td>\n",
       "      <td>1622.907946</td>\n",
       "    </tr>\n",
       "    <tr>\n",
       "      <th>std</th>\n",
       "      <td>0.497210</td>\n",
       "      <td>3.356261</td>\n",
       "      <td>8.157159</td>\n",
       "      <td>21.062854</td>\n",
       "      <td>0.494102</td>\n",
       "      <td>22.490516</td>\n",
       "      <td>8.210074</td>\n",
       "      <td>4.114302</td>\n",
       "      <td>2.334666</td>\n",
       "      <td>0.497331</td>\n",
       "      <td>...</td>\n",
       "      <td>99.865469</td>\n",
       "      <td>4.726209</td>\n",
       "      <td>0.794724</td>\n",
       "      <td>4.992172</td>\n",
       "      <td>5.734283</td>\n",
       "      <td>14.366890</td>\n",
       "      <td>1.083477</td>\n",
       "      <td>144.863403</td>\n",
       "      <td>13.980786</td>\n",
       "      <td>1677.129157</td>\n",
       "    </tr>\n",
       "    <tr>\n",
       "      <th>min</th>\n",
       "      <td>0.000000</td>\n",
       "      <td>0.500000</td>\n",
       "      <td>1.000000</td>\n",
       "      <td>15.180230</td>\n",
       "      <td>0.000000</td>\n",
       "      <td>30.000000</td>\n",
       "      <td>12.784877</td>\n",
       "      <td>3.000000</td>\n",
       "      <td>0.000000</td>\n",
       "      <td>0.000000</td>\n",
       "      <td>...</td>\n",
       "      <td>7.000000</td>\n",
       "      <td>105.000000</td>\n",
       "      <td>1.900000</td>\n",
       "      <td>2.000000</td>\n",
       "      <td>78.000000</td>\n",
       "      <td>2.000000</td>\n",
       "      <td>0.000000</td>\n",
       "      <td>22.000000</td>\n",
       "      <td>8.000000</td>\n",
       "      <td>0.000000</td>\n",
       "    </tr>\n",
       "    <tr>\n",
       "      <th>25%</th>\n",
       "      <td>0.000000</td>\n",
       "      <td>1.370000</td>\n",
       "      <td>3.000000</td>\n",
       "      <td>38.247318</td>\n",
       "      <td>0.000000</td>\n",
       "      <td>65.400000</td>\n",
       "      <td>22.617307</td>\n",
       "      <td>11.000000</td>\n",
       "      <td>4.000000</td>\n",
       "      <td>0.000000</td>\n",
       "      <td>...</td>\n",
       "      <td>182.000000</td>\n",
       "      <td>137.000000</td>\n",
       "      <td>3.600000</td>\n",
       "      <td>22.000000</td>\n",
       "      <td>101.000000</td>\n",
       "      <td>11.000000</td>\n",
       "      <td>0.700000</td>\n",
       "      <td>108.000000</td>\n",
       "      <td>36.000000</td>\n",
       "      <td>329.750000</td>\n",
       "    </tr>\n",
       "    <tr>\n",
       "      <th>50%</th>\n",
       "      <td>1.000000</td>\n",
       "      <td>2.185000</td>\n",
       "      <td>6.000000</td>\n",
       "      <td>53.678585</td>\n",
       "      <td>1.000000</td>\n",
       "      <td>77.000000</td>\n",
       "      <td>26.324846</td>\n",
       "      <td>14.000000</td>\n",
       "      <td>6.000000</td>\n",
       "      <td>1.000000</td>\n",
       "      <td>...</td>\n",
       "      <td>239.000000</td>\n",
       "      <td>140.000000</td>\n",
       "      <td>4.000000</td>\n",
       "      <td>24.000000</td>\n",
       "      <td>104.000000</td>\n",
       "      <td>15.000000</td>\n",
       "      <td>0.900000</td>\n",
       "      <td>195.000000</td>\n",
       "      <td>41.000000</td>\n",
       "      <td>1081.529175</td>\n",
       "    </tr>\n",
       "    <tr>\n",
       "      <th>75%</th>\n",
       "      <td>1.000000</td>\n",
       "      <td>4.002500</td>\n",
       "      <td>10.000000</td>\n",
       "      <td>72.762992</td>\n",
       "      <td>1.000000</td>\n",
       "      <td>90.000000</td>\n",
       "      <td>30.796551</td>\n",
       "      <td>17.000000</td>\n",
       "      <td>7.000000</td>\n",
       "      <td>1.000000</td>\n",
       "      <td>...</td>\n",
       "      <td>297.000000</td>\n",
       "      <td>142.000000</td>\n",
       "      <td>4.400000</td>\n",
       "      <td>27.000000</td>\n",
       "      <td>107.000000</td>\n",
       "      <td>22.000000</td>\n",
       "      <td>1.100000</td>\n",
       "      <td>323.000000</td>\n",
       "      <td>47.000000</td>\n",
       "      <td>2493.900146</td>\n",
       "    </tr>\n",
       "    <tr>\n",
       "      <th>max</th>\n",
       "      <td>1.000000</td>\n",
       "      <td>28.240000</td>\n",
       "      <td>112.000000</td>\n",
       "      <td>99.110950</td>\n",
       "      <td>1.000000</td>\n",
       "      <td>257.600000</td>\n",
       "      <td>98.797134</td>\n",
       "      <td>32.000000</td>\n",
       "      <td>17.000000</td>\n",
       "      <td>1.000000</td>\n",
       "      <td>...</td>\n",
       "      <td>988.000000</td>\n",
       "      <td>165.000000</td>\n",
       "      <td>9.800000</td>\n",
       "      <td>62.000000</td>\n",
       "      <td>133.000000</td>\n",
       "      <td>139.000000</td>\n",
       "      <td>18.300000</td>\n",
       "      <td>634.000000</td>\n",
       "      <td>158.000000</td>\n",
       "      <td>13910.000000</td>\n",
       "    </tr>\n",
       "  </tbody>\n",
       "</table>\n",
       "<p>8 rows × 44 columns</p>\n",
       "</div>"
      ],
      "text/plain": [
       "         aline_flg  icu_los_day  hospital_los_day          age   gender_num  \\\n",
       "count  1776.000000  1776.000000       1776.000000  1776.000000  1775.000000   \n",
       "mean      0.554054     3.346498          8.110923    54.379660     0.577465   \n",
       "std       0.497210     3.356261          8.157159    21.062854     0.494102   \n",
       "min       0.000000     0.500000          1.000000    15.180230     0.000000   \n",
       "25%       0.000000     1.370000          3.000000    38.247318     0.000000   \n",
       "50%       1.000000     2.185000          6.000000    53.678585     1.000000   \n",
       "75%       1.000000     4.002500         10.000000    72.762992     1.000000   \n",
       "max       1.000000    28.240000        112.000000    99.110950     1.000000   \n",
       "\n",
       "       weight_first          bmi  sapsi_first   sofa_first  service_num  ...  \\\n",
       "count   1666.000000  1310.000000  1691.000000  1770.000000  1776.000000  ...   \n",
       "mean      80.075948    27.827316    14.136606     5.820904     0.552928  ...   \n",
       "std       22.490516     8.210074     4.114302     2.334666     0.497331  ...   \n",
       "min       30.000000    12.784877     3.000000     0.000000     0.000000  ...   \n",
       "25%       65.400000    22.617307    11.000000     4.000000     0.000000  ...   \n",
       "50%       77.000000    26.324846    14.000000     6.000000     1.000000  ...   \n",
       "75%       90.000000    30.796551    17.000000     7.000000     1.000000  ...   \n",
       "max      257.600000    98.797134    32.000000    17.000000     1.000000  ...   \n",
       "\n",
       "       platelet_first  sodium_first  potassium_first   tco2_first  \\\n",
       "count     1768.000000   1771.000000      1771.000000  1771.000000   \n",
       "mean       246.083145    139.559006         4.107623    24.416657   \n",
       "std         99.865469      4.726209         0.794724     4.992172   \n",
       "min          7.000000    105.000000         1.900000     2.000000   \n",
       "25%        182.000000    137.000000         3.600000    22.000000   \n",
       "50%        239.000000    140.000000         4.000000    24.000000   \n",
       "75%        297.000000    142.000000         4.400000    27.000000   \n",
       "max        988.000000    165.000000         9.800000    62.000000   \n",
       "\n",
       "       chloride_first    bun_first  creatinine_first    po2_first  \\\n",
       "count     1771.000000  1771.000000       1770.000000  1590.000000   \n",
       "mean       103.839074    19.277809          1.095706   227.623270   \n",
       "std          5.734283    14.366890          1.083477   144.863403   \n",
       "min         78.000000     2.000000          0.000000    22.000000   \n",
       "25%        101.000000    11.000000          0.700000   108.000000   \n",
       "50%        104.000000    15.000000          0.900000   195.000000   \n",
       "75%        107.000000    22.000000          1.100000   323.000000   \n",
       "max        133.000000   139.000000         18.300000   634.000000   \n",
       "\n",
       "        pco2_first      iv_day_1  \n",
       "count  1590.000000   1633.000000  \n",
       "mean     43.413836   1622.907946  \n",
       "std      13.980786   1677.129157  \n",
       "min       8.000000      0.000000  \n",
       "25%      36.000000    329.750000  \n",
       "50%      41.000000   1081.529175  \n",
       "75%      47.000000   2493.900146  \n",
       "max     158.000000  13910.000000  \n",
       "\n",
       "[8 rows x 44 columns]"
      ]
     },
     "execution_count": 5,
     "metadata": {},
     "output_type": "execute_result"
    }
   ],
   "source": [
    "X.describe()"
   ]
  },
  {
   "cell_type": "code",
   "execution_count": 6,
   "metadata": {},
   "outputs": [
    {
     "name": "stdout",
     "output_type": "stream",
     "text": [
      "aline_flg 0\n",
      "icu_los_day 0\n",
      "hospital_los_day 0\n",
      "age 0\n",
      "gender_num 1\n",
      "weight_first 110\n",
      "bmi 466\n",
      "sapsi_first 85\n",
      "sofa_first 6\n",
      "service_unit 0\n",
      "service_num 0\n",
      "day_icu_intime 0\n",
      "day_icu_intime_num 0\n",
      "hour_icu_intime 0\n",
      "hosp_exp_flg 0\n",
      "icu_exp_flg 0\n",
      "day_28_flg 0\n",
      "mort_day_censored 0\n",
      "censor_flg 0\n",
      "sepsis_flg 0\n",
      "chf_flg 0\n",
      "afib_flg 0\n",
      "renal_flg 0\n",
      "liver_flg 0\n",
      "copd_flg 0\n",
      "cad_flg 0\n",
      "stroke_flg 0\n",
      "mal_flg 0\n",
      "resp_flg 0\n",
      "map_1st 0\n",
      "hr_1st 0\n",
      "temp_1st 3\n",
      "spo2_1st 0\n",
      "abg_count 0\n",
      "wbc_first 8\n",
      "hgb_first 8\n",
      "platelet_first 8\n",
      "sodium_first 5\n",
      "potassium_first 5\n",
      "tco2_first 5\n",
      "chloride_first 5\n",
      "bun_first 5\n",
      "creatinine_first 6\n",
      "po2_first 186\n",
      "pco2_first 186\n",
      "iv_day_1 143\n"
     ]
    }
   ],
   "source": [
    "for col in X.columns:\n",
    "    print(col, X[col].isnull().sum().sum())"
   ]
  },
  {
   "cell_type": "markdown",
   "metadata": {},
   "source": [
    "### Preprocess data"
   ]
  },
  {
   "cell_type": "code",
   "execution_count": 7,
   "metadata": {},
   "outputs": [
    {
     "name": "stdout",
     "output_type": "stream",
     "text": [
      "(1064, 40)\n",
      "(1064, 39)\n",
      "X_train = (851, 39)\n",
      "y_train = (851,)\n",
      "X_test = (213, 39)\n",
      "y_test = (213,)\n"
     ]
    }
   ],
   "source": [
    "# remove columns non-numerical and repetitive or uninformative data for the analysis\n",
    "col = [\"service_unit\", \"day_icu_intime\", \"hosp_exp_flg\", \"icu_exp_flg\", \"day_28_flg\"]\n",
    "# service_num is the numerical version of service_unit\n",
    "# day_icu_intime_num is the numerical version of day_icu_intime\n",
    "# the other columns are to do with death and are somewhat repetitive with censor_flg\n",
    "X = X.drop(col, axis=1)\n",
    "# drop columns with only 1 value\n",
    "X.drop(\"sepsis_flg\", axis=1, inplace=True)\n",
    "\n",
    "# Generic cleaning up (all data sets)\n",
    "# drop NA by row\n",
    "X.dropna(axis=0, inplace=True)\n",
    "\n",
    "print(X.shape)\n",
    "\n",
    "# Change it for each dataset\n",
    "var = \"censor_flg\"  #'aline_flg'#\n",
    "\n",
    "# Obtain labels and remove them from the data\n",
    "y = X[var]\n",
    "# Drop the column that contains the labels\n",
    "X.drop([var], axis=1, inplace=True)\n",
    "\n",
    "y = np.array(y, dtype=np.int8)\n",
    "X = np.array(X, dtype=np.float64)\n",
    "print(X.shape)\n",
    "\n",
    "test_size = 0.2  # Define test size\n",
    "X_train, X_test, y_train, y_test = train_test_split(\n",
    "    X, y, shuffle=True, test_size=test_size, random_state=58954\n",
    ")\n",
    "\n",
    "print(f\"X_train = {X_train.shape}\")\n",
    "print(f\"y_train = {y_train.shape}\")\n",
    "print(f\"X_test = {X_test.shape}\")\n",
    "print(f\"y_test = {y_test.shape}\")\n",
    "\n",
    "\n",
    "N_FEATURES = X_train.shape[1]\n",
    "N_CLASSES = 2"
   ]
  },
  {
   "cell_type": "markdown",
   "metadata": {},
   "source": [
    "### Helper functions"
   ]
  },
  {
   "cell_type": "code",
   "execution_count": 8,
   "metadata": {},
   "outputs": [],
   "source": [
    "import itertools\n",
    "import matplotlib.pyplot as plt\n",
    "from sklearn.metrics import (\n",
    "    auc,\n",
    "    RocCurveDisplay,\n",
    "    DetCurveDisplay,\n",
    "    det_curve,\n",
    "    confusion_matrix,\n",
    ")\n",
    "import numpy as np\n",
    "from typing import Any, Iterable, Optional\n",
    "\n",
    "\n",
    "def plot_confusion_matrix(\n",
    "    name: str,\n",
    "    confusion_matrix: Iterable[float],\n",
    "    n_classes: int,\n",
    "    normalize: bool = False,\n",
    "    cmap: Any = plt.cm.Blues,\n",
    "    save: Optional[str] = None,\n",
    ") -> Any:\n",
    "    \"\"\"\n",
    "    This function plots a confusion matrix for predictions of a given model.\n",
    "    Name: is the name of the model.\n",
    "    confusion_matrix: is the confusion matrix, e.g. output from confusion_matrix(y_test, y_pred).\n",
    "    n_classes: is the number of classes, e.g. output of range(2).\n",
    "    normalize: (boolean) whether to normalize the confusion matrix or not. Default False.\n",
    "    cmap: is the colormap of the confusion matrix, default is cm.Blues.\n",
    "    save: it save figure to the given path/figname. Default don't save.\n",
    "    \"\"\"\n",
    "    if normalize:\n",
    "        confusion_matrix = (\n",
    "            confusion_matrix.astype(\"float\")\n",
    "            / confusion_matrix.sum(axis=1)[:, np.newaxis]\n",
    "        )\n",
    "        print(\"Normalized confusion matrix\")\n",
    "    else:\n",
    "        print(\"Confusion matrix, without normalization\")\n",
    "\n",
    "    plt.imshow(confusion_matrix, interpolation=\"nearest\", cmap=cmap)\n",
    "    plt.colorbar()\n",
    "    tick_marks = np.arange(n_classes)  # np.arange(len(n_classes))\n",
    "    plt.xticks(tick_marks, range(n_classes), rotation=45)\n",
    "    plt.yticks(tick_marks, range(n_classes))\n",
    "\n",
    "    fmt = \".2f\" if normalize else \"d\"\n",
    "    thresh = confusion_matrix.max() / 2.0\n",
    "    for i, j in itertools.product(\n",
    "        range(confusion_matrix.shape[0]), range(confusion_matrix.shape[1])\n",
    "    ):\n",
    "        plt.text(\n",
    "            j,\n",
    "            i,\n",
    "            format(confusion_matrix[i, j], fmt),\n",
    "            horizontalalignment=\"center\",\n",
    "            color=\"white\" if confusion_matrix[i, j] > thresh else \"black\",\n",
    "        )\n",
    "\n",
    "    plt.tight_layout()\n",
    "    plt.ylabel(\"True label\")\n",
    "    plt.xlabel(\"Predicted label\")\n",
    "    plt.title(str(name) + \" - Confusion matrix\")\n",
    "\n",
    "    if save:\n",
    "        plt.savefig(save, bbox_inches=\"tight\")\n",
    "    # else:\n",
    "    plt.show()\n",
    "\n",
    "\n",
    "def plotROC_classifier(\n",
    "    clf: Any,\n",
    "    X_tmp_test: Iterable[float],\n",
    "    y_tmp_test: Iterable[float],\n",
    "    title: str = \"ROC curve\",\n",
    "    save: Optional[str] = None,\n",
    "):\n",
    "    \"\"\"\n",
    "    This function calculates and plots a ROC AUC curve of a given model.\n",
    "    clf: is the fitted classifier.\n",
    "    X_tmp_test: test data.\n",
    "    y_tmp_test: labels of test data.\n",
    "    title: Set a title for the figure, e.g. specify model name/parameters etc. Default \"ROC curve\".\n",
    "    save: it save figure to the given path/figname. Default don't save.\n",
    "    \"\"\"\n",
    "    tprs = []\n",
    "    aucs = []\n",
    "    mean_fpr = np.linspace(0, 1, 100)\n",
    "\n",
    "    fig, ax = plt.subplots()\n",
    "    viz = RocCurveDisplay.from_estimator(\n",
    "        clf,\n",
    "        X_tmp_test,\n",
    "        y_tmp_test,\n",
    "        name=\"ROC fold {}\".format(0),\n",
    "        alpha=0.3,\n",
    "        lw=1,\n",
    "        ax=ax,\n",
    "    )\n",
    "    interp_tpr = np.interp(mean_fpr, viz.fpr, viz.tpr)\n",
    "    interp_tpr[0] = 0.0\n",
    "    tprs.append(interp_tpr)\n",
    "    aucs.append(viz.roc_auc)\n",
    "\n",
    "    ax.plot([0, 1], [0, 1], linestyle=\"--\", lw=2, color=\"r\", label=\"Chance\", alpha=0.8)\n",
    "\n",
    "    mean_tpr = np.mean(tprs, axis=0)\n",
    "    mean_tpr[-1] = 1.0\n",
    "    mean_auc = auc(mean_fpr, mean_tpr)\n",
    "    std_auc = np.std(aucs)\n",
    "    ax.plot(\n",
    "        mean_fpr,\n",
    "        mean_tpr,\n",
    "        color=\"b\",\n",
    "        label=r\"Mean ROC (AUC = %0.2f $\\pm$ %0.2f)\" % (mean_auc, std_auc),\n",
    "        lw=2,\n",
    "        alpha=0.8,\n",
    "    )\n",
    "\n",
    "    std_tpr = np.std(tprs, axis=0)\n",
    "    tprs_upper = np.minimum(mean_tpr + std_tpr, 1)\n",
    "    tprs_lower = np.maximum(mean_tpr - std_tpr, 0)\n",
    "    ax.fill_between(\n",
    "        mean_fpr,\n",
    "        tprs_lower,\n",
    "        tprs_upper,\n",
    "        color=\"grey\",\n",
    "        alpha=0.2,\n",
    "        label=r\"$\\pm$ 1 std. dev.\",\n",
    "    )\n",
    "\n",
    "    ax.set(\n",
    "        xlim=[-0.05, 1.05],\n",
    "        ylim=[-0.05, 1.05],\n",
    "        title=title,\n",
    "    )\n",
    "    ax.legend(loc=\"lower right\")\n",
    "\n",
    "    if save:\n",
    "        fig.savefig(save, bbox_inches=\"tight\")\n",
    "    # else:\n",
    "    plt.show()\n",
    "\n",
    "\n",
    "def calc_precision_recall(predicted, actual, positive_value=1):\n",
    "    \"\"\"Calculate the precision and recall\"\"\"\n",
    "    score = 0  # both predicted and actual are positive\n",
    "    num_positive_predicted = 0  # predicted positive\n",
    "    num_positive_actual = 0  # actual positive\n",
    "    for i in range(len(predicted)):\n",
    "        if predicted[i] == positive_value:\n",
    "            num_positive_predicted += 1\n",
    "        if actual[i] == positive_value:\n",
    "            num_positive_actual += 1\n",
    "        if predicted[i] == actual[i]:\n",
    "            if predicted[i] == positive_value:\n",
    "                score += 1\n",
    "    if num_positive_predicted == 0:\n",
    "        precision = 1\n",
    "    else:\n",
    "        precision = (\n",
    "            score / num_positive_predicted\n",
    "        )  # the fraction of predicted \"Yes\" responses that are correct\n",
    "    if num_positive_actual == 0:\n",
    "        recall = 1\n",
    "    else:\n",
    "        recall = (\n",
    "            score / num_positive_actual\n",
    "        )  # the fraction of \"Yes\" responses that are predicted correctly\n",
    "    return precision, recall"
   ]
  },
  {
   "cell_type": "markdown",
   "metadata": {},
   "source": [
    "### ART black-box attacks"
   ]
  },
  {
   "cell_type": "code",
   "execution_count": 9,
   "metadata": {},
   "outputs": [],
   "source": [
    "from art.attacks.inference.membership_inference import (\n",
    "    MembershipInferenceBlackBoxRuleBased,\n",
    "    MembershipInferenceBlackBox,\n",
    ")\n",
    "\n",
    "\n",
    "def art_black_box_score(attack, X_train, y_train) -> None:\n",
    "    \"\"\"Calculate success of black-box membership inference.\"\"\"\n",
    "    # infer attacked feature\n",
    "    inferred_train = attack.infer(X_train, y_train)\n",
    "    inferred_test = attack.infer(X_test, y_test)\n",
    "    # check accuracy\n",
    "    train_acc = np.sum(inferred_train) / len(inferred_train)\n",
    "    test_acc = 1 - (np.sum(inferred_test) / len(inferred_test))\n",
    "    acc = (train_acc * len(inferred_train) + test_acc * len(inferred_test)) / (\n",
    "        len(inferred_train) + len(inferred_test)\n",
    "    )\n",
    "    acc *= 100  # convert fraction to percentage\n",
    "    print(f\"Train accuracy: {train_acc}\")\n",
    "    print(f\"Test accuracy: {test_acc}\")\n",
    "    print(f\"For {acc:.2f}% of the data, membership status is inferred correctly.\")\n",
    "    print(\n",
    "        calc_precision_recall(\n",
    "            np.concatenate((inferred_train, inferred_test)),\n",
    "            np.concatenate(\n",
    "                (np.ones(len(inferred_train)), np.zeros(len(inferred_test)))\n",
    "            ),\n",
    "        )\n",
    "    )"
   ]
  },
  {
   "cell_type": "markdown",
   "metadata": {},
   "source": [
    "## Scikit-learn classifiers\n",
    "\n",
    "https://adversarial-robustness-toolbox.readthedocs.io/en/latest/modules/estimators/classification_scikitlearn.html"
   ]
  },
  {
   "cell_type": "markdown",
   "metadata": {},
   "source": [
    "### RandomForestClassifier Target Model"
   ]
  },
  {
   "cell_type": "code",
   "execution_count": 10,
   "metadata": {},
   "outputs": [
    {
     "name": "stdout",
     "output_type": "stream",
     "text": [
      "Base model accuracy: 0.9953051643192489\n"
     ]
    }
   ],
   "source": [
    "from sklearn.ensemble import RandomForestClassifier\n",
    "\n",
    "model = RandomForestClassifier()\n",
    "model.fit(X_train, y_train)\n",
    "\n",
    "print(f\"Base model accuracy: {model.score(X_test, y_test)}\")"
   ]
  },
  {
   "cell_type": "code",
   "execution_count": 11,
   "metadata": {},
   "outputs": [
    {
     "name": "stdout",
     "output_type": "stream",
     "text": [
      "              precision    recall  f1-score   support\n",
      "\n",
      "           0       1.00      0.98      0.99        59\n",
      "           1       0.99      1.00      1.00       154\n",
      "\n",
      "    accuracy                           1.00       213\n",
      "   macro avg       1.00      0.99      0.99       213\n",
      "weighted avg       1.00      1.00      1.00       213\n",
      "\n",
      "Confusion matrix, without normalization\n"
     ]
    },
    {
     "data": {
      "image/png": "[encoded data removed]",
      "text/plain": [
       "<Figure size 432x288 with 2 Axes>"
      ]
     },
     "metadata": {
      "needs_background": "light"
     },
     "output_type": "display_data"
    },
    {
     "data": {
      "image/png": "[encoded data removed]",
      "text/plain": [
       "<Figure size 432x288 with 1 Axes>"
      ]
     },
     "metadata": {
      "needs_background": "light"
     },
     "output_type": "display_data"
    }
   ],
   "source": [
    "y_pred = model.predict(X_test)\n",
    "print(classification_report(y_test, y_pred))\n",
    "name = \"RandomForest\"\n",
    "plot_confusion_matrix(name, confusion_matrix(y_test, y_pred), 2)\n",
    "plotROC_classifier(model, X_test, y_test, name)"
   ]
  },
  {
   "cell_type": "markdown",
   "metadata": {},
   "source": [
    "### Rule-based attack on RandomForestClassifier\n",
    "The rule-based attack uses the simple rule to determine membership in the training data: if the model's prediction for a sample is correct, then it is a member. Otherwise, it is not a member."
   ]
  },
  {
   "cell_type": "code",
   "execution_count": 12,
   "metadata": {},
   "outputs": [
    {
     "name": "stdout",
     "output_type": "stream",
     "text": [
      "Train accuracy: 1.0\n",
      "Test accuracy: 0.0046948356807511304\n",
      "For 80.08% of the data, membership status is inferred correctly.\n",
      "(0.8005644402634055, 1.0)\n"
     ]
    },
    {
     "name": "stderr",
     "output_type": "stream",
     "text": [
      "/home/r2-preen/.local/lib/python3.8/site-packages/sklearn/utils/deprecation.py:103: FutureWarning: Attribute `n_features_` was deprecated in version 1.0 and will be removed in 1.2. Use `n_features_in_` instead.\n",
      "  warnings.warn(msg, category=FutureWarning)\n"
     ]
    }
   ],
   "source": [
    "from art.estimators.classification.scikitlearn import ScikitlearnRandomForestClassifier\n",
    "\n",
    "art_classifier = ScikitlearnRandomForestClassifier(model)\n",
    "\n",
    "attack = MembershipInferenceBlackBoxRuleBased(art_classifier)\n",
    "\n",
    "art_black_box_score(attack, X_train, y_train)"
   ]
  },
  {
   "cell_type": "markdown",
   "metadata": {},
   "source": [
    "### Black-box attack on RandomForestClassifier\n",
    "The black-box attack trains an additional classifier (the attack model) to predict the membership status of a sample. It can use as input to the learning process probabilities/logits or losses, depending on the type of model and provided configuration."
   ]
  },
  {
   "cell_type": "code",
   "execution_count": 13,
   "metadata": {},
   "outputs": [
    {
     "name": "stdout",
     "output_type": "stream",
     "text": [
      "Train accuracy: 0.9929494712103408\n",
      "Test accuracy: 0.2723004694835681\n",
      "For 84.87% of the data, membership status is inferred correctly.\n",
      "(0.845, 0.9929494712103408)\n"
     ]
    }
   ],
   "source": [
    "attack = MembershipInferenceBlackBox(art_classifier)\n",
    "\n",
    "attack.fit(X_train, y_train, X_test, y_test)\n",
    "\n",
    "art_black_box_score(attack, X_train, y_train)"
   ]
  },
  {
   "cell_type": "markdown",
   "metadata": {},
   "source": [
    "### SVC Target Model"
   ]
  },
  {
   "cell_type": "code",
   "execution_count": 14,
   "metadata": {},
   "outputs": [
    {
     "name": "stdout",
     "output_type": "stream",
     "text": [
      "Base model accuracy: 0.9859154929577465\n"
     ]
    }
   ],
   "source": [
    "from sklearn.svm import SVC\n",
    "\n",
    "model = SVC()\n",
    "model.fit(X_train, y_train)\n",
    "\n",
    "print(f\"Base model accuracy: {model.score(X_test, y_test)}\")"
   ]
  },
  {
   "cell_type": "code",
   "execution_count": 15,
   "metadata": {
    "scrolled": true
   },
   "outputs": [
    {
     "name": "stdout",
     "output_type": "stream",
     "text": [
      "              precision    recall  f1-score   support\n",
      "\n",
      "           0       1.00      0.95      0.97        59\n",
      "           1       0.98      1.00      0.99       154\n",
      "\n",
      "    accuracy                           0.99       213\n",
      "   macro avg       0.99      0.97      0.98       213\n",
      "weighted avg       0.99      0.99      0.99       213\n",
      "\n",
      "Confusion matrix, without normalization\n"
     ]
    },
    {
     "data": {
      "image/png": "[encoded data removed]",
      "text/plain": [
       "<Figure size 432x288 with 2 Axes>"
      ]
     },
     "metadata": {
      "needs_background": "light"
     },
     "output_type": "display_data"
    },
    {
     "data": {
      "image/png": "[encoded data removed]",
      "text/plain": [
       "<Figure size 432x288 with 1 Axes>"
      ]
     },
     "metadata": {
      "needs_background": "light"
     },
     "output_type": "display_data"
    }
   ],
   "source": [
    "y_pred = model.predict(X_test)\n",
    "print(classification_report(y_test, y_pred))\n",
    "name = \"SVC\"\n",
    "plot_confusion_matrix(name, confusion_matrix(y_test, y_pred), 2)\n",
    "plotROC_classifier(model, X_test, y_test, name)"
   ]
  },
  {
   "cell_type": "markdown",
   "metadata": {},
   "source": [
    "### Rule-based attack on SVC"
   ]
  },
  {
   "cell_type": "code",
   "execution_count": 16,
   "metadata": {},
   "outputs": [
    {
     "name": "stdout",
     "output_type": "stream",
     "text": [
      "Train accuracy: 0.9600470035252644\n",
      "Test accuracy: 0.014084507042253502\n",
      "For 77.07% of the data, membership status is inferred correctly.\n",
      "(0.7955209347614411, 0.9600470035252644)\n"
     ]
    }
   ],
   "source": [
    "from art.estimators.classification.scikitlearn import ScikitlearnSVC\n",
    "\n",
    "art_classifier = ScikitlearnSVC(model)\n",
    "\n",
    "attack = MembershipInferenceBlackBoxRuleBased(art_classifier)\n",
    "\n",
    "art_black_box_score(attack, X_train, y_train)"
   ]
  },
  {
   "cell_type": "markdown",
   "metadata": {},
   "source": [
    "### Black-box attack on SVC"
   ]
  },
  {
   "cell_type": "code",
   "execution_count": 17,
   "metadata": {},
   "outputs": [
    {
     "name": "stdout",
     "output_type": "stream",
     "text": [
      "Train accuracy: 1.0\n",
      "Test accuracy: 0.0\n",
      "For 79.98% of the data, membership status is inferred correctly.\n",
      "(0.799812030075188, 1.0)\n"
     ]
    }
   ],
   "source": [
    "attack = MembershipInferenceBlackBox(art_classifier)\n",
    "\n",
    "attack.fit(X_train, y_train, X_test, y_test)\n",
    "\n",
    "art_black_box_score(attack, X_train, y_train)"
   ]
  },
  {
   "cell_type": "markdown",
   "metadata": {},
   "source": [
    "### Bagging Classifier Target Model"
   ]
  },
  {
   "cell_type": "code",
   "execution_count": 18,
   "metadata": {},
   "outputs": [
    {
     "name": "stdout",
     "output_type": "stream",
     "text": [
      "Base model accuracy: 1.0\n"
     ]
    }
   ],
   "source": [
    "from sklearn.ensemble import BaggingClassifier\n",
    "\n",
    "model = BaggingClassifier()\n",
    "model.fit(X_train, y_train)\n",
    "\n",
    "print(f\"Base model accuracy: {model.score(X_test, y_test)}\")"
   ]
  },
  {
   "cell_type": "code",
   "execution_count": 19,
   "metadata": {
    "scrolled": true
   },
   "outputs": [
    {
     "name": "stdout",
     "output_type": "stream",
     "text": [
      "              precision    recall  f1-score   support\n",
      "\n",
      "           0       1.00      1.00      1.00        59\n",
      "           1       1.00      1.00      1.00       154\n",
      "\n",
      "    accuracy                           1.00       213\n",
      "   macro avg       1.00      1.00      1.00       213\n",
      "weighted avg       1.00      1.00      1.00       213\n",
      "\n",
      "Confusion matrix, without normalization\n"
     ]
    },
    {
     "data": {
      "image/png": "[encoded data removed]",
      "text/plain": [
       "<Figure size 432x288 with 2 Axes>"
      ]
     },
     "metadata": {
      "needs_background": "light"
     },
     "output_type": "display_data"
    },
    {
     "data": {
      "image/png": "[encoded data removed]",
      "text/plain": [
       "<Figure size 432x288 with 1 Axes>"
      ]
     },
     "metadata": {
      "needs_background": "light"
     },
     "output_type": "display_data"
    }
   ],
   "source": [
    "y_pred = model.predict(X_test)\n",
    "print(classification_report(y_test, y_pred))\n",
    "name = \"Bagging Classifier\"\n",
    "plot_confusion_matrix(name, confusion_matrix(y_test, y_pred), 2)\n",
    "plotROC_classifier(model, X_test, y_test, name)"
   ]
  },
  {
   "cell_type": "markdown",
   "metadata": {},
   "source": [
    "### Rule-based attack on BaggingClassifier"
   ]
  },
  {
   "cell_type": "code",
   "execution_count": 20,
   "metadata": {},
   "outputs": [
    {
     "name": "stdout",
     "output_type": "stream",
     "text": [
      "Train accuracy: 1.0\n",
      "Test accuracy: 0.0\n",
      "For 79.98% of the data, membership status is inferred correctly.\n",
      "(0.799812030075188, 1.0)\n"
     ]
    },
    {
     "name": "stderr",
     "output_type": "stream",
     "text": [
      "/home/r2-preen/.local/lib/python3.8/site-packages/sklearn/utils/deprecation.py:103: FutureWarning: Attribute `n_features_` was deprecated in version 1.0 and will be removed in 1.2. Use `n_features_in_` instead.\n",
      "  warnings.warn(msg, category=FutureWarning)\n"
     ]
    }
   ],
   "source": [
    "from art.estimators.classification.scikitlearn import ScikitlearnBaggingClassifier\n",
    "\n",
    "art_classifier = ScikitlearnBaggingClassifier(model)\n",
    "\n",
    "attack = MembershipInferenceBlackBoxRuleBased(art_classifier)\n",
    "\n",
    "art_black_box_score(attack, X_train, y_train)"
   ]
  },
  {
   "cell_type": "markdown",
   "metadata": {},
   "source": [
    "### Black-box attack on BaggingClassifier"
   ]
  },
  {
   "cell_type": "code",
   "execution_count": 21,
   "metadata": {},
   "outputs": [
    {
     "name": "stdout",
     "output_type": "stream",
     "text": [
      "Train accuracy: 1.0\n",
      "Test accuracy: 0.0\n",
      "For 79.98% of the data, membership status is inferred correctly.\n",
      "(0.799812030075188, 1.0)\n"
     ]
    }
   ],
   "source": [
    "attack = MembershipInferenceBlackBox(art_classifier)\n",
    "\n",
    "attack.fit(X_train, y_train, X_test, y_test)\n",
    "\n",
    "art_black_box_score(attack, X_train, y_train)"
   ]
  },
  {
   "cell_type": "markdown",
   "metadata": {},
   "source": [
    "## Keras classifiers"
   ]
  },
  {
   "cell_type": "markdown",
   "metadata": {},
   "source": [
    "### Keras/Tensorflow Neural Network Target Model"
   ]
  },
  {
   "cell_type": "code",
   "execution_count": 22,
   "metadata": {},
   "outputs": [
    {
     "name": "stdout",
     "output_type": "stream",
     "text": [
      "Train on 851 samples\n",
      "Epoch 1/100\n",
      "851/851 [==============================] - 0s 93us/sample - loss: 8.8390 - accuracy: 0.4383\n",
      "Epoch 2/100\n",
      "851/851 [==============================] - 0s 98us/sample - loss: 7.7566 - accuracy: 0.5112\n",
      "Epoch 3/100\n",
      "851/851 [==============================] - 0s 104us/sample - loss: 7.0845 - accuracy: 0.5511\n",
      "Epoch 4/100\n",
      "851/851 [==============================] - 0s 102us/sample - loss: 4.5753 - accuracy: 0.7004\n",
      "Epoch 5/100\n",
      "851/851 [==============================] - 0s 106us/sample - loss: 3.0177 - accuracy: 0.8002\n",
      "Epoch 6/100\n",
      "851/851 [==============================] - 0s 99us/sample - loss: 2.9804 - accuracy: 0.8038\n",
      "Epoch 7/100\n",
      "851/851 [==============================] - 0s 99us/sample - loss: 2.3531 - accuracy: 0.8472\n",
      "Epoch 8/100\n",
      "851/851 [==============================] - 0s 100us/sample - loss: 2.2247 - accuracy: 0.8555\n",
      "Epoch 9/100\n",
      "851/851 [==============================] - 0s 97us/sample - loss: 2.1139 - accuracy: 0.8602\n",
      "Epoch 10/100\n",
      "851/851 [==============================] - 0s 103us/sample - loss: 1.9005 - accuracy: 0.8766\n",
      "Epoch 11/100\n",
      "851/851 [==============================] - 0s 102us/sample - loss: 1.7545 - accuracy: 0.8813\n",
      "Epoch 12/100\n",
      "851/851 [==============================] - 0s 95us/sample - loss: 1.6949 - accuracy: 0.8895\n",
      "Epoch 13/100\n",
      "851/851 [==============================] - 0s 99us/sample - loss: 1.3966 - accuracy: 0.9048\n",
      "Epoch 14/100\n",
      "851/851 [==============================] - 0s 97us/sample - loss: 1.6215 - accuracy: 0.8954\n",
      "Epoch 15/100\n",
      "851/851 [==============================] - 0s 93us/sample - loss: 1.4778 - accuracy: 0.9001\n",
      "Epoch 16/100\n",
      "851/851 [==============================] - 0s 102us/sample - loss: 1.1086 - accuracy: 0.9271\n",
      "Epoch 17/100\n",
      "851/851 [==============================] - 0s 99us/sample - loss: 1.0092 - accuracy: 0.9342\n",
      "Epoch 18/100\n",
      "851/851 [==============================] - 0s 95us/sample - loss: 1.1289 - accuracy: 0.9271\n",
      "Epoch 19/100\n",
      "851/851 [==============================] - 0s 97us/sample - loss: 1.1185 - accuracy: 0.9283\n",
      "Epoch 20/100\n",
      "851/851 [==============================] - 0s 100us/sample - loss: 1.0798 - accuracy: 0.9318\n",
      "Epoch 21/100\n",
      "851/851 [==============================] - 0s 94us/sample - loss: 0.9999 - accuracy: 0.9342\n",
      "Epoch 22/100\n",
      "851/851 [==============================] - 0s 90us/sample - loss: 0.8727 - accuracy: 0.9436\n",
      "Epoch 23/100\n",
      "851/851 [==============================] - 0s 95us/sample - loss: 0.8373 - accuracy: 0.9424\n",
      "Epoch 24/100\n",
      "851/851 [==============================] - ETA: 0s - loss: 1.1351 - accuracy: 0.92 - 0s 95us/sample - loss: 1.0097 - accuracy: 0.9330\n",
      "Epoch 25/100\n",
      "851/851 [==============================] - 0s 96us/sample - loss: 0.8257 - accuracy: 0.9483\n",
      "Epoch 26/100\n",
      "851/851 [==============================] - 0s 103us/sample - loss: 0.8621 - accuracy: 0.9424\n",
      "Epoch 27/100\n",
      "851/851 [==============================] - 0s 101us/sample - loss: 0.8826 - accuracy: 0.9412\n",
      "Epoch 28/100\n",
      "851/851 [==============================] - 0s 102us/sample - loss: 0.7872 - accuracy: 0.9471\n",
      "Epoch 29/100\n",
      "851/851 [==============================] - 0s 103us/sample - loss: 0.8678 - accuracy: 0.9412\n",
      "Epoch 30/100\n",
      "851/851 [==============================] - 0s 100us/sample - loss: 0.9170 - accuracy: 0.9401\n",
      "Epoch 31/100\n",
      "851/851 [==============================] - 0s 102us/sample - loss: 0.7534 - accuracy: 0.9495\n",
      "Epoch 32/100\n",
      "851/851 [==============================] - 0s 107us/sample - loss: 0.6411 - accuracy: 0.9565\n",
      "Epoch 33/100\n",
      "851/851 [==============================] - 0s 103us/sample - loss: 0.7306 - accuracy: 0.9506\n",
      "Epoch 34/100\n",
      "851/851 [==============================] - 0s 103us/sample - loss: 0.7123 - accuracy: 0.9542\n",
      "Epoch 35/100\n",
      "851/851 [==============================] - 0s 102us/sample - loss: 0.5885 - accuracy: 0.9600\n",
      "Epoch 36/100\n",
      "851/851 [==============================] - 0s 102us/sample - loss: 0.7919 - accuracy: 0.9495\n",
      "Epoch 37/100\n",
      "851/851 [==============================] - 0s 101us/sample - loss: 0.9238 - accuracy: 0.9412\n",
      "Epoch 38/100\n",
      "851/851 [==============================] - 0s 100us/sample - loss: 0.7314 - accuracy: 0.9506\n",
      "Epoch 39/100\n",
      "851/851 [==============================] - 0s 101us/sample - loss: 0.5618 - accuracy: 0.9600\n",
      "Epoch 40/100\n",
      "851/851 [==============================] - 0s 100us/sample - loss: 0.6465 - accuracy: 0.9553\n",
      "Epoch 41/100\n",
      "851/851 [==============================] - 0s 98us/sample - loss: 0.4537 - accuracy: 0.9694\n",
      "Epoch 42/100\n",
      "851/851 [==============================] - 0s 99us/sample - loss: 0.5950 - accuracy: 0.9565\n",
      "Epoch 43/100\n",
      "851/851 [==============================] - 0s 101us/sample - loss: 0.4939 - accuracy: 0.9659\n",
      "Epoch 44/100\n",
      "851/851 [==============================] - 0s 103us/sample - loss: 0.5391 - accuracy: 0.9647\n",
      "Epoch 45/100\n",
      "851/851 [==============================] - 0s 104us/sample - loss: 0.6368 - accuracy: 0.9506\n",
      "Epoch 46/100\n",
      "851/851 [==============================] - 0s 102us/sample - loss: 0.5425 - accuracy: 0.9624\n",
      "Epoch 47/100\n",
      "851/851 [==============================] - 0s 101us/sample - loss: 0.5317 - accuracy: 0.9659\n",
      "Epoch 48/100\n",
      "851/851 [==============================] - 0s 102us/sample - loss: 0.6173 - accuracy: 0.9565\n",
      "Epoch 49/100\n",
      "851/851 [==============================] - 0s 100us/sample - loss: 0.4903 - accuracy: 0.9647\n",
      "Epoch 50/100\n",
      "851/851 [==============================] - 0s 107us/sample - loss: 0.4794 - accuracy: 0.9683\n",
      "Epoch 51/100\n",
      "851/851 [==============================] - 0s 105us/sample - loss: 0.3086 - accuracy: 0.9718\n",
      "Epoch 52/100\n",
      "851/851 [==============================] - 0s 100us/sample - loss: 0.4081 - accuracy: 0.9730\n",
      "Epoch 53/100\n",
      "851/851 [==============================] - 0s 101us/sample - loss: 0.4354 - accuracy: 0.9671\n",
      "Epoch 54/100\n",
      "851/851 [==============================] - 0s 100us/sample - loss: 0.4359 - accuracy: 0.9706\n",
      "Epoch 55/100\n",
      "851/851 [==============================] - 0s 102us/sample - loss: 0.4565 - accuracy: 0.9671\n",
      "Epoch 56/100\n",
      "851/851 [==============================] - 0s 99us/sample - loss: 0.4932 - accuracy: 0.9659\n",
      "Epoch 57/100\n",
      "851/851 [==============================] - 0s 93us/sample - loss: 0.4216 - accuracy: 0.9671\n",
      "Epoch 58/100\n",
      "851/851 [==============================] - 0s 103us/sample - loss: 0.3754 - accuracy: 0.9694\n",
      "Epoch 59/100\n",
      "851/851 [==============================] - 0s 105us/sample - loss: 0.3444 - accuracy: 0.9753\n",
      "Epoch 60/100\n",
      "851/851 [==============================] - 0s 105us/sample - loss: 0.4678 - accuracy: 0.9683\n",
      "Epoch 61/100\n",
      "851/851 [==============================] - 0s 103us/sample - loss: 0.5033 - accuracy: 0.9624\n",
      "Epoch 62/100\n",
      "851/851 [==============================] - 0s 103us/sample - loss: 0.3243 - accuracy: 0.9730\n",
      "Epoch 63/100\n",
      "851/851 [==============================] - 0s 101us/sample - loss: 0.4396 - accuracy: 0.9659\n",
      "Epoch 64/100\n",
      "851/851 [==============================] - 0s 113us/sample - loss: 0.4582 - accuracy: 0.9647\n",
      "Epoch 65/100\n",
      "851/851 [==============================] - 0s 101us/sample - loss: 0.4442 - accuracy: 0.9683\n",
      "Epoch 66/100\n",
      "851/851 [==============================] - 0s 101us/sample - loss: 0.4415 - accuracy: 0.9671\n",
      "Epoch 67/100\n",
      "851/851 [==============================] - 0s 106us/sample - loss: 0.4243 - accuracy: 0.9718\n",
      "Epoch 68/100\n",
      "851/851 [==============================] - 0s 99us/sample - loss: 0.3870 - accuracy: 0.9706\n",
      "Epoch 69/100\n",
      "851/851 [==============================] - 0s 101us/sample - loss: 0.3416 - accuracy: 0.9788\n",
      "Epoch 70/100\n",
      "851/851 [==============================] - 0s 105us/sample - loss: 0.3175 - accuracy: 0.9765\n",
      "Epoch 71/100\n",
      "851/851 [==============================] - 0s 107us/sample - loss: 0.3680 - accuracy: 0.9741\n",
      "Epoch 72/100\n",
      "851/851 [==============================] - 0s 107us/sample - loss: 0.3028 - accuracy: 0.9777\n",
      "Epoch 73/100\n",
      "851/851 [==============================] - 0s 101us/sample - loss: 0.3012 - accuracy: 0.9788\n",
      "Epoch 74/100\n",
      "851/851 [==============================] - 0s 106us/sample - loss: 0.3768 - accuracy: 0.9718\n",
      "Epoch 75/100\n",
      "851/851 [==============================] - 0s 103us/sample - loss: 0.3342 - accuracy: 0.9741\n",
      "Epoch 76/100\n",
      "851/851 [==============================] - 0s 108us/sample - loss: 0.2563 - accuracy: 0.9824\n",
      "Epoch 77/100\n",
      "851/851 [==============================] - 0s 106us/sample - loss: 0.3171 - accuracy: 0.9730\n"
     ]
    },
    {
     "name": "stdout",
     "output_type": "stream",
     "text": [
      "Epoch 78/100\n",
      "851/851 [==============================] - 0s 106us/sample - loss: 0.3464 - accuracy: 0.9765\n",
      "Epoch 79/100\n",
      "851/851 [==============================] - 0s 100us/sample - loss: 0.3725 - accuracy: 0.9741\n",
      "Epoch 80/100\n",
      "851/851 [==============================] - 0s 103us/sample - loss: 0.2855 - accuracy: 0.9812\n",
      "Epoch 81/100\n",
      "851/851 [==============================] - 0s 105us/sample - loss: 0.3165 - accuracy: 0.9777\n",
      "Epoch 82/100\n",
      "851/851 [==============================] - 0s 104us/sample - loss: 0.3077 - accuracy: 0.9753\n",
      "Epoch 83/100\n",
      "851/851 [==============================] - 0s 104us/sample - loss: 0.2825 - accuracy: 0.9777\n",
      "Epoch 84/100\n",
      "851/851 [==============================] - 0s 101us/sample - loss: 0.2793 - accuracy: 0.9800\n",
      "Epoch 85/100\n",
      "851/851 [==============================] - 0s 100us/sample - loss: 0.3235 - accuracy: 0.9718\n",
      "Epoch 86/100\n",
      "851/851 [==============================] - 0s 101us/sample - loss: 0.3240 - accuracy: 0.9706\n",
      "Epoch 87/100\n",
      "851/851 [==============================] - 0s 99us/sample - loss: 0.2750 - accuracy: 0.9765\n",
      "Epoch 88/100\n",
      "851/851 [==============================] - 0s 107us/sample - loss: 0.2650 - accuracy: 0.9800\n",
      "Epoch 89/100\n",
      "851/851 [==============================] - 0s 100us/sample - loss: 0.3160 - accuracy: 0.9777\n",
      "Epoch 90/100\n",
      "851/851 [==============================] - 0s 101us/sample - loss: 0.3276 - accuracy: 0.9730\n",
      "Epoch 91/100\n",
      "851/851 [==============================] - 0s 109us/sample - loss: 0.3245 - accuracy: 0.9741\n",
      "Epoch 92/100\n",
      "851/851 [==============================] - 0s 100us/sample - loss: 0.3437 - accuracy: 0.9741\n",
      "Epoch 93/100\n",
      "851/851 [==============================] - 0s 101us/sample - loss: 0.3127 - accuracy: 0.9788\n",
      "Epoch 94/100\n",
      "851/851 [==============================] - 0s 102us/sample - loss: 0.2988 - accuracy: 0.9753\n",
      "Epoch 95/100\n",
      "851/851 [==============================] - 0s 99us/sample - loss: 0.2640 - accuracy: 0.9765\n",
      "Epoch 96/100\n",
      "851/851 [==============================] - 0s 101us/sample - loss: 0.2554 - accuracy: 0.9788\n",
      "Epoch 97/100\n",
      "851/851 [==============================] - 0s 104us/sample - loss: 0.2847 - accuracy: 0.9753\n",
      "Epoch 98/100\n",
      "851/851 [==============================] - 0s 102us/sample - loss: 0.2444 - accuracy: 0.9788\n",
      "Epoch 99/100\n",
      "851/851 [==============================] - 0s 102us/sample - loss: 0.2529 - accuracy: 0.9741\n",
      "Epoch 100/100\n",
      "851/851 [==============================] - 0s 105us/sample - loss: 0.3190 - accuracy: 0.9765\n"
     ]
    },
    {
     "data": {
      "text/plain": [
       "<tensorflow.python.keras.callbacks.History at 0x7f78cc84fee0>"
      ]
     },
     "execution_count": 22,
     "metadata": {},
     "output_type": "execute_result"
    }
   ],
   "source": [
    "import tensorflow as tf\n",
    "\n",
    "tf.compat.v1.disable_eager_execution()\n",
    "from art.estimators.classification import KerasClassifier\n",
    "\n",
    "model = tf.keras.models.Sequential(\n",
    "    [\n",
    "        tf.keras.layers.InputLayer(input_shape=(N_FEATURES,)),\n",
    "        tf.keras.layers.Flatten(),\n",
    "        tf.keras.layers.Dense(24, activation=\"relu\"),\n",
    "        tf.keras.layers.Dropout(0.2),\n",
    "        tf.keras.layers.Dense(N_CLASSES, activation=\"softmax\"),\n",
    "    ]\n",
    ")\n",
    "\n",
    "model.compile(\n",
    "    optimizer=\"adam\", loss=\"sparse_categorical_crossentropy\", metrics=[\"accuracy\"]\n",
    ")\n",
    "\n",
    "model.fit(X_train, y_train, epochs=100)"
   ]
  },
  {
   "cell_type": "code",
   "execution_count": 23,
   "metadata": {},
   "outputs": [
    {
     "name": "stdout",
     "output_type": "stream",
     "text": [
      "WARNING:tensorflow:From /usr/local/lib/python3.8/dist-packages/tensorflow/python/keras/engine/training_v1.py:2048: Model.state_updates (from tensorflow.python.keras.engine.training) is deprecated and will be removed in a future version.\n",
      "Instructions for updating:\n",
      "This property should not be used in TensorFlow 2.0, as updates are applied automatically.\n",
      "Accuracy on test data: 96.71%\n"
     ]
    }
   ],
   "source": [
    "loss_test, accuracy_test = model.evaluate(X_test, y_test)\n",
    "print(f\"Accuracy on test data: {(accuracy_test * 100):4.2f}%\")"
   ]
  },
  {
   "cell_type": "code",
   "execution_count": 24,
   "metadata": {},
   "outputs": [
    {
     "name": "stdout",
     "output_type": "stream",
     "text": [
      "              precision    recall  f1-score   support\n",
      "\n",
      "           0       0.92      0.97      0.94        59\n",
      "           1       0.99      0.97      0.98       154\n",
      "\n",
      "    accuracy                           0.97       213\n",
      "   macro avg       0.95      0.97      0.96       213\n",
      "weighted avg       0.97      0.97      0.97       213\n",
      "\n",
      "Confusion matrix, without normalization\n"
     ]
    },
    {
     "data": {
      "image/png": "[encoded data removed]",
      "text/plain": [
       "<Figure size 432x288 with 2 Axes>"
      ]
     },
     "metadata": {
      "needs_background": "light"
     },
     "output_type": "display_data"
    }
   ],
   "source": [
    "y_pred = model.predict(X_test)\n",
    "\n",
    "y_pred = y_pred.argmax(axis=-1)\n",
    "\n",
    "print(classification_report(y_test, y_pred))\n",
    "name = \"KerasNeuralNetwork\"\n",
    "plot_confusion_matrix(name, confusion_matrix(y_test, y_pred), 2)"
   ]
  },
  {
   "cell_type": "markdown",
   "metadata": {},
   "source": [
    "### Rule-based attack on keras neural network"
   ]
  },
  {
   "cell_type": "code",
   "execution_count": 25,
   "metadata": {},
   "outputs": [
    {
     "name": "stdout",
     "output_type": "stream",
     "text": [
      "Train accuracy: 0.9706227967097533\n",
      "Test accuracy: 0.032863849765258246\n",
      "For 78.29% of the data, membership status is inferred correctly.\n",
      "(0.8003875968992248, 0.9706227967097533)\n"
     ]
    }
   ],
   "source": [
    "art_classifier = KerasClassifier(model)\n",
    "\n",
    "attack = MembershipInferenceBlackBoxRuleBased(art_classifier)\n",
    "\n",
    "art_black_box_score(attack, X_train, y_train)"
   ]
  },
  {
   "cell_type": "markdown",
   "metadata": {},
   "source": [
    "### Black-box attack on keras neural network"
   ]
  },
  {
   "cell_type": "code",
   "execution_count": 26,
   "metadata": {},
   "outputs": [
    {
     "name": "stdout",
     "output_type": "stream",
     "text": [
      "Train accuracy: 1.0\n",
      "Test accuracy: 0.0\n",
      "For 79.98% of the data, membership status is inferred correctly.\n",
      "(0.799812030075188, 1.0)\n"
     ]
    }
   ],
   "source": [
    "attack = MembershipInferenceBlackBox(art_classifier)\n",
    "\n",
    "attack.fit(X_train, y_train, X_test, y_test)\n",
    "\n",
    "art_black_box_score(attack, X_train, y_train)"
   ]
  },
  {
   "cell_type": "code",
   "execution_count": null,
   "metadata": {},
   "outputs": [],
   "source": []
  }
 ],
 "metadata": {
  "kernelspec": {
   "display_name": "Python 3",
   "language": "python",
   "name": "python3"
  },
  "language_info": {
   "codemirror_mode": {
    "name": "ipython",
    "version": 3
   },
   "file_extension": ".py",
   "mimetype": "text/x-python",
   "name": "python",
   "nbconvert_exporter": "python",
   "pygments_lexer": "ipython3",
   "version": "3.8.10"
  }
 },
 "nbformat": 4,
 "nbformat_minor": 4
}
