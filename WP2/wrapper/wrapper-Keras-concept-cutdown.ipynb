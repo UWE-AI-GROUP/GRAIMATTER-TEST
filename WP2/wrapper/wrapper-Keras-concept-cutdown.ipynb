{
 "cells": [
  {
   "cell_type": "code",
   "execution_count": 1,
   "metadata": {},
   "outputs": [],
   "source": [
    "import sys\n",
    "import os\n",
    "\n",
    "ROOT_DIR = os.path.dirname(os.path.dirname(os.path.abspath(\"\")))\n",
    "sys.path.append(ROOT_DIR)"
   ]
  },
  {
   "cell_type": "code",
   "execution_count": 2,
   "metadata": {},
   "outputs": [
    {
     "name": "stderr",
     "output_type": "stream",
     "text": [
      "2022-05-20 10:47:20.313887: W tensorflow/stream_executor/platform/default/dso_loader.cc:64] Could not load dynamic library 'libcudart.so.11.0'; dlerror: libcudart.so.11.0: cannot open shared object file: No such file or directory\n",
      "2022-05-20 10:47:20.313952: I tensorflow/stream_executor/cuda/cudart_stub.cc:29] Ignore above cudart dlerror if you do not have a GPU set up on your machine.\n"
     ]
    }
   ],
   "source": [
    "import numpy as np\n",
    "import matplotlib.pyplot as plt\n",
    "\n",
    "%matplotlib inline\n",
    "\n",
    "# Scikit-learn utils\n",
    "from sklearn.model_selection import train_test_split\n",
    "from sklearn.datasets import make_classification, make_moons\n",
    "from sklearn.metrics import ConfusionMatrixDisplay\n",
    "from sklearn.metrics import confusion_matrix, classification_report, roc_curve, auc\n",
    "\n",
    "# Tensorflow imports\n",
    "import tensorflow as tf\n",
    "from tensorflow.keras.models import Model\n",
    "from tensorflow.keras.layers import Input, Dense, Dropout\n",
    "\n",
    "# Classifiers for attack models\n",
    "from sklearn.linear_model import LogisticRegression\n",
    "from sklearn.neural_network import MLPClassifier\n"
   ]
  },
  {
   "cell_type": "code",
   "execution_count": 3,
   "metadata": {},
   "outputs": [],
   "source": [
    "#import t=privachy version \n",
    "import tensorflow_privacy\n",
    "\n",
    "from tensorflow_privacy.privacy.analysis import compute_dp_sgd_privacy\n"
   ]
  },
  {
   "cell_type": "markdown",
   "metadata": {},
   "source": [
    "### Definition of the datasets\n",
    "1. We draw data points from a distribution.\n",
    "2. We split these data points into the target dataset and a shadow dataset drawn from the same distribution.\n",
    "3. We also draw a dataset from a different distribution.\n",
    "\n",
    "**NOTE**. ***I make datasets with few samples but with many features to force the target model to overfit.***\n",
    "\n",
    "\n",
    "***NOTE JIM: had to make batch_size 25 so DP optimizer would run with same hyperparams"
   ]
  },
  {
   "cell_type": "code",
   "execution_count": 4,
   "metadata": {},
   "outputs": [],
   "source": [
    "n_classes = 2\n",
    "\n",
    "# (X,y): Original distribution\n",
    "X, y = make_classification(n_samples=1000,\n",
    "                           n_classes=n_classes, \n",
    "                           n_features=300,\n",
    "                           n_informative=300,\n",
    "                           n_redundant=0,\n",
    "                           n_repeated=0,\n",
    "                           random_state=15\n",
    "                          )\n",
    "# One-hot encoding of the label\n",
    "y = np.eye(n_classes)[y]\n",
    "\n",
    "# (Xt, yt) is the target dataset, owned by the TRE and drawn from the (X,y) distribution\n",
    "# (Xs, ys) is a shadow dataset drawn from the (X,y) distribution\n",
    "Xt, Xs, yt, ys = train_test_split(X, y, test_size=0.50, random_state=15)\n",
    "\n",
    "# (Xd, yd) is a shadow dataset, drawn from a different distribution (different seed)\n",
    "Xd, yd = make_classification(n_samples=1000,\n",
    "                           n_classes=n_classes, \n",
    "                           n_features=300,\n",
    "                           n_informative=300,\n",
    "                           n_redundant=0,\n",
    "                           n_repeated=0,\n",
    "                           random_state=42\n",
    "                          )\n",
    "yd = np.eye(n_classes)[yd]\n",
    "\n",
    "\n"
   ]
  },
  {
   "cell_type": "code",
   "execution_count": 5,
   "metadata": {},
   "outputs": [],
   "source": [
    "# Split into train (member) and test (non-member) datasets\n",
    "# Set shuffle to False so that Xt_membership is consistent with Xt, otherwise\n",
    "# we need to stack Xt_member and Xt_nonmember again to get a consistent Xt.\n",
    "Xt_member, Xt_nonmember, yt_member, yt_nonmember = train_test_split(Xt, yt, test_size=0.5, shuffle=False)\n",
    "\n",
    "# Set membership status for future tests\n",
    "Xt_membership = np.vstack(\n",
    "    (\n",
    "        np.ones((Xt_member.shape[0], 1), np.uint8),\n",
    "        np.zeros((Xt_nonmember.shape[0], 1), np.uint8)\n",
    "    )\n",
    ").flatten()"
   ]
  },
  {
   "cell_type": "markdown",
   "metadata": {},
   "source": [
    "### Define the target model architecture\n",
    "\n",
    "*Again, I'm using a rather big model (for the classification task) to favour overfitting.*"
   ]
  },
  {
   "cell_type": "code",
   "execution_count": 6,
   "metadata": {},
   "outputs": [
    {
     "name": "stderr",
     "output_type": "stream",
     "text": [
      "2022-05-20 10:47:25.152222: W tensorflow/stream_executor/platform/default/dso_loader.cc:64] Could not load dynamic library 'libcuda.so.1'; dlerror: libcuda.so.1: cannot open shared object file: No such file or directory\n",
      "2022-05-20 10:47:25.152321: W tensorflow/stream_executor/cuda/cuda_driver.cc:269] failed call to cuInit: UNKNOWN ERROR (303)\n",
      "2022-05-20 10:47:25.152374: I tensorflow/stream_executor/cuda/cuda_diagnostics.cc:156] kernel driver does not appear to be running on this host (ubuntu): /proc/driver/nvidia/version does not exist\n",
      "2022-05-20 10:47:25.153141: I tensorflow/core/platform/cpu_feature_guard.cc:151] This TensorFlow binary is optimized with oneAPI Deep Neural Network Library (oneDNN) to use the following CPU instructions in performance-critical operations:  AVX2 FMA\n",
      "To enable them in other operations, rebuild TensorFlow with the appropriate compiler flags.\n"
     ]
    }
   ],
   "source": [
    "# Define target model\n",
    "# Tensorflow model (MLP) (making it big to make it overfit)\n",
    "\n",
    "input_data = Input(shape = Xt_member[0].shape)\n",
    "x = Dense(128, activation='relu')(input_data)\n",
    "x = Dense(128, activation='relu')(x)\n",
    "x = Dense(64, activation='relu')(x)\n",
    "output = Dense(2, activation='softmax')(x)"
   ]
  },
  {
   "cell_type": "markdown",
   "metadata": {},
   "source": [
    "## Now try the SafeKerasModel version"
   ]
  },
  {
   "cell_type": "code",
   "execution_count": 7,
   "metadata": {
    "scrolled": true
   },
   "outputs": [],
   "source": [
    "import importlib\n",
    "import safemodel\n",
    "from safemodel.classifiers.safekeras import Safe_KerasModel\n",
    "\n",
    "\n",
    "\n",
    "importlib.reload(safemodel.safemodel)\n",
    "importlib.reload(safemodel.classifiers.safekeras)\n",
    "from safemodel.classifiers.safekeras import Safe_KerasModel\n",
    "\n"
   ]
  },
  {
   "cell_type": "code",
   "execution_count": 8,
   "metadata": {},
   "outputs": [
    {
     "name": "stdout",
     "output_type": "stream",
     "text": [
      "args is a <class 'tuple'> = ()  kwargs is a <class 'dict'>= {'inputs': <KerasTensor: shape=(None, 300) dtype=float32 (created by layer 'input_1')>, 'outputs': <KerasTensor: shape=(None, 2) dtype=float32 (created by layer 'dense_3')>, 'name': 'safekeras-test'}\n",
      "inputs is in kwargs.keys\n",
      "KerasTensor(type_spec=TensorSpec(shape=(None, 300), dtype=tf.float32, name='input_1'), name='input_1', description=\"created by layer 'input_1'\")\n",
      "Model parameters are within recommended ranges.\n",
      "\n"
     ]
    }
   ],
   "source": [
    "optimizer=None\n",
    "safeModel = Safe_KerasModel(inputs= input_data, outputs=output,name=\"safekeras-test\")\n"
   ]
  },
  {
   "cell_type": "code",
   "execution_count": 9,
   "metadata": {},
   "outputs": [],
   "source": [
    "#safeModel.__dict__\n"
   ]
  },
  {
   "cell_type": "code",
   "execution_count": 10,
   "metadata": {},
   "outputs": [
    {
     "name": "stdout",
     "output_type": "stream",
     "text": [
      "Changed parameter optimizer = 'DPKerasSGDOptimizer'\n",
      "WARNING: model parameters may present a disclosure risk\n",
      "Unknown optimizer <class 'tensorflow_privacy.privacy.optimizers.dp_optimizer_keras.make_keras_optimizer_class.<locals>.DPOptimizerClass'> - Changed parameter optimizer = 'DPKerasSGDOptimizer'\n",
      "DP optimizer used = False\n",
      "optimizer has been changed but fit() has not been rerun.\n"
     ]
    }
   ],
   "source": [
    "loss = tf.keras.losses.CategoricalCrossentropy(\n",
    "    from_logits=False, reduction=tf.losses.Reduction.NONE)\n",
    "\n",
    "\n",
    "safeModel.compile(loss=loss)#optimizer='adam', loss='categorical_crossentropy', metrics=['accuracy'])\n",
    "\n",
    "\n"
   ]
  },
  {
   "cell_type": "code",
   "execution_count": 11,
   "metadata": {
    "scrolled": true
   },
   "outputs": [
    {
     "name": "stdout",
     "output_type": "stream",
     "text": [
      "optimiser is type <class 'tensorflow_privacy.privacy.optimizers.dp_optimizer_keras.make_keras_optimizer_class.<locals>.DPOptimizerClass'>\n",
      " It is True that the model will be DP because optimizer does  contain key _was_dp_gradients_called so should be DP.\n"
     ]
    }
   ],
   "source": [
    "theType= type(safeModel.optimizer)\n",
    "print(f'optimiser is type {theType}')\n",
    "\n",
    "dpused,reason = safeModel.check_optimizer_is_DP(safeModel.optimizer)\n",
    "print(f' It is {dpused} that the model will be DP because {reason}')"
   ]
  },
  {
   "cell_type": "code",
   "execution_count": 12,
   "metadata": {},
   "outputs": [
    {
     "name": "stdout",
     "output_type": "stream",
     "text": [
      "(250, 300)\n",
      "DP-SGD with sampling rate = 10% and noise_multiplier = 0.5 iterated over 200 steps satisfies differential privacy with eps = 50.3 and delta = 1e-05.\n",
      "The optimal RDP order is 1.5.\n",
      "Current epsilon is 50.301726361197794\n",
      "The requirements for DP are not met, current epsilon is: 50.301726361197794. To attain true DP the following parameters can be changed:  Num Samples = 250, batch_size = 25, epochs = 20\n",
      "This will not result in a Differentially Private model do you want to continue [Y/N]y\n",
      "Continuing\n",
      "Epoch 1/20\n",
      "10/10 [==============================] - 3s 53ms/step - loss: 4.3476 - accuracy: 0.5040 - val_loss: 2.3869 - val_accuracy: 0.5520\n",
      "Epoch 2/20\n",
      "10/10 [==============================] - 0s 32ms/step - loss: 2.1578 - accuracy: 0.5600 - val_loss: 1.8728 - val_accuracy: 0.5320\n",
      "Epoch 3/20\n",
      "10/10 [==============================] - 0s 38ms/step - loss: 1.5896 - accuracy: 0.6400 - val_loss: 1.8205 - val_accuracy: 0.5720\n",
      "Epoch 4/20\n",
      "10/10 [==============================] - 0s 38ms/step - loss: 1.3658 - accuracy: 0.6800 - val_loss: 1.7184 - val_accuracy: 0.5920\n",
      "Epoch 5/20\n",
      "10/10 [==============================] - 0s 37ms/step - loss: 1.2078 - accuracy: 0.7360 - val_loss: 1.7263 - val_accuracy: 0.6040\n",
      "Epoch 6/20\n",
      "10/10 [==============================] - 0s 38ms/step - loss: 1.0567 - accuracy: 0.7600 - val_loss: 1.7205 - val_accuracy: 0.6080\n",
      "Epoch 7/20\n",
      "10/10 [==============================] - 0s 39ms/step - loss: 0.9758 - accuracy: 0.7840 - val_loss: 1.7163 - val_accuracy: 0.6160\n",
      "Epoch 8/20\n",
      "10/10 [==============================] - 0s 39ms/step - loss: 0.8437 - accuracy: 0.8040 - val_loss: 1.6851 - val_accuracy: 0.6400\n",
      "Epoch 9/20\n",
      "10/10 [==============================] - 0s 36ms/step - loss: 0.8061 - accuracy: 0.8160 - val_loss: 1.6870 - val_accuracy: 0.6280\n",
      "Epoch 10/20\n",
      "10/10 [==============================] - 0s 35ms/step - loss: 0.7075 - accuracy: 0.8400 - val_loss: 1.7456 - val_accuracy: 0.6160\n",
      "Epoch 11/20\n",
      "10/10 [==============================] - 1s 85ms/step - loss: 0.6385 - accuracy: 0.8560 - val_loss: 1.7825 - val_accuracy: 0.6040\n",
      "Epoch 12/20\n",
      "10/10 [==============================] - 1s 74ms/step - loss: 0.5368 - accuracy: 0.8720 - val_loss: 1.8018 - val_accuracy: 0.5920\n",
      "Epoch 13/20\n",
      "10/10 [==============================] - 0s 37ms/step - loss: 0.4881 - accuracy: 0.8840 - val_loss: 1.8836 - val_accuracy: 0.5880\n",
      "Epoch 14/20\n",
      "10/10 [==============================] - 0s 42ms/step - loss: 0.4055 - accuracy: 0.9000 - val_loss: 1.8735 - val_accuracy: 0.6000\n",
      "Epoch 15/20\n",
      "10/10 [==============================] - 0s 43ms/step - loss: 0.3759 - accuracy: 0.9120 - val_loss: 1.9227 - val_accuracy: 0.6040\n",
      "Epoch 16/20\n",
      "10/10 [==============================] - 0s 42ms/step - loss: 0.3306 - accuracy: 0.9320 - val_loss: 1.9494 - val_accuracy: 0.6120\n",
      "Epoch 17/20\n",
      "10/10 [==============================] - 0s 37ms/step - loss: 0.3311 - accuracy: 0.9360 - val_loss: 1.9567 - val_accuracy: 0.6200\n",
      "Epoch 18/20\n",
      "10/10 [==============================] - 0s 41ms/step - loss: 0.3318 - accuracy: 0.9320 - val_loss: 2.0207 - val_accuracy: 0.6120\n",
      "Epoch 19/20\n",
      "10/10 [==============================] - 0s 36ms/step - loss: 0.3277 - accuracy: 0.9200 - val_loss: 1.9972 - val_accuracy: 0.6000\n",
      "Epoch 20/20\n",
      "10/10 [==============================] - 0s 39ms/step - loss: 0.2992 - accuracy: 0.9320 - val_loss: 1.9233 - val_accuracy: 0.6120\n"
     ]
    },
    {
     "data": {
      "image/png": "[encoded data removed]",
      "text/plain": [
       "<Figure size 432x288 with 1 Axes>"
      ]
     },
     "metadata": {
      "needs_background": "light"
     },
     "output_type": "display_data"
    }
   ],
   "source": [
    "epochs = 20\n",
    "batch_size = 25\n",
    "\n",
    "r_DP = safeModel.fit(Xt_member, \n",
    "              yt_member, \n",
    "              validation_data=(Xt_nonmember, yt_nonmember),\n",
    "              epochs=epochs, \n",
    "              batch_size=batch_size\n",
    ")  \n",
    "\n",
    "\n",
    "plt.plot(r_DP.history['accuracy'], label='accuracy')\n",
    "plt.plot(r_DP.history['val_accuracy'], label='validation accuracy')\n",
    "plt.legend()\n",
    "plt.show() \n"
   ]
  },
  {
   "cell_type": "code",
   "execution_count": 13,
   "metadata": {},
   "outputs": [
    {
     "name": "stdout",
     "output_type": "stream",
     "text": [
      "optimiser is type <class 'tensorflow_privacy.privacy.optimizers.dp_optimizer_keras.make_keras_optimizer_class.<locals>.DPOptimizerClass'>\n",
      " It is True that the model will be DP because  value of optimizer._was_dp_gradients_called is True so DP variant of optimizer has been run\n"
     ]
    }
   ],
   "source": [
    "theType= type(safeModel.optimizer)\n",
    "print(f'optimiser is type {theType}')\n",
    "\n",
    "dpused,reason = safeModel.check_DP_used(safeModel.optimizer)\n",
    "print(f' It is {dpused} that the model will be DP because {reason}')"
   ]
  },
  {
   "cell_type": "markdown",
   "metadata": {},
   "source": [
    "## compute privacy"
   ]
  },
  {
   "cell_type": "code",
   "execution_count": 14,
   "metadata": {},
   "outputs": [
    {
     "name": "stdout",
     "output_type": "stream",
     "text": [
      "dataset has 500 entries so batch size is 5.0%\n",
      "DP-SGD with sampling rate = 5% and noise_multiplier = 0.5 iterated over 500 steps satisfies differential privacy with eps = 43.9 and delta = 1e-05.\n",
      "The optimal RDP order is 1.5.\n",
      "with these settings privacy = (43.85228589564216, 1.5)\n"
     ]
    }
   ],
   "source": [
    "print(f'dataset has {Xt.shape[0]} entries so batch size is {100*safeModel.batch_size/Xt.shape[0]}%')\n",
    "privacy = compute_dp_sgd_privacy.compute_dp_sgd_privacy(n=Xt.shape[0],\n",
    "                                              batch_size=safeModel.batch_size,\n",
    "                                              noise_multiplier=safeModel.noise_multiplier,\n",
    "                                              epochs=25,#epochs,\n",
    "                                              delta=1e-5)\n",
    "print(f'with these settings privacy = {privacy}')"
   ]
  },
  {
   "cell_type": "code",
   "execution_count": 15,
   "metadata": {},
   "outputs": [
    {
     "name": "stderr",
     "output_type": "stream",
     "text": [
      "2022-05-20 10:47:43.195910: W tensorflow/python/util/util.cc:368] Sets are not currently considered sequences, but this may change in the future, so consider avoiding using them.\n"
     ]
    },
    {
     "name": "stdout",
     "output_type": "stream",
     "text": [
      "INFO:tensorflow:Assets written to: safekeras.sav/assets\n"
     ]
    }
   ],
   "source": [
    "safeModel.save('safekeras.sav')"
   ]
  },
  {
   "cell_type": "code",
   "execution_count": 16,
   "metadata": {},
   "outputs": [
    {
     "name": "stdout",
     "output_type": "stream",
     "text": [
      "Model parameters are within recommended ranges.\n",
      "\n"
     ]
    },
    {
     "data": {
      "text/plain": [
       "('Model parameters are within recommended ranges.\\n', False)"
      ]
     },
     "execution_count": 16,
     "metadata": {},
     "output_type": "execute_result"
    }
   ],
   "source": [
    "safeModel.preliminary_check()"
   ]
  },
  {
   "cell_type": "code",
   "execution_count": 17,
   "metadata": {},
   "outputs": [
    {
     "name": "stdout",
     "output_type": "stream",
     "text": [
      "thing associated with key _self_setattr_tracking has type <class 'bool'>\n",
      "thing associated with key _obj_reference_counts_dict has type <class 'keras.utils.object_identity.ObjectIdentityDictionary'>\n",
      "thing associated with key inputs has type <class 'list'>\n",
      "thing associated with key outputs has type <class 'list'>\n",
      "thing associated with key l2_norm_clip has type <class 'float'>\n",
      "thing associated with key noise_multiplier has type <class 'float'>\n",
      "thing associated with key min_epsilon has type <class 'int'>\n",
      "thing associated with key delta has type <class 'float'>\n",
      "thing associated with key batch_size has type <class 'int'>\n",
      "thing associated with key learning_rate has type <class 'float'>\n",
      "thing associated with key _is_model_for_instrumentation has type <class 'bool'>\n",
      "thing associated with key _instrumented_keras_api has type <class 'bool'>\n",
      "thing associated with key _instrumented_keras_layer_class has type <class 'bool'>\n",
      "thing associated with key _instrumented_keras_model_class has type <class 'bool'>\n",
      "thing associated with key _trainable has type <class 'bool'>\n",
      "thing associated with key _stateful has type <class 'bool'>\n",
      "thing associated with key built has type <class 'bool'>\n",
      "thing associated with key _input_spec has type <class 'NoneType'>\n",
      "thing associated with key _build_input_shape has type <class 'tensorflow.python.framework.tensor_shape.TensorShape'>\n",
      "thing associated with key _saved_model_inputs_spec has type <class 'tensorflow.python.framework.tensor_spec.TensorSpec'>\n",
      "thing associated with key _saved_model_arg_spec has type <class 'tuple'>\n",
      "thing associated with key _supports_masking has type <class 'bool'>\n",
      "thing associated with key _name has type <class 'str'>\n",
      "thing associated with key _activity_regularizer has type <class 'NoneType'>\n",
      "thing associated with key _trainable_weights has type <class 'list'>\n",
      "thing associated with key _non_trainable_weights has type <class 'list'>\n",
      "thing associated with key _updates has type <class 'list'>\n",
      "thing associated with key _thread_local has type <class '_thread._local'>\n",
      "thing associated with key _callable_losses has type <class 'list'>\n",
      "thing associated with key _losses has type <class 'list'>\n",
      "thing associated with key _metrics has type <class 'list'>\n",
      "thing associated with key _metrics_lock has type <class '_thread.lock'>\n",
      "thing associated with key _dtype_policy has type <class 'keras.mixed_precision.policy.Policy'>\n",
      "thing associated with key _compute_dtype_object has type <class 'tensorflow.python.framework.dtypes.DType'>\n",
      "thing associated with key _autocast has type <class 'bool'>\n",
      "thing associated with key _self_tracked_trackables has type <class 'list'>\n",
      "thing associated with key _inbound_nodes_value has type <class 'list'>\n",
      "thing associated with key _outbound_nodes_value has type <class 'list'>\n",
      "thing associated with key _expects_training_arg has type <class 'bool'>\n",
      "thing associated with key _default_training_arg has type <class 'NoneType'>\n",
      "thing associated with key _expects_mask_arg has type <class 'bool'>\n",
      "thing associated with key _dynamic has type <class 'bool'>\n",
      "thing associated with key _initial_weights has type <class 'NoneType'>\n",
      "thing associated with key _auto_track_sub_layers has type <class 'bool'>\n",
      "thing associated with key _preserve_input_structure_in_config has type <class 'bool'>\n",
      "thing associated with key _outer_name_scope has type <class 'str'>\n",
      "thing associated with key _is_graph_network has type <class 'bool'>\n",
      "thing associated with key input_names has type <class 'list'>\n",
      "thing associated with key output_names has type <class 'list'>\n",
      "thing associated with key _compute_output_and_mask_jointly has type <class 'bool'>\n",
      "thing associated with key _distribution_strategy has type <class 'NoneType'>\n",
      "thing associated with key _cluster_coordinator has type <class 'NoneType'>\n",
      "thing associated with key _compiled_trainable_state has type <class 'weakref.WeakKeyDictionary'>\n",
      "thing associated with key _training_state has type <class 'NoneType'>\n",
      "thing associated with key _trackable_saver has type <class 'tensorflow.python.training.tracking.util.TrackableSaver'>\n",
      "thing associated with key _steps_per_execution has type <class 'tensorflow.python.ops.resource_variable_ops.ResourceVariable'>\n",
      "thing associated with key _train_counter has type <class 'tensorflow.python.ops.resource_variable_ops.ResourceVariable'>\n",
      "thing associated with key _test_counter has type <class 'tensorflow.python.ops.resource_variable_ops.ResourceVariable'>\n",
      "thing associated with key _predict_counter has type <class 'tensorflow.python.ops.resource_variable_ops.ResourceVariable'>\n",
      "thing associated with key _base_model_initialized has type <class 'bool'>\n",
      "thing associated with key _nested_inputs has type <class 'keras.engine.keras_tensor.KerasTensor'>\n",
      "thing associated with key _nested_outputs has type <class 'keras.engine.keras_tensor.KerasTensor'>\n",
      "thing associated with key _enable_dict_to_input_mapping has type <class 'bool'>\n",
      "thing associated with key _input_layers has type <class 'list'>\n",
      "thing associated with key _output_layers has type <class 'list'>\n",
      "thing associated with key _input_coordinates has type <class 'list'>\n",
      "thing associated with key _output_coordinates has type <class 'list'>\n",
      "thing associated with key _output_mask_cache has type <class 'dict'>\n",
      "thing associated with key _output_tensor_cache has type <class 'dict'>\n",
      "thing associated with key _output_shape_cache has type <class 'dict'>\n",
      "thing associated with key _network_nodes has type <class 'set'>\n",
      "thing associated with key _nodes_by_depth has type <class 'collections.defaultdict'>\n",
      "thing associated with key _layer_call_argspecs has type <class 'dict'>\n",
      "thing associated with key _feed_input_names has type <class 'list'>\n",
      "thing associated with key _feed_inputs has type <class 'list'>\n",
      "thing associated with key _feed_input_shapes has type <class 'list'>\n",
      "thing associated with key _tensor_usage_count has type <class 'collections.Counter'>\n",
      "thing associated with key model has type <class 'NoneType'>\n",
      "thing associated with key saved_model has type <class 'NoneType'>\n",
      "thing associated with key model_save_file has type <class 'str'>\n",
      "thing associated with key _self_unconditional_checkpoint_dependencies has type <class 'list'>\n",
      "thing associated with key _self_unconditional_dependency_names has type <class 'dict'>\n",
      "thing associated with key _self_unconditional_deferred_dependencies has type <class 'dict'>\n",
      "thing associated with key _self_update_uid has type <class 'int'>\n",
      "thing associated with key _self_name_based_restores has type <class 'set'>\n",
      "thing associated with key _self_saveable_object_factories has type <class 'dict'>\n",
      "thing associated with key ignore_items has type <class 'tensorflow.python.training.tracking.data_structures.ListWrapper'>\n",
      "thing associated with key examine_seperately_items has type <class 'tensorflow.python.training.tracking.data_structures.ListWrapper'>\n",
      "thing associated with key filename has type <class 'str'>\n",
      "thing associated with key researcher has type <class 'str'>\n",
      "thing associated with key model_type has type <class 'str'>\n",
      "thing associated with key num_microbatches has type <class 'NoneType'>\n",
      "thing associated with key _run_eagerly has type <class 'NoneType'>\n",
      "thing associated with key optimizer has type <class 'tensorflow_privacy.privacy.optimizers.dp_optimizer_keras.make_keras_optimizer_class.<locals>.DPOptimizerClass'>\n",
      "thing associated with key compiled_loss has type <class 'keras.engine.compile_utils.LossesContainer'>\n",
      "thing associated with key compiled_metrics has type <class 'keras.engine.compile_utils.MetricsContainer'>\n",
      "thing associated with key _is_compiled has type <class 'bool'>\n",
      "thing associated with key loss has type <class 'keras.losses.CategoricalCrossentropy'>\n",
      "thing associated with key _jit_compile has type <class 'NoneType'>\n",
      "thing associated with key num_samples has type <class 'int'>\n",
      "thing associated with key stop_training has type <class 'bool'>\n",
      "thing associated with key history has type <class 'keras.callbacks.History'>\n",
      "thing associated with key train_function has type <class 'tensorflow.python.eager.def_function.Function'>\n",
      "thing associated with key test_function has type <class 'tensorflow.python.eager.def_function.Function'>\n",
      "thing associated with key predict_function has type <class 'NoneType'>\n",
      "thing associated with key train_tf_function has type <class 'tensorflow.python.eager.def_function.Function'>\n"
     ]
    }
   ],
   "source": [
    "for key,value in safeModel.__dict__.items():\n",
    "     print (f'thing associated with key {key} has type {type(value)}')"
   ]
  },
  {
   "cell_type": "code",
   "execution_count": 18,
   "metadata": {},
   "outputs": [
    {
     "name": "stdout",
     "output_type": "stream",
     "text": [
      "===============================================================================================\n",
      "Tuples\n",
      "===============================================================================================\n",
      "thing associated with key _saved_model_arg_spec has type <class 'tuple'>\n",
      "===============================================================================================\n",
      "Bools\n",
      "===============================================================================================\n",
      "thing associated with key _self_setattr_tracking has type <class 'bool'>\n",
      "thing associated with key _is_model_for_instrumentation has type <class 'bool'>\n",
      "thing associated with key _instrumented_keras_api has type <class 'bool'>\n",
      "thing associated with key _instrumented_keras_layer_class has type <class 'bool'>\n",
      "thing associated with key _instrumented_keras_model_class has type <class 'bool'>\n",
      "thing associated with key _trainable has type <class 'bool'>\n",
      "thing associated with key _stateful has type <class 'bool'>\n",
      "thing associated with key built has type <class 'bool'>\n",
      "thing associated with key _supports_masking has type <class 'bool'>\n",
      "thing associated with key _autocast has type <class 'bool'>\n",
      "thing associated with key _expects_training_arg has type <class 'bool'>\n",
      "thing associated with key _expects_mask_arg has type <class 'bool'>\n",
      "thing associated with key _dynamic has type <class 'bool'>\n",
      "thing associated with key _auto_track_sub_layers has type <class 'bool'>\n",
      "thing associated with key _preserve_input_structure_in_config has type <class 'bool'>\n",
      "thing associated with key _is_graph_network has type <class 'bool'>\n",
      "thing associated with key _compute_output_and_mask_jointly has type <class 'bool'>\n",
      "thing associated with key _base_model_initialized has type <class 'bool'>\n",
      "thing associated with key _enable_dict_to_input_mapping has type <class 'bool'>\n",
      "thing associated with key _is_compiled has type <class 'bool'>\n",
      "thing associated with key stop_training has type <class 'bool'>\n",
      "===============================================================================================\n",
      "Lists\n",
      "===============================================================================================\n",
      "thing associated with key inputs has type <class 'list'>\n",
      "thing associated with key outputs has type <class 'list'>\n",
      "thing associated with key _trainable_weights has type <class 'list'>\n",
      "thing associated with key _non_trainable_weights has type <class 'list'>\n",
      "thing associated with key _updates has type <class 'list'>\n",
      "thing associated with key _callable_losses has type <class 'list'>\n",
      "thing associated with key _losses has type <class 'list'>\n",
      "thing associated with key _metrics has type <class 'list'>\n",
      "thing associated with key _self_tracked_trackables has type <class 'list'>\n",
      "thing associated with key _inbound_nodes_value has type <class 'list'>\n",
      "thing associated with key _outbound_nodes_value has type <class 'list'>\n",
      "thing associated with key input_names has type <class 'list'>\n",
      "thing associated with key output_names has type <class 'list'>\n",
      "thing associated with key _input_layers has type <class 'list'>\n",
      "thing associated with key _output_layers has type <class 'list'>\n",
      "thing associated with key _input_coordinates has type <class 'list'>\n",
      "thing associated with key _output_coordinates has type <class 'list'>\n",
      "thing associated with key _feed_input_names has type <class 'list'>\n",
      "thing associated with key _feed_inputs has type <class 'list'>\n",
      "thing associated with key _feed_input_shapes has type <class 'list'>\n",
      "thing associated with key _self_unconditional_checkpoint_dependencies has type <class 'list'>\n",
      "===============================================================================================\n",
      "Strings\n",
      "===============================================================================================\n",
      "thing associated with key _name has type <class 'str'>\n",
      "thing associated with key _outer_name_scope has type <class 'str'>\n",
      "thing associated with key model_save_file has type <class 'str'>\n",
      "thing associated with key filename has type <class 'str'>\n",
      "thing associated with key researcher has type <class 'str'>\n",
      "thing associated with key model_type has type <class 'str'>\n",
      "===============================================================================================\n",
      "Ints\n",
      "===============================================================================================\n",
      "thing associated with key min_epsilon has type <class 'int'>\n",
      "thing associated with key batch_size has type <class 'int'>\n",
      "thing associated with key _self_update_uid has type <class 'int'>\n",
      "thing associated with key num_samples has type <class 'int'>\n",
      "===============================================================================================\n",
      "Floats\n",
      "===============================================================================================\n",
      "thing associated with key l2_norm_clip has type <class 'float'>\n",
      "thing associated with key noise_multiplier has type <class 'float'>\n",
      "thing associated with key delta has type <class 'float'>\n",
      "thing associated with key learning_rate has type <class 'float'>\n",
      "===============================================================================================\n",
      "Dicts\n",
      "===============================================================================================\n",
      "thing associated with key _output_mask_cache has type <class 'dict'>\n",
      "thing associated with key _output_tensor_cache has type <class 'dict'>\n",
      "thing associated with key _output_shape_cache has type <class 'dict'>\n",
      "thing associated with key _layer_call_argspecs has type <class 'dict'>\n",
      "thing associated with key _self_unconditional_dependency_names has type <class 'dict'>\n",
      "thing associated with key _self_unconditional_deferred_dependencies has type <class 'dict'>\n",
      "thing associated with key _self_saveable_object_factories has type <class 'dict'>\n",
      "===============================================================================================\n",
      "Sets\n",
      "===============================================================================================\n",
      "thing associated with key _network_nodes has type <class 'set'>\n",
      "thing associated with key _self_name_based_restores has type <class 'set'>\n",
      "===============================================================================================\n",
      "Unusual Ones\n",
      "===============================================================================================\n",
      "thing associated with key _obj_reference_counts_dict has type <class 'keras.utils.object_identity.ObjectIdentityDictionary'>\n",
      "thing associated with key _input_spec has type <class 'NoneType'>\n",
      "thing associated with key _build_input_shape has type <class 'tensorflow.python.framework.tensor_shape.TensorShape'>\n",
      "thing associated with key _saved_model_inputs_spec has type <class 'tensorflow.python.framework.tensor_spec.TensorSpec'>\n",
      "thing associated with key _activity_regularizer has type <class 'NoneType'>\n",
      "thing associated with key _thread_local has type <class '_thread._local'>\n",
      "thing associated with key _metrics_lock has type <class '_thread.lock'>\n",
      "thing associated with key _dtype_policy has type <class 'keras.mixed_precision.policy.Policy'>\n",
      "thing associated with key _compute_dtype_object has type <class 'tensorflow.python.framework.dtypes.DType'>\n",
      "thing associated with key _default_training_arg has type <class 'NoneType'>\n",
      "thing associated with key _initial_weights has type <class 'NoneType'>\n",
      "thing associated with key _distribution_strategy has type <class 'NoneType'>\n",
      "thing associated with key _cluster_coordinator has type <class 'NoneType'>\n",
      "thing associated with key _compiled_trainable_state has type <class 'weakref.WeakKeyDictionary'>\n",
      "thing associated with key _training_state has type <class 'NoneType'>\n",
      "thing associated with key _trackable_saver has type <class 'tensorflow.python.training.tracking.util.TrackableSaver'>\n",
      "thing associated with key _steps_per_execution has type <class 'tensorflow.python.ops.resource_variable_ops.ResourceVariable'>\n",
      "thing associated with key _train_counter has type <class 'tensorflow.python.ops.resource_variable_ops.ResourceVariable'>\n",
      "thing associated with key _test_counter has type <class 'tensorflow.python.ops.resource_variable_ops.ResourceVariable'>\n",
      "thing associated with key _predict_counter has type <class 'tensorflow.python.ops.resource_variable_ops.ResourceVariable'>\n",
      "thing associated with key _nested_inputs has type <class 'keras.engine.keras_tensor.KerasTensor'>\n",
      "thing associated with key _nested_outputs has type <class 'keras.engine.keras_tensor.KerasTensor'>\n",
      "thing associated with key _nodes_by_depth has type <class 'collections.defaultdict'>\n",
      "thing associated with key _tensor_usage_count has type <class 'collections.Counter'>\n",
      "thing associated with key model has type <class 'NoneType'>\n",
      "thing associated with key saved_model has type <class 'NoneType'>\n",
      "thing associated with key ignore_items has type <class 'tensorflow.python.training.tracking.data_structures.ListWrapper'>\n",
      "thing associated with key examine_seperately_items has type <class 'tensorflow.python.training.tracking.data_structures.ListWrapper'>\n",
      "thing associated with key num_microbatches has type <class 'NoneType'>\n",
      "thing associated with key _run_eagerly has type <class 'NoneType'>\n",
      "thing associated with key optimizer has type <class 'tensorflow_privacy.privacy.optimizers.dp_optimizer_keras.make_keras_optimizer_class.<locals>.DPOptimizerClass'>\n",
      "thing associated with key compiled_loss has type <class 'keras.engine.compile_utils.LossesContainer'>\n",
      "thing associated with key compiled_metrics has type <class 'keras.engine.compile_utils.MetricsContainer'>\n",
      "thing associated with key loss has type <class 'keras.losses.CategoricalCrossentropy'>\n",
      "thing associated with key _jit_compile has type <class 'NoneType'>\n",
      "thing associated with key history has type <class 'keras.callbacks.History'>\n",
      "thing associated with key train_function has type <class 'tensorflow.python.eager.def_function.Function'>\n",
      "thing associated with key test_function has type <class 'tensorflow.python.eager.def_function.Function'>\n",
      "thing associated with key predict_function has type <class 'NoneType'>\n",
      "thing associated with key train_tf_function has type <class 'tensorflow.python.eager.def_function.Function'>\n"
     ]
    }
   ],
   "source": [
    "all_keys = []\n",
    "unusuals =[]\n",
    "tuples =[]\n",
    "deleted_keys = []\n",
    "\n",
    "print(\"===============================================================================================\")\n",
    "print(\"Tuples\")\n",
    "print(\"===============================================================================================\")\n",
    "for key,value in safeModel.__dict__.items():\n",
    "    if(type(value) == tuple):\n",
    "        print (f'thing associated with key {key} has type {type(value)}')\n",
    "        tuples.append(key)\n",
    "\n",
    "print(\"===============================================================================================\")\n",
    "print(\"Bools\")\n",
    "print(\"===============================================================================================\")\n",
    "for key,value in safeModel.__dict__.items():\n",
    "    if(type(value) == bool):\n",
    "        print (f'thing associated with key {key} has type {type(value)}')\n",
    "\n",
    "print(\"===============================================================================================\")\n",
    "print(\"Lists\")\n",
    "print(\"===============================================================================================\")        \n",
    "for key,value in safeModel.__dict__.items():\n",
    "    if(type(value) == list):\n",
    "        print (f'thing associated with key {key} has type {type(value)}')\n",
    "\n",
    "print(\"===============================================================================================\")\n",
    "print(\"Strings\")\n",
    "print(\"===============================================================================================\")\n",
    "for key,value in safeModel.__dict__.items():\n",
    "    if(type(value) == str):\n",
    "        print (f'thing associated with key {key} has type {type(value)}')\n",
    "\n",
    "        \n",
    "print(\"===============================================================================================\")\n",
    "print(\"Ints\")\n",
    "print(\"===============================================================================================\")\n",
    "for key,value in safeModel.__dict__.items():\n",
    "    if(type(value) == int):\n",
    "        print (f'thing associated with key {key} has type {type(value)}')\n",
    "\n",
    "print(\"===============================================================================================\")\n",
    "print(\"Floats\")\n",
    "print(\"===============================================================================================\")\n",
    "for key,value in safeModel.__dict__.items():\n",
    "    if(type(value) == float):\n",
    "        print (f'thing associated with key {key} has type {type(value)}')\n",
    "        \n",
    "print(\"===============================================================================================\")\n",
    "print(\"Dicts\")\n",
    "print(\"===============================================================================================\")\n",
    "for key,value in safeModel.__dict__.items():\n",
    "    if(type(value) == dict):\n",
    "        print (f'thing associated with key {key} has type {type(value)}')\n",
    "\n",
    "        \n",
    "print(\"===============================================================================================\")\n",
    "print(\"Sets\")\n",
    "print(\"===============================================================================================\")\n",
    "for key,value in safeModel.__dict__.items():\n",
    "    if(type(value) == set):\n",
    "        print (f'thing associated with key {key} has type {type(value)}')\n",
    "\n",
    "print(\"===============================================================================================\")\n",
    "print(\"Unusual Ones\")\n",
    "print(\"===============================================================================================\")\n",
    "\n",
    "        \n",
    "for key,value in safeModel.__dict__.items():\n",
    "    if((type(value) != int) and (type(value) != str) and \n",
    "       (type(value) != list) and (type(value) != bool) and \n",
    "       (type(value) != tuple) and (type(value) != float) and\n",
    "       (type(value) != dict) and (type(value) != set)):\n",
    "        print (f'thing associated with key {key} has type {type(value)}')\n",
    "        unusuals.append(key)"
   ]
  },
  {
   "cell_type": "code",
   "execution_count": 19,
   "metadata": {},
   "outputs": [
    {
     "name": "stdout",
     "output_type": "stream",
     "text": [
      "INFO:tensorflow:Assets written to: my_model/assets\n",
      "INFO:tensorflow:Assets written to: safe.sav/assets\n"
     ]
    },
    {
     "name": "stderr",
     "output_type": "stream",
     "text": [
      "...<class 'TypeError'> error; cannot pickle '_thread.RLock' object\n",
      "...<class 'TypeError'> error; cannot pickle '_thread._local' object\n",
      "...<class 'TypeError'> error; cannot pickle '_thread.lock' object\n"
     ]
    },
    {
     "name": "stdout",
     "output_type": "stream",
     "text": [
      "INFO:tensorflow:Assets written to: ram://a675b9b8-ce15-4d1c-aa13-7fabe1c52b9b/assets\n"
     ]
    },
    {
     "name": "stderr",
     "output_type": "stream",
     "text": [
      "...<class 'ValueError'> error; Unknown optimizer: DPOptimizerClass. Please ensure this object is passed to the `custom_objects` argument. See https://www.tensorflow.org/guide/keras/save_and_serialize#registering_the_custom_object for details.\n",
      "...<class 'TypeError'> error; cannot pickle '_thread.RLock' object\n",
      "...<class 'TypeError'> error; cannot pickle '_thread.RLock' object\n",
      "...<class 'TypeError'> error; cannot pickle '_thread.RLock' object\n",
      "...<class 'TypeError'> error; cannot pickle '_thread.RLock' object\n"
     ]
    },
    {
     "name": "stdout",
     "output_type": "stream",
     "text": [
      "INFO:tensorflow:Assets written to: ram://3d2b23f6-1069-4045-97e5-fabccadf778d/assets\n"
     ]
    },
    {
     "name": "stderr",
     "output_type": "stream",
     "text": [
      "...<class 'ValueError'> error; Unknown optimizer: DPOptimizerClass. Please ensure this object is passed to the `custom_objects` argument. See https://www.tensorflow.org/guide/keras/save_and_serialize#registering_the_custom_object for details.\n",
      "...<class 'TypeError'> error; cannot pickle '_thread.RLock' object\n",
      "...<class 'TypeError'> error; cannot pickle '_thread.RLock' object\n",
      "...<class 'TypeError'> error; cannot pickle '_thread.RLock' object\n"
     ]
    },
    {
     "name": "stdout",
     "output_type": "stream",
     "text": [
      "<tensorflow_privacy.privacy.optimizers.dp_optimizer_keras.make_keras_optimizer_class.<locals>.DPOptimizerClass object at 0x7f3b169fc940>\n",
      "<tensorflow_privacy.privacy.optimizers.dp_optimizer_keras.make_keras_optimizer_class.<locals>.DPOptimizerClass object at 0x7f3b169fc940>\n",
      "DP-SGD with sampling rate = 10% and noise_multiplier = 0.5 iterated over 200 steps satisfies differential privacy with eps = 50.3 and delta = 1e-05.\n",
      "The optimal RDP order is 1.5.\n",
      "optimiser is type <class 'tensorflow_privacy.privacy.optimizers.dp_optimizer_keras.make_keras_optimizer_class.<locals>.DPOptimizerClass'>\n",
      "Error: user has not called fit() method or has deleted saved values.Recommendation: Do not release. It is True that the model will be DP because  value of optimizer._was_dp_gradients_called is True so DP variant of optimizer has been runepsilon is not sufficient for Differential privacy: 50.301726361197794. You must modify one or more of batch_size, epochs, number of samples.\n",
      " value of optimizer._was_dp_gradients_called is True so DP variant of optimizer has been run\n"
     ]
    }
   ],
   "source": [
    "#safeModel.request_release('safekeras.pkl') # TypeError: cannot pickle '_thread.RLock' object\n",
    "\n",
    "#safeModel.request_release('safekeras.sav') # TypeError: cannot pickle '_thread.RLock' object\n",
    "\n",
    "#safeModel.request_release('safekeras.tf')\n",
    "\n",
    "\n",
    "\n",
    "\n",
    "safeModel.save('my_model')\n",
    "safeModel.save_weights('weights.h5')\n",
    "\n",
    "safeModel.request_release('safe.sav')"
   ]
  },
  {
   "cell_type": "code",
   "execution_count": 20,
   "metadata": {},
   "outputs": [
    {
     "name": "stderr",
     "output_type": "stream",
     "text": [
      "...<class 'TypeError'> error; cannot pickle '_thread.RLock' object\n",
      "...<class 'TypeError'> error; cannot pickle '_thread._local' object\n",
      "...<class 'TypeError'> error; cannot pickle '_thread.lock' object\n"
     ]
    },
    {
     "name": "stdout",
     "output_type": "stream",
     "text": [
      "INFO:tensorflow:Assets written to: ram://d29cefd3-a730-4bd1-8e09-61b28d11dd05/assets\n"
     ]
    },
    {
     "name": "stderr",
     "output_type": "stream",
     "text": [
      "...<class 'ValueError'> error; Unknown optimizer: DPOptimizerClass. Please ensure this object is passed to the `custom_objects` argument. See https://www.tensorflow.org/guide/keras/save_and_serialize#registering_the_custom_object for details.\n",
      "...<class 'TypeError'> error; cannot pickle '_thread.RLock' object\n",
      "...<class 'TypeError'> error; cannot pickle '_thread.RLock' object\n",
      "...<class 'TypeError'> error; cannot pickle '_thread.RLock' object\n",
      "...<class 'TypeError'> error; cannot pickle '_thread.RLock' object\n"
     ]
    },
    {
     "name": "stdout",
     "output_type": "stream",
     "text": [
      "INFO:tensorflow:Assets written to: ram://179b89ec-15fc-4d5e-b383-6d0e89ca8e9e/assets\n"
     ]
    },
    {
     "name": "stderr",
     "output_type": "stream",
     "text": [
      "...<class 'ValueError'> error; Unknown optimizer: DPOptimizerClass. Please ensure this object is passed to the `custom_objects` argument. See https://www.tensorflow.org/guide/keras/save_and_serialize#registering_the_custom_object for details.\n",
      "...<class 'TypeError'> error; cannot pickle '_thread.RLock' object\n",
      "...<class 'TypeError'> error; cannot pickle '_thread.RLock' object\n",
      "...<class 'TypeError'> error; cannot pickle '_thread.RLock' object\n"
     ]
    },
    {
     "name": "stdout",
     "output_type": "stream",
     "text": [
      "<tensorflow_privacy.privacy.optimizers.dp_optimizer_keras.make_keras_optimizer_class.<locals>.DPOptimizerClass object at 0x7f3b169fc940>\n",
      "<tensorflow_privacy.privacy.optimizers.dp_optimizer_keras.make_keras_optimizer_class.<locals>.DPOptimizerClass object at 0x7f3b169fc940>\n",
      "DP-SGD with sampling rate = 10% and noise_multiplier = 0.5 iterated over 200 steps satisfies differential privacy with eps = 50.3 and delta = 1e-05.\n",
      "The optimal RDP order is 1.5.\n",
      "optimiser is type <class 'tensorflow_privacy.privacy.optimizers.dp_optimizer_keras.make_keras_optimizer_class.<locals>.DPOptimizerClass'>\n",
      "Error: user has not called fit() method or has deleted saved values.Recommendation: Do not release. It is True that the model will be DP because  value of optimizer._was_dp_gradients_called is True so DP variant of optimizer has been runepsilon is not sufficient for Differential privacy: 50.301726361197794. You must modify one or more of batch_size, epochs, number of samples.\n",
      " value of optimizer._was_dp_gradients_called is True so DP variant of optimizer has been run\n"
     ]
    }
   ],
   "source": [
    "\n",
    "\n",
    "safeModel.request_release('safekeras.h5')"
   ]
  },
  {
   "cell_type": "code",
   "execution_count": 21,
   "metadata": {},
   "outputs": [
    {
     "name": "stdout",
     "output_type": "stream",
     "text": [
      "args is a <class 'tuple'> = ()  kwargs is a <class 'dict'>= {'inputs': <KerasTensor: shape=(None, 300) dtype=float32 (created by layer 'input_1')>, 'outputs': <KerasTensor: shape=(None, 2) dtype=float32 (created by layer 'dense_3')>, 'name': 'safekeras-test'}\n",
      "inputs is in kwargs.keys\n",
      "KerasTensor(type_spec=TensorSpec(shape=(None, 300), dtype=tf.float32, name='input_1'), name='input_1', description=\"created by layer 'input_1'\")\n",
      "Model parameters are within recommended ranges.\n",
      "\n",
      "Changed parameter optimizer = 'DPKerasSGDOptimizer'\n",
      "WARNING: model parameters may present a disclosure risk\n",
      "Unknown optimizer <class 'tensorflow_privacy.privacy.optimizers.dp_optimizer_keras.make_keras_optimizer_class.<locals>.DPOptimizerClass'> - Changed parameter optimizer = 'DPKerasSGDOptimizer'\n",
      "DP optimizer used = False\n",
      "optimizer has been changed but fit() has not been rerun.\n",
      "(250, 300)\n",
      "DP-SGD with sampling rate = 10% and noise_multiplier = 0.5 iterated over 200 steps satisfies differential privacy with eps = 50.3 and delta = 1e-05.\n",
      "The optimal RDP order is 1.5.\n",
      "Current epsilon is 50.301726361197794\n",
      "The requirements for DP are not met, current epsilon is: 50.301726361197794. To attain true DP the following parameters can be changed:  Num Samples = 250, batch_size = 25, epochs = 20\n",
      "This will not result in a Differentially Private model do you want to continue [Y/N]y\n",
      "Continuing\n",
      "Epoch 1/20\n",
      "10/10 [==============================] - 3s 47ms/step - loss: 0.2531 - accuracy: 0.9280 - val_loss: 1.9950 - val_accuracy: 0.6040\n",
      "Epoch 2/20\n",
      "10/10 [==============================] - 0s 38ms/step - loss: 0.2103 - accuracy: 0.9400 - val_loss: 2.0010 - val_accuracy: 0.6160\n",
      "Epoch 3/20\n",
      "10/10 [==============================] - 0s 39ms/step - loss: 0.1763 - accuracy: 0.9520 - val_loss: 2.0229 - val_accuracy: 0.5760\n",
      "Epoch 4/20\n",
      "10/10 [==============================] - 0s 31ms/step - loss: 0.1583 - accuracy: 0.9480 - val_loss: 1.9526 - val_accuracy: 0.6040\n",
      "Epoch 5/20\n",
      "10/10 [==============================] - 0s 35ms/step - loss: 0.1482 - accuracy: 0.9600 - val_loss: 1.9548 - val_accuracy: 0.6200\n",
      "Epoch 6/20\n",
      "10/10 [==============================] - 0s 36ms/step - loss: 0.1343 - accuracy: 0.9560 - val_loss: 2.0136 - val_accuracy: 0.5880\n",
      "Epoch 7/20\n",
      "10/10 [==============================] - 0s 41ms/step - loss: 0.1128 - accuracy: 0.9560 - val_loss: 2.1557 - val_accuracy: 0.6000\n",
      "Epoch 8/20\n",
      "10/10 [==============================] - 0s 39ms/step - loss: 0.1009 - accuracy: 0.9680 - val_loss: 2.2306 - val_accuracy: 0.5800\n",
      "Epoch 9/20\n",
      "10/10 [==============================] - 0s 40ms/step - loss: 0.1025 - accuracy: 0.9640 - val_loss: 2.3029 - val_accuracy: 0.5760\n",
      "Epoch 10/20\n",
      "10/10 [==============================] - 0s 35ms/step - loss: 0.0933 - accuracy: 0.9720 - val_loss: 2.2974 - val_accuracy: 0.5920\n",
      "Epoch 11/20\n",
      "10/10 [==============================] - 0s 36ms/step - loss: 0.0879 - accuracy: 0.9840 - val_loss: 2.1707 - val_accuracy: 0.6120\n",
      "Epoch 12/20\n",
      "10/10 [==============================] - 0s 35ms/step - loss: 0.0933 - accuracy: 0.9720 - val_loss: 2.2013 - val_accuracy: 0.6120\n",
      "Epoch 13/20\n",
      "10/10 [==============================] - 0s 40ms/step - loss: 0.0972 - accuracy: 0.9720 - val_loss: 2.1390 - val_accuracy: 0.6200\n",
      "Epoch 14/20\n",
      "10/10 [==============================] - 0s 41ms/step - loss: 0.0902 - accuracy: 0.9800 - val_loss: 2.1417 - val_accuracy: 0.6360\n",
      "Epoch 15/20\n",
      "10/10 [==============================] - 0s 33ms/step - loss: 0.0829 - accuracy: 0.9800 - val_loss: 2.1298 - val_accuracy: 0.6120\n",
      "Epoch 16/20\n",
      "10/10 [==============================] - 0s 36ms/step - loss: 0.0636 - accuracy: 0.9880 - val_loss: 2.1861 - val_accuracy: 0.6200\n",
      "Epoch 17/20\n",
      "10/10 [==============================] - 0s 38ms/step - loss: 0.0614 - accuracy: 0.9840 - val_loss: 2.3633 - val_accuracy: 0.6120\n",
      "Epoch 18/20\n",
      "10/10 [==============================] - 0s 40ms/step - loss: 0.0684 - accuracy: 0.9840 - val_loss: 2.2693 - val_accuracy: 0.5960\n",
      "Epoch 19/20\n",
      "10/10 [==============================] - 0s 36ms/step - loss: 0.0474 - accuracy: 0.9920 - val_loss: 2.3263 - val_accuracy: 0.5880\n",
      "Epoch 20/20\n",
      "10/10 [==============================] - 1s 54ms/step - loss: 0.0402 - accuracy: 0.9920 - val_loss: 2.2833 - val_accuracy: 0.6080\n"
     ]
    }
   ],
   "source": [
    "importlib.reload(safemodel.safemodel)\n",
    "importlib.reload(safemodel.classifiers.safekeras)\n",
    "from safemodel.classifiers.safekeras import Safe_KerasModel\n",
    "\n",
    "optimizer=None\n",
    "safeModel = Safe_KerasModel(inputs= input_data, outputs=output,name=\"safekeras-test\")\n",
    "\n",
    "loss = tf.keras.losses.CategoricalCrossentropy(\n",
    "    from_logits=False, reduction=tf.losses.Reduction.NONE)\n",
    "\n",
    "\n",
    "safeModel.compile(loss=loss)#optimizer='adam', loss='categorical_crossentropy', metrics=['accuracy'])\n",
    "\n",
    "epochs = 20\n",
    "batch_size = 25\n",
    "\n",
    "r_DP = safeModel.fit(Xt_member, \n",
    "              yt_member, \n",
    "              validation_data=(Xt_nonmember, yt_nonmember),\n",
    "              epochs=epochs, \n",
    "              batch_size=batch_size\n",
    ")  \n"
   ]
  },
  {
   "cell_type": "code",
   "execution_count": 22,
   "metadata": {},
   "outputs": [
    {
     "name": "stdout",
     "output_type": "stream",
     "text": [
      "***Test 1: researcher doesn't change recommended params\n",
      "args is a <class 'tuple'> = ()  kwargs is a <class 'dict'>= {'inputs': <KerasTensor: shape=(None, 300) dtype=float32 (created by layer 'input_1')>, 'outputs': <KerasTensor: shape=(None, 2) dtype=float32 (created by layer 'dense_3')>, 'name': 'safekerasmodel1-test'}\n",
      "inputs is in kwargs.keys\n",
      "KerasTensor(type_spec=TensorSpec(shape=(None, 300), dtype=tf.float32, name='input_1'), name='input_1', description=\"created by layer 'input_1'\")\n",
      "Model parameters are within recommended ranges.\n",
      "\n",
      "Changed parameter optimizer = 'DPKerasSGDOptimizer'\n",
      "WARNING: model parameters may present a disclosure risk\n",
      "Unknown optimizer <class 'tensorflow_privacy.privacy.optimizers.dp_optimizer_keras.make_keras_optimizer_class.<locals>.DPOptimizerClass'> - Changed parameter optimizer = 'DPKerasSGDOptimizer'\n",
      "DP optimizer used = False\n",
      "optimizer has been changed but fit() has not been rerun.\n",
      "(250, 300)\n",
      "DP-SGD with sampling rate = 10% and noise_multiplier = 0.5 iterated over 200 steps satisfies differential privacy with eps = 50.3 and delta = 1e-05.\n",
      "The optimal RDP order is 1.5.\n",
      "Current epsilon is 50.301726361197794\n",
      "The requirements for DP are not met, current epsilon is: 50.301726361197794. To attain true DP the following parameters can be changed:  Num Samples = 250, batch_size = 25, epochs = 20\n",
      "This will not result in a Differentially Private model do you want to continue [Y/N]y\n",
      "Continuing\n",
      "Epoch 1/20\n",
      "10/10 [==============================] - 3s 46ms/step - loss: 0.0389 - accuracy: 0.9920 - val_loss: 2.3952 - val_accuracy: 0.6080\n",
      "Epoch 2/20\n",
      "10/10 [==============================] - 0s 33ms/step - loss: 0.0219 - accuracy: 0.9960 - val_loss: 2.3464 - val_accuracy: 0.5960\n",
      "Epoch 3/20\n",
      "10/10 [==============================] - 0s 36ms/step - loss: 0.0367 - accuracy: 0.9920 - val_loss: 2.3183 - val_accuracy: 0.6000\n",
      "Epoch 4/20\n",
      "10/10 [==============================] - 0s 41ms/step - loss: 0.0314 - accuracy: 0.9920 - val_loss: 2.4740 - val_accuracy: 0.6080\n",
      "Epoch 5/20\n",
      "10/10 [==============================] - 0s 33ms/step - loss: 0.0250 - accuracy: 0.9960 - val_loss: 2.5067 - val_accuracy: 0.5880\n",
      "Epoch 6/20\n",
      "10/10 [==============================] - 0s 41ms/step - loss: 0.0246 - accuracy: 0.9920 - val_loss: 2.4970 - val_accuracy: 0.5960\n",
      "Epoch 7/20\n",
      "10/10 [==============================] - 0s 43ms/step - loss: 0.0253 - accuracy: 0.9880 - val_loss: 2.4909 - val_accuracy: 0.5960\n",
      "Epoch 8/20\n",
      "10/10 [==============================] - 0s 40ms/step - loss: 0.0155 - accuracy: 0.9960 - val_loss: 2.5987 - val_accuracy: 0.6040\n",
      "Epoch 9/20\n",
      "10/10 [==============================] - 0s 41ms/step - loss: 0.0221 - accuracy: 0.9960 - val_loss: 2.5444 - val_accuracy: 0.6200\n",
      "Epoch 10/20\n",
      "10/10 [==============================] - 0s 40ms/step - loss: 0.0186 - accuracy: 0.9960 - val_loss: 2.6428 - val_accuracy: 0.6080\n",
      "Epoch 11/20\n",
      "10/10 [==============================] - 0s 37ms/step - loss: 0.0134 - accuracy: 0.9960 - val_loss: 2.6797 - val_accuracy: 0.5960\n",
      "Epoch 12/20\n",
      "10/10 [==============================] - 0s 43ms/step - loss: 0.0035 - accuracy: 1.0000 - val_loss: 2.6820 - val_accuracy: 0.6240\n",
      "Epoch 13/20\n",
      "10/10 [==============================] - 0s 38ms/step - loss: 0.0090 - accuracy: 0.9960 - val_loss: 2.7394 - val_accuracy: 0.6280\n",
      "Epoch 14/20\n",
      "10/10 [==============================] - 0s 39ms/step - loss: 0.0203 - accuracy: 0.9960 - val_loss: 2.6790 - val_accuracy: 0.6240\n",
      "Epoch 15/20\n",
      "10/10 [==============================] - 0s 35ms/step - loss: 0.0095 - accuracy: 0.9960 - val_loss: 2.6430 - val_accuracy: 0.6480\n",
      "Epoch 16/20\n",
      "10/10 [==============================] - 0s 34ms/step - loss: 0.0034 - accuracy: 1.0000 - val_loss: 2.5905 - val_accuracy: 0.6480\n",
      "Epoch 17/20\n",
      "10/10 [==============================] - 0s 36ms/step - loss: 0.0063 - accuracy: 0.9960 - val_loss: 2.6693 - val_accuracy: 0.6400\n",
      "Epoch 18/20\n",
      "10/10 [==============================] - 0s 40ms/step - loss: 0.0029 - accuracy: 1.0000 - val_loss: 2.7416 - val_accuracy: 0.6400\n",
      "Epoch 19/20\n",
      "10/10 [==============================] - 2s 165ms/step - loss: 0.0022 - accuracy: 1.0000 - val_loss: 2.7815 - val_accuracy: 0.6440\n",
      "Epoch 20/20\n",
      "10/10 [==============================] - 1s 81ms/step - loss: 0.0014 - accuracy: 1.0000 - val_loss: 2.8167 - val_accuracy: 0.6520\n",
      "INFO:tensorflow:Assets written to: safe1.pkl/assets\n",
      "Model parameters are within recommended ranges.\n",
      "\n",
      "INFO:tensorflow:Assets written to: safe1.pkl/assets\n"
     ]
    },
    {
     "name": "stderr",
     "output_type": "stream",
     "text": [
      "...<class 'TypeError'> error; cannot pickle '_thread.RLock' object\n",
      "...<class 'TypeError'> error; cannot pickle '_thread._local' object\n",
      "...<class 'TypeError'> error; cannot pickle '_thread.lock' object\n"
     ]
    },
    {
     "name": "stdout",
     "output_type": "stream",
     "text": [
      "INFO:tensorflow:Assets written to: ram://0dd5efea-8333-44c5-821b-856ad6bffea5/assets\n"
     ]
    },
    {
     "name": "stderr",
     "output_type": "stream",
     "text": [
      "...<class 'ValueError'> error; Unknown optimizer: DPOptimizerClass. Please ensure this object is passed to the `custom_objects` argument. See https://www.tensorflow.org/guide/keras/save_and_serialize#registering_the_custom_object for details.\n",
      "...<class 'TypeError'> error; cannot pickle '_thread.RLock' object\n",
      "...<class 'TypeError'> error; cannot pickle '_thread.RLock' object\n",
      "...<class 'TypeError'> error; cannot pickle '_thread.RLock' object\n",
      "...<class 'TypeError'> error; cannot pickle '_thread.RLock' object\n"
     ]
    },
    {
     "name": "stdout",
     "output_type": "stream",
     "text": [
      "INFO:tensorflow:Assets written to: ram://94f13272-4623-4105-8c6e-6b05827cff6f/assets\n"
     ]
    },
    {
     "name": "stderr",
     "output_type": "stream",
     "text": [
      "...<class 'ValueError'> error; Unknown optimizer: DPOptimizerClass. Please ensure this object is passed to the `custom_objects` argument. See https://www.tensorflow.org/guide/keras/save_and_serialize#registering_the_custom_object for details.\n",
      "...<class 'TypeError'> error; cannot pickle '_thread.RLock' object\n",
      "...<class 'TypeError'> error; cannot pickle '_thread.RLock' object\n",
      "...<class 'TypeError'> error; cannot pickle '_thread.RLock' object\n"
     ]
    },
    {
     "name": "stdout",
     "output_type": "stream",
     "text": [
      "<tensorflow_privacy.privacy.optimizers.dp_optimizer_keras.make_keras_optimizer_class.<locals>.DPOptimizerClass object at 0x7f3b1661df40>\n",
      "<tensorflow_privacy.privacy.optimizers.dp_optimizer_keras.make_keras_optimizer_class.<locals>.DPOptimizerClass object at 0x7f3b1661df40>\n",
      "DP-SGD with sampling rate = 10% and noise_multiplier = 0.5 iterated over 200 steps satisfies differential privacy with eps = 50.3 and delta = 1e-05.\n",
      "The optimal RDP order is 1.5.\n",
      "optimiser is type <class 'tensorflow_privacy.privacy.optimizers.dp_optimizer_keras.make_keras_optimizer_class.<locals>.DPOptimizerClass'>\n",
      "Error: user has not called fit() method or has deleted saved values.Recommendation: Do not release. It is True that the model will be DP because  value of optimizer._was_dp_gradients_called is True so DP variant of optimizer has been runepsilon is not sufficient for Differential privacy: 50.301726361197794. You must modify one or more of batch_size, epochs, number of samples.\n",
      " value of optimizer._was_dp_gradients_called is True so DP variant of optimizer has been run\n"
     ]
    }
   ],
   "source": [
    "importlib.reload(safemodel.safemodel)\n",
    "importlib.reload(safemodel.classifiers.safekeras)\n",
    "from safemodel.classifiers.safekeras import Safe_KerasModel\n",
    "\n",
    "\n",
    "# create and fit using recommended params\n",
    "\n",
    "\n",
    "print(\"***Test 1: researcher doesn't change recommended params\")\n",
    "optimizer=None\n",
    "safeKerasModel1 = Safe_KerasModel(inputs=input_data, outputs=output,name=\"safekerasmodel1-test\")\n",
    "safeKerasModel1.compile(loss=loss)\n",
    "safeKerasModel1.fit(Xt_member, \n",
    "                    yt_member, \n",
    "                    validation_data=(Xt_nonmember, yt_nonmember),\n",
    "                    epochs=epochs, \n",
    "                    batch_size=batch_size)\n",
    "safeKerasModel1.save(\"safe1.pkl\")\n",
    "safeKerasModel1.preliminary_check()\n",
    "safeKerasModel1.request_release(filename=\"safe1.pkl\")"
   ]
  },
  {
   "cell_type": "code",
   "execution_count": 23,
   "metadata": {},
   "outputs": [
    {
     "name": "stdout",
     "output_type": "stream",
     "text": [
      "\n",
      "***Test 2: researcher changes params safely\n",
      "args is a <class 'tuple'> = ()  kwargs is a <class 'dict'>= {'inputs': <KerasTensor: shape=(None, 300) dtype=float32 (created by layer 'input_1')>, 'outputs': <KerasTensor: shape=(None, 2) dtype=float32 (created by layer 'dense_3')>, 'name': 'safekerasmodel2-test', 'l2_norm_clip': 1.1, 'noise_multiplier': 0.6}\n",
      "inputs is in kwargs.keys\n",
      "KerasTensor(type_spec=TensorSpec(shape=(None, 300), dtype=tf.float32, name='input_1'), name='input_1', description=\"created by layer 'input_1'\")\n",
      "Model parameters are within recommended ranges.\n",
      "\n",
      "WARNING: model parameters may present a disclosure risk\n",
      "Unknown optimizer <class 'tensorflow_privacy.privacy.optimizers.dp_optimizer_keras.make_keras_optimizer_class.<locals>.DPOptimizerClass'> - Changed parameter optimizer = 'DPKerasSGDOptimizer'\n",
      "DP optimizer used = False\n",
      "optimizer has been changed but fit() has not been rerun.\n",
      "(250, 300)\n",
      "DP-SGD with sampling rate = 10% and noise_multiplier = 0.6 iterated over 200 steps satisfies differential privacy with eps = 32.9 and delta = 1e-05.\n",
      "The optimal RDP order is 1.75.\n",
      "Current epsilon is 32.860767694468635\n",
      "The requirements for DP are not met, current epsilon is: 32.860767694468635. To attain true DP the following parameters can be changed:  Num Samples = 250, batch_size = 25, epochs = 20\n",
      "This will not result in a Differentially Private model do you want to continue [Y/N]y\n",
      "Continuing\n",
      "Epoch 1/20\n",
      "10/10 [==============================] - 3s 46ms/step - loss: 0.0017 - accuracy: 1.0000 - val_loss: 2.8458 - val_accuracy: 0.6480\n",
      "Epoch 2/20\n",
      "10/10 [==============================] - 0s 36ms/step - loss: 0.0140 - accuracy: 0.9920 - val_loss: 2.8767 - val_accuracy: 0.6480\n",
      "Epoch 3/20\n",
      "10/10 [==============================] - 0s 38ms/step - loss: 0.0077 - accuracy: 1.0000 - val_loss: 2.9421 - val_accuracy: 0.6400\n",
      "Epoch 4/20\n",
      "10/10 [==============================] - 0s 41ms/step - loss: 0.0100 - accuracy: 1.0000 - val_loss: 3.2513 - val_accuracy: 0.6440\n",
      "Epoch 5/20\n",
      "10/10 [==============================] - 0s 40ms/step - loss: 0.0426 - accuracy: 0.9840 - val_loss: 3.3299 - val_accuracy: 0.6120\n",
      "Epoch 6/20\n",
      "10/10 [==============================] - 0s 36ms/step - loss: 0.0235 - accuracy: 0.9920 - val_loss: 3.5003 - val_accuracy: 0.5880\n",
      "Epoch 7/20\n",
      "10/10 [==============================] - 1s 65ms/step - loss: 0.0343 - accuracy: 0.9840 - val_loss: 3.7318 - val_accuracy: 0.5920\n",
      "Epoch 8/20\n",
      "10/10 [==============================] - 1s 54ms/step - loss: 0.0127 - accuracy: 0.9960 - val_loss: 3.6614 - val_accuracy: 0.5960\n",
      "Epoch 9/20\n",
      "10/10 [==============================] - 2s 182ms/step - loss: 0.0336 - accuracy: 0.9880 - val_loss: 3.6869 - val_accuracy: 0.6160\n",
      "Epoch 10/20\n",
      "10/10 [==============================] - 0s 43ms/step - loss: 0.0358 - accuracy: 0.9880 - val_loss: 3.6302 - val_accuracy: 0.6200\n",
      "Epoch 11/20\n",
      "10/10 [==============================] - 0s 45ms/step - loss: 0.0430 - accuracy: 0.9760 - val_loss: 3.7105 - val_accuracy: 0.6200\n",
      "Epoch 12/20\n",
      "10/10 [==============================] - 0s 38ms/step - loss: 0.0743 - accuracy: 0.9840 - val_loss: 3.6345 - val_accuracy: 0.6080\n",
      "Epoch 13/20\n",
      "10/10 [==============================] - 0s 47ms/step - loss: 0.0698 - accuracy: 0.9680 - val_loss: 3.6655 - val_accuracy: 0.6200\n",
      "Epoch 14/20\n",
      "10/10 [==============================] - 0s 37ms/step - loss: 0.0831 - accuracy: 0.9760 - val_loss: 3.6129 - val_accuracy: 0.6080\n",
      "Epoch 15/20\n",
      "10/10 [==============================] - 0s 43ms/step - loss: 0.1110 - accuracy: 0.9800 - val_loss: 3.7140 - val_accuracy: 0.6000\n",
      "Epoch 16/20\n",
      "10/10 [==============================] - 0s 45ms/step - loss: 0.1220 - accuracy: 0.9760 - val_loss: 3.7139 - val_accuracy: 0.6200\n",
      "Epoch 17/20\n",
      "10/10 [==============================] - 0s 35ms/step - loss: 0.1199 - accuracy: 0.9720 - val_loss: 3.8879 - val_accuracy: 0.6160\n",
      "Epoch 18/20\n",
      "10/10 [==============================] - 0s 34ms/step - loss: 0.1185 - accuracy: 0.9640 - val_loss: 3.8831 - val_accuracy: 0.6360\n",
      "Epoch 19/20\n",
      "10/10 [==============================] - 0s 39ms/step - loss: 0.1209 - accuracy: 0.9640 - val_loss: 3.7715 - val_accuracy: 0.6320\n",
      "Epoch 20/20\n",
      "10/10 [==============================] - 0s 36ms/step - loss: 0.0954 - accuracy: 0.9760 - val_loss: 3.8287 - val_accuracy: 0.6320\n",
      "INFO:tensorflow:Assets written to: safe2.hd5/assets\n",
      "Model parameters are within recommended ranges.\n",
      "\n",
      "INFO:tensorflow:Assets written to: safe2.hd5/assets\n"
     ]
    },
    {
     "name": "stderr",
     "output_type": "stream",
     "text": [
      "...<class 'TypeError'> error; cannot pickle '_thread.RLock' object\n",
      "...<class 'TypeError'> error; cannot pickle '_thread._local' object\n",
      "...<class 'TypeError'> error; cannot pickle '_thread.lock' object\n"
     ]
    },
    {
     "name": "stdout",
     "output_type": "stream",
     "text": [
      "INFO:tensorflow:Assets written to: ram://3be24347-d23f-45c9-8e8b-a6fb8d090cd8/assets\n"
     ]
    },
    {
     "name": "stderr",
     "output_type": "stream",
     "text": [
      "...<class 'ValueError'> error; Unknown optimizer: DPOptimizerClass. Please ensure this object is passed to the `custom_objects` argument. See https://www.tensorflow.org/guide/keras/save_and_serialize#registering_the_custom_object for details.\n",
      "...<class 'TypeError'> error; cannot pickle '_thread.RLock' object\n",
      "...<class 'TypeError'> error; cannot pickle '_thread.RLock' object\n",
      "...<class 'TypeError'> error; cannot pickle '_thread.RLock' object\n",
      "...<class 'TypeError'> error; cannot pickle '_thread.RLock' object\n"
     ]
    },
    {
     "name": "stdout",
     "output_type": "stream",
     "text": [
      "INFO:tensorflow:Assets written to: ram://373f4351-970f-4dfa-8815-d47a18733f74/assets\n"
     ]
    },
    {
     "name": "stderr",
     "output_type": "stream",
     "text": [
      "...<class 'ValueError'> error; Unknown optimizer: DPOptimizerClass. Please ensure this object is passed to the `custom_objects` argument. See https://www.tensorflow.org/guide/keras/save_and_serialize#registering_the_custom_object for details.\n",
      "...<class 'TypeError'> error; cannot pickle '_thread.RLock' object\n",
      "...<class 'TypeError'> error; cannot pickle '_thread.RLock' object\n",
      "...<class 'TypeError'> error; cannot pickle '_thread.RLock' object\n"
     ]
    },
    {
     "name": "stdout",
     "output_type": "stream",
     "text": [
      "<tensorflow_privacy.privacy.optimizers.dp_optimizer_keras.make_keras_optimizer_class.<locals>.DPOptimizerClass object at 0x7f3b165d0640>\n",
      "<tensorflow_privacy.privacy.optimizers.dp_optimizer_keras.make_keras_optimizer_class.<locals>.DPOptimizerClass object at 0x7f3b165d0640>\n",
      "DP-SGD with sampling rate = 10% and noise_multiplier = 0.6 iterated over 200 steps satisfies differential privacy with eps = 32.9 and delta = 1e-05.\n",
      "The optimal RDP order is 1.75.\n",
      "optimiser is type <class 'tensorflow_privacy.privacy.optimizers.dp_optimizer_keras.make_keras_optimizer_class.<locals>.DPOptimizerClass'>\n",
      "Error: user has not called fit() method or has deleted saved values.Recommendation: Do not release. It is True that the model will be DP because  value of optimizer._was_dp_gradients_called is True so DP variant of optimizer has been runepsilon is not sufficient for Differential privacy: 32.860767694468635. You must modify one or more of batch_size, epochs, number of samples.\n",
      " value of optimizer._was_dp_gradients_called is True so DP variant of optimizer has been run\n"
     ]
    }
   ],
   "source": [
    "importlib.reload(safemodel.safemodel)\n",
    "importlib.reload(safemodel.classifiers.safekeras)\n",
    "from safemodel.classifiers.safekeras import Safe_KerasModel\n",
    "\n",
    "# change model params to recommended values\n",
    "print(\"\\n***Test 2: researcher changes params safely\")\n",
    "safeKerasModel2 = Safe_KerasModel(inputs= input_data, outputs=output,name=\"safekerasmodel2-test\", l2_norm_clip = 1.1, noise_multiplier=0.6)\n",
    "safeKerasModel2.optimizer=tensorflow_privacy.DPKerasAdamOptimizer\n",
    "safeKerasModel2.compile(loss=loss)\n",
    "safeKerasModel2.l2_norm_clip = 1.1\n",
    "safeKerasModel2.noise_multiplier = 0.6\n",
    "safeKerasModel2.fit(Xt_member, \n",
    "                    yt_member, \n",
    "                    validation_data=(Xt_nonmember, yt_nonmember),\n",
    "                    epochs=epochs, \n",
    "                    batch_size=batch_size)\n",
    "\n",
    "safeKerasModel2.save(\"safe2.hd5\")\n",
    "safeKerasModel2.preliminary_check()\n",
    "safeKerasModel2.request_release(filename=\"safe2.hd5\")"
   ]
  },
  {
   "cell_type": "code",
   "execution_count": 24,
   "metadata": {},
   "outputs": [
    {
     "name": "stdout",
     "output_type": "stream",
     "text": [
      "\n",
      "***Test 3: researcher changes string params unsafely\n",
      "args is a <class 'tuple'> = ()  kwargs is a <class 'dict'>= {'inputs': <KerasTensor: shape=(None, 300) dtype=float32 (created by layer 'input_1')>, 'outputs': <KerasTensor: shape=(None, 2) dtype=float32 (created by layer 'dense_3')>, 'name': 'safekerasmodel3-test', 'l2_norm_clip': 0.8}\n",
      "inputs is in kwargs.keys\n",
      "KerasTensor(type_spec=TensorSpec(shape=(None, 300), dtype=tf.float32, name='input_1'), name='input_1', description=\"created by layer 'input_1'\")\n",
      "WARNING: model parameters may present a disclosure risk:\n",
      "- parameter l2_norm_clip = 0.8 identified as less than the recommended min value of 1.0.\n",
      "Changed parameter l2_norm_clip = 1.0.\n",
      "\n",
      "Changed parameter optimizer = 'DPKerasSGDOptimizer'\n",
      "WARNING: model parameters may present a disclosure risk\n",
      "Unknown optimizer <class 'tensorflow_privacy.privacy.optimizers.dp_optimizer_keras.make_keras_optimizer_class.<locals>.DPOptimizerClass'> - Changed parameter optimizer = 'DPKerasSGDOptimizer'\n",
      "DP optimizer used = False\n",
      "optimizer has been changed but fit() has not been rerun.\n",
      "(250, 300)\n",
      "DP-SGD with sampling rate = 10% and noise_multiplier = 0.5 iterated over 200 steps satisfies differential privacy with eps = 50.3 and delta = 1e-05.\n",
      "The optimal RDP order is 1.5.\n",
      "Current epsilon is 50.301726361197794\n",
      "The requirements for DP are not met, current epsilon is: 50.301726361197794. To attain true DP the following parameters can be changed:  Num Samples = 250, batch_size = 25, epochs = 20\n",
      "This will not result in a Differentially Private model do you want to continue [Y/N]y\n",
      "Continuing\n",
      "Epoch 1/20\n",
      "10/10 [==============================] - 3s 91ms/step - loss: 0.1141 - accuracy: 0.9800 - val_loss: 3.8345 - val_accuracy: 0.6400\n",
      "Epoch 2/20\n",
      "10/10 [==============================] - 0s 35ms/step - loss: 0.0977 - accuracy: 0.9760 - val_loss: 3.8208 - val_accuracy: 0.6320\n",
      "Epoch 3/20\n",
      "10/10 [==============================] - 0s 36ms/step - loss: 0.0988 - accuracy: 0.9760 - val_loss: 3.7936 - val_accuracy: 0.6240\n",
      "Epoch 4/20\n",
      "10/10 [==============================] - 0s 37ms/step - loss: 0.0758 - accuracy: 0.9760 - val_loss: 3.8739 - val_accuracy: 0.6160\n",
      "Epoch 5/20\n",
      "10/10 [==============================] - 0s 36ms/step - loss: 0.0956 - accuracy: 0.9800 - val_loss: 3.9257 - val_accuracy: 0.6320\n",
      "Epoch 6/20\n",
      "10/10 [==============================] - 0s 38ms/step - loss: 0.0848 - accuracy: 0.9760 - val_loss: 3.9653 - val_accuracy: 0.6000\n",
      "Epoch 7/20\n",
      "10/10 [==============================] - 0s 36ms/step - loss: 0.0853 - accuracy: 0.9840 - val_loss: 4.1532 - val_accuracy: 0.5840\n",
      "Epoch 8/20\n",
      "10/10 [==============================] - 0s 39ms/step - loss: 0.0872 - accuracy: 0.9800 - val_loss: 4.1408 - val_accuracy: 0.5840\n",
      "Epoch 9/20\n",
      "10/10 [==============================] - 0s 37ms/step - loss: 0.0806 - accuracy: 0.9800 - val_loss: 4.0124 - val_accuracy: 0.6040\n",
      "Epoch 10/20\n",
      "10/10 [==============================] - 0s 38ms/step - loss: 0.0853 - accuracy: 0.9880 - val_loss: 4.2930 - val_accuracy: 0.6240\n",
      "Epoch 11/20\n",
      "10/10 [==============================] - 0s 40ms/step - loss: 0.0780 - accuracy: 0.9760 - val_loss: 4.3946 - val_accuracy: 0.6320\n",
      "Epoch 12/20\n",
      "10/10 [==============================] - 0s 40ms/step - loss: 0.0925 - accuracy: 0.9800 - val_loss: 4.4931 - val_accuracy: 0.6320\n",
      "Epoch 13/20\n",
      "10/10 [==============================] - 0s 42ms/step - loss: 0.0769 - accuracy: 0.9880 - val_loss: 4.4186 - val_accuracy: 0.6280\n",
      "Epoch 14/20\n",
      "10/10 [==============================] - 0s 42ms/step - loss: 0.0610 - accuracy: 0.9920 - val_loss: 4.3894 - val_accuracy: 0.5920\n",
      "Epoch 15/20\n",
      "10/10 [==============================] - 0s 41ms/step - loss: 0.0666 - accuracy: 0.9840 - val_loss: 4.4292 - val_accuracy: 0.6080\n",
      "Epoch 16/20\n",
      "10/10 [==============================] - 0s 45ms/step - loss: 0.0705 - accuracy: 0.9800 - val_loss: 4.6988 - val_accuracy: 0.5960\n",
      "Epoch 17/20\n",
      "10/10 [==============================] - 0s 42ms/step - loss: 0.0549 - accuracy: 0.9880 - val_loss: 4.8735 - val_accuracy: 0.6000\n",
      "Epoch 18/20\n",
      "10/10 [==============================] - 0s 41ms/step - loss: 0.0272 - accuracy: 0.9960 - val_loss: 4.9703 - val_accuracy: 0.5960\n",
      "Epoch 19/20\n",
      "10/10 [==============================] - 0s 40ms/step - loss: 0.0267 - accuracy: 0.9880 - val_loss: 4.8186 - val_accuracy: 0.6160\n",
      "Epoch 20/20\n",
      "10/10 [==============================] - 0s 42ms/step - loss: 0.0251 - accuracy: 0.9880 - val_loss: 4.9343 - val_accuracy: 0.6200\n",
      "INFO:tensorflow:Assets written to: unsafe3.hd5/assets\n",
      "Model parameters are within recommended ranges.\n",
      "\n",
      "INFO:tensorflow:Assets written to: unsafe3.hd5/assets\n"
     ]
    },
    {
     "name": "stderr",
     "output_type": "stream",
     "text": [
      "...<class 'TypeError'> error; cannot pickle '_thread.RLock' object\n",
      "...<class 'TypeError'> error; cannot pickle '_thread._local' object\n",
      "...<class 'TypeError'> error; cannot pickle '_thread.lock' object\n"
     ]
    },
    {
     "name": "stdout",
     "output_type": "stream",
     "text": [
      "INFO:tensorflow:Assets written to: ram://1a421f7a-29f9-4f04-a730-6fe78cdf56c6/assets\n"
     ]
    },
    {
     "name": "stderr",
     "output_type": "stream",
     "text": [
      "...<class 'ValueError'> error; Unknown optimizer: DPOptimizerClass. Please ensure this object is passed to the `custom_objects` argument. See https://www.tensorflow.org/guide/keras/save_and_serialize#registering_the_custom_object for details.\n",
      "...<class 'TypeError'> error; cannot pickle '_thread.RLock' object\n",
      "...<class 'TypeError'> error; cannot pickle '_thread.RLock' object\n",
      "...<class 'TypeError'> error; cannot pickle '_thread.RLock' object\n",
      "...<class 'TypeError'> error; cannot pickle '_thread.RLock' object\n"
     ]
    },
    {
     "name": "stdout",
     "output_type": "stream",
     "text": [
      "INFO:tensorflow:Assets written to: ram://2a677b32-54ce-4cfe-9f1c-301520c886c0/assets\n"
     ]
    },
    {
     "name": "stderr",
     "output_type": "stream",
     "text": [
      "...<class 'ValueError'> error; Unknown optimizer: DPOptimizerClass. Please ensure this object is passed to the `custom_objects` argument. See https://www.tensorflow.org/guide/keras/save_and_serialize#registering_the_custom_object for details.\n",
      "...<class 'TypeError'> error; cannot pickle '_thread.RLock' object\n",
      "...<class 'TypeError'> error; cannot pickle '_thread.RLock' object\n",
      "...<class 'TypeError'> error; cannot pickle '_thread.RLock' object\n"
     ]
    },
    {
     "name": "stdout",
     "output_type": "stream",
     "text": [
      "<tensorflow_privacy.privacy.optimizers.dp_optimizer_keras.make_keras_optimizer_class.<locals>.DPOptimizerClass object at 0x7f3aff2af2b0>\n",
      "<tensorflow_privacy.privacy.optimizers.dp_optimizer_keras.make_keras_optimizer_class.<locals>.DPOptimizerClass object at 0x7f3aff2af2b0>\n",
      "DP-SGD with sampling rate = 10% and noise_multiplier = 0.5 iterated over 200 steps satisfies differential privacy with eps = 50.3 and delta = 1e-05.\n",
      "The optimal RDP order is 1.5.\n",
      "optimiser is type <class 'tensorflow_privacy.privacy.optimizers.dp_optimizer_keras.make_keras_optimizer_class.<locals>.DPOptimizerClass'>\n",
      "Error: user has not called fit() method or has deleted saved values.Recommendation: Do not release. It is True that the model will be DP because  value of optimizer._was_dp_gradients_called is True so DP variant of optimizer has been runepsilon is not sufficient for Differential privacy: 50.301726361197794. You must modify one or more of batch_size, epochs, number of samples.\n",
      " value of optimizer._was_dp_gradients_called is True so DP variant of optimizer has been run\n"
     ]
    }
   ],
   "source": [
    "importlib.reload(safemodel.safemodel)\n",
    "importlib.reload(safemodel.classifiers.safekeras)\n",
    "from safemodel.classifiers.safekeras import Safe_KerasModel\n",
    "\n",
    "# change one model params in an unsafe way\n",
    "print(\"\\n***Test 3: researcher changes string params unsafely\")\n",
    "safeKerasModel3 = Safe_KerasModel(inputs= input_data, outputs=output,name=\"safekerasmodel3-test\", l2_norm_clip = 0.8)\n",
    "safeKerasModel3.compile(loss=loss)\n",
    "#safeKerasModel3.optimizer=\"Adam\"\n",
    "safeKerasModel3.fit(Xt_member, \n",
    "                    yt_member, \n",
    "                    validation_data=(Xt_nonmember, yt_nonmember),\n",
    "                    epochs=epochs, \n",
    "                    batch_size=batch_size)\n",
    "safeKerasModel3.save(\"unsafe3.hd5\")\n",
    "safeKerasModel3.preliminary_check()\n",
    "safeKerasModel3.request_release(filename=\"unsafe3.hd5\")"
   ]
  },
  {
   "cell_type": "code",
   "execution_count": 25,
   "metadata": {},
   "outputs": [
    {
     "name": "stdout",
     "output_type": "stream",
     "text": [
      "\n",
      "***Test 3: researcher changes string params unsafely\n",
      "args is a <class 'tuple'> = ()  kwargs is a <class 'dict'>= {'inputs': <KerasTensor: shape=(None, 300) dtype=float32 (created by layer 'input_1')>, 'outputs': <KerasTensor: shape=(None, 2) dtype=float32 (created by layer 'dense_3')>, 'name': 'safekerasmodel3-test', 'delta': -1}\n",
      "inputs is in kwargs.keys\n",
      "KerasTensor(type_spec=TensorSpec(shape=(None, 300), dtype=tf.float32, name='input_1'), name='input_1', description=\"created by layer 'input_1'\")\n",
      "WARNING: model parameters may present a disclosure risk:\n",
      "- parameter delta = -1 identified as less than the recommended min value of 1e-05.\n",
      "Changed parameter delta = 1e-05.\n",
      "\n",
      "Changed parameter optimizer = 'DPKerasSGDOptimizer'\n",
      "WARNING: model parameters may present a disclosure risk\n",
      "Unknown optimizer <class 'tensorflow_privacy.privacy.optimizers.dp_optimizer_keras.make_keras_optimizer_class.<locals>.DPOptimizerClass'> - Changed parameter optimizer = 'DPKerasSGDOptimizer'\n",
      "DP optimizer used = False\n",
      "optimizer has been changed but fit() has not been rerun.\n",
      "(250, 300)\n",
      "DP-SGD with sampling rate = 10% and noise_multiplier = 0.5 iterated over 200 steps satisfies differential privacy with eps = 50.3 and delta = 1e-05.\n",
      "The optimal RDP order is 1.5.\n",
      "Current epsilon is 50.301726361197794\n",
      "The requirements for DP are not met, current epsilon is: 50.301726361197794. To attain true DP the following parameters can be changed:  Num Samples = 250, batch_size = 25, epochs = 20\n",
      "This will not result in a Differentially Private model do you want to continue [Y/N]y\n",
      "Continuing\n",
      "Epoch 1/20\n",
      "10/10 [==============================] - 3s 65ms/step - loss: 0.0250 - accuracy: 0.9920 - val_loss: 4.8746 - val_accuracy: 0.6040\n",
      "Epoch 2/20\n",
      "10/10 [==============================] - 0s 41ms/step - loss: 0.0204 - accuracy: 0.9880 - val_loss: 4.9991 - val_accuracy: 0.5960\n",
      "Epoch 3/20\n",
      "10/10 [==============================] - 0s 34ms/step - loss: 0.0214 - accuracy: 0.9880 - val_loss: 5.0730 - val_accuracy: 0.6040\n",
      "Epoch 4/20\n",
      "10/10 [==============================] - 0s 31ms/step - loss: 0.0109 - accuracy: 0.9960 - val_loss: 5.1006 - val_accuracy: 0.5960\n",
      "Epoch 5/20\n",
      "10/10 [==============================] - 0s 47ms/step - loss: 0.0162 - accuracy: 0.9880 - val_loss: 5.1373 - val_accuracy: 0.5760\n",
      "Epoch 6/20\n",
      "10/10 [==============================] - 0s 44ms/step - loss: 0.0419 - accuracy: 0.9880 - val_loss: 5.1526 - val_accuracy: 0.5800\n",
      "Epoch 7/20\n",
      "10/10 [==============================] - 1s 52ms/step - loss: 0.0404 - accuracy: 0.9920 - val_loss: 4.8094 - val_accuracy: 0.6000\n",
      "Epoch 8/20\n",
      "10/10 [==============================] - 1s 57ms/step - loss: 0.0492 - accuracy: 0.9920 - val_loss: 4.7885 - val_accuracy: 0.5920\n",
      "Epoch 9/20\n",
      "10/10 [==============================] - 1s 63ms/step - loss: 0.0265 - accuracy: 0.9920 - val_loss: 4.7766 - val_accuracy: 0.5920\n",
      "Epoch 10/20\n",
      "10/10 [==============================] - 1s 56ms/step - loss: 0.0371 - accuracy: 0.9880 - val_loss: 4.6571 - val_accuracy: 0.6040\n",
      "Epoch 11/20\n",
      "10/10 [==============================] - 0s 46ms/step - loss: 0.0405 - accuracy: 0.9920 - val_loss: 4.5661 - val_accuracy: 0.5920\n",
      "Epoch 12/20\n",
      "10/10 [==============================] - 0s 40ms/step - loss: 0.0459 - accuracy: 0.9920 - val_loss: 4.5838 - val_accuracy: 0.6000\n",
      "Epoch 13/20\n",
      "10/10 [==============================] - 0s 42ms/step - loss: 0.0243 - accuracy: 0.9920 - val_loss: 4.7130 - val_accuracy: 0.6040\n",
      "Epoch 14/20\n",
      "10/10 [==============================] - 0s 40ms/step - loss: 0.0231 - accuracy: 0.9920 - val_loss: 4.7411 - val_accuracy: 0.6160\n",
      "Epoch 15/20\n",
      "10/10 [==============================] - 0s 36ms/step - loss: 0.0114 - accuracy: 0.9960 - val_loss: 4.7962 - val_accuracy: 0.5920\n",
      "Epoch 16/20\n",
      "10/10 [==============================] - 1s 53ms/step - loss: 0.0259 - accuracy: 0.9880 - val_loss: 4.7558 - val_accuracy: 0.5920\n",
      "Epoch 17/20\n",
      "10/10 [==============================] - 0s 37ms/step - loss: 0.0364 - accuracy: 0.9840 - val_loss: 5.0934 - val_accuracy: 0.5840\n",
      "Epoch 18/20\n",
      "10/10 [==============================] - 0s 36ms/step - loss: 0.0327 - accuracy: 0.9880 - val_loss: 5.0944 - val_accuracy: 0.6000\n",
      "Epoch 19/20\n",
      "10/10 [==============================] - 0s 35ms/step - loss: 0.0217 - accuracy: 0.9920 - val_loss: 5.1335 - val_accuracy: 0.5840\n",
      "Epoch 20/20\n",
      "10/10 [==============================] - 0s 37ms/step - loss: 0.0102 - accuracy: 0.9960 - val_loss: 5.1809 - val_accuracy: 0.5960\n",
      "INFO:tensorflow:Assets written to: unsafe3.hd5/assets\n",
      "Model parameters are within recommended ranges.\n",
      "\n",
      "INFO:tensorflow:Assets written to: unsafe4.hd5/assets\n"
     ]
    },
    {
     "name": "stderr",
     "output_type": "stream",
     "text": [
      "...<class 'TypeError'> error; cannot pickle '_thread.RLock' object\n",
      "...<class 'TypeError'> error; cannot pickle '_thread._local' object\n",
      "...<class 'TypeError'> error; cannot pickle '_thread.lock' object\n"
     ]
    },
    {
     "name": "stdout",
     "output_type": "stream",
     "text": [
      "INFO:tensorflow:Assets written to: ram://5258e407-d409-43ca-9201-3fa13eac3528/assets\n"
     ]
    },
    {
     "name": "stderr",
     "output_type": "stream",
     "text": [
      "...<class 'ValueError'> error; Unknown optimizer: DPOptimizerClass. Please ensure this object is passed to the `custom_objects` argument. See https://www.tensorflow.org/guide/keras/save_and_serialize#registering_the_custom_object for details.\n",
      "...<class 'TypeError'> error; cannot pickle '_thread.RLock' object\n",
      "...<class 'TypeError'> error; cannot pickle '_thread.RLock' object\n",
      "...<class 'TypeError'> error; cannot pickle '_thread.RLock' object\n",
      "...<class 'TypeError'> error; cannot pickle '_thread.RLock' object\n"
     ]
    },
    {
     "name": "stdout",
     "output_type": "stream",
     "text": [
      "INFO:tensorflow:Assets written to: ram://4de989da-cc80-4f7e-a4af-741b51e8599d/assets\n"
     ]
    },
    {
     "name": "stderr",
     "output_type": "stream",
     "text": [
      "...<class 'ValueError'> error; Unknown optimizer: DPOptimizerClass. Please ensure this object is passed to the `custom_objects` argument. See https://www.tensorflow.org/guide/keras/save_and_serialize#registering_the_custom_object for details.\n",
      "...<class 'TypeError'> error; cannot pickle '_thread.RLock' object\n",
      "...<class 'TypeError'> error; cannot pickle '_thread.RLock' object\n",
      "...<class 'TypeError'> error; cannot pickle '_thread.RLock' object\n"
     ]
    },
    {
     "name": "stdout",
     "output_type": "stream",
     "text": [
      "<tensorflow_privacy.privacy.optimizers.dp_optimizer_keras.make_keras_optimizer_class.<locals>.DPOptimizerClass object at 0x7f3afdf849d0>\n",
      "<tensorflow_privacy.privacy.optimizers.dp_optimizer_keras.make_keras_optimizer_class.<locals>.DPOptimizerClass object at 0x7f3afdf849d0>\n",
      "DP-SGD with sampling rate = 10% and noise_multiplier = 0.5 iterated over 200 steps satisfies differential privacy with eps = 50.3 and delta = 1e-05.\n",
      "The optimal RDP order is 1.5.\n",
      "optimiser is type <class 'tensorflow_privacy.privacy.optimizers.dp_optimizer_keras.make_keras_optimizer_class.<locals>.DPOptimizerClass'>\n",
      "Error: user has not called fit() method or has deleted saved values.Recommendation: Do not release. It is True that the model will be DP because  value of optimizer._was_dp_gradients_called is True so DP variant of optimizer has been runepsilon is not sufficient for Differential privacy: 50.301726361197794. You must modify one or more of batch_size, epochs, number of samples.\n",
      " value of optimizer._was_dp_gradients_called is True so DP variant of optimizer has been run\n"
     ]
    }
   ],
   "source": [
    "# change another model params in an  unsafe way\n",
    "importlib.reload(safemodel.safemodel)\n",
    "importlib.reload(safemodel.classifiers.safekeras)\n",
    "from safemodel.classifiers.safekeras import Safe_KerasModel\n",
    "\n",
    "print(\"\\n***Test 3: researcher changes string params unsafely\")\n",
    "safeKerasModel4 = Safe_KerasModel(inputs= input_data, outputs=output,name=\"safekerasmodel3-test\", delta=-1)\n",
    "safeKerasModel4.compile(loss=loss)\n",
    "#safeKerasModel3.optimizer=\"Adam\"\n",
    "safeKerasModel4.fit(Xt_member, \n",
    "                    yt_member, \n",
    "                    validation_data=(Xt_nonmember, yt_nonmember),\n",
    "                    epochs=epochs, \n",
    "                    batch_size=batch_size)\n",
    "safeKerasModel4.save(\"unsafe3.hd5\")\n",
    "safeKerasModel4.preliminary_check()\n",
    "safeKerasModel4.request_release(filename=\"unsafe4.hd5\")"
   ]
  },
  {
   "cell_type": "code",
   "execution_count": 26,
   "metadata": {
    "scrolled": true
   },
   "outputs": [
    {
     "name": "stdout",
     "output_type": "stream",
     "text": [
      "\n",
      "***Test 5: researcher changes string and numeric params unsafely\n",
      "args is a <class 'tuple'> = ()  kwargs is a <class 'dict'>= {'inputs': <KerasTensor: shape=(None, 300) dtype=float32 (created by layer 'input_1')>, 'outputs': <KerasTensor: shape=(None, 2) dtype=float32 (created by layer 'dense_3')>, 'name': 'safekerasmodel3-test', 'l2_norm_clip': 0.9, 'noise_multipier': 0.4, 'min_epsilon': 9, 'delta': -1}\n",
      "inputs is in kwargs.keys\n",
      "KerasTensor(type_spec=TensorSpec(shape=(None, 300), dtype=tf.float32, name='input_1'), name='input_1', description=\"created by layer 'input_1'\")\n",
      "WARNING: model parameters may present a disclosure risk:\n",
      "- parameter l2_norm_clip = 0.9 identified as less than the recommended min value of 1.0.\n",
      "Changed parameter l2_norm_clip = 1.0.\n",
      "- parameter min_epsilon = 9 identified as less than the recommended min value of 10.\n",
      "Changed parameter min_epsilon = 10.\n",
      "- parameter delta = -1 identified as less than the recommended min value of 1e-05.\n",
      "Changed parameter delta = 1e-05.\n",
      "\n",
      "Changed parameter optimizer = 'DPKerasSGDOptimizer'\n",
      "WARNING: model parameters may present a disclosure risk\n",
      "Unknown optimizer <class 'tensorflow_privacy.privacy.optimizers.dp_optimizer_keras.make_keras_optimizer_class.<locals>.DPOptimizerClass'> - Changed parameter optimizer = 'DPKerasSGDOptimizer'\n",
      "DP optimizer used = False\n",
      "optimizer has been changed but fit() has not been rerun.\n",
      "(250, 300)\n",
      "DP-SGD with sampling rate = 10% and noise_multiplier = 0.5 iterated over 200 steps satisfies differential privacy with eps = 50.3 and delta = 1e-05.\n",
      "The optimal RDP order is 1.5.\n",
      "Current epsilon is 50.301726361197794\n",
      "The requirements for DP are not met, current epsilon is: 50.301726361197794. To attain true DP the following parameters can be changed:  Num Samples = 250, batch_size = 25, epochs = 20\n",
      "This will not result in a Differentially Private model do you want to continue [Y/N]y\n",
      "Continuing\n",
      "Epoch 1/20\n",
      "10/10 [==============================] - 3s 52ms/step - loss: 0.0095 - accuracy: 0.9920 - val_loss: 5.1215 - val_accuracy: 0.6000\n",
      "Epoch 2/20\n",
      "10/10 [==============================] - 0s 40ms/step - loss: 0.0050 - accuracy: 1.0000 - val_loss: 5.1299 - val_accuracy: 0.5920\n",
      "Epoch 3/20\n",
      "10/10 [==============================] - 0s 42ms/step - loss: 0.0039 - accuracy: 1.0000 - val_loss: 5.3192 - val_accuracy: 0.6000\n",
      "Epoch 4/20\n",
      "10/10 [==============================] - 0s 45ms/step - loss: 0.0069 - accuracy: 0.9960 - val_loss: 5.2961 - val_accuracy: 0.6000\n",
      "Epoch 5/20\n",
      "10/10 [==============================] - 0s 37ms/step - loss: 0.0088 - accuracy: 0.9920 - val_loss: 5.4627 - val_accuracy: 0.6080\n",
      "Epoch 6/20\n",
      "10/10 [==============================] - 0s 42ms/step - loss: 0.0072 - accuracy: 1.0000 - val_loss: 5.6120 - val_accuracy: 0.6080\n",
      "Epoch 7/20\n",
      "10/10 [==============================] - 0s 42ms/step - loss: 0.0140 - accuracy: 0.9920 - val_loss: 5.5597 - val_accuracy: 0.5920\n",
      "Epoch 8/20\n",
      "10/10 [==============================] - 0s 37ms/step - loss: 0.0179 - accuracy: 0.9920 - val_loss: 5.6878 - val_accuracy: 0.5960\n",
      "Epoch 9/20\n",
      "10/10 [==============================] - 0s 42ms/step - loss: 0.0077 - accuracy: 1.0000 - val_loss: 5.8005 - val_accuracy: 0.5960\n",
      "Epoch 10/20\n",
      "10/10 [==============================] - 0s 41ms/step - loss: 0.0034 - accuracy: 1.0000 - val_loss: 5.8402 - val_accuracy: 0.6040\n",
      "Epoch 11/20\n",
      "10/10 [==============================] - 0s 48ms/step - loss: 0.0159 - accuracy: 0.9960 - val_loss: 6.0392 - val_accuracy: 0.5920\n",
      "Epoch 12/20\n",
      "10/10 [==============================] - 0s 38ms/step - loss: 0.0181 - accuracy: 0.9960 - val_loss: 6.1852 - val_accuracy: 0.6080\n",
      "Epoch 13/20\n",
      "10/10 [==============================] - 0s 38ms/step - loss: 0.0083 - accuracy: 0.9960 - val_loss: 6.4192 - val_accuracy: 0.5760\n",
      "Epoch 14/20\n",
      "10/10 [==============================] - 0s 38ms/step - loss: 0.0047 - accuracy: 1.0000 - val_loss: 6.5812 - val_accuracy: 0.5760\n",
      "Epoch 15/20\n",
      "10/10 [==============================] - 0s 42ms/step - loss: 0.0052 - accuracy: 0.9960 - val_loss: 6.5818 - val_accuracy: 0.5760\n",
      "Epoch 16/20\n",
      "10/10 [==============================] - 0s 42ms/step - loss: 0.0156 - accuracy: 0.9920 - val_loss: 6.5420 - val_accuracy: 0.5840\n",
      "Epoch 17/20\n",
      "10/10 [==============================] - 0s 38ms/step - loss: 0.0170 - accuracy: 0.9920 - val_loss: 6.9008 - val_accuracy: 0.5800\n",
      "Epoch 18/20\n",
      "10/10 [==============================] - 0s 41ms/step - loss: 0.0203 - accuracy: 0.9920 - val_loss: 6.6884 - val_accuracy: 0.5680\n",
      "Epoch 19/20\n",
      "10/10 [==============================] - 0s 40ms/step - loss: 0.0371 - accuracy: 0.9880 - val_loss: 6.5516 - val_accuracy: 0.5640\n",
      "Epoch 20/20\n",
      "10/10 [==============================] - 0s 44ms/step - loss: 0.0451 - accuracy: 0.9840 - val_loss: 6.6359 - val_accuracy: 0.5720\n",
      "INFO:tensorflow:Assets written to: unsafe3.hd5/assets\n",
      "Model parameters are within recommended ranges.\n",
      "\n",
      "INFO:tensorflow:Assets written to: unsafe4.hd5/assets\n"
     ]
    },
    {
     "name": "stderr",
     "output_type": "stream",
     "text": [
      "...<class 'TypeError'> error; cannot pickle '_thread.RLock' object\n",
      "...<class 'TypeError'> error; cannot pickle '_thread._local' object\n",
      "...<class 'TypeError'> error; cannot pickle '_thread.lock' object\n"
     ]
    },
    {
     "name": "stdout",
     "output_type": "stream",
     "text": [
      "INFO:tensorflow:Assets written to: ram://35dbdde2-2c80-45aa-a42b-9ee2e84fe568/assets\n"
     ]
    },
    {
     "name": "stderr",
     "output_type": "stream",
     "text": [
      "...<class 'ValueError'> error; Unknown optimizer: DPOptimizerClass. Please ensure this object is passed to the `custom_objects` argument. See https://www.tensorflow.org/guide/keras/save_and_serialize#registering_the_custom_object for details.\n",
      "...<class 'TypeError'> error; cannot pickle '_thread.RLock' object\n",
      "...<class 'TypeError'> error; cannot pickle '_thread.RLock' object\n",
      "...<class 'TypeError'> error; cannot pickle '_thread.RLock' object\n",
      "...<class 'TypeError'> error; cannot pickle '_thread.RLock' object\n"
     ]
    },
    {
     "name": "stdout",
     "output_type": "stream",
     "text": [
      "INFO:tensorflow:Assets written to: ram://841d5250-734a-47d0-9470-a3cf9108e60d/assets\n"
     ]
    },
    {
     "name": "stderr",
     "output_type": "stream",
     "text": [
      "...<class 'ValueError'> error; Unknown optimizer: DPOptimizerClass. Please ensure this object is passed to the `custom_objects` argument. See https://www.tensorflow.org/guide/keras/save_and_serialize#registering_the_custom_object for details.\n",
      "...<class 'TypeError'> error; cannot pickle '_thread.RLock' object\n",
      "...<class 'TypeError'> error; cannot pickle '_thread.RLock' object\n",
      "...<class 'TypeError'> error; cannot pickle '_thread.RLock' object\n"
     ]
    },
    {
     "name": "stdout",
     "output_type": "stream",
     "text": [
      "<tensorflow_privacy.privacy.optimizers.dp_optimizer_keras.make_keras_optimizer_class.<locals>.DPOptimizerClass object at 0x7f3aff49cee0>\n",
      "<tensorflow_privacy.privacy.optimizers.dp_optimizer_keras.make_keras_optimizer_class.<locals>.DPOptimizerClass object at 0x7f3aff49cee0>\n",
      "DP-SGD with sampling rate = 10% and noise_multiplier = 0.5 iterated over 200 steps satisfies differential privacy with eps = 50.3 and delta = 1e-05.\n",
      "The optimal RDP order is 1.5.\n",
      "optimiser is type <class 'tensorflow_privacy.privacy.optimizers.dp_optimizer_keras.make_keras_optimizer_class.<locals>.DPOptimizerClass'>\n",
      "Error: user has not called fit() method or has deleted saved values.Recommendation: Do not release. It is True that the model will be DP because  value of optimizer._was_dp_gradients_called is True so DP variant of optimizer has been runepsilon is not sufficient for Differential privacy: 50.301726361197794. You must modify one or more of batch_size, epochs, number of samples.\n",
      " value of optimizer._was_dp_gradients_called is True so DP variant of optimizer has been run\n"
     ]
    }
   ],
   "source": [
    "# change another model params in an  unsafe way\n",
    "print(\"\\n***Test 5: researcher changes string and numeric params unsafely\")\n",
    "\n",
    "importlib.reload(safemodel.safemodel)\n",
    "importlib.reload(safemodel.classifiers.safekeras)\n",
    "from safemodel.classifiers.safekeras import Safe_KerasModel\n",
    "\n",
    "\n",
    "safeKerasModel4 = Safe_KerasModel(inputs= input_data, outputs=output,name=\"safekerasmodel3-test\", l2_norm_clip=0.9, noise_multipier=0.4, min_epsilon=9,delta=-1)\n",
    "safeKerasModel4.compile(loss=loss)\n",
    "#safeKerasModel3.optimizer=\"Adam\"\n",
    "safeKerasModel4.fit(Xt_member, \n",
    "                    yt_member, \n",
    "                    validation_data=(Xt_nonmember, yt_nonmember),\n",
    "                    epochs=epochs, \n",
    "                    batch_size=batch_size)\n",
    "safeKerasModel4.save(\"unsafe3.hd5\")\n",
    "safeKerasModel4.preliminary_check()\n",
    "safeKerasModel4.request_release(filename=\"unsafe4.hd5\")"
   ]
  },
  {
   "cell_type": "code",
   "execution_count": 27,
   "metadata": {},
   "outputs": [
    {
     "name": "stdout",
     "output_type": "stream",
     "text": [
      "\n",
      "***Test 6: researcher changes string and numeric params unsafely\n",
      "args is a <class 'tuple'> = ()  kwargs is a <class 'dict'>= {'inputs': <KerasTensor: shape=(None, 300) dtype=float32 (created by layer 'input_1')>, 'outputs': <KerasTensor: shape=(None, 2) dtype=float32 (created by layer 'dense_3')>, 'name': 'safekerasmodel6-test', 'optimizer': 'wobble'}\n",
      "inputs is in kwargs.keys\n",
      "KerasTensor(type_spec=TensorSpec(shape=(None, 300), dtype=tf.float32, name='input_1'), name='input_1', description=\"created by layer 'input_1'\")\n",
      "Model parameters are within recommended ranges.\n",
      "\n",
      "WARNING: model parameters may present a disclosure risk\n",
      "Unknown optimizer wobble - Changed parameter optimizer = 'DPKerasSGDOptimizer'\n",
      "DP optimizer used = False\n",
      "optimizer has been changed but fit() has not been rerun.\n",
      "(250, 300)\n",
      "DP-SGD with sampling rate = 10% and noise_multiplier = 0.5 iterated over 200 steps satisfies differential privacy with eps = 50.3 and delta = 1e-05.\n",
      "The optimal RDP order is 1.5.\n",
      "Current epsilon is 50.301726361197794\n",
      "The requirements for DP are not met, current epsilon is: 50.301726361197794. To attain true DP the following parameters can be changed:  Num Samples = 250, batch_size = 25, epochs = 20\n",
      "This will not result in a Differentially Private model do you want to continue [Y/N]y\n",
      "Continuing\n",
      "Epoch 1/20\n",
      "10/10 [==============================] - 3s 47ms/step - loss: 0.0316 - accuracy: 0.9880 - val_loss: 6.6270 - val_accuracy: 0.5720\n",
      "Epoch 2/20\n",
      "10/10 [==============================] - 0s 39ms/step - loss: 0.0183 - accuracy: 0.9920 - val_loss: 7.2594 - val_accuracy: 0.5520\n",
      "Epoch 3/20\n",
      "10/10 [==============================] - 0s 32ms/step - loss: 0.0396 - accuracy: 0.9880 - val_loss: 7.4233 - val_accuracy: 0.5520\n",
      "Epoch 4/20\n",
      "10/10 [==============================] - 0s 34ms/step - loss: 0.0379 - accuracy: 0.9880 - val_loss: 7.3614 - val_accuracy: 0.5560\n",
      "Epoch 5/20\n",
      "10/10 [==============================] - 1s 65ms/step - loss: 0.0965 - accuracy: 0.9800 - val_loss: 7.0865 - val_accuracy: 0.5640\n",
      "Epoch 6/20\n",
      "10/10 [==============================] - 1s 76ms/step - loss: 0.0450 - accuracy: 0.9840 - val_loss: 7.1453 - val_accuracy: 0.5640\n",
      "Epoch 7/20\n",
      "10/10 [==============================] - 1s 68ms/step - loss: 0.0533 - accuracy: 0.9880 - val_loss: 7.3178 - val_accuracy: 0.5640\n",
      "Epoch 8/20\n",
      "10/10 [==============================] - 0s 39ms/step - loss: 0.0232 - accuracy: 0.9920 - val_loss: 7.4010 - val_accuracy: 0.5600\n",
      "Epoch 9/20\n",
      "10/10 [==============================] - 0s 32ms/step - loss: 0.0135 - accuracy: 0.9920 - val_loss: 7.3998 - val_accuracy: 0.5400\n",
      "Epoch 10/20\n",
      "10/10 [==============================] - 0s 48ms/step - loss: 0.0088 - accuracy: 0.9960 - val_loss: 6.9096 - val_accuracy: 0.5600\n",
      "Epoch 11/20\n",
      "10/10 [==============================] - 1s 56ms/step - loss: 0.0100 - accuracy: 0.9960 - val_loss: 7.3574 - val_accuracy: 0.5400\n",
      "Epoch 12/20\n",
      "10/10 [==============================] - 0s 40ms/step - loss: 0.0084 - accuracy: 0.9960 - val_loss: 7.8094 - val_accuracy: 0.5240\n",
      "Epoch 13/20\n",
      "10/10 [==============================] - 0s 48ms/step - loss: 0.0168 - accuracy: 0.9960 - val_loss: 7.9259 - val_accuracy: 0.5360\n",
      "Epoch 14/20\n",
      "10/10 [==============================] - 1s 54ms/step - loss: 0.0119 - accuracy: 0.9960 - val_loss: 8.0373 - val_accuracy: 0.5320\n",
      "Epoch 15/20\n",
      "10/10 [==============================] - 1s 60ms/step - loss: 0.0370 - accuracy: 0.9840 - val_loss: 8.1381 - val_accuracy: 0.5520\n",
      "Epoch 16/20\n",
      "10/10 [==============================] - 1s 51ms/step - loss: 0.0471 - accuracy: 0.9840 - val_loss: 7.8365 - val_accuracy: 0.5480\n",
      "Epoch 17/20\n",
      "10/10 [==============================] - 1s 57ms/step - loss: 0.0395 - accuracy: 0.9920 - val_loss: 7.6620 - val_accuracy: 0.5480\n",
      "Epoch 18/20\n",
      "10/10 [==============================] - 1s 54ms/step - loss: 0.0417 - accuracy: 0.9840 - val_loss: 7.7113 - val_accuracy: 0.5440\n",
      "Epoch 19/20\n",
      "10/10 [==============================] - 0s 38ms/step - loss: 0.0564 - accuracy: 0.9920 - val_loss: 7.9463 - val_accuracy: 0.5480\n",
      "Epoch 20/20\n",
      "10/10 [==============================] - 0s 34ms/step - loss: 0.0798 - accuracy: 0.9880 - val_loss: 7.6388 - val_accuracy: 0.5480\n",
      "INFO:tensorflow:Assets written to: unsafe6.hd5/assets\n",
      "Model parameters are within recommended ranges.\n",
      "\n",
      "INFO:tensorflow:Assets written to: unsafe6.hd5/assets\n"
     ]
    },
    {
     "name": "stderr",
     "output_type": "stream",
     "text": [
      "...<class 'TypeError'> error; cannot pickle '_thread.RLock' object\n",
      "...<class 'TypeError'> error; cannot pickle '_thread._local' object\n",
      "...<class 'TypeError'> error; cannot pickle '_thread.lock' object\n"
     ]
    },
    {
     "name": "stdout",
     "output_type": "stream",
     "text": [
      "INFO:tensorflow:Assets written to: ram://0a5e60ac-4e7c-4d72-9a41-602dae4856ec/assets\n"
     ]
    },
    {
     "name": "stderr",
     "output_type": "stream",
     "text": [
      "...<class 'ValueError'> error; Unknown optimizer: DPOptimizerClass. Please ensure this object is passed to the `custom_objects` argument. See https://www.tensorflow.org/guide/keras/save_and_serialize#registering_the_custom_object for details.\n",
      "...<class 'TypeError'> error; cannot pickle '_thread.RLock' object\n",
      "...<class 'TypeError'> error; cannot pickle '_thread.RLock' object\n",
      "...<class 'TypeError'> error; cannot pickle '_thread.RLock' object\n",
      "...<class 'TypeError'> error; cannot pickle '_thread.RLock' object\n"
     ]
    },
    {
     "name": "stdout",
     "output_type": "stream",
     "text": [
      "INFO:tensorflow:Assets written to: ram://90d10c78-d3fd-4aab-accd-35ddf6457d9a/assets\n"
     ]
    },
    {
     "name": "stderr",
     "output_type": "stream",
     "text": [
      "...<class 'ValueError'> error; Unknown optimizer: DPOptimizerClass. Please ensure this object is passed to the `custom_objects` argument. See https://www.tensorflow.org/guide/keras/save_and_serialize#registering_the_custom_object for details.\n",
      "...<class 'TypeError'> error; cannot pickle '_thread.RLock' object\n",
      "...<class 'TypeError'> error; cannot pickle '_thread.RLock' object\n",
      "...<class 'TypeError'> error; cannot pickle '_thread.RLock' object\n"
     ]
    },
    {
     "name": "stdout",
     "output_type": "stream",
     "text": [
      "<tensorflow_privacy.privacy.optimizers.dp_optimizer_keras.make_keras_optimizer_class.<locals>.DPOptimizerClass object at 0x7f3afbe14ac0>\n",
      "<tensorflow_privacy.privacy.optimizers.dp_optimizer_keras.make_keras_optimizer_class.<locals>.DPOptimizerClass object at 0x7f3afbe14ac0>\n",
      "DP-SGD with sampling rate = 10% and noise_multiplier = 0.5 iterated over 200 steps satisfies differential privacy with eps = 50.3 and delta = 1e-05.\n",
      "The optimal RDP order is 1.5.\n",
      "optimiser is type <class 'tensorflow_privacy.privacy.optimizers.dp_optimizer_keras.make_keras_optimizer_class.<locals>.DPOptimizerClass'>\n",
      "Error: user has not called fit() method or has deleted saved values.Recommendation: Do not release. It is True that the model will be DP because  value of optimizer._was_dp_gradients_called is True so DP variant of optimizer has been runepsilon is not sufficient for Differential privacy: 50.301726361197794. You must modify one or more of batch_size, epochs, number of samples.\n",
      " value of optimizer._was_dp_gradients_called is True so DP variant of optimizer has been run\n"
     ]
    }
   ],
   "source": [
    "importlib.reload(safemodel.safemodel)\n",
    "importlib.reload(safemodel.classifiers.safekeras)\n",
    "from safemodel.classifiers.safekeras import Safe_KerasModel\n",
    "\n",
    "# change another model params in an  unsafe way but tells preliminary_check() not to overwrite params\n",
    "print(\"\\n***Test 6: researcher changes string and numeric params unsafely\")\n",
    "safeKerasModel6 = Safe_KerasModel(inputs= input_data, outputs=output,name=\"safekerasmodel6-test\", optimizer=\"wobble\")\n",
    "safeKerasModel6.compile(loss=loss)\n",
    "safeKerasModel6.fit(Xt_member, \n",
    "                    yt_member, \n",
    "                    validation_data=(Xt_nonmember, yt_nonmember),\n",
    "                    epochs=epochs, \n",
    "                    batch_size=batch_size)\n",
    "safeKerasModel6.save(\"unsafe6.hd5\")\n",
    "\n",
    "safeKerasModel6.preliminary_check(apply_constraints=False)\n",
    "safeKerasModel6.request_release(filename=\"unsafe6.hd5\")"
   ]
  },
  {
   "cell_type": "code",
   "execution_count": 28,
   "metadata": {},
   "outputs": [
    {
     "name": "stdout",
     "output_type": "stream",
     "text": [
      "\n",
      "***Test 7: researcher changes string and numeric params unsafely\n",
      "args is a <class 'tuple'> = ()  kwargs is a <class 'dict'>= {'inputs': <KerasTensor: shape=(None, 300) dtype=float32 (created by layer 'input_1')>, 'outputs': <KerasTensor: shape=(None, 2) dtype=float32 (created by layer 'dense_3')>, 'name': 'safekerasmodel6-test', 'optimizer': 'Adam'}\n",
      "inputs is in kwargs.keys\n",
      "KerasTensor(type_spec=TensorSpec(shape=(None, 300), dtype=tf.float32, name='input_1'), name='input_1', description=\"created by layer 'input_1'\")\n",
      "Model parameters are within recommended ranges.\n",
      "\n",
      "WARNING: model parameters may present a disclosure risk\n",
      "Changed parameter optimizer = 'DPKerasAdamOptimizer'\n",
      "DP optimizer used = False\n",
      "optimizer has been changed but fit() has not been rerun.\n",
      "(250, 300)\n",
      "DP-SGD with sampling rate = 10% and noise_multiplier = 0.5 iterated over 200 steps satisfies differential privacy with eps = 50.3 and delta = 1e-05.\n",
      "The optimal RDP order is 1.5.\n",
      "Current epsilon is 50.301726361197794\n",
      "The requirements for DP are not met, current epsilon is: 50.301726361197794. To attain true DP the following parameters can be changed:  Num Samples = 250, batch_size = 25, epochs = 20\n",
      "This will not result in a Differentially Private model do you want to continue [Y/N]y\n",
      "Continuing\n",
      "Epoch 1/20\n",
      "10/10 [==============================] - 3s 51ms/step - loss: 161.5011 - accuracy: 0.5760 - val_loss: 511.1884 - val_accuracy: 0.5360\n",
      "Epoch 2/20\n",
      "10/10 [==============================] - 0s 43ms/step - loss: 654.3746 - accuracy: 0.5200 - val_loss: 881.2495 - val_accuracy: 0.5320\n",
      "Epoch 3/20\n",
      "10/10 [==============================] - 0s 37ms/step - loss: 953.9075 - accuracy: 0.5880 - val_loss: 1726.2880 - val_accuracy: 0.5320\n",
      "Epoch 4/20\n",
      "10/10 [==============================] - 0s 37ms/step - loss: 1355.3398 - accuracy: 0.6160 - val_loss: 2033.0787 - val_accuracy: 0.4880\n",
      "Epoch 5/20\n",
      "10/10 [==============================] - 0s 35ms/step - loss: 2060.3186 - accuracy: 0.6120 - val_loss: 3809.6448 - val_accuracy: 0.4960\n",
      "Epoch 6/20\n",
      "10/10 [==============================] - 0s 37ms/step - loss: 2130.1135 - accuracy: 0.6720 - val_loss: 4458.3940 - val_accuracy: 0.5200\n",
      "Epoch 7/20\n",
      "10/10 [==============================] - 0s 37ms/step - loss: 2987.8477 - accuracy: 0.6360 - val_loss: 5048.7070 - val_accuracy: 0.5720\n",
      "Epoch 8/20\n",
      "10/10 [==============================] - 0s 41ms/step - loss: 3703.9949 - accuracy: 0.6640 - val_loss: 7333.3188 - val_accuracy: 0.5320\n",
      "Epoch 9/20\n",
      "10/10 [==============================] - 0s 38ms/step - loss: 4714.6899 - accuracy: 0.6480 - val_loss: 10013.1787 - val_accuracy: 0.4960\n",
      "Epoch 10/20\n",
      "10/10 [==============================] - 0s 38ms/step - loss: 6220.0747 - accuracy: 0.5880 - val_loss: 7804.5996 - val_accuracy: 0.5160\n",
      "Epoch 11/20\n",
      "10/10 [==============================] - 0s 35ms/step - loss: 5468.1519 - accuracy: 0.6920 - val_loss: 11929.7930 - val_accuracy: 0.5240\n",
      "Epoch 12/20\n",
      "10/10 [==============================] - 0s 40ms/step - loss: 6216.7871 - accuracy: 0.7040 - val_loss: 15693.2139 - val_accuracy: 0.5000\n",
      "Epoch 13/20\n",
      "10/10 [==============================] - 0s 40ms/step - loss: 6782.9106 - accuracy: 0.7080 - val_loss: 17668.9980 - val_accuracy: 0.5040\n",
      "Epoch 14/20\n",
      "10/10 [==============================] - 0s 35ms/step - loss: 7243.3188 - accuracy: 0.7200 - val_loss: 17652.9004 - val_accuracy: 0.5000\n",
      "Epoch 15/20\n",
      "10/10 [==============================] - 0s 38ms/step - loss: 6994.9663 - accuracy: 0.7120 - val_loss: 18709.5781 - val_accuracy: 0.5080\n",
      "Epoch 16/20\n",
      "10/10 [==============================] - 0s 41ms/step - loss: 8989.7910 - accuracy: 0.6800 - val_loss: 21344.8594 - val_accuracy: 0.4840\n",
      "Epoch 17/20\n",
      "10/10 [==============================] - 0s 42ms/step - loss: 11269.8086 - accuracy: 0.6440 - val_loss: 23717.6211 - val_accuracy: 0.4960\n",
      "Epoch 18/20\n",
      "10/10 [==============================] - 0s 42ms/step - loss: 14343.8486 - accuracy: 0.6240 - val_loss: 24119.8789 - val_accuracy: 0.5200\n",
      "Epoch 19/20\n",
      "10/10 [==============================] - 0s 38ms/step - loss: 12593.5664 - accuracy: 0.6920 - val_loss: 25829.8223 - val_accuracy: 0.5600\n",
      "Epoch 20/20\n",
      "10/10 [==============================] - 0s 42ms/step - loss: 12335.1475 - accuracy: 0.7200 - val_loss: 24194.5977 - val_accuracy: 0.5440\n",
      "INFO:tensorflow:Assets written to: unsafe7.hd5/assets\n",
      "Model parameters are within recommended ranges.\n",
      "\n",
      "INFO:tensorflow:Assets written to: unsafe7.hd5/assets\n"
     ]
    },
    {
     "name": "stderr",
     "output_type": "stream",
     "text": [
      "...<class 'TypeError'> error; cannot pickle '_thread.RLock' object\n",
      "...<class 'TypeError'> error; cannot pickle '_thread._local' object\n",
      "...<class 'TypeError'> error; cannot pickle '_thread.lock' object\n"
     ]
    },
    {
     "name": "stdout",
     "output_type": "stream",
     "text": [
      "INFO:tensorflow:Assets written to: ram://f1b61f81-0d0b-48c5-b172-e927a1662328/assets\n"
     ]
    },
    {
     "name": "stderr",
     "output_type": "stream",
     "text": [
      "...<class 'ValueError'> error; Unknown optimizer: DPOptimizerClass. Please ensure this object is passed to the `custom_objects` argument. See https://www.tensorflow.org/guide/keras/save_and_serialize#registering_the_custom_object for details.\n",
      "...<class 'TypeError'> error; cannot pickle '_thread.RLock' object\n",
      "...<class 'TypeError'> error; cannot pickle '_thread.RLock' object\n",
      "...<class 'TypeError'> error; cannot pickle '_thread.RLock' object\n",
      "...<class 'TypeError'> error; cannot pickle '_thread.RLock' object\n"
     ]
    },
    {
     "name": "stdout",
     "output_type": "stream",
     "text": [
      "INFO:tensorflow:Assets written to: ram://d4648750-cc69-48ab-87a2-ff536c05cf0c/assets\n"
     ]
    },
    {
     "name": "stderr",
     "output_type": "stream",
     "text": [
      "...<class 'ValueError'> error; Unknown optimizer: DPOptimizerClass. Please ensure this object is passed to the `custom_objects` argument. See https://www.tensorflow.org/guide/keras/save_and_serialize#registering_the_custom_object for details.\n",
      "...<class 'TypeError'> error; cannot pickle '_thread.RLock' object\n",
      "...<class 'TypeError'> error; cannot pickle '_thread.RLock' object\n",
      "...<class 'TypeError'> error; cannot pickle '_thread.RLock' object\n"
     ]
    },
    {
     "name": "stdout",
     "output_type": "stream",
     "text": [
      "<tensorflow_privacy.privacy.optimizers.dp_optimizer_keras.make_keras_optimizer_class.<locals>.DPOptimizerClass object at 0x7f3afbd52790>\n",
      "<tensorflow_privacy.privacy.optimizers.dp_optimizer_keras.make_keras_optimizer_class.<locals>.DPOptimizerClass object at 0x7f3afbd52790>\n",
      "DP-SGD with sampling rate = 10% and noise_multiplier = 0.5 iterated over 200 steps satisfies differential privacy with eps = 50.3 and delta = 1e-05.\n",
      "The optimal RDP order is 1.5.\n",
      "optimiser is type <class 'tensorflow_privacy.privacy.optimizers.dp_optimizer_keras.make_keras_optimizer_class.<locals>.DPOptimizerClass'>\n",
      "Error: user has not called fit() method or has deleted saved values.Recommendation: Do not release. It is True that the model will be DP because  value of optimizer._was_dp_gradients_called is True so DP variant of optimizer has been runepsilon is not sufficient for Differential privacy: 50.301726361197794. You must modify one or more of batch_size, epochs, number of samples.\n",
      " value of optimizer._was_dp_gradients_called is True so DP variant of optimizer has been run\n"
     ]
    }
   ],
   "source": [
    "importlib.reload(safemodel.safemodel)\n",
    "importlib.reload(safemodel.classifiers.safekeras)\n",
    "from safemodel.classifiers.safekeras import Safe_KerasModel\n",
    "\n",
    "# change another model params in an  unsafe way but tells preliminary_check() not to overwrite params\n",
    "print(\"\\n***Test 7: researcher changes string and numeric params unsafely\")\n",
    "safeKerasModel6 = Safe_KerasModel(inputs= input_data, outputs=output,name=\"safekerasmodel6-test\", optimizer=\"Adam\")\n",
    "safeKerasModel6.compile(loss=loss)\n",
    "safeKerasModel6.fit(Xt_member, \n",
    "                    yt_member, \n",
    "                    validation_data=(Xt_nonmember, yt_nonmember),\n",
    "                    epochs=epochs, \n",
    "                    batch_size=batch_size)\n",
    "safeKerasModel6.save(\"unsafe7.hd5\")\n",
    "\n",
    "safeKerasModel6.preliminary_check(apply_constraints=False)\n",
    "safeKerasModel6.request_release(filename=\"unsafe7.hd5\")"
   ]
  },
  {
   "cell_type": "code",
   "execution_count": null,
   "metadata": {},
   "outputs": [],
   "source": []
  },
  {
   "cell_type": "code",
   "execution_count": null,
   "metadata": {},
   "outputs": [],
   "source": []
  },
  {
   "cell_type": "code",
   "execution_count": null,
   "metadata": {},
   "outputs": [],
   "source": []
  },
  {
   "cell_type": "code",
   "execution_count": null,
   "metadata": {},
   "outputs": [],
   "source": []
  },
  {
   "cell_type": "code",
   "execution_count": null,
   "metadata": {},
   "outputs": [],
   "source": []
  }
 ],
 "metadata": {
  "kernelspec": {
   "display_name": "Python 3 (ipykernel)",
   "language": "python",
   "name": "python3"
  },
  "language_info": {
   "codemirror_mode": {
    "name": "ipython",
    "version": 3
   },
   "file_extension": ".py",
   "mimetype": "text/x-python",
   "name": "python",
   "nbconvert_exporter": "python",
   "pygments_lexer": "ipython3",
   "version": "3.9.7"
  }
 },
 "nbformat": 4,
 "nbformat_minor": 4
}
