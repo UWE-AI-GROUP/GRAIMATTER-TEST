{
 "cells": [
  {
   "cell_type": "markdown",
   "id": "57eb3d6e",
   "metadata": {},
   "source": [
    "# Membership Inference Example\n",
    "\n",
    "A notebook showing how we _could_ create a fairly simple single-use pipeline for assessing models and data.\n",
    "\n",
    "Follows the following steps:\n",
    "1. Get data\n",
    "1. Remove rows with NA and drop ID and group columns\n",
    "1. Remove `val_data` from training. This will be used later for membership inference\n",
    "1. Train the classifier (target is `outcome`)\n",
    "1. Compute classifier AUC (just to check it has learnt something)\n",
    "1. Create the membership inference dataset. This is a binary dataset with all the examples that were used to train having class 1 and all the validation examples having class 0\n",
    "1. Split the MI datasey into train and test portions\n",
    "1. Train a classifier (I have used RF) on the train portion and assess AUC on the test\n",
    "\n",
    "If the AUC of this second classifier is high, then we are able to classify points as having belonged to the training set or not."
   ]
  },
  {
   "cell_type": "code",
   "execution_count": 2,
   "id": "644ae0f2",
   "metadata": {},
   "outputs": [],
   "source": [
    "import os\n",
    "import logging\n",
    "import pandas as pd\n",
    "import numpy as np\n",
    "from sklearn.model_selection import train_test_split\n",
    "from sklearn.metrics import roc_auc_score\n",
    "from sklearn.ensemble import RandomForestClassifier\n",
    "# add the root project folder to the path\n",
    "ROOT_DIR = os.path.dirname(os.path.dirname(os.path.abspath('')))\n",
    "\n",
    "logging.basicConfig()\n",
    "logger = logging.getLogger('MI')\n",
    "logger.setLevel(logging.INFO)"
   ]
  },
  {
   "cell_type": "code",
   "execution_count": 4,
   "id": "ae7936c4",
   "metadata": {},
   "outputs": [],
   "source": [
    "# Assuming we'll keep data files in a (non-version tracked) folder called data\n",
    "DATA_FOLDER = os.path.join(ROOT_DIR, 'data')"
   ]
  },
  {
   "cell_type": "code",
   "execution_count": 5,
   "id": "2f25f8aa",
   "metadata": {},
   "outputs": [],
   "source": [
    "DATA_FILE_NAME = \"data01.csv\" # I didn't choose this name :-), it's what the data comes as!\n",
    "DATA_URL = \"https://datadryad.org/stash/downloads/file_stream/773992\""
   ]
  },
  {
   "cell_type": "markdown",
   "id": "bd0a4a92",
   "metadata": {},
   "source": [
    "Check that the data file exists. If it doesn't, chuck out an error with instructions"
   ]
  },
  {
   "cell_type": "code",
   "execution_count": 6,
   "id": "40f8523a",
   "metadata": {},
   "outputs": [],
   "source": [
    "if not os.path.exists(os.path.join(DATA_FOLDER, DATA_FILE_NAME)):\n",
    "    logger.error(\"File not available, download from %s and save to GRAIMatter/data\", DATA_URL)\n",
    "else:\n",
    "    input_data = pd.read_csv(os.path.join(DATA_FOLDER, DATA_FILE_NAME))"
   ]
  },
  {
   "cell_type": "markdown",
   "id": "a4c0c0b0",
   "metadata": {},
   "source": [
    "## Data pre-processing\n",
    "\n",
    "- Remove NA rows\n",
    "- Remove irrelevant columns\n",
    "- Split into training and validation "
   ]
  },
  {
   "cell_type": "code",
   "execution_count": 8,
   "id": "53086c2e",
   "metadata": {},
   "outputs": [],
   "source": [
    "clean_data = input_data.dropna(axis=0, how='any').drop(columns=[\"group\", \"ID\"])\n",
    "\n",
    "# Split into a set for training, and a held out set that can be used for MI assessment\n",
    "train_data, val_data = train_test_split(clean_data, test_size=0.5, stratify=clean_data.outcome, shuffle=True)"
   ]
  },
  {
   "cell_type": "markdown",
   "id": "c8026cac",
   "metadata": {},
   "source": [
    "## Train classifier\n",
    "\n",
    "Use a random forest, make sure we remove `outcome` from the data"
   ]
  },
  {
   "cell_type": "code",
   "execution_count": 9,
   "id": "7bd8744d",
   "metadata": {},
   "outputs": [
    {
     "data": {
      "text/plain": [
       "RandomForestClassifier()"
      ]
     },
     "execution_count": 9,
     "metadata": {},
     "output_type": "execute_result"
    }
   ],
   "source": [
    "rf = RandomForestClassifier() # boostrap = False will help overfit\n",
    "rf.fit(train_data.drop(columns=[\"outcome\"]), train_data.outcome)"
   ]
  },
  {
   "cell_type": "markdown",
   "id": "55ffbec5",
   "metadata": {},
   "source": [
    "## Assess performance on val data"
   ]
  },
  {
   "cell_type": "code",
   "execution_count": 10,
   "id": "48304492",
   "metadata": {},
   "outputs": [
    {
     "name": "stderr",
     "output_type": "stream",
     "text": [
      "INFO:MI:Model AUC: 0.821781\n"
     ]
    }
   ],
   "source": [
    "preds = rf.predict_proba(val_data.drop(columns=['outcome']))\n",
    "auc = roc_auc_score(val_data.outcome, preds[:, 1])\n",
    "logger.info(\"Model AUC: %f\", auc)"
   ]
  },
  {
   "cell_type": "markdown",
   "id": "d7dca333",
   "metadata": {},
   "source": [
    "## Construct a dataset with label of whether or not in the training\n",
    "\n",
    "Stack `train_data` and `val_data` (after dropping `outcome`). Create a target (1 if example in train data, 0 otherwise)"
   ]
  },
  {
   "cell_type": "code",
   "execution_count": 11,
   "id": "eabb5d19",
   "metadata": {},
   "outputs": [],
   "source": [
    "miX = pd.concat(\n",
    "    (\n",
    "        train_data.drop(columns=[\"outcome\"]),\n",
    "        val_data.drop(columns=[\"outcome\"])\n",
    "    )\n",
    ").values\n",
    "\n",
    "miY = np.vstack(\n",
    "    (\n",
    "        np.ones((len(train_data), 1), int),\n",
    "        np.zeros((len(val_data), 1), int)\n",
    "    )\n",
    ").flatten()"
   ]
  },
  {
   "cell_type": "markdown",
   "id": "23b68720",
   "metadata": {},
   "source": [
    "Split the MI dataset into train and test portions"
   ]
  },
  {
   "cell_type": "code",
   "execution_count": 12,
   "id": "722b823b",
   "metadata": {},
   "outputs": [],
   "source": [
    "mi_train_x, mi_test_x, mi_train_y, mi_test_y = train_test_split(miX, miY, test_size=0.2, stratify=miY)"
   ]
  },
  {
   "cell_type": "markdown",
   "id": "a0daae04",
   "metadata": {},
   "source": [
    "Train the membership inference classifier"
   ]
  },
  {
   "cell_type": "code",
   "execution_count": 15,
   "id": "0c215191",
   "metadata": {},
   "outputs": [
    {
     "data": {
      "text/plain": [
       "RandomForestClassifier()"
      ]
     },
     "execution_count": 15,
     "metadata": {},
     "output_type": "execute_result"
    }
   ],
   "source": [
    "mi_rf = RandomForestClassifier()\n",
    "mi_rf.fit(mi_train_x, mi_train_y)"
   ]
  },
  {
   "cell_type": "code",
   "execution_count": 16,
   "id": "83bbc462",
   "metadata": {},
   "outputs": [
    {
     "name": "stderr",
     "output_type": "stream",
     "text": [
      "INFO:MI:Membership AUC = 0.417523\n"
     ]
    }
   ],
   "source": [
    "pred_probs = mi_rf.predict_proba(mi_test_x)\n",
    "mi_auc = roc_auc_score(mi_test_y, pred_probs[:, 1])\n",
    "logger.info(\"Membership AUC = %f\", mi_auc)"
   ]
  },
  {
   "cell_type": "code",
   "execution_count": null,
   "id": "fde4b367",
   "metadata": {},
   "outputs": [],
   "source": []
  },
  {
   "cell_type": "code",
   "execution_count": null,
   "id": "6199215a",
   "metadata": {},
   "outputs": [],
   "source": []
  }
 ],
 "metadata": {
  "kernelspec": {
   "display_name": "Python 3 (ipykernel)",
   "language": "python",
   "name": "python3"
  },
  "language_info": {
   "codemirror_mode": {
    "name": "ipython",
    "version": 3
   },
   "file_extension": ".py",
   "mimetype": "text/x-python",
   "name": "python",
   "nbconvert_exporter": "python",
   "pygments_lexer": "ipython3",
   "version": "3.9.4"
  }
 },
 "nbformat": 4,
 "nbformat_minor": 5
}
