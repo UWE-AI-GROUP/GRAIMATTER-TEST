{
 "cells": [
  {
   "cell_type": "markdown",
   "id": "57eb3d6e",
   "metadata": {},
   "source": [
    "# Membership Inference Example\n",
    "\n",
    "A notebook showing how we _could_ create a fairly simple single-use pipeline for assessing models and data.\n",
    "\n",
    "Follows the following steps:\n",
    "1. Get data\n",
    "1. Remove rows with NA and drop ID and group columns\n",
    "1. Remove `val_data` from training. This will be used later for membership inference\n",
    "1. Train the classifier (target is `outcome`)\n",
    "1. Compute classifier AUC (just to check it has learnt something)\n",
    "1. Create the membership inference dataset. This is a binary classification dataset. The _features_ are the predictive probabilities of the trained model. We combine the predictive probabilities for the _training_ data and the _validation data_ (held out earlier). Observations have class 1 if they were from the training set and class 0 if from the validation.\n",
    "1. Split the MI datasey into train and test portions\n",
    "1. Train a classifier (I have used RF) on the train portion and assess AUC on the test\n",
    "\n",
    "If the AUC of this second classifier is high, then we are able to classify points as having belonged to the training set or not."
   ]
  },
  {
   "cell_type": "code",
   "execution_count": 1,
   "id": "644ae0f2",
   "metadata": {},
   "outputs": [],
   "source": [
    "import os\n",
    "import sys\n",
    "import logging\n",
    "import pandas as pd\n",
    "import numpy as np\n",
    "from sklearn.model_selection import train_test_split\n",
    "from sklearn.metrics import roc_auc_score\n",
    "from sklearn.ensemble import RandomForestClassifier\n",
    "# add the root project folder to the path\n",
    "ROOT_DIR = os.path.dirname(os.path.dirname(os.path.abspath('')))\n",
    "\n",
    "logging.basicConfig()\n",
    "logger = logging.getLogger('MI')\n",
    "logger.setLevel(logging.INFO)\n",
    "\n",
    "sys.path.append(ROOT_DIR)\n",
    "from data_preprocessing.data_interface import get_data_sklearn"
   ]
  },
  {
   "cell_type": "markdown",
   "id": "f7768d3e",
   "metadata": {},
   "source": [
    "## Load and pre-process data"
   ]
  },
  {
   "cell_type": "code",
   "execution_count": 2,
   "id": "0b893947",
   "metadata": {},
   "outputs": [],
   "source": [
    "X, y = get_data_sklearn('in-hospital-mortality')"
   ]
  },
  {
   "cell_type": "markdown",
   "id": "c8026cac",
   "metadata": {},
   "source": [
    "## Train classifier\n",
    "\n",
    "Use a random forest, make sure we remove `outcome` from the data"
   ]
  },
  {
   "cell_type": "code",
   "execution_count": 6,
   "id": "0d4d275f",
   "metadata": {},
   "outputs": [],
   "source": [
    "train_data_X, val_data_X, train_data_y, val_data_y = train_test_split(X, y, test_size=0.2)"
   ]
  },
  {
   "cell_type": "code",
   "execution_count": 7,
   "id": "7bd8744d",
   "metadata": {},
   "outputs": [
    {
     "data": {
      "text/plain": [
       "RandomForestClassifier(bootstrap=False)"
      ]
     },
     "execution_count": 7,
     "metadata": {},
     "output_type": "execute_result"
    }
   ],
   "source": [
    "rf = RandomForestClassifier(bootstrap=False) # boostrap = False will help overfit\n",
    "rf.fit(train_data_X, train_data_y)"
   ]
  },
  {
   "cell_type": "markdown",
   "id": "55ffbec5",
   "metadata": {},
   "source": [
    "## Assess performance on val data"
   ]
  },
  {
   "cell_type": "code",
   "execution_count": 8,
   "id": "48304492",
   "metadata": {},
   "outputs": [
    {
     "name": "stderr",
     "output_type": "stream",
     "text": [
      "INFO:MI:Model AUC: 0.864242\n"
     ]
    }
   ],
   "source": [
    "preds = rf.predict_proba(val_data_X)\n",
    "auc = roc_auc_score(val_data_y, preds[:, 1])\n",
    "logger.info(\"Model AUC: %f\", auc)"
   ]
  },
  {
   "cell_type": "markdown",
   "id": "d7dca333",
   "metadata": {},
   "source": [
    "## Construct a dataset with label of whether or not in the training\n",
    "\n",
    "Stack `train_data` and `val_data` (after dropping `outcome`). Create a target (1 if example in train data, 0 otherwise)"
   ]
  },
  {
   "cell_type": "code",
   "execution_count": 10,
   "id": "eabb5d19",
   "metadata": {},
   "outputs": [],
   "source": [
    "miX = np.vstack(\n",
    "    (\n",
    "        rf.predict_proba(train_data_X),\n",
    "        rf.predict_proba(val_data_X)\n",
    "    )\n",
    ")\n",
    "\n",
    "miY = np.vstack(\n",
    "    (\n",
    "        np.ones((len(train_data_X), 1), int),\n",
    "        np.zeros((len(val_data_X), 1), int)\n",
    "    )\n",
    ").flatten()"
   ]
  },
  {
   "cell_type": "markdown",
   "id": "23b68720",
   "metadata": {},
   "source": [
    "Split the MI dataset into train and test portions"
   ]
  },
  {
   "cell_type": "code",
   "execution_count": 11,
   "id": "722b823b",
   "metadata": {},
   "outputs": [],
   "source": [
    "mi_train_x, mi_test_x, mi_train_y, mi_test_y = train_test_split(miX, miY, test_size=0.2, stratify=miY)"
   ]
  },
  {
   "cell_type": "markdown",
   "id": "a0daae04",
   "metadata": {},
   "source": [
    "Train the membership inference classifier"
   ]
  },
  {
   "cell_type": "code",
   "execution_count": 12,
   "id": "0c215191",
   "metadata": {},
   "outputs": [
    {
     "data": {
      "text/plain": [
       "RandomForestClassifier()"
      ]
     },
     "execution_count": 12,
     "metadata": {},
     "output_type": "execute_result"
    }
   ],
   "source": [
    "mi_rf = RandomForestClassifier()\n",
    "mi_rf.fit(mi_train_x, mi_train_y)"
   ]
  },
  {
   "cell_type": "code",
   "execution_count": 13,
   "id": "83bbc462",
   "metadata": {},
   "outputs": [
    {
     "name": "stderr",
     "output_type": "stream",
     "text": [
      "INFO:MI:Membership AUC = 1.000000\n"
     ]
    }
   ],
   "source": [
    "pred_probs = mi_rf.predict_proba(mi_test_x)\n",
    "mi_auc = roc_auc_score(mi_test_y, pred_probs[:, 1])\n",
    "logger.info(\"Membership AUC = %f\", mi_auc)"
   ]
  },
  {
   "cell_type": "code",
   "execution_count": null,
   "id": "fde4b367",
   "metadata": {},
   "outputs": [],
   "source": []
  },
  {
   "cell_type": "code",
   "execution_count": null,
   "id": "6199215a",
   "metadata": {},
   "outputs": [],
   "source": []
  },
  {
   "cell_type": "code",
   "execution_count": null,
   "id": "8033b27d",
   "metadata": {},
   "outputs": [],
   "source": []
  }
 ],
 "metadata": {
  "kernelspec": {
   "display_name": "Python 3 (ipykernel)",
   "language": "python",
   "name": "python3"
  },
  "language_info": {
   "codemirror_mode": {
    "name": "ipython",
    "version": 3
   },
   "file_extension": ".py",
   "mimetype": "text/x-python",
   "name": "python",
   "nbconvert_exporter": "python",
   "pygments_lexer": "ipython3",
   "version": "3.9.4"
  }
 },
 "nbformat": 4,
 "nbformat_minor": 5
}
