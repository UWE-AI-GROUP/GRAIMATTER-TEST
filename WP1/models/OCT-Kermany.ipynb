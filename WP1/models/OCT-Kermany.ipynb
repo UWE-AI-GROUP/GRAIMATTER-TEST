{
 "cells": [
  {
   "cell_type": "markdown",
   "id": "220934c9",
   "metadata": {},
   "source": [
    "### Re-implementation of \"Identifying Medical Diagnoses and Treatable Diseases by Image-Based Deep Learning\"\n",
    "\n",
    "Image-based deep learning classifies macular degeneration and diabetic retinopathy using retinal optical coherence tomography (OCT) images and has potential for generalized applications in biomedical image interpretation and medical decision making. Kermany et al., 2018, Cell 172, 1122–1131 February 22, 2018 2018 Elsevier Inc. https://doi.org/10.1016/j.cell.2018.02.010\n",
    "\n",
    "The paper uses transfer learning, with an InceptionV3 model pre-trained on the ImageNet dataset. \n"
   ]
  },
  {
   "cell_type": "code",
   "execution_count": 33,
   "id": "7314f0a6",
   "metadata": {},
   "outputs": [],
   "source": [
    "import os\n",
    "import time\n",
    "import numpy as np\n",
    "import PIL\n",
    "import PIL.Image\n",
    "import tqdm\n",
    "\n",
    "import tensorflow as tf\n",
    "from tensorflow.keras.applications import InceptionV3\n",
    "from tensorflow.keras.layers import Input, Dense, Flatten, Rescaling \n",
    "from tensorflow.keras.models import Sequential, Model\n",
    "from tensorflow.keras.callbacks import EarlyStopping, ReduceLROnPlateau\n",
    "\n",
    "# Imports for MIA\n",
    "from tensorflow_privacy.privacy.privacy_tests.membership_inference_attack import membership_inference_attack as mia\n",
    "from tensorflow_privacy.privacy.privacy_tests.membership_inference_attack.data_structures import AttackInputData\n",
    "from tensorflow_privacy.privacy.privacy_tests.membership_inference_attack.data_structures import SlicingSpec\n",
    "from tensorflow_privacy.privacy.privacy_tests.membership_inference_attack.data_structures import AttackType\n",
    "import tensorflow_privacy.privacy.privacy_tests.membership_inference_attack.plotting as plotting\n",
    "from scipy import special\n",
    "\n",
    "from sklearn.metrics import ConfusionMatrixDisplay\n",
    "from sklearn.metrics import confusion_matrix, classification_report\n",
    "import matplotlib.pyplot as plt\n",
    "%matplotlib inline"
   ]
  },
  {
   "cell_type": "code",
   "execution_count": 7,
   "id": "215e715e",
   "metadata": {},
   "outputs": [
    {
     "data": {
      "text/plain": [
       "[PhysicalDevice(name='/physical_device:GPU:0', device_type='GPU')]"
      ]
     },
     "execution_count": 7,
     "metadata": {},
     "output_type": "execute_result"
    }
   ],
   "source": [
    "tf.config.list_physical_devices('GPU')"
   ]
  },
  {
   "cell_type": "code",
   "execution_count": 2,
   "id": "2cb16868",
   "metadata": {},
   "outputs": [],
   "source": [
    "PATH_TO_DATASET = '../../../../../../research/datasets/ZhangLabData/CellData/OCT'\n",
    "PATH_TO_TRAIN_DATASET = os.path.join(PATH_TO_DATASET, 'train')\n",
    "PATH_TO_TEST_DATASET = os.path.join(PATH_TO_DATASET, 'test')"
   ]
  },
  {
   "cell_type": "code",
   "execution_count": 3,
   "id": "cc5afd5e",
   "metadata": {},
   "outputs": [],
   "source": [
    "batch_size = 100\n",
    "epochs = 100\n",
    "\n",
    "# Max image size for InceptionV3\n",
    "img_height = 299\n",
    "img_width = 299"
   ]
  },
  {
   "cell_type": "code",
   "execution_count": 4,
   "id": "5c950759",
   "metadata": {},
   "outputs": [
    {
     "name": "stdout",
     "output_type": "stream",
     "text": [
      "Found 108309 files belonging to 4 classes.\n",
      "Found 1000 files belonging to 4 classes.\n"
     ]
    }
   ],
   "source": [
    "train_ds = tf.keras.utils.image_dataset_from_directory(\n",
    "    PATH_TO_TRAIN_DATASET,\n",
    "    label_mode='categorical',\n",
    "    image_size=(img_height, img_width),\n",
    "    batch_size=batch_size)\n",
    "\n",
    "test_ds = tf.keras.utils.image_dataset_from_directory(\n",
    "    PATH_TO_TEST_DATASET,\n",
    "    label_mode='categorical',\n",
    "    image_size=(img_height, img_width),\n",
    "    batch_size=batch_size)\n",
    "\n",
    "class_names = train_ds.class_names\n",
    "num_classes = len(class_names)"
   ]
  },
  {
   "cell_type": "markdown",
   "id": "7980de1b",
   "metadata": {},
   "source": [
    "#### TODO: \n",
    "Authors recode the data to have 3 classes instead of 4:\n",
    " - CNV & DMR -> urgent referrals\n",
    " - Drusen -> routine referrals\n",
    " - Normal -> normal"
   ]
  },
  {
   "cell_type": "markdown",
   "id": "fdbdca76",
   "metadata": {},
   "source": [
    "Build a classifier with no 'softmax' activation in the last layer.\n",
    "The TensorFlow-Privacy MIA implementation requires logits and probabilities."
   ]
  },
  {
   "cell_type": "code",
   "execution_count": 5,
   "id": "c03eaefa",
   "metadata": {},
   "outputs": [],
   "source": [
    "def build_classifier():\n",
    "    # InceptionV3 pretrained on ImageNet\n",
    "    base_model = InceptionV3(include_top=False,\n",
    "                             weights='imagenet',\n",
    "                             input_shape=(img_height, img_width, 3),\n",
    "                             pooling='avg'\n",
    "                            )\n",
    "    # Freeze parameters\n",
    "    base_model.trainable = False\n",
    "    \n",
    "    # Model definition\n",
    "    input_data = Input(shape=(img_height, img_width, 3))\n",
    "    # InceptionV3 expects pixel data in range [-1,1]\n",
    "    x = Rescaling(1./127.5, offset=-1)(input_data)\n",
    "    x = base_model(x, training=False)\n",
    "    # No softmax\n",
    "    output = Dense(num_classes)(x)\n",
    "\n",
    "    model = Model(inputs=input_data, outputs=output)\n",
    "    \n",
    "    # Loss function from logits\n",
    "    loss = tf.keras.losses.CategoricalCrossentropy(from_logits=True)\n",
    "    model.compile(optimizer='adam',\n",
    "                  loss=loss,\n",
    "                  metrics=['accuracy'],\n",
    "                 )\n",
    "    \n",
    "    return model"
   ]
  },
  {
   "cell_type": "code",
   "execution_count": 8,
   "id": "a9506155",
   "metadata": {},
   "outputs": [
    {
     "name": "stdout",
     "output_type": "stream",
     "text": [
      "Model: \"model_1\"\n",
      "_________________________________________________________________\n",
      " Layer (type)                Output Shape              Param #   \n",
      "=================================================================\n",
      " input_4 (InputLayer)        [(None, 299, 299, 3)]     0         \n",
      "                                                                 \n",
      " rescaling_1 (Rescaling)     (None, 299, 299, 3)       0         \n",
      "                                                                 \n",
      " inception_v3 (Functional)   (None, 2048)              21802784  \n",
      "                                                                 \n",
      " dense_1 (Dense)             (None, 4)                 8196      \n",
      "                                                                 \n",
      "=================================================================\n",
      "Total params: 21,810,980\n",
      "Trainable params: 8,196\n",
      "Non-trainable params: 21,802,784\n",
      "_________________________________________________________________\n",
      "Epoch 1/100\n",
      "1084/1084 [==============================] - 389s 356ms/step - loss: 0.3974 - accuracy: 0.8629 - val_loss: 0.3001 - val_accuracy: 0.8940 - lr: 0.0010\n",
      "Epoch 2/100\n",
      "1084/1084 [==============================] - 231s 213ms/step - loss: 0.3070 - accuracy: 0.8937 - val_loss: 0.3230 - val_accuracy: 0.8640 - lr: 0.0010\n",
      "Epoch 3/100\n",
      "1084/1084 [==============================] - 231s 212ms/step - loss: 0.2856 - accuracy: 0.9007 - val_loss: 0.3006 - val_accuracy: 0.8710 - lr: 0.0010\n",
      "Epoch 4/100\n",
      "1084/1084 [==============================] - 236s 218ms/step - loss: 0.2724 - accuracy: 0.9061 - val_loss: 0.2872 - val_accuracy: 0.8840 - lr: 0.0010\n",
      "Epoch 5/100\n",
      "1084/1084 [==============================] - 237s 218ms/step - loss: 0.2628 - accuracy: 0.9093 - val_loss: 0.2343 - val_accuracy: 0.9210 - lr: 0.0010\n",
      "Epoch 6/100\n",
      "1084/1084 [==============================] - 237s 218ms/step - loss: 0.2559 - accuracy: 0.9118 - val_loss: 0.2347 - val_accuracy: 0.9150 - lr: 0.0010\n",
      "Epoch 7/100\n",
      "1084/1084 [==============================] - 238s 219ms/step - loss: 0.2508 - accuracy: 0.9132 - val_loss: 0.2797 - val_accuracy: 0.8820 - lr: 0.0010\n",
      "Epoch 8/100\n",
      "1084/1084 [==============================] - 232s 213ms/step - loss: 0.2466 - accuracy: 0.9146 - val_loss: 0.2925 - val_accuracy: 0.8690 - lr: 0.0010\n",
      "Epoch 9/100\n",
      "1084/1084 [==============================] - 231s 213ms/step - loss: 0.2431 - accuracy: 0.9161 - val_loss: 0.1799 - val_accuracy: 0.9450 - lr: 0.0010\n",
      "Epoch 10/100\n",
      "1084/1084 [==============================] - 233s 214ms/step - loss: 0.2400 - accuracy: 0.9169 - val_loss: 0.2322 - val_accuracy: 0.9140 - lr: 0.0010\n",
      "Epoch 11/100\n",
      "1084/1084 [==============================] - 232s 213ms/step - loss: 0.2376 - accuracy: 0.9177 - val_loss: 0.2864 - val_accuracy: 0.8800 - lr: 0.0010\n",
      "Epoch 12/100\n",
      "1084/1084 [==============================] - 234s 216ms/step - loss: 0.2356 - accuracy: 0.9180 - val_loss: 0.1750 - val_accuracy: 0.9460 - lr: 0.0010\n",
      "Epoch 13/100\n",
      "1084/1084 [==============================] - 237s 218ms/step - loss: 0.2342 - accuracy: 0.9188 - val_loss: 0.2961 - val_accuracy: 0.8730 - lr: 0.0010\n",
      "Epoch 14/100\n",
      "1084/1084 [==============================] - 235s 217ms/step - loss: 0.2317 - accuracy: 0.9202 - val_loss: 0.2449 - val_accuracy: 0.9050 - lr: 0.0010\n",
      "Epoch 15/100\n",
      "1084/1084 [==============================] - 234s 215ms/step - loss: 0.2282 - accuracy: 0.9214 - val_loss: 0.2724 - val_accuracy: 0.8930 - lr: 0.0010\n",
      "Epoch 16/100\n",
      "1084/1084 [==============================] - 236s 217ms/step - loss: 0.2271 - accuracy: 0.9217 - val_loss: 0.2208 - val_accuracy: 0.9200 - lr: 0.0010\n",
      "Epoch 17/100\n",
      "1084/1084 [==============================] - 237s 218ms/step - loss: 0.2268 - accuracy: 0.9217 - val_loss: 0.2095 - val_accuracy: 0.9230 - lr: 0.0010\n",
      "Epoch 18/100\n",
      "1084/1084 [==============================] - 240s 221ms/step - loss: 0.2159 - accuracy: 0.9261 - val_loss: 0.2394 - val_accuracy: 0.9090 - lr: 2.0000e-04\n",
      "Epoch 19/100\n",
      "1084/1084 [==============================] - 241s 222ms/step - loss: 0.2155 - accuracy: 0.9260 - val_loss: 0.2551 - val_accuracy: 0.8970 - lr: 2.0000e-04\n",
      "Epoch 20/100\n",
      "1084/1084 [==============================] - 236s 217ms/step - loss: 0.2152 - accuracy: 0.9265 - val_loss: 0.2543 - val_accuracy: 0.9010 - lr: 2.0000e-04\n",
      "Epoch 21/100\n",
      "1084/1084 [==============================] - 239s 220ms/step - loss: 0.2148 - accuracy: 0.9261 - val_loss: 0.2468 - val_accuracy: 0.9090 - lr: 2.0000e-04\n",
      "Epoch 22/100\n",
      "1084/1084 [==============================] - 238s 219ms/step - loss: 0.2145 - accuracy: 0.9265 - val_loss: 0.2296 - val_accuracy: 0.9160 - lr: 2.0000e-04\n",
      "Epoch 23/100\n",
      "1084/1084 [==============================] - 238s 219ms/step - loss: 0.2122 - accuracy: 0.9274 - val_loss: 0.2381 - val_accuracy: 0.9100 - lr: 4.0000e-05\n",
      "Epoch 24/100\n",
      "1084/1084 [==============================] - 233s 215ms/step - loss: 0.2120 - accuracy: 0.9273 - val_loss: 0.2409 - val_accuracy: 0.9090 - lr: 4.0000e-05\n",
      "Epoch 25/100\n",
      "1084/1084 [==============================] - 236s 217ms/step - loss: 0.2119 - accuracy: 0.9273 - val_loss: 0.2384 - val_accuracy: 0.9120 - lr: 4.0000e-05\n",
      "Epoch 26/100\n",
      "1084/1084 [==============================] - 231s 213ms/step - loss: 0.2119 - accuracy: 0.9274 - val_loss: 0.2379 - val_accuracy: 0.9120 - lr: 4.0000e-05\n",
      "Epoch 27/100\n",
      "1084/1084 [==============================] - 241s 222ms/step - loss: 0.2118 - accuracy: 0.9274 - val_loss: 0.2387 - val_accuracy: 0.9110 - lr: 4.0000e-05\n",
      "Epoch 28/100\n",
      "1084/1084 [==============================] - 240s 221ms/step - loss: 0.2113 - accuracy: 0.9275 - val_loss: 0.2388 - val_accuracy: 0.9120 - lr: 1.0000e-05\n",
      "Epoch 29/100\n",
      "1084/1084 [==============================] - 244s 225ms/step - loss: 0.2113 - accuracy: 0.9275 - val_loss: 0.2387 - val_accuracy: 0.9120 - lr: 1.0000e-05\n",
      "Epoch 30/100\n",
      "1084/1084 [==============================] - 241s 222ms/step - loss: 0.2112 - accuracy: 0.9275 - val_loss: 0.2392 - val_accuracy: 0.9130 - lr: 1.0000e-05\n",
      "Epoch 31/100\n",
      "1084/1084 [==============================] - 243s 223ms/step - loss: 0.2112 - accuracy: 0.9276 - val_loss: 0.2381 - val_accuracy: 0.9130 - lr: 1.0000e-05\n",
      "Epoch 32/100\n",
      "1084/1084 [==============================] - 242s 223ms/step - loss: 0.2112 - accuracy: 0.9277 - val_loss: 0.2399 - val_accuracy: 0.9120 - lr: 1.0000e-05\n",
      "Epoch 33/100\n",
      "1084/1084 [==============================] - 236s 217ms/step - loss: 0.2112 - accuracy: 0.9276 - val_loss: 0.2398 - val_accuracy: 0.9120 - lr: 1.0000e-05\n",
      "Epoch 34/100\n",
      "1084/1084 [==============================] - 234s 215ms/step - loss: 0.2112 - accuracy: 0.9275 - val_loss: 0.2392 - val_accuracy: 0.9120 - lr: 1.0000e-05\n",
      "Epoch 35/100\n",
      "1084/1084 [==============================] - 235s 216ms/step - loss: 0.2112 - accuracy: 0.9275 - val_loss: 0.2401 - val_accuracy: 0.9120 - lr: 1.0000e-05\n",
      "Epoch 36/100\n",
      "1084/1084 [==============================] - 236s 217ms/step - loss: 0.2112 - accuracy: 0.9276 - val_loss: 0.2396 - val_accuracy: 0.9120 - lr: 1.0000e-05\n",
      "Epoch 37/100\n",
      "1084/1084 [==============================] - 232s 214ms/step - loss: 0.2111 - accuracy: 0.9275 - val_loss: 0.2396 - val_accuracy: 0.9120 - lr: 1.0000e-05\n",
      "Epoch 38/100\n",
      "1084/1084 [==============================] - 233s 215ms/step - loss: 0.2111 - accuracy: 0.9275 - val_loss: 0.2389 - val_accuracy: 0.9120 - lr: 1.0000e-05\n",
      "Epoch 39/100\n",
      "1084/1084 [==============================] - 299s 275ms/step - loss: 0.2111 - accuracy: 0.9276 - val_loss: 0.2393 - val_accuracy: 0.9120 - lr: 1.0000e-05\n",
      "Epoch 40/100\n",
      "1084/1084 [==============================] - 232s 212ms/step - loss: 0.2111 - accuracy: 0.9276 - val_loss: 0.2398 - val_accuracy: 0.9120 - lr: 1.0000e-05\n",
      "Epoch 41/100\n",
      "1084/1084 [==============================] - 226s 208ms/step - loss: 0.2111 - accuracy: 0.9276 - val_loss: 0.2389 - val_accuracy: 0.9120 - lr: 1.0000e-05\n",
      "Epoch 42/100\n",
      "1084/1084 [==============================] - 225s 207ms/step - loss: 0.2111 - accuracy: 0.9276 - val_loss: 0.2401 - val_accuracy: 0.9120 - lr: 1.0000e-05\n",
      "Epoch 43/100\n",
      "1084/1084 [==============================] - 228s 210ms/step - loss: 0.2111 - accuracy: 0.9275 - val_loss: 0.2404 - val_accuracy: 0.9110 - lr: 1.0000e-05\n",
      "Epoch 44/100\n",
      "1084/1084 [==============================] - 225s 207ms/step - loss: 0.2110 - accuracy: 0.9275 - val_loss: 0.2394 - val_accuracy: 0.9120 - lr: 1.0000e-05\n"
     ]
    },
    {
     "name": "stdout",
     "output_type": "stream",
     "text": [
      "Epoch 45/100\n",
      "1084/1084 [==============================] - 225s 208ms/step - loss: 0.2110 - accuracy: 0.9276 - val_loss: 0.2394 - val_accuracy: 0.9120 - lr: 1.0000e-05\n",
      "Epoch 46/100\n",
      "1084/1084 [==============================] - 225s 208ms/step - loss: 0.2110 - accuracy: 0.9277 - val_loss: 0.2393 - val_accuracy: 0.9120 - lr: 1.0000e-05\n",
      "Epoch 47/100\n",
      "1084/1084 [==============================] - 226s 208ms/step - loss: 0.2110 - accuracy: 0.9277 - val_loss: 0.2385 - val_accuracy: 0.9120 - lr: 1.0000e-05\n",
      "Epoch 48/100\n",
      "1084/1084 [==============================] - 229s 211ms/step - loss: 0.2110 - accuracy: 0.9275 - val_loss: 0.2394 - val_accuracy: 0.9120 - lr: 1.0000e-05\n",
      "Epoch 49/100\n",
      "1084/1084 [==============================] - 232s 213ms/step - loss: 0.2110 - accuracy: 0.9276 - val_loss: 0.2401 - val_accuracy: 0.9120 - lr: 1.0000e-05\n",
      "Epoch 50/100\n",
      "1084/1084 [==============================] - 229s 211ms/step - loss: 0.2109 - accuracy: 0.9276 - val_loss: 0.2400 - val_accuracy: 0.9120 - lr: 1.0000e-05\n",
      "Epoch 51/100\n",
      "1084/1084 [==============================] - 228s 210ms/step - loss: 0.2109 - accuracy: 0.9276 - val_loss: 0.2404 - val_accuracy: 0.9120 - lr: 1.0000e-05\n",
      "Epoch 52/100\n",
      "1084/1084 [==============================] - 226s 208ms/step - loss: 0.2109 - accuracy: 0.9276 - val_loss: 0.2390 - val_accuracy: 0.9120 - lr: 1.0000e-05\n",
      "Epoch 53/100\n",
      "1084/1084 [==============================] - 227s 209ms/step - loss: 0.2109 - accuracy: 0.9276 - val_loss: 0.2401 - val_accuracy: 0.9120 - lr: 1.0000e-05\n",
      "Epoch 54/100\n",
      "1084/1084 [==============================] - 233s 215ms/step - loss: 0.2109 - accuracy: 0.9277 - val_loss: 0.2396 - val_accuracy: 0.9120 - lr: 1.0000e-05\n",
      "Epoch 55/100\n",
      "1084/1084 [==============================] - 229s 211ms/step - loss: 0.2109 - accuracy: 0.9275 - val_loss: 0.2398 - val_accuracy: 0.9120 - lr: 1.0000e-05\n",
      "Epoch 56/100\n",
      "1084/1084 [==============================] - 227s 209ms/step - loss: 0.2109 - accuracy: 0.9276 - val_loss: 0.2398 - val_accuracy: 0.9120 - lr: 1.0000e-05\n",
      "Epoch 57/100\n",
      "1084/1084 [==============================] - 227s 209ms/step - loss: 0.2109 - accuracy: 0.9276 - val_loss: 0.2397 - val_accuracy: 0.9120 - lr: 1.0000e-05\n",
      "Epoch 58/100\n",
      "1084/1084 [==============================] - 232s 213ms/step - loss: 0.2109 - accuracy: 0.9277 - val_loss: 0.2396 - val_accuracy: 0.9120 - lr: 1.0000e-05\n",
      "Epoch 59/100\n",
      "1084/1084 [==============================] - 228s 210ms/step - loss: 0.2108 - accuracy: 0.9277 - val_loss: 0.2387 - val_accuracy: 0.9130 - lr: 1.0000e-05\n",
      "Epoch 60/100\n",
      "1084/1084 [==============================] - 229s 211ms/step - loss: 0.2108 - accuracy: 0.9277 - val_loss: 0.2383 - val_accuracy: 0.9130 - lr: 1.0000e-05\n",
      "Epoch 61/100\n",
      "1084/1084 [==============================] - 227s 209ms/step - loss: 0.2108 - accuracy: 0.9276 - val_loss: 0.2398 - val_accuracy: 0.9120 - lr: 1.0000e-05\n",
      "Epoch 62/100\n",
      "1084/1084 [==============================] - 228s 210ms/step - loss: 0.2108 - accuracy: 0.9275 - val_loss: 0.2405 - val_accuracy: 0.9120 - lr: 1.0000e-05\n",
      "Epoch 63/100\n",
      "1084/1084 [==============================] - 229s 211ms/step - loss: 0.2108 - accuracy: 0.9277 - val_loss: 0.2394 - val_accuracy: 0.9120 - lr: 1.0000e-05\n",
      "Epoch 64/100\n",
      "1084/1084 [==============================] - 227s 209ms/step - loss: 0.2108 - accuracy: 0.9277 - val_loss: 0.2400 - val_accuracy: 0.9120 - lr: 1.0000e-05\n",
      "Epoch 65/100\n",
      "1084/1084 [==============================] - 227s 209ms/step - loss: 0.2108 - accuracy: 0.9277 - val_loss: 0.2394 - val_accuracy: 0.9120 - lr: 1.0000e-05\n",
      "Epoch 66/100\n",
      "1084/1084 [==============================] - 230s 212ms/step - loss: 0.2107 - accuracy: 0.9277 - val_loss: 0.2404 - val_accuracy: 0.9120 - lr: 1.0000e-05\n",
      "Epoch 67/100\n",
      "1084/1084 [==============================] - 232s 213ms/step - loss: 0.2107 - accuracy: 0.9276 - val_loss: 0.2400 - val_accuracy: 0.9120 - lr: 1.0000e-05\n",
      "Epoch 68/100\n",
      "1084/1084 [==============================] - 227s 209ms/step - loss: 0.2107 - accuracy: 0.9277 - val_loss: 0.2395 - val_accuracy: 0.9120 - lr: 1.0000e-05\n",
      "Epoch 69/100\n",
      "1084/1084 [==============================] - 228s 210ms/step - loss: 0.2107 - accuracy: 0.9276 - val_loss: 0.2386 - val_accuracy: 0.9130 - lr: 1.0000e-05\n",
      "Epoch 70/100\n",
      "1084/1084 [==============================] - 237s 218ms/step - loss: 0.2107 - accuracy: 0.9277 - val_loss: 0.2399 - val_accuracy: 0.9120 - lr: 1.0000e-05\n",
      "Epoch 71/100\n",
      "1084/1084 [==============================] - 234s 216ms/step - loss: 0.2107 - accuracy: 0.9277 - val_loss: 0.2397 - val_accuracy: 0.9120 - lr: 1.0000e-05\n",
      "Epoch 72/100\n",
      "1084/1084 [==============================] - 239s 220ms/step - loss: 0.2106 - accuracy: 0.9277 - val_loss: 0.2396 - val_accuracy: 0.9130 - lr: 1.0000e-05\n",
      "Epoch 73/100\n",
      "1084/1084 [==============================] - 239s 220ms/step - loss: 0.2106 - accuracy: 0.9277 - val_loss: 0.2399 - val_accuracy: 0.9120 - lr: 1.0000e-05\n",
      "Epoch 74/100\n",
      "1084/1084 [==============================] - 242s 223ms/step - loss: 0.2106 - accuracy: 0.9276 - val_loss: 0.2401 - val_accuracy: 0.9120 - lr: 1.0000e-05\n",
      "Epoch 75/100\n",
      "1084/1084 [==============================] - 240s 221ms/step - loss: 0.2106 - accuracy: 0.9277 - val_loss: 0.2393 - val_accuracy: 0.9130 - lr: 1.0000e-05\n",
      "Epoch 76/100\n",
      "1084/1084 [==============================] - 239s 221ms/step - loss: 0.2106 - accuracy: 0.9277 - val_loss: 0.2388 - val_accuracy: 0.9130 - lr: 1.0000e-05\n",
      "Epoch 77/100\n",
      "1084/1084 [==============================] - 234s 216ms/step - loss: 0.2106 - accuracy: 0.9279 - val_loss: 0.2392 - val_accuracy: 0.9130 - lr: 1.0000e-05\n",
      "Epoch 78/100\n",
      "1084/1084 [==============================] - 236s 217ms/step - loss: 0.2106 - accuracy: 0.9278 - val_loss: 0.2403 - val_accuracy: 0.9120 - lr: 1.0000e-05\n",
      "Epoch 79/100\n",
      "1084/1084 [==============================] - 237s 219ms/step - loss: 0.2106 - accuracy: 0.9278 - val_loss: 0.2393 - val_accuracy: 0.9130 - lr: 1.0000e-05\n",
      "Epoch 80/100\n",
      "1084/1084 [==============================] - 238s 219ms/step - loss: 0.2106 - accuracy: 0.9277 - val_loss: 0.2394 - val_accuracy: 0.9130 - lr: 1.0000e-05\n",
      "Epoch 81/100\n",
      "1084/1084 [==============================] - 234s 216ms/step - loss: 0.2105 - accuracy: 0.9278 - val_loss: 0.2398 - val_accuracy: 0.9130 - lr: 1.0000e-05\n",
      "Epoch 82/100\n",
      "1084/1084 [==============================] - 233s 215ms/step - loss: 0.2105 - accuracy: 0.9278 - val_loss: 0.2395 - val_accuracy: 0.9130 - lr: 1.0000e-05\n",
      "Epoch 83/100\n",
      "1084/1084 [==============================] - 234s 216ms/step - loss: 0.2105 - accuracy: 0.9279 - val_loss: 0.2392 - val_accuracy: 0.9130 - lr: 1.0000e-05\n",
      "Epoch 84/100\n",
      "1084/1084 [==============================] - 235s 216ms/step - loss: 0.2105 - accuracy: 0.9277 - val_loss: 0.2395 - val_accuracy: 0.9130 - lr: 1.0000e-05\n",
      "Epoch 85/100\n",
      "1084/1084 [==============================] - 232s 213ms/step - loss: 0.2105 - accuracy: 0.9278 - val_loss: 0.2402 - val_accuracy: 0.9130 - lr: 1.0000e-05\n",
      "Epoch 86/100\n",
      "1084/1084 [==============================] - 229s 211ms/step - loss: 0.2105 - accuracy: 0.9277 - val_loss: 0.2407 - val_accuracy: 0.9120 - lr: 1.0000e-05\n",
      "Epoch 87/100\n",
      "1084/1084 [==============================] - 226s 208ms/step - loss: 0.2104 - accuracy: 0.9277 - val_loss: 0.2393 - val_accuracy: 0.9130 - lr: 1.0000e-05\n",
      "Epoch 88/100\n",
      "1084/1084 [==============================] - 224s 207ms/step - loss: 0.2104 - accuracy: 0.9278 - val_loss: 0.2396 - val_accuracy: 0.9130 - lr: 1.0000e-05\n",
      "Epoch 89/100\n",
      "1084/1084 [==============================] - 225s 207ms/step - loss: 0.2104 - accuracy: 0.9278 - val_loss: 0.2394 - val_accuracy: 0.9130 - lr: 1.0000e-05\n",
      "Epoch 90/100\n",
      "1084/1084 [==============================] - 227s 209ms/step - loss: 0.2104 - accuracy: 0.9279 - val_loss: 0.2394 - val_accuracy: 0.9130 - lr: 1.0000e-05\n",
      "Epoch 91/100\n",
      "1084/1084 [==============================] - 227s 209ms/step - loss: 0.2104 - accuracy: 0.9278 - val_loss: 0.2391 - val_accuracy: 0.9130 - lr: 1.0000e-05\n",
      "Epoch 92/100\n",
      "1084/1084 [==============================] - 228s 210ms/step - loss: 0.2104 - accuracy: 0.9278 - val_loss: 0.2398 - val_accuracy: 0.9130 - lr: 1.0000e-05\n",
      "Epoch 93/100\n",
      "1084/1084 [==============================] - 231s 213ms/step - loss: 0.2104 - accuracy: 0.9277 - val_loss: 0.2395 - val_accuracy: 0.9130 - lr: 1.0000e-05\n",
      "Epoch 94/100\n"
     ]
    },
    {
     "name": "stdout",
     "output_type": "stream",
     "text": [
      "1084/1084 [==============================] - 230s 212ms/step - loss: 0.2104 - accuracy: 0.9279 - val_loss: 0.2398 - val_accuracy: 0.9130 - lr: 1.0000e-05\n",
      "Epoch 95/100\n",
      "1084/1084 [==============================] - 234s 216ms/step - loss: 0.2103 - accuracy: 0.9278 - val_loss: 0.2391 - val_accuracy: 0.9130 - lr: 1.0000e-05\n",
      "Epoch 96/100\n",
      "1084/1084 [==============================] - 236s 217ms/step - loss: 0.2103 - accuracy: 0.9278 - val_loss: 0.2406 - val_accuracy: 0.9130 - lr: 1.0000e-05\n",
      "Epoch 97/100\n",
      "1084/1084 [==============================] - 238s 219ms/step - loss: 0.2103 - accuracy: 0.9279 - val_loss: 0.2407 - val_accuracy: 0.9130 - lr: 1.0000e-05\n",
      "Epoch 98/100\n",
      "1084/1084 [==============================] - 238s 219ms/step - loss: 0.2103 - accuracy: 0.9279 - val_loss: 0.2407 - val_accuracy: 0.9130 - lr: 1.0000e-05\n",
      "Epoch 99/100\n",
      "1084/1084 [==============================] - 226s 208ms/step - loss: 0.2103 - accuracy: 0.9278 - val_loss: 0.2393 - val_accuracy: 0.9130 - lr: 1.0000e-05\n",
      "Epoch 100/100\n",
      "1084/1084 [==============================] - 228s 210ms/step - loss: 0.2103 - accuracy: 0.9277 - val_loss: 0.2394 - val_accuracy: 0.9130 - lr: 1.0000e-05\n"
     ]
    }
   ],
   "source": [
    "classifier = build_classifier()\n",
    "classifier.summary()\n",
    "\n",
    "# Train network until convergence \n",
    "early_stopping = EarlyStopping(monitor='accuracy', patience=3)\n",
    "reduce_lr = ReduceLROnPlateau(monitor='val_loss', factor=0.2, patience=5, min_lr=1e-5)\n",
    "r = classifier.fit(train_ds,\n",
    "                   epochs=epochs,\n",
    "                   validation_data=test_ds,\n",
    "                   verbose=1,\n",
    "                   callbacks=[early_stopping, reduce_lr]\n",
    "                  )   "
   ]
  },
  {
   "cell_type": "code",
   "execution_count": 13,
   "id": "bb3f2444",
   "metadata": {},
   "outputs": [
    {
     "name": "stdout",
     "output_type": "stream",
     "text": [
      "INFO:tensorflow:Assets written to: OCT-Kermany-20220118-17.01\\assets\n"
     ]
    }
   ],
   "source": [
    "from datetime import datetime\n",
    "classifier.save('OCT-Kermany-'+datetime.now().strftime('%Y%m%d-%H.%M'))"
   ]
  },
  {
   "cell_type": "code",
   "execution_count": null,
   "id": "1c064c41",
   "metadata": {},
   "outputs": [],
   "source": [
    "# To retrieve saved model\n",
    "# model = keras.models.load_model('OCT-Kermany-model-datetime')"
   ]
  },
  {
   "cell_type": "code",
   "execution_count": 9,
   "id": "6c060909",
   "metadata": {},
   "outputs": [
    {
     "data": {
      "image/png": "[encoded data removed]",
      "text/plain": [
       "<Figure size 576x576 with 2 Axes>"
      ]
     },
     "metadata": {
      "needs_background": "light"
     },
     "output_type": "display_data"
    }
   ],
   "source": [
    "acc = r.history['accuracy']\n",
    "val_acc = r.history['val_accuracy']\n",
    "\n",
    "loss = r.history['loss']\n",
    "val_loss = r.history['val_loss']\n",
    "\n",
    "plt.figure(figsize=(8, 8))\n",
    "plt.subplot(2, 1, 1)\n",
    "plt.plot(acc, label='Training Accuracy')\n",
    "plt.plot(val_acc, label='Validation Accuracy')\n",
    "plt.legend(loc='lower right')\n",
    "plt.ylabel('Accuracy')\n",
    "plt.ylim([min(plt.ylim()),1])\n",
    "plt.title('Training and Validation Accuracy')\n",
    "\n",
    "plt.subplot(2, 1, 2)\n",
    "plt.plot(loss, label='Training Loss')\n",
    "plt.plot(val_loss, label='Validation Loss')\n",
    "plt.legend(loc='upper right')\n",
    "plt.ylabel('Cross Entropy')\n",
    "plt.ylim([0,1.0])\n",
    "plt.title('Training and Validation Loss')\n",
    "plt.xlabel('epoch')\n",
    "plt.show()"
   ]
  },
  {
   "cell_type": "code",
   "execution_count": 10,
   "id": "c8eb2a33",
   "metadata": {},
   "outputs": [],
   "source": [
    "y_pred = np.array([])\n",
    "y_true = np.array([])\n",
    "for x, y in test_ds:\n",
    "    y_true = np.concatenate((y_true, np.argmax(y,axis=1)),axis=0)\n",
    "    y_pred = np.concatenate((y_pred, np.argmax(classifier.predict(x),axis=1)),axis=0) "
   ]
  },
  {
   "cell_type": "code",
   "execution_count": 11,
   "id": "9d45d5dd",
   "metadata": {},
   "outputs": [
    {
     "name": "stdout",
     "output_type": "stream",
     "text": [
      "              precision    recall  f1-score   support\n",
      "\n",
      "         CNV     0.8294    0.9720    0.8950       250\n",
      "         DME     0.9305    0.9640    0.9470       250\n",
      "      DRUSEN     0.9946    0.7360    0.8460       250\n",
      "      NORMAL     0.9316    0.9800    0.9552       250\n",
      "\n",
      "    accuracy                         0.9130      1000\n",
      "   macro avg     0.9215    0.9130    0.9108      1000\n",
      "weighted avg     0.9215    0.9130    0.9108      1000\n",
      "\n"
     ]
    }
   ],
   "source": [
    "print(classification_report(y_true, y_pred, target_names=class_names, digits=4))"
   ]
  },
  {
   "cell_type": "code",
   "execution_count": 12,
   "id": "3415e2d8",
   "metadata": {},
   "outputs": [
    {
     "data": {
      "image/png": "[encoded data removed]",
      "text/plain": [
       "<Figure size 432x288 with 2 Axes>"
      ]
     },
     "metadata": {
      "needs_background": "light"
     },
     "output_type": "display_data"
    }
   ],
   "source": [
    "cm = confusion_matrix(y_true, y_pred)\n",
    "disp = ConfusionMatrixDisplay(confusion_matrix=cm, display_labels=class_names)\n",
    "disp.plot()\n",
    "plt.show()"
   ]
  },
  {
   "cell_type": "markdown",
   "id": "75c6faf6",
   "metadata": {},
   "source": [
    "## Membership inference attack using TF-Privacy\n",
    "The inputs to the function are the train and test features and labels, along with the trained model.\n",
    "\n",
    "The function internally computes the probabilities from the logits, using the softmax function.\n",
    "\n",
    "`SlicingSpec` configures how the data is used to run the attacks. In the example below, the attacks will be performed on the whole dataset, on individual classes, and on correctly/incorrectly classified instances. \n",
    "`attack_types` tells the engine what type of MIA are to be run: for example, the threshold attack works on the assumption that the classification loss for member instances will be smaller than that of the non-member instances. The MLP attack builds shadow models as the Shokri attack."
   ]
  },
  {
   "cell_type": "code",
   "execution_count": 31,
   "id": "3bd5174e",
   "metadata": {},
   "outputs": [],
   "source": [
    "def membership_inference_attack(model, train_ds, test_ds):\n",
    "    \n",
    "    print('Predict on train...')\n",
    "    logits_train = np.empty((0,4))\n",
    "    y_train = np.empty((0,4))\n",
    "    for x, y in tqdm.tqdm(train_ds):\n",
    "        logits_train = np.concatenate((logits_train, model.predict(x)),axis=0)\n",
    "        y_train = np.concatenate((y_train, y),axis=0)\n",
    "\n",
    "    print('Predict on test...')\n",
    "    logits_test = np.empty((0,4))\n",
    "    y_test = np.empty((0,4))\n",
    "    for x, y in tqdm.tqdm(test_ds):\n",
    "        logits_test = np.concatenate((logits_test, model.predict(x)),axis=0)\n",
    "        y_test = np.concatenate((y_test, y),axis=0)\n",
    "\n",
    "    print('Apply softmax to get probabilities from logits...')\n",
    "    prob_train = special.softmax(logits_train, axis=1)\n",
    "    prob_test = special.softmax(logits_test, axis=1)\n",
    "\n",
    "    print('Compute losses...')\n",
    "    cce = tf.keras.backend.categorical_crossentropy\n",
    "    constant = tf.keras.backend.constant\n",
    "\n",
    "    loss_train = cce(constant(y_train), constant(prob_train), from_logits=False).numpy()\n",
    "    loss_test = cce(constant(y_test), constant(prob_test), from_logits=False).numpy()\n",
    "    \n",
    "    labels_train = np.argmax(y_train, axis=1)\n",
    "    labels_test = np.argmax(y_test, axis=1)\n",
    "\n",
    "    input = AttackInputData(\n",
    "      logits_train = logits_train,\n",
    "      logits_test = logits_test,\n",
    "      loss_train = loss_train,\n",
    "      loss_test = loss_test,\n",
    "      labels_train = labels_train,\n",
    "      labels_test = labels_test\n",
    "    )\n",
    "\n",
    "    # Run several attacks for different data slices\n",
    "    attacks_result = mia.run_attacks(input,\n",
    "                                     SlicingSpec(\n",
    "                                         entire_dataset = True,\n",
    "                                         by_class = True,\n",
    "                                         by_classification_correctness = True\n",
    "                                     ),\n",
    "                                     attack_types = [\n",
    "                                         AttackType.THRESHOLD_ATTACK,\n",
    "                                         AttackType.LOGISTIC_REGRESSION,\n",
    "                                         AttackType.MULTI_LAYERED_PERCEPTRON,\n",
    "                                         AttackType.RANDOM_FOREST, \n",
    "                                         AttackType.K_NEAREST_NEIGHBORS,\n",
    "                                         AttackType.THRESHOLD_ENTROPY_ATTACK\n",
    "                                     ])\n",
    "\n",
    "    # Plot the ROC curve of the best classifier\n",
    "    fig = plotting.plot_roc_curve(attacks_result.get_result_with_max_auc().roc_curve)\n",
    "\n",
    "    # Print a user-friendly summary of the attacks\n",
    "    print(attacks_result.summary(by_slices = True))\n",
    "    return attacks_result.get_result_with_max_auc().get_auc(), attacks_result.get_result_with_max_attacker_advantage().get_attacker_advantage()"
   ]
  },
  {
   "cell_type": "code",
   "execution_count": 34,
   "id": "3a8503d8",
   "metadata": {},
   "outputs": [
    {
     "name": "stdout",
     "output_type": "stream",
     "text": [
      "Predict on train...\n"
     ]
    },
    {
     "name": "stderr",
     "output_type": "stream",
     "text": [
      "100%|██████████████████████████████████████████████████████████████████████████████| 1084/1084 [05:04<00:00,  3.56it/s]\n"
     ]
    },
    {
     "name": "stdout",
     "output_type": "stream",
     "text": [
      "Predict on test...\n"
     ]
    },
    {
     "name": "stderr",
     "output_type": "stream",
     "text": [
      "100%|██████████████████████████████████████████████████████████████████████████████████| 10/10 [00:03<00:00,  2.94it/s]\n"
     ]
    },
    {
     "name": "stdout",
     "output_type": "stream",
     "text": [
      "Apply softmax to get probabilities from logits...\n",
      "Compute losses...\n"
     ]
    },
    {
     "name": "stderr",
     "output_type": "stream",
     "text": [
      "C:\\Users\\Usuario\\anaconda3\\envs\\tf-gpu\\lib\\site-packages\\sklearn\\neural_network\\_multilayer_perceptron.py:614: ConvergenceWarning: Stochastic Optimizer: Maximum iterations (200) reached and the optimization hasn't converged yet.\n",
      "  warnings.warn(\n",
      "C:\\Users\\Usuario\\anaconda3\\envs\\tf-gpu\\lib\\site-packages\\sklearn\\neural_network\\_multilayer_perceptron.py:614: ConvergenceWarning: Stochastic Optimizer: Maximum iterations (200) reached and the optimization hasn't converged yet.\n",
      "  warnings.warn(\n",
      "C:\\Users\\Usuario\\anaconda3\\envs\\tf-gpu\\lib\\site-packages\\sklearn\\neural_network\\_multilayer_perceptron.py:614: ConvergenceWarning: Stochastic Optimizer: Maximum iterations (200) reached and the optimization hasn't converged yet.\n",
      "  warnings.warn(\n",
      "C:\\Users\\Usuario\\anaconda3\\envs\\tf-gpu\\lib\\site-packages\\sklearn\\neural_network\\_multilayer_perceptron.py:614: ConvergenceWarning: Stochastic Optimizer: Maximum iterations (200) reached and the optimization hasn't converged yet.\n",
      "  warnings.warn(\n",
      "C:\\Users\\Usuario\\anaconda3\\envs\\tf-gpu\\lib\\site-packages\\sklearn\\neural_network\\_multilayer_perceptron.py:614: ConvergenceWarning: Stochastic Optimizer: Maximum iterations (200) reached and the optimization hasn't converged yet.\n",
      "  warnings.warn(\n",
      "C:\\Users\\Usuario\\anaconda3\\envs\\tf-gpu\\lib\\site-packages\\sklearn\\neural_network\\_multilayer_perceptron.py:614: ConvergenceWarning: Stochastic Optimizer: Maximum iterations (200) reached and the optimization hasn't converged yet.\n",
      "  warnings.warn(\n"
     ]
    },
    {
     "name": "stdout",
     "output_type": "stream",
     "text": [
      "Suspiciously low AUC detected: %.2f. There might be a bug in the classifier\n",
      "Suspiciously low AUC detected: %.2f. There might be a bug in the classifier\n",
      "Suspiciously low AUC detected: %.2f. There might be a bug in the classifier\n",
      "Best-performing attacks over all slices\n",
      "  RANDOM_FOREST (with 250 training and 250 test examples) achieved an AUC of 0.78 on slice CLASS=1\n",
      "  MULTI_LAYERED_PERCEPTRON (with 250 training and 250 test examples) achieved an advantage of 0.50 on slice CLASS=0\n",
      "\n",
      "Best-performing attacks over slice: \"Entire dataset\"\n",
      "  RANDOM_FOREST (with 1000 training and 1000 test examples) achieved an AUC of 0.74\n",
      "  RANDOM_FOREST (with 1000 training and 1000 test examples) achieved an advantage of 0.40\n",
      "\n",
      "Best-performing attacks over slice: \"CLASS=0\"\n",
      "  MULTI_LAYERED_PERCEPTRON (with 250 training and 250 test examples) achieved an AUC of 0.76\n",
      "  MULTI_LAYERED_PERCEPTRON (with 250 training and 250 test examples) achieved an advantage of 0.50\n",
      "\n",
      "Best-performing attacks over slice: \"CLASS=1\"\n",
      "  RANDOM_FOREST (with 250 training and 250 test examples) achieved an AUC of 0.78\n",
      "  RANDOM_FOREST (with 250 training and 250 test examples) achieved an advantage of 0.47\n",
      "\n",
      "Best-performing attacks over slice: \"CLASS=2\"\n",
      "  RANDOM_FOREST (with 250 training and 250 test examples) achieved an AUC of 0.69\n",
      "  RANDOM_FOREST (with 250 training and 250 test examples) achieved an advantage of 0.34\n",
      "\n",
      "Best-performing attacks over slice: \"CLASS=3\"\n",
      "  MULTI_LAYERED_PERCEPTRON (with 250 training and 250 test examples) achieved an AUC of 0.64\n",
      "  MULTI_LAYERED_PERCEPTRON (with 250 training and 250 test examples) achieved an advantage of 0.26\n",
      "\n",
      "Best-performing attacks over slice: \"CORRECTLY_CLASSIFIED=True\"\n",
      "  MULTI_LAYERED_PERCEPTRON (with 913 training and 913 test examples) achieved an AUC of 0.73\n",
      "  MULTI_LAYERED_PERCEPTRON (with 913 training and 913 test examples) achieved an advantage of 0.37\n",
      "\n",
      "Best-performing attacks over slice: \"CORRECTLY_CLASSIFIED=False\"\n",
      "  K_NEAREST_NEIGHBORS (with 87 training and 87 test examples) achieved an AUC of 0.64\n",
      "  RANDOM_FOREST (with 87 training and 87 test examples) achieved an advantage of 0.27\n",
      "Suspiciously low AUC detected: %.2f. There might be a bug in the classifier\n"
     ]
    },
    {
     "data": {
      "image/png": "[encoded data removed]",
      "text/plain": [
       "<Figure size 432x288 with 1 Axes>"
      ]
     },
     "metadata": {
      "needs_background": "light"
     },
     "output_type": "display_data"
    }
   ],
   "source": [
    "auc, adv = membership_inference_attack(classifier, train_ds, test_ds)"
   ]
  },
  {
   "cell_type": "code",
   "execution_count": null,
   "id": "d3b9418d",
   "metadata": {},
   "outputs": [],
   "source": []
  }
 ],
 "metadata": {
  "kernelspec": {
   "display_name": "Python 3",
   "language": "python",
   "name": "python3"
  },
  "language_info": {
   "codemirror_mode": {
    "name": "ipython",
    "version": 3
   },
   "file_extension": ".py",
   "mimetype": "text/x-python",
   "name": "python",
   "nbconvert_exporter": "python",
   "pygments_lexer": "ipython3",
   "version": "3.8.10"
  }
 },
 "nbformat": 4,
 "nbformat_minor": 5
}
