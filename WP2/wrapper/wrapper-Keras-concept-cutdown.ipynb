{
 "cells": [
  {
   "cell_type": "code",
   "execution_count": 1,
   "metadata": {},
   "outputs": [],
   "source": [
    "import sys\n",
    "import os\n",
    "\n",
    "ROOT_DIR = os.path.dirname(os.path.dirname(os.path.abspath(\"\")))\n",
    "sys.path.append(ROOT_DIR)"
   ]
  },
  {
   "cell_type": "code",
   "execution_count": 2,
   "metadata": {},
   "outputs": [
    {
     "name": "stderr",
     "output_type": "stream",
     "text": [
      "2022-05-30 17:15:18.962695: W tensorflow/stream_executor/platform/default/dso_loader.cc:64] Could not load dynamic library 'libcudart.so.11.0'; dlerror: libcudart.so.11.0: cannot open shared object file: No such file or directory\n",
      "2022-05-30 17:15:18.962745: I tensorflow/stream_executor/cuda/cudart_stub.cc:29] Ignore above cudart dlerror if you do not have a GPU set up on your machine.\n"
     ]
    }
   ],
   "source": [
    "import numpy as np\n",
    "import matplotlib.pyplot as plt\n",
    "\n",
    "%matplotlib inline\n",
    "\n",
    "# Scikit-learn utils\n",
    "from sklearn.model_selection import train_test_split\n",
    "from sklearn.datasets import make_classification, make_moons\n",
    "from sklearn.metrics import ConfusionMatrixDisplay\n",
    "from sklearn.metrics import confusion_matrix, classification_report, roc_curve, auc\n",
    "\n",
    "# Tensorflow imports\n",
    "import tensorflow as tf\n",
    "from tensorflow.keras.models import Model\n",
    "from tensorflow.keras.layers import Input, Dense, Dropout\n",
    "\n",
    "# Classifiers for attack models\n",
    "from sklearn.linear_model import LogisticRegression\n",
    "from sklearn.neural_network import MLPClassifier\n"
   ]
  },
  {
   "cell_type": "code",
   "execution_count": 3,
   "metadata": {},
   "outputs": [],
   "source": [
    "#import t=privachy version \n",
    "import tensorflow_privacy\n",
    "\n",
    "from tensorflow_privacy.privacy.analysis import compute_dp_sgd_privacy\n"
   ]
  },
  {
   "cell_type": "markdown",
   "metadata": {},
   "source": [
    "### Definition of the datasets\n",
    "1. We draw data points from a distribution.\n",
    "2. We split these data points into the target dataset and a shadow dataset drawn from the same distribution.\n",
    "3. We also draw a dataset from a different distribution.\n",
    "\n",
    "**NOTE**. ***I make datasets with few samples but with many features to force the target model to overfit.***\n",
    "\n",
    "\n",
    "***NOTE JIM: had to make batch_size 25 so DP optimizer would run with same hyperparams"
   ]
  },
  {
   "cell_type": "code",
   "execution_count": 4,
   "metadata": {},
   "outputs": [],
   "source": [
    "n_classes = 2\n",
    "\n",
    "# (X,y): Original distribution\n",
    "X, y = make_classification(n_samples=1000,\n",
    "                           n_classes=n_classes, \n",
    "                           n_features=300,\n",
    "                           n_informative=300,\n",
    "                           n_redundant=0,\n",
    "                           n_repeated=0,\n",
    "                           random_state=15\n",
    "                          )\n",
    "# One-hot encoding of the label\n",
    "y = np.eye(n_classes)[y]\n",
    "\n",
    "# (Xt, yt) is the target dataset, owned by the TRE and drawn from the (X,y) distribution\n",
    "# (Xs, ys) is a shadow dataset drawn from the (X,y) distribution\n",
    "Xt, Xs, yt, ys = train_test_split(X, y, test_size=0.50, random_state=15)\n",
    "\n",
    "# (Xd, yd) is a shadow dataset, drawn from a different distribution (different seed)\n",
    "Xd, yd = make_classification(n_samples=1000,\n",
    "                           n_classes=n_classes, \n",
    "                           n_features=300,\n",
    "                           n_informative=300,\n",
    "                           n_redundant=0,\n",
    "                           n_repeated=0,\n",
    "                           random_state=42\n",
    "                          )\n",
    "yd = np.eye(n_classes)[yd]\n",
    "\n",
    "\n"
   ]
  },
  {
   "cell_type": "code",
   "execution_count": 5,
   "metadata": {},
   "outputs": [],
   "source": [
    "# Split into train (member) and test (non-member) datasets\n",
    "# Set shuffle to False so that Xt_membership is consistent with Xt, otherwise\n",
    "# we need to stack Xt_member and Xt_nonmember again to get a consistent Xt.\n",
    "Xt_member, Xt_nonmember, yt_member, yt_nonmember = train_test_split(Xt, yt, test_size=0.5, shuffle=False)\n",
    "\n",
    "# Set membership status for future tests\n",
    "Xt_membership = np.vstack(\n",
    "    (\n",
    "        np.ones((Xt_member.shape[0], 1), np.uint8),\n",
    "        np.zeros((Xt_nonmember.shape[0], 1), np.uint8)\n",
    "    )\n",
    ").flatten()"
   ]
  },
  {
   "cell_type": "markdown",
   "metadata": {},
   "source": [
    "### Define the target model architecture\n",
    "\n",
    "*Again, I'm using a rather big model (for the classification task) to favour overfitting.*"
   ]
  },
  {
   "cell_type": "code",
   "execution_count": 6,
   "metadata": {},
   "outputs": [
    {
     "name": "stderr",
     "output_type": "stream",
     "text": [
      "2022-05-30 17:15:23.365845: W tensorflow/stream_executor/platform/default/dso_loader.cc:64] Could not load dynamic library 'libcuda.so.1'; dlerror: libcuda.so.1: cannot open shared object file: No such file or directory\n",
      "2022-05-30 17:15:23.365929: W tensorflow/stream_executor/cuda/cuda_driver.cc:269] failed call to cuInit: UNKNOWN ERROR (303)\n",
      "2022-05-30 17:15:23.365964: I tensorflow/stream_executor/cuda/cuda_diagnostics.cc:156] kernel driver does not appear to be running on this host (ubuntu): /proc/driver/nvidia/version does not exist\n",
      "2022-05-30 17:15:23.366293: I tensorflow/core/platform/cpu_feature_guard.cc:151] This TensorFlow binary is optimized with oneAPI Deep Neural Network Library (oneDNN) to use the following CPU instructions in performance-critical operations:  AVX2 FMA\n",
      "To enable them in other operations, rebuild TensorFlow with the appropriate compiler flags.\n"
     ]
    }
   ],
   "source": [
    "# Define target model\n",
    "# Tensorflow model (MLP) (making it big to make it overfit)\n",
    "\n",
    "input_data = Input(shape = Xt_member[0].shape)\n",
    "x = Dense(128, activation='relu')(input_data)\n",
    "x = Dense(128, activation='relu')(x)\n",
    "x = Dense(64, activation='relu')(x)\n",
    "output = Dense(2, activation='softmax')(x)"
   ]
  },
  {
   "cell_type": "markdown",
   "metadata": {},
   "source": [
    "## Now try the SafeKerasModel version"
   ]
  },
  {
   "cell_type": "code",
   "execution_count": 7,
   "metadata": {
    "scrolled": true
   },
   "outputs": [],
   "source": [
    "import importlib\n",
    "import safemodel\n",
    "from safemodel.classifiers.safekeras import Safe_KerasModel\n",
    "\n",
    "\n",
    "\n",
    "importlib.reload(safemodel.safemodel)\n",
    "importlib.reload(safemodel.classifiers.safekeras)\n",
    "from safemodel.classifiers.safekeras import Safe_KerasModel\n",
    "\n"
   ]
  },
  {
   "cell_type": "code",
   "execution_count": 8,
   "metadata": {},
   "outputs": [
    {
     "name": "stdout",
     "output_type": "stream",
     "text": [
      "args is a <class 'tuple'> = ()  kwargs is a <class 'dict'>= {'inputs': <KerasTensor: shape=(None, 300) dtype=float32 (created by layer 'input_1')>, 'outputs': <KerasTensor: shape=(None, 2) dtype=float32 (created by layer 'dense_3')>, 'name': 'safekeras-test'}\n",
      "inputs is in kwargs.keys\n",
      "KerasTensor(type_spec=TensorSpec(shape=(None, 300), dtype=tf.float32, name='input_1'), name='input_1', description=\"created by layer 'input_1'\")\n",
      "WARNING: model parameters may present a disclosure risk:\n",
      "- parameter noise_multiplier = 0.5 identified as less than the recommended min value of 0.9.\n",
      "Changed parameter noise_multiplier = 0.9.\n",
      "\n"
     ]
    }
   ],
   "source": [
    "optimizer=None\n",
    "safeModel = Safe_KerasModel(inputs= input_data, outputs=output,name=\"safekeras-test\")\n"
   ]
  },
  {
   "cell_type": "code",
   "execution_count": 9,
   "metadata": {},
   "outputs": [],
   "source": [
    "#safeModel.__dict__\n"
   ]
  },
  {
   "cell_type": "code",
   "execution_count": 10,
   "metadata": {},
   "outputs": [
    {
     "name": "stdout",
     "output_type": "stream",
     "text": [
      "Changed parameter optimizer = 'DPKerasSGDOptimizer'\n",
      "DP optimizer used = False\n",
      "optimizer has been changed but fit() has not been rerun.\n"
     ]
    }
   ],
   "source": [
    "loss = tf.keras.losses.CategoricalCrossentropy(\n",
    "    from_logits=False, reduction=tf.losses.Reduction.NONE)\n",
    "\n",
    "\n",
    "safeModel.compile(loss=loss)#optimizer='adam', loss='categorical_crossentropy', metrics=['accuracy'])\n",
    "\n",
    "\n"
   ]
  },
  {
   "cell_type": "code",
   "execution_count": 11,
   "metadata": {
    "scrolled": true
   },
   "outputs": [
    {
     "name": "stdout",
     "output_type": "stream",
     "text": [
      "optimiser is type <class 'tensorflow_privacy.privacy.optimizers.dp_optimizer_keras.make_keras_optimizer_class.<locals>.DPOptimizerClass'>\n",
      " It is True that the model will be DP because optimizer does  contain key _was_dp_gradients_called so should be DP.\n"
     ]
    }
   ],
   "source": [
    "theType= type(safeModel.optimizer)\n",
    "print(f'optimiser is type {theType}')\n",
    "\n",
    "dpused,reason = safeModel.check_optimizer_is_DP(safeModel.optimizer)\n",
    "print(f' It is {dpused} that the model will be DP because {reason}')"
   ]
  },
  {
   "cell_type": "code",
   "execution_count": 12,
   "metadata": {},
   "outputs": [
    {
     "name": "stdout",
     "output_type": "stream",
     "text": [
      "(250, 300)\n",
      "DP-SGD with sampling rate = 10% and noise_multiplier = 0.9 iterated over 200 steps satisfies differential privacy with eps = 13.5 and delta = 1e-05.\n",
      "The optimal RDP order is 2.5.\n",
      "Current epsilon is 13.508764316908554\n",
      "The requirements for DP are not met, current epsilon is: 13.508764316908554. To attain true DP the following parameters can be changed:  Num Samples = 250, batch_size = 25, epochs = 20\n",
      "This will not result in a Differentially Private model do you want to continue [Y/N]y\n",
      "Continuing\n",
      "Epoch 1/20\n",
      "10/10 [==============================] - 5s 96ms/step - loss: 2.3526 - accuracy: 0.5160 - val_loss: 2.0045 - val_accuracy: 0.5320\n",
      "Epoch 2/20\n",
      "10/10 [==============================] - 1s 54ms/step - loss: 1.7624 - accuracy: 0.5640 - val_loss: 2.0688 - val_accuracy: 0.5120\n",
      "Epoch 3/20\n",
      "10/10 [==============================] - 1s 54ms/step - loss: 1.5561 - accuracy: 0.6200 - val_loss: 2.0513 - val_accuracy: 0.5920\n",
      "Epoch 4/20\n",
      "10/10 [==============================] - 0s 43ms/step - loss: 1.3483 - accuracy: 0.6400 - val_loss: 2.1457 - val_accuracy: 0.5720\n",
      "Epoch 5/20\n",
      "10/10 [==============================] - 0s 41ms/step - loss: 1.2013 - accuracy: 0.6880 - val_loss: 2.1371 - val_accuracy: 0.5680\n",
      "Epoch 6/20\n",
      "10/10 [==============================] - 0s 38ms/step - loss: 1.1618 - accuracy: 0.7040 - val_loss: 2.2196 - val_accuracy: 0.5840\n",
      "Epoch 7/20\n",
      "10/10 [==============================] - 0s 41ms/step - loss: 1.0759 - accuracy: 0.7440 - val_loss: 2.2374 - val_accuracy: 0.5760\n",
      "Epoch 8/20\n",
      "10/10 [==============================] - 0s 40ms/step - loss: 1.1066 - accuracy: 0.7720 - val_loss: 2.4575 - val_accuracy: 0.5840\n",
      "Epoch 9/20\n",
      "10/10 [==============================] - 0s 44ms/step - loss: 1.0183 - accuracy: 0.7640 - val_loss: 2.5825 - val_accuracy: 0.5640\n",
      "Epoch 10/20\n",
      "10/10 [==============================] - 0s 48ms/step - loss: 1.0183 - accuracy: 0.7960 - val_loss: 2.3936 - val_accuracy: 0.5960\n",
      "Epoch 11/20\n",
      "10/10 [==============================] - 0s 44ms/step - loss: 1.0344 - accuracy: 0.7800 - val_loss: 2.5207 - val_accuracy: 0.5680\n",
      "Epoch 12/20\n",
      "10/10 [==============================] - 0s 49ms/step - loss: 0.8299 - accuracy: 0.8120 - val_loss: 2.5265 - val_accuracy: 0.5760\n",
      "Epoch 13/20\n",
      "10/10 [==============================] - 0s 45ms/step - loss: 0.8708 - accuracy: 0.8280 - val_loss: 2.4419 - val_accuracy: 0.6360\n",
      "Epoch 14/20\n",
      "10/10 [==============================] - 1s 82ms/step - loss: 0.9289 - accuracy: 0.8040 - val_loss: 2.5002 - val_accuracy: 0.6040\n",
      "Epoch 15/20\n",
      "10/10 [==============================] - 1s 78ms/step - loss: 0.6912 - accuracy: 0.8280 - val_loss: 2.4843 - val_accuracy: 0.5760\n",
      "Epoch 16/20\n",
      "10/10 [==============================] - 1s 110ms/step - loss: 0.7095 - accuracy: 0.8640 - val_loss: 2.5396 - val_accuracy: 0.6040\n",
      "Epoch 17/20\n",
      "10/10 [==============================] - 0s 44ms/step - loss: 0.7767 - accuracy: 0.8520 - val_loss: 2.5031 - val_accuracy: 0.6360\n",
      "Epoch 18/20\n",
      "10/10 [==============================] - 1s 62ms/step - loss: 0.8643 - accuracy: 0.8280 - val_loss: 2.5220 - val_accuracy: 0.6200\n",
      "Epoch 19/20\n",
      "10/10 [==============================] - 1s 61ms/step - loss: 0.7967 - accuracy: 0.8400 - val_loss: 2.4851 - val_accuracy: 0.6400\n",
      "Epoch 20/20\n",
      "10/10 [==============================] - 1s 55ms/step - loss: 0.8111 - accuracy: 0.8280 - val_loss: 2.6613 - val_accuracy: 0.6320\n"
     ]
    },
    {
     "data": {
      "image/png": "[encoded data removed]",
      "text/plain": [
       "<Figure size 432x288 with 1 Axes>"
      ]
     },
     "metadata": {
      "needs_background": "light"
     },
     "output_type": "display_data"
    }
   ],
   "source": [
    "epochs = 20\n",
    "batch_size = 25\n",
    "\n",
    "r_DP = safeModel.fit(Xt_member, \n",
    "              yt_member, \n",
    "              validation_data=(Xt_nonmember, yt_nonmember),\n",
    "              epochs=epochs, \n",
    "              batch_size=batch_size\n",
    ")  \n",
    "\n",
    "\n",
    "plt.plot(r_DP.history['accuracy'], label='accuracy')\n",
    "plt.plot(r_DP.history['val_accuracy'], label='validation accuracy')\n",
    "plt.legend()\n",
    "plt.show() \n"
   ]
  },
  {
   "cell_type": "code",
   "execution_count": 13,
   "metadata": {},
   "outputs": [
    {
     "name": "stdout",
     "output_type": "stream",
     "text": [
      "optimiser is type <class 'tensorflow_privacy.privacy.optimizers.dp_optimizer_keras.make_keras_optimizer_class.<locals>.DPOptimizerClass'>\n",
      " It is True that the model will be DP because  value of optimizer._was_dp_gradients_called is True so DP variant of optimizer has been run\n"
     ]
    }
   ],
   "source": [
    "theType= type(safeModel.optimizer)\n",
    "print(f'optimiser is type {theType}')\n",
    "\n",
    "dpused,reason = safeModel.check_DP_used(safeModel.optimizer)\n",
    "print(f' It is {dpused} that the model will be DP because {reason}')"
   ]
  },
  {
   "cell_type": "markdown",
   "metadata": {},
   "source": [
    "## compute privacy"
   ]
  },
  {
   "cell_type": "code",
   "execution_count": 14,
   "metadata": {},
   "outputs": [
    {
     "name": "stdout",
     "output_type": "stream",
     "text": [
      "dataset has 500 entries so batch size is 5.0%\n",
      "DP-SGD with sampling rate = 5% and noise_multiplier = 0.9 iterated over 500 steps satisfies differential privacy with eps = 10.3 and delta = 1e-05.\n",
      "The optimal RDP order is 3.0.\n",
      "with these settings privacy = (10.318505004741784, 3.0)\n"
     ]
    }
   ],
   "source": [
    "print(f'dataset has {Xt.shape[0]} entries so batch size is {100*safeModel.batch_size/Xt.shape[0]}%')\n",
    "privacy = compute_dp_sgd_privacy.compute_dp_sgd_privacy(n=Xt.shape[0],\n",
    "                                              batch_size=safeModel.batch_size,\n",
    "                                              noise_multiplier=safeModel.noise_multiplier,\n",
    "                                              epochs=25,#epochs,\n",
    "                                              delta=1e-5)\n",
    "print(f'with these settings privacy = {privacy}')"
   ]
  },
  {
   "cell_type": "code",
   "execution_count": 15,
   "metadata": {},
   "outputs": [
    {
     "name": "stderr",
     "output_type": "stream",
     "text": [
      "2022-05-30 17:15:43.332669: W tensorflow/python/util/util.cc:368] Sets are not currently considered sequences, but this may change in the future, so consider avoiding using them.\n"
     ]
    },
    {
     "name": "stdout",
     "output_type": "stream",
     "text": [
      "INFO:tensorflow:Assets written to: safekeras.sav/assets\n"
     ]
    }
   ],
   "source": [
    "safeModel.save('safekeras.sav')"
   ]
  },
  {
   "cell_type": "code",
   "execution_count": 16,
   "metadata": {},
   "outputs": [
    {
     "name": "stdout",
     "output_type": "stream",
     "text": [
      "Model parameters are within recommended ranges.\n",
      "\n"
     ]
    },
    {
     "data": {
      "text/plain": [
       "('Model parameters are within recommended ranges.\\n', False)"
      ]
     },
     "execution_count": 16,
     "metadata": {},
     "output_type": "execute_result"
    }
   ],
   "source": [
    "safeModel.preliminary_check()"
   ]
  },
  {
   "cell_type": "code",
   "execution_count": 17,
   "metadata": {},
   "outputs": [
    {
     "name": "stdout",
     "output_type": "stream",
     "text": [
      "thing associated with key _self_setattr_tracking has type <class 'bool'>\n",
      "thing associated with key _obj_reference_counts_dict has type <class 'keras.utils.object_identity.ObjectIdentityDictionary'>\n",
      "thing associated with key inputs has type <class 'list'>\n",
      "thing associated with key outputs has type <class 'list'>\n",
      "thing associated with key l2_norm_clip has type <class 'float'>\n",
      "thing associated with key min_epsilon has type <class 'int'>\n",
      "thing associated with key delta has type <class 'float'>\n",
      "thing associated with key batch_size has type <class 'int'>\n",
      "thing associated with key learning_rate has type <class 'float'>\n",
      "thing associated with key _is_model_for_instrumentation has type <class 'bool'>\n",
      "thing associated with key _instrumented_keras_api has type <class 'bool'>\n",
      "thing associated with key _instrumented_keras_layer_class has type <class 'bool'>\n",
      "thing associated with key _instrumented_keras_model_class has type <class 'bool'>\n",
      "thing associated with key _trainable has type <class 'bool'>\n",
      "thing associated with key _stateful has type <class 'bool'>\n",
      "thing associated with key built has type <class 'bool'>\n",
      "thing associated with key _input_spec has type <class 'NoneType'>\n",
      "thing associated with key _build_input_shape has type <class 'tensorflow.python.framework.tensor_shape.TensorShape'>\n",
      "thing associated with key _saved_model_inputs_spec has type <class 'tensorflow.python.framework.tensor_spec.TensorSpec'>\n",
      "thing associated with key _saved_model_arg_spec has type <class 'tuple'>\n",
      "thing associated with key _supports_masking has type <class 'bool'>\n",
      "thing associated with key _name has type <class 'str'>\n",
      "thing associated with key _activity_regularizer has type <class 'NoneType'>\n",
      "thing associated with key _trainable_weights has type <class 'list'>\n",
      "thing associated with key _non_trainable_weights has type <class 'list'>\n",
      "thing associated with key _updates has type <class 'list'>\n",
      "thing associated with key _thread_local has type <class '_thread._local'>\n",
      "thing associated with key _callable_losses has type <class 'list'>\n",
      "thing associated with key _losses has type <class 'list'>\n",
      "thing associated with key _metrics has type <class 'list'>\n",
      "thing associated with key _metrics_lock has type <class '_thread.lock'>\n",
      "thing associated with key _dtype_policy has type <class 'keras.mixed_precision.policy.Policy'>\n",
      "thing associated with key _compute_dtype_object has type <class 'tensorflow.python.framework.dtypes.DType'>\n",
      "thing associated with key _autocast has type <class 'bool'>\n",
      "thing associated with key _self_tracked_trackables has type <class 'list'>\n",
      "thing associated with key _inbound_nodes_value has type <class 'list'>\n",
      "thing associated with key _outbound_nodes_value has type <class 'list'>\n",
      "thing associated with key _expects_training_arg has type <class 'bool'>\n",
      "thing associated with key _default_training_arg has type <class 'NoneType'>\n",
      "thing associated with key _expects_mask_arg has type <class 'bool'>\n",
      "thing associated with key _dynamic has type <class 'bool'>\n",
      "thing associated with key _initial_weights has type <class 'NoneType'>\n",
      "thing associated with key _auto_track_sub_layers has type <class 'bool'>\n",
      "thing associated with key _preserve_input_structure_in_config has type <class 'bool'>\n",
      "thing associated with key _outer_name_scope has type <class 'str'>\n",
      "thing associated with key _is_graph_network has type <class 'bool'>\n",
      "thing associated with key input_names has type <class 'list'>\n",
      "thing associated with key output_names has type <class 'list'>\n",
      "thing associated with key _compute_output_and_mask_jointly has type <class 'bool'>\n",
      "thing associated with key _distribution_strategy has type <class 'NoneType'>\n",
      "thing associated with key _cluster_coordinator has type <class 'NoneType'>\n",
      "thing associated with key _compiled_trainable_state has type <class 'weakref.WeakKeyDictionary'>\n",
      "thing associated with key _training_state has type <class 'NoneType'>\n",
      "thing associated with key _trackable_saver has type <class 'tensorflow.python.training.tracking.util.TrackableSaver'>\n",
      "thing associated with key _steps_per_execution has type <class 'tensorflow.python.ops.resource_variable_ops.ResourceVariable'>\n",
      "thing associated with key _train_counter has type <class 'tensorflow.python.ops.resource_variable_ops.ResourceVariable'>\n",
      "thing associated with key _test_counter has type <class 'tensorflow.python.ops.resource_variable_ops.ResourceVariable'>\n",
      "thing associated with key _predict_counter has type <class 'tensorflow.python.ops.resource_variable_ops.ResourceVariable'>\n",
      "thing associated with key _base_model_initialized has type <class 'bool'>\n",
      "thing associated with key _nested_inputs has type <class 'keras.engine.keras_tensor.KerasTensor'>\n",
      "thing associated with key _nested_outputs has type <class 'keras.engine.keras_tensor.KerasTensor'>\n",
      "thing associated with key _enable_dict_to_input_mapping has type <class 'bool'>\n",
      "thing associated with key _input_layers has type <class 'list'>\n",
      "thing associated with key _output_layers has type <class 'list'>\n",
      "thing associated with key _input_coordinates has type <class 'list'>\n",
      "thing associated with key _output_coordinates has type <class 'list'>\n",
      "thing associated with key _output_mask_cache has type <class 'dict'>\n",
      "thing associated with key _output_tensor_cache has type <class 'dict'>\n",
      "thing associated with key _output_shape_cache has type <class 'dict'>\n",
      "thing associated with key _network_nodes has type <class 'set'>\n",
      "thing associated with key _nodes_by_depth has type <class 'collections.defaultdict'>\n",
      "thing associated with key _layer_call_argspecs has type <class 'dict'>\n",
      "thing associated with key _feed_input_names has type <class 'list'>\n",
      "thing associated with key _feed_inputs has type <class 'list'>\n",
      "thing associated with key _feed_input_shapes has type <class 'list'>\n",
      "thing associated with key _tensor_usage_count has type <class 'collections.Counter'>\n",
      "thing associated with key model has type <class 'NoneType'>\n",
      "thing associated with key saved_model has type <class 'NoneType'>\n",
      "thing associated with key model_save_file has type <class 'str'>\n",
      "thing associated with key _self_unconditional_checkpoint_dependencies has type <class 'list'>\n",
      "thing associated with key _self_unconditional_dependency_names has type <class 'dict'>\n",
      "thing associated with key _self_unconditional_deferred_dependencies has type <class 'dict'>\n",
      "thing associated with key _self_update_uid has type <class 'int'>\n",
      "thing associated with key _self_name_based_restores has type <class 'set'>\n",
      "thing associated with key _self_saveable_object_factories has type <class 'dict'>\n",
      "thing associated with key examine_seperately_items has type <class 'tensorflow.python.training.tracking.data_structures.ListWrapper'>\n",
      "thing associated with key filename has type <class 'str'>\n",
      "thing associated with key researcher has type <class 'str'>\n",
      "thing associated with key ignore_items has type <class 'tensorflow.python.training.tracking.data_structures.ListWrapper'>\n",
      "thing associated with key model_type has type <class 'str'>\n",
      "thing associated with key noise_multiplier has type <class 'float'>\n",
      "thing associated with key num_microbatches has type <class 'NoneType'>\n",
      "thing associated with key _run_eagerly has type <class 'NoneType'>\n",
      "thing associated with key optimizer has type <class 'tensorflow_privacy.privacy.optimizers.dp_optimizer_keras.make_keras_optimizer_class.<locals>.DPOptimizerClass'>\n",
      "thing associated with key compiled_loss has type <class 'keras.engine.compile_utils.LossesContainer'>\n",
      "thing associated with key compiled_metrics has type <class 'keras.engine.compile_utils.MetricsContainer'>\n",
      "thing associated with key _is_compiled has type <class 'bool'>\n",
      "thing associated with key loss has type <class 'keras.losses.CategoricalCrossentropy'>\n",
      "thing associated with key _jit_compile has type <class 'NoneType'>\n",
      "thing associated with key num_samples has type <class 'int'>\n",
      "thing associated with key stop_training has type <class 'bool'>\n",
      "thing associated with key history has type <class 'keras.callbacks.History'>\n",
      "thing associated with key train_function has type <class 'tensorflow.python.eager.def_function.Function'>\n",
      "thing associated with key test_function has type <class 'tensorflow.python.eager.def_function.Function'>\n",
      "thing associated with key predict_function has type <class 'NoneType'>\n",
      "thing associated with key train_tf_function has type <class 'tensorflow.python.eager.def_function.Function'>\n"
     ]
    }
   ],
   "source": [
    "for key,value in safeModel.__dict__.items():\n",
    "     print (f'thing associated with key {key} has type {type(value)}')"
   ]
  },
  {
   "cell_type": "code",
   "execution_count": 18,
   "metadata": {},
   "outputs": [
    {
     "name": "stdout",
     "output_type": "stream",
     "text": [
      "===============================================================================================\n",
      "Tuples\n",
      "===============================================================================================\n",
      "thing associated with key _saved_model_arg_spec has type <class 'tuple'>\n",
      "===============================================================================================\n",
      "Bools\n",
      "===============================================================================================\n",
      "thing associated with key _self_setattr_tracking has type <class 'bool'>\n",
      "thing associated with key _is_model_for_instrumentation has type <class 'bool'>\n",
      "thing associated with key _instrumented_keras_api has type <class 'bool'>\n",
      "thing associated with key _instrumented_keras_layer_class has type <class 'bool'>\n",
      "thing associated with key _instrumented_keras_model_class has type <class 'bool'>\n",
      "thing associated with key _trainable has type <class 'bool'>\n",
      "thing associated with key _stateful has type <class 'bool'>\n",
      "thing associated with key built has type <class 'bool'>\n",
      "thing associated with key _supports_masking has type <class 'bool'>\n",
      "thing associated with key _autocast has type <class 'bool'>\n",
      "thing associated with key _expects_training_arg has type <class 'bool'>\n",
      "thing associated with key _expects_mask_arg has type <class 'bool'>\n",
      "thing associated with key _dynamic has type <class 'bool'>\n",
      "thing associated with key _auto_track_sub_layers has type <class 'bool'>\n",
      "thing associated with key _preserve_input_structure_in_config has type <class 'bool'>\n",
      "thing associated with key _is_graph_network has type <class 'bool'>\n",
      "thing associated with key _compute_output_and_mask_jointly has type <class 'bool'>\n",
      "thing associated with key _base_model_initialized has type <class 'bool'>\n",
      "thing associated with key _enable_dict_to_input_mapping has type <class 'bool'>\n",
      "thing associated with key _is_compiled has type <class 'bool'>\n",
      "thing associated with key stop_training has type <class 'bool'>\n",
      "===============================================================================================\n",
      "Lists\n",
      "===============================================================================================\n",
      "thing associated with key inputs has type <class 'list'>\n",
      "thing associated with key outputs has type <class 'list'>\n",
      "thing associated with key _trainable_weights has type <class 'list'>\n",
      "thing associated with key _non_trainable_weights has type <class 'list'>\n",
      "thing associated with key _updates has type <class 'list'>\n",
      "thing associated with key _callable_losses has type <class 'list'>\n",
      "thing associated with key _losses has type <class 'list'>\n",
      "thing associated with key _metrics has type <class 'list'>\n",
      "thing associated with key _self_tracked_trackables has type <class 'list'>\n",
      "thing associated with key _inbound_nodes_value has type <class 'list'>\n",
      "thing associated with key _outbound_nodes_value has type <class 'list'>\n",
      "thing associated with key input_names has type <class 'list'>\n",
      "thing associated with key output_names has type <class 'list'>\n",
      "thing associated with key _input_layers has type <class 'list'>\n",
      "thing associated with key _output_layers has type <class 'list'>\n",
      "thing associated with key _input_coordinates has type <class 'list'>\n",
      "thing associated with key _output_coordinates has type <class 'list'>\n",
      "thing associated with key _feed_input_names has type <class 'list'>\n",
      "thing associated with key _feed_inputs has type <class 'list'>\n",
      "thing associated with key _feed_input_shapes has type <class 'list'>\n",
      "thing associated with key _self_unconditional_checkpoint_dependencies has type <class 'list'>\n",
      "===============================================================================================\n",
      "Strings\n",
      "===============================================================================================\n",
      "thing associated with key _name has type <class 'str'>\n",
      "thing associated with key _outer_name_scope has type <class 'str'>\n",
      "thing associated with key model_save_file has type <class 'str'>\n",
      "thing associated with key filename has type <class 'str'>\n",
      "thing associated with key researcher has type <class 'str'>\n",
      "thing associated with key model_type has type <class 'str'>\n",
      "===============================================================================================\n",
      "Ints\n",
      "===============================================================================================\n",
      "thing associated with key min_epsilon has type <class 'int'>\n",
      "thing associated with key batch_size has type <class 'int'>\n",
      "thing associated with key _self_update_uid has type <class 'int'>\n",
      "thing associated with key num_samples has type <class 'int'>\n",
      "===============================================================================================\n",
      "Floats\n",
      "===============================================================================================\n",
      "thing associated with key l2_norm_clip has type <class 'float'>\n",
      "thing associated with key delta has type <class 'float'>\n",
      "thing associated with key learning_rate has type <class 'float'>\n",
      "thing associated with key noise_multiplier has type <class 'float'>\n",
      "===============================================================================================\n",
      "Dicts\n",
      "===============================================================================================\n",
      "thing associated with key _output_mask_cache has type <class 'dict'>\n",
      "thing associated with key _output_tensor_cache has type <class 'dict'>\n",
      "thing associated with key _output_shape_cache has type <class 'dict'>\n",
      "thing associated with key _layer_call_argspecs has type <class 'dict'>\n",
      "thing associated with key _self_unconditional_dependency_names has type <class 'dict'>\n",
      "thing associated with key _self_unconditional_deferred_dependencies has type <class 'dict'>\n",
      "thing associated with key _self_saveable_object_factories has type <class 'dict'>\n",
      "===============================================================================================\n",
      "Sets\n",
      "===============================================================================================\n",
      "thing associated with key _network_nodes has type <class 'set'>\n",
      "thing associated with key _self_name_based_restores has type <class 'set'>\n",
      "===============================================================================================\n",
      "Unusual Ones\n",
      "===============================================================================================\n",
      "thing associated with key _obj_reference_counts_dict has type <class 'keras.utils.object_identity.ObjectIdentityDictionary'>\n",
      "thing associated with key _input_spec has type <class 'NoneType'>\n",
      "thing associated with key _build_input_shape has type <class 'tensorflow.python.framework.tensor_shape.TensorShape'>\n",
      "thing associated with key _saved_model_inputs_spec has type <class 'tensorflow.python.framework.tensor_spec.TensorSpec'>\n",
      "thing associated with key _activity_regularizer has type <class 'NoneType'>\n",
      "thing associated with key _thread_local has type <class '_thread._local'>\n",
      "thing associated with key _metrics_lock has type <class '_thread.lock'>\n",
      "thing associated with key _dtype_policy has type <class 'keras.mixed_precision.policy.Policy'>\n",
      "thing associated with key _compute_dtype_object has type <class 'tensorflow.python.framework.dtypes.DType'>\n",
      "thing associated with key _default_training_arg has type <class 'NoneType'>\n",
      "thing associated with key _initial_weights has type <class 'NoneType'>\n",
      "thing associated with key _distribution_strategy has type <class 'NoneType'>\n",
      "thing associated with key _cluster_coordinator has type <class 'NoneType'>\n",
      "thing associated with key _compiled_trainable_state has type <class 'weakref.WeakKeyDictionary'>\n",
      "thing associated with key _training_state has type <class 'NoneType'>\n",
      "thing associated with key _trackable_saver has type <class 'tensorflow.python.training.tracking.util.TrackableSaver'>\n",
      "thing associated with key _steps_per_execution has type <class 'tensorflow.python.ops.resource_variable_ops.ResourceVariable'>\n",
      "thing associated with key _train_counter has type <class 'tensorflow.python.ops.resource_variable_ops.ResourceVariable'>\n",
      "thing associated with key _test_counter has type <class 'tensorflow.python.ops.resource_variable_ops.ResourceVariable'>\n",
      "thing associated with key _predict_counter has type <class 'tensorflow.python.ops.resource_variable_ops.ResourceVariable'>\n",
      "thing associated with key _nested_inputs has type <class 'keras.engine.keras_tensor.KerasTensor'>\n",
      "thing associated with key _nested_outputs has type <class 'keras.engine.keras_tensor.KerasTensor'>\n",
      "thing associated with key _nodes_by_depth has type <class 'collections.defaultdict'>\n",
      "thing associated with key _tensor_usage_count has type <class 'collections.Counter'>\n",
      "thing associated with key model has type <class 'NoneType'>\n",
      "thing associated with key saved_model has type <class 'NoneType'>\n",
      "thing associated with key examine_seperately_items has type <class 'tensorflow.python.training.tracking.data_structures.ListWrapper'>\n",
      "thing associated with key ignore_items has type <class 'tensorflow.python.training.tracking.data_structures.ListWrapper'>\n",
      "thing associated with key num_microbatches has type <class 'NoneType'>\n",
      "thing associated with key _run_eagerly has type <class 'NoneType'>\n",
      "thing associated with key optimizer has type <class 'tensorflow_privacy.privacy.optimizers.dp_optimizer_keras.make_keras_optimizer_class.<locals>.DPOptimizerClass'>\n",
      "thing associated with key compiled_loss has type <class 'keras.engine.compile_utils.LossesContainer'>\n",
      "thing associated with key compiled_metrics has type <class 'keras.engine.compile_utils.MetricsContainer'>\n",
      "thing associated with key loss has type <class 'keras.losses.CategoricalCrossentropy'>\n",
      "thing associated with key _jit_compile has type <class 'NoneType'>\n",
      "thing associated with key history has type <class 'keras.callbacks.History'>\n",
      "thing associated with key train_function has type <class 'tensorflow.python.eager.def_function.Function'>\n",
      "thing associated with key test_function has type <class 'tensorflow.python.eager.def_function.Function'>\n",
      "thing associated with key predict_function has type <class 'NoneType'>\n",
      "thing associated with key train_tf_function has type <class 'tensorflow.python.eager.def_function.Function'>\n"
     ]
    }
   ],
   "source": [
    "all_keys = []\n",
    "unusuals =[]\n",
    "tuples =[]\n",
    "deleted_keys = []\n",
    "\n",
    "print(\"===============================================================================================\")\n",
    "print(\"Tuples\")\n",
    "print(\"===============================================================================================\")\n",
    "for key,value in safeModel.__dict__.items():\n",
    "    if(type(value) == tuple):\n",
    "        print (f'thing associated with key {key} has type {type(value)}')\n",
    "        tuples.append(key)\n",
    "\n",
    "print(\"===============================================================================================\")\n",
    "print(\"Bools\")\n",
    "print(\"===============================================================================================\")\n",
    "for key,value in safeModel.__dict__.items():\n",
    "    if(type(value) == bool):\n",
    "        print (f'thing associated with key {key} has type {type(value)}')\n",
    "\n",
    "print(\"===============================================================================================\")\n",
    "print(\"Lists\")\n",
    "print(\"===============================================================================================\")        \n",
    "for key,value in safeModel.__dict__.items():\n",
    "    if(type(value) == list):\n",
    "        print (f'thing associated with key {key} has type {type(value)}')\n",
    "\n",
    "print(\"===============================================================================================\")\n",
    "print(\"Strings\")\n",
    "print(\"===============================================================================================\")\n",
    "for key,value in safeModel.__dict__.items():\n",
    "    if(type(value) == str):\n",
    "        print (f'thing associated with key {key} has type {type(value)}')\n",
    "\n",
    "        \n",
    "print(\"===============================================================================================\")\n",
    "print(\"Ints\")\n",
    "print(\"===============================================================================================\")\n",
    "for key,value in safeModel.__dict__.items():\n",
    "    if(type(value) == int):\n",
    "        print (f'thing associated with key {key} has type {type(value)}')\n",
    "\n",
    "print(\"===============================================================================================\")\n",
    "print(\"Floats\")\n",
    "print(\"===============================================================================================\")\n",
    "for key,value in safeModel.__dict__.items():\n",
    "    if(type(value) == float):\n",
    "        print (f'thing associated with key {key} has type {type(value)}')\n",
    "        \n",
    "print(\"===============================================================================================\")\n",
    "print(\"Dicts\")\n",
    "print(\"===============================================================================================\")\n",
    "for key,value in safeModel.__dict__.items():\n",
    "    if(type(value) == dict):\n",
    "        print (f'thing associated with key {key} has type {type(value)}')\n",
    "\n",
    "        \n",
    "print(\"===============================================================================================\")\n",
    "print(\"Sets\")\n",
    "print(\"===============================================================================================\")\n",
    "for key,value in safeModel.__dict__.items():\n",
    "    if(type(value) == set):\n",
    "        print (f'thing associated with key {key} has type {type(value)}')\n",
    "\n",
    "print(\"===============================================================================================\")\n",
    "print(\"Unusual Ones\")\n",
    "print(\"===============================================================================================\")\n",
    "\n",
    "        \n",
    "for key,value in safeModel.__dict__.items():\n",
    "    if((type(value) != int) and (type(value) != str) and \n",
    "       (type(value) != list) and (type(value) != bool) and \n",
    "       (type(value) != tuple) and (type(value) != float) and\n",
    "       (type(value) != dict) and (type(value) != set)):\n",
    "        print (f'thing associated with key {key} has type {type(value)}')\n",
    "        unusuals.append(key)"
   ]
  },
  {
   "cell_type": "code",
   "execution_count": 19,
   "metadata": {},
   "outputs": [
    {
     "name": "stdout",
     "output_type": "stream",
     "text": [
      "INFO:tensorflow:Assets written to: my_model/assets\n",
      "INFO:tensorflow:Assets written to: safe.sav/assets\n"
     ]
    },
    {
     "name": "stderr",
     "output_type": "stream",
     "text": [
      "_obj_reference_counts_dict cannot be copied\n",
      "...<class 'TypeError'> error; cannot pickle '_thread.RLock' object\n",
      "_thread_local cannot be copied\n",
      "...<class 'TypeError'> error; cannot pickle '_thread._local' object\n",
      "_metrics_lock cannot be copied\n",
      "...<class 'TypeError'> error; cannot pickle '_thread.lock' object\n"
     ]
    },
    {
     "name": "stdout",
     "output_type": "stream",
     "text": [
      "INFO:tensorflow:Assets written to: ram://0c6153c3-078a-4d25-81ca-5f825c8d2649/assets\n"
     ]
    },
    {
     "name": "stderr",
     "output_type": "stream",
     "text": [
      "_trackable_saver cannot be copied\n",
      "...<class 'ValueError'> error; Unknown optimizer: DPOptimizerClass. Please ensure this object is passed to the `custom_objects` argument. See https://www.tensorflow.org/guide/keras/save_and_serialize#registering_the_custom_object for details.\n",
      "_self_unconditional_checkpoint_dependencies cannot be copied\n",
      "...<class 'TypeError'> error; cannot pickle '_thread.RLock' object\n",
      "_self_unconditional_dependency_names cannot be copied\n",
      "...<class 'TypeError'> error; cannot pickle '_thread.RLock' object\n",
      "compiled_loss cannot be copied\n",
      "...<class 'TypeError'> error; cannot pickle '_thread.RLock' object\n",
      "compiled_metrics cannot be copied\n",
      "...<class 'TypeError'> error; cannot pickle '_thread.RLock' object\n"
     ]
    },
    {
     "name": "stdout",
     "output_type": "stream",
     "text": [
      "INFO:tensorflow:Assets written to: ram://3a11efec-41e0-40e7-ac94-f56dd82ddda0/assets\n"
     ]
    },
    {
     "name": "stderr",
     "output_type": "stream",
     "text": [
      "history cannot be copied\n",
      "...<class 'ValueError'> error; Unknown optimizer: DPOptimizerClass. Please ensure this object is passed to the `custom_objects` argument. See https://www.tensorflow.org/guide/keras/save_and_serialize#registering_the_custom_object for details.\n",
      "train_function cannot be copied\n",
      "...<class 'TypeError'> error; cannot pickle '_thread.RLock' object\n",
      "test_function cannot be copied\n",
      "...<class 'TypeError'> error; cannot pickle '_thread.RLock' object\n",
      "train_tf_function cannot be copied\n",
      "...<class 'TypeError'> error; cannot pickle '_thread.RLock' object\n"
     ]
    },
    {
     "name": "stdout",
     "output_type": "stream",
     "text": [
      "<tensorflow_privacy.privacy.optimizers.dp_optimizer_keras.make_keras_optimizer_class.<locals>.DPOptimizerClass object at 0x7fd59c8108e0>\n",
      "<tensorflow_privacy.privacy.optimizers.dp_optimizer_keras.make_keras_optimizer_class.<locals>.DPOptimizerClass object at 0x7fd59c8108e0>\n",
      "DP-SGD with sampling rate = 10% and noise_multiplier = 0.9 iterated over 200 steps satisfies differential privacy with eps = 13.5 and delta = 1e-05.\n",
      "The optimal RDP order is 2.5.\n"
     ]
    }
   ],
   "source": [
    "#safeModel.request_release('safekeras.pkl') # TypeError: cannot pickle '_thread.RLock' object\n",
    "\n",
    "#safeModel.request_release('safekeras.sav') # TypeError: cannot pickle '_thread.RLock' object\n",
    "\n",
    "#safeModel.request_release('safekeras.tf')\n",
    "\n",
    "\n",
    "\n",
    "\n",
    "safeModel.save('my_model')\n",
    "safeModel.save_weights('weights.h5')\n",
    "\n",
    "safeModel.request_release('safe.sav')"
   ]
  },
  {
   "cell_type": "code",
   "execution_count": 20,
   "metadata": {},
   "outputs": [
    {
     "name": "stderr",
     "output_type": "stream",
     "text": [
      "_obj_reference_counts_dict cannot be copied\n",
      "...<class 'TypeError'> error; cannot pickle '_thread.RLock' object\n",
      "_thread_local cannot be copied\n",
      "...<class 'TypeError'> error; cannot pickle '_thread._local' object\n",
      "_metrics_lock cannot be copied\n",
      "...<class 'TypeError'> error; cannot pickle '_thread.lock' object\n"
     ]
    },
    {
     "name": "stdout",
     "output_type": "stream",
     "text": [
      "INFO:tensorflow:Assets written to: ram://f50ef077-fb09-4e11-8068-d22dacadebaa/assets\n"
     ]
    },
    {
     "name": "stderr",
     "output_type": "stream",
     "text": [
      "_trackable_saver cannot be copied\n",
      "...<class 'ValueError'> error; Unknown optimizer: DPOptimizerClass. Please ensure this object is passed to the `custom_objects` argument. See https://www.tensorflow.org/guide/keras/save_and_serialize#registering_the_custom_object for details.\n",
      "_self_unconditional_checkpoint_dependencies cannot be copied\n",
      "...<class 'TypeError'> error; cannot pickle '_thread.RLock' object\n",
      "_self_unconditional_dependency_names cannot be copied\n",
      "...<class 'TypeError'> error; cannot pickle '_thread.RLock' object\n",
      "compiled_loss cannot be copied\n",
      "...<class 'TypeError'> error; cannot pickle '_thread.RLock' object\n",
      "compiled_metrics cannot be copied\n",
      "...<class 'TypeError'> error; cannot pickle '_thread.RLock' object\n"
     ]
    },
    {
     "name": "stdout",
     "output_type": "stream",
     "text": [
      "INFO:tensorflow:Assets written to: ram://22960dd5-a22d-4043-90f3-c72e32cb4cd7/assets\n"
     ]
    },
    {
     "name": "stderr",
     "output_type": "stream",
     "text": [
      "history cannot be copied\n",
      "...<class 'ValueError'> error; Unknown optimizer: DPOptimizerClass. Please ensure this object is passed to the `custom_objects` argument. See https://www.tensorflow.org/guide/keras/save_and_serialize#registering_the_custom_object for details.\n",
      "train_function cannot be copied\n",
      "...<class 'TypeError'> error; cannot pickle '_thread.RLock' object\n",
      "test_function cannot be copied\n",
      "...<class 'TypeError'> error; cannot pickle '_thread.RLock' object\n",
      "train_tf_function cannot be copied\n",
      "...<class 'TypeError'> error; cannot pickle '_thread.RLock' object\n"
     ]
    },
    {
     "name": "stdout",
     "output_type": "stream",
     "text": [
      "<tensorflow_privacy.privacy.optimizers.dp_optimizer_keras.make_keras_optimizer_class.<locals>.DPOptimizerClass object at 0x7fd59c8108e0>\n",
      "<tensorflow_privacy.privacy.optimizers.dp_optimizer_keras.make_keras_optimizer_class.<locals>.DPOptimizerClass object at 0x7fd59c8108e0>\n",
      "DP-SGD with sampling rate = 10% and noise_multiplier = 0.9 iterated over 200 steps satisfies differential privacy with eps = 13.5 and delta = 1e-05.\n",
      "The optimal RDP order is 2.5.\n"
     ]
    }
   ],
   "source": [
    "\n",
    "\n",
    "safeModel.request_release('safekeras.h5')"
   ]
  },
  {
   "cell_type": "code",
   "execution_count": 21,
   "metadata": {},
   "outputs": [
    {
     "name": "stdout",
     "output_type": "stream",
     "text": [
      "args is a <class 'tuple'> = ()  kwargs is a <class 'dict'>= {'inputs': <KerasTensor: shape=(None, 300) dtype=float32 (created by layer 'input_1')>, 'outputs': <KerasTensor: shape=(None, 2) dtype=float32 (created by layer 'dense_3')>, 'name': 'safekeras-test'}\n",
      "inputs is in kwargs.keys\n",
      "KerasTensor(type_spec=TensorSpec(shape=(None, 300), dtype=tf.float32, name='input_1'), name='input_1', description=\"created by layer 'input_1'\")\n",
      "WARNING: model parameters may present a disclosure risk:\n",
      "- parameter noise_multiplier = 0.5 identified as less than the recommended min value of 0.9.\n",
      "Changed parameter noise_multiplier = 0.9.\n",
      "\n",
      "Changed parameter optimizer = 'DPKerasSGDOptimizer'\n",
      "DP optimizer used = False\n",
      "optimizer has been changed but fit() has not been rerun.\n",
      "(250, 300)\n",
      "DP-SGD with sampling rate = 10% and noise_multiplier = 0.9 iterated over 200 steps satisfies differential privacy with eps = 13.5 and delta = 1e-05.\n",
      "The optimal RDP order is 2.5.\n",
      "Current epsilon is 13.508764316908554\n",
      "The requirements for DP are not met, current epsilon is: 13.508764316908554. To attain true DP the following parameters can be changed:  Num Samples = 250, batch_size = 25, epochs = 20\n",
      "This will not result in a Differentially Private model do you want to continue [Y/N]y\n",
      "Continuing\n",
      "Epoch 1/20\n",
      "10/10 [==============================] - 3s 61ms/step - loss: 0.7784 - accuracy: 0.8200 - val_loss: 2.8981 - val_accuracy: 0.6120\n",
      "Epoch 2/20\n",
      "10/10 [==============================] - 0s 41ms/step - loss: 0.6516 - accuracy: 0.8560 - val_loss: 3.0089 - val_accuracy: 0.6160\n",
      "Epoch 3/20\n",
      "10/10 [==============================] - 0s 40ms/step - loss: 0.7344 - accuracy: 0.8560 - val_loss: 2.8790 - val_accuracy: 0.6280\n",
      "Epoch 4/20\n",
      "10/10 [==============================] - 0s 41ms/step - loss: 0.7639 - accuracy: 0.8560 - val_loss: 3.1947 - val_accuracy: 0.5880\n",
      "Epoch 5/20\n",
      "10/10 [==============================] - 0s 42ms/step - loss: 0.7815 - accuracy: 0.8360 - val_loss: 3.2326 - val_accuracy: 0.5880\n",
      "Epoch 6/20\n",
      "10/10 [==============================] - 0s 40ms/step - loss: 0.6929 - accuracy: 0.8640 - val_loss: 3.2560 - val_accuracy: 0.5480\n",
      "Epoch 7/20\n",
      "10/10 [==============================] - 0s 42ms/step - loss: 0.7371 - accuracy: 0.8760 - val_loss: 3.3249 - val_accuracy: 0.5880\n",
      "Epoch 8/20\n",
      "10/10 [==============================] - 0s 42ms/step - loss: 0.7558 - accuracy: 0.8720 - val_loss: 3.4857 - val_accuracy: 0.5960\n",
      "Epoch 9/20\n",
      "10/10 [==============================] - 0s 36ms/step - loss: 0.8548 - accuracy: 0.8600 - val_loss: 3.4988 - val_accuracy: 0.6040\n",
      "Epoch 10/20\n",
      "10/10 [==============================] - 0s 35ms/step - loss: 0.7794 - accuracy: 0.8760 - val_loss: 3.3661 - val_accuracy: 0.6240\n",
      "Epoch 11/20\n",
      "10/10 [==============================] - 0s 42ms/step - loss: 0.8773 - accuracy: 0.8520 - val_loss: 3.3419 - val_accuracy: 0.6440\n",
      "Epoch 12/20\n",
      "10/10 [==============================] - 0s 32ms/step - loss: 0.7420 - accuracy: 0.8760 - val_loss: 3.3096 - val_accuracy: 0.6160\n",
      "Epoch 13/20\n",
      "10/10 [==============================] - 0s 42ms/step - loss: 0.7713 - accuracy: 0.8480 - val_loss: 3.5240 - val_accuracy: 0.6160\n",
      "Epoch 14/20\n",
      "10/10 [==============================] - 1s 62ms/step - loss: 0.7187 - accuracy: 0.8320 - val_loss: 3.5482 - val_accuracy: 0.6280\n",
      "Epoch 15/20\n",
      "10/10 [==============================] - 1s 54ms/step - loss: 0.6951 - accuracy: 0.8400 - val_loss: 3.3909 - val_accuracy: 0.6400\n",
      "Epoch 16/20\n",
      "10/10 [==============================] - 1s 119ms/step - loss: 0.6853 - accuracy: 0.8480 - val_loss: 3.3289 - val_accuracy: 0.6640\n",
      "Epoch 17/20\n",
      "10/10 [==============================] - 1s 60ms/step - loss: 0.7995 - accuracy: 0.8360 - val_loss: 3.3022 - val_accuracy: 0.6320\n",
      "Epoch 18/20\n",
      "10/10 [==============================] - 0s 45ms/step - loss: 0.7520 - accuracy: 0.8600 - val_loss: 3.5652 - val_accuracy: 0.6280\n",
      "Epoch 19/20\n",
      "10/10 [==============================] - 1s 51ms/step - loss: 0.7750 - accuracy: 0.8640 - val_loss: 3.6114 - val_accuracy: 0.6080\n",
      "Epoch 20/20\n",
      "10/10 [==============================] - 1s 55ms/step - loss: 0.8381 - accuracy: 0.8640 - val_loss: 3.9326 - val_accuracy: 0.6000\n"
     ]
    }
   ],
   "source": [
    "importlib.reload(safemodel.safemodel)\n",
    "importlib.reload(safemodel.classifiers.safekeras)\n",
    "from safemodel.classifiers.safekeras import Safe_KerasModel\n",
    "\n",
    "optimizer=None\n",
    "safeModel = Safe_KerasModel(inputs= input_data, outputs=output,name=\"safekeras-test\")\n",
    "\n",
    "loss = tf.keras.losses.CategoricalCrossentropy(\n",
    "    from_logits=False, reduction=tf.losses.Reduction.NONE)\n",
    "\n",
    "\n",
    "safeModel.compile(loss=loss)#optimizer='adam', loss='categorical_crossentropy', metrics=['accuracy'])\n",
    "\n",
    "epochs = 20\n",
    "batch_size = 25\n",
    "\n",
    "r_DP = safeModel.fit(Xt_member, \n",
    "              yt_member, \n",
    "              validation_data=(Xt_nonmember, yt_nonmember),\n",
    "              epochs=epochs, \n",
    "              batch_size=batch_size\n",
    ")  \n"
   ]
  },
  {
   "cell_type": "markdown",
   "metadata": {},
   "source": [
    "# Testing\n",
    "## Test 1 - researcher doesn't change recommended params"
   ]
  },
  {
   "cell_type": "code",
   "execution_count": 22,
   "metadata": {},
   "outputs": [
    {
     "name": "stdout",
     "output_type": "stream",
     "text": [
      "***Test 1: researcher doesn't change recommended params\n",
      "args is a <class 'tuple'> = ()  kwargs is a <class 'dict'>= {'inputs': <KerasTensor: shape=(None, 300) dtype=float32 (created by layer 'input_1')>, 'outputs': <KerasTensor: shape=(None, 2) dtype=float32 (created by layer 'dense_3')>, 'name': 'safekerasmodel1-test'}\n",
      "inputs is in kwargs.keys\n",
      "KerasTensor(type_spec=TensorSpec(shape=(None, 300), dtype=tf.float32, name='input_1'), name='input_1', description=\"created by layer 'input_1'\")\n",
      "WARNING: model parameters may present a disclosure risk:\n",
      "- parameter noise_multiplier = 0.5 identified as less than the recommended min value of 0.9.\n",
      "Changed parameter noise_multiplier = 0.9.\n",
      "\n",
      "Changed parameter optimizer = 'DPKerasSGDOptimizer'\n",
      "DP optimizer used = False\n",
      "optimizer has been changed but fit() has not been rerun.\n",
      "(250, 300)\n",
      "DP-SGD with sampling rate = 10% and noise_multiplier = 0.9 iterated over 200 steps satisfies differential privacy with eps = 13.5 and delta = 1e-05.\n",
      "The optimal RDP order is 2.5.\n",
      "Current epsilon is 13.508764316908554\n",
      "The requirements for DP are not met, current epsilon is: 13.508764316908554. To attain true DP the following parameters can be changed:  Num Samples = 250, batch_size = 25, epochs = 20\n",
      "This will not result in a Differentially Private model do you want to continue [Y/N]y\n",
      "Continuing\n",
      "Epoch 1/20\n",
      "10/10 [==============================] - 3s 56ms/step - loss: 0.7952 - accuracy: 0.8720 - val_loss: 3.7578 - val_accuracy: 0.6160\n",
      "Epoch 2/20\n",
      "10/10 [==============================] - 0s 41ms/step - loss: 0.7497 - accuracy: 0.8840 - val_loss: 3.9977 - val_accuracy: 0.5880\n",
      "Epoch 3/20\n",
      "10/10 [==============================] - 0s 42ms/step - loss: 0.7261 - accuracy: 0.8840 - val_loss: 4.2609 - val_accuracy: 0.5920\n",
      "Epoch 4/20\n",
      "10/10 [==============================] - 0s 37ms/step - loss: 0.7303 - accuracy: 0.8880 - val_loss: 4.3478 - val_accuracy: 0.5760\n",
      "Epoch 5/20\n",
      "10/10 [==============================] - 0s 45ms/step - loss: 0.8958 - accuracy: 0.9000 - val_loss: 4.4597 - val_accuracy: 0.6080\n",
      "Epoch 6/20\n",
      "10/10 [==============================] - 1s 64ms/step - loss: 0.9006 - accuracy: 0.8720 - val_loss: 4.9328 - val_accuracy: 0.6080\n",
      "Epoch 7/20\n",
      "10/10 [==============================] - 0s 36ms/step - loss: 1.0244 - accuracy: 0.8600 - val_loss: 5.0151 - val_accuracy: 0.5840\n",
      "Epoch 8/20\n",
      "10/10 [==============================] - 0s 43ms/step - loss: 1.1829 - accuracy: 0.8600 - val_loss: 4.8911 - val_accuracy: 0.5880\n",
      "Epoch 9/20\n",
      "10/10 [==============================] - 0s 34ms/step - loss: 1.1822 - accuracy: 0.8480 - val_loss: 4.9736 - val_accuracy: 0.5600\n",
      "Epoch 10/20\n",
      "10/10 [==============================] - 0s 33ms/step - loss: 0.9412 - accuracy: 0.8520 - val_loss: 4.8367 - val_accuracy: 0.5680\n",
      "Epoch 11/20\n",
      "10/10 [==============================] - 1s 55ms/step - loss: 0.8484 - accuracy: 0.8840 - val_loss: 4.4157 - val_accuracy: 0.6200\n",
      "Epoch 12/20\n",
      "10/10 [==============================] - 0s 43ms/step - loss: 0.9119 - accuracy: 0.8760 - val_loss: 4.4112 - val_accuracy: 0.5960\n",
      "Epoch 13/20\n",
      "10/10 [==============================] - 0s 41ms/step - loss: 0.7943 - accuracy: 0.8880 - val_loss: 4.2954 - val_accuracy: 0.6320\n",
      "Epoch 14/20\n",
      "10/10 [==============================] - 0s 36ms/step - loss: 0.7268 - accuracy: 0.8920 - val_loss: 4.1923 - val_accuracy: 0.6280\n",
      "Epoch 15/20\n",
      "10/10 [==============================] - 0s 35ms/step - loss: 0.7072 - accuracy: 0.8880 - val_loss: 4.2916 - val_accuracy: 0.6160\n",
      "Epoch 16/20\n",
      "10/10 [==============================] - 0s 35ms/step - loss: 0.6102 - accuracy: 0.8840 - val_loss: 4.3985 - val_accuracy: 0.6280\n",
      "Epoch 17/20\n",
      "10/10 [==============================] - 0s 42ms/step - loss: 0.7369 - accuracy: 0.8840 - val_loss: 4.8226 - val_accuracy: 0.6160\n",
      "Epoch 18/20\n",
      "10/10 [==============================] - 1s 74ms/step - loss: 0.6666 - accuracy: 0.8760 - val_loss: 4.7768 - val_accuracy: 0.6200\n",
      "Epoch 19/20\n",
      "10/10 [==============================] - 1s 69ms/step - loss: 0.7504 - accuracy: 0.8600 - val_loss: 4.7567 - val_accuracy: 0.6200\n",
      "Epoch 20/20\n",
      "10/10 [==============================] - 0s 38ms/step - loss: 0.7571 - accuracy: 0.8840 - val_loss: 4.7802 - val_accuracy: 0.6000\n"
     ]
    },
    {
     "name": "stderr",
     "output_type": "stream",
     "text": [
      "_obj_reference_counts_dict cannot be copied\n",
      "...<class 'TypeError'> error; cannot pickle '_thread.RLock' object\n",
      "_thread_local cannot be copied\n",
      "...<class 'TypeError'> error; cannot pickle '_thread._local' object\n",
      "_metrics_lock cannot be copied\n",
      "...<class 'TypeError'> error; cannot pickle '_thread.lock' object\n"
     ]
    },
    {
     "name": "stdout",
     "output_type": "stream",
     "text": [
      "Model parameters are within recommended ranges.\n",
      "\n",
      "INFO:tensorflow:Assets written to: ram://d13b67a7-43ec-449c-a863-9affa5bfe382/assets\n"
     ]
    },
    {
     "name": "stderr",
     "output_type": "stream",
     "text": [
      "_trackable_saver cannot be copied\n",
      "...<class 'ValueError'> error; Unknown optimizer: DPOptimizerClass. Please ensure this object is passed to the `custom_objects` argument. See https://www.tensorflow.org/guide/keras/save_and_serialize#registering_the_custom_object for details.\n",
      "_self_unconditional_checkpoint_dependencies cannot be copied\n",
      "...<class 'TypeError'> error; cannot pickle '_thread.RLock' object\n",
      "_self_unconditional_dependency_names cannot be copied\n",
      "...<class 'TypeError'> error; cannot pickle '_thread.RLock' object\n",
      "compiled_loss cannot be copied\n",
      "...<class 'TypeError'> error; cannot pickle '_thread.RLock' object\n",
      "compiled_metrics cannot be copied\n",
      "...<class 'TypeError'> error; cannot pickle '_thread.RLock' object\n",
      "train_tf_function cannot be copied\n",
      "...<class 'TypeError'> error; cannot pickle '_thread.RLock' object\n",
      "train_function cannot be copied\n",
      "...<class 'TypeError'> error; cannot pickle '_thread.RLock' object\n",
      "test_function cannot be copied\n",
      "...<class 'TypeError'> error; cannot pickle '_thread.RLock' object\n"
     ]
    },
    {
     "name": "stdout",
     "output_type": "stream",
     "text": [
      "INFO:tensorflow:Assets written to: ram://bdc69f44-90cb-47eb-af55-e38b2a3f7d6a/assets\n"
     ]
    },
    {
     "name": "stderr",
     "output_type": "stream",
     "text": [
      "history cannot be copied\n",
      "...<class 'ValueError'> error; Unknown optimizer: DPOptimizerClass. Please ensure this object is passed to the `custom_objects` argument. See https://www.tensorflow.org/guide/keras/save_and_serialize#registering_the_custom_object for details.\n"
     ]
    },
    {
     "name": "stdout",
     "output_type": "stream",
     "text": [
      "<tensorflow_privacy.privacy.optimizers.dp_optimizer_keras.make_keras_optimizer_class.<locals>.DPOptimizerClass object at 0x7fd587c05400>\n",
      "<tensorflow_privacy.privacy.optimizers.dp_optimizer_keras.make_keras_optimizer_class.<locals>.DPOptimizerClass object at 0x7fd587c05400>\n",
      "DP-SGD with sampling rate = 10% and noise_multiplier = 0.9 iterated over 200 steps satisfies differential privacy with eps = 13.5 and delta = 1e-05.\n",
      "The optimal RDP order is 2.5.\n"
     ]
    }
   ],
   "source": [
    "importlib.reload(safemodel.safemodel)\n",
    "importlib.reload(safemodel.classifiers.safekeras)\n",
    "from safemodel.classifiers.safekeras import Safe_KerasModel\n",
    "\n",
    "\n",
    "# create and fit using recommended params\n",
    "\n",
    "\n",
    "print(\"***Test 1: researcher doesn't change recommended params\")\n",
    "optimizer=None\n",
    "safeKerasModel1 = Safe_KerasModel(inputs=input_data, outputs=output,name=\"safekerasmodel1-test\")\n",
    "safeKerasModel1.compile(loss=loss)\n",
    "safeKerasModel1.fit(Xt_member, \n",
    "                    yt_member, \n",
    "                    validation_data=(Xt_nonmember, yt_nonmember),\n",
    "                    epochs=epochs, \n",
    "                    batch_size=batch_size)\n",
    "safeKerasModel1.save(\"safe1.h5\", include_optimizer=False, save_format='h5')\n",
    "safeKerasModel1.preliminary_check()\n",
    "safeKerasModel1.request_release(filename=\"safe1.h5\")"
   ]
  },
  {
   "cell_type": "markdown",
   "metadata": {},
   "source": [
    "## Test 2 - researcher changes params safely\n",
    "Inputs: \n",
    "\n",
    "l2_norm_clip = 1.1, noise_multiplier=0.6\n",
    "\n",
    "Expected Result:\n",
    "\n",
    "Remain Unchanged l2_norm_clip = 1.1, noise_multiplier=0.6"
   ]
  },
  {
   "cell_type": "code",
   "execution_count": 23,
   "metadata": {},
   "outputs": [
    {
     "name": "stdout",
     "output_type": "stream",
     "text": [
      "\n",
      "***Test 2: researcher changes params safely\n",
      "args is a <class 'tuple'> = ()  kwargs is a <class 'dict'>= {'inputs': <KerasTensor: shape=(None, 300) dtype=float32 (created by layer 'input_1')>, 'outputs': <KerasTensor: shape=(None, 2) dtype=float32 (created by layer 'dense_3')>, 'name': 'safekerasmodel2-test', 'l2_norm_clip': 1.1, 'noise_multiplier': 0.6}\n",
      "inputs is in kwargs.keys\n",
      "KerasTensor(type_spec=TensorSpec(shape=(None, 300), dtype=tf.float32, name='input_1'), name='input_1', description=\"created by layer 'input_1'\")\n",
      "WARNING: model parameters may present a disclosure risk:\n",
      "- parameter noise_multiplier = 0.6 identified as less than the recommended min value of 0.9.\n",
      "Changed parameter noise_multiplier = 0.9.\n",
      "\n",
      "WARNING: model parameters may present a disclosure risk\n",
      "Unknown optimizer <class 'tensorflow_privacy.privacy.optimizers.dp_optimizer_keras.make_keras_optimizer_class.<locals>.DPOptimizerClass'> - Changed parameter optimizer = 'DPKerasSGDOptimizer'\n",
      "DP optimizer used = False\n",
      "optimizer has been changed but fit() has not been rerun.\n",
      "(250, 300)\n",
      "DP-SGD with sampling rate = 10% and noise_multiplier = 0.6 iterated over 200 steps satisfies differential privacy with eps = 32.9 and delta = 1e-05.\n",
      "The optimal RDP order is 1.75.\n",
      "Current epsilon is 32.860767694468635\n",
      "The requirements for DP are not met, current epsilon is: 32.860767694468635. To attain true DP the following parameters can be changed:  Num Samples = 250, batch_size = 25, epochs = 20\n",
      "This will not result in a Differentially Private model do you want to continue [Y/N]y\n",
      "Continuing\n",
      "Epoch 1/20\n",
      "10/10 [==============================] - 3s 49ms/step - loss: 0.8301 - accuracy: 0.8880 - val_loss: 4.9064 - val_accuracy: 0.6280\n",
      "Epoch 2/20\n",
      "10/10 [==============================] - 0s 41ms/step - loss: 0.8597 - accuracy: 0.8880 - val_loss: 4.7338 - val_accuracy: 0.6120\n",
      "Epoch 3/20\n",
      "10/10 [==============================] - 0s 41ms/step - loss: 0.8493 - accuracy: 0.8800 - val_loss: 4.8782 - val_accuracy: 0.6040\n",
      "Epoch 4/20\n",
      "10/10 [==============================] - 1s 101ms/step - loss: 0.8806 - accuracy: 0.8960 - val_loss: 4.6964 - val_accuracy: 0.6520\n",
      "Epoch 5/20\n",
      "10/10 [==============================] - 0s 43ms/step - loss: 0.8989 - accuracy: 0.8800 - val_loss: 4.7450 - val_accuracy: 0.6320\n",
      "Epoch 6/20\n",
      "10/10 [==============================] - 0s 42ms/step - loss: 0.8541 - accuracy: 0.8880 - val_loss: 5.3429 - val_accuracy: 0.6040\n",
      "Epoch 7/20\n",
      "10/10 [==============================] - 0s 38ms/step - loss: 0.8585 - accuracy: 0.8840 - val_loss: 5.1241 - val_accuracy: 0.6240\n",
      "Epoch 8/20\n",
      "10/10 [==============================] - 0s 39ms/step - loss: 0.7303 - accuracy: 0.9080 - val_loss: 4.7771 - val_accuracy: 0.6440\n",
      "Epoch 9/20\n",
      "10/10 [==============================] - 0s 40ms/step - loss: 0.7467 - accuracy: 0.9160 - val_loss: 4.7939 - val_accuracy: 0.6480\n",
      "Epoch 10/20\n",
      "10/10 [==============================] - 0s 37ms/step - loss: 0.6251 - accuracy: 0.9000 - val_loss: 5.0844 - val_accuracy: 0.6320\n",
      "Epoch 11/20\n",
      "10/10 [==============================] - 0s 42ms/step - loss: 0.8661 - accuracy: 0.9120 - val_loss: 5.3848 - val_accuracy: 0.6080\n",
      "Epoch 12/20\n",
      "10/10 [==============================] - 0s 39ms/step - loss: 0.9307 - accuracy: 0.9000 - val_loss: 5.5047 - val_accuracy: 0.6120\n",
      "Epoch 13/20\n",
      "10/10 [==============================] - 0s 40ms/step - loss: 1.1336 - accuracy: 0.8920 - val_loss: 5.6592 - val_accuracy: 0.6000\n",
      "Epoch 14/20\n",
      "10/10 [==============================] - 0s 40ms/step - loss: 1.0198 - accuracy: 0.8800 - val_loss: 5.4156 - val_accuracy: 0.6160\n",
      "Epoch 15/20\n",
      "10/10 [==============================] - 0s 41ms/step - loss: 0.9670 - accuracy: 0.8600 - val_loss: 5.8821 - val_accuracy: 0.5880\n",
      "Epoch 16/20\n",
      "10/10 [==============================] - 0s 41ms/step - loss: 0.9843 - accuracy: 0.8920 - val_loss: 6.2988 - val_accuracy: 0.5720\n",
      "Epoch 17/20\n",
      "10/10 [==============================] - 0s 45ms/step - loss: 1.1791 - accuracy: 0.8720 - val_loss: 6.5506 - val_accuracy: 0.6000\n",
      "Epoch 18/20\n",
      "10/10 [==============================] - 1s 82ms/step - loss: 1.3835 - accuracy: 0.8880 - val_loss: 6.1687 - val_accuracy: 0.5920\n",
      "Epoch 19/20\n",
      "10/10 [==============================] - 1s 74ms/step - loss: 1.4808 - accuracy: 0.8640 - val_loss: 6.1852 - val_accuracy: 0.5640\n",
      "Epoch 20/20\n",
      "10/10 [==============================] - 0s 48ms/step - loss: 1.5123 - accuracy: 0.8520 - val_loss: 6.4928 - val_accuracy: 0.5880\n",
      "INFO:tensorflow:Assets written to: safe2.hd5/assets\n",
      "WARNING: model parameters may present a disclosure risk:\n",
      "- parameter noise_multiplier = 0.6 identified as less than the recommended min value of 0.9.\n",
      "INFO:tensorflow:Assets written to: safe2.hd5/assets\n"
     ]
    },
    {
     "name": "stderr",
     "output_type": "stream",
     "text": [
      "_obj_reference_counts_dict cannot be copied\n",
      "...<class 'TypeError'> error; cannot pickle '_thread.RLock' object\n",
      "_thread_local cannot be copied\n",
      "...<class 'TypeError'> error; cannot pickle '_thread._local' object\n",
      "_metrics_lock cannot be copied\n",
      "...<class 'TypeError'> error; cannot pickle '_thread.lock' object\n"
     ]
    },
    {
     "name": "stdout",
     "output_type": "stream",
     "text": [
      "INFO:tensorflow:Assets written to: ram://d5e9beeb-67db-4eac-8fe7-9045155e6a24/assets\n"
     ]
    },
    {
     "name": "stderr",
     "output_type": "stream",
     "text": [
      "_trackable_saver cannot be copied\n",
      "...<class 'ValueError'> error; Unknown optimizer: DPOptimizerClass. Please ensure this object is passed to the `custom_objects` argument. See https://www.tensorflow.org/guide/keras/save_and_serialize#registering_the_custom_object for details.\n",
      "_self_unconditional_checkpoint_dependencies cannot be copied\n",
      "...<class 'TypeError'> error; cannot pickle '_thread.RLock' object\n",
      "_self_unconditional_dependency_names cannot be copied\n",
      "...<class 'TypeError'> error; cannot pickle '_thread.RLock' object\n",
      "compiled_loss cannot be copied\n",
      "...<class 'TypeError'> error; cannot pickle '_thread.RLock' object\n",
      "compiled_metrics cannot be copied\n",
      "...<class 'TypeError'> error; cannot pickle '_thread.RLock' object\n"
     ]
    },
    {
     "name": "stdout",
     "output_type": "stream",
     "text": [
      "INFO:tensorflow:Assets written to: ram://756c890a-7b95-44fe-ada6-419d166f397d/assets\n"
     ]
    },
    {
     "name": "stderr",
     "output_type": "stream",
     "text": [
      "history cannot be copied\n",
      "...<class 'ValueError'> error; Unknown optimizer: DPOptimizerClass. Please ensure this object is passed to the `custom_objects` argument. See https://www.tensorflow.org/guide/keras/save_and_serialize#registering_the_custom_object for details.\n",
      "train_function cannot be copied\n",
      "...<class 'TypeError'> error; cannot pickle '_thread.RLock' object\n",
      "test_function cannot be copied\n",
      "...<class 'TypeError'> error; cannot pickle '_thread.RLock' object\n",
      "train_tf_function cannot be copied\n",
      "...<class 'TypeError'> error; cannot pickle '_thread.RLock' object\n"
     ]
    },
    {
     "name": "stdout",
     "output_type": "stream",
     "text": [
      "<tensorflow_privacy.privacy.optimizers.dp_optimizer_keras.make_keras_optimizer_class.<locals>.DPOptimizerClass object at 0x7fd5851ac9a0>\n",
      "<tensorflow_privacy.privacy.optimizers.dp_optimizer_keras.make_keras_optimizer_class.<locals>.DPOptimizerClass object at 0x7fd5851ac9a0>\n",
      "DP-SGD with sampling rate = 10% and noise_multiplier = 0.6 iterated over 200 steps satisfies differential privacy with eps = 32.9 and delta = 1e-05.\n",
      "The optimal RDP order is 1.75.\n"
     ]
    }
   ],
   "source": [
    "importlib.reload(safemodel.safemodel)\n",
    "importlib.reload(safemodel.classifiers.safekeras)\n",
    "from safemodel.classifiers.safekeras import Safe_KerasModel\n",
    "\n",
    "# change model params to recommended values\n",
    "print(\"\\n***Test 2: researcher changes params safely\")\n",
    "safeKerasModel2 = Safe_KerasModel(inputs= input_data, outputs=output,name=\"safekerasmodel2-test\", l2_norm_clip = 1.1, noise_multiplier=0.6)\n",
    "safeKerasModel2.optimizer=tensorflow_privacy.DPKerasAdamOptimizer\n",
    "safeKerasModel2.compile(loss=loss)\n",
    "safeKerasModel2.l2_norm_clip = 1.1\n",
    "safeKerasModel2.noise_multiplier = 0.6\n",
    "safeKerasModel2.fit(Xt_member, \n",
    "                    yt_member, \n",
    "                    validation_data=(Xt_nonmember, yt_nonmember),\n",
    "                    epochs=epochs, \n",
    "                    batch_size=batch_size)\n",
    "\n",
    "safeKerasModel2.save(\"safe2.hd5\")\n",
    "safeKerasModel2.preliminary_check()\n",
    "safeKerasModel2.request_release(filename=\"safe2.hd5\")"
   ]
  },
  {
   "cell_type": "markdown",
   "metadata": {},
   "source": [
    "## Test 3 - researcher changes string params unsafely\n",
    "Expected result:\n",
    "\n",
    "WARNING: model parameters may present a disclosure risk:\n",
    "- parameter l2_norm_clip = 0.8 identified as less than the recommended min value of 1.0.\n",
    "Changed parameter l2_norm_clip = 1.0.\n"
   ]
  },
  {
   "cell_type": "code",
   "execution_count": 24,
   "metadata": {
    "scrolled": false
   },
   "outputs": [
    {
     "name": "stdout",
     "output_type": "stream",
     "text": [
      "\n",
      "***Test 3: researcher changes params unsafely\n",
      "args is a <class 'tuple'> = ()  kwargs is a <class 'dict'>= {'inputs': <KerasTensor: shape=(None, 300) dtype=float32 (created by layer 'input_1')>, 'outputs': <KerasTensor: shape=(None, 2) dtype=float32 (created by layer 'dense_3')>, 'name': 'safekerasmodel3-test', 'l2_norm_clip': 0.8}\n",
      "inputs is in kwargs.keys\n",
      "KerasTensor(type_spec=TensorSpec(shape=(None, 300), dtype=tf.float32, name='input_1'), name='input_1', description=\"created by layer 'input_1'\")\n",
      "WARNING: model parameters may present a disclosure risk:\n",
      "- parameter l2_norm_clip = 0.8 identified as less than the recommended min value of 1.0.\n",
      "Changed parameter l2_norm_clip = 1.0.\n",
      "- parameter noise_multiplier = 0.5 identified as less than the recommended min value of 0.9.\n",
      "Changed parameter noise_multiplier = 0.9.\n",
      "\n",
      "Changed parameter optimizer = 'DPKerasSGDOptimizer'\n",
      "DP optimizer used = False\n",
      "optimizer has been changed but fit() has not been rerun.\n",
      "(250, 300)\n",
      "DP-SGD with sampling rate = 10% and noise_multiplier = 0.9 iterated over 200 steps satisfies differential privacy with eps = 13.5 and delta = 1e-05.\n",
      "The optimal RDP order is 2.5.\n",
      "Current epsilon is 13.508764316908554\n",
      "The requirements for DP are not met, current epsilon is: 13.508764316908554. To attain true DP the following parameters can be changed:  Num Samples = 250, batch_size = 25, epochs = 20\n",
      "This will not result in a Differentially Private model do you want to continue [Y/N]y\n",
      "Continuing\n",
      "Epoch 1/20\n",
      "10/10 [==============================] - 4s 61ms/step - loss: 1.1611 - accuracy: 0.8680 - val_loss: 6.1441 - val_accuracy: 0.6040\n",
      "Epoch 2/20\n",
      "10/10 [==============================] - 0s 35ms/step - loss: 1.0591 - accuracy: 0.8680 - val_loss: 6.8711 - val_accuracy: 0.5680\n",
      "Epoch 3/20\n",
      "10/10 [==============================] - 0s 41ms/step - loss: 1.0972 - accuracy: 0.8720 - val_loss: 6.6434 - val_accuracy: 0.5760\n",
      "Epoch 4/20\n",
      "10/10 [==============================] - 0s 41ms/step - loss: 1.1584 - accuracy: 0.8680 - val_loss: 6.1663 - val_accuracy: 0.5840\n",
      "Epoch 5/20\n",
      "10/10 [==============================] - 0s 38ms/step - loss: 1.0154 - accuracy: 0.8720 - val_loss: 6.5801 - val_accuracy: 0.6000\n",
      "Epoch 6/20\n",
      "10/10 [==============================] - 0s 34ms/step - loss: 1.0973 - accuracy: 0.8720 - val_loss: 7.0165 - val_accuracy: 0.5840\n",
      "Epoch 7/20\n",
      "10/10 [==============================] - 0s 42ms/step - loss: 1.0600 - accuracy: 0.8680 - val_loss: 7.1369 - val_accuracy: 0.5840\n",
      "Epoch 8/20\n",
      "10/10 [==============================] - 0s 43ms/step - loss: 0.9803 - accuracy: 0.8800 - val_loss: 6.9679 - val_accuracy: 0.6160\n",
      "Epoch 9/20\n",
      "10/10 [==============================] - 0s 34ms/step - loss: 1.0260 - accuracy: 0.8960 - val_loss: 6.7262 - val_accuracy: 0.6120\n",
      "Epoch 10/20\n",
      "10/10 [==============================] - 0s 35ms/step - loss: 0.8532 - accuracy: 0.8840 - val_loss: 6.4282 - val_accuracy: 0.6440\n",
      "Epoch 11/20\n",
      "10/10 [==============================] - 0s 32ms/step - loss: 0.8476 - accuracy: 0.9040 - val_loss: 6.9561 - val_accuracy: 0.6320\n",
      "Epoch 12/20\n",
      "10/10 [==============================] - 0s 38ms/step - loss: 0.9313 - accuracy: 0.8800 - val_loss: 6.4101 - val_accuracy: 0.6480\n",
      "Epoch 13/20\n",
      "10/10 [==============================] - 1s 59ms/step - loss: 0.8795 - accuracy: 0.9040 - val_loss: 6.5269 - val_accuracy: 0.6240\n",
      "Epoch 14/20\n",
      "10/10 [==============================] - 1s 71ms/step - loss: 1.0107 - accuracy: 0.8720 - val_loss: 6.8667 - val_accuracy: 0.6280\n",
      "Epoch 15/20\n",
      "10/10 [==============================] - 1s 59ms/step - loss: 1.2034 - accuracy: 0.8680 - val_loss: 7.4704 - val_accuracy: 0.6080\n",
      "Epoch 16/20\n",
      "10/10 [==============================] - 0s 38ms/step - loss: 0.8366 - accuracy: 0.9000 - val_loss: 7.3592 - val_accuracy: 0.6440\n",
      "Epoch 17/20\n",
      "10/10 [==============================] - 0s 42ms/step - loss: 0.8062 - accuracy: 0.9040 - val_loss: 7.7264 - val_accuracy: 0.6360\n",
      "Epoch 18/20\n",
      "10/10 [==============================] - 1s 54ms/step - loss: 0.9372 - accuracy: 0.8960 - val_loss: 8.1023 - val_accuracy: 0.6080\n",
      "Epoch 19/20\n",
      "10/10 [==============================] - 0s 43ms/step - loss: 0.9488 - accuracy: 0.9080 - val_loss: 7.5232 - val_accuracy: 0.6280\n",
      "Epoch 20/20\n",
      "10/10 [==============================] - 0s 44ms/step - loss: 1.0395 - accuracy: 0.8600 - val_loss: 7.6787 - val_accuracy: 0.6040\n",
      "INFO:tensorflow:Assets written to: unsafe3.hd5/assets\n",
      "Model parameters are within recommended ranges.\n",
      "\n",
      "INFO:tensorflow:Assets written to: unsafe3.hd5/assets\n"
     ]
    },
    {
     "name": "stderr",
     "output_type": "stream",
     "text": [
      "_obj_reference_counts_dict cannot be copied\n",
      "...<class 'TypeError'> error; cannot pickle '_thread.RLock' object\n",
      "_thread_local cannot be copied\n",
      "...<class 'TypeError'> error; cannot pickle '_thread._local' object\n",
      "_metrics_lock cannot be copied\n",
      "...<class 'TypeError'> error; cannot pickle '_thread.lock' object\n"
     ]
    },
    {
     "name": "stdout",
     "output_type": "stream",
     "text": [
      "INFO:tensorflow:Assets written to: ram://6ff29eb0-8903-462f-aa8a-6917c9225ccf/assets\n"
     ]
    },
    {
     "name": "stderr",
     "output_type": "stream",
     "text": [
      "_trackable_saver cannot be copied\n",
      "...<class 'ValueError'> error; Unknown optimizer: DPOptimizerClass. Please ensure this object is passed to the `custom_objects` argument. See https://www.tensorflow.org/guide/keras/save_and_serialize#registering_the_custom_object for details.\n",
      "_self_unconditional_checkpoint_dependencies cannot be copied\n",
      "...<class 'TypeError'> error; cannot pickle '_thread.RLock' object\n",
      "_self_unconditional_dependency_names cannot be copied\n",
      "...<class 'TypeError'> error; cannot pickle '_thread.RLock' object\n",
      "compiled_loss cannot be copied\n",
      "...<class 'TypeError'> error; cannot pickle '_thread.RLock' object\n",
      "compiled_metrics cannot be copied\n",
      "...<class 'TypeError'> error; cannot pickle '_thread.RLock' object\n"
     ]
    },
    {
     "name": "stdout",
     "output_type": "stream",
     "text": [
      "INFO:tensorflow:Assets written to: ram://217dab1c-4524-47dc-ba10-c3d04f50f2aa/assets\n"
     ]
    },
    {
     "name": "stderr",
     "output_type": "stream",
     "text": [
      "history cannot be copied\n",
      "...<class 'ValueError'> error; Unknown optimizer: DPOptimizerClass. Please ensure this object is passed to the `custom_objects` argument. See https://www.tensorflow.org/guide/keras/save_and_serialize#registering_the_custom_object for details.\n",
      "train_function cannot be copied\n",
      "...<class 'TypeError'> error; cannot pickle '_thread.RLock' object\n",
      "test_function cannot be copied\n",
      "...<class 'TypeError'> error; cannot pickle '_thread.RLock' object\n",
      "train_tf_function cannot be copied\n",
      "...<class 'TypeError'> error; cannot pickle '_thread.RLock' object\n"
     ]
    },
    {
     "name": "stdout",
     "output_type": "stream",
     "text": [
      "<tensorflow_privacy.privacy.optimizers.dp_optimizer_keras.make_keras_optimizer_class.<locals>.DPOptimizerClass object at 0x7fd585306940>\n",
      "<tensorflow_privacy.privacy.optimizers.dp_optimizer_keras.make_keras_optimizer_class.<locals>.DPOptimizerClass object at 0x7fd585306940>\n",
      "DP-SGD with sampling rate = 10% and noise_multiplier = 0.9 iterated over 200 steps satisfies differential privacy with eps = 13.5 and delta = 1e-05.\n",
      "The optimal RDP order is 2.5.\n"
     ]
    }
   ],
   "source": [
    "importlib.reload(safemodel.safemodel)\n",
    "importlib.reload(safemodel.classifiers.safekeras)\n",
    "from safemodel.classifiers.safekeras import Safe_KerasModel\n",
    "\n",
    "# change one model params in an unsafe way\n",
    "print(\"\\n***Test 3: researcher changes params unsafely\")\n",
    "safeKerasModel3 = Safe_KerasModel(inputs= input_data, outputs=output,name=\"safekerasmodel3-test\", l2_norm_clip = 0.8)\n",
    "safeKerasModel3.compile(loss=loss)\n",
    "#safeKerasModel3.optimizer=\"Adam\"\n",
    "safeKerasModel3.fit(Xt_member, \n",
    "                    yt_member, \n",
    "                    validation_data=(Xt_nonmember, yt_nonmember),\n",
    "                    epochs=epochs, \n",
    "                    batch_size=batch_size)\n",
    "safeKerasModel3.save(\"unsafe3.hd5\")\n",
    "safeKerasModel3.preliminary_check()\n",
    "safeKerasModel3.request_release(filename=\"unsafe3.hd5\")"
   ]
  },
  {
   "cell_type": "markdown",
   "metadata": {},
   "source": [
    "## Test 3 - researcher changes string params unsafely\n",
    "Input delta = -1 \n",
    "\n",
    "Expected Result:\n",
    "\n",
    "WARNING: model parameters may present a disclosure risk:\n",
    "- parameter delta = -1 identified as less than the recommended min value of 1e-05.\n",
    "Changed parameter delta = 1e-05."
   ]
  },
  {
   "cell_type": "code",
   "execution_count": 25,
   "metadata": {},
   "outputs": [
    {
     "name": "stdout",
     "output_type": "stream",
     "text": [
      "\n",
      "***Test 3: researcher changes string params unsafely\n",
      "args is a <class 'tuple'> = ()  kwargs is a <class 'dict'>= {'inputs': <KerasTensor: shape=(None, 300) dtype=float32 (created by layer 'input_1')>, 'outputs': <KerasTensor: shape=(None, 2) dtype=float32 (created by layer 'dense_3')>, 'name': 'safekerasmodel3-test', 'delta': -1}\n",
      "inputs is in kwargs.keys\n",
      "KerasTensor(type_spec=TensorSpec(shape=(None, 300), dtype=tf.float32, name='input_1'), name='input_1', description=\"created by layer 'input_1'\")\n",
      "WARNING: model parameters may present a disclosure risk:\n",
      "- parameter noise_multiplier = 0.5 identified as less than the recommended min value of 0.9.\n",
      "Changed parameter noise_multiplier = 0.9.\n",
      "- parameter delta = -1 identified as less than the recommended min value of 1e-05.\n",
      "Changed parameter delta = 1e-05.\n",
      "\n",
      "Changed parameter optimizer = 'DPKerasSGDOptimizer'\n",
      "DP optimizer used = False\n",
      "optimizer has been changed but fit() has not been rerun.\n",
      "(250, 300)\n",
      "DP-SGD with sampling rate = 10% and noise_multiplier = 0.9 iterated over 200 steps satisfies differential privacy with eps = 13.5 and delta = 1e-05.\n",
      "The optimal RDP order is 2.5.\n",
      "Current epsilon is 13.508764316908554\n",
      "The requirements for DP are not met, current epsilon is: 13.508764316908554. To attain true DP the following parameters can be changed:  Num Samples = 250, batch_size = 25, epochs = 20\n",
      "This will not result in a Differentially Private model do you want to continue [Y/N]y\n",
      "Continuing\n",
      "Epoch 1/20\n",
      "10/10 [==============================] - 3s 50ms/step - loss: 1.0696 - accuracy: 0.8880 - val_loss: 7.4934 - val_accuracy: 0.6160\n",
      "Epoch 2/20\n",
      "10/10 [==============================] - 0s 33ms/step - loss: 1.2935 - accuracy: 0.8720 - val_loss: 8.1178 - val_accuracy: 0.6240\n",
      "Epoch 3/20\n",
      "10/10 [==============================] - 0s 35ms/step - loss: 1.1981 - accuracy: 0.8920 - val_loss: 7.8799 - val_accuracy: 0.6400\n",
      "Epoch 4/20\n",
      "10/10 [==============================] - 0s 39ms/step - loss: 1.2959 - accuracy: 0.8800 - val_loss: 7.6918 - val_accuracy: 0.6400\n",
      "Epoch 5/20\n",
      "10/10 [==============================] - 0s 38ms/step - loss: 1.1830 - accuracy: 0.9000 - val_loss: 7.9835 - val_accuracy: 0.6280\n",
      "Epoch 6/20\n",
      "10/10 [==============================] - 0s 41ms/step - loss: 1.3273 - accuracy: 0.8800 - val_loss: 8.2640 - val_accuracy: 0.6280\n",
      "Epoch 7/20\n",
      "10/10 [==============================] - 0s 40ms/step - loss: 1.3525 - accuracy: 0.8840 - val_loss: 7.8929 - val_accuracy: 0.6560\n",
      "Epoch 8/20\n",
      "10/10 [==============================] - 0s 39ms/step - loss: 1.3933 - accuracy: 0.8920 - val_loss: 7.6400 - val_accuracy: 0.6840\n",
      "Epoch 9/20\n",
      "10/10 [==============================] - 0s 34ms/step - loss: 1.4011 - accuracy: 0.8800 - val_loss: 7.9683 - val_accuracy: 0.6680\n",
      "Epoch 10/20\n",
      "10/10 [==============================] - 0s 37ms/step - loss: 1.1793 - accuracy: 0.9040 - val_loss: 7.9167 - val_accuracy: 0.6560\n",
      "Epoch 11/20\n",
      "10/10 [==============================] - 0s 34ms/step - loss: 1.1738 - accuracy: 0.8920 - val_loss: 7.9582 - val_accuracy: 0.6720\n",
      "Epoch 12/20\n",
      "10/10 [==============================] - 0s 37ms/step - loss: 1.3757 - accuracy: 0.9080 - val_loss: 8.2767 - val_accuracy: 0.6400\n",
      "Epoch 13/20\n",
      "10/10 [==============================] - 0s 42ms/step - loss: 1.3674 - accuracy: 0.9000 - val_loss: 8.5519 - val_accuracy: 0.6160\n",
      "Epoch 14/20\n",
      "10/10 [==============================] - 0s 43ms/step - loss: 1.3653 - accuracy: 0.8880 - val_loss: 8.2379 - val_accuracy: 0.6280\n",
      "Epoch 15/20\n",
      "10/10 [==============================] - 0s 42ms/step - loss: 1.1941 - accuracy: 0.9000 - val_loss: 8.0429 - val_accuracy: 0.6400\n",
      "Epoch 16/20\n",
      "10/10 [==============================] - 0s 51ms/step - loss: 1.4033 - accuracy: 0.8920 - val_loss: 8.1821 - val_accuracy: 0.6200\n",
      "Epoch 17/20\n",
      "10/10 [==============================] - 0s 40ms/step - loss: 1.1735 - accuracy: 0.9160 - val_loss: 8.6197 - val_accuracy: 0.6080\n",
      "Epoch 18/20\n",
      "10/10 [==============================] - 0s 40ms/step - loss: 1.0976 - accuracy: 0.8960 - val_loss: 9.1626 - val_accuracy: 0.6280\n",
      "Epoch 19/20\n",
      "10/10 [==============================] - 0s 44ms/step - loss: 1.2939 - accuracy: 0.8800 - val_loss: 9.4124 - val_accuracy: 0.6440\n",
      "Epoch 20/20\n",
      "10/10 [==============================] - 0s 48ms/step - loss: 1.1632 - accuracy: 0.9000 - val_loss: 9.6049 - val_accuracy: 0.6440\n",
      "INFO:tensorflow:Assets written to: unsafe3.hd5/assets\n",
      "Model parameters are within recommended ranges.\n",
      "\n",
      "INFO:tensorflow:Assets written to: unsafe3.hd5/assets\n"
     ]
    },
    {
     "name": "stderr",
     "output_type": "stream",
     "text": [
      "_obj_reference_counts_dict cannot be copied\n",
      "...<class 'TypeError'> error; cannot pickle '_thread.RLock' object\n",
      "_thread_local cannot be copied\n",
      "...<class 'TypeError'> error; cannot pickle '_thread._local' object\n",
      "_metrics_lock cannot be copied\n",
      "...<class 'TypeError'> error; cannot pickle '_thread.lock' object\n"
     ]
    },
    {
     "name": "stdout",
     "output_type": "stream",
     "text": [
      "INFO:tensorflow:Assets written to: ram://e7c7f6c5-dcb5-43c2-a390-c9db8a34513f/assets\n"
     ]
    },
    {
     "name": "stderr",
     "output_type": "stream",
     "text": [
      "_trackable_saver cannot be copied\n",
      "...<class 'ValueError'> error; Unknown optimizer: DPOptimizerClass. Please ensure this object is passed to the `custom_objects` argument. See https://www.tensorflow.org/guide/keras/save_and_serialize#registering_the_custom_object for details.\n",
      "_self_unconditional_checkpoint_dependencies cannot be copied\n",
      "...<class 'TypeError'> error; cannot pickle '_thread.RLock' object\n",
      "_self_unconditional_dependency_names cannot be copied\n",
      "...<class 'TypeError'> error; cannot pickle '_thread.RLock' object\n",
      "compiled_loss cannot be copied\n",
      "...<class 'TypeError'> error; cannot pickle '_thread.RLock' object\n",
      "compiled_metrics cannot be copied\n",
      "...<class 'TypeError'> error; cannot pickle '_thread.RLock' object\n"
     ]
    },
    {
     "name": "stdout",
     "output_type": "stream",
     "text": [
      "INFO:tensorflow:Assets written to: ram://bf2db482-ad11-4f3f-96c4-8d107c202024/assets\n"
     ]
    },
    {
     "name": "stderr",
     "output_type": "stream",
     "text": [
      "history cannot be copied\n",
      "...<class 'ValueError'> error; Unknown optimizer: DPOptimizerClass. Please ensure this object is passed to the `custom_objects` argument. See https://www.tensorflow.org/guide/keras/save_and_serialize#registering_the_custom_object for details.\n",
      "train_function cannot be copied\n",
      "...<class 'TypeError'> error; cannot pickle '_thread.RLock' object\n",
      "test_function cannot be copied\n",
      "...<class 'TypeError'> error; cannot pickle '_thread.RLock' object\n",
      "train_tf_function cannot be copied\n",
      "...<class 'TypeError'> error; cannot pickle '_thread.RLock' object\n"
     ]
    },
    {
     "name": "stdout",
     "output_type": "stream",
     "text": [
      "<tensorflow_privacy.privacy.optimizers.dp_optimizer_keras.make_keras_optimizer_class.<locals>.DPOptimizerClass object at 0x7fd587a12460>\n",
      "<tensorflow_privacy.privacy.optimizers.dp_optimizer_keras.make_keras_optimizer_class.<locals>.DPOptimizerClass object at 0x7fd587a12460>\n",
      "DP-SGD with sampling rate = 10% and noise_multiplier = 0.9 iterated over 200 steps satisfies differential privacy with eps = 13.5 and delta = 1e-05.\n",
      "The optimal RDP order is 2.5.\n"
     ]
    }
   ],
   "source": [
    "# change another model params in an  unsafe way\n",
    "importlib.reload(safemodel.safemodel)\n",
    "importlib.reload(safemodel.classifiers.safekeras)\n",
    "from safemodel.classifiers.safekeras import Safe_KerasModel\n",
    "\n",
    "print(\"\\n***Test 3: researcher changes string params unsafely\")\n",
    "safeKerasModel4 = Safe_KerasModel(inputs= input_data, outputs=output,name=\"safekerasmodel3-test\", delta=-1)\n",
    "safeKerasModel4.compile(loss=loss)\n",
    "#safeKerasModel3.optimizer=\"Adam\"\n",
    "safeKerasModel4.fit(Xt_member, \n",
    "                    yt_member, \n",
    "                    validation_data=(Xt_nonmember, yt_nonmember),\n",
    "                    epochs=epochs, \n",
    "                    batch_size=batch_size)\n",
    "safeKerasModel4.save(\"unsafe3.hd5\")\n",
    "safeKerasModel4.preliminary_check()\n",
    "safeKerasModel4.request_release(filename=\"unsafe3.hd5\")"
   ]
  },
  {
   "cell_type": "markdown",
   "metadata": {},
   "source": [
    "## Test 5: researcher changes params unsafely\n",
    "input: l2_norm_clip=0.9, noise_multipier=0.4, min_epsilon=9,delta=-1\n",
    "\n",
    "Expected Result:\n",
    "\n",
    "WARNING: model parameters may present a disclosure risk:\n",
    "- parameter l2_norm_clip = 0.9 identified as less than the recommended min value of 1.0.\n",
    "Changed parameter l2_norm_clip = 1.0.\n",
    "- parameter min_epsilon = 9 identified as less than the recommended min value of 10.\n",
    "Changed parameter min_epsilon = 10.\n",
    "- parameter delta = -1 identified as less than the recommended min value of 1e-05.\n",
    "Changed parameter delta = 1e-05."
   ]
  },
  {
   "cell_type": "code",
   "execution_count": 26,
   "metadata": {
    "scrolled": true
   },
   "outputs": [
    {
     "name": "stdout",
     "output_type": "stream",
     "text": [
      "\n",
      "***Test 5: researcher changes string and numeric params unsafely\n",
      "args is a <class 'tuple'> = ()  kwargs is a <class 'dict'>= {'inputs': <KerasTensor: shape=(None, 300) dtype=float32 (created by layer 'input_1')>, 'outputs': <KerasTensor: shape=(None, 2) dtype=float32 (created by layer 'dense_3')>, 'name': 'safekerasmodel3-test', 'l2_norm_clip': 0.9, 'noise_multipier': 0.4, 'min_epsilon': 9, 'delta': -1}\n",
      "inputs is in kwargs.keys\n",
      "KerasTensor(type_spec=TensorSpec(shape=(None, 300), dtype=tf.float32, name='input_1'), name='input_1', description=\"created by layer 'input_1'\")\n",
      "WARNING: model parameters may present a disclosure risk:\n",
      "- parameter l2_norm_clip = 0.9 identified as less than the recommended min value of 1.0.\n",
      "Changed parameter l2_norm_clip = 1.0.\n",
      "- parameter noise_multiplier = 0.5 identified as less than the recommended min value of 0.9.\n",
      "Changed parameter noise_multiplier = 0.9.\n",
      "- parameter min_epsilon = 9 identified as less than the recommended min value of 10.\n",
      "Changed parameter min_epsilon = 10.\n",
      "- parameter delta = -1 identified as less than the recommended min value of 1e-05.\n",
      "Changed parameter delta = 1e-05.\n",
      "\n",
      "Changed parameter optimizer = 'DPKerasSGDOptimizer'\n",
      "DP optimizer used = False\n",
      "optimizer has been changed but fit() has not been rerun.\n",
      "(250, 300)\n",
      "DP-SGD with sampling rate = 10% and noise_multiplier = 0.9 iterated over 200 steps satisfies differential privacy with eps = 13.5 and delta = 1e-05.\n",
      "The optimal RDP order is 2.5.\n",
      "Current epsilon is 13.508764316908554\n",
      "The requirements for DP are not met, current epsilon is: 13.508764316908554. To attain true DP the following parameters can be changed:  Num Samples = 250, batch_size = 25, epochs = 20\n",
      "This will not result in a Differentially Private model do you want to continue [Y/N]y\n",
      "Continuing\n",
      "Epoch 1/20\n",
      "10/10 [==============================] - 3s 54ms/step - loss: 1.2074 - accuracy: 0.8920 - val_loss: 9.3855 - val_accuracy: 0.6080\n",
      "Epoch 2/20\n",
      "10/10 [==============================] - 0s 41ms/step - loss: 0.9563 - accuracy: 0.9240 - val_loss: 8.9845 - val_accuracy: 0.6480\n",
      "Epoch 3/20\n",
      "10/10 [==============================] - 0s 42ms/step - loss: 0.9570 - accuracy: 0.9080 - val_loss: 9.5134 - val_accuracy: 0.6360\n",
      "Epoch 4/20\n",
      "10/10 [==============================] - 0s 40ms/step - loss: 1.1203 - accuracy: 0.9080 - val_loss: 9.4651 - val_accuracy: 0.6280\n",
      "Epoch 5/20\n",
      "10/10 [==============================] - 0s 43ms/step - loss: 1.0271 - accuracy: 0.9080 - val_loss: 9.8408 - val_accuracy: 0.6560\n",
      "Epoch 6/20\n",
      "10/10 [==============================] - 0s 39ms/step - loss: 0.6585 - accuracy: 0.9120 - val_loss: 10.0869 - val_accuracy: 0.6560\n",
      "Epoch 7/20\n",
      "10/10 [==============================] - 0s 40ms/step - loss: 0.6434 - accuracy: 0.9240 - val_loss: 10.1273 - val_accuracy: 0.6600\n",
      "Epoch 8/20\n",
      "10/10 [==============================] - 0s 43ms/step - loss: 0.8541 - accuracy: 0.9080 - val_loss: 10.4721 - val_accuracy: 0.6400\n",
      "Epoch 9/20\n",
      "10/10 [==============================] - 0s 43ms/step - loss: 0.7343 - accuracy: 0.9520 - val_loss: 10.2784 - val_accuracy: 0.6320\n",
      "Epoch 10/20\n",
      "10/10 [==============================] - 0s 39ms/step - loss: 0.7642 - accuracy: 0.9400 - val_loss: 10.3914 - val_accuracy: 0.6400\n",
      "Epoch 11/20\n",
      "10/10 [==============================] - 0s 44ms/step - loss: 0.7837 - accuracy: 0.9520 - val_loss: 11.0493 - val_accuracy: 0.6280\n",
      "Epoch 12/20\n",
      "10/10 [==============================] - 0s 42ms/step - loss: 1.0206 - accuracy: 0.9240 - val_loss: 10.7658 - val_accuracy: 0.6480\n",
      "Epoch 13/20\n",
      "10/10 [==============================] - 0s 37ms/step - loss: 1.1060 - accuracy: 0.9080 - val_loss: 10.7400 - val_accuracy: 0.6320\n",
      "Epoch 14/20\n",
      "10/10 [==============================] - 0s 50ms/step - loss: 1.2329 - accuracy: 0.9040 - val_loss: 10.7878 - val_accuracy: 0.6400\n",
      "Epoch 15/20\n",
      "10/10 [==============================] - 1s 87ms/step - loss: 1.2087 - accuracy: 0.9000 - val_loss: 11.2018 - val_accuracy: 0.6360\n",
      "Epoch 16/20\n",
      "10/10 [==============================] - 0s 48ms/step - loss: 1.0344 - accuracy: 0.9120 - val_loss: 10.9388 - val_accuracy: 0.6240\n",
      "Epoch 17/20\n",
      "10/10 [==============================] - 0s 47ms/step - loss: 1.0707 - accuracy: 0.9080 - val_loss: 11.5102 - val_accuracy: 0.6400\n",
      "Epoch 18/20\n",
      "10/10 [==============================] - 1s 75ms/step - loss: 1.0709 - accuracy: 0.9200 - val_loss: 12.0854 - val_accuracy: 0.6280\n",
      "Epoch 19/20\n",
      "10/10 [==============================] - 1s 67ms/step - loss: 1.3311 - accuracy: 0.8960 - val_loss: 11.9979 - val_accuracy: 0.6160\n",
      "Epoch 20/20\n",
      "10/10 [==============================] - 1s 67ms/step - loss: 1.5865 - accuracy: 0.8800 - val_loss: 11.6765 - val_accuracy: 0.6240\n",
      "INFO:tensorflow:Assets written to: unsafe4.hd5/assets\n",
      "Model parameters are within recommended ranges.\n",
      "\n",
      "INFO:tensorflow:Assets written to: unsafe4.hd5/assets\n"
     ]
    },
    {
     "name": "stderr",
     "output_type": "stream",
     "text": [
      "_obj_reference_counts_dict cannot be copied\n",
      "...<class 'TypeError'> error; cannot pickle '_thread.RLock' object\n",
      "_thread_local cannot be copied\n",
      "...<class 'TypeError'> error; cannot pickle '_thread._local' object\n",
      "_metrics_lock cannot be copied\n",
      "...<class 'TypeError'> error; cannot pickle '_thread.lock' object\n"
     ]
    },
    {
     "name": "stdout",
     "output_type": "stream",
     "text": [
      "INFO:tensorflow:Assets written to: ram://894cf606-9baa-43d7-be53-b401094b4aff/assets\n"
     ]
    },
    {
     "name": "stderr",
     "output_type": "stream",
     "text": [
      "_trackable_saver cannot be copied\n",
      "...<class 'ValueError'> error; Unknown optimizer: DPOptimizerClass. Please ensure this object is passed to the `custom_objects` argument. See https://www.tensorflow.org/guide/keras/save_and_serialize#registering_the_custom_object for details.\n",
      "_self_unconditional_checkpoint_dependencies cannot be copied\n",
      "...<class 'TypeError'> error; cannot pickle '_thread.RLock' object\n",
      "_self_unconditional_dependency_names cannot be copied\n",
      "...<class 'TypeError'> error; cannot pickle '_thread.RLock' object\n",
      "compiled_loss cannot be copied\n",
      "...<class 'TypeError'> error; cannot pickle '_thread.RLock' object\n",
      "compiled_metrics cannot be copied\n",
      "...<class 'TypeError'> error; cannot pickle '_thread.RLock' object\n"
     ]
    },
    {
     "name": "stdout",
     "output_type": "stream",
     "text": [
      "INFO:tensorflow:Assets written to: ram://fa9a7d7e-8918-470c-b19d-4c4931579a00/assets\n"
     ]
    },
    {
     "name": "stderr",
     "output_type": "stream",
     "text": [
      "history cannot be copied\n",
      "...<class 'ValueError'> error; Unknown optimizer: DPOptimizerClass. Please ensure this object is passed to the `custom_objects` argument. See https://www.tensorflow.org/guide/keras/save_and_serialize#registering_the_custom_object for details.\n",
      "train_function cannot be copied\n",
      "...<class 'TypeError'> error; cannot pickle '_thread.RLock' object\n",
      "test_function cannot be copied\n",
      "...<class 'TypeError'> error; cannot pickle '_thread.RLock' object\n",
      "train_tf_function cannot be copied\n",
      "...<class 'TypeError'> error; cannot pickle '_thread.RLock' object\n"
     ]
    },
    {
     "name": "stdout",
     "output_type": "stream",
     "text": [
      "<tensorflow_privacy.privacy.optimizers.dp_optimizer_keras.make_keras_optimizer_class.<locals>.DPOptimizerClass object at 0x7fd5840732b0>\n",
      "<tensorflow_privacy.privacy.optimizers.dp_optimizer_keras.make_keras_optimizer_class.<locals>.DPOptimizerClass object at 0x7fd5840732b0>\n",
      "DP-SGD with sampling rate = 10% and noise_multiplier = 0.9 iterated over 200 steps satisfies differential privacy with eps = 13.5 and delta = 1e-05.\n",
      "The optimal RDP order is 2.5.\n"
     ]
    }
   ],
   "source": [
    "# change another model params in an  unsafe way\n",
    "print(\"\\n***Test 5: researcher changes string and numeric params unsafely\")\n",
    "\n",
    "importlib.reload(safemodel.safemodel)\n",
    "importlib.reload(safemodel.classifiers.safekeras)\n",
    "from safemodel.classifiers.safekeras import Safe_KerasModel\n",
    "\n",
    "\n",
    "safeKerasModel4 = Safe_KerasModel(inputs= input_data, outputs=output,name=\"safekerasmodel3-test\", l2_norm_clip=0.9, noise_multipier=0.4, min_epsilon=9,delta=-1)\n",
    "safeKerasModel4.compile(loss=loss)\n",
    "safeKerasModel4.fit(Xt_member, \n",
    "                    yt_member, \n",
    "                    validation_data=(Xt_nonmember, yt_nonmember),\n",
    "                    epochs=epochs, \n",
    "                    batch_size=batch_size)\n",
    "safeKerasModel4.save(\"unsafe4.hd5\")\n",
    "safeKerasModel4.preliminary_check()\n",
    "safeKerasModel4.request_release(filename=\"unsafe4.hd5\")"
   ]
  },
  {
   "cell_type": "markdown",
   "metadata": {},
   "source": [
    "## Test 6 researcher changes params unsafely\n",
    "\n",
    "Expected result:\n",
    "\n",
    "Input optimizer = wobble\n",
    "\n",
    "WARNING: model parameters may present a disclosure risk\n",
    "Unknown optimizer wobble - Changed parameter optimizer = 'DPKerasSGDOptimizer'"
   ]
  },
  {
   "cell_type": "code",
   "execution_count": 27,
   "metadata": {},
   "outputs": [
    {
     "name": "stdout",
     "output_type": "stream",
     "text": [
      "\n",
      "***Test 6: researcher changes string and numeric params unsafely\n",
      "args is a <class 'tuple'> = ()  kwargs is a <class 'dict'>= {'inputs': <KerasTensor: shape=(None, 300) dtype=float32 (created by layer 'input_1')>, 'outputs': <KerasTensor: shape=(None, 2) dtype=float32 (created by layer 'dense_3')>, 'name': 'safekerasmodel6-test', 'optimizer': 'wobble'}\n",
      "inputs is in kwargs.keys\n",
      "KerasTensor(type_spec=TensorSpec(shape=(None, 300), dtype=tf.float32, name='input_1'), name='input_1', description=\"created by layer 'input_1'\")\n",
      "WARNING: model parameters may present a disclosure risk:\n",
      "- parameter noise_multiplier = 0.5 identified as less than the recommended min value of 0.9.\n",
      "Changed parameter noise_multiplier = 0.9.\n",
      "\n",
      "WARNING: model parameters may present a disclosure risk\n",
      "Unknown optimizer wobble - Changed parameter optimizer = 'DPKerasSGDOptimizer'\n",
      "DP optimizer used = False\n",
      "optimizer has been changed but fit() has not been rerun.\n",
      "(250, 300)\n",
      "DP-SGD with sampling rate = 10% and noise_multiplier = 0.9 iterated over 200 steps satisfies differential privacy with eps = 13.5 and delta = 1e-05.\n",
      "The optimal RDP order is 2.5.\n",
      "Current epsilon is 13.508764316908554\n",
      "The requirements for DP are not met, current epsilon is: 13.508764316908554. To attain true DP the following parameters can be changed:  Num Samples = 250, batch_size = 25, epochs = 20\n",
      "This will not result in a Differentially Private model do you want to continue [Y/N]y\n",
      "Continuing\n",
      "Epoch 1/20\n",
      "10/10 [==============================] - 3s 51ms/step - loss: 1.3322 - accuracy: 0.8920 - val_loss: 11.6358 - val_accuracy: 0.6360\n",
      "Epoch 2/20\n",
      "10/10 [==============================] - 0s 37ms/step - loss: 1.1655 - accuracy: 0.8800 - val_loss: 11.9613 - val_accuracy: 0.6280\n",
      "Epoch 3/20\n",
      "10/10 [==============================] - 0s 40ms/step - loss: 0.9120 - accuracy: 0.9080 - val_loss: 11.9902 - val_accuracy: 0.6280\n",
      "Epoch 4/20\n",
      "10/10 [==============================] - 0s 37ms/step - loss: 0.9555 - accuracy: 0.9080 - val_loss: 11.3402 - val_accuracy: 0.6400\n",
      "Epoch 5/20\n",
      "10/10 [==============================] - 0s 37ms/step - loss: 1.2250 - accuracy: 0.8920 - val_loss: 11.0663 - val_accuracy: 0.6320\n",
      "Epoch 6/20\n",
      "10/10 [==============================] - 0s 34ms/step - loss: 1.1722 - accuracy: 0.8920 - val_loss: 11.4647 - val_accuracy: 0.6640\n",
      "Epoch 7/20\n",
      "10/10 [==============================] - 0s 41ms/step - loss: 1.3447 - accuracy: 0.8800 - val_loss: 11.8753 - val_accuracy: 0.6440\n",
      "Epoch 8/20\n",
      "10/10 [==============================] - 0s 35ms/step - loss: 1.2081 - accuracy: 0.8880 - val_loss: 12.0902 - val_accuracy: 0.6600\n",
      "Epoch 9/20\n",
      "10/10 [==============================] - 0s 39ms/step - loss: 1.0643 - accuracy: 0.9080 - val_loss: 11.9067 - val_accuracy: 0.6720\n",
      "Epoch 10/20\n",
      "10/10 [==============================] - 0s 44ms/step - loss: 1.2750 - accuracy: 0.8680 - val_loss: 12.5566 - val_accuracy: 0.6840\n",
      "Epoch 11/20\n",
      "10/10 [==============================] - 0s 43ms/step - loss: 1.1954 - accuracy: 0.8960 - val_loss: 13.2829 - val_accuracy: 0.6400\n",
      "Epoch 12/20\n",
      "10/10 [==============================] - 0s 41ms/step - loss: 1.7928 - accuracy: 0.8680 - val_loss: 12.7968 - val_accuracy: 0.6600\n",
      "Epoch 13/20\n",
      "10/10 [==============================] - 0s 40ms/step - loss: 1.9425 - accuracy: 0.8760 - val_loss: 13.9361 - val_accuracy: 0.6600\n",
      "Epoch 14/20\n",
      "10/10 [==============================] - 0s 43ms/step - loss: 1.9334 - accuracy: 0.8760 - val_loss: 13.7289 - val_accuracy: 0.6480\n",
      "Epoch 15/20\n",
      "10/10 [==============================] - 0s 43ms/step - loss: 2.1886 - accuracy: 0.8680 - val_loss: 14.6043 - val_accuracy: 0.6560\n",
      "Epoch 16/20\n",
      "10/10 [==============================] - 0s 41ms/step - loss: 2.2496 - accuracy: 0.8840 - val_loss: 14.1941 - val_accuracy: 0.6560\n",
      "Epoch 17/20\n",
      "10/10 [==============================] - 0s 42ms/step - loss: 2.1911 - accuracy: 0.8640 - val_loss: 15.2004 - val_accuracy: 0.6640\n",
      "Epoch 18/20\n",
      "10/10 [==============================] - 0s 42ms/step - loss: 2.2823 - accuracy: 0.8640 - val_loss: 14.8702 - val_accuracy: 0.6440\n",
      "Epoch 19/20\n",
      "10/10 [==============================] - 0s 39ms/step - loss: 2.4438 - accuracy: 0.8600 - val_loss: 14.6974 - val_accuracy: 0.6400\n",
      "Epoch 20/20\n",
      "10/10 [==============================] - 1s 116ms/step - loss: 2.5805 - accuracy: 0.8840 - val_loss: 15.4534 - val_accuracy: 0.6440\n",
      "INFO:tensorflow:Assets written to: unsafe6.hd5/assets\n",
      "Model parameters are within recommended ranges.\n",
      "\n",
      "INFO:tensorflow:Assets written to: unsafe6.hd5/assets\n"
     ]
    },
    {
     "name": "stderr",
     "output_type": "stream",
     "text": [
      "_obj_reference_counts_dict cannot be copied\n",
      "...<class 'TypeError'> error; cannot pickle '_thread.RLock' object\n",
      "_thread_local cannot be copied\n",
      "...<class 'TypeError'> error; cannot pickle '_thread._local' object\n",
      "_metrics_lock cannot be copied\n",
      "...<class 'TypeError'> error; cannot pickle '_thread.lock' object\n"
     ]
    },
    {
     "name": "stdout",
     "output_type": "stream",
     "text": [
      "INFO:tensorflow:Assets written to: ram://b93dd03c-a2bf-4b8e-ba06-755f5fc8779d/assets\n"
     ]
    },
    {
     "name": "stderr",
     "output_type": "stream",
     "text": [
      "_trackable_saver cannot be copied\n",
      "...<class 'ValueError'> error; Unknown optimizer: DPOptimizerClass. Please ensure this object is passed to the `custom_objects` argument. See https://www.tensorflow.org/guide/keras/save_and_serialize#registering_the_custom_object for details.\n",
      "_self_unconditional_checkpoint_dependencies cannot be copied\n",
      "...<class 'TypeError'> error; cannot pickle '_thread.RLock' object\n",
      "_self_unconditional_dependency_names cannot be copied\n",
      "...<class 'TypeError'> error; cannot pickle '_thread.RLock' object\n",
      "compiled_loss cannot be copied\n",
      "...<class 'TypeError'> error; cannot pickle '_thread.RLock' object\n",
      "compiled_metrics cannot be copied\n",
      "...<class 'TypeError'> error; cannot pickle '_thread.RLock' object\n"
     ]
    },
    {
     "name": "stdout",
     "output_type": "stream",
     "text": [
      "INFO:tensorflow:Assets written to: ram://1c8286f0-f27c-4b66-b2e0-0ce3d40d5847/assets\n"
     ]
    },
    {
     "name": "stderr",
     "output_type": "stream",
     "text": [
      "history cannot be copied\n",
      "...<class 'ValueError'> error; Unknown optimizer: DPOptimizerClass. Please ensure this object is passed to the `custom_objects` argument. See https://www.tensorflow.org/guide/keras/save_and_serialize#registering_the_custom_object for details.\n",
      "train_function cannot be copied\n",
      "...<class 'TypeError'> error; cannot pickle '_thread.RLock' object\n",
      "test_function cannot be copied\n",
      "...<class 'TypeError'> error; cannot pickle '_thread.RLock' object\n",
      "train_tf_function cannot be copied\n",
      "...<class 'TypeError'> error; cannot pickle '_thread.RLock' object\n"
     ]
    },
    {
     "name": "stdout",
     "output_type": "stream",
     "text": [
      "<tensorflow_privacy.privacy.optimizers.dp_optimizer_keras.make_keras_optimizer_class.<locals>.DPOptimizerClass object at 0x7fd587a11730>\n",
      "<tensorflow_privacy.privacy.optimizers.dp_optimizer_keras.make_keras_optimizer_class.<locals>.DPOptimizerClass object at 0x7fd587a11730>\n",
      "DP-SGD with sampling rate = 10% and noise_multiplier = 0.9 iterated over 200 steps satisfies differential privacy with eps = 13.5 and delta = 1e-05.\n",
      "The optimal RDP order is 2.5.\n"
     ]
    }
   ],
   "source": [
    "importlib.reload(safemodel.safemodel)\n",
    "importlib.reload(safemodel.classifiers.safekeras)\n",
    "from safemodel.classifiers.safekeras import Safe_KerasModel\n",
    "\n",
    "# change another model params in an  unsafe way but tells preliminary_check() not to overwrite params\n",
    "print(\"\\n***Test 6: researcher changes string and numeric params unsafely\")\n",
    "safeKerasModel6 = Safe_KerasModel(inputs= input_data, outputs=output,name=\"safekerasmodel6-test\", optimizer=\"wobble\")\n",
    "safeKerasModel6.compile(loss=loss)\n",
    "safeKerasModel6.fit(Xt_member, \n",
    "                    yt_member, \n",
    "                    validation_data=(Xt_nonmember, yt_nonmember),\n",
    "                    epochs=epochs, \n",
    "                    batch_size=batch_size)\n",
    "safeKerasModel6.save(\"unsafe6.hd5\")\n",
    "\n",
    "safeKerasModel6.preliminary_check(apply_constraints=False)\n",
    "safeKerasModel6.request_release(filename=\"unsafe6.hd5\")"
   ]
  },
  {
   "cell_type": "markdown",
   "metadata": {},
   "source": [
    "## Test 7 researcher changes params unsafely\n",
    "\n",
    "Inputs:\n",
    "\n",
    "Input optimizer = Adam\n",
    "\n",
    "Expected Result:\n",
    "\n",
    "WARNING: model parameters may present a disclosure risk\n",
    "Changed parameter optimizer = 'DPKerasAdamOptimizer'"
   ]
  },
  {
   "cell_type": "code",
   "execution_count": 28,
   "metadata": {},
   "outputs": [
    {
     "name": "stdout",
     "output_type": "stream",
     "text": [
      "\n",
      "***Test 7: researcher changes string and numeric params unsafely\n",
      "args is a <class 'tuple'> = ()  kwargs is a <class 'dict'>= {'inputs': <KerasTensor: shape=(None, 300) dtype=float32 (created by layer 'input_1')>, 'outputs': <KerasTensor: shape=(None, 2) dtype=float32 (created by layer 'dense_3')>, 'name': 'safekerasmodel6-test', 'optimizer': 'Adam'}\n",
      "inputs is in kwargs.keys\n",
      "KerasTensor(type_spec=TensorSpec(shape=(None, 300), dtype=tf.float32, name='input_1'), name='input_1', description=\"created by layer 'input_1'\")\n",
      "WARNING: model parameters may present a disclosure risk:\n",
      "- parameter noise_multiplier = 0.5 identified as less than the recommended min value of 0.9.\n",
      "Changed parameter noise_multiplier = 0.9.\n",
      "\n",
      "WARNING: model parameters may present a disclosure risk\n",
      "Changed parameter optimizer = 'DPKerasAdamOptimizer'\n",
      "DP optimizer used = False\n",
      "optimizer has been changed but fit() has not been rerun.\n",
      "(250, 300)\n",
      "DP-SGD with sampling rate = 10% and noise_multiplier = 0.9 iterated over 200 steps satisfies differential privacy with eps = 13.5 and delta = 1e-05.\n",
      "The optimal RDP order is 2.5.\n",
      "Current epsilon is 13.508764316908554\n",
      "The requirements for DP are not met, current epsilon is: 13.508764316908554. To attain true DP the following parameters can be changed:  Num Samples = 250, batch_size = 25, epochs = 20\n",
      "This will not result in a Differentially Private model do you want to continue [Y/N]y\n",
      "Continuing\n",
      "Epoch 1/20\n",
      "10/10 [==============================] - 3s 50ms/step - loss: 242.8834 - accuracy: 0.5920 - val_loss: 728.1970 - val_accuracy: 0.5000\n",
      "Epoch 2/20\n",
      "10/10 [==============================] - 0s 36ms/step - loss: 1137.4205 - accuracy: 0.5760 - val_loss: 1887.6703 - val_accuracy: 0.5040\n",
      "Epoch 3/20\n",
      "10/10 [==============================] - 0s 37ms/step - loss: 1954.1859 - accuracy: 0.5880 - val_loss: 2955.0239 - val_accuracy: 0.5000\n",
      "Epoch 4/20\n",
      "10/10 [==============================] - 0s 43ms/step - loss: 3245.2800 - accuracy: 0.5600 - val_loss: 4751.2173 - val_accuracy: 0.4760\n",
      "Epoch 5/20\n",
      "10/10 [==============================] - 0s 38ms/step - loss: 3809.1782 - accuracy: 0.5480 - val_loss: 5574.1650 - val_accuracy: 0.5240\n",
      "Epoch 6/20\n",
      "10/10 [==============================] - 0s 43ms/step - loss: 4329.4980 - accuracy: 0.6200 - val_loss: 6886.0225 - val_accuracy: 0.5280\n",
      "Epoch 7/20\n",
      "10/10 [==============================] - 0s 36ms/step - loss: 5808.9551 - accuracy: 0.6520 - val_loss: 9127.7100 - val_accuracy: 0.5560\n",
      "Epoch 8/20\n",
      "10/10 [==============================] - 0s 37ms/step - loss: 6910.0869 - accuracy: 0.6120 - val_loss: 11163.4893 - val_accuracy: 0.5280\n",
      "Epoch 9/20\n",
      "10/10 [==============================] - 0s 42ms/step - loss: 7350.5952 - accuracy: 0.6360 - val_loss: 13137.9648 - val_accuracy: 0.5240\n",
      "Epoch 10/20\n",
      "10/10 [==============================] - 0s 39ms/step - loss: 7901.7397 - accuracy: 0.6200 - val_loss: 14367.2559 - val_accuracy: 0.5400\n",
      "Epoch 11/20\n",
      "10/10 [==============================] - 0s 41ms/step - loss: 10893.1133 - accuracy: 0.5920 - val_loss: 19160.8145 - val_accuracy: 0.5280\n",
      "Epoch 12/20\n",
      "10/10 [==============================] - 0s 42ms/step - loss: 12767.4395 - accuracy: 0.5960 - val_loss: 21059.5957 - val_accuracy: 0.5360\n",
      "Epoch 13/20\n",
      "10/10 [==============================] - 0s 41ms/step - loss: 13455.0596 - accuracy: 0.6240 - val_loss: 25533.5781 - val_accuracy: 0.5760\n",
      "Epoch 14/20\n",
      "10/10 [==============================] - 0s 38ms/step - loss: 14898.4971 - accuracy: 0.6320 - val_loss: 23854.5527 - val_accuracy: 0.5080\n",
      "Epoch 15/20\n",
      "10/10 [==============================] - 0s 39ms/step - loss: 13985.8906 - accuracy: 0.6720 - val_loss: 27607.1660 - val_accuracy: 0.5280\n",
      "Epoch 16/20\n",
      "10/10 [==============================] - 0s 33ms/step - loss: 14564.2100 - accuracy: 0.6720 - val_loss: 37618.1953 - val_accuracy: 0.5240\n",
      "Epoch 17/20\n",
      "10/10 [==============================] - 0s 35ms/step - loss: 19122.4609 - accuracy: 0.6440 - val_loss: 48980.1055 - val_accuracy: 0.5040\n",
      "Epoch 18/20\n",
      "10/10 [==============================] - 0s 44ms/step - loss: 23578.8320 - accuracy: 0.6120 - val_loss: 45717.7461 - val_accuracy: 0.4880\n",
      "Epoch 19/20\n",
      "10/10 [==============================] - 0s 39ms/step - loss: 23267.4512 - accuracy: 0.6600 - val_loss: 46204.8672 - val_accuracy: 0.4920\n",
      "Epoch 20/20\n",
      "10/10 [==============================] - 0s 40ms/step - loss: 27027.1133 - accuracy: 0.6040 - val_loss: 48422.9414 - val_accuracy: 0.4800\n",
      "INFO:tensorflow:Assets written to: unsafe7.hd5/assets\n",
      "Model parameters are within recommended ranges.\n",
      "\n",
      "INFO:tensorflow:Assets written to: unsafe7.hd5/assets\n"
     ]
    },
    {
     "name": "stderr",
     "output_type": "stream",
     "text": [
      "_obj_reference_counts_dict cannot be copied\n",
      "...<class 'TypeError'> error; cannot pickle '_thread.RLock' object\n",
      "_thread_local cannot be copied\n",
      "...<class 'TypeError'> error; cannot pickle '_thread._local' object\n",
      "_metrics_lock cannot be copied\n",
      "...<class 'TypeError'> error; cannot pickle '_thread.lock' object\n"
     ]
    },
    {
     "name": "stdout",
     "output_type": "stream",
     "text": [
      "INFO:tensorflow:Assets written to: ram://09574bbb-4cd4-4446-8d83-521d19d19982/assets\n"
     ]
    },
    {
     "name": "stderr",
     "output_type": "stream",
     "text": [
      "_trackable_saver cannot be copied\n",
      "...<class 'ValueError'> error; Unknown optimizer: DPOptimizerClass. Please ensure this object is passed to the `custom_objects` argument. See https://www.tensorflow.org/guide/keras/save_and_serialize#registering_the_custom_object for details.\n",
      "_self_unconditional_checkpoint_dependencies cannot be copied\n",
      "...<class 'TypeError'> error; cannot pickle '_thread.RLock' object\n",
      "_self_unconditional_dependency_names cannot be copied\n",
      "...<class 'TypeError'> error; cannot pickle '_thread.RLock' object\n",
      "compiled_loss cannot be copied\n",
      "...<class 'TypeError'> error; cannot pickle '_thread.RLock' object\n",
      "compiled_metrics cannot be copied\n",
      "...<class 'TypeError'> error; cannot pickle '_thread.RLock' object\n"
     ]
    },
    {
     "name": "stdout",
     "output_type": "stream",
     "text": [
      "INFO:tensorflow:Assets written to: ram://6f62ca4a-8320-4d9a-baeb-aef2cfe5cdba/assets\n"
     ]
    },
    {
     "name": "stderr",
     "output_type": "stream",
     "text": [
      "history cannot be copied\n",
      "...<class 'ValueError'> error; Unknown optimizer: DPOptimizerClass. Please ensure this object is passed to the `custom_objects` argument. See https://www.tensorflow.org/guide/keras/save_and_serialize#registering_the_custom_object for details.\n",
      "train_function cannot be copied\n",
      "...<class 'TypeError'> error; cannot pickle '_thread.RLock' object\n",
      "test_function cannot be copied\n",
      "...<class 'TypeError'> error; cannot pickle '_thread.RLock' object\n",
      "train_tf_function cannot be copied\n",
      "...<class 'TypeError'> error; cannot pickle '_thread.RLock' object\n"
     ]
    },
    {
     "name": "stdout",
     "output_type": "stream",
     "text": [
      "<tensorflow_privacy.privacy.optimizers.dp_optimizer_keras.make_keras_optimizer_class.<locals>.DPOptimizerClass object at 0x7fd5840bb6d0>\n",
      "<tensorflow_privacy.privacy.optimizers.dp_optimizer_keras.make_keras_optimizer_class.<locals>.DPOptimizerClass object at 0x7fd5840bb6d0>\n",
      "DP-SGD with sampling rate = 10% and noise_multiplier = 0.9 iterated over 200 steps satisfies differential privacy with eps = 13.5 and delta = 1e-05.\n",
      "The optimal RDP order is 2.5.\n"
     ]
    }
   ],
   "source": [
    "importlib.reload(safemodel.safemodel)\n",
    "importlib.reload(safemodel.classifiers.safekeras)\n",
    "from safemodel.classifiers.safekeras import Safe_KerasModel\n",
    "\n",
    "# change another model params in an  unsafe way but tells preliminary_check() not to overwrite params\n",
    "print(\"\\n***Test 7: researcher changes string and numeric params unsafely\")\n",
    "safeKerasModel7 = Safe_KerasModel(inputs= input_data, outputs=output,name=\"safekerasmodel6-test\", optimizer=\"Adam\")\n",
    "safeKerasModel7.compile(loss=loss)\n",
    "safeKerasModel7.fit(Xt_member, \n",
    "                    yt_member, \n",
    "                    validation_data=(Xt_nonmember, yt_nonmember),\n",
    "                    epochs=epochs, \n",
    "                    batch_size=batch_size)\n",
    "safeKerasModel7.save(\"unsafe7.hd5\")\n",
    "\n",
    "safeKerasModel7.preliminary_check(apply_constraints=False)\n",
    "safeKerasModel7.request_release(filename=\"unsafe7.hd5\")"
   ]
  },
  {
   "cell_type": "markdown",
   "metadata": {},
   "source": [
    "### Dictionary Tests"
   ]
  },
  {
   "cell_type": "code",
   "execution_count": 29,
   "metadata": {},
   "outputs": [
    {
     "name": "stdout",
     "output_type": "stream",
     "text": [
      "\n",
      "***Test 8: researcher changes string and numeric params unsafely\n",
      "args is a <class 'tuple'> = ()  kwargs is a <class 'dict'>= {'inputs': <KerasTensor: shape=(None, 300) dtype=float32 (created by layer 'input_1')>, 'outputs': <KerasTensor: shape=(None, 2) dtype=float32 (created by layer 'dense_3')>, 'name': 'safekerasmodel6-test', 'optimizer': 'Adam'}\n",
      "inputs is in kwargs.keys\n",
      "KerasTensor(type_spec=TensorSpec(shape=(None, 300), dtype=tf.float32, name='input_1'), name='input_1', description=\"created by layer 'input_1'\")\n",
      "WARNING: model parameters may present a disclosure risk:\n",
      "- parameter noise_multiplier = 0.5 identified as less than the recommended min value of 0.9.\n",
      "Changed parameter noise_multiplier = 0.9.\n",
      "\n",
      "WARNING: model parameters may present a disclosure risk\n",
      "Changed parameter optimizer = 'DPKerasAdamOptimizer'\n",
      "DP optimizer used = False\n",
      "optimizer has been changed but fit() has not been rerun.\n",
      "(250, 300)\n",
      "DP-SGD with sampling rate = 10% and noise_multiplier = 0.9 iterated over 200 steps satisfies differential privacy with eps = 13.5 and delta = 1e-05.\n",
      "The optimal RDP order is 2.5.\n",
      "Current epsilon is 13.508764316908554\n",
      "The requirements for DP are not met, current epsilon is: 13.508764316908554. To attain true DP the following parameters can be changed:  Num Samples = 250, batch_size = 25, epochs = 20\n",
      "This will not result in a Differentially Private model do you want to continue [Y/N]y\n",
      "Continuing\n",
      "Epoch 1/20\n",
      "10/10 [==============================] - 3s 53ms/step - loss: 32938.7734 - accuracy: 0.6240 - val_loss: 54235.6523 - val_accuracy: 0.5320\n",
      "Epoch 2/20\n",
      "10/10 [==============================] - 0s 47ms/step - loss: 33747.8672 - accuracy: 0.6560 - val_loss: 68818.1016 - val_accuracy: 0.5080\n",
      "Epoch 3/20\n",
      "10/10 [==============================] - 0s 51ms/step - loss: 36675.5078 - accuracy: 0.6360 - val_loss: 76354.9531 - val_accuracy: 0.4960\n",
      "Epoch 4/20\n",
      "10/10 [==============================] - 0s 44ms/step - loss: 39420.8750 - accuracy: 0.6760 - val_loss: 79380.8047 - val_accuracy: 0.5200\n",
      "Epoch 5/20\n",
      "10/10 [==============================] - 0s 39ms/step - loss: 49007.3047 - accuracy: 0.6480 - val_loss: 84705.3906 - val_accuracy: 0.5400\n",
      "Epoch 6/20\n",
      "10/10 [==============================] - 0s 31ms/step - loss: 48100.1641 - accuracy: 0.6400 - val_loss: 96553.6797 - val_accuracy: 0.4840\n",
      "Epoch 7/20\n",
      "10/10 [==============================] - 0s 33ms/step - loss: 50205.1133 - accuracy: 0.6600 - val_loss: 92256.3594 - val_accuracy: 0.5400\n",
      "Epoch 8/20\n",
      "10/10 [==============================] - 0s 37ms/step - loss: 45265.8672 - accuracy: 0.6760 - val_loss: 100359.3516 - val_accuracy: 0.5160\n",
      "Epoch 9/20\n",
      "10/10 [==============================] - 0s 40ms/step - loss: 51797.9805 - accuracy: 0.6520 - val_loss: 100341.0234 - val_accuracy: 0.5160\n",
      "Epoch 10/20\n",
      "10/10 [==============================] - 0s 39ms/step - loss: 50983.4609 - accuracy: 0.6760 - val_loss: 97864.7422 - val_accuracy: 0.5400\n",
      "Epoch 11/20\n",
      "10/10 [==============================] - 0s 35ms/step - loss: 54227.3828 - accuracy: 0.6760 - val_loss: 101054.2188 - val_accuracy: 0.5640\n",
      "Epoch 12/20\n",
      "10/10 [==============================] - 1s 61ms/step - loss: 60772.7930 - accuracy: 0.6480 - val_loss: 101880.8906 - val_accuracy: 0.5400\n",
      "Epoch 13/20\n",
      "10/10 [==============================] - 0s 46ms/step - loss: 61763.9844 - accuracy: 0.6600 - val_loss: 102719.7266 - val_accuracy: 0.5400\n",
      "Epoch 14/20\n",
      "10/10 [==============================] - 0s 37ms/step - loss: 63161.0898 - accuracy: 0.6480 - val_loss: 105209.7031 - val_accuracy: 0.5560\n",
      "Epoch 15/20\n",
      "10/10 [==============================] - 0s 34ms/step - loss: 54210.3008 - accuracy: 0.6840 - val_loss: 110661.6094 - val_accuracy: 0.5360\n",
      "Epoch 16/20\n",
      "10/10 [==============================] - 1s 56ms/step - loss: 51583.5234 - accuracy: 0.7160 - val_loss: 115864.5234 - val_accuracy: 0.5360\n",
      "Epoch 17/20\n",
      "10/10 [==============================] - 1s 61ms/step - loss: 49144.8320 - accuracy: 0.7320 - val_loss: 120982.4219 - val_accuracy: 0.5280\n",
      "Epoch 18/20\n",
      "10/10 [==============================] - 1s 51ms/step - loss: 61818.7734 - accuracy: 0.6400 - val_loss: 143783.7500 - val_accuracy: 0.5360\n",
      "Epoch 19/20\n",
      "10/10 [==============================] - 0s 38ms/step - loss: 61453.5508 - accuracy: 0.6680 - val_loss: 157916.4219 - val_accuracy: 0.4920\n",
      "Epoch 20/20\n",
      "10/10 [==============================] - 1s 54ms/step - loss: 68056.0000 - accuracy: 0.6720 - val_loss: 164617.0625 - val_accuracy: 0.5240\n"
     ]
    }
   ],
   "source": [
    "import h5py\n",
    "importlib.reload(safemodel.safemodel)\n",
    "importlib.reload(safemodel.classifiers.safekeras)\n",
    "from safemodel.classifiers.safekeras import Safe_KerasModel\n",
    "\n",
    "# change another model params in an  unsafe way but tells preliminary_check() not to overwrite params\n",
    "print(\"\\n***Test 8: researcher changes string and numeric params unsafely\")\n",
    "safeKerasModel8 = Safe_KerasModel(inputs= input_data, outputs=output,name=\"safekerasmodel6-test\", optimizer=\"Adam\")\n",
    "safeKerasModel8.compile(loss=loss)\n",
    "safeKerasModel8.fit(Xt_member, \n",
    "                    yt_member, \n",
    "                    validation_data=(Xt_nonmember, yt_nonmember),\n",
    "                    epochs=epochs, \n",
    "                    batch_size=batch_size)\n",
    "safeKerasModel8.save(\"unsafe8.h5\", include_optimizer=False, save_format='h5')"
   ]
  },
  {
   "cell_type": "code",
   "execution_count": 30,
   "metadata": {},
   "outputs": [
    {
     "name": "stdout",
     "output_type": "stream",
     "text": [
      "args is a <class 'tuple'> = ()  kwargs is a <class 'dict'>= {'inputs': [<KerasTensor: shape=(None, 300) dtype=float32 (created by layer 'input_1')>], 'outputs': [<KerasTensor: shape=(None, 2) dtype=float32 (created by layer 'dense_3')>], 'name': 'safe__keras_model_9'}\n",
      "inputs is in kwargs.keys\n",
      "ListWrapper([<KerasTensor: shape=(None, 300) dtype=float32 (created by layer 'input_1')>])\n",
      "WARNING: model parameters may present a disclosure risk:\n",
      "- parameter noise_multiplier = 0.5 identified as less than the recommended min value of 0.9.\n",
      "Changed parameter noise_multiplier = 0.9.\n",
      "\n",
      "WARNING:tensorflow:No training configuration found in the save file, so the model was *not* compiled. Compile it manually.\n",
      "Our model has 106 keys\n",
      "The keras model has 103 keys\n",
      "['_activity_regularizer', '_auto_track_sub_layers', '_autocast', '_base_model_initialized', '_build_input_shape', '_callable_losses', '_cluster_coordinator', '_compiled_trainable_state', '_compute_dtype_object', '_compute_output_and_mask_jointly', '_default_training_arg', '_distribution_strategy', '_dtype_policy', '_dynamic', '_enable_dict_to_input_mapping', '_expects_mask_arg', '_expects_training_arg', '_feed_input_names', '_feed_input_shapes', '_feed_inputs', '_inbound_nodes_value', '_initial_weights', '_input_coordinates', '_input_layers', '_input_spec', '_instrumented_keras_api', '_instrumented_keras_layer_class', '_instrumented_keras_model_class', '_is_compiled', '_is_graph_network', '_is_model_for_instrumentation', '_jit_compile', '_layer_call_argspecs', '_losses', '_metrics', '_metrics_lock', '_name', '_nested_inputs', '_nested_outputs', '_network_nodes', '_nodes_by_depth', '_non_trainable_weights', '_obj_reference_counts_dict', '_outbound_nodes_value', '_outer_name_scope', '_output_coordinates', '_output_layers', '_output_mask_cache', '_output_shape_cache', '_output_tensor_cache', '_predict_counter', '_preserve_input_structure_in_config', '_run_eagerly', '_saved_model_arg_spec', '_saved_model_inputs_spec', '_self_name_based_restores', '_self_saveable_object_factories', '_self_setattr_tracking', '_self_tracked_trackables', '_self_unconditional_checkpoint_dependencies', '_self_unconditional_deferred_dependencies', '_self_unconditional_dependency_names', '_self_update_uid', '_stateful', '_steps_per_execution', '_supports_masking', '_tensor_usage_count', '_test_counter', '_thread_local', '_trackable_saver', '_train_counter', '_trainable', '_trainable_weights', '_training_state', '_updates', 'batch_size', 'built', 'compiled_loss', 'compiled_metrics', 'delta', 'examine_seperately_items', 'filename', 'history', 'ignore_items', 'input_names', 'inputs', 'l2_norm_clip', 'learning_rate', 'loss', 'min_epsilon', 'model', 'model_save_file', 'model_type', 'noise_multiplier', 'num_microbatches', 'num_samples', 'optimizer', 'output_names', 'outputs', 'predict_function', 'researcher', 'saved_model', 'stop_training', 'test_function', 'train_function', 'train_tf_function']\n"
     ]
    }
   ],
   "source": [
    "importlib.reload(safemodel.safemodel)\n",
    "importlib.reload(safemodel.classifiers.safekeras)\n",
    "from safemodel.classifiers.safekeras import Safe_KerasModel\n",
    "f = tf.keras.models.load_model('unsafe8.h5', custom_objects={\"Safe_KerasModel\": Safe_KerasModel})\n",
    "kerasmodelkeys =[]\n",
    "for key,value in f.__dict__.items():\n",
    "        #print ( f' key {key} : value {value} \\n')\n",
    "        kerasmodelkeys.append(key)\n",
    "\n",
    "        \n",
    "ourmodelkeys =[]\n",
    "for key,value in safeKerasModel8.__dict__.items():\n",
    "        #print ( f' key {key} : value {value} \\n')\n",
    "        ourmodelkeys.append(key)\n",
    "\n",
    "print(f'Our model has {len(ourmodelkeys)} keys')\n",
    "print(f'The keras model has {len(kerasmodelkeys)} keys')\n",
    "ourmodelkeys.sort()\n",
    "kerasmodelkeys.sort()\n",
    "\n",
    "print(ourmodelkeys)\n",
    "\n",
    "    \n"
   ]
  },
  {
   "cell_type": "code",
   "execution_count": 31,
   "metadata": {},
   "outputs": [
    {
     "name": "stdout",
     "output_type": "stream",
     "text": [
      " key optimizer : value <tensorflow_privacy.privacy.optimizers.dp_optimizer_keras.make_keras_optimizer_class.<locals>.DPOptimizerClass object at 0x7fd6285e2e50> \n",
      "\n"
     ]
    }
   ],
   "source": [
    "for key,value in safeKerasModel8.__dict__.items():\n",
    "    if 'optimizer' in key:\n",
    "        print ( f' key {key} : value {value} \\n')"
   ]
  },
  {
   "cell_type": "markdown",
   "metadata": {},
   "source": [
    "## dp_epsilon_met\n"
   ]
  },
  {
   "cell_type": "code",
   "execution_count": 32,
   "metadata": {},
   "outputs": [
    {
     "name": "stdout",
     "output_type": "stream",
     "text": [
      "args is a <class 'tuple'> = ()  kwargs is a <class 'dict'>= {'inputs': <KerasTensor: shape=(None, 300) dtype=float32 (created by layer 'input_1')>, 'outputs': <KerasTensor: shape=(None, 2) dtype=float32 (created by layer 'dense_3')>, 'name': 'safekerasmodel6-test', 'optimizer': 'Adam'}\n",
      "inputs is in kwargs.keys\n",
      "KerasTensor(type_spec=TensorSpec(shape=(None, 300), dtype=tf.float32, name='input_1'), name='input_1', description=\"created by layer 'input_1'\")\n",
      "WARNING: model parameters may present a disclosure risk:\n",
      "- parameter noise_multiplier = 0.5 identified as less than the recommended min value of 0.9.\n",
      "Changed parameter noise_multiplier = 0.9.\n",
      "\n",
      "DP-SGD with sampling rate = 0.4% and noise_multiplier = 0.7 iterated over 5000 steps satisfies differential privacy with eps = 4.38 and delta = 1e-05.\n",
      "The optimal RDP order is 4.5.\n",
      "DP-SGD with sampling rate = 0.4% and noise_multiplier = 0.7 iterated over 50000 steps satisfies differential privacy with eps = 13.5 and delta = 1e-05.\n",
      "The optimal RDP order is 2.5.\n",
      "DP-SGD with sampling rate = 0.4% and noise_multiplier = 0.7 iterated over 625000 steps satisfies differential privacy with eps = 69.7 and delta = 1e-05.\n",
      "The optimal RDP order is 1.5.\n",
      "DP-SGD with sampling rate = 2% and noise_multiplier = 0.7 iterated over 1000 steps satisfies differential privacy with eps = 10.4 and delta = 1e-05.\n",
      "The optimal RDP order is 2.5.\n",
      "DP-SGD with sampling rate = 2% and noise_multiplier = 0.7 iterated over 10000 steps satisfies differential privacy with eps = 35.8 and delta = 1e-05.\n",
      "The optimal RDP order is 1.75.\n",
      "DP-SGD with sampling rate = 2% and noise_multiplier = 0.7 iterated over 125000 steps satisfies differential privacy with eps = 222 and delta = 1e-05.\n",
      "The optimal RDP order is 1.25.\n",
      "The privacy estimate is likely to be improved by expanding the set of orders.\n",
      "DP-SGD with sampling rate = 10% and noise_multiplier = 0.7 iterated over 200 steps satisfies differential privacy with eps = 23.1 and delta = 1e-05.\n",
      "The optimal RDP order is 2.0.\n",
      "DP-SGD with sampling rate = 10% and noise_multiplier = 0.7 iterated over 2000 steps satisfies differential privacy with eps = 95 and delta = 1e-05.\n",
      "The optimal RDP order is 1.5.\n",
      "DP-SGD with sampling rate = 10% and noise_multiplier = 0.7 iterated over 25000 steps satisfies differential privacy with eps = 733 and delta = 1e-05.\n",
      "The optimal RDP order is 1.25.\n",
      "The privacy estimate is likely to be improved by expanding the set of orders.\n",
      "DP-SGD with sampling rate = 0.4% and noise_multiplier = 0.8 iterated over 5000 steps satisfies differential privacy with eps = 2.93 and delta = 1e-05.\n",
      "The optimal RDP order is 6.0.\n",
      "DP-SGD with sampling rate = 0.4% and noise_multiplier = 0.8 iterated over 50000 steps satisfies differential privacy with eps = 9.33 and delta = 1e-05.\n",
      "The optimal RDP order is 3.5.\n",
      "DP-SGD with sampling rate = 0.4% and noise_multiplier = 0.8 iterated over 625000 steps satisfies differential privacy with eps = 46.5 and delta = 1e-05.\n",
      "The optimal RDP order is 1.75.\n",
      "DP-SGD with sampling rate = 2% and noise_multiplier = 0.8 iterated over 1000 steps satisfies differential privacy with eps = 7.21 and delta = 1e-05.\n",
      "The optimal RDP order is 3.5.\n",
      "DP-SGD with sampling rate = 2% and noise_multiplier = 0.8 iterated over 10000 steps satisfies differential privacy with eps = 25.2 and delta = 1e-05.\n",
      "The optimal RDP order is 2.0.\n",
      "DP-SGD with sampling rate = 2% and noise_multiplier = 0.8 iterated over 125000 steps satisfies differential privacy with eps = 152 and delta = 1e-05.\n",
      "The optimal RDP order is 1.25.\n",
      "The privacy estimate is likely to be improved by expanding the set of orders.\n",
      "DP-SGD with sampling rate = 10% and noise_multiplier = 0.8 iterated over 200 steps satisfies differential privacy with eps = 17.2 and delta = 1e-05.\n",
      "The optimal RDP order is 2.25.\n",
      "DP-SGD with sampling rate = 10% and noise_multiplier = 0.8 iterated over 2000 steps satisfies differential privacy with eps = 67.7 and delta = 1e-05.\n",
      "The optimal RDP order is 1.5.\n",
      "DP-SGD with sampling rate = 10% and noise_multiplier = 0.8 iterated over 25000 steps satisfies differential privacy with eps = 495 and delta = 1e-05.\n",
      "The optimal RDP order is 1.25.\n",
      "The privacy estimate is likely to be improved by expanding the set of orders.\n",
      "DP-SGD with sampling rate = 0.4% and noise_multiplier = 0.9 iterated over 5000 steps satisfies differential privacy with eps = 2.18 and delta = 1e-05.\n",
      "The optimal RDP order is 8.0.\n",
      "DP-SGD with sampling rate = 0.4% and noise_multiplier = 0.9 iterated over 50000 steps satisfies differential privacy with eps = 7.13 and delta = 1e-05.\n",
      "The optimal RDP order is 4.0.\n",
      "DP-SGD with sampling rate = 0.4% and noise_multiplier = 0.9 iterated over 625000 steps satisfies differential privacy with eps = 34.5 and delta = 1e-05.\n",
      "The optimal RDP order is 2.0.\n",
      "DP-SGD with sampling rate = 2% and noise_multiplier = 0.9 iterated over 1000 steps satisfies differential privacy with eps = 5.45 and delta = 1e-05.\n",
      "The optimal RDP order is 4.0.\n",
      "DP-SGD with sampling rate = 2% and noise_multiplier = 0.9 iterated over 10000 steps satisfies differential privacy with eps = 19.1 and delta = 1e-05.\n",
      "The optimal RDP order is 2.25.\n",
      "DP-SGD with sampling rate = 2% and noise_multiplier = 0.9 iterated over 125000 steps satisfies differential privacy with eps = 109 and delta = 1e-05.\n",
      "The optimal RDP order is 1.5.\n",
      "DP-SGD with sampling rate = 10% and noise_multiplier = 0.9 iterated over 200 steps satisfies differential privacy with eps = 13.5 and delta = 1e-05.\n",
      "The optimal RDP order is 2.5.\n",
      "DP-SGD with sampling rate = 10% and noise_multiplier = 0.9 iterated over 2000 steps satisfies differential privacy with eps = 53.2 and delta = 1e-05.\n",
      "The optimal RDP order is 1.5.\n",
      "DP-SGD with sampling rate = 10% and noise_multiplier = 0.9 iterated over 25000 steps satisfies differential privacy with eps = 361 and delta = 1e-05.\n",
      "The optimal RDP order is 1.25.\n",
      "The privacy estimate is likely to be improved by expanding the set of orders.\n"
     ]
    },
    {
     "data": {
      "text/html": [
       "<div>\n",
       "<style scoped>\n",
       "    .dataframe tbody tr th:only-of-type {\n",
       "        vertical-align: middle;\n",
       "    }\n",
       "\n",
       "    .dataframe tbody tr th {\n",
       "        vertical-align: top;\n",
       "    }\n",
       "\n",
       "    .dataframe thead th {\n",
       "        text-align: right;\n",
       "    }\n",
       "</style>\n",
       "<table border=\"1\" class=\"dataframe\">\n",
       "  <thead>\n",
       "    <tr style=\"text-align: right;\">\n",
       "      <th></th>\n",
       "      <th>OK</th>\n",
       "      <th>Epsilon</th>\n",
       "      <th>Noise Multiplier</th>\n",
       "      <th>Num Samples</th>\n",
       "      <th>Epochs</th>\n",
       "      <th>Batch Size</th>\n",
       "    </tr>\n",
       "  </thead>\n",
       "  <tbody>\n",
       "    <tr>\n",
       "      <th>18</th>\n",
       "      <td>True</td>\n",
       "      <td>2.18</td>\n",
       "      <td>0.9</td>\n",
       "      <td>250</td>\n",
       "      <td>20</td>\n",
       "      <td>1</td>\n",
       "    </tr>\n",
       "    <tr>\n",
       "      <th>9</th>\n",
       "      <td>True</td>\n",
       "      <td>2.93</td>\n",
       "      <td>0.8</td>\n",
       "      <td>250</td>\n",
       "      <td>20</td>\n",
       "      <td>1</td>\n",
       "    </tr>\n",
       "    <tr>\n",
       "      <th>0</th>\n",
       "      <td>True</td>\n",
       "      <td>4.38</td>\n",
       "      <td>0.7</td>\n",
       "      <td>250</td>\n",
       "      <td>20</td>\n",
       "      <td>1</td>\n",
       "    </tr>\n",
       "    <tr>\n",
       "      <th>21</th>\n",
       "      <td>True</td>\n",
       "      <td>5.45</td>\n",
       "      <td>0.9</td>\n",
       "      <td>250</td>\n",
       "      <td>20</td>\n",
       "      <td>5</td>\n",
       "    </tr>\n",
       "    <tr>\n",
       "      <th>19</th>\n",
       "      <td>True</td>\n",
       "      <td>7.13</td>\n",
       "      <td>0.9</td>\n",
       "      <td>250</td>\n",
       "      <td>200</td>\n",
       "      <td>1</td>\n",
       "    </tr>\n",
       "    <tr>\n",
       "      <th>12</th>\n",
       "      <td>True</td>\n",
       "      <td>7.21</td>\n",
       "      <td>0.8</td>\n",
       "      <td>250</td>\n",
       "      <td>20</td>\n",
       "      <td>5</td>\n",
       "    </tr>\n",
       "    <tr>\n",
       "      <th>10</th>\n",
       "      <td>True</td>\n",
       "      <td>9.33</td>\n",
       "      <td>0.8</td>\n",
       "      <td>250</td>\n",
       "      <td>200</td>\n",
       "      <td>1</td>\n",
       "    </tr>\n",
       "    <tr>\n",
       "      <th>3</th>\n",
       "      <td>False</td>\n",
       "      <td>10.42</td>\n",
       "      <td>0.7</td>\n",
       "      <td>250</td>\n",
       "      <td>20</td>\n",
       "      <td>5</td>\n",
       "    </tr>\n",
       "    <tr>\n",
       "      <th>1</th>\n",
       "      <td>False</td>\n",
       "      <td>13.51</td>\n",
       "      <td>0.7</td>\n",
       "      <td>250</td>\n",
       "      <td>200</td>\n",
       "      <td>1</td>\n",
       "    </tr>\n",
       "    <tr>\n",
       "      <th>24</th>\n",
       "      <td>False</td>\n",
       "      <td>13.51</td>\n",
       "      <td>0.9</td>\n",
       "      <td>250</td>\n",
       "      <td>20</td>\n",
       "      <td>25</td>\n",
       "    </tr>\n",
       "    <tr>\n",
       "      <th>15</th>\n",
       "      <td>False</td>\n",
       "      <td>17.23</td>\n",
       "      <td>0.8</td>\n",
       "      <td>250</td>\n",
       "      <td>20</td>\n",
       "      <td>25</td>\n",
       "    </tr>\n",
       "    <tr>\n",
       "      <th>22</th>\n",
       "      <td>False</td>\n",
       "      <td>19.15</td>\n",
       "      <td>0.9</td>\n",
       "      <td>250</td>\n",
       "      <td>200</td>\n",
       "      <td>5</td>\n",
       "    </tr>\n",
       "    <tr>\n",
       "      <th>6</th>\n",
       "      <td>False</td>\n",
       "      <td>23.09</td>\n",
       "      <td>0.7</td>\n",
       "      <td>250</td>\n",
       "      <td>20</td>\n",
       "      <td>25</td>\n",
       "    </tr>\n",
       "    <tr>\n",
       "      <th>13</th>\n",
       "      <td>False</td>\n",
       "      <td>25.20</td>\n",
       "      <td>0.8</td>\n",
       "      <td>250</td>\n",
       "      <td>200</td>\n",
       "      <td>5</td>\n",
       "    </tr>\n",
       "    <tr>\n",
       "      <th>20</th>\n",
       "      <td>False</td>\n",
       "      <td>34.50</td>\n",
       "      <td>0.9</td>\n",
       "      <td>250</td>\n",
       "      <td>2500</td>\n",
       "      <td>1</td>\n",
       "    </tr>\n",
       "    <tr>\n",
       "      <th>4</th>\n",
       "      <td>False</td>\n",
       "      <td>35.83</td>\n",
       "      <td>0.7</td>\n",
       "      <td>250</td>\n",
       "      <td>200</td>\n",
       "      <td>5</td>\n",
       "    </tr>\n",
       "    <tr>\n",
       "      <th>11</th>\n",
       "      <td>False</td>\n",
       "      <td>46.50</td>\n",
       "      <td>0.8</td>\n",
       "      <td>250</td>\n",
       "      <td>2500</td>\n",
       "      <td>1</td>\n",
       "    </tr>\n",
       "    <tr>\n",
       "      <th>25</th>\n",
       "      <td>False</td>\n",
       "      <td>53.19</td>\n",
       "      <td>0.9</td>\n",
       "      <td>250</td>\n",
       "      <td>200</td>\n",
       "      <td>25</td>\n",
       "    </tr>\n",
       "    <tr>\n",
       "      <th>16</th>\n",
       "      <td>False</td>\n",
       "      <td>67.73</td>\n",
       "      <td>0.8</td>\n",
       "      <td>250</td>\n",
       "      <td>200</td>\n",
       "      <td>25</td>\n",
       "    </tr>\n",
       "    <tr>\n",
       "      <th>2</th>\n",
       "      <td>False</td>\n",
       "      <td>69.72</td>\n",
       "      <td>0.7</td>\n",
       "      <td>250</td>\n",
       "      <td>2500</td>\n",
       "      <td>1</td>\n",
       "    </tr>\n",
       "    <tr>\n",
       "      <th>7</th>\n",
       "      <td>False</td>\n",
       "      <td>95.01</td>\n",
       "      <td>0.7</td>\n",
       "      <td>250</td>\n",
       "      <td>200</td>\n",
       "      <td>25</td>\n",
       "    </tr>\n",
       "    <tr>\n",
       "      <th>23</th>\n",
       "      <td>False</td>\n",
       "      <td>109.24</td>\n",
       "      <td>0.9</td>\n",
       "      <td>250</td>\n",
       "      <td>2500</td>\n",
       "      <td>5</td>\n",
       "    </tr>\n",
       "    <tr>\n",
       "      <th>14</th>\n",
       "      <td>False</td>\n",
       "      <td>151.52</td>\n",
       "      <td>0.8</td>\n",
       "      <td>250</td>\n",
       "      <td>2500</td>\n",
       "      <td>5</td>\n",
       "    </tr>\n",
       "    <tr>\n",
       "      <th>5</th>\n",
       "      <td>False</td>\n",
       "      <td>221.99</td>\n",
       "      <td>0.7</td>\n",
       "      <td>250</td>\n",
       "      <td>2500</td>\n",
       "      <td>5</td>\n",
       "    </tr>\n",
       "    <tr>\n",
       "      <th>26</th>\n",
       "      <td>False</td>\n",
       "      <td>360.59</td>\n",
       "      <td>0.9</td>\n",
       "      <td>250</td>\n",
       "      <td>2500</td>\n",
       "      <td>25</td>\n",
       "    </tr>\n",
       "    <tr>\n",
       "      <th>17</th>\n",
       "      <td>False</td>\n",
       "      <td>494.52</td>\n",
       "      <td>0.8</td>\n",
       "      <td>250</td>\n",
       "      <td>2500</td>\n",
       "      <td>25</td>\n",
       "    </tr>\n",
       "    <tr>\n",
       "      <th>8</th>\n",
       "      <td>False</td>\n",
       "      <td>733.44</td>\n",
       "      <td>0.7</td>\n",
       "      <td>250</td>\n",
       "      <td>2500</td>\n",
       "      <td>25</td>\n",
       "    </tr>\n",
       "  </tbody>\n",
       "</table>\n",
       "</div>"
      ],
      "text/plain": [
       "       OK  Epsilon  Noise Multiplier  Num Samples  Epochs  Batch Size\n",
       "18   True     2.18               0.9          250      20           1\n",
       "9    True     2.93               0.8          250      20           1\n",
       "0    True     4.38               0.7          250      20           1\n",
       "21   True     5.45               0.9          250      20           5\n",
       "19   True     7.13               0.9          250     200           1\n",
       "12   True     7.21               0.8          250      20           5\n",
       "10   True     9.33               0.8          250     200           1\n",
       "3   False    10.42               0.7          250      20           5\n",
       "1   False    13.51               0.7          250     200           1\n",
       "24  False    13.51               0.9          250      20          25\n",
       "15  False    17.23               0.8          250      20          25\n",
       "22  False    19.15               0.9          250     200           5\n",
       "6   False    23.09               0.7          250      20          25\n",
       "13  False    25.20               0.8          250     200           5\n",
       "20  False    34.50               0.9          250    2500           1\n",
       "4   False    35.83               0.7          250     200           5\n",
       "11  False    46.50               0.8          250    2500           1\n",
       "25  False    53.19               0.9          250     200          25\n",
       "16  False    67.73               0.8          250     200          25\n",
       "2   False    69.72               0.7          250    2500           1\n",
       "7   False    95.01               0.7          250     200          25\n",
       "23  False   109.24               0.9          250    2500           5\n",
       "14  False   151.52               0.8          250    2500           5\n",
       "5   False   221.99               0.7          250    2500           5\n",
       "26  False   360.59               0.9          250    2500          25\n",
       "17  False   494.52               0.8          250    2500          25\n",
       "8   False   733.44               0.7          250    2500          25"
      ]
     },
     "execution_count": 32,
     "metadata": {},
     "output_type": "execute_result"
    }
   ],
   "source": [
    "\n",
    "import pandas as pd\n",
    "importlib.reload(safemodel.safemodel)\n",
    "importlib.reload(safemodel.classifiers.safekeras)\n",
    "from safemodel.classifiers.safekeras import Safe_KerasModel\n",
    "\n",
    "samples = [250, 250, 250]\n",
    "batch_sizes = [1, 5, 25]\n",
    "epochs = [20, 200, 2500]\n",
    "noisemult = [0.7, 0.8, 0.9]\n",
    "\n",
    "okslist = []\n",
    "epsilonslist = []\n",
    "noisemultslist = []\n",
    "sampleslist = []\n",
    "batch_size_list = []\n",
    "epochs_list = []\n",
    "\n",
    "safeKerasModel8 = Safe_KerasModel(inputs= input_data, outputs=output,name=\"safekerasmodel6-test\", optimizer=\"Adam\")\n",
    "\n",
    "for i in range(0,3):\n",
    "    for j in range(0,3):\n",
    "        for k in range(0,3):\n",
    "            sampleslist.append(samples[i])\n",
    "            safeKerasModel8.noise_multiplier = noisemult[i]\n",
    "            noisemultslist.append(noisemult[i])\n",
    "            batch_size_list.append(batch_sizes[j])\n",
    "            epochs_list.append(epochs[k])\n",
    "            ok, epsilon = safeKerasModel8.dp_epsilon_met(num_examples=samples[i],batch_size=batch_sizes[j],epochs=epochs[k])\n",
    "            okslist.append(ok)\n",
    "            epsilonslist.append(epsilon)\n",
    "\n",
    "for i in range(0, len(okslist)):\n",
    "    pass\n",
    "    #print(f'{okslist[i]} {epsilonslist[i]} {noisemultslist[i]} {sampleslist[i]} {epochs_list[i]}' )\n",
    "    \n",
    "\n",
    "    \n",
    "mydf = pd.DataFrame(\n",
    "    {'OK': okslist,\n",
    "     'Epsilon': epsilonslist,\n",
    "     'Noise Multiplier': noisemultslist,\n",
    "     'Num Samples': sampleslist,\n",
    "     'Epochs': epochs_list,\n",
    "     'Batch Size': batch_size_list\n",
    "\n",
    "\n",
    "    })\n",
    "\n",
    "mydf.round(decimals=2).sort_values('Epsilon')\n"
   ]
  },
  {
   "cell_type": "markdown",
   "metadata": {},
   "source": [
    "### Meets DP Epsilon Criteria"
   ]
  },
  {
   "cell_type": "code",
   "execution_count": 33,
   "metadata": {},
   "outputs": [
    {
     "name": "stdout",
     "output_type": "stream",
     "text": [
      "\n",
      "***Test 9: Meets DP epsilon criteria\n",
      "args is a <class 'tuple'> = ()  kwargs is a <class 'dict'>= {'inputs': <KerasTensor: shape=(None, 300) dtype=float32 (created by layer 'input_1')>, 'outputs': <KerasTensor: shape=(None, 2) dtype=float32 (created by layer 'dense_3')>, 'name': 'safekerasmodel9-test', 'optimizer': 'Adam'}\n",
      "inputs is in kwargs.keys\n",
      "KerasTensor(type_spec=TensorSpec(shape=(None, 300), dtype=tf.float32, name='input_1'), name='input_1', description=\"created by layer 'input_1'\")\n",
      "WARNING: model parameters may present a disclosure risk:\n",
      "- parameter noise_multiplier = 0.5 identified as less than the recommended min value of 0.9.\n",
      "Changed parameter noise_multiplier = 0.9.\n",
      "\n",
      "WARNING: model parameters may present a disclosure risk\n",
      "Changed parameter optimizer = 'DPKerasAdamOptimizer'\n",
      "DP optimizer used = False\n",
      "optimizer has been changed but fit() has not been rerun.\n",
      "(250, 300)\n",
      "DP-SGD with sampling rate = 0.4% and noise_multiplier = 0.9 iterated over 5000 steps satisfies differential privacy with eps = 2.18 and delta = 1e-05.\n",
      "The optimal RDP order is 8.0.\n",
      "Epoch 1/20\n",
      "250/250 [==============================] - 7s 16ms/step - loss: 385479.4062 - accuracy: 0.5160 - val_loss: 653329.3750 - val_accuracy: 0.4960\n",
      "Epoch 2/20\n",
      "250/250 [==============================] - 3s 11ms/step - loss: 1050646.3750 - accuracy: 0.5040 - val_loss: 1315848.5000 - val_accuracy: 0.5080\n",
      "Epoch 3/20\n",
      "250/250 [==============================] - 2s 10ms/step - loss: 1639411.5000 - accuracy: 0.5080 - val_loss: 2181940.7500 - val_accuracy: 0.5160\n",
      "Epoch 4/20\n",
      "250/250 [==============================] - 2s 9ms/step - loss: 2686529.2500 - accuracy: 0.5320 - val_loss: 3706702.0000 - val_accuracy: 0.5080\n",
      "Epoch 5/20\n",
      "250/250 [==============================] - 3s 11ms/step - loss: 4949960.0000 - accuracy: 0.4840 - val_loss: 5077034.5000 - val_accuracy: 0.4880\n",
      "Epoch 6/20\n",
      "250/250 [==============================] - 3s 12ms/step - loss: 6254901.0000 - accuracy: 0.5320 - val_loss: 6554268.0000 - val_accuracy: 0.5440\n",
      "Epoch 7/20\n",
      "250/250 [==============================] - 3s 10ms/step - loss: 8498876.0000 - accuracy: 0.4920 - val_loss: 7726049.0000 - val_accuracy: 0.5320\n",
      "Epoch 8/20\n",
      "250/250 [==============================] - 3s 10ms/step - loss: 10610542.0000 - accuracy: 0.4960 - val_loss: 8186036.5000 - val_accuracy: 0.5360\n",
      "Epoch 9/20\n",
      "250/250 [==============================] - 2s 10ms/step - loss: 12434819.0000 - accuracy: 0.5200 - val_loss: 12739174.0000 - val_accuracy: 0.5440\n",
      "Epoch 10/20\n",
      "250/250 [==============================] - 2s 9ms/step - loss: 11292954.0000 - accuracy: 0.5520 - val_loss: 11486668.0000 - val_accuracy: 0.5240\n",
      "Epoch 11/20\n",
      "250/250 [==============================] - 2s 10ms/step - loss: 13788609.0000 - accuracy: 0.5240 - val_loss: 15077999.0000 - val_accuracy: 0.5200\n",
      "Epoch 12/20\n",
      "250/250 [==============================] - 3s 13ms/step - loss: 15787560.0000 - accuracy: 0.5440 - val_loss: 14591517.0000 - val_accuracy: 0.5240\n",
      "Epoch 13/20\n",
      "250/250 [==============================] - 3s 11ms/step - loss: 14052693.0000 - accuracy: 0.5520 - val_loss: 18761892.0000 - val_accuracy: 0.4880\n",
      "Epoch 14/20\n",
      "250/250 [==============================] - 3s 10ms/step - loss: 16373614.0000 - accuracy: 0.5840 - val_loss: 18334078.0000 - val_accuracy: 0.5080\n",
      "Epoch 15/20\n",
      "250/250 [==============================] - 2s 10ms/step - loss: 16570388.0000 - accuracy: 0.5200 - val_loss: 25149426.0000 - val_accuracy: 0.4880\n",
      "Epoch 16/20\n",
      "250/250 [==============================] - 2s 9ms/step - loss: 21099772.0000 - accuracy: 0.5440 - val_loss: 24780008.0000 - val_accuracy: 0.4520\n",
      "Epoch 17/20\n",
      "250/250 [==============================] - 3s 10ms/step - loss: 20680336.0000 - accuracy: 0.5560 - val_loss: 30858606.0000 - val_accuracy: 0.4640\n",
      "Epoch 18/20\n",
      "250/250 [==============================] - 3s 11ms/step - loss: 24763966.0000 - accuracy: 0.5520 - val_loss: 36263772.0000 - val_accuracy: 0.4320\n",
      "Epoch 19/20\n",
      "250/250 [==============================] - 3s 13ms/step - loss: 28162310.0000 - accuracy: 0.5760 - val_loss: 35729908.0000 - val_accuracy: 0.4920\n",
      "Epoch 20/20\n",
      "250/250 [==============================] - 3s 10ms/step - loss: 37133400.0000 - accuracy: 0.5880 - val_loss: 43032016.0000 - val_accuracy: 0.4960\n",
      "INFO:tensorflow:Assets written to: unsafe7.hd5/assets\n",
      "Model parameters are within recommended ranges.\n",
      "\n",
      "INFO:tensorflow:Assets written to: unsafe9.hd5/assets\n"
     ]
    },
    {
     "name": "stderr",
     "output_type": "stream",
     "text": [
      "_obj_reference_counts_dict cannot be copied\n",
      "...<class 'TypeError'> error; cannot pickle '_thread.RLock' object\n",
      "_thread_local cannot be copied\n",
      "...<class 'TypeError'> error; cannot pickle '_thread._local' object\n",
      "_metrics_lock cannot be copied\n",
      "...<class 'TypeError'> error; cannot pickle '_thread.lock' object\n"
     ]
    },
    {
     "name": "stdout",
     "output_type": "stream",
     "text": [
      "INFO:tensorflow:Assets written to: ram://b0a8eb3c-60cb-4c5e-b1e3-f700a7ca32cf/assets\n"
     ]
    },
    {
     "name": "stderr",
     "output_type": "stream",
     "text": [
      "_trackable_saver cannot be copied\n",
      "...<class 'ValueError'> error; Unknown optimizer: DPOptimizerClass. Please ensure this object is passed to the `custom_objects` argument. See https://www.tensorflow.org/guide/keras/save_and_serialize#registering_the_custom_object for details.\n",
      "_self_unconditional_checkpoint_dependencies cannot be copied\n",
      "...<class 'TypeError'> error; cannot pickle '_thread.RLock' object\n",
      "_self_unconditional_dependency_names cannot be copied\n",
      "...<class 'TypeError'> error; cannot pickle '_thread.RLock' object\n",
      "compiled_loss cannot be copied\n",
      "...<class 'TypeError'> error; cannot pickle '_thread.RLock' object\n",
      "compiled_metrics cannot be copied\n",
      "...<class 'TypeError'> error; cannot pickle '_thread.RLock' object\n"
     ]
    },
    {
     "name": "stdout",
     "output_type": "stream",
     "text": [
      "INFO:tensorflow:Assets written to: ram://a45e7920-de65-48fe-9c0e-d8b66f7ee808/assets\n"
     ]
    },
    {
     "name": "stderr",
     "output_type": "stream",
     "text": [
      "history cannot be copied\n",
      "...<class 'ValueError'> error; Unknown optimizer: DPOptimizerClass. Please ensure this object is passed to the `custom_objects` argument. See https://www.tensorflow.org/guide/keras/save_and_serialize#registering_the_custom_object for details.\n",
      "train_function cannot be copied\n",
      "...<class 'TypeError'> error; cannot pickle '_thread.RLock' object\n",
      "test_function cannot be copied\n",
      "...<class 'TypeError'> error; cannot pickle '_thread.RLock' object\n",
      "train_tf_function cannot be copied\n",
      "...<class 'TypeError'> error; cannot pickle '_thread.RLock' object\n"
     ]
    },
    {
     "name": "stdout",
     "output_type": "stream",
     "text": [
      "<tensorflow_privacy.privacy.optimizers.dp_optimizer_keras.make_keras_optimizer_class.<locals>.DPOptimizerClass object at 0x7fd5849277c0>\n",
      "<tensorflow_privacy.privacy.optimizers.dp_optimizer_keras.make_keras_optimizer_class.<locals>.DPOptimizerClass object at 0x7fd5849277c0>\n",
      "DP-SGD with sampling rate = 10% and noise_multiplier = 0.9 iterated over 200 steps satisfies differential privacy with eps = 13.5 and delta = 1e-05.\n",
      "The optimal RDP order is 2.5.\n"
     ]
    }
   ],
   "source": [
    "importlib.reload(safemodel.safemodel)\n",
    "importlib.reload(safemodel.classifiers.safekeras)\n",
    "from safemodel.classifiers.safekeras import Safe_KerasModel\n",
    "\n",
    "epochs=20\n",
    "batch_size=1\n",
    "# change another model params in an  unsafe way i.e. Optimizer=Adam\n",
    "print(\"\\n***Test 9: Meets DP epsilon criteria\")\n",
    "safeKerasModel9 = Safe_KerasModel(inputs= input_data, outputs=output,name=\"safekerasmodel9-test\", optimizer=\"Adam\")\n",
    "safeKerasModel9.compile(loss=loss)\n",
    "safeKerasModel9.fit(Xt_member, \n",
    "                    yt_member, \n",
    "                    validation_data=(Xt_nonmember, yt_nonmember),\n",
    "                    epochs=epochs, \n",
    "                    batch_size=batch_size)\n",
    "safeKerasModel9.save(\"unsafe7.hd5\")\n",
    "\n",
    "safeKerasModel9.preliminary_check(apply_constraints=False)\n",
    "safeKerasModel9.request_release(filename=\"unsafe9.hd5\")"
   ]
  },
  {
   "cell_type": "code",
   "execution_count": null,
   "metadata": {},
   "outputs": [],
   "source": []
  },
  {
   "cell_type": "code",
   "execution_count": null,
   "metadata": {},
   "outputs": [],
   "source": []
  },
  {
   "cell_type": "code",
   "execution_count": null,
   "metadata": {},
   "outputs": [],
   "source": []
  }
 ],
 "metadata": {
  "kernelspec": {
   "display_name": "Python 3 (ipykernel)",
   "language": "python",
   "name": "python3"
  },
  "language_info": {
   "codemirror_mode": {
    "name": "ipython",
    "version": 3
   },
   "file_extension": ".py",
   "mimetype": "text/x-python",
   "name": "python",
   "nbconvert_exporter": "python",
   "pygments_lexer": "ipython3",
   "version": "3.9.7"
  }
 },
 "nbformat": 4,
 "nbformat_minor": 4
}
