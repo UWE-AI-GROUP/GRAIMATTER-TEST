{
 "cells": [
  {
   "cell_type": "markdown",
   "metadata": {},
   "source": [
    "# Adversarial Robustness Toolkit Membership Inference Attacks"
   ]
  },
  {
   "cell_type": "markdown",
   "metadata": {},
   "source": [
    "Download data from https://physionet.org/content/mimic2-iaccd/1.0/ (https://physionet.org/content/mimic2-iaccd/1.0/full_cohort_data.csv to download the full_cohort data)"
   ]
  },
  {
   "cell_type": "code",
   "execution_count": 1,
   "metadata": {},
   "outputs": [],
   "source": [
    "import pandas as pd\n",
    "import numpy as np\n",
    "import matplotlib.pyplot as plt\n",
    "import os\n",
    "from sklearn.model_selection import train_test_split\n",
    "from sklearn.svm import SVC\n",
    "from sklearn.metrics import classification_report, confusion_matrix\n",
    "from sklearn.model_selection import StratifiedKFold"
   ]
  },
  {
   "cell_type": "markdown",
   "metadata": {},
   "source": [
    "### Load data"
   ]
  },
  {
   "cell_type": "code",
   "execution_count": 2,
   "metadata": {},
   "outputs": [],
   "source": [
    "path = \"./data/mimic2-iaccd/1.0/\"\n",
    "data_path = os.path.join(path, \"full_cohort_data.csv\")\n",
    "X = pd.read_csv(data_path)"
   ]
  },
  {
   "cell_type": "code",
   "execution_count": 3,
   "metadata": {},
   "outputs": [
    {
     "data": {
      "text/plain": [
       "(1776, 46)"
      ]
     },
     "execution_count": 3,
     "metadata": {},
     "output_type": "execute_result"
    }
   ],
   "source": [
    "X.shape"
   ]
  },
  {
   "cell_type": "code",
   "execution_count": 4,
   "metadata": {},
   "outputs": [
    {
     "data": {
      "text/html": [
       "<div>\n",
       "<style scoped>\n",
       "    .dataframe tbody tr th:only-of-type {\n",
       "        vertical-align: middle;\n",
       "    }\n",
       "\n",
       "    .dataframe tbody tr th {\n",
       "        vertical-align: top;\n",
       "    }\n",
       "\n",
       "    .dataframe thead th {\n",
       "        text-align: right;\n",
       "    }\n",
       "</style>\n",
       "<table border=\"1\" class=\"dataframe\">\n",
       "  <thead>\n",
       "    <tr style=\"text-align: right;\">\n",
       "      <th></th>\n",
       "      <th>aline_flg</th>\n",
       "      <th>icu_los_day</th>\n",
       "      <th>hospital_los_day</th>\n",
       "      <th>age</th>\n",
       "      <th>gender_num</th>\n",
       "      <th>weight_first</th>\n",
       "      <th>bmi</th>\n",
       "      <th>sapsi_first</th>\n",
       "      <th>sofa_first</th>\n",
       "      <th>service_unit</th>\n",
       "      <th>...</th>\n",
       "      <th>platelet_first</th>\n",
       "      <th>sodium_first</th>\n",
       "      <th>potassium_first</th>\n",
       "      <th>tco2_first</th>\n",
       "      <th>chloride_first</th>\n",
       "      <th>bun_first</th>\n",
       "      <th>creatinine_first</th>\n",
       "      <th>po2_first</th>\n",
       "      <th>pco2_first</th>\n",
       "      <th>iv_day_1</th>\n",
       "    </tr>\n",
       "  </thead>\n",
       "  <tbody>\n",
       "    <tr>\n",
       "      <th>0</th>\n",
       "      <td>1</td>\n",
       "      <td>7.63</td>\n",
       "      <td>13</td>\n",
       "      <td>72.36841</td>\n",
       "      <td>1.0</td>\n",
       "      <td>75.0</td>\n",
       "      <td>29.912791</td>\n",
       "      <td>15.0</td>\n",
       "      <td>9.0</td>\n",
       "      <td>SICU</td>\n",
       "      <td>...</td>\n",
       "      <td>354.0</td>\n",
       "      <td>138.0</td>\n",
       "      <td>4.6</td>\n",
       "      <td>15.0</td>\n",
       "      <td>109.0</td>\n",
       "      <td>41.0</td>\n",
       "      <td>1.6</td>\n",
       "      <td>196.0</td>\n",
       "      <td>39.0</td>\n",
       "      <td>2230.875000</td>\n",
       "    </tr>\n",
       "    <tr>\n",
       "      <th>1</th>\n",
       "      <td>0</td>\n",
       "      <td>1.14</td>\n",
       "      <td>1</td>\n",
       "      <td>64.92076</td>\n",
       "      <td>0.0</td>\n",
       "      <td>55.0</td>\n",
       "      <td>20.121312</td>\n",
       "      <td>NaN</td>\n",
       "      <td>5.0</td>\n",
       "      <td>MICU</td>\n",
       "      <td>...</td>\n",
       "      <td>NaN</td>\n",
       "      <td>NaN</td>\n",
       "      <td>NaN</td>\n",
       "      <td>NaN</td>\n",
       "      <td>NaN</td>\n",
       "      <td>NaN</td>\n",
       "      <td>NaN</td>\n",
       "      <td>NaN</td>\n",
       "      <td>NaN</td>\n",
       "      <td>600.000000</td>\n",
       "    </tr>\n",
       "    <tr>\n",
       "      <th>2</th>\n",
       "      <td>0</td>\n",
       "      <td>2.86</td>\n",
       "      <td>5</td>\n",
       "      <td>36.50000</td>\n",
       "      <td>0.0</td>\n",
       "      <td>70.0</td>\n",
       "      <td>27.118272</td>\n",
       "      <td>16.0</td>\n",
       "      <td>5.0</td>\n",
       "      <td>MICU</td>\n",
       "      <td>...</td>\n",
       "      <td>295.0</td>\n",
       "      <td>144.0</td>\n",
       "      <td>3.9</td>\n",
       "      <td>17.0</td>\n",
       "      <td>101.0</td>\n",
       "      <td>16.0</td>\n",
       "      <td>0.8</td>\n",
       "      <td>298.0</td>\n",
       "      <td>30.0</td>\n",
       "      <td>2086.800293</td>\n",
       "    </tr>\n",
       "    <tr>\n",
       "      <th>3</th>\n",
       "      <td>1</td>\n",
       "      <td>0.58</td>\n",
       "      <td>3</td>\n",
       "      <td>44.49191</td>\n",
       "      <td>0.0</td>\n",
       "      <td>NaN</td>\n",
       "      <td>NaN</td>\n",
       "      <td>21.0</td>\n",
       "      <td>7.0</td>\n",
       "      <td>SICU</td>\n",
       "      <td>...</td>\n",
       "      <td>262.0</td>\n",
       "      <td>139.0</td>\n",
       "      <td>4.2</td>\n",
       "      <td>31.0</td>\n",
       "      <td>100.0</td>\n",
       "      <td>16.0</td>\n",
       "      <td>0.5</td>\n",
       "      <td>146.0</td>\n",
       "      <td>23.0</td>\n",
       "      <td>NaN</td>\n",
       "    </tr>\n",
       "    <tr>\n",
       "      <th>4</th>\n",
       "      <td>1</td>\n",
       "      <td>1.75</td>\n",
       "      <td>5</td>\n",
       "      <td>23.74217</td>\n",
       "      <td>1.0</td>\n",
       "      <td>95.2</td>\n",
       "      <td>28.464563</td>\n",
       "      <td>18.0</td>\n",
       "      <td>7.0</td>\n",
       "      <td>SICU</td>\n",
       "      <td>...</td>\n",
       "      <td>22.0</td>\n",
       "      <td>146.0</td>\n",
       "      <td>3.4</td>\n",
       "      <td>19.0</td>\n",
       "      <td>110.0</td>\n",
       "      <td>10.0</td>\n",
       "      <td>1.0</td>\n",
       "      <td>134.0</td>\n",
       "      <td>30.0</td>\n",
       "      <td>2358.244141</td>\n",
       "    </tr>\n",
       "  </tbody>\n",
       "</table>\n",
       "<p>5 rows × 46 columns</p>\n",
       "</div>"
      ],
      "text/plain": [
       "   aline_flg  icu_los_day  hospital_los_day       age  gender_num  \\\n",
       "0          1         7.63                13  72.36841         1.0   \n",
       "1          0         1.14                 1  64.92076         0.0   \n",
       "2          0         2.86                 5  36.50000         0.0   \n",
       "3          1         0.58                 3  44.49191         0.0   \n",
       "4          1         1.75                 5  23.74217         1.0   \n",
       "\n",
       "   weight_first        bmi  sapsi_first  sofa_first service_unit  ...  \\\n",
       "0          75.0  29.912791         15.0         9.0         SICU  ...   \n",
       "1          55.0  20.121312          NaN         5.0         MICU  ...   \n",
       "2          70.0  27.118272         16.0         5.0         MICU  ...   \n",
       "3           NaN        NaN         21.0         7.0         SICU  ...   \n",
       "4          95.2  28.464563         18.0         7.0         SICU  ...   \n",
       "\n",
       "   platelet_first sodium_first  potassium_first  tco2_first  chloride_first  \\\n",
       "0           354.0        138.0              4.6        15.0           109.0   \n",
       "1             NaN          NaN              NaN         NaN             NaN   \n",
       "2           295.0        144.0              3.9        17.0           101.0   \n",
       "3           262.0        139.0              4.2        31.0           100.0   \n",
       "4            22.0        146.0              3.4        19.0           110.0   \n",
       "\n",
       "   bun_first  creatinine_first  po2_first  pco2_first     iv_day_1  \n",
       "0       41.0               1.6      196.0        39.0  2230.875000  \n",
       "1        NaN               NaN        NaN         NaN   600.000000  \n",
       "2       16.0               0.8      298.0        30.0  2086.800293  \n",
       "3       16.0               0.5      146.0        23.0          NaN  \n",
       "4       10.0               1.0      134.0        30.0  2358.244141  \n",
       "\n",
       "[5 rows x 46 columns]"
      ]
     },
     "execution_count": 4,
     "metadata": {},
     "output_type": "execute_result"
    }
   ],
   "source": [
    "X.head()"
   ]
  },
  {
   "cell_type": "code",
   "execution_count": 5,
   "metadata": {},
   "outputs": [
    {
     "data": {
      "text/plain": [
       "Index(['aline_flg', 'icu_los_day', 'hospital_los_day', 'age', 'gender_num',\n",
       "       'weight_first', 'bmi', 'sapsi_first', 'sofa_first', 'service_unit',\n",
       "       'service_num', 'day_icu_intime', 'day_icu_intime_num',\n",
       "       'hour_icu_intime', 'hosp_exp_flg', 'icu_exp_flg', 'day_28_flg',\n",
       "       'mort_day_censored', 'censor_flg', 'sepsis_flg', 'chf_flg', 'afib_flg',\n",
       "       'renal_flg', 'liver_flg', 'copd_flg', 'cad_flg', 'stroke_flg',\n",
       "       'mal_flg', 'resp_flg', 'map_1st', 'hr_1st', 'temp_1st', 'spo2_1st',\n",
       "       'abg_count', 'wbc_first', 'hgb_first', 'platelet_first', 'sodium_first',\n",
       "       'potassium_first', 'tco2_first', 'chloride_first', 'bun_first',\n",
       "       'creatinine_first', 'po2_first', 'pco2_first', 'iv_day_1'],\n",
       "      dtype='object')"
      ]
     },
     "execution_count": 5,
     "metadata": {},
     "output_type": "execute_result"
    }
   ],
   "source": [
    "X.columns"
   ]
  },
  {
   "cell_type": "markdown",
   "metadata": {},
   "source": [
    "### Preprocess data"
   ]
  },
  {
   "cell_type": "code",
   "execution_count": 6,
   "metadata": {},
   "outputs": [
    {
     "name": "stdout",
     "output_type": "stream",
     "text": [
      "(1064, 40)\n",
      "(1064, 39)\n",
      "X_train = (851, 39)\n",
      "y_train = (851,)\n",
      "X_test = (213, 39)\n",
      "y_test = (213,)\n"
     ]
    }
   ],
   "source": [
    "# remove columns non-numerical and repetitive or uninformative data for the analysis\n",
    "col = [\"service_unit\", \"day_icu_intime\", \"hosp_exp_flg\", \"icu_exp_flg\", \"day_28_flg\"]\n",
    "# service_num is the numerical version of service_unit\n",
    "# day_icu_intime_num is the numerical version of day_icu_intime\n",
    "# the other columns are to do with death and are somewhat repetitive with censor_flg\n",
    "X = X.drop(col, axis=1)\n",
    "# drop columns with only 1 value\n",
    "X.drop(\"sepsis_flg\", axis=1, inplace=True)\n",
    "\n",
    "# Generic cleaning up (all data sets)\n",
    "# drop NA by row\n",
    "X.dropna(axis=0, inplace=True)\n",
    "\n",
    "print(X.shape)\n",
    "\n",
    "# Change it for each dataset\n",
    "var = \"censor_flg\"  #'aline_flg'#\n",
    "\n",
    "# Obtain labels and remove them from the data\n",
    "y = X[var]\n",
    "# Drop the column that contains the labels\n",
    "X.drop([var], axis=1, inplace=True)\n",
    "\n",
    "y = np.array(y)\n",
    "X = np.array(X)\n",
    "print(X.shape)\n",
    "\n",
    "test_size = 0.2  # Define test size\n",
    "X_train, X_test, y_train, y_test = train_test_split(\n",
    "    X, y, shuffle=True, test_size=test_size, random_state=58954\n",
    ")\n",
    "\n",
    "print(f\"X_train = {X_train.shape}\")\n",
    "print(f\"y_train = {y_train.shape}\")\n",
    "print(f\"X_test = {X_test.shape}\")\n",
    "print(f\"y_test = {y_test.shape}\")\n",
    "\n",
    "N_FEATURES = X_train.shape[1]"
   ]
  },
  {
   "cell_type": "markdown",
   "metadata": {},
   "source": [
    "### Helper functions"
   ]
  },
  {
   "cell_type": "code",
   "execution_count": 7,
   "metadata": {},
   "outputs": [],
   "source": [
    "def calc_precision_recall(predicted, actual, positive_value=1):\n",
    "    \"\"\"Calculate the precision and recall\"\"\"\n",
    "    score = 0  # both predicted and actual are positive\n",
    "    num_positive_predicted = 0  # predicted positive\n",
    "    num_positive_actual = 0  # actual positive\n",
    "    for i in range(len(predicted)):\n",
    "        if predicted[i] == positive_value:\n",
    "            num_positive_predicted += 1\n",
    "        if actual[i] == positive_value:\n",
    "            num_positive_actual += 1\n",
    "        if predicted[i] == actual[i]:\n",
    "            if predicted[i] == positive_value:\n",
    "                score += 1\n",
    "    if num_positive_predicted == 0:\n",
    "        precision = 1\n",
    "    else:\n",
    "        precision = (\n",
    "            score / num_positive_predicted\n",
    "        )  # the fraction of predicted \"Yes\" responses that are correct\n",
    "    if num_positive_actual == 0:\n",
    "        recall = 1\n",
    "    else:\n",
    "        recall = (\n",
    "            score / num_positive_actual\n",
    "        )  # the fraction of \"Yes\" responses that are predicted correctly\n",
    "    return precision, recall"
   ]
  },
  {
   "cell_type": "markdown",
   "metadata": {},
   "source": [
    "### RandomForestClassifier Target Model"
   ]
  },
  {
   "cell_type": "code",
   "execution_count": 8,
   "metadata": {},
   "outputs": [
    {
     "name": "stdout",
     "output_type": "stream",
     "text": [
      "Base model accuracy: 0.9906103286384976\n"
     ]
    }
   ],
   "source": [
    "from sklearn.ensemble import RandomForestClassifier\n",
    "from art.estimators.classification.scikitlearn import ScikitlearnRandomForestClassifier\n",
    "\n",
    "model = RandomForestClassifier()\n",
    "model.fit(X_train, y_train)\n",
    "\n",
    "art_classifier = ScikitlearnRandomForestClassifier(model)\n",
    "\n",
    "print(f\"Base model accuracy: {model.score(X_test, y_test)}\")"
   ]
  },
  {
   "cell_type": "markdown",
   "metadata": {},
   "source": [
    "### Rule-based attack on RandomForestClassifier\n",
    "The rule-based attack uses the simple rule to determine membership in the training data: if the model's prediction for a sample is correct, then it is a member. Otherwise, it is not a member."
   ]
  },
  {
   "cell_type": "code",
   "execution_count": 9,
   "metadata": {},
   "outputs": [
    {
     "name": "stdout",
     "output_type": "stream",
     "text": [
      "Rule-based attack\n",
      "Train accuracy: 1.0\n",
      "Test accuracy: 0.009389671361502372\n",
      "For 80.17% of the data, membership status is inferred correctly.\n",
      "(0.8013182674199624, 1.0)\n"
     ]
    }
   ],
   "source": [
    "from art.attacks.inference.membership_inference import (\n",
    "    MembershipInferenceBlackBoxRuleBased,\n",
    ")\n",
    "\n",
    "attack = MembershipInferenceBlackBoxRuleBased(art_classifier)\n",
    "\n",
    "# infer attacked feature\n",
    "inferred_train = attack.infer(X_train, y_train)\n",
    "inferred_test = attack.infer(X_test, y_test)\n",
    "\n",
    "# check accuracy\n",
    "train_acc = np.sum(inferred_train) / len(inferred_train)\n",
    "test_acc = 1 - (np.sum(inferred_test) / len(inferred_test))\n",
    "acc = (train_acc * len(inferred_train) + test_acc * len(inferred_test)) / (\n",
    "    len(inferred_train) + len(inferred_test)\n",
    ")\n",
    "acc *= 100  # convert fraction to percentage\n",
    "\n",
    "print(\"Rule-based attack\")\n",
    "print(f\"Train accuracy: {train_acc}\")\n",
    "print(f\"Test accuracy: {test_acc}\")\n",
    "print(f\"For {acc:.2f}% of the data, membership status is inferred correctly.\")\n",
    "print(\n",
    "    calc_precision_recall(\n",
    "        np.concatenate((inferred_train, inferred_test)),\n",
    "        np.concatenate((np.ones(len(inferred_train)), np.zeros(len(inferred_test)))),\n",
    "    )\n",
    ")"
   ]
  },
  {
   "cell_type": "markdown",
   "metadata": {},
   "source": [
    "### Black-box attack on RandomForestClassifier\n",
    "The black-box attack trains an additional classifier (the attack model) to predict the membership status of a sample. It can use as input to the learning process probabilities/logits or losses, depending on the type of model and provided configuration."
   ]
  },
  {
   "cell_type": "code",
   "execution_count": 10,
   "metadata": {},
   "outputs": [
    {
     "name": "stdout",
     "output_type": "stream",
     "text": [
      "Black-box attack\n",
      "Train accuracy: 1.0\n",
      "Test accuracy: 0.0\n",
      "For 79.92% of the data, membership status is inferred correctly.\n",
      "(0.799249530956848, 1.0)\n"
     ]
    }
   ],
   "source": [
    "# Train attack model\n",
    "from art.attacks.inference.membership_inference import MembershipInferenceBlackBox\n",
    "\n",
    "attack_train_ratio = 0.5\n",
    "attack_train_size = int(len(X_train) * attack_train_ratio)\n",
    "attack_test_size = int(len(X_test) * attack_train_ratio)\n",
    "\n",
    "bb_attack = MembershipInferenceBlackBox(art_classifier)\n",
    "\n",
    "# train attack model\n",
    "bb_attack.fit(\n",
    "    X_train[:attack_train_size],\n",
    "    y_train[:attack_train_size],\n",
    "    X_test[:attack_test_size],\n",
    "    y_test[:attack_test_size],\n",
    ")\n",
    "\n",
    "# Infer sensitive feature and check accuracy\n",
    "\n",
    "# get inferred values\n",
    "inferred_train_bb = bb_attack.infer(\n",
    "    X_train[attack_train_size:], y_train[attack_train_size:]\n",
    ")\n",
    "inferred_test_bb = bb_attack.infer(X_test[attack_test_size:], y_test[attack_test_size:])\n",
    "# check accuracy\n",
    "train_acc = np.sum(inferred_train_bb) / len(inferred_train_bb)\n",
    "test_acc = 1 - (np.sum(inferred_test_bb) / len(inferred_test_bb))\n",
    "acc = (train_acc * len(inferred_train_bb) + test_acc * len(inferred_test_bb)) / (\n",
    "    len(inferred_train_bb) + len(inferred_test_bb)\n",
    ")\n",
    "acc *= 100  # convert fraction to percentage\n",
    "\n",
    "print(\"Black-box attack\")\n",
    "print(f\"Train accuracy: {train_acc}\")\n",
    "print(f\"Test accuracy: {test_acc}\")\n",
    "print(f\"For {acc:.2f}% of the data, membership status is inferred correctly.\")\n",
    "print(\n",
    "    calc_precision_recall(\n",
    "        np.concatenate((inferred_train_bb, inferred_test_bb)),\n",
    "        np.concatenate(\n",
    "            (np.ones(len(inferred_train_bb)), np.zeros(len(inferred_test_bb)))\n",
    "        ),\n",
    "    )\n",
    ")"
   ]
  },
  {
   "cell_type": "code",
   "execution_count": null,
   "metadata": {},
   "outputs": [],
   "source": []
  }
 ],
 "metadata": {
  "kernelspec": {
   "display_name": "Python 3",
   "language": "python",
   "name": "python3"
  },
  "language_info": {
   "codemirror_mode": {
    "name": "ipython",
    "version": 3
   },
   "file_extension": ".py",
   "mimetype": "text/x-python",
   "name": "python",
   "nbconvert_exporter": "python",
   "pygments_lexer": "ipython3",
   "version": "3.8.10"
  }
 },
 "nbformat": 4,
 "nbformat_minor": 4
}
