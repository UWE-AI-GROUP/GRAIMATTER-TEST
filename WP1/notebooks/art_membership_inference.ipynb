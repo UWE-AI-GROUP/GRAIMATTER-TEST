{
 "cells": [
  {
   "cell_type": "markdown",
   "metadata": {},
   "source": [
    "# Adversarial Robustness Toolkit Membership Inference Attacks"
   ]
  },
  {
   "cell_type": "code",
   "execution_count": 1,
   "metadata": {},
   "outputs": [],
   "source": [
    "import os\n",
    "from IPython.display import display, Image\n",
    "\n",
    "import numpy as np\n",
    "import matplotlib.pyplot as plt\n",
    "from sklearn.model_selection import train_test_split\n",
    "from sklearn.datasets import make_classification, make_moons\n",
    "from sklearn.metrics import ConfusionMatrixDisplay\n",
    "from sklearn.metrics import confusion_matrix, classification_report, roc_curve, auc\n",
    "\n",
    "import tensorflow as tf\n",
    "\n",
    "tf.compat.v1.disable_eager_execution()\n",
    "from tensorflow.keras.models import Model\n",
    "from tensorflow.keras.layers import Input, Dense, Dropout"
   ]
  },
  {
   "cell_type": "markdown",
   "metadata": {},
   "source": [
    "### Create datasets"
   ]
  },
  {
   "cell_type": "code",
   "execution_count": 2,
   "metadata": {},
   "outputs": [],
   "source": [
    "n_classes = 2\n",
    "n_features = 300\n",
    "\n",
    "# (X,y): Original distribution\n",
    "X, y = make_classification(\n",
    "    n_samples=1000,\n",
    "    n_classes=n_classes,\n",
    "    n_features=n_features,\n",
    "    n_informative=n_features,\n",
    "    n_redundant=0,\n",
    "    n_repeated=0,\n",
    "    random_state=15,\n",
    ")\n",
    "\n",
    "# (Xt, yt) is the target dataset, owned by the TRE and drawn from the (X,y) distribution\n",
    "# (Xs, ys) is a shadow dataset drawn from the (X,y) distribution\n",
    "Xt, Xs, yt, ys = train_test_split(X, y, test_size=0.50, random_state=15)\n",
    "\n",
    "# (Xd, yd) is a shadow dataset, drawn from a different distribution (different seed)\n",
    "Xd, yd = make_classification(\n",
    "    n_samples=1000,\n",
    "    n_classes=n_classes,\n",
    "    n_features=n_features,\n",
    "    n_informative=n_features,\n",
    "    n_redundant=0,\n",
    "    n_repeated=0,\n",
    "    random_state=42,\n",
    ")\n",
    "\n",
    "# Split into train (member) and test (non-member) datasets\n",
    "# Set shuffle to False so that Xt_membership is consistent with Xt, otherwise\n",
    "# we need to stack Xt_member and Xt_nonmember again to get a consistent Xt.\n",
    "Xt_member, Xt_nonmember, yt_member, yt_nonmember = train_test_split(\n",
    "    Xt, yt, test_size=0.5, shuffle=False\n",
    ")\n",
    "\n",
    "# Set membership status for future tests\n",
    "Xt_membership = np.vstack(\n",
    "    (\n",
    "        np.ones((Xt_member.shape[0], 1), np.uint8),\n",
    "        np.zeros((Xt_nonmember.shape[0], 1), np.uint8),\n",
    "    )\n",
    ").flatten()"
   ]
  },
  {
   "cell_type": "markdown",
   "metadata": {},
   "source": [
    "### Helper functions"
   ]
  },
  {
   "cell_type": "code",
   "execution_count": 3,
   "metadata": {},
   "outputs": [],
   "source": [
    "def calc_precision_recall(predicted, actual, positive_value=1):\n",
    "    \"\"\"Calculate the precision and recall\"\"\"\n",
    "    score = 0  # both predicted and actual are positive\n",
    "    num_positive_predicted = 0  # predicted positive\n",
    "    num_positive_actual = 0  # actual positive\n",
    "    for i in range(len(predicted)):\n",
    "        if predicted[i] == positive_value:\n",
    "            num_positive_predicted += 1\n",
    "        if actual[i] == positive_value:\n",
    "            num_positive_actual += 1\n",
    "        if predicted[i] == actual[i]:\n",
    "            if predicted[i] == positive_value:\n",
    "                score += 1\n",
    "    if num_positive_predicted == 0:\n",
    "        precision = 1\n",
    "    else:\n",
    "        precision = (\n",
    "            score / num_positive_predicted\n",
    "        )  # the fraction of predicted \"Yes\" responses that are correct\n",
    "    if num_positive_actual == 0:\n",
    "        recall = 1\n",
    "    else:\n",
    "        recall = (\n",
    "            score / num_positive_actual\n",
    "        )  # the fraction of \"Yes\" responses that are predicted correctly\n",
    "    return precision, recall"
   ]
  },
  {
   "cell_type": "markdown",
   "metadata": {},
   "source": [
    "### ART black-box attacks"
   ]
  },
  {
   "cell_type": "code",
   "execution_count": 4,
   "metadata": {},
   "outputs": [],
   "source": [
    "from art.attacks.inference.membership_inference import (\n",
    "    MembershipInferenceBlackBoxRuleBased,\n",
    "    MembershipInferenceBlackBox,\n",
    ")\n",
    "\n",
    "\n",
    "def art_black_box_score(attack, X_train, y_train, X_test, y_test) -> None:\n",
    "    \"\"\"Calculate success of black-box membership inference.\"\"\"\n",
    "    # infer attacked feature\n",
    "    inferred_train = attack.infer(X_train, y_train)\n",
    "    inferred_test = attack.infer(X_test, y_test)\n",
    "    # check accuracy\n",
    "    train_acc = np.sum(inferred_train) / len(inferred_train)\n",
    "    test_acc = 1 - (np.sum(inferred_test) / len(inferred_test))\n",
    "    acc = (train_acc * len(inferred_train) + test_acc * len(inferred_test)) / (\n",
    "        len(inferred_train) + len(inferred_test)\n",
    "    )\n",
    "    acc *= 100  # convert fraction to percentage\n",
    "    print(f\"Train accuracy: {train_acc}\")\n",
    "    print(f\"Test accuracy: {test_acc}\")\n",
    "    print(f\"For {acc:.2f}% of the data, membership status is inferred correctly.\")\n",
    "    print(\n",
    "        calc_precision_recall(\n",
    "            np.concatenate((inferred_train, inferred_test)),\n",
    "            np.concatenate(\n",
    "                (np.ones(len(inferred_train)), np.zeros(len(inferred_test)))\n",
    "            ),\n",
    "        )\n",
    "    )\n",
    "\n",
    "\n",
    "def art_black_box_attack_rulebased(art_classifier):\n",
    "    \"\"\"Executes an ART rule-based black-box attack.\"\"\"\n",
    "    attack = MembershipInferenceBlackBoxRuleBased(art_classifier)\n",
    "    art_black_box_score(attack, Xt_member, yt_member, Xt_nonmember, yt_nonmember)\n",
    "\n",
    "\n",
    "def art_black_box_attack(art_classifier):\n",
    "    \"\"\"Executes an ART black-box attack.\"\"\"\n",
    "    attack = MembershipInferenceBlackBox(art_classifier)\n",
    "    attack.fit(Xt_member, yt_member, Xt_nonmember, yt_nonmember)\n",
    "    art_black_box_score(attack, Xt_member, yt_member, Xt_nonmember, yt_nonmember)"
   ]
  },
  {
   "cell_type": "markdown",
   "metadata": {},
   "source": [
    "## Scikit-learn classifiers\n",
    "\n",
    "https://adversarial-robustness-toolbox.readthedocs.io/en/latest/modules/estimators/classification_scikitlearn.html"
   ]
  },
  {
   "cell_type": "code",
   "execution_count": 5,
   "metadata": {},
   "outputs": [
    {
     "name": "stderr",
     "output_type": "stream",
     "text": [
      "/home/r2-preen/.local/lib/python3.8/site-packages/sklearn/utils/deprecation.py:103: FutureWarning: Attribute `n_features_` was deprecated in version 1.0 and will be removed in 1.2. Use `n_features_in_` instead.\n",
      "  warnings.warn(msg, category=FutureWarning)\n"
     ]
    },
    {
     "name": "stdout",
     "output_type": "stream",
     "text": [
      "RandomForestClassifier Target Model\n",
      "\n",
      "Base model train accuracy: 1.0\n",
      "Base model test accuracy: 0.664\n",
      "ART black-box rule-based attack:\n",
      "Train accuracy: 1.0\n",
      "Test accuracy: 0.33599999999999997\n",
      "For 66.80% of the data, membership status is inferred correctly.\n",
      "(0.6009615384615384, 1.0)\n",
      "ART black-box attack:\n",
      "Train accuracy: 1.0\n",
      "Test accuracy: 1.0\n",
      "For 100.00% of the data, membership status is inferred correctly.\n",
      "(1.0, 1.0)\n",
      "**************************************************************\n",
      "SVC Target Model\n",
      "\n",
      "Base model train accuracy: 1.0\n",
      "Base model test accuracy: 0.736\n",
      "ART black-box rule-based attack:\n",
      "Train accuracy: 1.0\n",
      "Test accuracy: 0.264\n",
      "For 63.20% of the data, membership status is inferred correctly.\n",
      "(0.576036866359447, 1.0)\n",
      "ART black-box attack:\n",
      "Train accuracy: 0.468\n",
      "Test accuracy: 0.6599999999999999\n",
      "For 56.40% of the data, membership status is inferred correctly.\n",
      "(0.5792079207920792, 0.468)\n",
      "**************************************************************\n"
     ]
    },
    {
     "name": "stderr",
     "output_type": "stream",
     "text": [
      "/home/r2-preen/.local/lib/python3.8/site-packages/sklearn/utils/deprecation.py:103: FutureWarning: Attribute `n_features_` was deprecated in version 1.0 and will be removed in 1.2. Use `n_features_in_` instead.\n",
      "  warnings.warn(msg, category=FutureWarning)\n"
     ]
    },
    {
     "name": "stdout",
     "output_type": "stream",
     "text": [
      "BaggingClassifier Target Model\n",
      "\n",
      "Base model train accuracy: 0.988\n",
      "Base model test accuracy: 0.552\n",
      "ART black-box rule-based attack:\n",
      "Train accuracy: 0.988\n",
      "Test accuracy: 0.44799999999999995\n",
      "For 71.80% of the data, membership status is inferred correctly.\n",
      "(0.6415584415584416, 0.988)\n",
      "ART black-box attack:\n",
      "Train accuracy: 0.712\n",
      "Test accuracy: 0.888\n",
      "For 80.00% of the data, membership status is inferred correctly.\n",
      "(0.8640776699029126, 0.712)\n",
      "**************************************************************\n",
      "DecisionTreeClassifier Target Model\n",
      "\n",
      "Base model train accuracy: 1.0\n",
      "Base model test accuracy: 0.48\n",
      "ART black-box rule-based attack:\n",
      "Train accuracy: 1.0\n",
      "Test accuracy: 0.52\n",
      "For 76.00% of the data, membership status is inferred correctly.\n",
      "(0.6756756756756757, 1.0)\n",
      "ART black-box attack:\n"
     ]
    },
    {
     "name": "stderr",
     "output_type": "stream",
     "text": [
      "/home/r2-preen/.local/lib/python3.8/site-packages/sklearn/utils/deprecation.py:103: FutureWarning: The attribute `n_features_` is deprecated in 1.0 and will be removed in 1.2. Use `n_features_in_` instead.\n",
      "  warnings.warn(msg, category=FutureWarning)\n"
     ]
    },
    {
     "name": "stdout",
     "output_type": "stream",
     "text": [
      "Train accuracy: 0.532\n",
      "Test accuracy: 0.5\n",
      "For 51.60% of the data, membership status is inferred correctly.\n",
      "(0.5155038759689923, 0.532)\n",
      "**************************************************************\n"
     ]
    }
   ],
   "source": [
    "from sklearn.ensemble import RandomForestClassifier\n",
    "from sklearn.svm import SVC\n",
    "from sklearn.ensemble import BaggingClassifier\n",
    "from sklearn.tree import DecisionTreeClassifier\n",
    "\n",
    "from art.estimators.classification.scikitlearn import ScikitlearnRandomForestClassifier\n",
    "from art.estimators.classification.scikitlearn import ScikitlearnSVC\n",
    "from art.estimators.classification.scikitlearn import ScikitlearnBaggingClassifier\n",
    "from art.estimators.classification.scikitlearn import ScikitlearnDecisionTreeClassifier\n",
    "\n",
    "\n",
    "models = []\n",
    "\n",
    "model = RandomForestClassifier(bootstrap=False)\n",
    "models.append((model, ScikitlearnRandomForestClassifier, \"RandomForestClassifier\"))\n",
    "\n",
    "model = SVC()\n",
    "models.append((model, ScikitlearnSVC, \"SVC\"))\n",
    "\n",
    "model = BaggingClassifier()\n",
    "models.append((model, ScikitlearnBaggingClassifier, \"BaggingClassifier\"))\n",
    "\n",
    "model = DecisionTreeClassifier()\n",
    "models.append((model, ScikitlearnDecisionTreeClassifier, \"DecisionTreeClassifier\"))\n",
    "\n",
    "\n",
    "for model, wrapper, name in models:\n",
    "    model.fit(Xt_member, yt_member)\n",
    "    art_classifier = wrapper(model)\n",
    "    print(name + \" Target Model\\n\")\n",
    "    print(f\"Base model train accuracy: {model.score(Xt_member, yt_member)}\")\n",
    "    print(f\"Base model test accuracy: {model.score(Xt_nonmember, yt_nonmember)}\")\n",
    "    print(\"ART black-box rule-based attack:\")\n",
    "    art_black_box_attack_rulebased(art_classifier)\n",
    "    print(\"ART black-box attack:\")\n",
    "    art_black_box_attack(art_classifier)\n",
    "    print(\"**************************************************************\")"
   ]
  },
  {
   "cell_type": "markdown",
   "metadata": {},
   "source": [
    "## Keras classifiers"
   ]
  },
  {
   "cell_type": "code",
   "execution_count": 6,
   "metadata": {},
   "outputs": [
    {
     "name": "stdout",
     "output_type": "stream",
     "text": [
      "Train on 250 samples, validate on 250 samples\n",
      "Epoch 1/10\n",
      " 32/250 [==>...........................] - ETA: 0s - loss: 3.7938 - accuracy: 0.5938WARNING:tensorflow:From /usr/local/lib/python3.8/dist-packages/tensorflow/python/keras/engine/training_v1.py:2048: Model.state_updates (from tensorflow.python.keras.engine.training) is deprecated and will be removed in a future version.\n",
      "Instructions for updating:\n",
      "This property should not be used in TensorFlow 2.0, as updates are applied automatically.\n",
      "250/250 [==============================] - 0s 299us/sample - loss: 2.7171 - accuracy: 0.5560 - val_loss: 2.0938 - val_accuracy: 0.5600\n",
      "Epoch 2/10\n",
      "250/250 [==============================] - 0s 158us/sample - loss: 0.7324 - accuracy: 0.7800 - val_loss: 1.6441 - val_accuracy: 0.5880\n",
      "Epoch 3/10\n",
      "250/250 [==============================] - 0s 175us/sample - loss: 0.2099 - accuracy: 0.9320 - val_loss: 1.5491 - val_accuracy: 0.6120\n",
      "Epoch 4/10\n",
      "250/250 [==============================] - 0s 173us/sample - loss: 0.0291 - accuracy: 0.9920 - val_loss: 1.5504 - val_accuracy: 0.5840\n",
      "Epoch 5/10\n",
      "250/250 [==============================] - 0s 169us/sample - loss: 0.0173 - accuracy: 1.0000 - val_loss: 1.6654 - val_accuracy: 0.6000\n",
      "Epoch 6/10\n",
      "250/250 [==============================] - 0s 176us/sample - loss: 0.0068 - accuracy: 1.0000 - val_loss: 1.5744 - val_accuracy: 0.5960\n",
      "Epoch 7/10\n",
      "250/250 [==============================] - 0s 174us/sample - loss: 0.0026 - accuracy: 1.0000 - val_loss: 1.5214 - val_accuracy: 0.6000\n",
      "Epoch 8/10\n",
      "250/250 [==============================] - 0s 173us/sample - loss: 0.0017 - accuracy: 1.0000 - val_loss: 1.5000 - val_accuracy: 0.6040\n",
      "Epoch 9/10\n",
      "250/250 [==============================] - 0s 172us/sample - loss: 0.0015 - accuracy: 1.0000 - val_loss: 1.4921 - val_accuracy: 0.5960\n",
      "Epoch 10/10\n",
      "250/250 [==============================] - 0s 173us/sample - loss: 0.0013 - accuracy: 1.0000 - val_loss: 1.4911 - val_accuracy: 0.6080\n"
     ]
    },
    {
     "data": {
      "image/png": "[encoded data removed]",
      "text/plain": [
       "<Figure size 432x288 with 1 Axes>"
      ]
     },
     "metadata": {
      "needs_background": "light"
     },
     "output_type": "display_data"
    }
   ],
   "source": [
    "# Define target model\n",
    "# Tensorflow model (MLP) (making it big to make it overfit)\n",
    "input_data = Input(shape=n_features)\n",
    "x = Dense(128, activation=\"relu\")(input_data)\n",
    "x = Dense(128, activation=\"relu\")(x)\n",
    "x = Dense(64, activation=\"relu\")(x)\n",
    "output = Dense(n_classes, activation=\"softmax\")(x)\n",
    "target_model = Model(input_data, output)\n",
    "target_model.compile(\n",
    "    optimizer=\"adam\", loss=\"categorical_crossentropy\", metrics=[\"accuracy\"]\n",
    ")\n",
    "\n",
    "# One-hot encoding of the labels\n",
    "yt = np.eye(n_classes)[yt]\n",
    "yt_member = np.eye(n_classes)[yt_member]\n",
    "yt_nonmember = np.eye(n_classes)[yt_nonmember]\n",
    "\n",
    "# ys = np.eye(n_classes)[ys]\n",
    "# ys_member = np.eye(n_classes)[ys_member]\n",
    "# ys_nonmember = np.eye(n_classes)[ys_nonmember]\n",
    "\n",
    "# yd = np.eye(n_classes)[yd]\n",
    "# yd_member = np.eye(n_classes)[yd_member]\n",
    "# yd_nonmember = np.eye(n_classes)[yd_nonmember]\n",
    "\n",
    "\n",
    "# Train target model\n",
    "r = target_model.fit(\n",
    "    Xt_member,\n",
    "    yt_member,\n",
    "    validation_data=(Xt_nonmember, yt_nonmember),\n",
    "    epochs=10,\n",
    "    batch_size=32,\n",
    ")\n",
    "\n",
    "plt.plot(r.history[\"accuracy\"], label=\"accuracy\")\n",
    "plt.plot(r.history[\"val_accuracy\"], label=\"validation accuracy\")\n",
    "plt.legend()\n",
    "plt.show()"
   ]
  },
  {
   "cell_type": "markdown",
   "metadata": {},
   "source": [
    "### Rule-based attack on keras neural network"
   ]
  },
  {
   "cell_type": "code",
   "execution_count": 7,
   "metadata": {},
   "outputs": [
    {
     "name": "stdout",
     "output_type": "stream",
     "text": [
      "Train accuracy: 1.0\n",
      "Test accuracy: 0.392\n",
      "For 69.60% of the data, membership status is inferred correctly.\n",
      "(0.6218905472636815, 1.0)\n"
     ]
    }
   ],
   "source": [
    "from art.estimators.classification import KerasClassifier\n",
    "\n",
    "art_classifier = KerasClassifier(target_model)\n",
    "\n",
    "art_black_box_attack_rulebased(art_classifier)"
   ]
  },
  {
   "cell_type": "markdown",
   "metadata": {},
   "source": [
    "### Black-box attack on keras neural network"
   ]
  },
  {
   "cell_type": "code",
   "execution_count": 8,
   "metadata": {},
   "outputs": [
    {
     "name": "stdout",
     "output_type": "stream",
     "text": [
      "Train accuracy: 1.0\n",
      "Test accuracy: 0.46799999999999997\n",
      "For 73.40% of the data, membership status is inferred correctly.\n",
      "(0.6527415143603134, 1.0)\n"
     ]
    }
   ],
   "source": [
    "art_black_box_attack(art_classifier)"
   ]
  }
 ],
 "metadata": {
  "kernelspec": {
   "display_name": "Python 3",
   "language": "python",
   "name": "python3"
  },
  "language_info": {
   "codemirror_mode": {
    "name": "ipython",
    "version": 3
   },
   "file_extension": ".py",
   "mimetype": "text/x-python",
   "name": "python",
   "nbconvert_exporter": "python",
   "pygments_lexer": "ipython3",
   "version": "3.8.10"
  }
 },
 "nbformat": 4,
 "nbformat_minor": 4
}
