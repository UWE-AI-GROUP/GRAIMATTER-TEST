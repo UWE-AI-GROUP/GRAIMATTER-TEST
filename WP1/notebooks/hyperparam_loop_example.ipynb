{
 "cells": [
  {
   "cell_type": "code",
   "execution_count": 5,
   "id": "cdcf9e66",
   "metadata": {},
   "outputs": [],
   "source": [
    "import os\n",
    "import sys\n",
    "from sklearn.ensemble import RandomForestClassifier\n",
    "\n",
    "PROJECT_ROOT = os.path.dirname(os.path.dirname(os.path.abspath('.')))\n",
    "sys.path.append(os.path.join(PROJECT_ROOT, 'data_preprocessing'))\n",
    "\n",
    "from data_interface import get_data_sklearn"
   ]
  },
  {
   "cell_type": "code",
   "execution_count": 6,
   "id": "79219b94",
   "metadata": {},
   "outputs": [
    {
     "name": "stderr",
     "output_type": "stream",
     "text": [
      "INFO:C:\\Users\\simonr04\\git\\GRAIMatter\\data_preprocessing\\data_interface.py:DATASET FOLDER = C:\\Users\\simonr04\\git\\GRAIMatter\\data\n"
     ]
    }
   ],
   "source": [
    "X, y = get_data_sklearn('indian liver')"
   ]
  },
  {
   "cell_type": "markdown",
   "id": "ffe13e19",
   "metadata": {},
   "source": [
    "Hyperparameter arguments can be passed as a dictionary:"
   ]
  },
  {
   "cell_type": "code",
   "execution_count": 11,
   "id": "e42580d8",
   "metadata": {},
   "outputs": [],
   "source": [
    "hyperpars = {'n_estimators': 50, 'bootstrap': False, 'min_samples_split': 10}"
   ]
  },
  {
   "cell_type": "code",
   "execution_count": 12,
   "id": "ff6e34b4",
   "metadata": {},
   "outputs": [],
   "source": [
    "rf = RandomForestClassifier(**hyperpars)"
   ]
  },
  {
   "cell_type": "code",
   "execution_count": 15,
   "id": "79272f98",
   "metadata": {},
   "outputs": [
    {
     "data": {
      "text/plain": [
       "{'bootstrap': False,\n",
       " 'ccp_alpha': 0.0,\n",
       " 'class_weight': None,\n",
       " 'criterion': 'gini',\n",
       " 'max_depth': None,\n",
       " 'max_features': 'auto',\n",
       " 'max_leaf_nodes': None,\n",
       " 'max_samples': None,\n",
       " 'min_impurity_decrease': 0.0,\n",
       " 'min_samples_leaf': 1,\n",
       " 'min_samples_split': 10,\n",
       " 'min_weight_fraction_leaf': 0.0,\n",
       " 'n_estimators': 50,\n",
       " 'n_jobs': None,\n",
       " 'oob_score': False,\n",
       " 'random_state': None,\n",
       " 'verbose': 0,\n",
       " 'warm_start': False}"
      ]
     },
     "execution_count": 15,
     "metadata": {},
     "output_type": "execute_result"
    }
   ],
   "source": [
    "rf.get_params()"
   ]
  },
  {
   "cell_type": "code",
   "execution_count": 16,
   "id": "fc556322",
   "metadata": {},
   "outputs": [
    {
     "data": {
      "text/plain": [
       "RandomForestClassifier(bootstrap=False, min_samples_split=10, n_estimators=50)"
      ]
     },
     "execution_count": 16,
     "metadata": {},
     "output_type": "execute_result"
    }
   ],
   "source": [
    "rf.fit(X, y)"
   ]
  },
  {
   "cell_type": "markdown",
   "id": "22bc7bff",
   "metadata": {},
   "source": [
    "So, it would be easy enough to put this in a loop. For example, here is a dictionary with the range of values we might want to try."
   ]
  },
  {
   "cell_type": "code",
   "execution_count": 40,
   "id": "93df7598",
   "metadata": {},
   "outputs": [
    {
     "name": "stdout",
     "output_type": "stream",
     "text": [
      "{'n_estimators': 10, 'bootstrap': True, 'min_samples_split': 2}\n",
      "{'n_estimators': 10, 'bootstrap': True, 'min_samples_split': 10}\n",
      "{'n_estimators': 10, 'bootstrap': False, 'min_samples_split': 2}\n",
      "{'n_estimators': 10, 'bootstrap': False, 'min_samples_split': 10}\n",
      "{'n_estimators': 20, 'bootstrap': True, 'min_samples_split': 2}\n",
      "{'n_estimators': 20, 'bootstrap': True, 'min_samples_split': 10}\n",
      "{'n_estimators': 20, 'bootstrap': False, 'min_samples_split': 2}\n",
      "{'n_estimators': 20, 'bootstrap': False, 'min_samples_split': 10}\n",
      "{'n_estimators': 100, 'bootstrap': True, 'min_samples_split': 2}\n",
      "{'n_estimators': 100, 'bootstrap': True, 'min_samples_split': 10}\n",
      "{'n_estimators': 100, 'bootstrap': False, 'min_samples_split': 2}\n",
      "{'n_estimators': 100, 'bootstrap': False, 'min_samples_split': 10}\n"
     ]
    }
   ],
   "source": [
    "# Here's some parameters we might want to search over\n",
    "param_grid = {\n",
    "    'n_estimators': [10, 20, 100],\n",
    "    'bootstrap': [True, False],\n",
    "    'min_samples_split': [2, 10]\n",
    "}\n",
    "# Create a list with all combinations of the values\n",
    "all_combinations = itertools.product(*param_grid.values())\n",
    "\n",
    "for combination in all_combinations:\n",
    "    # Turn this particular combination into a dictionary\n",
    "    comb_dict = {n: v for n, v in zip(param_grid.keys(), combination)}\n",
    "    print(comb_dict) # just to see that it is correct\n",
    "    \n",
    "    # Create the RF with these hyper-params\n",
    "    rf = RandomForestClassifier(**comb_dict)\n",
    "    \n",
    "    # Fit, do MI, etc\n",
    "    rf.fit(X, y)"
   ]
  },
  {
   "cell_type": "code",
   "execution_count": null,
   "id": "63b3cf7a",
   "metadata": {},
   "outputs": [],
   "source": []
  }
 ],
 "metadata": {
  "kernelspec": {
   "display_name": "Python 3 (ipykernel)",
   "language": "python",
   "name": "python3"
  },
  "language_info": {
   "codemirror_mode": {
    "name": "ipython",
    "version": 3
   },
   "file_extension": ".py",
   "mimetype": "text/x-python",
   "name": "python",
   "nbconvert_exporter": "python",
   "pygments_lexer": "ipython3",
   "version": "3.9.4"
  }
 },
 "nbformat": 4,
 "nbformat_minor": 5
}
