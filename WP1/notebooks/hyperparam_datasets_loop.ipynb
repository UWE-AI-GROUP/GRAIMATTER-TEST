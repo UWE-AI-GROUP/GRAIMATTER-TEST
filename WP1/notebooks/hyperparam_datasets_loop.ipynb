{
 "cells": [
  {
   "cell_type": "markdown",
   "id": "87a469e5",
   "metadata": {},
   "source": [
    "# Notebook to loop over datasets, models, scenarios and hyper-parameters"
   ]
  },
  {
   "cell_type": "code",
   "execution_count": null,
   "id": "cdcf9e66",
   "metadata": {},
   "outputs": [],
   "source": [
    "import os\n",
    "import sys\n",
    "import logging\n",
    "PROJECT_ROOT = os.path.dirname(os.path.dirname(os.path.abspath('.')))\n",
    "sys.path.append(PROJECT_ROOT)\n",
    "from WP1.notebooks.experiments import run_loop"
   ]
  },
  {
   "cell_type": "markdown",
   "id": "33aa6ed0",
   "metadata": {},
   "source": [
    "Load the experimental config from the config file. The config file should include a single dictionary with the following keys:\n",
    "1. `datasets`: a list of the dataset names (strings) to use\n",
    "1. `classifiers`: a list of the classifiers to use. Each item is itself a list with two elements, the first being the string of the module (e.g. `\"sklearn.svm\"`) and the second being the class name (e.g. `\"SVC\"`)\n",
    "1. `experiment_params`: A dictionary where each classifier class name from above is a key and the value is another dictionary where the keys are the hyperparameters to vary and the values are lists over the values the hyper-parameter should take. Note in json, use `true, false, null` instead of `True, False, None`.\n",
    "1. `results_filename`: string of a filename in which to save the results. Will overwrite happily.\n",
    "1. `n_reps`: how many times to repeat each combination of dataset, model, scenario, hyper-parameter\n",
    "1. `mia_classifier`: the classifier to use for the attack model. Currently restricted to default hyper-params. Should be specified as a list with two items, as per `classifiers`\n",
    "1. `scenarios`: a list of the scenarios to run. Can only include a subset of \"WorstCase\", \"Salem1\", and \"Salem2\" at the moment\n",
    "\n",
    "An example config file is provided as `example_loop_experiment_config.json`"
   ]
  },
  {
   "cell_type": "code",
   "execution_count": null,
   "id": "52ed8840",
   "metadata": {},
   "outputs": [],
   "source": [
    "#CONFIG_FILENAME = \"example_loop_experiment_config.json\"\n",
    "CONFIG_FILENAME = os.path.join(\n",
    "    PROJECT_ROOT,\n",
    "    \"experiments\",\n",
    "    \"RF\",\n",
    "    \"randomForest_config.json\"\n",
    ")"
   ]
  },
  {
   "cell_type": "code",
   "execution_count": null,
   "id": "25b69176",
   "metadata": {},
   "outputs": [],
   "source": [
    "run_loop(CONFIG_FILENAME)"
   ]
  },
  {
   "cell_type": "code",
   "execution_count": null,
   "id": "3d08c815",
   "metadata": {},
   "outputs": [],
   "source": []
  }
 ],
 "metadata": {
  "kernelspec": {
   "display_name": "Python 3 (ipykernel)",
   "language": "python",
   "name": "python3"
  },
  "language_info": {
   "codemirror_mode": {
    "name": "ipython",
    "version": 3
   },
   "file_extension": ".py",
   "mimetype": "text/x-python",
   "name": "python",
   "nbconvert_exporter": "python",
   "pygments_lexer": "ipython3",
   "version": "3.9.4"
  }
 },
 "nbformat": 4,
 "nbformat_minor": 5
}
