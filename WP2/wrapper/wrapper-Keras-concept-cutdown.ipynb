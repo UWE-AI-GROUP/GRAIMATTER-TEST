{
 "cells": [
  {
   "cell_type": "code",
   "execution_count": 1,
   "metadata": {},
   "outputs": [],
   "source": [
    "import sys\n",
    "import os\n",
    "\n",
    "ROOT_DIR = os.path.dirname(os.path.dirname(os.path.abspath(\"\")))\n",
    "sys.path.append(ROOT_DIR)"
   ]
  },
  {
   "cell_type": "code",
   "execution_count": 2,
   "metadata": {},
   "outputs": [
    {
     "name": "stderr",
     "output_type": "stream",
     "text": [
      "2022-05-26 02:29:39.882965: W tensorflow/stream_executor/platform/default/dso_loader.cc:64] Could not load dynamic library 'libcudart.so.11.0'; dlerror: libcudart.so.11.0: cannot open shared object file: No such file or directory\n",
      "2022-05-26 02:29:39.883010: I tensorflow/stream_executor/cuda/cudart_stub.cc:29] Ignore above cudart dlerror if you do not have a GPU set up on your machine.\n"
     ]
    }
   ],
   "source": [
    "import numpy as np\n",
    "import matplotlib.pyplot as plt\n",
    "\n",
    "%matplotlib inline\n",
    "\n",
    "# Scikit-learn utils\n",
    "from sklearn.model_selection import train_test_split\n",
    "from sklearn.datasets import make_classification, make_moons\n",
    "from sklearn.metrics import ConfusionMatrixDisplay\n",
    "from sklearn.metrics import confusion_matrix, classification_report, roc_curve, auc\n",
    "\n",
    "# Tensorflow imports\n",
    "import tensorflow as tf\n",
    "from tensorflow.keras.models import Model\n",
    "from tensorflow.keras.layers import Input, Dense, Dropout\n",
    "\n",
    "# Classifiers for attack models\n",
    "from sklearn.linear_model import LogisticRegression\n",
    "from sklearn.neural_network import MLPClassifier\n"
   ]
  },
  {
   "cell_type": "code",
   "execution_count": 3,
   "metadata": {},
   "outputs": [],
   "source": [
    "#import t=privachy version \n",
    "import tensorflow_privacy\n",
    "\n",
    "from tensorflow_privacy.privacy.analysis import compute_dp_sgd_privacy\n"
   ]
  },
  {
   "cell_type": "markdown",
   "metadata": {},
   "source": [
    "### Definition of the datasets\n",
    "1. We draw data points from a distribution.\n",
    "2. We split these data points into the target dataset and a shadow dataset drawn from the same distribution.\n",
    "3. We also draw a dataset from a different distribution.\n",
    "\n",
    "**NOTE**. ***I make datasets with few samples but with many features to force the target model to overfit.***\n",
    "\n",
    "\n",
    "***NOTE JIM: had to make batch_size 25 so DP optimizer would run with same hyperparams"
   ]
  },
  {
   "cell_type": "code",
   "execution_count": 4,
   "metadata": {},
   "outputs": [],
   "source": [
    "n_classes = 2\n",
    "\n",
    "# (X,y): Original distribution\n",
    "X, y = make_classification(n_samples=1000,\n",
    "                           n_classes=n_classes, \n",
    "                           n_features=300,\n",
    "                           n_informative=300,\n",
    "                           n_redundant=0,\n",
    "                           n_repeated=0,\n",
    "                           random_state=15\n",
    "                          )\n",
    "# One-hot encoding of the label\n",
    "y = np.eye(n_classes)[y]\n",
    "\n",
    "# (Xt, yt) is the target dataset, owned by the TRE and drawn from the (X,y) distribution\n",
    "# (Xs, ys) is a shadow dataset drawn from the (X,y) distribution\n",
    "Xt, Xs, yt, ys = train_test_split(X, y, test_size=0.50, random_state=15)\n",
    "\n",
    "# (Xd, yd) is a shadow dataset, drawn from a different distribution (different seed)\n",
    "Xd, yd = make_classification(n_samples=1000,\n",
    "                           n_classes=n_classes, \n",
    "                           n_features=300,\n",
    "                           n_informative=300,\n",
    "                           n_redundant=0,\n",
    "                           n_repeated=0,\n",
    "                           random_state=42\n",
    "                          )\n",
    "yd = np.eye(n_classes)[yd]\n",
    "\n",
    "\n"
   ]
  },
  {
   "cell_type": "code",
   "execution_count": 5,
   "metadata": {},
   "outputs": [],
   "source": [
    "# Split into train (member) and test (non-member) datasets\n",
    "# Set shuffle to False so that Xt_membership is consistent with Xt, otherwise\n",
    "# we need to stack Xt_member and Xt_nonmember again to get a consistent Xt.\n",
    "Xt_member, Xt_nonmember, yt_member, yt_nonmember = train_test_split(Xt, yt, test_size=0.5, shuffle=False)\n",
    "\n",
    "# Set membership status for future tests\n",
    "Xt_membership = np.vstack(\n",
    "    (\n",
    "        np.ones((Xt_member.shape[0], 1), np.uint8),\n",
    "        np.zeros((Xt_nonmember.shape[0], 1), np.uint8)\n",
    "    )\n",
    ").flatten()"
   ]
  },
  {
   "cell_type": "markdown",
   "metadata": {},
   "source": [
    "### Define the target model architecture\n",
    "\n",
    "*Again, I'm using a rather big model (for the classification task) to favour overfitting.*"
   ]
  },
  {
   "cell_type": "code",
   "execution_count": 6,
   "metadata": {},
   "outputs": [
    {
     "name": "stderr",
     "output_type": "stream",
     "text": [
      "2022-05-26 02:29:49.125654: W tensorflow/stream_executor/platform/default/dso_loader.cc:64] Could not load dynamic library 'libcuda.so.1'; dlerror: libcuda.so.1: cannot open shared object file: No such file or directory\n",
      "2022-05-26 02:29:49.125777: W tensorflow/stream_executor/cuda/cuda_driver.cc:269] failed call to cuInit: UNKNOWN ERROR (303)\n",
      "2022-05-26 02:29:49.125833: I tensorflow/stream_executor/cuda/cuda_diagnostics.cc:156] kernel driver does not appear to be running on this host (ubuntu): /proc/driver/nvidia/version does not exist\n",
      "2022-05-26 02:29:49.128520: I tensorflow/core/platform/cpu_feature_guard.cc:151] This TensorFlow binary is optimized with oneAPI Deep Neural Network Library (oneDNN) to use the following CPU instructions in performance-critical operations:  AVX2 FMA\n",
      "To enable them in other operations, rebuild TensorFlow with the appropriate compiler flags.\n"
     ]
    }
   ],
   "source": [
    "# Define target model\n",
    "# Tensorflow model (MLP) (making it big to make it overfit)\n",
    "\n",
    "input_data = Input(shape = Xt_member[0].shape)\n",
    "x = Dense(128, activation='relu')(input_data)\n",
    "x = Dense(128, activation='relu')(x)\n",
    "x = Dense(64, activation='relu')(x)\n",
    "output = Dense(2, activation='softmax')(x)"
   ]
  },
  {
   "cell_type": "markdown",
   "metadata": {},
   "source": [
    "## Now try the SafeKerasModel version"
   ]
  },
  {
   "cell_type": "code",
   "execution_count": 7,
   "metadata": {
    "scrolled": true
   },
   "outputs": [],
   "source": [
    "import importlib\n",
    "import safemodel\n",
    "from safemodel.classifiers.safekeras import Safe_KerasModel\n",
    "\n",
    "\n",
    "\n",
    "importlib.reload(safemodel.safemodel)\n",
    "importlib.reload(safemodel.classifiers.safekeras)\n",
    "from safemodel.classifiers.safekeras import Safe_KerasModel\n",
    "\n"
   ]
  },
  {
   "cell_type": "code",
   "execution_count": 8,
   "metadata": {},
   "outputs": [
    {
     "name": "stdout",
     "output_type": "stream",
     "text": [
      "args is a <class 'tuple'> = ()  kwargs is a <class 'dict'>= {'inputs': <KerasTensor: shape=(None, 300) dtype=float32 (created by layer 'input_1')>, 'outputs': <KerasTensor: shape=(None, 2) dtype=float32 (created by layer 'dense_3')>, 'name': 'safekeras-test'}\n",
      "inputs is in kwargs.keys\n",
      "KerasTensor(type_spec=TensorSpec(shape=(None, 300), dtype=tf.float32, name='input_1'), name='input_1', description=\"created by layer 'input_1'\")\n",
      "Model parameters are within recommended ranges.\n",
      "\n"
     ]
    }
   ],
   "source": [
    "optimizer=None\n",
    "safeModel = Safe_KerasModel(inputs= input_data, outputs=output,name=\"safekeras-test\")\n"
   ]
  },
  {
   "cell_type": "code",
   "execution_count": 9,
   "metadata": {},
   "outputs": [],
   "source": [
    "#safeModel.__dict__\n"
   ]
  },
  {
   "cell_type": "code",
   "execution_count": 10,
   "metadata": {},
   "outputs": [
    {
     "name": "stdout",
     "output_type": "stream",
     "text": [
      "Changed parameter optimizer = 'DPKerasSGDOptimizer'\n",
      "WARNING: model parameters may present a disclosure risk\n",
      "Unknown optimizer <class 'tensorflow_privacy.privacy.optimizers.dp_optimizer_keras.make_keras_optimizer_class.<locals>.DPOptimizerClass'> - Changed parameter optimizer = 'DPKerasSGDOptimizer'\n",
      "DP optimizer used = False\n",
      "optimizer has been changed but fit() has not been rerun.\n"
     ]
    }
   ],
   "source": [
    "loss = tf.keras.losses.CategoricalCrossentropy(\n",
    "    from_logits=False, reduction=tf.losses.Reduction.NONE)\n",
    "\n",
    "\n",
    "safeModel.compile(loss=loss)#optimizer='adam', loss='categorical_crossentropy', metrics=['accuracy'])\n",
    "\n",
    "\n"
   ]
  },
  {
   "cell_type": "code",
   "execution_count": 11,
   "metadata": {
    "scrolled": true
   },
   "outputs": [
    {
     "name": "stdout",
     "output_type": "stream",
     "text": [
      "optimiser is type <class 'tensorflow_privacy.privacy.optimizers.dp_optimizer_keras.make_keras_optimizer_class.<locals>.DPOptimizerClass'>\n",
      " It is True that the model will be DP because optimizer does  contain key _was_dp_gradients_called so should be DP.\n"
     ]
    }
   ],
   "source": [
    "theType= type(safeModel.optimizer)\n",
    "print(f'optimiser is type {theType}')\n",
    "\n",
    "dpused,reason = safeModel.check_optimizer_is_DP(safeModel.optimizer)\n",
    "print(f' It is {dpused} that the model will be DP because {reason}')"
   ]
  },
  {
   "cell_type": "code",
   "execution_count": 12,
   "metadata": {},
   "outputs": [
    {
     "name": "stdout",
     "output_type": "stream",
     "text": [
      "(250, 300)\n",
      "DP-SGD with sampling rate = 10% and noise_multiplier = 0.5 iterated over 200 steps satisfies differential privacy with eps = 50.3 and delta = 1e-05.\n",
      "The optimal RDP order is 1.5.\n",
      "Current epsilon is 50.301726361197794\n",
      "The requirements for DP are not met, current epsilon is: 50.301726361197794. To attain true DP the following parameters can be changed:  Num Samples = 250, batch_size = 25, epochs = 20\n",
      "This will not result in a Differentially Private model do you want to continue [Y/N]y\n",
      "Continuing\n",
      "Epoch 1/20\n",
      "10/10 [==============================] - 3s 82ms/step - loss: 2.3408 - accuracy: 0.5240 - val_loss: 2.5377 - val_accuracy: 0.4800\n",
      "Epoch 2/20\n",
      "10/10 [==============================] - 0s 35ms/step - loss: 2.0892 - accuracy: 0.5680 - val_loss: 2.4009 - val_accuracy: 0.4800\n",
      "Epoch 3/20\n",
      "10/10 [==============================] - 1s 60ms/step - loss: 1.7973 - accuracy: 0.6000 - val_loss: 2.3339 - val_accuracy: 0.5040\n",
      "Epoch 4/20\n",
      "10/10 [==============================] - 0s 51ms/step - loss: 1.5689 - accuracy: 0.6240 - val_loss: 2.4172 - val_accuracy: 0.4840\n",
      "Epoch 5/20\n",
      "10/10 [==============================] - 1s 62ms/step - loss: 1.3527 - accuracy: 0.6360 - val_loss: 2.4405 - val_accuracy: 0.5160\n",
      "Epoch 6/20\n",
      "10/10 [==============================] - 0s 45ms/step - loss: 1.2617 - accuracy: 0.6720 - val_loss: 2.4573 - val_accuracy: 0.5240\n",
      "Epoch 7/20\n",
      "10/10 [==============================] - 1s 68ms/step - loss: 1.0817 - accuracy: 0.7320 - val_loss: 2.4087 - val_accuracy: 0.5320\n",
      "Epoch 8/20\n",
      "10/10 [==============================] - 1s 70ms/step - loss: 0.9120 - accuracy: 0.7480 - val_loss: 2.4239 - val_accuracy: 0.5320\n",
      "Epoch 9/20\n",
      "10/10 [==============================] - 0s 41ms/step - loss: 0.8946 - accuracy: 0.7720 - val_loss: 2.5323 - val_accuracy: 0.5200\n",
      "Epoch 10/20\n",
      "10/10 [==============================] - 0s 45ms/step - loss: 0.7635 - accuracy: 0.8160 - val_loss: 2.6379 - val_accuracy: 0.5080\n",
      "Epoch 11/20\n",
      "10/10 [==============================] - 0s 38ms/step - loss: 0.7623 - accuracy: 0.8120 - val_loss: 2.5221 - val_accuracy: 0.5160\n",
      "Epoch 12/20\n",
      "10/10 [==============================] - 0s 38ms/step - loss: 0.6745 - accuracy: 0.8480 - val_loss: 2.5595 - val_accuracy: 0.5360\n",
      "Epoch 13/20\n",
      "10/10 [==============================] - 0s 34ms/step - loss: 0.6450 - accuracy: 0.8320 - val_loss: 2.5921 - val_accuracy: 0.5000\n",
      "Epoch 14/20\n",
      "10/10 [==============================] - 1s 53ms/step - loss: 0.5927 - accuracy: 0.8560 - val_loss: 2.4409 - val_accuracy: 0.5400\n",
      "Epoch 15/20\n",
      "10/10 [==============================] - 0s 36ms/step - loss: 0.5196 - accuracy: 0.8760 - val_loss: 2.5773 - val_accuracy: 0.5240\n",
      "Epoch 16/20\n",
      "10/10 [==============================] - 0s 39ms/step - loss: 0.5107 - accuracy: 0.8880 - val_loss: 2.6307 - val_accuracy: 0.5200\n",
      "Epoch 17/20\n",
      "10/10 [==============================] - 0s 51ms/step - loss: 0.5072 - accuracy: 0.8720 - val_loss: 2.7648 - val_accuracy: 0.5160\n",
      "Epoch 18/20\n",
      "10/10 [==============================] - 0s 43ms/step - loss: 0.5224 - accuracy: 0.8800 - val_loss: 2.8775 - val_accuracy: 0.5120\n",
      "Epoch 19/20\n",
      "10/10 [==============================] - 0s 52ms/step - loss: 0.4612 - accuracy: 0.8760 - val_loss: 3.0203 - val_accuracy: 0.5160\n",
      "Epoch 20/20\n",
      "10/10 [==============================] - 0s 48ms/step - loss: 0.4146 - accuracy: 0.8880 - val_loss: 2.9945 - val_accuracy: 0.5160\n"
     ]
    },
    {
     "data": {
      "image/png": "[encoded data removed]",
      "text/plain": [
       "<Figure size 432x288 with 1 Axes>"
      ]
     },
     "metadata": {
      "needs_background": "light"
     },
     "output_type": "display_data"
    }
   ],
   "source": [
    "epochs = 20\n",
    "batch_size = 25\n",
    "\n",
    "r_DP = safeModel.fit(Xt_member, \n",
    "              yt_member, \n",
    "              validation_data=(Xt_nonmember, yt_nonmember),\n",
    "              epochs=epochs, \n",
    "              batch_size=batch_size\n",
    ")  \n",
    "\n",
    "\n",
    "plt.plot(r_DP.history['accuracy'], label='accuracy')\n",
    "plt.plot(r_DP.history['val_accuracy'], label='validation accuracy')\n",
    "plt.legend()\n",
    "plt.show() \n"
   ]
  },
  {
   "cell_type": "code",
   "execution_count": 13,
   "metadata": {},
   "outputs": [
    {
     "name": "stdout",
     "output_type": "stream",
     "text": [
      "optimiser is type <class 'tensorflow_privacy.privacy.optimizers.dp_optimizer_keras.make_keras_optimizer_class.<locals>.DPOptimizerClass'>\n",
      " It is True that the model will be DP because  value of optimizer._was_dp_gradients_called is True so DP variant of optimizer has been run\n"
     ]
    }
   ],
   "source": [
    "theType= type(safeModel.optimizer)\n",
    "print(f'optimiser is type {theType}')\n",
    "\n",
    "dpused,reason = safeModel.check_DP_used(safeModel.optimizer)\n",
    "print(f' It is {dpused} that the model will be DP because {reason}')"
   ]
  },
  {
   "cell_type": "markdown",
   "metadata": {},
   "source": [
    "## compute privacy"
   ]
  },
  {
   "cell_type": "code",
   "execution_count": 14,
   "metadata": {},
   "outputs": [
    {
     "name": "stdout",
     "output_type": "stream",
     "text": [
      "dataset has 500 entries so batch size is 5.0%\n",
      "DP-SGD with sampling rate = 5% and noise_multiplier = 0.5 iterated over 500 steps satisfies differential privacy with eps = 43.9 and delta = 1e-05.\n",
      "The optimal RDP order is 1.5.\n",
      "with these settings privacy = (43.85228589564216, 1.5)\n"
     ]
    }
   ],
   "source": [
    "print(f'dataset has {Xt.shape[0]} entries so batch size is {100*safeModel.batch_size/Xt.shape[0]}%')\n",
    "privacy = compute_dp_sgd_privacy.compute_dp_sgd_privacy(n=Xt.shape[0],\n",
    "                                              batch_size=safeModel.batch_size,\n",
    "                                              noise_multiplier=safeModel.noise_multiplier,\n",
    "                                              epochs=25,#epochs,\n",
    "                                              delta=1e-5)\n",
    "print(f'with these settings privacy = {privacy}')"
   ]
  },
  {
   "cell_type": "code",
   "execution_count": 15,
   "metadata": {},
   "outputs": [
    {
     "name": "stderr",
     "output_type": "stream",
     "text": [
      "2022-05-26 02:30:05.947066: W tensorflow/python/util/util.cc:368] Sets are not currently considered sequences, but this may change in the future, so consider avoiding using them.\n"
     ]
    },
    {
     "name": "stdout",
     "output_type": "stream",
     "text": [
      "INFO:tensorflow:Assets written to: safekeras.sav/assets\n"
     ]
    }
   ],
   "source": [
    "safeModel.save('safekeras.sav')"
   ]
  },
  {
   "cell_type": "code",
   "execution_count": 16,
   "metadata": {},
   "outputs": [
    {
     "name": "stdout",
     "output_type": "stream",
     "text": [
      "Model parameters are within recommended ranges.\n",
      "\n"
     ]
    },
    {
     "data": {
      "text/plain": [
       "('Model parameters are within recommended ranges.\\n', False)"
      ]
     },
     "execution_count": 16,
     "metadata": {},
     "output_type": "execute_result"
    }
   ],
   "source": [
    "safeModel.preliminary_check()"
   ]
  },
  {
   "cell_type": "code",
   "execution_count": 17,
   "metadata": {},
   "outputs": [
    {
     "name": "stdout",
     "output_type": "stream",
     "text": [
      "thing associated with key _self_setattr_tracking has type <class 'bool'>\n",
      "thing associated with key _obj_reference_counts_dict has type <class 'keras.utils.object_identity.ObjectIdentityDictionary'>\n",
      "thing associated with key inputs has type <class 'list'>\n",
      "thing associated with key outputs has type <class 'list'>\n",
      "thing associated with key l2_norm_clip has type <class 'float'>\n",
      "thing associated with key noise_multiplier has type <class 'float'>\n",
      "thing associated with key min_epsilon has type <class 'int'>\n",
      "thing associated with key delta has type <class 'float'>\n",
      "thing associated with key batch_size has type <class 'int'>\n",
      "thing associated with key learning_rate has type <class 'float'>\n",
      "thing associated with key _is_model_for_instrumentation has type <class 'bool'>\n",
      "thing associated with key _instrumented_keras_api has type <class 'bool'>\n",
      "thing associated with key _instrumented_keras_layer_class has type <class 'bool'>\n",
      "thing associated with key _instrumented_keras_model_class has type <class 'bool'>\n",
      "thing associated with key _trainable has type <class 'bool'>\n",
      "thing associated with key _stateful has type <class 'bool'>\n",
      "thing associated with key built has type <class 'bool'>\n",
      "thing associated with key _input_spec has type <class 'NoneType'>\n",
      "thing associated with key _build_input_shape has type <class 'tensorflow.python.framework.tensor_shape.TensorShape'>\n",
      "thing associated with key _saved_model_inputs_spec has type <class 'tensorflow.python.framework.tensor_spec.TensorSpec'>\n",
      "thing associated with key _saved_model_arg_spec has type <class 'tuple'>\n",
      "thing associated with key _supports_masking has type <class 'bool'>\n",
      "thing associated with key _name has type <class 'str'>\n",
      "thing associated with key _activity_regularizer has type <class 'NoneType'>\n",
      "thing associated with key _trainable_weights has type <class 'list'>\n",
      "thing associated with key _non_trainable_weights has type <class 'list'>\n",
      "thing associated with key _updates has type <class 'list'>\n",
      "thing associated with key _thread_local has type <class '_thread._local'>\n",
      "thing associated with key _callable_losses has type <class 'list'>\n",
      "thing associated with key _losses has type <class 'list'>\n",
      "thing associated with key _metrics has type <class 'list'>\n",
      "thing associated with key _metrics_lock has type <class '_thread.lock'>\n",
      "thing associated with key _dtype_policy has type <class 'keras.mixed_precision.policy.Policy'>\n",
      "thing associated with key _compute_dtype_object has type <class 'tensorflow.python.framework.dtypes.DType'>\n",
      "thing associated with key _autocast has type <class 'bool'>\n",
      "thing associated with key _self_tracked_trackables has type <class 'list'>\n",
      "thing associated with key _inbound_nodes_value has type <class 'list'>\n",
      "thing associated with key _outbound_nodes_value has type <class 'list'>\n",
      "thing associated with key _expects_training_arg has type <class 'bool'>\n",
      "thing associated with key _default_training_arg has type <class 'NoneType'>\n",
      "thing associated with key _expects_mask_arg has type <class 'bool'>\n",
      "thing associated with key _dynamic has type <class 'bool'>\n",
      "thing associated with key _initial_weights has type <class 'NoneType'>\n",
      "thing associated with key _auto_track_sub_layers has type <class 'bool'>\n",
      "thing associated with key _preserve_input_structure_in_config has type <class 'bool'>\n",
      "thing associated with key _outer_name_scope has type <class 'str'>\n",
      "thing associated with key _is_graph_network has type <class 'bool'>\n",
      "thing associated with key input_names has type <class 'list'>\n",
      "thing associated with key output_names has type <class 'list'>\n",
      "thing associated with key _compute_output_and_mask_jointly has type <class 'bool'>\n",
      "thing associated with key _distribution_strategy has type <class 'NoneType'>\n",
      "thing associated with key _cluster_coordinator has type <class 'NoneType'>\n",
      "thing associated with key _compiled_trainable_state has type <class 'weakref.WeakKeyDictionary'>\n",
      "thing associated with key _training_state has type <class 'NoneType'>\n",
      "thing associated with key _trackable_saver has type <class 'tensorflow.python.training.tracking.util.TrackableSaver'>\n",
      "thing associated with key _steps_per_execution has type <class 'tensorflow.python.ops.resource_variable_ops.ResourceVariable'>\n",
      "thing associated with key _train_counter has type <class 'tensorflow.python.ops.resource_variable_ops.ResourceVariable'>\n",
      "thing associated with key _test_counter has type <class 'tensorflow.python.ops.resource_variable_ops.ResourceVariable'>\n",
      "thing associated with key _predict_counter has type <class 'tensorflow.python.ops.resource_variable_ops.ResourceVariable'>\n",
      "thing associated with key _base_model_initialized has type <class 'bool'>\n",
      "thing associated with key _nested_inputs has type <class 'keras.engine.keras_tensor.KerasTensor'>\n",
      "thing associated with key _nested_outputs has type <class 'keras.engine.keras_tensor.KerasTensor'>\n",
      "thing associated with key _enable_dict_to_input_mapping has type <class 'bool'>\n",
      "thing associated with key _input_layers has type <class 'list'>\n",
      "thing associated with key _output_layers has type <class 'list'>\n",
      "thing associated with key _input_coordinates has type <class 'list'>\n",
      "thing associated with key _output_coordinates has type <class 'list'>\n",
      "thing associated with key _output_mask_cache has type <class 'dict'>\n",
      "thing associated with key _output_tensor_cache has type <class 'dict'>\n",
      "thing associated with key _output_shape_cache has type <class 'dict'>\n",
      "thing associated with key _network_nodes has type <class 'set'>\n",
      "thing associated with key _nodes_by_depth has type <class 'collections.defaultdict'>\n",
      "thing associated with key _layer_call_argspecs has type <class 'dict'>\n",
      "thing associated with key _feed_input_names has type <class 'list'>\n",
      "thing associated with key _feed_inputs has type <class 'list'>\n",
      "thing associated with key _feed_input_shapes has type <class 'list'>\n",
      "thing associated with key _tensor_usage_count has type <class 'collections.Counter'>\n",
      "thing associated with key model has type <class 'NoneType'>\n",
      "thing associated with key saved_model has type <class 'NoneType'>\n",
      "thing associated with key model_save_file has type <class 'str'>\n",
      "thing associated with key _self_unconditional_checkpoint_dependencies has type <class 'list'>\n",
      "thing associated with key _self_unconditional_dependency_names has type <class 'dict'>\n",
      "thing associated with key _self_unconditional_deferred_dependencies has type <class 'dict'>\n",
      "thing associated with key _self_update_uid has type <class 'int'>\n",
      "thing associated with key _self_name_based_restores has type <class 'set'>\n",
      "thing associated with key _self_saveable_object_factories has type <class 'dict'>\n",
      "thing associated with key examine_seperately_items has type <class 'tensorflow.python.training.tracking.data_structures.ListWrapper'>\n",
      "thing associated with key filename has type <class 'str'>\n",
      "thing associated with key researcher has type <class 'str'>\n",
      "thing associated with key ignore_items has type <class 'tensorflow.python.training.tracking.data_structures.ListWrapper'>\n",
      "thing associated with key model_type has type <class 'str'>\n",
      "thing associated with key num_microbatches has type <class 'NoneType'>\n",
      "thing associated with key _run_eagerly has type <class 'NoneType'>\n",
      "thing associated with key optimizer has type <class 'tensorflow_privacy.privacy.optimizers.dp_optimizer_keras.make_keras_optimizer_class.<locals>.DPOptimizerClass'>\n",
      "thing associated with key compiled_loss has type <class 'keras.engine.compile_utils.LossesContainer'>\n",
      "thing associated with key compiled_metrics has type <class 'keras.engine.compile_utils.MetricsContainer'>\n",
      "thing associated with key _is_compiled has type <class 'bool'>\n",
      "thing associated with key loss has type <class 'keras.losses.CategoricalCrossentropy'>\n",
      "thing associated with key _jit_compile has type <class 'NoneType'>\n",
      "thing associated with key num_samples has type <class 'int'>\n",
      "thing associated with key stop_training has type <class 'bool'>\n",
      "thing associated with key history has type <class 'keras.callbacks.History'>\n",
      "thing associated with key train_function has type <class 'tensorflow.python.eager.def_function.Function'>\n",
      "thing associated with key test_function has type <class 'tensorflow.python.eager.def_function.Function'>\n",
      "thing associated with key predict_function has type <class 'NoneType'>\n",
      "thing associated with key train_tf_function has type <class 'tensorflow.python.eager.def_function.Function'>\n"
     ]
    }
   ],
   "source": [
    "for key,value in safeModel.__dict__.items():\n",
    "     print (f'thing associated with key {key} has type {type(value)}')"
   ]
  },
  {
   "cell_type": "code",
   "execution_count": 18,
   "metadata": {},
   "outputs": [
    {
     "name": "stdout",
     "output_type": "stream",
     "text": [
      "===============================================================================================\n",
      "Tuples\n",
      "===============================================================================================\n",
      "thing associated with key _saved_model_arg_spec has type <class 'tuple'>\n",
      "===============================================================================================\n",
      "Bools\n",
      "===============================================================================================\n",
      "thing associated with key _self_setattr_tracking has type <class 'bool'>\n",
      "thing associated with key _is_model_for_instrumentation has type <class 'bool'>\n",
      "thing associated with key _instrumented_keras_api has type <class 'bool'>\n",
      "thing associated with key _instrumented_keras_layer_class has type <class 'bool'>\n",
      "thing associated with key _instrumented_keras_model_class has type <class 'bool'>\n",
      "thing associated with key _trainable has type <class 'bool'>\n",
      "thing associated with key _stateful has type <class 'bool'>\n",
      "thing associated with key built has type <class 'bool'>\n",
      "thing associated with key _supports_masking has type <class 'bool'>\n",
      "thing associated with key _autocast has type <class 'bool'>\n",
      "thing associated with key _expects_training_arg has type <class 'bool'>\n",
      "thing associated with key _expects_mask_arg has type <class 'bool'>\n",
      "thing associated with key _dynamic has type <class 'bool'>\n",
      "thing associated with key _auto_track_sub_layers has type <class 'bool'>\n",
      "thing associated with key _preserve_input_structure_in_config has type <class 'bool'>\n",
      "thing associated with key _is_graph_network has type <class 'bool'>\n",
      "thing associated with key _compute_output_and_mask_jointly has type <class 'bool'>\n",
      "thing associated with key _base_model_initialized has type <class 'bool'>\n",
      "thing associated with key _enable_dict_to_input_mapping has type <class 'bool'>\n",
      "thing associated with key _is_compiled has type <class 'bool'>\n",
      "thing associated with key stop_training has type <class 'bool'>\n",
      "===============================================================================================\n",
      "Lists\n",
      "===============================================================================================\n",
      "thing associated with key inputs has type <class 'list'>\n",
      "thing associated with key outputs has type <class 'list'>\n",
      "thing associated with key _trainable_weights has type <class 'list'>\n",
      "thing associated with key _non_trainable_weights has type <class 'list'>\n",
      "thing associated with key _updates has type <class 'list'>\n",
      "thing associated with key _callable_losses has type <class 'list'>\n",
      "thing associated with key _losses has type <class 'list'>\n",
      "thing associated with key _metrics has type <class 'list'>\n",
      "thing associated with key _self_tracked_trackables has type <class 'list'>\n",
      "thing associated with key _inbound_nodes_value has type <class 'list'>\n",
      "thing associated with key _outbound_nodes_value has type <class 'list'>\n",
      "thing associated with key input_names has type <class 'list'>\n",
      "thing associated with key output_names has type <class 'list'>\n",
      "thing associated with key _input_layers has type <class 'list'>\n",
      "thing associated with key _output_layers has type <class 'list'>\n",
      "thing associated with key _input_coordinates has type <class 'list'>\n",
      "thing associated with key _output_coordinates has type <class 'list'>\n",
      "thing associated with key _feed_input_names has type <class 'list'>\n",
      "thing associated with key _feed_inputs has type <class 'list'>\n",
      "thing associated with key _feed_input_shapes has type <class 'list'>\n",
      "thing associated with key _self_unconditional_checkpoint_dependencies has type <class 'list'>\n",
      "===============================================================================================\n",
      "Strings\n",
      "===============================================================================================\n",
      "thing associated with key _name has type <class 'str'>\n",
      "thing associated with key _outer_name_scope has type <class 'str'>\n",
      "thing associated with key model_save_file has type <class 'str'>\n",
      "thing associated with key filename has type <class 'str'>\n",
      "thing associated with key researcher has type <class 'str'>\n",
      "thing associated with key model_type has type <class 'str'>\n",
      "===============================================================================================\n",
      "Ints\n",
      "===============================================================================================\n",
      "thing associated with key min_epsilon has type <class 'int'>\n",
      "thing associated with key batch_size has type <class 'int'>\n",
      "thing associated with key _self_update_uid has type <class 'int'>\n",
      "thing associated with key num_samples has type <class 'int'>\n",
      "===============================================================================================\n",
      "Floats\n",
      "===============================================================================================\n",
      "thing associated with key l2_norm_clip has type <class 'float'>\n",
      "thing associated with key noise_multiplier has type <class 'float'>\n",
      "thing associated with key delta has type <class 'float'>\n",
      "thing associated with key learning_rate has type <class 'float'>\n",
      "===============================================================================================\n",
      "Dicts\n",
      "===============================================================================================\n",
      "thing associated with key _output_mask_cache has type <class 'dict'>\n",
      "thing associated with key _output_tensor_cache has type <class 'dict'>\n",
      "thing associated with key _output_shape_cache has type <class 'dict'>\n",
      "thing associated with key _layer_call_argspecs has type <class 'dict'>\n",
      "thing associated with key _self_unconditional_dependency_names has type <class 'dict'>\n",
      "thing associated with key _self_unconditional_deferred_dependencies has type <class 'dict'>\n",
      "thing associated with key _self_saveable_object_factories has type <class 'dict'>\n",
      "===============================================================================================\n",
      "Sets\n",
      "===============================================================================================\n",
      "thing associated with key _network_nodes has type <class 'set'>\n",
      "thing associated with key _self_name_based_restores has type <class 'set'>\n",
      "===============================================================================================\n",
      "Unusual Ones\n",
      "===============================================================================================\n",
      "thing associated with key _obj_reference_counts_dict has type <class 'keras.utils.object_identity.ObjectIdentityDictionary'>\n",
      "thing associated with key _input_spec has type <class 'NoneType'>\n",
      "thing associated with key _build_input_shape has type <class 'tensorflow.python.framework.tensor_shape.TensorShape'>\n",
      "thing associated with key _saved_model_inputs_spec has type <class 'tensorflow.python.framework.tensor_spec.TensorSpec'>\n",
      "thing associated with key _activity_regularizer has type <class 'NoneType'>\n",
      "thing associated with key _thread_local has type <class '_thread._local'>\n",
      "thing associated with key _metrics_lock has type <class '_thread.lock'>\n",
      "thing associated with key _dtype_policy has type <class 'keras.mixed_precision.policy.Policy'>\n",
      "thing associated with key _compute_dtype_object has type <class 'tensorflow.python.framework.dtypes.DType'>\n",
      "thing associated with key _default_training_arg has type <class 'NoneType'>\n",
      "thing associated with key _initial_weights has type <class 'NoneType'>\n",
      "thing associated with key _distribution_strategy has type <class 'NoneType'>\n",
      "thing associated with key _cluster_coordinator has type <class 'NoneType'>\n",
      "thing associated with key _compiled_trainable_state has type <class 'weakref.WeakKeyDictionary'>\n",
      "thing associated with key _training_state has type <class 'NoneType'>\n",
      "thing associated with key _trackable_saver has type <class 'tensorflow.python.training.tracking.util.TrackableSaver'>\n",
      "thing associated with key _steps_per_execution has type <class 'tensorflow.python.ops.resource_variable_ops.ResourceVariable'>\n",
      "thing associated with key _train_counter has type <class 'tensorflow.python.ops.resource_variable_ops.ResourceVariable'>\n",
      "thing associated with key _test_counter has type <class 'tensorflow.python.ops.resource_variable_ops.ResourceVariable'>\n",
      "thing associated with key _predict_counter has type <class 'tensorflow.python.ops.resource_variable_ops.ResourceVariable'>\n",
      "thing associated with key _nested_inputs has type <class 'keras.engine.keras_tensor.KerasTensor'>\n",
      "thing associated with key _nested_outputs has type <class 'keras.engine.keras_tensor.KerasTensor'>\n",
      "thing associated with key _nodes_by_depth has type <class 'collections.defaultdict'>\n",
      "thing associated with key _tensor_usage_count has type <class 'collections.Counter'>\n",
      "thing associated with key model has type <class 'NoneType'>\n",
      "thing associated with key saved_model has type <class 'NoneType'>\n",
      "thing associated with key examine_seperately_items has type <class 'tensorflow.python.training.tracking.data_structures.ListWrapper'>\n",
      "thing associated with key ignore_items has type <class 'tensorflow.python.training.tracking.data_structures.ListWrapper'>\n",
      "thing associated with key num_microbatches has type <class 'NoneType'>\n",
      "thing associated with key _run_eagerly has type <class 'NoneType'>\n",
      "thing associated with key optimizer has type <class 'tensorflow_privacy.privacy.optimizers.dp_optimizer_keras.make_keras_optimizer_class.<locals>.DPOptimizerClass'>\n",
      "thing associated with key compiled_loss has type <class 'keras.engine.compile_utils.LossesContainer'>\n",
      "thing associated with key compiled_metrics has type <class 'keras.engine.compile_utils.MetricsContainer'>\n",
      "thing associated with key loss has type <class 'keras.losses.CategoricalCrossentropy'>\n",
      "thing associated with key _jit_compile has type <class 'NoneType'>\n",
      "thing associated with key history has type <class 'keras.callbacks.History'>\n",
      "thing associated with key train_function has type <class 'tensorflow.python.eager.def_function.Function'>\n",
      "thing associated with key test_function has type <class 'tensorflow.python.eager.def_function.Function'>\n",
      "thing associated with key predict_function has type <class 'NoneType'>\n",
      "thing associated with key train_tf_function has type <class 'tensorflow.python.eager.def_function.Function'>\n"
     ]
    }
   ],
   "source": [
    "all_keys = []\n",
    "unusuals =[]\n",
    "tuples =[]\n",
    "deleted_keys = []\n",
    "\n",
    "print(\"===============================================================================================\")\n",
    "print(\"Tuples\")\n",
    "print(\"===============================================================================================\")\n",
    "for key,value in safeModel.__dict__.items():\n",
    "    if(type(value) == tuple):\n",
    "        print (f'thing associated with key {key} has type {type(value)}')\n",
    "        tuples.append(key)\n",
    "\n",
    "print(\"===============================================================================================\")\n",
    "print(\"Bools\")\n",
    "print(\"===============================================================================================\")\n",
    "for key,value in safeModel.__dict__.items():\n",
    "    if(type(value) == bool):\n",
    "        print (f'thing associated with key {key} has type {type(value)}')\n",
    "\n",
    "print(\"===============================================================================================\")\n",
    "print(\"Lists\")\n",
    "print(\"===============================================================================================\")        \n",
    "for key,value in safeModel.__dict__.items():\n",
    "    if(type(value) == list):\n",
    "        print (f'thing associated with key {key} has type {type(value)}')\n",
    "\n",
    "print(\"===============================================================================================\")\n",
    "print(\"Strings\")\n",
    "print(\"===============================================================================================\")\n",
    "for key,value in safeModel.__dict__.items():\n",
    "    if(type(value) == str):\n",
    "        print (f'thing associated with key {key} has type {type(value)}')\n",
    "\n",
    "        \n",
    "print(\"===============================================================================================\")\n",
    "print(\"Ints\")\n",
    "print(\"===============================================================================================\")\n",
    "for key,value in safeModel.__dict__.items():\n",
    "    if(type(value) == int):\n",
    "        print (f'thing associated with key {key} has type {type(value)}')\n",
    "\n",
    "print(\"===============================================================================================\")\n",
    "print(\"Floats\")\n",
    "print(\"===============================================================================================\")\n",
    "for key,value in safeModel.__dict__.items():\n",
    "    if(type(value) == float):\n",
    "        print (f'thing associated with key {key} has type {type(value)}')\n",
    "        \n",
    "print(\"===============================================================================================\")\n",
    "print(\"Dicts\")\n",
    "print(\"===============================================================================================\")\n",
    "for key,value in safeModel.__dict__.items():\n",
    "    if(type(value) == dict):\n",
    "        print (f'thing associated with key {key} has type {type(value)}')\n",
    "\n",
    "        \n",
    "print(\"===============================================================================================\")\n",
    "print(\"Sets\")\n",
    "print(\"===============================================================================================\")\n",
    "for key,value in safeModel.__dict__.items():\n",
    "    if(type(value) == set):\n",
    "        print (f'thing associated with key {key} has type {type(value)}')\n",
    "\n",
    "print(\"===============================================================================================\")\n",
    "print(\"Unusual Ones\")\n",
    "print(\"===============================================================================================\")\n",
    "\n",
    "        \n",
    "for key,value in safeModel.__dict__.items():\n",
    "    if((type(value) != int) and (type(value) != str) and \n",
    "       (type(value) != list) and (type(value) != bool) and \n",
    "       (type(value) != tuple) and (type(value) != float) and\n",
    "       (type(value) != dict) and (type(value) != set)):\n",
    "        print (f'thing associated with key {key} has type {type(value)}')\n",
    "        unusuals.append(key)"
   ]
  },
  {
   "cell_type": "code",
   "execution_count": 19,
   "metadata": {},
   "outputs": [
    {
     "name": "stdout",
     "output_type": "stream",
     "text": [
      "INFO:tensorflow:Assets written to: my_model/assets\n",
      "INFO:tensorflow:Assets written to: safe.sav/assets\n"
     ]
    },
    {
     "name": "stderr",
     "output_type": "stream",
     "text": [
      "_obj_reference_counts_dict cannot be copied\n",
      "...<class 'TypeError'> error; cannot pickle '_thread.RLock' object\n",
      "_thread_local cannot be copied\n",
      "...<class 'TypeError'> error; cannot pickle '_thread._local' object\n",
      "_metrics_lock cannot be copied\n",
      "...<class 'TypeError'> error; cannot pickle '_thread.lock' object\n"
     ]
    },
    {
     "name": "stdout",
     "output_type": "stream",
     "text": [
      "INFO:tensorflow:Assets written to: ram://8dd3c02a-f910-4bdd-a1f9-3b0a85b6cb74/assets\n"
     ]
    },
    {
     "name": "stderr",
     "output_type": "stream",
     "text": [
      "_trackable_saver cannot be copied\n",
      "...<class 'ValueError'> error; Unknown optimizer: DPOptimizerClass. Please ensure this object is passed to the `custom_objects` argument. See https://www.tensorflow.org/guide/keras/save_and_serialize#registering_the_custom_object for details.\n",
      "_self_unconditional_checkpoint_dependencies cannot be copied\n",
      "...<class 'TypeError'> error; cannot pickle '_thread.RLock' object\n",
      "_self_unconditional_dependency_names cannot be copied\n",
      "...<class 'TypeError'> error; cannot pickle '_thread.RLock' object\n",
      "compiled_loss cannot be copied\n",
      "...<class 'TypeError'> error; cannot pickle '_thread.RLock' object\n",
      "compiled_metrics cannot be copied\n",
      "...<class 'TypeError'> error; cannot pickle '_thread.RLock' object\n"
     ]
    },
    {
     "name": "stdout",
     "output_type": "stream",
     "text": [
      "INFO:tensorflow:Assets written to: ram://c676d1c4-8b30-45cb-8669-0103e8b54cae/assets\n"
     ]
    },
    {
     "name": "stderr",
     "output_type": "stream",
     "text": [
      "history cannot be copied\n",
      "...<class 'ValueError'> error; Unknown optimizer: DPOptimizerClass. Please ensure this object is passed to the `custom_objects` argument. See https://www.tensorflow.org/guide/keras/save_and_serialize#registering_the_custom_object for details.\n",
      "train_function cannot be copied\n",
      "...<class 'TypeError'> error; cannot pickle '_thread.RLock' object\n",
      "test_function cannot be copied\n",
      "...<class 'TypeError'> error; cannot pickle '_thread.RLock' object\n",
      "train_tf_function cannot be copied\n",
      "...<class 'TypeError'> error; cannot pickle '_thread.RLock' object\n"
     ]
    },
    {
     "name": "stdout",
     "output_type": "stream",
     "text": [
      "<tensorflow_privacy.privacy.optimizers.dp_optimizer_keras.make_keras_optimizer_class.<locals>.DPOptimizerClass object at 0x7f06742deeb0>\n",
      "<tensorflow_privacy.privacy.optimizers.dp_optimizer_keras.make_keras_optimizer_class.<locals>.DPOptimizerClass object at 0x7f06742deeb0>\n",
      "DP-SGD with sampling rate = 10% and noise_multiplier = 0.5 iterated over 200 steps satisfies differential privacy with eps = 50.3 and delta = 1e-05.\n",
      "The optimal RDP order is 1.5.\n",
      "optimiser is type <class 'tensorflow_privacy.privacy.optimizers.dp_optimizer_keras.make_keras_optimizer_class.<locals>.DPOptimizerClass'>\n",
      "Error: user has not called fit() method or has deleted saved values.Recommendation: Do not release. It is True that the model will be DP because  value of optimizer._was_dp_gradients_called is True so DP variant of optimizer has been runepsilon is not sufficient for Differential privacy: 50.301726361197794. You must modify one or more of batch_size, epochs, number of samples.\n",
      " value of optimizer._was_dp_gradients_called is True so DP variant of optimizer has been run\n"
     ]
    }
   ],
   "source": [
    "#safeModel.request_release('safekeras.pkl') # TypeError: cannot pickle '_thread.RLock' object\n",
    "\n",
    "#safeModel.request_release('safekeras.sav') # TypeError: cannot pickle '_thread.RLock' object\n",
    "\n",
    "#safeModel.request_release('safekeras.tf')\n",
    "\n",
    "\n",
    "\n",
    "\n",
    "safeModel.save('my_model')\n",
    "safeModel.save_weights('weights.h5')\n",
    "\n",
    "safeModel.request_release('safe.sav')"
   ]
  },
  {
   "cell_type": "code",
   "execution_count": 20,
   "metadata": {},
   "outputs": [
    {
     "name": "stderr",
     "output_type": "stream",
     "text": [
      "_obj_reference_counts_dict cannot be copied\n",
      "...<class 'TypeError'> error; cannot pickle '_thread.RLock' object\n",
      "_thread_local cannot be copied\n",
      "...<class 'TypeError'> error; cannot pickle '_thread._local' object\n",
      "_metrics_lock cannot be copied\n",
      "...<class 'TypeError'> error; cannot pickle '_thread.lock' object\n"
     ]
    },
    {
     "name": "stdout",
     "output_type": "stream",
     "text": [
      "INFO:tensorflow:Assets written to: ram://c65266a7-8b8a-45d6-979c-c4c086d81a20/assets\n"
     ]
    },
    {
     "name": "stderr",
     "output_type": "stream",
     "text": [
      "_trackable_saver cannot be copied\n",
      "...<class 'ValueError'> error; Unknown optimizer: DPOptimizerClass. Please ensure this object is passed to the `custom_objects` argument. See https://www.tensorflow.org/guide/keras/save_and_serialize#registering_the_custom_object for details.\n",
      "_self_unconditional_checkpoint_dependencies cannot be copied\n",
      "...<class 'TypeError'> error; cannot pickle '_thread.RLock' object\n",
      "_self_unconditional_dependency_names cannot be copied\n",
      "...<class 'TypeError'> error; cannot pickle '_thread.RLock' object\n",
      "compiled_loss cannot be copied\n",
      "...<class 'TypeError'> error; cannot pickle '_thread.RLock' object\n",
      "compiled_metrics cannot be copied\n",
      "...<class 'TypeError'> error; cannot pickle '_thread.RLock' object\n"
     ]
    },
    {
     "name": "stdout",
     "output_type": "stream",
     "text": [
      "INFO:tensorflow:Assets written to: ram://16201b16-7484-430f-88fd-550f8bff2f0f/assets\n"
     ]
    },
    {
     "name": "stderr",
     "output_type": "stream",
     "text": [
      "history cannot be copied\n",
      "...<class 'ValueError'> error; Unknown optimizer: DPOptimizerClass. Please ensure this object is passed to the `custom_objects` argument. See https://www.tensorflow.org/guide/keras/save_and_serialize#registering_the_custom_object for details.\n",
      "train_function cannot be copied\n",
      "...<class 'TypeError'> error; cannot pickle '_thread.RLock' object\n",
      "test_function cannot be copied\n",
      "...<class 'TypeError'> error; cannot pickle '_thread.RLock' object\n",
      "train_tf_function cannot be copied\n",
      "...<class 'TypeError'> error; cannot pickle '_thread.RLock' object\n"
     ]
    },
    {
     "name": "stdout",
     "output_type": "stream",
     "text": [
      "<tensorflow_privacy.privacy.optimizers.dp_optimizer_keras.make_keras_optimizer_class.<locals>.DPOptimizerClass object at 0x7f06742deeb0>\n",
      "<tensorflow_privacy.privacy.optimizers.dp_optimizer_keras.make_keras_optimizer_class.<locals>.DPOptimizerClass object at 0x7f06742deeb0>\n",
      "DP-SGD with sampling rate = 10% and noise_multiplier = 0.5 iterated over 200 steps satisfies differential privacy with eps = 50.3 and delta = 1e-05.\n",
      "The optimal RDP order is 1.5.\n",
      "optimiser is type <class 'tensorflow_privacy.privacy.optimizers.dp_optimizer_keras.make_keras_optimizer_class.<locals>.DPOptimizerClass'>\n",
      "Error: user has not called fit() method or has deleted saved values.Recommendation: Do not release. It is True that the model will be DP because  value of optimizer._was_dp_gradients_called is True so DP variant of optimizer has been runepsilon is not sufficient for Differential privacy: 50.301726361197794. You must modify one or more of batch_size, epochs, number of samples.\n",
      " value of optimizer._was_dp_gradients_called is True so DP variant of optimizer has been run\n"
     ]
    }
   ],
   "source": [
    "\n",
    "\n",
    "safeModel.request_release('safekeras.h5')"
   ]
  },
  {
   "cell_type": "code",
   "execution_count": 21,
   "metadata": {},
   "outputs": [
    {
     "name": "stdout",
     "output_type": "stream",
     "text": [
      "args is a <class 'tuple'> = ()  kwargs is a <class 'dict'>= {'inputs': <KerasTensor: shape=(None, 300) dtype=float32 (created by layer 'input_1')>, 'outputs': <KerasTensor: shape=(None, 2) dtype=float32 (created by layer 'dense_3')>, 'name': 'safekeras-test'}\n",
      "inputs is in kwargs.keys\n",
      "KerasTensor(type_spec=TensorSpec(shape=(None, 300), dtype=tf.float32, name='input_1'), name='input_1', description=\"created by layer 'input_1'\")\n",
      "Model parameters are within recommended ranges.\n",
      "\n",
      "Changed parameter optimizer = 'DPKerasSGDOptimizer'\n",
      "WARNING: model parameters may present a disclosure risk\n",
      "Unknown optimizer <class 'tensorflow_privacy.privacy.optimizers.dp_optimizer_keras.make_keras_optimizer_class.<locals>.DPOptimizerClass'> - Changed parameter optimizer = 'DPKerasSGDOptimizer'\n",
      "DP optimizer used = False\n",
      "optimizer has been changed but fit() has not been rerun.\n",
      "(250, 300)\n",
      "DP-SGD with sampling rate = 10% and noise_multiplier = 0.5 iterated over 200 steps satisfies differential privacy with eps = 50.3 and delta = 1e-05.\n",
      "The optimal RDP order is 1.5.\n",
      "Current epsilon is 50.301726361197794\n",
      "The requirements for DP are not met, current epsilon is: 50.301726361197794. To attain true DP the following parameters can be changed:  Num Samples = 250, batch_size = 25, epochs = 20\n",
      "This will not result in a Differentially Private model do you want to continue [Y/N]y\n",
      "Continuing\n",
      "Epoch 1/20\n",
      "10/10 [==============================] - 2s 41ms/step - loss: 0.3943 - accuracy: 0.8920 - val_loss: 3.1545 - val_accuracy: 0.5200\n",
      "Epoch 2/20\n",
      "10/10 [==============================] - 0s 29ms/step - loss: 0.3161 - accuracy: 0.9000 - val_loss: 3.1427 - val_accuracy: 0.5200\n",
      "Epoch 3/20\n",
      "10/10 [==============================] - 0s 33ms/step - loss: 0.3179 - accuracy: 0.9160 - val_loss: 3.0759 - val_accuracy: 0.5360\n",
      "Epoch 4/20\n",
      "10/10 [==============================] - 0s 34ms/step - loss: 0.2480 - accuracy: 0.9280 - val_loss: 3.0888 - val_accuracy: 0.5400\n",
      "Epoch 5/20\n",
      "10/10 [==============================] - 0s 29ms/step - loss: 0.2473 - accuracy: 0.9440 - val_loss: 3.2402 - val_accuracy: 0.5360\n",
      "Epoch 6/20\n",
      "10/10 [==============================] - 0s 28ms/step - loss: 0.2185 - accuracy: 0.9400 - val_loss: 3.3778 - val_accuracy: 0.5160\n",
      "Epoch 7/20\n",
      "10/10 [==============================] - 0s 32ms/step - loss: 0.1905 - accuracy: 0.9480 - val_loss: 3.5367 - val_accuracy: 0.5280\n",
      "Epoch 8/20\n",
      "10/10 [==============================] - 0s 32ms/step - loss: 0.2075 - accuracy: 0.9640 - val_loss: 3.5718 - val_accuracy: 0.5240\n",
      "Epoch 9/20\n",
      "10/10 [==============================] - 0s 44ms/step - loss: 0.2150 - accuracy: 0.9560 - val_loss: 3.6039 - val_accuracy: 0.5320\n",
      "Epoch 10/20\n",
      "10/10 [==============================] - 0s 34ms/step - loss: 0.2065 - accuracy: 0.9560 - val_loss: 3.6196 - val_accuracy: 0.5320\n",
      "Epoch 11/20\n",
      "10/10 [==============================] - 0s 43ms/step - loss: 0.1749 - accuracy: 0.9600 - val_loss: 3.6130 - val_accuracy: 0.5520\n",
      "Epoch 12/20\n",
      "10/10 [==============================] - 0s 36ms/step - loss: 0.1795 - accuracy: 0.9640 - val_loss: 3.5501 - val_accuracy: 0.5600\n",
      "Epoch 13/20\n",
      "10/10 [==============================] - 0s 32ms/step - loss: 0.1738 - accuracy: 0.9720 - val_loss: 3.5000 - val_accuracy: 0.5680\n",
      "Epoch 14/20\n",
      "10/10 [==============================] - 0s 34ms/step - loss: 0.1518 - accuracy: 0.9720 - val_loss: 3.6065 - val_accuracy: 0.5640\n",
      "Epoch 15/20\n",
      "10/10 [==============================] - 0s 29ms/step - loss: 0.1323 - accuracy: 0.9720 - val_loss: 3.5392 - val_accuracy: 0.5440\n",
      "Epoch 16/20\n",
      "10/10 [==============================] - 0s 28ms/step - loss: 0.1423 - accuracy: 0.9760 - val_loss: 3.4261 - val_accuracy: 0.5680\n",
      "Epoch 17/20\n",
      "10/10 [==============================] - 0s 34ms/step - loss: 0.1320 - accuracy: 0.9760 - val_loss: 3.5180 - val_accuracy: 0.5560\n",
      "Epoch 18/20\n",
      "10/10 [==============================] - 0s 28ms/step - loss: 0.1261 - accuracy: 0.9760 - val_loss: 3.4203 - val_accuracy: 0.5480\n",
      "Epoch 19/20\n",
      "10/10 [==============================] - 0s 33ms/step - loss: 0.1450 - accuracy: 0.9640 - val_loss: 3.6729 - val_accuracy: 0.5600\n",
      "Epoch 20/20\n",
      "10/10 [==============================] - 0s 29ms/step - loss: 0.1528 - accuracy: 0.9760 - val_loss: 3.5496 - val_accuracy: 0.5440\n"
     ]
    }
   ],
   "source": [
    "importlib.reload(safemodel.safemodel)\n",
    "importlib.reload(safemodel.classifiers.safekeras)\n",
    "from safemodel.classifiers.safekeras import Safe_KerasModel\n",
    "\n",
    "optimizer=None\n",
    "safeModel = Safe_KerasModel(inputs= input_data, outputs=output,name=\"safekeras-test\")\n",
    "\n",
    "loss = tf.keras.losses.CategoricalCrossentropy(\n",
    "    from_logits=False, reduction=tf.losses.Reduction.NONE)\n",
    "\n",
    "\n",
    "safeModel.compile(loss=loss)#optimizer='adam', loss='categorical_crossentropy', metrics=['accuracy'])\n",
    "\n",
    "epochs = 20\n",
    "batch_size = 25\n",
    "\n",
    "r_DP = safeModel.fit(Xt_member, \n",
    "              yt_member, \n",
    "              validation_data=(Xt_nonmember, yt_nonmember),\n",
    "              epochs=epochs, \n",
    "              batch_size=batch_size\n",
    ")  \n"
   ]
  },
  {
   "cell_type": "code",
   "execution_count": 22,
   "metadata": {},
   "outputs": [
    {
     "name": "stdout",
     "output_type": "stream",
     "text": [
      "***Test 1: researcher doesn't change recommended params\n",
      "args is a <class 'tuple'> = ()  kwargs is a <class 'dict'>= {'inputs': <KerasTensor: shape=(None, 300) dtype=float32 (created by layer 'input_1')>, 'outputs': <KerasTensor: shape=(None, 2) dtype=float32 (created by layer 'dense_3')>, 'name': 'safekerasmodel1-test'}\n",
      "inputs is in kwargs.keys\n",
      "KerasTensor(type_spec=TensorSpec(shape=(None, 300), dtype=tf.float32, name='input_1'), name='input_1', description=\"created by layer 'input_1'\")\n",
      "Model parameters are within recommended ranges.\n",
      "\n",
      "Changed parameter optimizer = 'DPKerasSGDOptimizer'\n",
      "WARNING: model parameters may present a disclosure risk\n",
      "Unknown optimizer <class 'tensorflow_privacy.privacy.optimizers.dp_optimizer_keras.make_keras_optimizer_class.<locals>.DPOptimizerClass'> - Changed parameter optimizer = 'DPKerasSGDOptimizer'\n",
      "DP optimizer used = False\n",
      "optimizer has been changed but fit() has not been rerun.\n",
      "(250, 300)\n",
      "DP-SGD with sampling rate = 10% and noise_multiplier = 0.5 iterated over 200 steps satisfies differential privacy with eps = 50.3 and delta = 1e-05.\n",
      "The optimal RDP order is 1.5.\n",
      "Current epsilon is 50.301726361197794\n",
      "The requirements for DP are not met, current epsilon is: 50.301726361197794. To attain true DP the following parameters can be changed:  Num Samples = 250, batch_size = 25, epochs = 20\n",
      "This will not result in a Differentially Private model do you want to continue [Y/N]y\n",
      "Continuing\n",
      "Epoch 1/20\n",
      "10/10 [==============================] - 2s 73ms/step - loss: 0.1428 - accuracy: 0.9720 - val_loss: 3.5872 - val_accuracy: 0.5480\n",
      "Epoch 2/20\n",
      "10/10 [==============================] - 0s 33ms/step - loss: 0.1406 - accuracy: 0.9720 - val_loss: 3.6706 - val_accuracy: 0.5320\n",
      "Epoch 3/20\n",
      "10/10 [==============================] - 0s 28ms/step - loss: 0.1334 - accuracy: 0.9800 - val_loss: 3.5841 - val_accuracy: 0.5600\n",
      "Epoch 4/20\n",
      "10/10 [==============================] - 0s 33ms/step - loss: 0.1046 - accuracy: 0.9720 - val_loss: 3.7201 - val_accuracy: 0.5600\n",
      "Epoch 5/20\n",
      "10/10 [==============================] - 0s 31ms/step - loss: 0.1171 - accuracy: 0.9800 - val_loss: 3.8681 - val_accuracy: 0.5400\n",
      "Epoch 6/20\n",
      "10/10 [==============================] - 0s 31ms/step - loss: 0.1099 - accuracy: 0.9840 - val_loss: 3.8003 - val_accuracy: 0.5520\n",
      "Epoch 7/20\n",
      "10/10 [==============================] - 0s 37ms/step - loss: 0.1096 - accuracy: 0.9800 - val_loss: 3.8958 - val_accuracy: 0.5480\n",
      "Epoch 8/20\n",
      "10/10 [==============================] - 0s 40ms/step - loss: 0.0893 - accuracy: 0.9840 - val_loss: 3.9758 - val_accuracy: 0.5520\n",
      "Epoch 9/20\n",
      "10/10 [==============================] - 0s 38ms/step - loss: 0.0890 - accuracy: 0.9880 - val_loss: 3.8395 - val_accuracy: 0.5440\n",
      "Epoch 10/20\n",
      "10/10 [==============================] - 0s 35ms/step - loss: 0.0738 - accuracy: 0.9880 - val_loss: 3.8853 - val_accuracy: 0.5320\n",
      "Epoch 11/20\n",
      "10/10 [==============================] - 0s 38ms/step - loss: 0.0667 - accuracy: 0.9840 - val_loss: 3.8275 - val_accuracy: 0.5560\n",
      "Epoch 12/20\n",
      "10/10 [==============================] - 0s 35ms/step - loss: 0.0612 - accuracy: 0.9880 - val_loss: 3.8604 - val_accuracy: 0.5640\n",
      "Epoch 13/20\n",
      "10/10 [==============================] - 0s 34ms/step - loss: 0.0369 - accuracy: 0.9880 - val_loss: 4.0158 - val_accuracy: 0.5440\n",
      "Epoch 14/20\n",
      "10/10 [==============================] - 0s 28ms/step - loss: 0.0249 - accuracy: 0.9880 - val_loss: 3.9750 - val_accuracy: 0.5560\n",
      "Epoch 15/20\n",
      "10/10 [==============================] - 0s 34ms/step - loss: 0.0232 - accuracy: 0.9880 - val_loss: 4.1475 - val_accuracy: 0.5560\n",
      "Epoch 16/20\n",
      "10/10 [==============================] - 0s 40ms/step - loss: 0.0297 - accuracy: 0.9920 - val_loss: 3.8413 - val_accuracy: 0.5760\n",
      "Epoch 17/20\n",
      "10/10 [==============================] - 0s 36ms/step - loss: 0.0250 - accuracy: 0.9920 - val_loss: 3.9452 - val_accuracy: 0.5640\n",
      "Epoch 18/20\n",
      "10/10 [==============================] - 0s 33ms/step - loss: 0.0301 - accuracy: 0.9920 - val_loss: 3.9233 - val_accuracy: 0.5480\n",
      "Epoch 19/20\n",
      "10/10 [==============================] - 0s 29ms/step - loss: 0.0349 - accuracy: 0.9920 - val_loss: 4.1660 - val_accuracy: 0.5480\n",
      "Epoch 20/20\n",
      "10/10 [==============================] - 0s 28ms/step - loss: 0.0275 - accuracy: 0.9960 - val_loss: 4.0784 - val_accuracy: 0.5520\n",
      "INFO:tensorflow:Assets written to: safe1.pkl/assets\n",
      "Model parameters are within recommended ranges.\n",
      "\n",
      "INFO:tensorflow:Assets written to: safe1.pkl/assets\n"
     ]
    },
    {
     "name": "stderr",
     "output_type": "stream",
     "text": [
      "_obj_reference_counts_dict cannot be copied\n",
      "...<class 'TypeError'> error; cannot pickle '_thread.RLock' object\n",
      "_thread_local cannot be copied\n",
      "...<class 'TypeError'> error; cannot pickle '_thread._local' object\n",
      "_metrics_lock cannot be copied\n",
      "...<class 'TypeError'> error; cannot pickle '_thread.lock' object\n"
     ]
    },
    {
     "name": "stdout",
     "output_type": "stream",
     "text": [
      "INFO:tensorflow:Assets written to: ram://b101ff02-3ec6-4ffd-8fbe-02ce9b9998e8/assets\n"
     ]
    },
    {
     "name": "stderr",
     "output_type": "stream",
     "text": [
      "_trackable_saver cannot be copied\n",
      "...<class 'ValueError'> error; Unknown optimizer: DPOptimizerClass. Please ensure this object is passed to the `custom_objects` argument. See https://www.tensorflow.org/guide/keras/save_and_serialize#registering_the_custom_object for details.\n",
      "_self_unconditional_checkpoint_dependencies cannot be copied\n",
      "...<class 'TypeError'> error; cannot pickle '_thread.RLock' object\n",
      "_self_unconditional_dependency_names cannot be copied\n",
      "...<class 'TypeError'> error; cannot pickle '_thread.RLock' object\n",
      "compiled_loss cannot be copied\n",
      "...<class 'TypeError'> error; cannot pickle '_thread.RLock' object\n",
      "compiled_metrics cannot be copied\n",
      "...<class 'TypeError'> error; cannot pickle '_thread.RLock' object\n"
     ]
    },
    {
     "name": "stdout",
     "output_type": "stream",
     "text": [
      "INFO:tensorflow:Assets written to: ram://6cc47e15-deb5-463e-a51f-c6b9b826b2ef/assets\n"
     ]
    },
    {
     "name": "stderr",
     "output_type": "stream",
     "text": [
      "history cannot be copied\n",
      "...<class 'ValueError'> error; Unknown optimizer: DPOptimizerClass. Please ensure this object is passed to the `custom_objects` argument. See https://www.tensorflow.org/guide/keras/save_and_serialize#registering_the_custom_object for details.\n",
      "train_function cannot be copied\n",
      "...<class 'TypeError'> error; cannot pickle '_thread.RLock' object\n",
      "test_function cannot be copied\n",
      "...<class 'TypeError'> error; cannot pickle '_thread.RLock' object\n",
      "train_tf_function cannot be copied\n",
      "...<class 'TypeError'> error; cannot pickle '_thread.RLock' object\n"
     ]
    },
    {
     "name": "stdout",
     "output_type": "stream",
     "text": [
      "<tensorflow_privacy.privacy.optimizers.dp_optimizer_keras.make_keras_optimizer_class.<locals>.DPOptimizerClass object at 0x7f0656c38880>\n",
      "<tensorflow_privacy.privacy.optimizers.dp_optimizer_keras.make_keras_optimizer_class.<locals>.DPOptimizerClass object at 0x7f0656c38880>\n",
      "DP-SGD with sampling rate = 10% and noise_multiplier = 0.5 iterated over 200 steps satisfies differential privacy with eps = 50.3 and delta = 1e-05.\n",
      "The optimal RDP order is 1.5.\n",
      "optimiser is type <class 'tensorflow_privacy.privacy.optimizers.dp_optimizer_keras.make_keras_optimizer_class.<locals>.DPOptimizerClass'>\n",
      "Error: user has not called fit() method or has deleted saved values.Recommendation: Do not release. It is True that the model will be DP because  value of optimizer._was_dp_gradients_called is True so DP variant of optimizer has been runepsilon is not sufficient for Differential privacy: 50.301726361197794. You must modify one or more of batch_size, epochs, number of samples.\n",
      " value of optimizer._was_dp_gradients_called is True so DP variant of optimizer has been run\n"
     ]
    }
   ],
   "source": [
    "importlib.reload(safemodel.safemodel)\n",
    "importlib.reload(safemodel.classifiers.safekeras)\n",
    "from safemodel.classifiers.safekeras import Safe_KerasModel\n",
    "\n",
    "\n",
    "# create and fit using recommended params\n",
    "\n",
    "\n",
    "print(\"***Test 1: researcher doesn't change recommended params\")\n",
    "optimizer=None\n",
    "safeKerasModel1 = Safe_KerasModel(inputs=input_data, outputs=output,name=\"safekerasmodel1-test\")\n",
    "safeKerasModel1.compile(loss=loss)\n",
    "safeKerasModel1.fit(Xt_member, \n",
    "                    yt_member, \n",
    "                    validation_data=(Xt_nonmember, yt_nonmember),\n",
    "                    epochs=epochs, \n",
    "                    batch_size=batch_size)\n",
    "safeKerasModel1.save(\"safe1.pkl\")\n",
    "safeKerasModel1.preliminary_check()\n",
    "safeKerasModel1.request_release(filename=\"safe1.pkl\")"
   ]
  },
  {
   "cell_type": "code",
   "execution_count": 23,
   "metadata": {},
   "outputs": [
    {
     "name": "stdout",
     "output_type": "stream",
     "text": [
      "\n",
      "***Test 2: researcher changes params safely\n",
      "args is a <class 'tuple'> = ()  kwargs is a <class 'dict'>= {'inputs': <KerasTensor: shape=(None, 300) dtype=float32 (created by layer 'input_1')>, 'outputs': <KerasTensor: shape=(None, 2) dtype=float32 (created by layer 'dense_3')>, 'name': 'safekerasmodel2-test', 'l2_norm_clip': 1.1, 'noise_multiplier': 0.6}\n",
      "inputs is in kwargs.keys\n",
      "KerasTensor(type_spec=TensorSpec(shape=(None, 300), dtype=tf.float32, name='input_1'), name='input_1', description=\"created by layer 'input_1'\")\n",
      "Model parameters are within recommended ranges.\n",
      "\n",
      "WARNING: model parameters may present a disclosure risk\n",
      "Unknown optimizer <class 'tensorflow_privacy.privacy.optimizers.dp_optimizer_keras.make_keras_optimizer_class.<locals>.DPOptimizerClass'> - Changed parameter optimizer = 'DPKerasSGDOptimizer'\n",
      "DP optimizer used = False\n",
      "optimizer has been changed but fit() has not been rerun.\n",
      "(250, 300)\n",
      "DP-SGD with sampling rate = 10% and noise_multiplier = 0.6 iterated over 200 steps satisfies differential privacy with eps = 32.9 and delta = 1e-05.\n",
      "The optimal RDP order is 1.75.\n",
      "Current epsilon is 32.860767694468635\n",
      "The requirements for DP are not met, current epsilon is: 32.860767694468635. To attain true DP the following parameters can be changed:  Num Samples = 250, batch_size = 25, epochs = 20\n",
      "This will not result in a Differentially Private model do you want to continue [Y/N]y\n",
      "Continuing\n",
      "Epoch 1/20\n",
      "10/10 [==============================] - 2s 42ms/step - loss: 0.0575 - accuracy: 0.9880 - val_loss: 4.0879 - val_accuracy: 0.5560\n",
      "Epoch 2/20\n",
      "10/10 [==============================] - 0s 39ms/step - loss: 0.0662 - accuracy: 0.9840 - val_loss: 4.2893 - val_accuracy: 0.5720\n",
      "Epoch 3/20\n",
      "10/10 [==============================] - 0s 42ms/step - loss: 0.0915 - accuracy: 0.9800 - val_loss: 4.3333 - val_accuracy: 0.5560\n",
      "Epoch 4/20\n",
      "10/10 [==============================] - 0s 47ms/step - loss: 0.1218 - accuracy: 0.9760 - val_loss: 4.3096 - val_accuracy: 0.5720\n",
      "Epoch 5/20\n",
      "10/10 [==============================] - 0s 38ms/step - loss: 0.1295 - accuracy: 0.9760 - val_loss: 4.3916 - val_accuracy: 0.5960\n",
      "Epoch 6/20\n",
      "10/10 [==============================] - 0s 32ms/step - loss: 0.0895 - accuracy: 0.9800 - val_loss: 4.2610 - val_accuracy: 0.5680\n",
      "Epoch 7/20\n",
      "10/10 [==============================] - 0s 47ms/step - loss: 0.1040 - accuracy: 0.9680 - val_loss: 4.1448 - val_accuracy: 0.5480\n",
      "Epoch 8/20\n",
      "10/10 [==============================] - 0s 33ms/step - loss: 0.0584 - accuracy: 0.9760 - val_loss: 4.3627 - val_accuracy: 0.5600\n",
      "Epoch 9/20\n",
      "10/10 [==============================] - 0s 33ms/step - loss: 0.0611 - accuracy: 0.9680 - val_loss: 4.4462 - val_accuracy: 0.5720\n",
      "Epoch 10/20\n",
      "10/10 [==============================] - 0s 33ms/step - loss: 0.0511 - accuracy: 0.9840 - val_loss: 4.4839 - val_accuracy: 0.5680\n",
      "Epoch 11/20\n",
      "10/10 [==============================] - 0s 30ms/step - loss: 0.0924 - accuracy: 0.9720 - val_loss: 4.5630 - val_accuracy: 0.5760\n",
      "Epoch 12/20\n",
      "10/10 [==============================] - 1s 105ms/step - loss: 0.1110 - accuracy: 0.9720 - val_loss: 4.6612 - val_accuracy: 0.5880\n",
      "Epoch 13/20\n",
      "10/10 [==============================] - 0s 30ms/step - loss: 0.0806 - accuracy: 0.9680 - val_loss: 4.7272 - val_accuracy: 0.5520\n",
      "Epoch 14/20\n",
      "10/10 [==============================] - 0s 29ms/step - loss: 0.1482 - accuracy: 0.9560 - val_loss: 4.9113 - val_accuracy: 0.5360\n",
      "Epoch 15/20\n",
      "10/10 [==============================] - 0s 33ms/step - loss: 0.1026 - accuracy: 0.9680 - val_loss: 4.8515 - val_accuracy: 0.5680\n",
      "Epoch 16/20\n",
      "10/10 [==============================] - 0s 30ms/step - loss: 0.0756 - accuracy: 0.9800 - val_loss: 4.9702 - val_accuracy: 0.5480\n",
      "Epoch 17/20\n",
      "10/10 [==============================] - 0s 29ms/step - loss: 0.1255 - accuracy: 0.9680 - val_loss: 5.0576 - val_accuracy: 0.5480\n",
      "Epoch 18/20\n",
      "10/10 [==============================] - 0s 32ms/step - loss: 0.0633 - accuracy: 0.9800 - val_loss: 5.3768 - val_accuracy: 0.5960\n",
      "Epoch 19/20\n",
      "10/10 [==============================] - 0s 35ms/step - loss: 0.0832 - accuracy: 0.9680 - val_loss: 5.3445 - val_accuracy: 0.5640\n",
      "Epoch 20/20\n",
      "10/10 [==============================] - 0s 28ms/step - loss: 0.0487 - accuracy: 0.9800 - val_loss: 5.6399 - val_accuracy: 0.5560\n",
      "INFO:tensorflow:Assets written to: safe2.hd5/assets\n",
      "Model parameters are within recommended ranges.\n",
      "\n",
      "INFO:tensorflow:Assets written to: safe2.hd5/assets\n"
     ]
    },
    {
     "name": "stderr",
     "output_type": "stream",
     "text": [
      "_obj_reference_counts_dict cannot be copied\n",
      "...<class 'TypeError'> error; cannot pickle '_thread.RLock' object\n",
      "_thread_local cannot be copied\n",
      "...<class 'TypeError'> error; cannot pickle '_thread._local' object\n",
      "_metrics_lock cannot be copied\n",
      "...<class 'TypeError'> error; cannot pickle '_thread.lock' object\n"
     ]
    },
    {
     "name": "stdout",
     "output_type": "stream",
     "text": [
      "INFO:tensorflow:Assets written to: ram://e0c89ebc-0d01-45ba-938c-75ee40a56af3/assets\n"
     ]
    },
    {
     "name": "stderr",
     "output_type": "stream",
     "text": [
      "_trackable_saver cannot be copied\n",
      "...<class 'ValueError'> error; Unknown optimizer: DPOptimizerClass. Please ensure this object is passed to the `custom_objects` argument. See https://www.tensorflow.org/guide/keras/save_and_serialize#registering_the_custom_object for details.\n",
      "_self_unconditional_checkpoint_dependencies cannot be copied\n",
      "...<class 'TypeError'> error; cannot pickle '_thread.RLock' object\n",
      "_self_unconditional_dependency_names cannot be copied\n",
      "...<class 'TypeError'> error; cannot pickle '_thread.RLock' object\n",
      "compiled_loss cannot be copied\n",
      "...<class 'TypeError'> error; cannot pickle '_thread.RLock' object\n",
      "compiled_metrics cannot be copied\n",
      "...<class 'TypeError'> error; cannot pickle '_thread.RLock' object\n"
     ]
    },
    {
     "name": "stdout",
     "output_type": "stream",
     "text": [
      "INFO:tensorflow:Assets written to: ram://b783e943-1881-4ef8-9284-80e8fd2159ab/assets\n"
     ]
    },
    {
     "name": "stderr",
     "output_type": "stream",
     "text": [
      "history cannot be copied\n",
      "...<class 'ValueError'> error; Unknown optimizer: DPOptimizerClass. Please ensure this object is passed to the `custom_objects` argument. See https://www.tensorflow.org/guide/keras/save_and_serialize#registering_the_custom_object for details.\n",
      "train_function cannot be copied\n",
      "...<class 'TypeError'> error; cannot pickle '_thread.RLock' object\n",
      "test_function cannot be copied\n",
      "...<class 'TypeError'> error; cannot pickle '_thread.RLock' object\n",
      "train_tf_function cannot be copied\n",
      "...<class 'TypeError'> error; cannot pickle '_thread.RLock' object\n"
     ]
    },
    {
     "name": "stdout",
     "output_type": "stream",
     "text": [
      "<tensorflow_privacy.privacy.optimizers.dp_optimizer_keras.make_keras_optimizer_class.<locals>.DPOptimizerClass object at 0x7f066f4d0130>\n",
      "<tensorflow_privacy.privacy.optimizers.dp_optimizer_keras.make_keras_optimizer_class.<locals>.DPOptimizerClass object at 0x7f066f4d0130>\n",
      "DP-SGD with sampling rate = 10% and noise_multiplier = 0.6 iterated over 200 steps satisfies differential privacy with eps = 32.9 and delta = 1e-05.\n",
      "The optimal RDP order is 1.75.\n",
      "optimiser is type <class 'tensorflow_privacy.privacy.optimizers.dp_optimizer_keras.make_keras_optimizer_class.<locals>.DPOptimizerClass'>\n",
      "Error: user has not called fit() method or has deleted saved values.Recommendation: Do not release. It is True that the model will be DP because  value of optimizer._was_dp_gradients_called is True so DP variant of optimizer has been runepsilon is not sufficient for Differential privacy: 32.860767694468635. You must modify one or more of batch_size, epochs, number of samples.\n",
      " value of optimizer._was_dp_gradients_called is True so DP variant of optimizer has been run\n"
     ]
    }
   ],
   "source": [
    "importlib.reload(safemodel.safemodel)\n",
    "importlib.reload(safemodel.classifiers.safekeras)\n",
    "from safemodel.classifiers.safekeras import Safe_KerasModel\n",
    "\n",
    "# change model params to recommended values\n",
    "print(\"\\n***Test 2: researcher changes params safely\")\n",
    "safeKerasModel2 = Safe_KerasModel(inputs= input_data, outputs=output,name=\"safekerasmodel2-test\", l2_norm_clip = 1.1, noise_multiplier=0.6)\n",
    "safeKerasModel2.optimizer=tensorflow_privacy.DPKerasAdamOptimizer\n",
    "safeKerasModel2.compile(loss=loss)\n",
    "safeKerasModel2.l2_norm_clip = 1.1\n",
    "safeKerasModel2.noise_multiplier = 0.6\n",
    "safeKerasModel2.fit(Xt_member, \n",
    "                    yt_member, \n",
    "                    validation_data=(Xt_nonmember, yt_nonmember),\n",
    "                    epochs=epochs, \n",
    "                    batch_size=batch_size)\n",
    "\n",
    "safeKerasModel2.save(\"safe2.hd5\")\n",
    "safeKerasModel2.preliminary_check()\n",
    "safeKerasModel2.request_release(filename=\"safe2.hd5\")"
   ]
  },
  {
   "cell_type": "code",
   "execution_count": 24,
   "metadata": {},
   "outputs": [
    {
     "name": "stdout",
     "output_type": "stream",
     "text": [
      "\n",
      "***Test 3: researcher changes string params unsafely\n",
      "args is a <class 'tuple'> = ()  kwargs is a <class 'dict'>= {'inputs': <KerasTensor: shape=(None, 300) dtype=float32 (created by layer 'input_1')>, 'outputs': <KerasTensor: shape=(None, 2) dtype=float32 (created by layer 'dense_3')>, 'name': 'safekerasmodel3-test', 'l2_norm_clip': 0.8}\n",
      "inputs is in kwargs.keys\n",
      "KerasTensor(type_spec=TensorSpec(shape=(None, 300), dtype=tf.float32, name='input_1'), name='input_1', description=\"created by layer 'input_1'\")\n",
      "WARNING: model parameters may present a disclosure risk:\n",
      "- parameter l2_norm_clip = 0.8 identified as less than the recommended min value of 1.0.\n",
      "Changed parameter l2_norm_clip = 1.0.\n",
      "\n",
      "Changed parameter optimizer = 'DPKerasSGDOptimizer'\n",
      "WARNING: model parameters may present a disclosure risk\n",
      "Unknown optimizer <class 'tensorflow_privacy.privacy.optimizers.dp_optimizer_keras.make_keras_optimizer_class.<locals>.DPOptimizerClass'> - Changed parameter optimizer = 'DPKerasSGDOptimizer'\n",
      "DP optimizer used = False\n",
      "optimizer has been changed but fit() has not been rerun.\n",
      "(250, 300)\n",
      "DP-SGD with sampling rate = 10% and noise_multiplier = 0.5 iterated over 200 steps satisfies differential privacy with eps = 50.3 and delta = 1e-05.\n",
      "The optimal RDP order is 1.5.\n",
      "Current epsilon is 50.301726361197794\n",
      "The requirements for DP are not met, current epsilon is: 50.301726361197794. To attain true DP the following parameters can be changed:  Num Samples = 250, batch_size = 25, epochs = 20\n",
      "This will not result in a Differentially Private model do you want to continue [Y/N]y\n",
      "Continuing\n",
      "Epoch 1/20\n",
      "10/10 [==============================] - 2s 47ms/step - loss: 0.0419 - accuracy: 0.9800 - val_loss: 5.6694 - val_accuracy: 0.5520\n",
      "Epoch 2/20\n",
      "10/10 [==============================] - 0s 33ms/step - loss: 0.0666 - accuracy: 0.9680 - val_loss: 5.6620 - val_accuracy: 0.5600\n",
      "Epoch 3/20\n",
      "10/10 [==============================] - 0s 30ms/step - loss: 0.0671 - accuracy: 0.9800 - val_loss: 5.9356 - val_accuracy: 0.5520\n",
      "Epoch 4/20\n",
      "10/10 [==============================] - 0s 42ms/step - loss: 0.0936 - accuracy: 0.9760 - val_loss: 5.9453 - val_accuracy: 0.5440\n",
      "Epoch 5/20\n",
      "10/10 [==============================] - 0s 29ms/step - loss: 0.0552 - accuracy: 0.9920 - val_loss: 5.8424 - val_accuracy: 0.5440\n",
      "Epoch 6/20\n",
      "10/10 [==============================] - 0s 35ms/step - loss: 0.0464 - accuracy: 0.9880 - val_loss: 5.6887 - val_accuracy: 0.5320\n",
      "Epoch 7/20\n",
      "10/10 [==============================] - 0s 31ms/step - loss: 0.0253 - accuracy: 0.9840 - val_loss: 5.8806 - val_accuracy: 0.5760\n",
      "Epoch 8/20\n",
      "10/10 [==============================] - 0s 28ms/step - loss: 0.0395 - accuracy: 0.9880 - val_loss: 5.5305 - val_accuracy: 0.5640\n",
      "Epoch 9/20\n",
      "10/10 [==============================] - 0s 34ms/step - loss: 0.0376 - accuracy: 0.9920 - val_loss: 5.6276 - val_accuracy: 0.5400\n",
      "Epoch 10/20\n",
      "10/10 [==============================] - 0s 34ms/step - loss: 0.0450 - accuracy: 0.9840 - val_loss: 5.7656 - val_accuracy: 0.5560\n",
      "Epoch 11/20\n",
      "10/10 [==============================] - 0s 28ms/step - loss: 0.0432 - accuracy: 0.9880 - val_loss: 5.8587 - val_accuracy: 0.5360\n",
      "Epoch 12/20\n",
      "10/10 [==============================] - 0s 45ms/step - loss: 0.0321 - accuracy: 0.9800 - val_loss: 5.8465 - val_accuracy: 0.5080\n",
      "Epoch 13/20\n",
      "10/10 [==============================] - 0s 46ms/step - loss: 0.0400 - accuracy: 0.9880 - val_loss: 5.6321 - val_accuracy: 0.5360\n",
      "Epoch 14/20\n",
      "10/10 [==============================] - 0s 29ms/step - loss: 0.0338 - accuracy: 0.9920 - val_loss: 5.7028 - val_accuracy: 0.5600\n",
      "Epoch 15/20\n",
      "10/10 [==============================] - 0s 32ms/step - loss: 0.0328 - accuracy: 0.9840 - val_loss: 5.6794 - val_accuracy: 0.5680\n",
      "Epoch 16/20\n",
      "10/10 [==============================] - 0s 28ms/step - loss: 0.0409 - accuracy: 0.9880 - val_loss: 5.7020 - val_accuracy: 0.5520\n",
      "Epoch 17/20\n",
      "10/10 [==============================] - 0s 32ms/step - loss: 0.0402 - accuracy: 0.9920 - val_loss: 5.6705 - val_accuracy: 0.5280\n",
      "Epoch 18/20\n",
      "10/10 [==============================] - 0s 37ms/step - loss: 0.0317 - accuracy: 0.9880 - val_loss: 5.5361 - val_accuracy: 0.5600\n",
      "Epoch 19/20\n",
      "10/10 [==============================] - 0s 41ms/step - loss: 0.0308 - accuracy: 0.9960 - val_loss: 5.5852 - val_accuracy: 0.5760\n",
      "Epoch 20/20\n",
      "10/10 [==============================] - 0s 34ms/step - loss: 0.0273 - accuracy: 0.9960 - val_loss: 5.4917 - val_accuracy: 0.5600\n",
      "INFO:tensorflow:Assets written to: unsafe3.hd5/assets\n",
      "Model parameters are within recommended ranges.\n",
      "\n",
      "INFO:tensorflow:Assets written to: unsafe3.hd5/assets\n"
     ]
    },
    {
     "name": "stderr",
     "output_type": "stream",
     "text": [
      "_obj_reference_counts_dict cannot be copied\n",
      "...<class 'TypeError'> error; cannot pickle '_thread.RLock' object\n",
      "_thread_local cannot be copied\n",
      "...<class 'TypeError'> error; cannot pickle '_thread._local' object\n",
      "_metrics_lock cannot be copied\n",
      "...<class 'TypeError'> error; cannot pickle '_thread.lock' object\n"
     ]
    },
    {
     "name": "stdout",
     "output_type": "stream",
     "text": [
      "INFO:tensorflow:Assets written to: ram://0411420f-5d97-4ab7-bf4d-b4c95a2a25db/assets\n"
     ]
    },
    {
     "name": "stderr",
     "output_type": "stream",
     "text": [
      "_trackable_saver cannot be copied\n",
      "...<class 'ValueError'> error; Unknown optimizer: DPOptimizerClass. Please ensure this object is passed to the `custom_objects` argument. See https://www.tensorflow.org/guide/keras/save_and_serialize#registering_the_custom_object for details.\n",
      "_self_unconditional_checkpoint_dependencies cannot be copied\n",
      "...<class 'TypeError'> error; cannot pickle '_thread.RLock' object\n",
      "_self_unconditional_dependency_names cannot be copied\n",
      "...<class 'TypeError'> error; cannot pickle '_thread.RLock' object\n",
      "compiled_loss cannot be copied\n",
      "...<class 'TypeError'> error; cannot pickle '_thread.RLock' object\n",
      "compiled_metrics cannot be copied\n",
      "...<class 'TypeError'> error; cannot pickle '_thread.RLock' object\n"
     ]
    },
    {
     "name": "stdout",
     "output_type": "stream",
     "text": [
      "INFO:tensorflow:Assets written to: ram://84ffe4a1-5a23-4c06-9365-1d468ff3bd99/assets\n"
     ]
    },
    {
     "name": "stderr",
     "output_type": "stream",
     "text": [
      "history cannot be copied\n",
      "...<class 'ValueError'> error; Unknown optimizer: DPOptimizerClass. Please ensure this object is passed to the `custom_objects` argument. See https://www.tensorflow.org/guide/keras/save_and_serialize#registering_the_custom_object for details.\n",
      "train_function cannot be copied\n",
      "...<class 'TypeError'> error; cannot pickle '_thread.RLock' object\n",
      "test_function cannot be copied\n",
      "...<class 'TypeError'> error; cannot pickle '_thread.RLock' object\n",
      "train_tf_function cannot be copied\n",
      "...<class 'TypeError'> error; cannot pickle '_thread.RLock' object\n"
     ]
    },
    {
     "name": "stdout",
     "output_type": "stream",
     "text": [
      "<tensorflow_privacy.privacy.optimizers.dp_optimizer_keras.make_keras_optimizer_class.<locals>.DPOptimizerClass object at 0x7f066f49ef70>\n",
      "<tensorflow_privacy.privacy.optimizers.dp_optimizer_keras.make_keras_optimizer_class.<locals>.DPOptimizerClass object at 0x7f066f49ef70>\n",
      "DP-SGD with sampling rate = 10% and noise_multiplier = 0.5 iterated over 200 steps satisfies differential privacy with eps = 50.3 and delta = 1e-05.\n",
      "The optimal RDP order is 1.5.\n",
      "optimiser is type <class 'tensorflow_privacy.privacy.optimizers.dp_optimizer_keras.make_keras_optimizer_class.<locals>.DPOptimizerClass'>\n",
      "Error: user has not called fit() method or has deleted saved values.Recommendation: Do not release. It is True that the model will be DP because  value of optimizer._was_dp_gradients_called is True so DP variant of optimizer has been runepsilon is not sufficient for Differential privacy: 50.301726361197794. You must modify one or more of batch_size, epochs, number of samples.\n",
      " value of optimizer._was_dp_gradients_called is True so DP variant of optimizer has been run\n"
     ]
    }
   ],
   "source": [
    "importlib.reload(safemodel.safemodel)\n",
    "importlib.reload(safemodel.classifiers.safekeras)\n",
    "from safemodel.classifiers.safekeras import Safe_KerasModel\n",
    "\n",
    "# change one model params in an unsafe way\n",
    "print(\"\\n***Test 3: researcher changes string params unsafely\")\n",
    "safeKerasModel3 = Safe_KerasModel(inputs= input_data, outputs=output,name=\"safekerasmodel3-test\", l2_norm_clip = 0.8)\n",
    "safeKerasModel3.compile(loss=loss)\n",
    "#safeKerasModel3.optimizer=\"Adam\"\n",
    "safeKerasModel3.fit(Xt_member, \n",
    "                    yt_member, \n",
    "                    validation_data=(Xt_nonmember, yt_nonmember),\n",
    "                    epochs=epochs, \n",
    "                    batch_size=batch_size)\n",
    "safeKerasModel3.save(\"unsafe3.hd5\")\n",
    "safeKerasModel3.preliminary_check()\n",
    "safeKerasModel3.request_release(filename=\"unsafe3.hd5\")"
   ]
  },
  {
   "cell_type": "code",
   "execution_count": 25,
   "metadata": {},
   "outputs": [
    {
     "name": "stdout",
     "output_type": "stream",
     "text": [
      "\n",
      "***Test 3: researcher changes string params unsafely\n",
      "args is a <class 'tuple'> = ()  kwargs is a <class 'dict'>= {'inputs': <KerasTensor: shape=(None, 300) dtype=float32 (created by layer 'input_1')>, 'outputs': <KerasTensor: shape=(None, 2) dtype=float32 (created by layer 'dense_3')>, 'name': 'safekerasmodel3-test', 'delta': -1}\n",
      "inputs is in kwargs.keys\n",
      "KerasTensor(type_spec=TensorSpec(shape=(None, 300), dtype=tf.float32, name='input_1'), name='input_1', description=\"created by layer 'input_1'\")\n",
      "WARNING: model parameters may present a disclosure risk:\n",
      "- parameter delta = -1 identified as less than the recommended min value of 1e-05.\n",
      "Changed parameter delta = 1e-05.\n",
      "\n",
      "Changed parameter optimizer = 'DPKerasSGDOptimizer'\n",
      "WARNING: model parameters may present a disclosure risk\n",
      "Unknown optimizer <class 'tensorflow_privacy.privacy.optimizers.dp_optimizer_keras.make_keras_optimizer_class.<locals>.DPOptimizerClass'> - Changed parameter optimizer = 'DPKerasSGDOptimizer'\n",
      "DP optimizer used = False\n",
      "optimizer has been changed but fit() has not been rerun.\n",
      "(250, 300)\n",
      "DP-SGD with sampling rate = 10% and noise_multiplier = 0.5 iterated over 200 steps satisfies differential privacy with eps = 50.3 and delta = 1e-05.\n",
      "The optimal RDP order is 1.5.\n",
      "Current epsilon is 50.301726361197794\n",
      "The requirements for DP are not met, current epsilon is: 50.301726361197794. To attain true DP the following parameters can be changed:  Num Samples = 250, batch_size = 25, epochs = 20\n",
      "This will not result in a Differentially Private model do you want to continue [Y/N]y\n",
      "Continuing\n",
      "Epoch 1/20\n",
      "10/10 [==============================] - 2s 57ms/step - loss: 0.0440 - accuracy: 0.9880 - val_loss: 5.6815 - val_accuracy: 0.5800\n",
      "Epoch 2/20\n",
      "10/10 [==============================] - 0s 28ms/step - loss: 0.0397 - accuracy: 0.9960 - val_loss: 5.5703 - val_accuracy: 0.5920\n",
      "Epoch 3/20\n",
      "10/10 [==============================] - 0s 28ms/step - loss: 0.0406 - accuracy: 0.9960 - val_loss: 5.7185 - val_accuracy: 0.5680\n",
      "Epoch 4/20\n",
      "10/10 [==============================] - 0s 28ms/step - loss: 0.0491 - accuracy: 0.9960 - val_loss: 5.7650 - val_accuracy: 0.5840\n",
      "Epoch 5/20\n",
      "10/10 [==============================] - 0s 45ms/step - loss: 0.0619 - accuracy: 0.9920 - val_loss: 5.9022 - val_accuracy: 0.5680\n",
      "Epoch 6/20\n",
      "10/10 [==============================] - 0s 30ms/step - loss: 0.0521 - accuracy: 0.9920 - val_loss: 5.9793 - val_accuracy: 0.5880\n",
      "Epoch 7/20\n",
      "10/10 [==============================] - 1s 109ms/step - loss: 0.0497 - accuracy: 0.9920 - val_loss: 6.1505 - val_accuracy: 0.5840\n",
      "Epoch 8/20\n",
      "10/10 [==============================] - 0s 29ms/step - loss: 0.0208 - accuracy: 0.9960 - val_loss: 5.8232 - val_accuracy: 0.5920\n",
      "Epoch 9/20\n",
      "10/10 [==============================] - 0s 28ms/step - loss: 0.0243 - accuracy: 0.9920 - val_loss: 6.1660 - val_accuracy: 0.5880\n",
      "Epoch 10/20\n",
      "10/10 [==============================] - 0s 31ms/step - loss: 0.0265 - accuracy: 0.9920 - val_loss: 5.9658 - val_accuracy: 0.6040\n",
      "Epoch 11/20\n",
      "10/10 [==============================] - 0s 29ms/step - loss: 0.0278 - accuracy: 0.9880 - val_loss: 5.9995 - val_accuracy: 0.6160\n",
      "Epoch 12/20\n",
      "10/10 [==============================] - 0s 43ms/step - loss: 0.0192 - accuracy: 0.9920 - val_loss: 6.2618 - val_accuracy: 0.6040\n",
      "Epoch 13/20\n",
      "10/10 [==============================] - 0s 30ms/step - loss: 0.0137 - accuracy: 0.9920 - val_loss: 6.1686 - val_accuracy: 0.5960\n",
      "Epoch 14/20\n",
      "10/10 [==============================] - 1s 57ms/step - loss: 0.0145 - accuracy: 0.9920 - val_loss: 6.3128 - val_accuracy: 0.6000\n",
      "Epoch 15/20\n",
      "10/10 [==============================] - 0s 31ms/step - loss: 0.0092 - accuracy: 1.0000 - val_loss: 5.9286 - val_accuracy: 0.5960\n",
      "Epoch 16/20\n",
      "10/10 [==============================] - 0s 28ms/step - loss: 0.0383 - accuracy: 0.9880 - val_loss: 6.1464 - val_accuracy: 0.5920\n",
      "Epoch 17/20\n",
      "10/10 [==============================] - 0s 31ms/step - loss: 0.0281 - accuracy: 0.9880 - val_loss: 6.0685 - val_accuracy: 0.6000\n",
      "Epoch 18/20\n",
      "10/10 [==============================] - 0s 48ms/step - loss: 0.0231 - accuracy: 0.9880 - val_loss: 6.4428 - val_accuracy: 0.6160\n",
      "Epoch 19/20\n",
      "10/10 [==============================] - 0s 36ms/step - loss: 0.0110 - accuracy: 0.9960 - val_loss: 6.1750 - val_accuracy: 0.6040\n",
      "Epoch 20/20\n",
      "10/10 [==============================] - 0s 29ms/step - loss: 0.0038 - accuracy: 1.0000 - val_loss: 6.3436 - val_accuracy: 0.5840\n",
      "INFO:tensorflow:Assets written to: unsafe3.hd5/assets\n",
      "Model parameters are within recommended ranges.\n",
      "\n",
      "INFO:tensorflow:Assets written to: unsafe4.hd5/assets\n"
     ]
    },
    {
     "name": "stderr",
     "output_type": "stream",
     "text": [
      "_obj_reference_counts_dict cannot be copied\n",
      "...<class 'TypeError'> error; cannot pickle '_thread.RLock' object\n",
      "_thread_local cannot be copied\n",
      "...<class 'TypeError'> error; cannot pickle '_thread._local' object\n",
      "_metrics_lock cannot be copied\n",
      "...<class 'TypeError'> error; cannot pickle '_thread.lock' object\n"
     ]
    },
    {
     "name": "stdout",
     "output_type": "stream",
     "text": [
      "INFO:tensorflow:Assets written to: ram://589f04ca-ef17-40bb-9afa-3a5492e82148/assets\n"
     ]
    },
    {
     "name": "stderr",
     "output_type": "stream",
     "text": [
      "_trackable_saver cannot be copied\n",
      "...<class 'ValueError'> error; Unknown optimizer: DPOptimizerClass. Please ensure this object is passed to the `custom_objects` argument. See https://www.tensorflow.org/guide/keras/save_and_serialize#registering_the_custom_object for details.\n",
      "_self_unconditional_checkpoint_dependencies cannot be copied\n",
      "...<class 'TypeError'> error; cannot pickle '_thread.RLock' object\n",
      "_self_unconditional_dependency_names cannot be copied\n",
      "...<class 'TypeError'> error; cannot pickle '_thread.RLock' object\n",
      "compiled_loss cannot be copied\n",
      "...<class 'TypeError'> error; cannot pickle '_thread.RLock' object\n",
      "compiled_metrics cannot be copied\n",
      "...<class 'TypeError'> error; cannot pickle '_thread.RLock' object\n"
     ]
    },
    {
     "name": "stdout",
     "output_type": "stream",
     "text": [
      "INFO:tensorflow:Assets written to: ram://0481a20e-6a31-4f37-9450-4d71cde1789e/assets\n"
     ]
    },
    {
     "name": "stderr",
     "output_type": "stream",
     "text": [
      "history cannot be copied\n",
      "...<class 'ValueError'> error; Unknown optimizer: DPOptimizerClass. Please ensure this object is passed to the `custom_objects` argument. See https://www.tensorflow.org/guide/keras/save_and_serialize#registering_the_custom_object for details.\n",
      "train_function cannot be copied\n",
      "...<class 'TypeError'> error; cannot pickle '_thread.RLock' object\n",
      "test_function cannot be copied\n",
      "...<class 'TypeError'> error; cannot pickle '_thread.RLock' object\n",
      "train_tf_function cannot be copied\n",
      "...<class 'TypeError'> error; cannot pickle '_thread.RLock' object\n"
     ]
    },
    {
     "name": "stdout",
     "output_type": "stream",
     "text": [
      "<tensorflow_privacy.privacy.optimizers.dp_optimizer_keras.make_keras_optimizer_class.<locals>.DPOptimizerClass object at 0x7f0656ee5b20>\n",
      "<tensorflow_privacy.privacy.optimizers.dp_optimizer_keras.make_keras_optimizer_class.<locals>.DPOptimizerClass object at 0x7f0656ee5b20>\n",
      "DP-SGD with sampling rate = 10% and noise_multiplier = 0.5 iterated over 200 steps satisfies differential privacy with eps = 50.3 and delta = 1e-05.\n",
      "The optimal RDP order is 1.5.\n",
      "optimiser is type <class 'tensorflow_privacy.privacy.optimizers.dp_optimizer_keras.make_keras_optimizer_class.<locals>.DPOptimizerClass'>\n",
      "Error: user has not called fit() method or has deleted saved values.Recommendation: Do not release. It is True that the model will be DP because  value of optimizer._was_dp_gradients_called is True so DP variant of optimizer has been runepsilon is not sufficient for Differential privacy: 50.301726361197794. You must modify one or more of batch_size, epochs, number of samples.\n",
      " value of optimizer._was_dp_gradients_called is True so DP variant of optimizer has been run\n"
     ]
    }
   ],
   "source": [
    "# change another model params in an  unsafe way\n",
    "importlib.reload(safemodel.safemodel)\n",
    "importlib.reload(safemodel.classifiers.safekeras)\n",
    "from safemodel.classifiers.safekeras import Safe_KerasModel\n",
    "\n",
    "print(\"\\n***Test 3: researcher changes string params unsafely\")\n",
    "safeKerasModel4 = Safe_KerasModel(inputs= input_data, outputs=output,name=\"safekerasmodel3-test\", delta=-1)\n",
    "safeKerasModel4.compile(loss=loss)\n",
    "#safeKerasModel3.optimizer=\"Adam\"\n",
    "safeKerasModel4.fit(Xt_member, \n",
    "                    yt_member, \n",
    "                    validation_data=(Xt_nonmember, yt_nonmember),\n",
    "                    epochs=epochs, \n",
    "                    batch_size=batch_size)\n",
    "safeKerasModel4.save(\"unsafe3.hd5\")\n",
    "safeKerasModel4.preliminary_check()\n",
    "safeKerasModel4.request_release(filename=\"unsafe4.hd5\")"
   ]
  },
  {
   "cell_type": "code",
   "execution_count": 26,
   "metadata": {
    "scrolled": true
   },
   "outputs": [
    {
     "name": "stdout",
     "output_type": "stream",
     "text": [
      "\n",
      "***Test 5: researcher changes string and numeric params unsafely\n",
      "args is a <class 'tuple'> = ()  kwargs is a <class 'dict'>= {'inputs': <KerasTensor: shape=(None, 300) dtype=float32 (created by layer 'input_1')>, 'outputs': <KerasTensor: shape=(None, 2) dtype=float32 (created by layer 'dense_3')>, 'name': 'safekerasmodel3-test', 'l2_norm_clip': 0.9, 'noise_multipier': 0.4, 'min_epsilon': 9, 'delta': -1}\n",
      "inputs is in kwargs.keys\n",
      "KerasTensor(type_spec=TensorSpec(shape=(None, 300), dtype=tf.float32, name='input_1'), name='input_1', description=\"created by layer 'input_1'\")\n",
      "WARNING: model parameters may present a disclosure risk:\n",
      "- parameter l2_norm_clip = 0.9 identified as less than the recommended min value of 1.0.\n",
      "Changed parameter l2_norm_clip = 1.0.\n",
      "- parameter min_epsilon = 9 identified as less than the recommended min value of 10.\n",
      "Changed parameter min_epsilon = 10.\n",
      "- parameter delta = -1 identified as less than the recommended min value of 1e-05.\n",
      "Changed parameter delta = 1e-05.\n",
      "\n",
      "Changed parameter optimizer = 'DPKerasSGDOptimizer'\n",
      "WARNING: model parameters may present a disclosure risk\n",
      "Unknown optimizer <class 'tensorflow_privacy.privacy.optimizers.dp_optimizer_keras.make_keras_optimizer_class.<locals>.DPOptimizerClass'> - Changed parameter optimizer = 'DPKerasSGDOptimizer'\n",
      "DP optimizer used = False\n",
      "optimizer has been changed but fit() has not been rerun.\n",
      "(250, 300)\n",
      "DP-SGD with sampling rate = 10% and noise_multiplier = 0.5 iterated over 200 steps satisfies differential privacy with eps = 50.3 and delta = 1e-05.\n",
      "The optimal RDP order is 1.5.\n",
      "Current epsilon is 50.301726361197794\n",
      "The requirements for DP are not met, current epsilon is: 50.301726361197794. To attain true DP the following parameters can be changed:  Num Samples = 250, batch_size = 25, epochs = 20\n",
      "This will not result in a Differentially Private model do you want to continue [Y/N]y\n",
      "Continuing\n",
      "Epoch 1/20\n",
      "10/10 [==============================] - 2s 69ms/step - loss: 0.0071 - accuracy: 0.9960 - val_loss: 6.2698 - val_accuracy: 0.6000\n",
      "Epoch 2/20\n",
      "10/10 [==============================] - 0s 29ms/step - loss: 0.0180 - accuracy: 0.9880 - val_loss: 6.1765 - val_accuracy: 0.6160\n",
      "Epoch 3/20\n",
      "10/10 [==============================] - 0s 28ms/step - loss: 0.0140 - accuracy: 0.9960 - val_loss: 6.3585 - val_accuracy: 0.6000\n",
      "Epoch 4/20\n",
      "10/10 [==============================] - 0s 29ms/step - loss: 0.0151 - accuracy: 0.9920 - val_loss: 6.4589 - val_accuracy: 0.6080\n",
      "Epoch 5/20\n",
      "10/10 [==============================] - 0s 35ms/step - loss: 0.0072 - accuracy: 1.0000 - val_loss: 6.3320 - val_accuracy: 0.6040\n",
      "Epoch 6/20\n",
      "10/10 [==============================] - 0s 35ms/step - loss: 0.0136 - accuracy: 0.9960 - val_loss: 6.3743 - val_accuracy: 0.6160\n",
      "Epoch 7/20\n",
      "10/10 [==============================] - 0s 29ms/step - loss: 0.0199 - accuracy: 0.9920 - val_loss: 6.3832 - val_accuracy: 0.6080\n",
      "Epoch 8/20\n",
      "10/10 [==============================] - 0s 33ms/step - loss: 0.0100 - accuracy: 0.9920 - val_loss: 6.6564 - val_accuracy: 0.6200\n",
      "Epoch 9/20\n",
      "10/10 [==============================] - 0s 29ms/step - loss: 0.0402 - accuracy: 0.9840 - val_loss: 6.6848 - val_accuracy: 0.6040\n",
      "Epoch 10/20\n",
      "10/10 [==============================] - 0s 29ms/step - loss: 0.0258 - accuracy: 0.9880 - val_loss: 6.7664 - val_accuracy: 0.6120\n",
      "Epoch 11/20\n",
      "10/10 [==============================] - 0s 29ms/step - loss: 0.0180 - accuracy: 0.9960 - val_loss: 6.7259 - val_accuracy: 0.6080\n",
      "Epoch 12/20\n",
      "10/10 [==============================] - 0s 33ms/step - loss: 0.0229 - accuracy: 0.9920 - val_loss: 6.6078 - val_accuracy: 0.6000\n",
      "Epoch 13/20\n",
      "10/10 [==============================] - 0s 33ms/step - loss: 0.0119 - accuracy: 0.9920 - val_loss: 6.5897 - val_accuracy: 0.6080\n",
      "Epoch 14/20\n",
      "10/10 [==============================] - 0s 28ms/step - loss: 0.0104 - accuracy: 0.9960 - val_loss: 6.6198 - val_accuracy: 0.6000\n",
      "Epoch 15/20\n",
      "10/10 [==============================] - 0s 30ms/step - loss: 0.0243 - accuracy: 0.9920 - val_loss: 6.8106 - val_accuracy: 0.6080\n",
      "Epoch 16/20\n",
      "10/10 [==============================] - 0s 29ms/step - loss: 0.0250 - accuracy: 0.9960 - val_loss: 6.8351 - val_accuracy: 0.6160\n",
      "Epoch 17/20\n",
      "10/10 [==============================] - 0s 29ms/step - loss: 0.0094 - accuracy: 0.9960 - val_loss: 6.9969 - val_accuracy: 0.6160\n",
      "Epoch 18/20\n",
      "10/10 [==============================] - 0s 34ms/step - loss: 0.0253 - accuracy: 0.9920 - val_loss: 6.8592 - val_accuracy: 0.6040\n",
      "Epoch 19/20\n",
      "10/10 [==============================] - 0s 31ms/step - loss: 0.0337 - accuracy: 0.9920 - val_loss: 6.8065 - val_accuracy: 0.5920\n",
      "Epoch 20/20\n",
      "10/10 [==============================] - 0s 28ms/step - loss: 0.0405 - accuracy: 0.9920 - val_loss: 6.8414 - val_accuracy: 0.6120\n",
      "INFO:tensorflow:Assets written to: unsafe3.hd5/assets\n",
      "Model parameters are within recommended ranges.\n",
      "\n",
      "INFO:tensorflow:Assets written to: unsafe4.hd5/assets\n"
     ]
    },
    {
     "name": "stderr",
     "output_type": "stream",
     "text": [
      "_obj_reference_counts_dict cannot be copied\n",
      "...<class 'TypeError'> error; cannot pickle '_thread.RLock' object\n",
      "_thread_local cannot be copied\n",
      "...<class 'TypeError'> error; cannot pickle '_thread._local' object\n",
      "_metrics_lock cannot be copied\n",
      "...<class 'TypeError'> error; cannot pickle '_thread.lock' object\n"
     ]
    },
    {
     "name": "stdout",
     "output_type": "stream",
     "text": [
      "INFO:tensorflow:Assets written to: ram://1bc37523-2b9a-4a87-bbe7-1e5940f6775a/assets\n"
     ]
    },
    {
     "name": "stderr",
     "output_type": "stream",
     "text": [
      "_trackable_saver cannot be copied\n",
      "...<class 'ValueError'> error; Unknown optimizer: DPOptimizerClass. Please ensure this object is passed to the `custom_objects` argument. See https://www.tensorflow.org/guide/keras/save_and_serialize#registering_the_custom_object for details.\n",
      "_self_unconditional_checkpoint_dependencies cannot be copied\n",
      "...<class 'TypeError'> error; cannot pickle '_thread.RLock' object\n",
      "_self_unconditional_dependency_names cannot be copied\n",
      "...<class 'TypeError'> error; cannot pickle '_thread.RLock' object\n",
      "compiled_loss cannot be copied\n",
      "...<class 'TypeError'> error; cannot pickle '_thread.RLock' object\n",
      "compiled_metrics cannot be copied\n",
      "...<class 'TypeError'> error; cannot pickle '_thread.RLock' object\n"
     ]
    },
    {
     "name": "stdout",
     "output_type": "stream",
     "text": [
      "INFO:tensorflow:Assets written to: ram://a7a6e5b5-9919-4814-bb26-08ffddd1ea6f/assets\n"
     ]
    },
    {
     "name": "stderr",
     "output_type": "stream",
     "text": [
      "history cannot be copied\n",
      "...<class 'ValueError'> error; Unknown optimizer: DPOptimizerClass. Please ensure this object is passed to the `custom_objects` argument. See https://www.tensorflow.org/guide/keras/save_and_serialize#registering_the_custom_object for details.\n",
      "train_function cannot be copied\n",
      "...<class 'TypeError'> error; cannot pickle '_thread.RLock' object\n",
      "test_function cannot be copied\n",
      "...<class 'TypeError'> error; cannot pickle '_thread.RLock' object\n",
      "train_tf_function cannot be copied\n",
      "...<class 'TypeError'> error; cannot pickle '_thread.RLock' object\n"
     ]
    },
    {
     "name": "stdout",
     "output_type": "stream",
     "text": [
      "<tensorflow_privacy.privacy.optimizers.dp_optimizer_keras.make_keras_optimizer_class.<locals>.DPOptimizerClass object at 0x7f066c71b610>\n",
      "<tensorflow_privacy.privacy.optimizers.dp_optimizer_keras.make_keras_optimizer_class.<locals>.DPOptimizerClass object at 0x7f066c71b610>\n",
      "DP-SGD with sampling rate = 10% and noise_multiplier = 0.5 iterated over 200 steps satisfies differential privacy with eps = 50.3 and delta = 1e-05.\n",
      "The optimal RDP order is 1.5.\n",
      "optimiser is type <class 'tensorflow_privacy.privacy.optimizers.dp_optimizer_keras.make_keras_optimizer_class.<locals>.DPOptimizerClass'>\n",
      "Error: user has not called fit() method or has deleted saved values.Recommendation: Do not release. It is True that the model will be DP because  value of optimizer._was_dp_gradients_called is True so DP variant of optimizer has been runepsilon is not sufficient for Differential privacy: 50.301726361197794. You must modify one or more of batch_size, epochs, number of samples.\n",
      " value of optimizer._was_dp_gradients_called is True so DP variant of optimizer has been run\n"
     ]
    }
   ],
   "source": [
    "# change another model params in an  unsafe way\n",
    "print(\"\\n***Test 5: researcher changes string and numeric params unsafely\")\n",
    "\n",
    "importlib.reload(safemodel.safemodel)\n",
    "importlib.reload(safemodel.classifiers.safekeras)\n",
    "from safemodel.classifiers.safekeras import Safe_KerasModel\n",
    "\n",
    "\n",
    "safeKerasModel4 = Safe_KerasModel(inputs= input_data, outputs=output,name=\"safekerasmodel3-test\", l2_norm_clip=0.9, noise_multipier=0.4, min_epsilon=9,delta=-1)\n",
    "safeKerasModel4.compile(loss=loss)\n",
    "#safeKerasModel3.optimizer=\"Adam\"\n",
    "safeKerasModel4.fit(Xt_member, \n",
    "                    yt_member, \n",
    "                    validation_data=(Xt_nonmember, yt_nonmember),\n",
    "                    epochs=epochs, \n",
    "                    batch_size=batch_size)\n",
    "safeKerasModel4.save(\"unsafe3.hd5\")\n",
    "safeKerasModel4.preliminary_check()\n",
    "safeKerasModel4.request_release(filename=\"unsafe4.hd5\")"
   ]
  },
  {
   "cell_type": "code",
   "execution_count": 27,
   "metadata": {},
   "outputs": [
    {
     "name": "stdout",
     "output_type": "stream",
     "text": [
      "\n",
      "***Test 6: researcher changes string and numeric params unsafely\n",
      "args is a <class 'tuple'> = ()  kwargs is a <class 'dict'>= {'inputs': <KerasTensor: shape=(None, 300) dtype=float32 (created by layer 'input_1')>, 'outputs': <KerasTensor: shape=(None, 2) dtype=float32 (created by layer 'dense_3')>, 'name': 'safekerasmodel6-test', 'optimizer': 'wobble'}\n",
      "inputs is in kwargs.keys\n",
      "KerasTensor(type_spec=TensorSpec(shape=(None, 300), dtype=tf.float32, name='input_1'), name='input_1', description=\"created by layer 'input_1'\")\n",
      "Model parameters are within recommended ranges.\n",
      "\n",
      "WARNING: model parameters may present a disclosure risk\n",
      "Unknown optimizer wobble - Changed parameter optimizer = 'DPKerasSGDOptimizer'\n",
      "DP optimizer used = False\n",
      "optimizer has been changed but fit() has not been rerun.\n",
      "(250, 300)\n",
      "DP-SGD with sampling rate = 10% and noise_multiplier = 0.5 iterated over 200 steps satisfies differential privacy with eps = 50.3 and delta = 1e-05.\n",
      "The optimal RDP order is 1.5.\n",
      "Current epsilon is 50.301726361197794\n",
      "The requirements for DP are not met, current epsilon is: 50.301726361197794. To attain true DP the following parameters can be changed:  Num Samples = 250, batch_size = 25, epochs = 20\n",
      "This will not result in a Differentially Private model do you want to continue [Y/N]y\n",
      "Continuing\n",
      "Epoch 1/20\n",
      "10/10 [==============================] - 2s 40ms/step - loss: 0.0456 - accuracy: 0.9840 - val_loss: 6.8038 - val_accuracy: 0.6120\n",
      "Epoch 2/20\n",
      "10/10 [==============================] - 0s 34ms/step - loss: 0.0192 - accuracy: 0.9960 - val_loss: 6.7221 - val_accuracy: 0.6080\n",
      "Epoch 3/20\n",
      "10/10 [==============================] - 0s 29ms/step - loss: 0.0110 - accuracy: 0.9960 - val_loss: 6.5147 - val_accuracy: 0.6120\n",
      "Epoch 4/20\n",
      "10/10 [==============================] - 0s 32ms/step - loss: 0.0178 - accuracy: 0.9920 - val_loss: 6.6881 - val_accuracy: 0.6080\n",
      "Epoch 5/20\n",
      "10/10 [==============================] - 0s 31ms/step - loss: 0.0282 - accuracy: 0.9920 - val_loss: 6.8129 - val_accuracy: 0.6160\n",
      "Epoch 6/20\n",
      "10/10 [==============================] - 0s 28ms/step - loss: 0.0288 - accuracy: 0.9840 - val_loss: 7.1275 - val_accuracy: 0.6200\n",
      "Epoch 7/20\n",
      "10/10 [==============================] - 0s 33ms/step - loss: 0.0278 - accuracy: 0.9960 - val_loss: 7.0418 - val_accuracy: 0.6040\n",
      "Epoch 8/20\n",
      "10/10 [==============================] - 0s 33ms/step - loss: 0.0267 - accuracy: 0.9920 - val_loss: 7.3908 - val_accuracy: 0.5960\n",
      "Epoch 9/20\n",
      "10/10 [==============================] - 0s 32ms/step - loss: 0.0200 - accuracy: 0.9920 - val_loss: 7.2291 - val_accuracy: 0.6000\n",
      "Epoch 10/20\n",
      "10/10 [==============================] - 0s 34ms/step - loss: 0.0198 - accuracy: 0.9920 - val_loss: 7.2248 - val_accuracy: 0.6000\n",
      "Epoch 11/20\n",
      "10/10 [==============================] - 0s 33ms/step - loss: 0.0360 - accuracy: 0.9920 - val_loss: 7.3917 - val_accuracy: 0.6080\n",
      "Epoch 12/20\n",
      "10/10 [==============================] - 0s 28ms/step - loss: 0.0071 - accuracy: 0.9960 - val_loss: 7.1899 - val_accuracy: 0.6120\n",
      "Epoch 13/20\n",
      "10/10 [==============================] - 0s 34ms/step - loss: 0.0214 - accuracy: 0.9880 - val_loss: 7.0803 - val_accuracy: 0.6000\n",
      "Epoch 14/20\n",
      "10/10 [==============================] - 0s 30ms/step - loss: 0.0328 - accuracy: 0.9920 - val_loss: 6.9571 - val_accuracy: 0.6080\n",
      "Epoch 15/20\n",
      "10/10 [==============================] - 0s 32ms/step - loss: 0.0264 - accuracy: 0.9920 - val_loss: 6.9816 - val_accuracy: 0.5960\n",
      "Epoch 16/20\n",
      "10/10 [==============================] - 0s 37ms/step - loss: 0.0079 - accuracy: 0.9960 - val_loss: 7.1954 - val_accuracy: 0.6040\n",
      "Epoch 17/20\n",
      "10/10 [==============================] - 0s 45ms/step - loss: 0.0262 - accuracy: 0.9920 - val_loss: 7.1173 - val_accuracy: 0.6200\n",
      "Epoch 18/20\n",
      "10/10 [==============================] - 0s 46ms/step - loss: 0.0144 - accuracy: 0.9920 - val_loss: 7.0471 - val_accuracy: 0.6360\n",
      "Epoch 19/20\n",
      "10/10 [==============================] - 0s 47ms/step - loss: 0.0314 - accuracy: 0.9960 - val_loss: 7.2188 - val_accuracy: 0.6320\n",
      "Epoch 20/20\n",
      "10/10 [==============================] - 0s 45ms/step - loss: 0.0177 - accuracy: 0.9960 - val_loss: 7.3508 - val_accuracy: 0.6400\n",
      "INFO:tensorflow:Assets written to: unsafe6.hd5/assets\n",
      "Model parameters are within recommended ranges.\n",
      "\n",
      "INFO:tensorflow:Assets written to: unsafe6.hd5/assets\n"
     ]
    },
    {
     "name": "stderr",
     "output_type": "stream",
     "text": [
      "_obj_reference_counts_dict cannot be copied\n",
      "...<class 'TypeError'> error; cannot pickle '_thread.RLock' object\n",
      "_thread_local cannot be copied\n",
      "...<class 'TypeError'> error; cannot pickle '_thread._local' object\n",
      "_metrics_lock cannot be copied\n",
      "...<class 'TypeError'> error; cannot pickle '_thread.lock' object\n"
     ]
    },
    {
     "name": "stdout",
     "output_type": "stream",
     "text": [
      "INFO:tensorflow:Assets written to: ram://267f911c-94ca-4539-a50e-e9a730133ab9/assets\n"
     ]
    },
    {
     "name": "stderr",
     "output_type": "stream",
     "text": [
      "_trackable_saver cannot be copied\n",
      "...<class 'ValueError'> error; Unknown optimizer: DPOptimizerClass. Please ensure this object is passed to the `custom_objects` argument. See https://www.tensorflow.org/guide/keras/save_and_serialize#registering_the_custom_object for details.\n",
      "_self_unconditional_checkpoint_dependencies cannot be copied\n",
      "...<class 'TypeError'> error; cannot pickle '_thread.RLock' object\n",
      "_self_unconditional_dependency_names cannot be copied\n",
      "...<class 'TypeError'> error; cannot pickle '_thread.RLock' object\n",
      "compiled_loss cannot be copied\n",
      "...<class 'TypeError'> error; cannot pickle '_thread.RLock' object\n",
      "compiled_metrics cannot be copied\n",
      "...<class 'TypeError'> error; cannot pickle '_thread.RLock' object\n"
     ]
    },
    {
     "name": "stdout",
     "output_type": "stream",
     "text": [
      "INFO:tensorflow:Assets written to: ram://b8aebeec-69aa-4312-8da6-1f54bf29b997/assets\n"
     ]
    },
    {
     "name": "stderr",
     "output_type": "stream",
     "text": [
      "history cannot be copied\n",
      "...<class 'ValueError'> error; Unknown optimizer: DPOptimizerClass. Please ensure this object is passed to the `custom_objects` argument. See https://www.tensorflow.org/guide/keras/save_and_serialize#registering_the_custom_object for details.\n",
      "train_function cannot be copied\n",
      "...<class 'TypeError'> error; cannot pickle '_thread.RLock' object\n",
      "test_function cannot be copied\n",
      "...<class 'TypeError'> error; cannot pickle '_thread.RLock' object\n",
      "train_tf_function cannot be copied\n",
      "...<class 'TypeError'> error; cannot pickle '_thread.RLock' object\n"
     ]
    },
    {
     "name": "stdout",
     "output_type": "stream",
     "text": [
      "<tensorflow_privacy.privacy.optimizers.dp_optimizer_keras.make_keras_optimizer_class.<locals>.DPOptimizerClass object at 0x7f06551f4f70>\n",
      "<tensorflow_privacy.privacy.optimizers.dp_optimizer_keras.make_keras_optimizer_class.<locals>.DPOptimizerClass object at 0x7f06551f4f70>\n",
      "DP-SGD with sampling rate = 10% and noise_multiplier = 0.5 iterated over 200 steps satisfies differential privacy with eps = 50.3 and delta = 1e-05.\n",
      "The optimal RDP order is 1.5.\n",
      "optimiser is type <class 'tensorflow_privacy.privacy.optimizers.dp_optimizer_keras.make_keras_optimizer_class.<locals>.DPOptimizerClass'>\n",
      "Error: user has not called fit() method or has deleted saved values.Recommendation: Do not release. It is True that the model will be DP because  value of optimizer._was_dp_gradients_called is True so DP variant of optimizer has been runepsilon is not sufficient for Differential privacy: 50.301726361197794. You must modify one or more of batch_size, epochs, number of samples.\n",
      " value of optimizer._was_dp_gradients_called is True so DP variant of optimizer has been run\n"
     ]
    }
   ],
   "source": [
    "importlib.reload(safemodel.safemodel)\n",
    "importlib.reload(safemodel.classifiers.safekeras)\n",
    "from safemodel.classifiers.safekeras import Safe_KerasModel\n",
    "\n",
    "# change another model params in an  unsafe way but tells preliminary_check() not to overwrite params\n",
    "print(\"\\n***Test 6: researcher changes string and numeric params unsafely\")\n",
    "safeKerasModel6 = Safe_KerasModel(inputs= input_data, outputs=output,name=\"safekerasmodel6-test\", optimizer=\"wobble\")\n",
    "safeKerasModel6.compile(loss=loss)\n",
    "safeKerasModel6.fit(Xt_member, \n",
    "                    yt_member, \n",
    "                    validation_data=(Xt_nonmember, yt_nonmember),\n",
    "                    epochs=epochs, \n",
    "                    batch_size=batch_size)\n",
    "safeKerasModel6.save(\"unsafe6.hd5\")\n",
    "\n",
    "safeKerasModel6.preliminary_check(apply_constraints=False)\n",
    "safeKerasModel6.request_release(filename=\"unsafe6.hd5\")"
   ]
  },
  {
   "cell_type": "code",
   "execution_count": 28,
   "metadata": {},
   "outputs": [
    {
     "name": "stdout",
     "output_type": "stream",
     "text": [
      "\n",
      "***Test 7: researcher changes string and numeric params unsafely\n",
      "args is a <class 'tuple'> = ()  kwargs is a <class 'dict'>= {'inputs': <KerasTensor: shape=(None, 300) dtype=float32 (created by layer 'input_1')>, 'outputs': <KerasTensor: shape=(None, 2) dtype=float32 (created by layer 'dense_3')>, 'name': 'safekerasmodel6-test', 'optimizer': 'Adam'}\n",
      "inputs is in kwargs.keys\n",
      "KerasTensor(type_spec=TensorSpec(shape=(None, 300), dtype=tf.float32, name='input_1'), name='input_1', description=\"created by layer 'input_1'\")\n",
      "Model parameters are within recommended ranges.\n",
      "\n",
      "WARNING: model parameters may present a disclosure risk\n",
      "Changed parameter optimizer = 'DPKerasAdamOptimizer'\n",
      "DP optimizer used = False\n",
      "optimizer has been changed but fit() has not been rerun.\n",
      "(250, 300)\n",
      "DP-SGD with sampling rate = 10% and noise_multiplier = 0.5 iterated over 200 steps satisfies differential privacy with eps = 50.3 and delta = 1e-05.\n",
      "The optimal RDP order is 1.5.\n",
      "Current epsilon is 50.301726361197794\n",
      "The requirements for DP are not met, current epsilon is: 50.301726361197794. To attain true DP the following parameters can be changed:  Num Samples = 250, batch_size = 25, epochs = 20\n",
      "This will not result in a Differentially Private model do you want to continue [Y/N]y\n",
      "Continuing\n",
      "Epoch 1/20\n",
      "10/10 [==============================] - 2s 37ms/step - loss: 134.9384 - accuracy: 0.6000 - val_loss: 237.1016 - val_accuracy: 0.5240\n",
      "Epoch 2/20\n",
      "10/10 [==============================] - 0s 33ms/step - loss: 515.0530 - accuracy: 0.5160 - val_loss: 731.0088 - val_accuracy: 0.5200\n",
      "Epoch 3/20\n",
      "10/10 [==============================] - 0s 27ms/step - loss: 898.0440 - accuracy: 0.5840 - val_loss: 1534.8486 - val_accuracy: 0.5160\n",
      "Epoch 4/20\n",
      "10/10 [==============================] - 0s 26ms/step - loss: 1013.6198 - accuracy: 0.6280 - val_loss: 1819.8661 - val_accuracy: 0.5160\n",
      "Epoch 5/20\n",
      "10/10 [==============================] - 0s 31ms/step - loss: 1461.6050 - accuracy: 0.6240 - val_loss: 2351.6304 - val_accuracy: 0.5240\n",
      "Epoch 6/20\n",
      "10/10 [==============================] - 0s 31ms/step - loss: 1943.3328 - accuracy: 0.6440 - val_loss: 2884.5408 - val_accuracy: 0.5480\n",
      "Epoch 7/20\n",
      "10/10 [==============================] - 1s 116ms/step - loss: 2120.3638 - accuracy: 0.6360 - val_loss: 3482.8560 - val_accuracy: 0.5440\n",
      "Epoch 8/20\n",
      "10/10 [==============================] - 0s 31ms/step - loss: 2563.6179 - accuracy: 0.6360 - val_loss: 3212.2759 - val_accuracy: 0.5760\n",
      "Epoch 9/20\n",
      "10/10 [==============================] - 0s 32ms/step - loss: 3273.5039 - accuracy: 0.6360 - val_loss: 3913.9751 - val_accuracy: 0.6040\n",
      "Epoch 10/20\n",
      "10/10 [==============================] - 1s 59ms/step - loss: 3238.7095 - accuracy: 0.7000 - val_loss: 6312.4155 - val_accuracy: 0.5640\n",
      "Epoch 11/20\n",
      "10/10 [==============================] - 0s 35ms/step - loss: 5190.0566 - accuracy: 0.6320 - val_loss: 9519.8936 - val_accuracy: 0.5520\n",
      "Epoch 12/20\n",
      "10/10 [==============================] - 0s 35ms/step - loss: 4925.1436 - accuracy: 0.6600 - val_loss: 9819.2666 - val_accuracy: 0.5320\n",
      "Epoch 13/20\n",
      "10/10 [==============================] - 0s 44ms/step - loss: 5337.3530 - accuracy: 0.6840 - val_loss: 11162.6416 - val_accuracy: 0.5360\n",
      "Epoch 14/20\n",
      "10/10 [==============================] - 0s 49ms/step - loss: 5517.8740 - accuracy: 0.6520 - val_loss: 11872.0049 - val_accuracy: 0.5240\n",
      "Epoch 15/20\n",
      "10/10 [==============================] - 0s 32ms/step - loss: 7051.2881 - accuracy: 0.6120 - val_loss: 13983.3779 - val_accuracy: 0.5720\n",
      "Epoch 16/20\n",
      "10/10 [==============================] - 0s 34ms/step - loss: 7229.5425 - accuracy: 0.6120 - val_loss: 12251.8809 - val_accuracy: 0.5520\n",
      "Epoch 17/20\n",
      "10/10 [==============================] - 0s 33ms/step - loss: 8221.1562 - accuracy: 0.6360 - val_loss: 13584.1328 - val_accuracy: 0.5200\n",
      "Epoch 18/20\n",
      "10/10 [==============================] - 0s 35ms/step - loss: 7456.2510 - accuracy: 0.6520 - val_loss: 17114.7129 - val_accuracy: 0.5200\n",
      "Epoch 19/20\n",
      "10/10 [==============================] - 1s 53ms/step - loss: 9575.1709 - accuracy: 0.6280 - val_loss: 17693.5156 - val_accuracy: 0.5600\n",
      "Epoch 20/20\n",
      "10/10 [==============================] - 0s 34ms/step - loss: 9159.6387 - accuracy: 0.6640 - val_loss: 19213.8887 - val_accuracy: 0.5560\n",
      "INFO:tensorflow:Assets written to: unsafe7.hd5/assets\n",
      "Model parameters are within recommended ranges.\n",
      "\n",
      "INFO:tensorflow:Assets written to: unsafe7.hd5/assets\n"
     ]
    },
    {
     "name": "stderr",
     "output_type": "stream",
     "text": [
      "_obj_reference_counts_dict cannot be copied\n",
      "...<class 'TypeError'> error; cannot pickle '_thread.RLock' object\n",
      "_thread_local cannot be copied\n",
      "...<class 'TypeError'> error; cannot pickle '_thread._local' object\n",
      "_metrics_lock cannot be copied\n",
      "...<class 'TypeError'> error; cannot pickle '_thread.lock' object\n"
     ]
    },
    {
     "name": "stdout",
     "output_type": "stream",
     "text": [
      "INFO:tensorflow:Assets written to: ram://f9ddd862-d29c-4963-88da-0089240787a9/assets\n"
     ]
    },
    {
     "name": "stderr",
     "output_type": "stream",
     "text": [
      "_trackable_saver cannot be copied\n",
      "...<class 'ValueError'> error; Unknown optimizer: DPOptimizerClass. Please ensure this object is passed to the `custom_objects` argument. See https://www.tensorflow.org/guide/keras/save_and_serialize#registering_the_custom_object for details.\n",
      "_self_unconditional_checkpoint_dependencies cannot be copied\n",
      "...<class 'TypeError'> error; cannot pickle '_thread.RLock' object\n",
      "_self_unconditional_dependency_names cannot be copied\n",
      "...<class 'TypeError'> error; cannot pickle '_thread.RLock' object\n",
      "compiled_loss cannot be copied\n",
      "...<class 'TypeError'> error; cannot pickle '_thread.RLock' object\n",
      "compiled_metrics cannot be copied\n",
      "...<class 'TypeError'> error; cannot pickle '_thread.RLock' object\n"
     ]
    },
    {
     "name": "stdout",
     "output_type": "stream",
     "text": [
      "INFO:tensorflow:Assets written to: ram://5f0ad298-4486-41d1-ad12-3e468b2ea6dd/assets\n"
     ]
    },
    {
     "name": "stderr",
     "output_type": "stream",
     "text": [
      "history cannot be copied\n",
      "...<class 'ValueError'> error; Unknown optimizer: DPOptimizerClass. Please ensure this object is passed to the `custom_objects` argument. See https://www.tensorflow.org/guide/keras/save_and_serialize#registering_the_custom_object for details.\n",
      "train_function cannot be copied\n",
      "...<class 'TypeError'> error; cannot pickle '_thread.RLock' object\n",
      "test_function cannot be copied\n",
      "...<class 'TypeError'> error; cannot pickle '_thread.RLock' object\n",
      "train_tf_function cannot be copied\n",
      "...<class 'TypeError'> error; cannot pickle '_thread.RLock' object\n"
     ]
    },
    {
     "name": "stdout",
     "output_type": "stream",
     "text": [
      "<tensorflow_privacy.privacy.optimizers.dp_optimizer_keras.make_keras_optimizer_class.<locals>.DPOptimizerClass object at 0x7f06551f4f70>\n",
      "<tensorflow_privacy.privacy.optimizers.dp_optimizer_keras.make_keras_optimizer_class.<locals>.DPOptimizerClass object at 0x7f06551f4f70>\n",
      "DP-SGD with sampling rate = 10% and noise_multiplier = 0.5 iterated over 200 steps satisfies differential privacy with eps = 50.3 and delta = 1e-05.\n",
      "The optimal RDP order is 1.5.\n",
      "optimiser is type <class 'tensorflow_privacy.privacy.optimizers.dp_optimizer_keras.make_keras_optimizer_class.<locals>.DPOptimizerClass'>\n",
      "Error: user has not called fit() method or has deleted saved values.Recommendation: Do not release. It is True that the model will be DP because  value of optimizer._was_dp_gradients_called is True so DP variant of optimizer has been runepsilon is not sufficient for Differential privacy: 50.301726361197794. You must modify one or more of batch_size, epochs, number of samples.\n",
      " value of optimizer._was_dp_gradients_called is True so DP variant of optimizer has been run\n"
     ]
    }
   ],
   "source": [
    "importlib.reload(safemodel.safemodel)\n",
    "importlib.reload(safemodel.classifiers.safekeras)\n",
    "from safemodel.classifiers.safekeras import Safe_KerasModel\n",
    "\n",
    "# change another model params in an  unsafe way but tells preliminary_check() not to overwrite params\n",
    "print(\"\\n***Test 7: researcher changes string and numeric params unsafely\")\n",
    "safeKerasModel7 = Safe_KerasModel(inputs= input_data, outputs=output,name=\"safekerasmodel6-test\", optimizer=\"Adam\")\n",
    "safeKerasModel7.compile(loss=loss)\n",
    "safeKerasModel7.fit(Xt_member, \n",
    "                    yt_member, \n",
    "                    validation_data=(Xt_nonmember, yt_nonmember),\n",
    "                    epochs=epochs, \n",
    "                    batch_size=batch_size)\n",
    "safeKerasModel6.save(\"unsafe7.hd5\")\n",
    "\n",
    "safeKerasModel6.preliminary_check(apply_constraints=False)\n",
    "safeKerasModel6.request_release(filename=\"unsafe7.hd5\")"
   ]
  },
  {
   "cell_type": "code",
   "execution_count": null,
   "metadata": {},
   "outputs": [],
   "source": []
  },
  {
   "cell_type": "code",
   "execution_count": 33,
   "metadata": {},
   "outputs": [
    {
     "name": "stdout",
     "output_type": "stream",
     "text": [
      "\n",
      "***Test 8: researcher changes string and numeric params unsafely\n",
      "args is a <class 'tuple'> = ()  kwargs is a <class 'dict'>= {'inputs': <KerasTensor: shape=(None, 300) dtype=float32 (created by layer 'input_1')>, 'outputs': <KerasTensor: shape=(None, 2) dtype=float32 (created by layer 'dense_3')>, 'name': 'safekerasmodel6-test', 'optimizer': 'Adam'}\n",
      "inputs is in kwargs.keys\n",
      "KerasTensor(type_spec=TensorSpec(shape=(None, 300), dtype=tf.float32, name='input_1'), name='input_1', description=\"created by layer 'input_1'\")\n",
      "Model parameters are within recommended ranges.\n",
      "\n",
      "WARNING: model parameters may present a disclosure risk\n",
      "Changed parameter optimizer = 'DPKerasAdamOptimizer'\n",
      "DP optimizer used = False\n",
      "optimizer has been changed but fit() has not been rerun.\n",
      "(250, 300)\n",
      "DP-SGD with sampling rate = 10% and noise_multiplier = 0.5 iterated over 200 steps satisfies differential privacy with eps = 50.3 and delta = 1e-05.\n",
      "The optimal RDP order is 1.5.\n",
      "Current epsilon is 50.301726361197794\n",
      "The requirements for DP are not met, current epsilon is: 50.301726361197794. To attain true DP the following parameters can be changed:  Num Samples = 250, batch_size = 25, epochs = 20\n",
      "This will not result in a Differentially Private model do you want to continue [Y/N]y\n",
      "Continuing\n",
      "Epoch 1/20\n",
      "10/10 [==============================] - 3s 42ms/step - loss: 100851.0078 - accuracy: 0.6880 - val_loss: 278692.0000 - val_accuracy: 0.5240\n",
      "Epoch 2/20\n",
      "10/10 [==============================] - 0s 30ms/step - loss: 108069.3125 - accuracy: 0.6920 - val_loss: 270527.0000 - val_accuracy: 0.5240\n",
      "Epoch 3/20\n",
      "10/10 [==============================] - 0s 33ms/step - loss: 109617.3047 - accuracy: 0.7040 - val_loss: 284996.5938 - val_accuracy: 0.5160\n",
      "Epoch 4/20\n",
      "10/10 [==============================] - 0s 30ms/step - loss: 100945.9922 - accuracy: 0.7520 - val_loss: 274420.6875 - val_accuracy: 0.5320\n",
      "Epoch 5/20\n",
      "10/10 [==============================] - 0s 28ms/step - loss: 82890.9922 - accuracy: 0.7600 - val_loss: 264419.6562 - val_accuracy: 0.5520\n",
      "Epoch 6/20\n",
      "10/10 [==============================] - 0s 29ms/step - loss: 81586.1328 - accuracy: 0.7040 - val_loss: 273386.8125 - val_accuracy: 0.5520\n",
      "Epoch 7/20\n",
      "10/10 [==============================] - 0s 28ms/step - loss: 107942.2188 - accuracy: 0.6960 - val_loss: 313971.7188 - val_accuracy: 0.5400\n",
      "Epoch 8/20\n",
      "10/10 [==============================] - 0s 35ms/step - loss: 120864.2578 - accuracy: 0.7320 - val_loss: 323599.4688 - val_accuracy: 0.5560\n",
      "Epoch 9/20\n",
      "10/10 [==============================] - 0s 28ms/step - loss: 100388.5234 - accuracy: 0.7440 - val_loss: 340731.2188 - val_accuracy: 0.5520\n",
      "Epoch 10/20\n",
      "10/10 [==============================] - 0s 35ms/step - loss: 108561.1250 - accuracy: 0.7360 - val_loss: 361225.2500 - val_accuracy: 0.5360\n",
      "Epoch 11/20\n",
      "10/10 [==============================] - 0s 31ms/step - loss: 104115.4844 - accuracy: 0.7240 - val_loss: 399747.5625 - val_accuracy: 0.5160\n",
      "Epoch 12/20\n",
      "10/10 [==============================] - 0s 36ms/step - loss: 99204.1797 - accuracy: 0.7360 - val_loss: 382257.3438 - val_accuracy: 0.4920\n",
      "Epoch 13/20\n",
      "10/10 [==============================] - 0s 45ms/step - loss: 89647.3516 - accuracy: 0.7400 - val_loss: 381516.0312 - val_accuracy: 0.4840\n",
      "Epoch 14/20\n",
      "10/10 [==============================] - 0s 42ms/step - loss: 98532.6562 - accuracy: 0.7360 - val_loss: 402282.2812 - val_accuracy: 0.5280\n",
      "Epoch 15/20\n",
      "10/10 [==============================] - 0s 36ms/step - loss: 130323.0938 - accuracy: 0.7240 - val_loss: 376181.8125 - val_accuracy: 0.4760\n",
      "Epoch 16/20\n",
      "10/10 [==============================] - 0s 41ms/step - loss: 140912.0312 - accuracy: 0.7320 - val_loss: 417510.1562 - val_accuracy: 0.5000\n",
      "Epoch 17/20\n",
      "10/10 [==============================] - 0s 28ms/step - loss: 145965.9844 - accuracy: 0.7280 - val_loss: 443072.7188 - val_accuracy: 0.5320\n",
      "Epoch 18/20\n",
      "10/10 [==============================] - 0s 35ms/step - loss: 144874.4219 - accuracy: 0.7200 - val_loss: 420978.5938 - val_accuracy: 0.5520\n",
      "Epoch 19/20\n",
      "10/10 [==============================] - 0s 27ms/step - loss: 134747.7656 - accuracy: 0.7280 - val_loss: 445708.8125 - val_accuracy: 0.5520\n",
      "Epoch 20/20\n",
      "10/10 [==============================] - 0s 49ms/step - loss: 110205.9141 - accuracy: 0.7280 - val_loss: 439526.6562 - val_accuracy: 0.5400\n",
      "INFO:tensorflow:Assets written to: unsafe8.pkl/assets\n"
     ]
    },
    {
     "ename": "ValueError",
     "evalue": "Unknown optimizer: DPOptimizerClass. Please ensure this object is passed to the `custom_objects` argument. See https://www.tensorflow.org/guide/keras/save_and_serialize#registering_the_custom_object for details.",
     "output_type": "error",
     "traceback": [
      "\u001b[0;31m---------------------------------------------------------------------------\u001b[0m",
      "\u001b[0;31mValueError\u001b[0m                                Traceback (most recent call last)",
      "\u001b[0;32m/tmp/ipykernel_10714/3457345619.py\u001b[0m in \u001b[0;36m<module>\u001b[0;34m\u001b[0m\n\u001b[1;32m     14\u001b[0m                     batch_size=batch_size)\n\u001b[1;32m     15\u001b[0m \u001b[0msafeKerasModel8\u001b[0m\u001b[0;34m.\u001b[0m\u001b[0msave\u001b[0m\u001b[0;34m(\u001b[0m\u001b[0;34m\"unsafe8.pkl\"\u001b[0m\u001b[0;34m)\u001b[0m\u001b[0;34m\u001b[0m\u001b[0;34m\u001b[0m\u001b[0m\n\u001b[0;32m---> 16\u001b[0;31m \u001b[0mf\u001b[0m \u001b[0;34m=\u001b[0m \u001b[0mtf\u001b[0m\u001b[0;34m.\u001b[0m\u001b[0mkeras\u001b[0m\u001b[0;34m.\u001b[0m\u001b[0mmodels\u001b[0m\u001b[0;34m.\u001b[0m\u001b[0mload_model\u001b[0m\u001b[0;34m(\u001b[0m\u001b[0;34m'unsafe8.pkl'\u001b[0m\u001b[0;34m)\u001b[0m\u001b[0;34m\u001b[0m\u001b[0;34m\u001b[0m\u001b[0m\n\u001b[0m\u001b[1;32m     17\u001b[0m \u001b[0mprint\u001b[0m \u001b[0;34m(\u001b[0m\u001b[0mf\u001b[0m\u001b[0;34m.\u001b[0m\u001b[0m__dict__\u001b[0m\u001b[0;34m)\u001b[0m\u001b[0;34m\u001b[0m\u001b[0;34m\u001b[0m\u001b[0m\n\u001b[1;32m     18\u001b[0m \u001b[0;34m\u001b[0m\u001b[0m\n",
      "\u001b[0;32m~/anaconda3/lib/python3.9/site-packages/keras/utils/traceback_utils.py\u001b[0m in \u001b[0;36merror_handler\u001b[0;34m(*args, **kwargs)\u001b[0m\n\u001b[1;32m     65\u001b[0m     \u001b[0;32mexcept\u001b[0m \u001b[0mException\u001b[0m \u001b[0;32mas\u001b[0m \u001b[0me\u001b[0m\u001b[0;34m:\u001b[0m  \u001b[0;31m# pylint: disable=broad-except\u001b[0m\u001b[0;34m\u001b[0m\u001b[0;34m\u001b[0m\u001b[0m\n\u001b[1;32m     66\u001b[0m       \u001b[0mfiltered_tb\u001b[0m \u001b[0;34m=\u001b[0m \u001b[0m_process_traceback_frames\u001b[0m\u001b[0;34m(\u001b[0m\u001b[0me\u001b[0m\u001b[0;34m.\u001b[0m\u001b[0m__traceback__\u001b[0m\u001b[0;34m)\u001b[0m\u001b[0;34m\u001b[0m\u001b[0;34m\u001b[0m\u001b[0m\n\u001b[0;32m---> 67\u001b[0;31m       \u001b[0;32mraise\u001b[0m \u001b[0me\u001b[0m\u001b[0;34m.\u001b[0m\u001b[0mwith_traceback\u001b[0m\u001b[0;34m(\u001b[0m\u001b[0mfiltered_tb\u001b[0m\u001b[0;34m)\u001b[0m \u001b[0;32mfrom\u001b[0m \u001b[0;32mNone\u001b[0m\u001b[0;34m\u001b[0m\u001b[0;34m\u001b[0m\u001b[0m\n\u001b[0m\u001b[1;32m     68\u001b[0m     \u001b[0;32mfinally\u001b[0m\u001b[0;34m:\u001b[0m\u001b[0;34m\u001b[0m\u001b[0;34m\u001b[0m\u001b[0m\n\u001b[1;32m     69\u001b[0m       \u001b[0;32mdel\u001b[0m \u001b[0mfiltered_tb\u001b[0m\u001b[0;34m\u001b[0m\u001b[0;34m\u001b[0m\u001b[0m\n",
      "\u001b[0;32m~/anaconda3/lib/python3.9/site-packages/keras/utils/generic_utils.py\u001b[0m in \u001b[0;36mclass_and_config_for_serialized_keras_object\u001b[0;34m(config, module_objects, custom_objects, printable_module_name)\u001b[0m\n\u001b[1;32m    560\u001b[0m   \u001b[0mcls\u001b[0m \u001b[0;34m=\u001b[0m \u001b[0mget_registered_object\u001b[0m\u001b[0;34m(\u001b[0m\u001b[0mclass_name\u001b[0m\u001b[0;34m,\u001b[0m \u001b[0mcustom_objects\u001b[0m\u001b[0;34m,\u001b[0m \u001b[0mmodule_objects\u001b[0m\u001b[0;34m)\u001b[0m\u001b[0;34m\u001b[0m\u001b[0;34m\u001b[0m\u001b[0m\n\u001b[1;32m    561\u001b[0m   \u001b[0;32mif\u001b[0m \u001b[0mcls\u001b[0m \u001b[0;32mis\u001b[0m \u001b[0;32mNone\u001b[0m\u001b[0;34m:\u001b[0m\u001b[0;34m\u001b[0m\u001b[0;34m\u001b[0m\u001b[0m\n\u001b[0;32m--> 562\u001b[0;31m     raise ValueError(\n\u001b[0m\u001b[1;32m    563\u001b[0m         \u001b[0;34mf'Unknown {printable_module_name}: {class_name}. Please ensure this '\u001b[0m\u001b[0;34m\u001b[0m\u001b[0;34m\u001b[0m\u001b[0m\n\u001b[1;32m    564\u001b[0m         \u001b[0;34m'object is passed to the `custom_objects` argument. See '\u001b[0m\u001b[0;34m\u001b[0m\u001b[0;34m\u001b[0m\u001b[0m\n",
      "\u001b[0;31mValueError\u001b[0m: Unknown optimizer: DPOptimizerClass. Please ensure this object is passed to the `custom_objects` argument. See https://www.tensorflow.org/guide/keras/save_and_serialize#registering_the_custom_object for details."
     ]
    }
   ],
   "source": [
    "import h5py\n",
    "importlib.reload(safemodel.safemodel)\n",
    "importlib.reload(safemodel.classifiers.safekeras)\n",
    "from safemodel.classifiers.safekeras import Safe_KerasModel\n",
    "\n",
    "# change another model params in an  unsafe way but tells preliminary_check() not to overwrite params\n",
    "print(\"\\n***Test 8: researcher changes string and numeric params unsafely\")\n",
    "safeKerasModel8 = Safe_KerasModel(inputs= input_data, outputs=output,name=\"safekerasmodel6-test\", optimizer=\"Adam\")\n",
    "safeKerasModel8.compile(loss=loss)\n",
    "safeKerasModel8.fit(Xt_member, \n",
    "                    yt_member, \n",
    "                    validation_data=(Xt_nonmember, yt_nonmember),\n",
    "                    epochs=epochs, \n",
    "                    batch_size=batch_size)\n",
    "safeKerasModel8.save(\"unsafe8.pkl\")\n",
    "f = tf.keras.models.load_model('unsafe8.pkl')\n",
    "print (f.__dict__)\n",
    "\n"
   ]
  },
  {
   "cell_type": "code",
   "execution_count": null,
   "metadata": {},
   "outputs": [],
   "source": []
  },
  {
   "cell_type": "code",
   "execution_count": null,
   "metadata": {},
   "outputs": [],
   "source": []
  },
  {
   "cell_type": "code",
   "execution_count": null,
   "metadata": {},
   "outputs": [],
   "source": []
  },
  {
   "cell_type": "code",
   "execution_count": null,
   "metadata": {},
   "outputs": [],
   "source": []
  }
 ],
 "metadata": {
  "kernelspec": {
   "display_name": "Python 3 (ipykernel)",
   "language": "python",
   "name": "python3"
  },
  "language_info": {
   "codemirror_mode": {
    "name": "ipython",
    "version": 3
   },
   "file_extension": ".py",
   "mimetype": "text/x-python",
   "name": "python",
   "nbconvert_exporter": "python",
   "pygments_lexer": "ipython3",
   "version": "3.9.7"
  }
 },
 "nbformat": 4,
 "nbformat_minor": 4
}
