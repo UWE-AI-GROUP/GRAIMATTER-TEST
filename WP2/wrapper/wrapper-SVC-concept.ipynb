{
 "cells": [
  {
   "cell_type": "markdown",
   "id": "fd48b7ec",
   "metadata": {},
   "source": [
    "# DPSVC example script\n",
    "Shows how to run the code and plots comparitive predictive probabilities between\n",
    "- sklearn SVC and sklearn SVC with precomputed kernel\n",
    "- sklearn SVC with approximate kernel\n",
    "- sklearn SVC with DP\n"
   ]
  },
  {
   "cell_type": "code",
   "execution_count": 1,
   "id": "60516f67",
   "metadata": {},
   "outputs": [
    {
     "name": "stdout",
     "output_type": "stream",
     "text": [
      "/home/andy/GRAIMatter\n"
     ]
    }
   ],
   "source": [
    "import os\n",
    "import sys\n",
    "import pylab as plt\n",
    "import numpy as np\n",
    "import logging\n",
    "from sklearn.svm import SVC\n",
    "from sklearn.linear_model import LogisticRegression\n",
    "ROOT_DIR = os.path.dirname(os.path.dirname(os.path.abspath(\"\")))\n",
    "sys.path.append(ROOT_DIR)\n",
    "print(ROOT_DIR)\n",
    "logging.basicConfig()\n",
    "logger = logging.getLogger(\"wrapper_svm\")\n",
    "logger.setLevel(logging.INFO)\n",
    "#ROOT_PROJECT_FOLDER = os.path.dirname(os.path.dirname(__file__))\n",
    "#sys.path.append(ROOT_PROJECT_FOLDER)\n",
    "from safe_model.SafeModel import SafeSVC"
   ]
  },
  {
   "cell_type": "markdown",
   "id": "f53c43c2",
   "metadata": {},
   "source": [
    "# Generate data"
   ]
  },
  {
   "cell_type": "code",
   "execution_count": 2,
   "id": "6c5cf31c",
   "metadata": {},
   "outputs": [],
   "source": [
    "def logistic(x):\n",
    "    '''Logistic function'''\n",
    "    return 1. / (1. + np.exp(-x))\n",
    "\n",
    "# %% Generate data\n",
    "\n",
    "n_data = 100 # number of samples\n",
    "n_features = 3 # number of features\n",
    "\n",
    "\n",
    "# X,y are training data; X1, y1 are test data\n",
    "coef = np.random.normal(0, 1, n_features)\n",
    "X = np.random.normal(0, 1, (n_data, n_features))\n",
    "X1 = np.random.normal(0, 1, (n_data, n_features))\n",
    "y = np.random.binomial(1, logistic(np.matmul(X, coef)), n_data).flatten()\n",
    "y1 = np.random.binomial(1, logistic(np.matmul(X1, coef)), n_data).flatten()\n",
    "\n",
    "\n",
    "\n",
    "# %% Set parameters\n",
    "\n",
    "gamma = 0.1   # Kernel width\n",
    "C = 1        # Penalty term\n",
    "dhat = 5  # Dimension of approximator\n",
    "eps = 500     # DP level (not very private)"
   ]
  },
  {
   "cell_type": "code",
   "execution_count": 3,
   "id": "fc73444b",
   "metadata": {},
   "outputs": [],
   "source": [
    "# Kernel for approximator: equivalent to rbf.\n",
    "def rbf(x, y, gamma=1):\n",
    "    return np.exp(-gamma * np.sum((x - y)**2))\n",
    "\n",
    "def rbf_svm(x, y, gamma=1):\n",
    "    r = np.zeros((x.shape[0], y.shape[0]))\n",
    "    for i in range(x.shape[0]):\n",
    "        for j in range(y.shape[0]):\n",
    "            r[i, j] = rbf(x[i,:], y[j,:], gamma)\n",
    "    return r\n"
   ]
  },
  {
   "cell_type": "code",
   "execution_count": 4,
   "id": "0b0c7ef4",
   "metadata": {},
   "outputs": [],
   "source": [
    "# %% Basic SVM fitted using RBF\n",
    "clf0 = SVC(probability=True, kernel='rbf', gamma=gamma, C=C)\n",
    "clf0.fit(X, y)\n",
    "c0=clf0.predict(X1)\n",
    "p0=clf0.predict_proba(X1)"
   ]
  },
  {
   "cell_type": "code",
   "execution_count": 5,
   "id": "31b70610",
   "metadata": {},
   "outputs": [],
   "source": [
    "# %% SVM fitted using approximate finite-dimensional RBF kernel\n",
    "clf1 = SVC(probability=True,kernel=\"precomputed\", C=C)\n",
    "gram_matrix = rbf_svm(X, X, gamma=gamma)\n",
    "clf1.fit(gram_matrix, y)\n",
    "test_gram = rbf_svm(X1, X, gamma=gamma)\n",
    "c1=clf1.predict(test_gram)\n",
    "p1=clf1.predict_proba(test_gram)\n"
   ]
  },
  {
   "cell_type": "code",
   "execution_count": null,
   "id": "b0ac8d40",
   "metadata": {},
   "outputs": [],
   "source": []
  },
  {
   "cell_type": "code",
   "execution_count": 6,
   "id": "130c8486",
   "metadata": {},
   "outputs": [],
   "source": [
    "# %% DP version with no DP level (predicted labels equivalent to clf1;\n",
    "# predicted probabilities will not be)\n",
    "clf2 = SafeSVC(eps=-1, dhat=dhat, gamma=gamma)\n",
    "clf2.fit(X, y)\n",
    "c2=clf2.predict(X1)\n",
    "p2=clf2.predict_proba(X1)\n",
    "\n"
   ]
  },
  {
   "cell_type": "code",
   "execution_count": 7,
   "id": "4671b734",
   "metadata": {},
   "outputs": [],
   "source": [
    "# %% DP version with DP level (approximate)\n",
    "clf3 = SafeSVC(eps=eps, dhat=dhat, C=C, gamma=gamma)\n",
    "clf3.fit(X, y)\n",
    "c3=clf3.predict(X1)\n",
    "p3=clf3.predict_proba(X1)"
   ]
  },
  {
   "cell_type": "code",
   "execution_count": 8,
   "id": "ca952bfa",
   "metadata": {},
   "outputs": [
    {
     "name": "stderr",
     "output_type": "stream",
     "text": [
      "INFO:wrapper_svm:1 1 0 1\n",
      "INFO:wrapper_svm:0 0 1 0\n",
      "INFO:wrapper_svm:0 0 0 0\n",
      "INFO:wrapper_svm:1 1 1 0\n",
      "INFO:wrapper_svm:1 1 1 1\n",
      "INFO:wrapper_svm:0 0 1 1\n",
      "INFO:wrapper_svm:1 1 1 0\n",
      "INFO:wrapper_svm:1 1 0 1\n",
      "INFO:wrapper_svm:1 1 0 0\n",
      "INFO:wrapper_svm:1 1 0 0\n",
      "INFO:wrapper_svm:1 1 0 0\n",
      "INFO:wrapper_svm:0 0 1 0\n",
      "INFO:wrapper_svm:0 0 1 1\n",
      "INFO:wrapper_svm:1 1 0 0\n",
      "INFO:wrapper_svm:1 1 0 0\n",
      "INFO:wrapper_svm:0 0 0 0\n",
      "INFO:wrapper_svm:1 1 0 1\n",
      "INFO:wrapper_svm:1 1 0 0\n",
      "INFO:wrapper_svm:1 1 1 1\n",
      "INFO:wrapper_svm:0 0 0 0\n",
      "INFO:wrapper_svm:0 0 0 0\n",
      "INFO:wrapper_svm:0 0 1 0\n",
      "INFO:wrapper_svm:0 0 1 0\n",
      "INFO:wrapper_svm:0 0 0 0\n",
      "INFO:wrapper_svm:0 0 1 0\n",
      "INFO:wrapper_svm:0 0 1 0\n",
      "INFO:wrapper_svm:1 1 0 1\n",
      "INFO:wrapper_svm:1 1 0 1\n",
      "INFO:wrapper_svm:1 1 1 1\n",
      "INFO:wrapper_svm:1 1 0 1\n",
      "INFO:wrapper_svm:0 0 1 0\n",
      "INFO:wrapper_svm:1 1 1 1\n",
      "INFO:wrapper_svm:1 1 0 1\n",
      "INFO:wrapper_svm:0 0 1 1\n",
      "INFO:wrapper_svm:1 1 1 1\n",
      "INFO:wrapper_svm:1 1 1 1\n",
      "INFO:wrapper_svm:1 1 1 0\n",
      "INFO:wrapper_svm:1 1 0 1\n",
      "INFO:wrapper_svm:0 0 1 0\n",
      "INFO:wrapper_svm:0 0 0 0\n",
      "INFO:wrapper_svm:1 1 0 1\n",
      "INFO:wrapper_svm:1 1 0 0\n",
      "INFO:wrapper_svm:1 1 1 0\n",
      "INFO:wrapper_svm:1 1 0 1\n",
      "INFO:wrapper_svm:1 1 0 0\n",
      "INFO:wrapper_svm:1 1 0 1\n",
      "INFO:wrapper_svm:1 1 1 1\n",
      "INFO:wrapper_svm:1 1 0 0\n",
      "INFO:wrapper_svm:1 1 1 0\n",
      "INFO:wrapper_svm:1 1 0 1\n",
      "INFO:wrapper_svm:1 1 0 0\n",
      "INFO:wrapper_svm:1 1 1 1\n",
      "INFO:wrapper_svm:1 1 1 1\n",
      "INFO:wrapper_svm:1 1 1 1\n",
      "INFO:wrapper_svm:1 1 1 1\n",
      "INFO:wrapper_svm:0 0 1 0\n",
      "INFO:wrapper_svm:1 1 1 1\n",
      "INFO:wrapper_svm:1 1 1 1\n",
      "INFO:wrapper_svm:1 1 0 1\n",
      "INFO:wrapper_svm:1 1 0 1\n",
      "INFO:wrapper_svm:1 1 0 1\n",
      "INFO:wrapper_svm:0 0 1 0\n",
      "INFO:wrapper_svm:0 0 1 0\n",
      "INFO:wrapper_svm:0 0 1 0\n",
      "INFO:wrapper_svm:0 0 1 1\n",
      "INFO:wrapper_svm:1 1 1 1\n",
      "INFO:wrapper_svm:1 1 0 1\n",
      "INFO:wrapper_svm:1 1 1 1\n",
      "INFO:wrapper_svm:1 1 0 1\n",
      "INFO:wrapper_svm:1 1 0 1\n",
      "INFO:wrapper_svm:1 1 0 0\n",
      "INFO:wrapper_svm:1 1 0 1\n",
      "INFO:wrapper_svm:0 0 1 0\n",
      "INFO:wrapper_svm:1 1 0 1\n",
      "INFO:wrapper_svm:0 0 1 0\n",
      "INFO:wrapper_svm:1 1 0 1\n",
      "INFO:wrapper_svm:1 1 1 1\n",
      "INFO:wrapper_svm:1 1 0 0\n",
      "INFO:wrapper_svm:1 1 0 1\n",
      "INFO:wrapper_svm:1 1 0 1\n",
      "INFO:wrapper_svm:1 1 1 1\n",
      "INFO:wrapper_svm:1 1 1 0\n",
      "INFO:wrapper_svm:1 1 1 1\n",
      "INFO:wrapper_svm:1 1 0 1\n",
      "INFO:wrapper_svm:1 1 1 0\n",
      "INFO:wrapper_svm:1 1 0 0\n",
      "INFO:wrapper_svm:1 1 0 0\n",
      "INFO:wrapper_svm:0 0 1 1\n",
      "INFO:wrapper_svm:1 1 0 1\n",
      "INFO:wrapper_svm:0 0 1 1\n",
      "INFO:wrapper_svm:0 0 1 0\n",
      "INFO:wrapper_svm:0 0 0 0\n",
      "INFO:wrapper_svm:0 0 1 0\n",
      "INFO:wrapper_svm:1 1 0 0\n",
      "INFO:wrapper_svm:0 0 1 1\n",
      "INFO:wrapper_svm:1 1 1 1\n",
      "INFO:wrapper_svm:1 1 0 0\n",
      "INFO:wrapper_svm:1 1 1 1\n",
      "INFO:wrapper_svm:1 1 0 0\n",
      "INFO:wrapper_svm:1 1 0 1\n"
     ]
    }
   ],
   "source": [
    "# %% Print predictions\n",
    "# First two columns should match exactly, third should be similar and fourth \n",
    "# will vary depending on eps, N and C\n",
    "pred_zip = zip(c0, c1, c2, c3)\n",
    "for a, b, c, d in pred_zip:\n",
    "    logger.info('%s %s %s %s', a, b, c, d)\n",
    "    #print(a, b,c, d)"
   ]
  },
  {
   "cell_type": "code",
   "execution_count": 9,
   "id": "796aef24",
   "metadata": {},
   "outputs": [
    {
     "data": {
      "text/plain": [
       "[<matplotlib.lines.Line2D at 0x7f77f3996760>,\n",
       " <matplotlib.lines.Line2D at 0x7f77f39966d0>]"
      ]
     },
     "execution_count": 9,
     "metadata": {},
     "output_type": "execute_result"
    },
    {
     "data": {
      "image/png": "[encoded data removed]",
      "text/plain": [
       "<Figure size 1440x1008 with 1 Axes>"
      ]
     },
     "metadata": {
      "needs_background": "light"
     },
     "output_type": "display_data"
    }
   ],
   "source": [
    "# %% plot p0 vs p1: finite-dimensional approximator works OK\n",
    "plt.figure(figsize=(20, 14))\n",
    "plt.subplot(1, 3, 1)\n",
    "plt.style.use('seaborn-whitegrid')\n",
    "plt.plot(p0, p1, 'o', color='black')"
   ]
  },
  {
   "cell_type": "code",
   "execution_count": 10,
   "id": "9c4119f8",
   "metadata": {},
   "outputs": [
    {
     "data": {
      "text/plain": [
       "[<matplotlib.lines.Line2D at 0x7f77f388f9a0>,\n",
       " <matplotlib.lines.Line2D at 0x7f77f388fa60>]"
      ]
     },
     "execution_count": 10,
     "metadata": {},
     "output_type": "execute_result"
    },
    {
     "data": {
      "image/png": "[encoded data removed]",
      "text/plain": [
       "<Figure size 432x288 with 1 Axes>"
      ]
     },
     "metadata": {},
     "output_type": "display_data"
    }
   ],
   "source": [
    "# Plot p1 vs p2: logistic-regression based predict_proba is roughly equivalent to Platt\n",
    "# scaling, at least here\n",
    "plt.subplot(1, 3, 2)\n",
    "plt.style.use('seaborn-whitegrid')\n",
    "plt.plot(p1, p2, 'o', color='black')"
   ]
  },
  {
   "cell_type": "code",
   "execution_count": 11,
   "id": "6ae07cea",
   "metadata": {},
   "outputs": [
    {
     "data": {
      "text/plain": [
       "[<matplotlib.lines.Line2D at 0x7f77f2033be0>,\n",
       " <matplotlib.lines.Line2D at 0x7f77f2033ca0>]"
      ]
     },
     "execution_count": 11,
     "metadata": {},
     "output_type": "execute_result"
    },
    {
     "data": {
      "image/png": "[encoded data removed]",
      "text/plain": [
       "<Figure size 432x288 with 1 Axes>"
      ]
     },
     "metadata": {},
     "output_type": "display_data"
    }
   ],
   "source": [
    "# Plot p2 vs p3: enforcing differential privacy means we don't match very well.\n",
    "# Set higher DP level,\n",
    "# higher N, or lower C to match better.\n",
    "plt.subplot(1, 3, 3)\n",
    "plt.style.use('seaborn-whitegrid')\n",
    "plt.plot(p2, p3, 'o', color='black')"
   ]
  },
  {
   "cell_type": "code",
   "execution_count": 12,
   "id": "c6c928af",
   "metadata": {},
   "outputs": [
    {
     "name": "stderr",
     "output_type": "stream",
     "text": [
      "INFO:SafeModel:Saving...\n",
      "INFO:SafeModel:SVC with parameters: {'model_type': 'SVC', 'model': None, 'saved_model': {'model_type': 'SVC', 'model': None, 'saved_model': None, 'model_save_file': 'None', 'ignore_items': ['model_save_file', 'ignore_items', 'train_features', 'train_labels', 'unique_labels', 'train_labels', 'weights', 'noisy_weights'], 'examine_seperately_items': [], 'filename': 'None', 'researcher': 'andy', 'svc': SVC(kernel='precomputed'), 'gamma': 0.34234666489744603, 'dpsvc_gamma': 1.2085147391806337, 'dhat': 1000, 'eps': 10, 'C': 1.0, 'lambdaval': 17.88854381999832, 'rho': array([[-0.71744201, -0.10047126, -0.1325185 ],\n",
      "       [ 1.03268008, -0.73801543,  1.32799108],\n",
      "       [-0.819215  , -0.87934628, -0.87669945],\n",
      "       ...,\n",
      "       [-1.1542299 ,  0.05161931,  0.69304402],\n",
      "       [ 1.34987054,  0.33198109, -0.25168489],\n",
      "       [-0.04809143,  1.08012831,  0.37942093]]), 'support': None, 'platt_transform': LogisticRegression(), 'b': None, 'classes_': [0, 1], 'intercept': array([0.35684005]), 'noisy_weights': array([-44.99773979,  39.99293661,  -2.58665107, ..., -16.57463153,\n",
      "         1.5875229 ,  13.6269771 ])}, 'model_save_file': 'None', 'ignore_items': ['model_save_file', 'ignore_items', 'train_features', 'train_labels', 'unique_labels', 'train_labels', 'weights', 'noisy_weights'], 'examine_seperately_items': [], 'filename': 'None', 'researcher': 'andy', 'svc': SVC(kernel='precomputed'), 'gamma': 0.34234666489744603, 'dpsvc_gamma': 1.2085147391806337, 'dhat': 1000, 'eps': 10, 'C': 1.0, 'lambdaval': 17.88854381999832, 'rho': array([[-0.71744201, -0.10047126, -0.1325185 ],\n",
      "       [ 1.03268008, -0.73801543,  1.32799108],\n",
      "       [-0.819215  , -0.87934628, -0.87669945],\n",
      "       ...,\n",
      "       [-1.1542299 ,  0.05161931,  0.69304402],\n",
      "       [ 1.34987054,  0.33198109, -0.25168489],\n",
      "       [-0.04809143,  1.08012831,  0.37942093]]), 'support': None, 'platt_transform': LogisticRegression(), 'b': None, 'classes_': [0, 1], 'intercept': array([0.35684005]), 'noisy_weights': array([-44.99773979,  39.99293661,  -2.58665107, ..., -16.57463153,\n",
      "         1.5875229 ,  13.6269771 ])}\n",
      "INFO:SafeModel:Saving...\n",
      "INFO:SafeModel:SVC with parameters: {'model_type': 'SVC', 'model': None, 'saved_model': {'model_type': 'SVC', 'model': None, 'saved_model': None, 'model_save_file': 'None', 'ignore_items': ['model_save_file', 'ignore_items', 'train_features', 'train_labels', 'unique_labels', 'train_labels', 'weights', 'noisy_weights'], 'examine_seperately_items': [], 'filename': 'None', 'researcher': 'andy', 'svc': SVC(kernel='precomputed'), 'gamma': 0.34234666489744603, 'dpsvc_gamma': 1.2085147391806337, 'dhat': 1000, 'eps': 10, 'C': 1.0, 'lambdaval': 17.88854381999832, 'rho': array([[-0.71744201, -0.10047126, -0.1325185 ],\n",
      "       [ 1.03268008, -0.73801543,  1.32799108],\n",
      "       [-0.819215  , -0.87934628, -0.87669945],\n",
      "       ...,\n",
      "       [-1.1542299 ,  0.05161931,  0.69304402],\n",
      "       [ 1.34987054,  0.33198109, -0.25168489],\n",
      "       [-0.04809143,  1.08012831,  0.37942093]]), 'support': None, 'platt_transform': LogisticRegression(), 'b': None, 'classes_': [0, 1], 'intercept': array([0.35684005]), 'noisy_weights': array([-44.99773979,  39.99293661,  -2.58665107, ..., -16.57463153,\n",
      "         1.5875229 ,  13.6269771 ])}, 'model_save_file': 'testSaveSVC.pkl', 'ignore_items': ['model_save_file', 'ignore_items', 'train_features', 'train_labels', 'unique_labels', 'train_labels', 'weights', 'noisy_weights'], 'examine_seperately_items': [], 'filename': 'None', 'researcher': 'andy', 'svc': SVC(kernel='precomputed'), 'gamma': 0.34234666489744603, 'dpsvc_gamma': 1.2085147391806337, 'dhat': 1000, 'eps': 10, 'C': 1.0, 'lambdaval': 17.88854381999832, 'rho': array([[-0.71744201, -0.10047126, -0.1325185 ],\n",
      "       [ 1.03268008, -0.73801543,  1.32799108],\n",
      "       [-0.819215  , -0.87934628, -0.87669945],\n",
      "       ...,\n",
      "       [-1.1542299 ,  0.05161931,  0.69304402],\n",
      "       [ 1.34987054,  0.33198109, -0.25168489],\n",
      "       [-0.04809143,  1.08012831,  0.37942093]]), 'support': None, 'platt_transform': LogisticRegression(), 'b': None, 'classes_': [0, 1], 'intercept': array([0.35684005]), 'noisy_weights': array([-44.99773979,  39.99293661,  -2.58665107, ..., -16.57463153,\n",
      "         1.5875229 ,  13.6269771 ])}\n",
      "INFO:SafeModel:{'model_type': 'SVC', 'model': None, 'saved_model': {'model_type': 'SVC', 'model': None, 'saved_model': None, 'model_save_file': 'None', 'ignore_items': ['model_save_file', 'ignore_items', 'train_features', 'train_labels', 'unique_labels', 'train_labels', 'weights', 'noisy_weights'], 'examine_seperately_items': [], 'filename': 'None', 'researcher': 'andy', 'svc': SVC(kernel='precomputed'), 'gamma': 0.34234666489744603, 'dpsvc_gamma': 1.2085147391806337, 'dhat': 1000, 'eps': 10, 'C': 1.0, 'lambdaval': 17.88854381999832, 'rho': array([[-0.71744201, -0.10047126, -0.1325185 ],\n",
      "       [ 1.03268008, -0.73801543,  1.32799108],\n",
      "       [-0.819215  , -0.87934628, -0.87669945],\n",
      "       ...,\n",
      "       [-1.1542299 ,  0.05161931,  0.69304402],\n",
      "       [ 1.34987054,  0.33198109, -0.25168489],\n",
      "       [-0.04809143,  1.08012831,  0.37942093]]), 'support': None, 'platt_transform': LogisticRegression(), 'b': None, 'classes_': [0, 1], 'intercept': array([0.35684005]), 'noisy_weights': array([-44.99773979,  39.99293661,  -2.58665107, ..., -16.57463153,\n",
      "         1.5875229 ,  13.6269771 ])}, 'model_save_file': 'testSaveSVC.pkl', 'ignore_items': ['model_save_file', 'ignore_items', 'train_features', 'train_labels', 'unique_labels', 'train_labels', 'weights', 'noisy_weights'], 'examine_seperately_items': [], 'filename': 'None', 'researcher': 'andy', 'svc': SVC(kernel='precomputed'), 'gamma': 0.34234666489744603, 'dpsvc_gamma': 1.2085147391806337, 'dhat': 1000, 'eps': 10, 'C': 1.0, 'lambdaval': 17.88854381999832, 'rho': array([[-0.71744201, -0.10047126, -0.1325185 ],\n",
      "       [ 1.03268008, -0.73801543,  1.32799108],\n",
      "       [-0.819215  , -0.87934628, -0.87669945],\n",
      "       ...,\n",
      "       [-1.1542299 ,  0.05161931,  0.69304402],\n",
      "       [ 1.34987054,  0.33198109, -0.25168489],\n",
      "       [-0.04809143,  1.08012831,  0.37942093]]), 'support': None, 'platt_transform': LogisticRegression(), 'b': None, 'classes_': [0, 1], 'intercept': array([0.35684005]), 'noisy_weights': array([-44.99773979,  39.99293661,  -2.58665107, ..., -16.57463153,\n",
      "         1.5875229 ,  13.6269771 ])}\n"
     ]
    },
    {
     "name": "stdout",
     "output_type": "stream",
     "text": [
      "['__init__.py', 'SafeModel.py', '__pycache__', 'readme.md', 'rules.json']\n",
      "Model parameters are within recommended ranges.\n",
      "\n"
     ]
    }
   ],
   "source": [
    "clf2.save(name=\"testSaveSVC.pkl\")\n",
    "print(os.listdir(ROOT_DIR + \"/safe_model/\"))\n",
    "clf2.preliminary_check()\n",
    "clf2.request_release(\"testSaveSVC.pkl\")"
   ]
  },
  {
   "cell_type": "code",
   "execution_count": 13,
   "id": "76f8d2d7",
   "metadata": {},
   "outputs": [
    {
     "name": "stderr",
     "output_type": "stream",
     "text": [
      "INFO:SafeModel:Saving...\n",
      "INFO:SafeModel:SVC with parameters: {'model_type': 'SVC', 'model': None, 'saved_model': {'model_type': 'SVC', 'model': None, 'saved_model': None, 'model_save_file': 'None', 'ignore_items': ['model_save_file', 'ignore_items', 'train_features', 'train_labels', 'unique_labels', 'train_labels', 'weights', 'noisy_weights'], 'examine_seperately_items': [], 'filename': 'None', 'researcher': 'andy', 'svc': SVC(kernel='precomputed'), 'gamma': 0.05, 'dpsvc_gamma': 3.162277660168379, 'dhat': 1000, 'eps': 10, 'C': 1.0, 'lambdaval': 17.88854381999832, 'rho': array([[ 0.2348944 ,  0.81248757, -0.38525001],\n",
      "       [-0.20262369,  0.18929349, -0.03787747],\n",
      "       [ 0.54312294, -0.44859682, -0.21145771],\n",
      "       ...,\n",
      "       [-0.24227411, -0.28595289,  0.0415322 ],\n",
      "       [ 0.24909034, -0.10398947, -0.38995658],\n",
      "       [ 0.33985381,  0.08626258,  0.04149605]]), 'support': None, 'platt_transform': LogisticRegression(), 'b': None, 'classes_': [0, 1], 'intercept': array([-0.76730121]), 'noisy_weights': array([ 43.91897721,   9.08927473, -22.04687132, ...,  -1.82705433,\n",
      "       -11.44319849,   0.08446791])}, 'model_save_file': 'None', 'ignore_items': ['model_save_file', 'ignore_items', 'train_features', 'train_labels', 'unique_labels', 'train_labels', 'weights', 'noisy_weights'], 'examine_seperately_items': [], 'filename': 'None', 'researcher': 'andy', 'svc': SVC(kernel='precomputed'), 'gamma': 0.05, 'dpsvc_gamma': 3.162277660168379, 'dhat': 1000, 'eps': 10, 'C': 1.0, 'lambdaval': 17.88854381999832, 'rho': array([[ 0.2348944 ,  0.81248757, -0.38525001],\n",
      "       [-0.20262369,  0.18929349, -0.03787747],\n",
      "       [ 0.54312294, -0.44859682, -0.21145771],\n",
      "       ...,\n",
      "       [-0.24227411, -0.28595289,  0.0415322 ],\n",
      "       [ 0.24909034, -0.10398947, -0.38995658],\n",
      "       [ 0.33985381,  0.08626258,  0.04149605]]), 'support': None, 'platt_transform': LogisticRegression(), 'b': None, 'classes_': [0, 1], 'intercept': array([-0.76730121]), 'noisy_weights': array([ 43.91897721,   9.08927473, -22.04687132, ...,  -1.82705433,\n",
      "       -11.44319849,   0.08446791])}\n"
     ]
    }
   ],
   "source": [
    "# X,y are training data; X1, y1 are test data\n",
    "coef = np.random.normal(0, 1, n_features)\n",
    "X = np.array([[1, 2, 3],[ 4, 5, 6] ,[7, 8, 9]])\n",
    "X1 =np.array([[7, 8, 9], [4, 5, 6]])\n",
    "y = np.array([0,1,0])\n",
    "\n",
    "\n",
    "# %% Set parameters\n",
    "\n",
    "gamma = 0.1   # Kernel width\n",
    "C = 1        # Penalty term\n",
    "dhat = 5  # Dimension of approximator\n",
    "eps = 500     # DP level (not very private)\n",
    "\n",
    "# %% DP version with DP level (approximate)\n",
    "\n",
    "clf3 = SafeSVC(eps=eps, dhat=dhat, C=C, gamma=gamma)\n",
    "clf3.fit(X, y)\n",
    "clf3.save(name=\"testSaveSVC.pkl\")\n",
    "\n"
   ]
  },
  {
   "cell_type": "code",
   "execution_count": null,
   "id": "7b1759cd",
   "metadata": {},
   "outputs": [],
   "source": []
  },
  {
   "cell_type": "code",
   "execution_count": null,
   "id": "569a3411",
   "metadata": {},
   "outputs": [],
   "source": []
  },
  {
   "cell_type": "code",
   "execution_count": null,
   "id": "fddee4cd",
   "metadata": {},
   "outputs": [],
   "source": []
  }
 ],
 "metadata": {
  "kernelspec": {
   "display_name": "Python 3 (ipykernel)",
   "language": "python",
   "name": "python3"
  },
  "language_info": {
   "codemirror_mode": {
    "name": "ipython",
    "version": 3
   },
   "file_extension": ".py",
   "mimetype": "text/x-python",
   "name": "python",
   "nbconvert_exporter": "python",
   "pygments_lexer": "ipython3",
   "version": "3.9.7"
  }
 },
 "nbformat": 4,
 "nbformat_minor": 5
}
