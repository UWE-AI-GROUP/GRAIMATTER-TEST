{
 "cells": [
  {
   "cell_type": "code",
   "execution_count": 1,
   "metadata": {},
   "outputs": [],
   "source": [
    "import sys\n",
    "import os\n",
    "\n",
    "ROOT_DIR = os.path.dirname(os.path.dirname(os.path.abspath(\"\")))\n",
    "sys.path.append(ROOT_DIR)"
   ]
  },
  {
   "cell_type": "code",
   "execution_count": 2,
   "metadata": {},
   "outputs": [
    {
     "name": "stderr",
     "output_type": "stream",
     "text": [
      "2022-06-13 03:35:29.261291: W tensorflow/stream_executor/platform/default/dso_loader.cc:64] Could not load dynamic library 'libcudart.so.11.0'; dlerror: libcudart.so.11.0: cannot open shared object file: No such file or directory\n",
      "2022-06-13 03:35:29.261418: I tensorflow/stream_executor/cuda/cudart_stub.cc:29] Ignore above cudart dlerror if you do not have a GPU set up on your machine.\n"
     ]
    }
   ],
   "source": [
    "import numpy as np\n",
    "import matplotlib.pyplot as plt\n",
    "\n",
    "%matplotlib inline\n",
    "\n",
    "# Scikit-learn utils\n",
    "from sklearn.model_selection import train_test_split\n",
    "from sklearn.datasets import make_classification, make_moons\n",
    "from sklearn.metrics import ConfusionMatrixDisplay\n",
    "from sklearn.metrics import confusion_matrix, classification_report, roc_curve, auc\n",
    "\n",
    "# Tensorflow imports\n",
    "import tensorflow as tf\n",
    "from tensorflow.keras.models import Model\n",
    "from tensorflow.keras.layers import Input, Dense, Dropout\n",
    "\n",
    "# Classifiers for attack models\n",
    "from sklearn.linear_model import LogisticRegression\n",
    "from sklearn.neural_network import MLPClassifier\n"
   ]
  },
  {
   "cell_type": "code",
   "execution_count": 3,
   "metadata": {},
   "outputs": [],
   "source": [
    "#import t=privachy version \n",
    "import tensorflow_privacy\n",
    "\n",
    "from tensorflow_privacy.privacy.analysis import compute_dp_sgd_privacy\n"
   ]
  },
  {
   "cell_type": "markdown",
   "metadata": {},
   "source": [
    "### Definition of the datasets\n",
    "1. We draw data points from a distribution.\n",
    "2. We split these data points into the target dataset and a shadow dataset drawn from the same distribution.\n",
    "3. We also draw a dataset from a different distribution.\n",
    "\n",
    "**NOTE**. ***I make datasets with few samples but with many features to force the target model to overfit.***\n",
    "\n",
    "\n",
    "***NOTE JIM: had to make batch_size 25 so DP optimizer would run with same hyperparams"
   ]
  },
  {
   "cell_type": "code",
   "execution_count": 4,
   "metadata": {},
   "outputs": [],
   "source": [
    "n_classes = 2\n",
    "\n",
    "# (X,y): Original distribution\n",
    "X, y = make_classification(n_samples=1000,\n",
    "                           n_classes=n_classes, \n",
    "                           n_features=300,\n",
    "                           n_informative=300,\n",
    "                           n_redundant=0,\n",
    "                           n_repeated=0,\n",
    "                           random_state=15\n",
    "                          )\n",
    "# One-hot encoding of the label\n",
    "y = np.eye(n_classes)[y]\n",
    "\n",
    "# (Xt, yt) is the target dataset, owned by the TRE and drawn from the (X,y) distribution\n",
    "# (Xs, ys) is a shadow dataset drawn from the (X,y) distribution\n",
    "Xt, Xs, yt, ys = train_test_split(X, y, test_size=0.50, random_state=15)\n",
    "\n",
    "# (Xd, yd) is a shadow dataset, drawn from a different distribution (different seed)\n",
    "Xd, yd = make_classification(n_samples=1000,\n",
    "                           n_classes=n_classes, \n",
    "                           n_features=300,\n",
    "                           n_informative=300,\n",
    "                           n_redundant=0,\n",
    "                           n_repeated=0,\n",
    "                           random_state=42\n",
    "                          )\n",
    "yd = np.eye(n_classes)[yd]\n",
    "\n",
    "\n"
   ]
  },
  {
   "cell_type": "code",
   "execution_count": 5,
   "metadata": {},
   "outputs": [],
   "source": [
    "# Split into train (member) and test (non-member) datasets\n",
    "# Set shuffle to False so that Xt_membership is consistent with Xt, otherwise\n",
    "# we need to stack Xt_member and Xt_nonmember again to get a consistent Xt.\n",
    "Xt_member, Xt_nonmember, yt_member, yt_nonmember = train_test_split(Xt, yt, test_size=0.5, shuffle=False)\n",
    "\n",
    "# Set membership status for future tests\n",
    "Xt_membership = np.vstack(\n",
    "    (\n",
    "        np.ones((Xt_member.shape[0], 1), np.uint8),\n",
    "        np.zeros((Xt_nonmember.shape[0], 1), np.uint8)\n",
    "    )\n",
    ").flatten()"
   ]
  },
  {
   "cell_type": "markdown",
   "metadata": {},
   "source": [
    "### Define the target model architecture\n",
    "\n",
    "*Again, I'm using a rather big model (for the classification task) to favour overfitting.*"
   ]
  },
  {
   "cell_type": "code",
   "execution_count": 6,
   "metadata": {},
   "outputs": [
    {
     "name": "stderr",
     "output_type": "stream",
     "text": [
      "2022-06-13 03:35:33.518175: W tensorflow/stream_executor/platform/default/dso_loader.cc:64] Could not load dynamic library 'libcuda.so.1'; dlerror: libcuda.so.1: cannot open shared object file: No such file or directory\n",
      "2022-06-13 03:35:33.518231: W tensorflow/stream_executor/cuda/cuda_driver.cc:269] failed call to cuInit: UNKNOWN ERROR (303)\n",
      "2022-06-13 03:35:33.518263: I tensorflow/stream_executor/cuda/cuda_diagnostics.cc:156] kernel driver does not appear to be running on this host (ubuntu): /proc/driver/nvidia/version does not exist\n",
      "2022-06-13 03:35:33.518672: I tensorflow/core/platform/cpu_feature_guard.cc:151] This TensorFlow binary is optimized with oneAPI Deep Neural Network Library (oneDNN) to use the following CPU instructions in performance-critical operations:  AVX2 FMA\n",
      "To enable them in other operations, rebuild TensorFlow with the appropriate compiler flags.\n"
     ]
    }
   ],
   "source": [
    "# Define target model\n",
    "# Tensorflow model (MLP) (making it big to make it overfit)\n",
    "\n",
    "input_data = Input(shape = Xt_member[0].shape)\n",
    "x = Dense(128, activation='relu')(input_data)\n",
    "x = Dense(128, activation='relu')(x)\n",
    "x = Dense(64, activation='relu')(x)\n",
    "output = Dense(2, activation='softmax')(x)"
   ]
  },
  {
   "cell_type": "markdown",
   "metadata": {},
   "source": [
    "## Now try the SafeKerasModel version"
   ]
  },
  {
   "cell_type": "code",
   "execution_count": 7,
   "metadata": {
    "scrolled": true
   },
   "outputs": [],
   "source": [
    "import importlib\n",
    "import safemodel\n",
    "from safemodel.classifiers.safekeras import Safe_KerasModel\n",
    "\n",
    "\n",
    "\n",
    "importlib.reload(safemodel.safemodel)\n",
    "importlib.reload(safemodel.classifiers.safekeras)\n",
    "from safemodel.classifiers.safekeras import Safe_KerasModel\n",
    "\n"
   ]
  },
  {
   "cell_type": "code",
   "execution_count": 8,
   "metadata": {},
   "outputs": [
    {
     "name": "stdout",
     "output_type": "stream",
     "text": [
      "WARNING: model parameters may present a disclosure risk:\n",
      "- parameter noise_multiplier = 0.5 identified as less than the recommended min value of 0.7.\n",
      "Changed parameter noise_multiplier = 0.7.\n",
      "\n"
     ]
    }
   ],
   "source": [
    "optimizer=None\n",
    "safeModel = Safe_KerasModel(inputs= input_data, outputs=output,name=\"safekeras-test\", num_samples=25, epochs=200)\n"
   ]
  },
  {
   "cell_type": "code",
   "execution_count": 9,
   "metadata": {},
   "outputs": [],
   "source": [
    "#safeModel.__dict__\n"
   ]
  },
  {
   "cell_type": "code",
   "execution_count": 10,
   "metadata": {},
   "outputs": [
    {
     "name": "stdout",
     "output_type": "stream",
     "text": [
      "Changed parameter optimizer = 'DPKerasSGDOptimizer'\n",
      "DP optimizer used = False\n",
      "optimizer has been changed but fit() has not been rerun.\n"
     ]
    }
   ],
   "source": [
    "loss = tf.keras.losses.CategoricalCrossentropy(\n",
    "    from_logits=False, reduction=tf.losses.Reduction.NONE)\n",
    "\n",
    "\n",
    "safeModel.compile(loss=loss)#optimizer='adam', loss='categorical_crossentropy', metrics=['accuracy'])\n",
    "\n",
    "\n"
   ]
  },
  {
   "cell_type": "code",
   "execution_count": 11,
   "metadata": {
    "scrolled": true
   },
   "outputs": [
    {
     "name": "stdout",
     "output_type": "stream",
     "text": [
      "optimiser is type <class 'tensorflow_privacy.privacy.optimizers.dp_optimizer_keras.make_keras_optimizer_class.<locals>.DPOptimizerClass'>\n",
      " It is True that the model will be DP because optimizer does  contain key _was_dp_gradients_called so should be DP.\n"
     ]
    }
   ],
   "source": [
    "theType= type(safeModel.optimizer)\n",
    "print(f'optimiser is type {theType}')\n",
    "\n",
    "dpused,reason = safeModel.check_optimizer_is_DP(safeModel.optimizer)\n",
    "print(f' It is {dpused} that the model will be DP because {reason}')"
   ]
  },
  {
   "cell_type": "code",
   "execution_count": 12,
   "metadata": {},
   "outputs": [
    {
     "name": "stdout",
     "output_type": "stream",
     "text": [
      "(250, 300)\n",
      "DP-SGD with sampling rate = 10% and noise_multiplier = 0.7 iterated over 200 steps satisfies differential privacy with eps = 23.1 and delta = 1e-05.\n",
      "The optimal RDP order is 2.0.\n",
      "Current epsilon is 23.09099569905857\n",
      "The requirements for DP are not met, current epsilon is: 23.09099569905857. To attain true DP the following parameters can be changed:  Num Samples = 250, batch_size = 25, epochs = 20\n",
      "This will not result in a Differentially Private model do you want to continue [Y/N]y\n",
      "Continuing\n",
      "Epoch 1/20\n",
      "10/10 [==============================] - 3s 55ms/step - loss: 2.1832 - accuracy: 0.5400 - val_loss: 2.0551 - val_accuracy: 0.5240\n",
      "Epoch 2/20\n",
      "10/10 [==============================] - 0s 41ms/step - loss: 1.6182 - accuracy: 0.6120 - val_loss: 2.0348 - val_accuracy: 0.5440\n",
      "Epoch 3/20\n",
      "10/10 [==============================] - 0s 49ms/step - loss: 1.4795 - accuracy: 0.6320 - val_loss: 2.1207 - val_accuracy: 0.5320\n",
      "Epoch 4/20\n",
      "10/10 [==============================] - 0s 36ms/step - loss: 1.2262 - accuracy: 0.6760 - val_loss: 2.0435 - val_accuracy: 0.5480\n",
      "Epoch 5/20\n",
      "10/10 [==============================] - 0s 41ms/step - loss: 1.1265 - accuracy: 0.6760 - val_loss: 2.1217 - val_accuracy: 0.5760\n",
      "Epoch 6/20\n",
      "10/10 [==============================] - 0s 38ms/step - loss: 1.0624 - accuracy: 0.7120 - val_loss: 2.1068 - val_accuracy: 0.5680\n",
      "Epoch 7/20\n",
      "10/10 [==============================] - 0s 38ms/step - loss: 0.9741 - accuracy: 0.7200 - val_loss: 2.1273 - val_accuracy: 0.5800\n",
      "Epoch 8/20\n",
      "10/10 [==============================] - 0s 39ms/step - loss: 0.8955 - accuracy: 0.7440 - val_loss: 2.1552 - val_accuracy: 0.5640\n",
      "Epoch 9/20\n",
      "10/10 [==============================] - 0s 38ms/step - loss: 0.8410 - accuracy: 0.7920 - val_loss: 2.2349 - val_accuracy: 0.5680\n",
      "Epoch 10/20\n",
      "10/10 [==============================] - 0s 40ms/step - loss: 0.7333 - accuracy: 0.7960 - val_loss: 2.2493 - val_accuracy: 0.5560\n",
      "Epoch 11/20\n",
      "10/10 [==============================] - 0s 35ms/step - loss: 0.6194 - accuracy: 0.8360 - val_loss: 2.3185 - val_accuracy: 0.5400\n",
      "Epoch 12/20\n",
      "10/10 [==============================] - 0s 31ms/step - loss: 0.6290 - accuracy: 0.8320 - val_loss: 2.3604 - val_accuracy: 0.5480\n",
      "Epoch 13/20\n",
      "10/10 [==============================] - 0s 34ms/step - loss: 0.5816 - accuracy: 0.8400 - val_loss: 2.4142 - val_accuracy: 0.5400\n",
      "Epoch 14/20\n",
      "10/10 [==============================] - 0s 35ms/step - loss: 0.5517 - accuracy: 0.8560 - val_loss: 2.5657 - val_accuracy: 0.5360\n",
      "Epoch 15/20\n",
      "10/10 [==============================] - 0s 33ms/step - loss: 0.5231 - accuracy: 0.8440 - val_loss: 2.6632 - val_accuracy: 0.5400\n",
      "Epoch 16/20\n",
      "10/10 [==============================] - 0s 37ms/step - loss: 0.5054 - accuracy: 0.8760 - val_loss: 2.8356 - val_accuracy: 0.5320\n",
      "Epoch 17/20\n",
      "10/10 [==============================] - 0s 34ms/step - loss: 0.5629 - accuracy: 0.8480 - val_loss: 2.6991 - val_accuracy: 0.5120\n",
      "Epoch 18/20\n",
      "10/10 [==============================] - 0s 35ms/step - loss: 0.4416 - accuracy: 0.8880 - val_loss: 2.7884 - val_accuracy: 0.5560\n",
      "Epoch 19/20\n",
      "10/10 [==============================] - 0s 34ms/step - loss: 0.4365 - accuracy: 0.8760 - val_loss: 2.8718 - val_accuracy: 0.5480\n",
      "Epoch 20/20\n",
      "10/10 [==============================] - 0s 31ms/step - loss: 0.4011 - accuracy: 0.9120 - val_loss: 2.9956 - val_accuracy: 0.5480\n"
     ]
    },
    {
     "data": {
      "image/png": "[encoded data removed]",
      "text/plain": [
       "<Figure size 432x288 with 1 Axes>"
      ]
     },
     "metadata": {
      "needs_background": "light"
     },
     "output_type": "display_data"
    }
   ],
   "source": [
    "epochs = 20\n",
    "batch_size = 25\n",
    "\n",
    "r_DP = safeModel.fit(Xt_member, \n",
    "              yt_member, \n",
    "              validation_data=(Xt_nonmember, yt_nonmember),\n",
    "              epochs=epochs, \n",
    "              batch_size=batch_size\n",
    ")  \n",
    "\n",
    "\n",
    "plt.plot(r_DP.history['accuracy'], label='accuracy')\n",
    "plt.plot(r_DP.history['val_accuracy'], label='validation accuracy')\n",
    "plt.legend()\n",
    "plt.show() \n"
   ]
  },
  {
   "cell_type": "code",
   "execution_count": 13,
   "metadata": {},
   "outputs": [
    {
     "name": "stdout",
     "output_type": "stream",
     "text": [
      "optimiser is type <class 'tensorflow_privacy.privacy.optimizers.dp_optimizer_keras.make_keras_optimizer_class.<locals>.DPOptimizerClass'>\n",
      " It is True that the model will be DP because  value of optimizer._was_dp_gradients_called is True so DP variant of optimizer has been run\n"
     ]
    }
   ],
   "source": [
    "theType= type(safeModel.optimizer)\n",
    "print(f'optimiser is type {theType}')\n",
    "\n",
    "dpused,reason = safeModel.check_DP_used(safeModel.optimizer)\n",
    "print(f' It is {dpused} that the model will be DP because {reason}')"
   ]
  },
  {
   "cell_type": "markdown",
   "metadata": {},
   "source": [
    "## compute privacy"
   ]
  },
  {
   "cell_type": "code",
   "execution_count": 14,
   "metadata": {},
   "outputs": [
    {
     "name": "stdout",
     "output_type": "stream",
     "text": [
      "dataset has 500 entries so batch size is 5.0%\n",
      "DP-SGD with sampling rate = 5% and noise_multiplier = 0.7 iterated over 500 steps satisfies differential privacy with eps = 18.4 and delta = 1e-05.\n",
      "The optimal RDP order is 2.0.\n",
      "with these settings privacy = (18.428440301602755, 2.0)\n"
     ]
    }
   ],
   "source": [
    "print(f'dataset has {Xt.shape[0]} entries so batch size is {100*safeModel.batch_size/Xt.shape[0]}%')\n",
    "privacy = compute_dp_sgd_privacy.compute_dp_sgd_privacy(n=Xt.shape[0],\n",
    "                                              batch_size=safeModel.batch_size,\n",
    "                                              noise_multiplier=safeModel.noise_multiplier,\n",
    "                                              epochs=25,#epochs,\n",
    "                                              delta=1e-5)\n",
    "print(f'with these settings privacy = {privacy}')"
   ]
  },
  {
   "cell_type": "code",
   "execution_count": 15,
   "metadata": {},
   "outputs": [
    {
     "name": "stderr",
     "output_type": "stream",
     "text": [
      "2022-06-13 03:37:28.093476: W tensorflow/python/util/util.cc:368] Sets are not currently considered sequences, but this may change in the future, so consider avoiding using them.\n"
     ]
    },
    {
     "name": "stdout",
     "output_type": "stream",
     "text": [
      "INFO:tensorflow:Assets written to: safekeras.sav/assets\n"
     ]
    }
   ],
   "source": [
    "safeModel.save('safekeras.sav')"
   ]
  },
  {
   "cell_type": "code",
   "execution_count": 16,
   "metadata": {},
   "outputs": [
    {
     "name": "stdout",
     "output_type": "stream",
     "text": [
      "Model parameters are within recommended ranges.\n",
      "\n"
     ]
    },
    {
     "data": {
      "text/plain": [
       "('Model parameters are within recommended ranges.\\n', False)"
      ]
     },
     "execution_count": 16,
     "metadata": {},
     "output_type": "execute_result"
    }
   ],
   "source": [
    "safeModel.preliminary_check()"
   ]
  },
  {
   "cell_type": "code",
   "execution_count": 17,
   "metadata": {},
   "outputs": [
    {
     "name": "stdout",
     "output_type": "stream",
     "text": [
      "thing associated with key _self_setattr_tracking has type <class 'bool'>\n",
      "thing associated with key _obj_reference_counts_dict has type <class 'keras.utils.object_identity.ObjectIdentityDictionary'>\n",
      "thing associated with key inputs has type <class 'list'>\n",
      "thing associated with key outputs has type <class 'list'>\n",
      "thing associated with key l2_norm_clip has type <class 'float'>\n",
      "thing associated with key min_epsilon has type <class 'int'>\n",
      "thing associated with key delta has type <class 'float'>\n",
      "thing associated with key batch_size has type <class 'int'>\n",
      "thing associated with key num_microbatches has type <class 'NoneType'>\n",
      "thing associated with key learning_rate has type <class 'float'>\n",
      "thing associated with key epochs has type <class 'int'>\n",
      "thing associated with key _is_model_for_instrumentation has type <class 'bool'>\n",
      "thing associated with key _instrumented_keras_api has type <class 'bool'>\n",
      "thing associated with key _instrumented_keras_layer_class has type <class 'bool'>\n",
      "thing associated with key _instrumented_keras_model_class has type <class 'bool'>\n",
      "thing associated with key _trainable has type <class 'bool'>\n",
      "thing associated with key _stateful has type <class 'bool'>\n",
      "thing associated with key built has type <class 'bool'>\n",
      "thing associated with key _input_spec has type <class 'NoneType'>\n",
      "thing associated with key _build_input_shape has type <class 'tensorflow.python.framework.tensor_shape.TensorShape'>\n",
      "thing associated with key _saved_model_inputs_spec has type <class 'tensorflow.python.framework.tensor_spec.TensorSpec'>\n",
      "thing associated with key _saved_model_arg_spec has type <class 'tuple'>\n",
      "thing associated with key _supports_masking has type <class 'bool'>\n",
      "thing associated with key _name has type <class 'str'>\n",
      "thing associated with key _activity_regularizer has type <class 'NoneType'>\n",
      "thing associated with key _trainable_weights has type <class 'list'>\n",
      "thing associated with key _non_trainable_weights has type <class 'list'>\n",
      "thing associated with key _updates has type <class 'list'>\n",
      "thing associated with key _thread_local has type <class '_thread._local'>\n",
      "thing associated with key _callable_losses has type <class 'list'>\n",
      "thing associated with key _losses has type <class 'list'>\n",
      "thing associated with key _metrics has type <class 'list'>\n",
      "thing associated with key _metrics_lock has type <class '_thread.lock'>\n",
      "thing associated with key _dtype_policy has type <class 'keras.mixed_precision.policy.Policy'>\n",
      "thing associated with key _compute_dtype_object has type <class 'tensorflow.python.framework.dtypes.DType'>\n",
      "thing associated with key _autocast has type <class 'bool'>\n",
      "thing associated with key _self_tracked_trackables has type <class 'list'>\n",
      "thing associated with key _inbound_nodes_value has type <class 'list'>\n",
      "thing associated with key _outbound_nodes_value has type <class 'list'>\n",
      "thing associated with key _expects_training_arg has type <class 'bool'>\n",
      "thing associated with key _default_training_arg has type <class 'NoneType'>\n",
      "thing associated with key _expects_mask_arg has type <class 'bool'>\n",
      "thing associated with key _dynamic has type <class 'bool'>\n",
      "thing associated with key _initial_weights has type <class 'NoneType'>\n",
      "thing associated with key _auto_track_sub_layers has type <class 'bool'>\n",
      "thing associated with key _preserve_input_structure_in_config has type <class 'bool'>\n",
      "thing associated with key _outer_name_scope has type <class 'str'>\n",
      "thing associated with key _is_graph_network has type <class 'bool'>\n",
      "thing associated with key input_names has type <class 'list'>\n",
      "thing associated with key output_names has type <class 'list'>\n",
      "thing associated with key _compute_output_and_mask_jointly has type <class 'bool'>\n",
      "thing associated with key _distribution_strategy has type <class 'NoneType'>\n",
      "thing associated with key _cluster_coordinator has type <class 'NoneType'>\n",
      "thing associated with key _compiled_trainable_state has type <class 'weakref.WeakKeyDictionary'>\n",
      "thing associated with key _training_state has type <class 'NoneType'>\n",
      "thing associated with key _trackable_saver has type <class 'tensorflow.python.training.tracking.util.TrackableSaver'>\n",
      "thing associated with key _steps_per_execution has type <class 'tensorflow.python.ops.resource_variable_ops.ResourceVariable'>\n",
      "thing associated with key _train_counter has type <class 'tensorflow.python.ops.resource_variable_ops.ResourceVariable'>\n",
      "thing associated with key _test_counter has type <class 'tensorflow.python.ops.resource_variable_ops.ResourceVariable'>\n",
      "thing associated with key _predict_counter has type <class 'tensorflow.python.ops.resource_variable_ops.ResourceVariable'>\n",
      "thing associated with key _base_model_initialized has type <class 'bool'>\n",
      "thing associated with key _nested_inputs has type <class 'keras.engine.keras_tensor.KerasTensor'>\n",
      "thing associated with key _nested_outputs has type <class 'keras.engine.keras_tensor.KerasTensor'>\n",
      "thing associated with key _enable_dict_to_input_mapping has type <class 'bool'>\n",
      "thing associated with key _input_layers has type <class 'list'>\n",
      "thing associated with key _output_layers has type <class 'list'>\n",
      "thing associated with key _input_coordinates has type <class 'list'>\n",
      "thing associated with key _output_coordinates has type <class 'list'>\n",
      "thing associated with key _output_mask_cache has type <class 'dict'>\n",
      "thing associated with key _output_tensor_cache has type <class 'dict'>\n",
      "thing associated with key _output_shape_cache has type <class 'dict'>\n",
      "thing associated with key _network_nodes has type <class 'set'>\n",
      "thing associated with key _nodes_by_depth has type <class 'collections.defaultdict'>\n",
      "thing associated with key _layer_call_argspecs has type <class 'dict'>\n",
      "thing associated with key _feed_input_names has type <class 'list'>\n",
      "thing associated with key _feed_inputs has type <class 'list'>\n",
      "thing associated with key _feed_input_shapes has type <class 'list'>\n",
      "thing associated with key _tensor_usage_count has type <class 'collections.Counter'>\n",
      "thing associated with key model has type <class 'NoneType'>\n",
      "thing associated with key saved_model has type <class 'NoneType'>\n",
      "thing associated with key model_save_file has type <class 'str'>\n",
      "thing associated with key _self_unconditional_checkpoint_dependencies has type <class 'list'>\n",
      "thing associated with key _self_unconditional_dependency_names has type <class 'dict'>\n",
      "thing associated with key _self_unconditional_deferred_dependencies has type <class 'dict'>\n",
      "thing associated with key _self_update_uid has type <class 'int'>\n",
      "thing associated with key _self_name_based_restores has type <class 'set'>\n",
      "thing associated with key _self_saveable_object_factories has type <class 'dict'>\n",
      "thing associated with key examine_seperately_items has type <class 'tensorflow.python.training.tracking.data_structures.ListWrapper'>\n",
      "thing associated with key filename has type <class 'str'>\n",
      "thing associated with key researcher has type <class 'str'>\n",
      "thing associated with key ignore_items has type <class 'tensorflow.python.training.tracking.data_structures.ListWrapper'>\n",
      "thing associated with key model_type has type <class 'str'>\n",
      "thing associated with key noise_multiplier has type <class 'float'>\n",
      "thing associated with key _run_eagerly has type <class 'NoneType'>\n",
      "thing associated with key optimizer has type <class 'tensorflow_privacy.privacy.optimizers.dp_optimizer_keras.make_keras_optimizer_class.<locals>.DPOptimizerClass'>\n",
      "thing associated with key compiled_loss has type <class 'keras.engine.compile_utils.LossesContainer'>\n",
      "thing associated with key compiled_metrics has type <class 'keras.engine.compile_utils.MetricsContainer'>\n",
      "thing associated with key _is_compiled has type <class 'bool'>\n",
      "thing associated with key loss has type <class 'keras.losses.CategoricalCrossentropy'>\n",
      "thing associated with key _jit_compile has type <class 'NoneType'>\n",
      "thing associated with key num_samples has type <class 'int'>\n",
      "thing associated with key stop_training has type <class 'bool'>\n",
      "thing associated with key history has type <class 'keras.callbacks.History'>\n",
      "thing associated with key train_function has type <class 'tensorflow.python.eager.def_function.Function'>\n",
      "thing associated with key test_function has type <class 'tensorflow.python.eager.def_function.Function'>\n",
      "thing associated with key predict_function has type <class 'NoneType'>\n",
      "thing associated with key train_tf_function has type <class 'tensorflow.python.eager.def_function.Function'>\n"
     ]
    }
   ],
   "source": [
    "for key,value in safeModel.__dict__.items():\n",
    "     print (f'thing associated with key {key} has type {type(value)}')"
   ]
  },
  {
   "cell_type": "code",
   "execution_count": 18,
   "metadata": {},
   "outputs": [
    {
     "name": "stdout",
     "output_type": "stream",
     "text": [
      "===============================================================================================\n",
      "Tuples\n",
      "===============================================================================================\n",
      "thing associated with key _saved_model_arg_spec has type <class 'tuple'>\n",
      "===============================================================================================\n",
      "Bools\n",
      "===============================================================================================\n",
      "thing associated with key _self_setattr_tracking has type <class 'bool'>\n",
      "thing associated with key _is_model_for_instrumentation has type <class 'bool'>\n",
      "thing associated with key _instrumented_keras_api has type <class 'bool'>\n",
      "thing associated with key _instrumented_keras_layer_class has type <class 'bool'>\n",
      "thing associated with key _instrumented_keras_model_class has type <class 'bool'>\n",
      "thing associated with key _trainable has type <class 'bool'>\n",
      "thing associated with key _stateful has type <class 'bool'>\n",
      "thing associated with key built has type <class 'bool'>\n",
      "thing associated with key _supports_masking has type <class 'bool'>\n",
      "thing associated with key _autocast has type <class 'bool'>\n",
      "thing associated with key _expects_training_arg has type <class 'bool'>\n",
      "thing associated with key _expects_mask_arg has type <class 'bool'>\n",
      "thing associated with key _dynamic has type <class 'bool'>\n",
      "thing associated with key _auto_track_sub_layers has type <class 'bool'>\n",
      "thing associated with key _preserve_input_structure_in_config has type <class 'bool'>\n",
      "thing associated with key _is_graph_network has type <class 'bool'>\n",
      "thing associated with key _compute_output_and_mask_jointly has type <class 'bool'>\n",
      "thing associated with key _base_model_initialized has type <class 'bool'>\n",
      "thing associated with key _enable_dict_to_input_mapping has type <class 'bool'>\n",
      "thing associated with key _is_compiled has type <class 'bool'>\n",
      "thing associated with key stop_training has type <class 'bool'>\n",
      "===============================================================================================\n",
      "Lists\n",
      "===============================================================================================\n",
      "thing associated with key inputs has type <class 'list'>\n",
      "thing associated with key outputs has type <class 'list'>\n",
      "thing associated with key _trainable_weights has type <class 'list'>\n",
      "thing associated with key _non_trainable_weights has type <class 'list'>\n",
      "thing associated with key _updates has type <class 'list'>\n",
      "thing associated with key _callable_losses has type <class 'list'>\n",
      "thing associated with key _losses has type <class 'list'>\n",
      "thing associated with key _metrics has type <class 'list'>\n",
      "thing associated with key _self_tracked_trackables has type <class 'list'>\n",
      "thing associated with key _inbound_nodes_value has type <class 'list'>\n",
      "thing associated with key _outbound_nodes_value has type <class 'list'>\n",
      "thing associated with key input_names has type <class 'list'>\n",
      "thing associated with key output_names has type <class 'list'>\n",
      "thing associated with key _input_layers has type <class 'list'>\n",
      "thing associated with key _output_layers has type <class 'list'>\n",
      "thing associated with key _input_coordinates has type <class 'list'>\n",
      "thing associated with key _output_coordinates has type <class 'list'>\n",
      "thing associated with key _feed_input_names has type <class 'list'>\n",
      "thing associated with key _feed_inputs has type <class 'list'>\n",
      "thing associated with key _feed_input_shapes has type <class 'list'>\n",
      "thing associated with key _self_unconditional_checkpoint_dependencies has type <class 'list'>\n",
      "===============================================================================================\n",
      "Strings\n",
      "===============================================================================================\n",
      "thing associated with key _name has type <class 'str'>\n",
      "thing associated with key _outer_name_scope has type <class 'str'>\n",
      "thing associated with key model_save_file has type <class 'str'>\n",
      "thing associated with key filename has type <class 'str'>\n",
      "thing associated with key researcher has type <class 'str'>\n",
      "thing associated with key model_type has type <class 'str'>\n",
      "===============================================================================================\n",
      "Ints\n",
      "===============================================================================================\n",
      "thing associated with key min_epsilon has type <class 'int'>\n",
      "thing associated with key batch_size has type <class 'int'>\n",
      "thing associated with key epochs has type <class 'int'>\n",
      "thing associated with key _self_update_uid has type <class 'int'>\n",
      "thing associated with key num_samples has type <class 'int'>\n",
      "===============================================================================================\n",
      "Floats\n",
      "===============================================================================================\n",
      "thing associated with key l2_norm_clip has type <class 'float'>\n",
      "thing associated with key delta has type <class 'float'>\n",
      "thing associated with key learning_rate has type <class 'float'>\n",
      "thing associated with key noise_multiplier has type <class 'float'>\n",
      "===============================================================================================\n",
      "Dicts\n",
      "===============================================================================================\n",
      "thing associated with key _output_mask_cache has type <class 'dict'>\n",
      "thing associated with key _output_tensor_cache has type <class 'dict'>\n",
      "thing associated with key _output_shape_cache has type <class 'dict'>\n",
      "thing associated with key _layer_call_argspecs has type <class 'dict'>\n",
      "thing associated with key _self_unconditional_dependency_names has type <class 'dict'>\n",
      "thing associated with key _self_unconditional_deferred_dependencies has type <class 'dict'>\n",
      "thing associated with key _self_saveable_object_factories has type <class 'dict'>\n",
      "===============================================================================================\n",
      "Sets\n",
      "===============================================================================================\n",
      "thing associated with key _network_nodes has type <class 'set'>\n",
      "thing associated with key _self_name_based_restores has type <class 'set'>\n",
      "===============================================================================================\n",
      "Unusual Ones\n",
      "===============================================================================================\n",
      "thing associated with key _obj_reference_counts_dict has type <class 'keras.utils.object_identity.ObjectIdentityDictionary'>\n",
      "thing associated with key num_microbatches has type <class 'NoneType'>\n",
      "thing associated with key _input_spec has type <class 'NoneType'>\n",
      "thing associated with key _build_input_shape has type <class 'tensorflow.python.framework.tensor_shape.TensorShape'>\n",
      "thing associated with key _saved_model_inputs_spec has type <class 'tensorflow.python.framework.tensor_spec.TensorSpec'>\n",
      "thing associated with key _activity_regularizer has type <class 'NoneType'>\n",
      "thing associated with key _thread_local has type <class '_thread._local'>\n",
      "thing associated with key _metrics_lock has type <class '_thread.lock'>\n",
      "thing associated with key _dtype_policy has type <class 'keras.mixed_precision.policy.Policy'>\n",
      "thing associated with key _compute_dtype_object has type <class 'tensorflow.python.framework.dtypes.DType'>\n",
      "thing associated with key _default_training_arg has type <class 'NoneType'>\n",
      "thing associated with key _initial_weights has type <class 'NoneType'>\n",
      "thing associated with key _distribution_strategy has type <class 'NoneType'>\n",
      "thing associated with key _cluster_coordinator has type <class 'NoneType'>\n",
      "thing associated with key _compiled_trainable_state has type <class 'weakref.WeakKeyDictionary'>\n",
      "thing associated with key _training_state has type <class 'NoneType'>\n",
      "thing associated with key _trackable_saver has type <class 'tensorflow.python.training.tracking.util.TrackableSaver'>\n",
      "thing associated with key _steps_per_execution has type <class 'tensorflow.python.ops.resource_variable_ops.ResourceVariable'>\n",
      "thing associated with key _train_counter has type <class 'tensorflow.python.ops.resource_variable_ops.ResourceVariable'>\n",
      "thing associated with key _test_counter has type <class 'tensorflow.python.ops.resource_variable_ops.ResourceVariable'>\n",
      "thing associated with key _predict_counter has type <class 'tensorflow.python.ops.resource_variable_ops.ResourceVariable'>\n",
      "thing associated with key _nested_inputs has type <class 'keras.engine.keras_tensor.KerasTensor'>\n",
      "thing associated with key _nested_outputs has type <class 'keras.engine.keras_tensor.KerasTensor'>\n",
      "thing associated with key _nodes_by_depth has type <class 'collections.defaultdict'>\n",
      "thing associated with key _tensor_usage_count has type <class 'collections.Counter'>\n",
      "thing associated with key model has type <class 'NoneType'>\n",
      "thing associated with key saved_model has type <class 'NoneType'>\n",
      "thing associated with key examine_seperately_items has type <class 'tensorflow.python.training.tracking.data_structures.ListWrapper'>\n",
      "thing associated with key ignore_items has type <class 'tensorflow.python.training.tracking.data_structures.ListWrapper'>\n",
      "thing associated with key _run_eagerly has type <class 'NoneType'>\n",
      "thing associated with key optimizer has type <class 'tensorflow_privacy.privacy.optimizers.dp_optimizer_keras.make_keras_optimizer_class.<locals>.DPOptimizerClass'>\n",
      "thing associated with key compiled_loss has type <class 'keras.engine.compile_utils.LossesContainer'>\n",
      "thing associated with key compiled_metrics has type <class 'keras.engine.compile_utils.MetricsContainer'>\n",
      "thing associated with key loss has type <class 'keras.losses.CategoricalCrossentropy'>\n",
      "thing associated with key _jit_compile has type <class 'NoneType'>\n",
      "thing associated with key history has type <class 'keras.callbacks.History'>\n",
      "thing associated with key train_function has type <class 'tensorflow.python.eager.def_function.Function'>\n",
      "thing associated with key test_function has type <class 'tensorflow.python.eager.def_function.Function'>\n",
      "thing associated with key predict_function has type <class 'NoneType'>\n",
      "thing associated with key train_tf_function has type <class 'tensorflow.python.eager.def_function.Function'>\n"
     ]
    }
   ],
   "source": [
    "all_keys = []\n",
    "unusuals =[]\n",
    "tuples =[]\n",
    "deleted_keys = []\n",
    "\n",
    "print(\"===============================================================================================\")\n",
    "print(\"Tuples\")\n",
    "print(\"===============================================================================================\")\n",
    "for key,value in safeModel.__dict__.items():\n",
    "    if(type(value) == tuple):\n",
    "        print (f'thing associated with key {key} has type {type(value)}')\n",
    "        tuples.append(key)\n",
    "\n",
    "print(\"===============================================================================================\")\n",
    "print(\"Bools\")\n",
    "print(\"===============================================================================================\")\n",
    "for key,value in safeModel.__dict__.items():\n",
    "    if(type(value) == bool):\n",
    "        print (f'thing associated with key {key} has type {type(value)}')\n",
    "\n",
    "print(\"===============================================================================================\")\n",
    "print(\"Lists\")\n",
    "print(\"===============================================================================================\")        \n",
    "for key,value in safeModel.__dict__.items():\n",
    "    if(type(value) == list):\n",
    "        print (f'thing associated with key {key} has type {type(value)}')\n",
    "\n",
    "print(\"===============================================================================================\")\n",
    "print(\"Strings\")\n",
    "print(\"===============================================================================================\")\n",
    "for key,value in safeModel.__dict__.items():\n",
    "    if(type(value) == str):\n",
    "        print (f'thing associated with key {key} has type {type(value)}')\n",
    "\n",
    "        \n",
    "print(\"===============================================================================================\")\n",
    "print(\"Ints\")\n",
    "print(\"===============================================================================================\")\n",
    "for key,value in safeModel.__dict__.items():\n",
    "    if(type(value) == int):\n",
    "        print (f'thing associated with key {key} has type {type(value)}')\n",
    "\n",
    "print(\"===============================================================================================\")\n",
    "print(\"Floats\")\n",
    "print(\"===============================================================================================\")\n",
    "for key,value in safeModel.__dict__.items():\n",
    "    if(type(value) == float):\n",
    "        print (f'thing associated with key {key} has type {type(value)}')\n",
    "        \n",
    "print(\"===============================================================================================\")\n",
    "print(\"Dicts\")\n",
    "print(\"===============================================================================================\")\n",
    "for key,value in safeModel.__dict__.items():\n",
    "    if(type(value) == dict):\n",
    "        print (f'thing associated with key {key} has type {type(value)}')\n",
    "\n",
    "        \n",
    "print(\"===============================================================================================\")\n",
    "print(\"Sets\")\n",
    "print(\"===============================================================================================\")\n",
    "for key,value in safeModel.__dict__.items():\n",
    "    if(type(value) == set):\n",
    "        print (f'thing associated with key {key} has type {type(value)}')\n",
    "\n",
    "print(\"===============================================================================================\")\n",
    "print(\"Unusual Ones\")\n",
    "print(\"===============================================================================================\")\n",
    "\n",
    "        \n",
    "for key,value in safeModel.__dict__.items():\n",
    "    if((type(value) != int) and (type(value) != str) and \n",
    "       (type(value) != list) and (type(value) != bool) and \n",
    "       (type(value) != tuple) and (type(value) != float) and\n",
    "       (type(value) != dict) and (type(value) != set)):\n",
    "        print (f'thing associated with key {key} has type {type(value)}')\n",
    "        unusuals.append(key)"
   ]
  },
  {
   "cell_type": "code",
   "execution_count": 19,
   "metadata": {},
   "outputs": [
    {
     "name": "stdout",
     "output_type": "stream",
     "text": [
      "INFO:tensorflow:Assets written to: my_model/assets\n",
      "INFO:tensorflow:Assets written to: safe.sav/assets\n"
     ]
    },
    {
     "name": "stderr",
     "output_type": "stream",
     "text": [
      "_obj_reference_counts_dict cannot be copied\n",
      "...<class 'TypeError'> error; cannot pickle '_thread.RLock' object\n",
      "_thread_local cannot be copied\n",
      "...<class 'TypeError'> error; cannot pickle '_thread._local' object\n",
      "_metrics_lock cannot be copied\n",
      "...<class 'TypeError'> error; cannot pickle '_thread.lock' object\n"
     ]
    },
    {
     "name": "stdout",
     "output_type": "stream",
     "text": [
      "INFO:tensorflow:Assets written to: ram://0ab951c3-226e-4275-ac26-bcaaf519e04e/assets\n"
     ]
    },
    {
     "name": "stderr",
     "output_type": "stream",
     "text": [
      "_trackable_saver cannot be copied\n",
      "...<class 'ValueError'> error; Unknown optimizer: DPOptimizerClass. Please ensure this object is passed to the `custom_objects` argument. See https://www.tensorflow.org/guide/keras/save_and_serialize#registering_the_custom_object for details.\n",
      "_self_unconditional_checkpoint_dependencies cannot be copied\n",
      "...<class 'TypeError'> error; cannot pickle '_thread.RLock' object\n",
      "_self_unconditional_dependency_names cannot be copied\n",
      "...<class 'TypeError'> error; cannot pickle '_thread.RLock' object\n",
      "compiled_loss cannot be copied\n",
      "...<class 'TypeError'> error; cannot pickle '_thread.RLock' object\n",
      "compiled_metrics cannot be copied\n",
      "...<class 'TypeError'> error; cannot pickle '_thread.RLock' object\n"
     ]
    },
    {
     "name": "stdout",
     "output_type": "stream",
     "text": [
      "INFO:tensorflow:Assets written to: ram://140a665f-f403-4639-832d-776b0a786fdd/assets\n"
     ]
    },
    {
     "name": "stderr",
     "output_type": "stream",
     "text": [
      "history cannot be copied\n",
      "...<class 'ValueError'> error; Unknown optimizer: DPOptimizerClass. Please ensure this object is passed to the `custom_objects` argument. See https://www.tensorflow.org/guide/keras/save_and_serialize#registering_the_custom_object for details.\n",
      "train_function cannot be copied\n",
      "...<class 'TypeError'> error; cannot pickle '_thread.RLock' object\n",
      "test_function cannot be copied\n",
      "...<class 'TypeError'> error; cannot pickle '_thread.RLock' object\n",
      "train_tf_function cannot be copied\n",
      "...<class 'TypeError'> error; cannot pickle '_thread.RLock' object\n"
     ]
    },
    {
     "name": "stdout",
     "output_type": "stream",
     "text": [
      "<tensorflow_privacy.privacy.optimizers.dp_optimizer_keras.make_keras_optimizer_class.<locals>.DPOptimizerClass object at 0x7f71a9df9fd0>\n",
      "<tensorflow_privacy.privacy.optimizers.dp_optimizer_keras.make_keras_optimizer_class.<locals>.DPOptimizerClass object at 0x7f71a9df9fd0>\n",
      "DP-SGD with sampling rate = 10% and noise_multiplier = 0.7 iterated over 2000 steps satisfies differential privacy with eps = 95 and delta = 1e-05.\n",
      "The optimal RDP order is 1.5.\n"
     ]
    }
   ],
   "source": [
    "#safeModel.request_release('safekeras.pkl') # TypeError: cannot pickle '_thread.RLock' object\n",
    "\n",
    "#safeModel.request_release('safekeras.sav') # TypeError: cannot pickle '_thread.RLock' object\n",
    "\n",
    "#safeModel.request_release('safekeras.tf')\n",
    "\n",
    "\n",
    "\n",
    "\n",
    "safeModel.save('my_model')\n",
    "safeModel.save_weights('weights.h5')\n",
    "\n",
    "safeModel.request_release('safe.sav')"
   ]
  },
  {
   "cell_type": "code",
   "execution_count": 20,
   "metadata": {},
   "outputs": [
    {
     "name": "stderr",
     "output_type": "stream",
     "text": [
      "_obj_reference_counts_dict cannot be copied\n",
      "...<class 'TypeError'> error; cannot pickle '_thread.RLock' object\n",
      "_thread_local cannot be copied\n",
      "...<class 'TypeError'> error; cannot pickle '_thread._local' object\n",
      "_metrics_lock cannot be copied\n",
      "...<class 'TypeError'> error; cannot pickle '_thread.lock' object\n"
     ]
    },
    {
     "name": "stdout",
     "output_type": "stream",
     "text": [
      "INFO:tensorflow:Assets written to: ram://0358d4d0-9dad-4a6e-acd3-393ab0697c51/assets\n"
     ]
    },
    {
     "name": "stderr",
     "output_type": "stream",
     "text": [
      "_trackable_saver cannot be copied\n",
      "...<class 'ValueError'> error; Unknown optimizer: DPOptimizerClass. Please ensure this object is passed to the `custom_objects` argument. See https://www.tensorflow.org/guide/keras/save_and_serialize#registering_the_custom_object for details.\n",
      "_self_unconditional_checkpoint_dependencies cannot be copied\n",
      "...<class 'TypeError'> error; cannot pickle '_thread.RLock' object\n",
      "_self_unconditional_dependency_names cannot be copied\n",
      "...<class 'TypeError'> error; cannot pickle '_thread.RLock' object\n",
      "compiled_loss cannot be copied\n",
      "...<class 'TypeError'> error; cannot pickle '_thread.RLock' object\n",
      "compiled_metrics cannot be copied\n",
      "...<class 'TypeError'> error; cannot pickle '_thread.RLock' object\n"
     ]
    },
    {
     "name": "stdout",
     "output_type": "stream",
     "text": [
      "INFO:tensorflow:Assets written to: ram://5989a4e0-0600-4b41-a05d-954f9f7d250f/assets\n"
     ]
    },
    {
     "name": "stderr",
     "output_type": "stream",
     "text": [
      "history cannot be copied\n",
      "...<class 'ValueError'> error; Unknown optimizer: DPOptimizerClass. Please ensure this object is passed to the `custom_objects` argument. See https://www.tensorflow.org/guide/keras/save_and_serialize#registering_the_custom_object for details.\n",
      "train_function cannot be copied\n",
      "...<class 'TypeError'> error; cannot pickle '_thread.RLock' object\n",
      "test_function cannot be copied\n",
      "...<class 'TypeError'> error; cannot pickle '_thread.RLock' object\n",
      "train_tf_function cannot be copied\n",
      "...<class 'TypeError'> error; cannot pickle '_thread.RLock' object\n"
     ]
    },
    {
     "name": "stdout",
     "output_type": "stream",
     "text": [
      "<tensorflow_privacy.privacy.optimizers.dp_optimizer_keras.make_keras_optimizer_class.<locals>.DPOptimizerClass object at 0x7f71a9df9fd0>\n",
      "<tensorflow_privacy.privacy.optimizers.dp_optimizer_keras.make_keras_optimizer_class.<locals>.DPOptimizerClass object at 0x7f71a9df9fd0>\n",
      "DP-SGD with sampling rate = 10% and noise_multiplier = 0.7 iterated over 2000 steps satisfies differential privacy with eps = 95 and delta = 1e-05.\n",
      "The optimal RDP order is 1.5.\n"
     ]
    }
   ],
   "source": [
    "\n",
    "\n",
    "safeModel.request_release('safekeras.h5')"
   ]
  },
  {
   "cell_type": "code",
   "execution_count": 21,
   "metadata": {},
   "outputs": [
    {
     "name": "stdout",
     "output_type": "stream",
     "text": [
      "WARNING: model parameters may present a disclosure risk:\n",
      "- parameter noise_multiplier = 0.5 identified as less than the recommended min value of 0.7.\n",
      "Changed parameter noise_multiplier = 0.7.\n",
      "\n",
      "Changed parameter optimizer = 'DPKerasSGDOptimizer'\n",
      "DP optimizer used = False\n",
      "optimizer has been changed but fit() has not been rerun.\n",
      "(250, 300)\n",
      "DP-SGD with sampling rate = 10% and noise_multiplier = 0.7 iterated over 200 steps satisfies differential privacy with eps = 23.1 and delta = 1e-05.\n",
      "The optimal RDP order is 2.0.\n",
      "Current epsilon is 23.09099569905857\n",
      "The requirements for DP are not met, current epsilon is: 23.09099569905857. To attain true DP the following parameters can be changed:  Num Samples = 250, batch_size = 25, epochs = 20\n",
      "This will not result in a Differentially Private model do you want to continue [Y/N]y\n",
      "Continuing\n",
      "Epoch 1/20\n",
      "10/10 [==============================] - 2s 47ms/step - loss: 0.3739 - accuracy: 0.9040 - val_loss: 2.9982 - val_accuracy: 0.5600\n",
      "Epoch 2/20\n",
      "10/10 [==============================] - 0s 35ms/step - loss: 0.3616 - accuracy: 0.9040 - val_loss: 3.0868 - val_accuracy: 0.5400\n",
      "Epoch 3/20\n",
      "10/10 [==============================] - 0s 36ms/step - loss: 0.3303 - accuracy: 0.9000 - val_loss: 3.0120 - val_accuracy: 0.5600\n",
      "Epoch 4/20\n",
      "10/10 [==============================] - 0s 39ms/step - loss: 0.3572 - accuracy: 0.8960 - val_loss: 3.2664 - val_accuracy: 0.5520\n",
      "Epoch 5/20\n",
      "10/10 [==============================] - 0s 39ms/step - loss: 0.4622 - accuracy: 0.8720 - val_loss: 3.4416 - val_accuracy: 0.5520\n",
      "Epoch 6/20\n",
      "10/10 [==============================] - 0s 38ms/step - loss: 0.4481 - accuracy: 0.8760 - val_loss: 3.2950 - val_accuracy: 0.5520\n",
      "Epoch 7/20\n",
      "10/10 [==============================] - 0s 34ms/step - loss: 0.4086 - accuracy: 0.8960 - val_loss: 3.2932 - val_accuracy: 0.5600\n",
      "Epoch 8/20\n",
      "10/10 [==============================] - 0s 38ms/step - loss: 0.3626 - accuracy: 0.9000 - val_loss: 3.2405 - val_accuracy: 0.5440\n",
      "Epoch 9/20\n",
      "10/10 [==============================] - 1s 139ms/step - loss: 0.3746 - accuracy: 0.9000 - val_loss: 3.3793 - val_accuracy: 0.5400\n",
      "Epoch 10/20\n",
      "10/10 [==============================] - 0s 33ms/step - loss: 0.3382 - accuracy: 0.9120 - val_loss: 3.2738 - val_accuracy: 0.5680\n",
      "Epoch 11/20\n",
      "10/10 [==============================] - 0s 35ms/step - loss: 0.3091 - accuracy: 0.9160 - val_loss: 3.3249 - val_accuracy: 0.5720\n",
      "Epoch 12/20\n",
      "10/10 [==============================] - 0s 33ms/step - loss: 0.2971 - accuracy: 0.9200 - val_loss: 3.3721 - val_accuracy: 0.5800\n",
      "Epoch 13/20\n",
      "10/10 [==============================] - 0s 30ms/step - loss: 0.3285 - accuracy: 0.9280 - val_loss: 3.4125 - val_accuracy: 0.5680\n",
      "Epoch 14/20\n",
      "10/10 [==============================] - 0s 36ms/step - loss: 0.2804 - accuracy: 0.9400 - val_loss: 3.4345 - val_accuracy: 0.5720\n",
      "Epoch 15/20\n",
      "10/10 [==============================] - 0s 36ms/step - loss: 0.2813 - accuracy: 0.9440 - val_loss: 3.3532 - val_accuracy: 0.5800\n",
      "Epoch 16/20\n",
      "10/10 [==============================] - 0s 36ms/step - loss: 0.3003 - accuracy: 0.9280 - val_loss: 3.5969 - val_accuracy: 0.5760\n",
      "Epoch 17/20\n",
      "10/10 [==============================] - 0s 36ms/step - loss: 0.2863 - accuracy: 0.9360 - val_loss: 3.5197 - val_accuracy: 0.5920\n",
      "Epoch 18/20\n",
      "10/10 [==============================] - 0s 34ms/step - loss: 0.2918 - accuracy: 0.9200 - val_loss: 3.5595 - val_accuracy: 0.5640\n",
      "Epoch 19/20\n",
      "10/10 [==============================] - 0s 38ms/step - loss: 0.3217 - accuracy: 0.9320 - val_loss: 3.6766 - val_accuracy: 0.5680\n",
      "Epoch 20/20\n",
      "10/10 [==============================] - 0s 31ms/step - loss: 0.2366 - accuracy: 0.9480 - val_loss: 3.7207 - val_accuracy: 0.5560\n"
     ]
    }
   ],
   "source": [
    "importlib.reload(safemodel.safemodel)\n",
    "importlib.reload(safemodel.classifiers.safekeras)\n",
    "from safemodel.classifiers.safekeras import Safe_KerasModel\n",
    "\n",
    "optimizer=None\n",
    "safeModel = Safe_KerasModel(inputs= input_data, outputs=output,name=\"safekeras-test\")\n",
    "\n",
    "loss = tf.keras.losses.CategoricalCrossentropy(\n",
    "    from_logits=False, reduction=tf.losses.Reduction.NONE)\n",
    "\n",
    "\n",
    "safeModel.compile(loss=loss)#optimizer='adam', loss='categorical_crossentropy', metrics=['accuracy'])\n",
    "\n",
    "epochs = 20\n",
    "batch_size = 25\n",
    "\n",
    "r_DP = safeModel.fit(Xt_member, \n",
    "              yt_member, \n",
    "              validation_data=(Xt_nonmember, yt_nonmember),\n",
    "              epochs=epochs, \n",
    "              batch_size=batch_size\n",
    ")  \n"
   ]
  },
  {
   "cell_type": "markdown",
   "metadata": {},
   "source": [
    "# Testing\n",
    "## Test 1 - researcher doesn't change recommended params"
   ]
  },
  {
   "cell_type": "code",
   "execution_count": 22,
   "metadata": {},
   "outputs": [
    {
     "name": "stdout",
     "output_type": "stream",
     "text": [
      "***Test 1: researcher doesn't change recommended params\n",
      "WARNING: model parameters may present a disclosure risk:\n",
      "- parameter noise_multiplier = 0.5 identified as less than the recommended min value of 0.7.\n",
      "Changed parameter noise_multiplier = 0.7.\n",
      "\n",
      "Changed parameter optimizer = 'DPKerasSGDOptimizer'\n",
      "DP optimizer used = False\n",
      "optimizer has been changed but fit() has not been rerun.\n",
      "(250, 300)\n",
      "DP-SGD with sampling rate = 10% and noise_multiplier = 0.7 iterated over 200 steps satisfies differential privacy with eps = 23.1 and delta = 1e-05.\n",
      "The optimal RDP order is 2.0.\n",
      "Current epsilon is 23.09099569905857\n",
      "The requirements for DP are not met, current epsilon is: 23.09099569905857. To attain true DP the following parameters can be changed:  Num Samples = 250, batch_size = 25, epochs = 20\n",
      "This will not result in a Differentially Private model do you want to continue [Y/N]y\n",
      "Continuing\n",
      "Epoch 1/20\n",
      "10/10 [==============================] - 2s 46ms/step - loss: 0.2544 - accuracy: 0.9440 - val_loss: 3.6355 - val_accuracy: 0.5520\n",
      "Epoch 2/20\n",
      "10/10 [==============================] - 0s 34ms/step - loss: 0.2463 - accuracy: 0.9440 - val_loss: 3.7273 - val_accuracy: 0.5600\n",
      "Epoch 3/20\n",
      "10/10 [==============================] - 0s 34ms/step - loss: 0.2416 - accuracy: 0.9560 - val_loss: 3.9147 - val_accuracy: 0.5800\n",
      "Epoch 4/20\n",
      "10/10 [==============================] - 0s 34ms/step - loss: 0.2089 - accuracy: 0.9520 - val_loss: 4.0620 - val_accuracy: 0.5720\n",
      "Epoch 5/20\n",
      "10/10 [==============================] - 0s 31ms/step - loss: 0.2260 - accuracy: 0.9520 - val_loss: 4.0780 - val_accuracy: 0.5880\n",
      "Epoch 6/20\n",
      "10/10 [==============================] - 0s 34ms/step - loss: 0.1710 - accuracy: 0.9440 - val_loss: 4.3818 - val_accuracy: 0.5520\n",
      "Epoch 7/20\n",
      "10/10 [==============================] - 0s 35ms/step - loss: 0.2443 - accuracy: 0.9440 - val_loss: 4.4846 - val_accuracy: 0.5600\n",
      "Epoch 8/20\n",
      "10/10 [==============================] - 0s 35ms/step - loss: 0.2445 - accuracy: 0.9440 - val_loss: 4.3914 - val_accuracy: 0.5920\n",
      "Epoch 9/20\n",
      "10/10 [==============================] - 0s 36ms/step - loss: 0.1749 - accuracy: 0.9640 - val_loss: 4.3816 - val_accuracy: 0.5920\n",
      "Epoch 10/20\n",
      "10/10 [==============================] - 0s 35ms/step - loss: 0.2143 - accuracy: 0.9440 - val_loss: 4.5617 - val_accuracy: 0.5800\n",
      "Epoch 11/20\n",
      "10/10 [==============================] - 0s 40ms/step - loss: 0.1879 - accuracy: 0.9560 - val_loss: 4.7222 - val_accuracy: 0.5800\n",
      "Epoch 12/20\n",
      "10/10 [==============================] - 0s 32ms/step - loss: 0.1712 - accuracy: 0.9520 - val_loss: 4.7437 - val_accuracy: 0.5920\n",
      "Epoch 13/20\n",
      "10/10 [==============================] - 0s 34ms/step - loss: 0.1678 - accuracy: 0.9680 - val_loss: 4.6711 - val_accuracy: 0.5720\n",
      "Epoch 14/20\n",
      "10/10 [==============================] - 0s 33ms/step - loss: 0.1925 - accuracy: 0.9600 - val_loss: 4.8231 - val_accuracy: 0.5800\n",
      "Epoch 15/20\n",
      "10/10 [==============================] - 0s 39ms/step - loss: 0.2133 - accuracy: 0.9440 - val_loss: 4.8508 - val_accuracy: 0.6000\n",
      "Epoch 16/20\n",
      "10/10 [==============================] - 0s 35ms/step - loss: 0.1866 - accuracy: 0.9480 - val_loss: 4.7448 - val_accuracy: 0.5920\n",
      "Epoch 17/20\n",
      "10/10 [==============================] - 0s 38ms/step - loss: 0.1869 - accuracy: 0.9440 - val_loss: 4.9959 - val_accuracy: 0.6040\n",
      "Epoch 18/20\n",
      "10/10 [==============================] - 0s 41ms/step - loss: 0.1727 - accuracy: 0.9560 - val_loss: 5.0457 - val_accuracy: 0.6040\n",
      "Epoch 19/20\n",
      "10/10 [==============================] - 0s 37ms/step - loss: 0.1520 - accuracy: 0.9440 - val_loss: 4.9345 - val_accuracy: 0.6000\n",
      "Epoch 20/20\n",
      "10/10 [==============================] - 0s 34ms/step - loss: 0.1384 - accuracy: 0.9520 - val_loss: 4.9169 - val_accuracy: 0.5800\n",
      "Model parameters are within recommended ranges.\n",
      "\n"
     ]
    },
    {
     "name": "stderr",
     "output_type": "stream",
     "text": [
      "_obj_reference_counts_dict cannot be copied\n",
      "...<class 'TypeError'> error; cannot pickle '_thread.RLock' object\n",
      "_thread_local cannot be copied\n",
      "...<class 'TypeError'> error; cannot pickle '_thread._local' object\n",
      "_metrics_lock cannot be copied\n",
      "...<class 'TypeError'> error; cannot pickle '_thread.lock' object\n"
     ]
    },
    {
     "name": "stdout",
     "output_type": "stream",
     "text": [
      "INFO:tensorflow:Assets written to: ram://24ed41d8-f238-4841-80a5-c0cf0e784e25/assets\n"
     ]
    },
    {
     "name": "stderr",
     "output_type": "stream",
     "text": [
      "_trackable_saver cannot be copied\n",
      "...<class 'ValueError'> error; Unknown optimizer: DPOptimizerClass. Please ensure this object is passed to the `custom_objects` argument. See https://www.tensorflow.org/guide/keras/save_and_serialize#registering_the_custom_object for details.\n",
      "_self_unconditional_checkpoint_dependencies cannot be copied\n",
      "...<class 'TypeError'> error; cannot pickle '_thread.RLock' object\n",
      "_self_unconditional_dependency_names cannot be copied\n",
      "...<class 'TypeError'> error; cannot pickle '_thread.RLock' object\n",
      "compiled_loss cannot be copied\n",
      "...<class 'TypeError'> error; cannot pickle '_thread.RLock' object\n",
      "compiled_metrics cannot be copied\n",
      "...<class 'TypeError'> error; cannot pickle '_thread.RLock' object\n",
      "train_tf_function cannot be copied\n",
      "...<class 'TypeError'> error; cannot pickle '_thread.RLock' object\n",
      "train_function cannot be copied\n",
      "...<class 'TypeError'> error; cannot pickle '_thread.RLock' object\n",
      "test_function cannot be copied\n",
      "...<class 'TypeError'> error; cannot pickle '_thread.RLock' object\n"
     ]
    },
    {
     "name": "stdout",
     "output_type": "stream",
     "text": [
      "INFO:tensorflow:Assets written to: ram://e22cb478-9eff-4975-b633-61f7291186c1/assets\n"
     ]
    },
    {
     "name": "stderr",
     "output_type": "stream",
     "text": [
      "history cannot be copied\n",
      "...<class 'ValueError'> error; Unknown optimizer: DPOptimizerClass. Please ensure this object is passed to the `custom_objects` argument. See https://www.tensorflow.org/guide/keras/save_and_serialize#registering_the_custom_object for details.\n"
     ]
    },
    {
     "name": "stdout",
     "output_type": "stream",
     "text": [
      "<tensorflow_privacy.privacy.optimizers.dp_optimizer_keras.make_keras_optimizer_class.<locals>.DPOptimizerClass object at 0x7f7191e3fd60>\n",
      "<tensorflow_privacy.privacy.optimizers.dp_optimizer_keras.make_keras_optimizer_class.<locals>.DPOptimizerClass object at 0x7f7191e3fd60>\n",
      "DP-SGD with sampling rate = 10% and noise_multiplier = 0.7 iterated over 200 steps satisfies differential privacy with eps = 23.1 and delta = 1e-05.\n",
      "The optimal RDP order is 2.0.\n"
     ]
    }
   ],
   "source": [
    "importlib.reload(safemodel.safemodel)\n",
    "importlib.reload(safemodel.classifiers.safekeras)\n",
    "from safemodel.classifiers.safekeras import Safe_KerasModel\n",
    "\n",
    "\n",
    "# create and fit using recommended params\n",
    "\n",
    "\n",
    "print(\"***Test 1: researcher doesn't change recommended params\")\n",
    "optimizer=None\n",
    "safeKerasModel1 = Safe_KerasModel(inputs=input_data, outputs=output,name=\"safekerasmodel1-test\", epochs=20)\n",
    "safeKerasModel1.compile(loss=loss)\n",
    "safeKerasModel1.fit(Xt_member, \n",
    "                    yt_member, \n",
    "                    validation_data=(Xt_nonmember, yt_nonmember),\n",
    "                    epochs=epochs, \n",
    "                    batch_size=batch_size)\n",
    "safeKerasModel1.save(\"safe1.h5\", include_optimizer=False, save_format='h5')\n",
    "safeKerasModel1.preliminary_check()\n",
    "safeKerasModel1.request_release(filename=\"safe1.h5\")"
   ]
  },
  {
   "cell_type": "markdown",
   "metadata": {},
   "source": [
    "## Test 2 - researcher changes params safely\n",
    "Inputs: \n",
    "\n",
    "l2_norm_clip = 1.1, noise_multiplier=0.6\n",
    "\n",
    "Expected Result:\n",
    "\n",
    "Remain Unchanged l2_norm_clip = 1.1, noise_multiplier=0.6"
   ]
  },
  {
   "cell_type": "code",
   "execution_count": 23,
   "metadata": {},
   "outputs": [
    {
     "name": "stdout",
     "output_type": "stream",
     "text": [
      "\n",
      "***Test 2: researcher changes params safely\n",
      "WARNING: model parameters may present a disclosure risk:\n",
      "- parameter l2_norm_clip = 1.1 identified as greater than the recommended max value of 1.0.\n",
      "Changed parameter l2_norm_clip = 1.0.\n",
      "- parameter noise_multiplier = 0.6 identified as less than the recommended min value of 0.7.\n",
      "Changed parameter noise_multiplier = 0.7.\n",
      "\n",
      "DP optimizer used = False\n",
      "optimizer has been changed but fit() has not been rerun.\n",
      "(250, 300)\n",
      "DP-SGD with sampling rate = 10% and noise_multiplier = 0.6 iterated over 200 steps satisfies differential privacy with eps = 32.9 and delta = 1e-05.\n",
      "The optimal RDP order is 1.75.\n",
      "Current epsilon is 32.860767694468635\n",
      "The requirements for DP are not met, current epsilon is: 32.860767694468635. To attain true DP the following parameters can be changed:  Num Samples = 250, batch_size = 25, epochs = 20\n",
      "This will not result in a Differentially Private model do you want to continue [Y/N]y\n",
      "Continuing\n",
      "Epoch 1/20\n",
      "10/10 [==============================] - 3s 49ms/step - loss: 191.2443 - accuracy: 0.5600 - val_loss: 545.3301 - val_accuracy: 0.5000\n",
      "Epoch 2/20\n",
      "10/10 [==============================] - 0s 37ms/step - loss: 690.1439 - accuracy: 0.5960 - val_loss: 1348.2949 - val_accuracy: 0.5440\n",
      "Epoch 3/20\n",
      "10/10 [==============================] - 0s 38ms/step - loss: 1367.5875 - accuracy: 0.6280 - val_loss: 2294.4473 - val_accuracy: 0.5480\n",
      "Epoch 4/20\n",
      "10/10 [==============================] - 0s 35ms/step - loss: 2285.4175 - accuracy: 0.5800 - val_loss: 3997.5242 - val_accuracy: 0.5400\n",
      "Epoch 5/20\n",
      "10/10 [==============================] - 0s 45ms/step - loss: 2961.9028 - accuracy: 0.6240 - val_loss: 4468.2021 - val_accuracy: 0.5200\n",
      "Epoch 6/20\n",
      "10/10 [==============================] - 0s 34ms/step - loss: 3453.5891 - accuracy: 0.6480 - val_loss: 6068.4780 - val_accuracy: 0.5040\n",
      "Epoch 7/20\n",
      "10/10 [==============================] - 0s 42ms/step - loss: 4026.8972 - accuracy: 0.6360 - val_loss: 8808.8535 - val_accuracy: 0.5200\n",
      "Epoch 8/20\n",
      "10/10 [==============================] - 0s 42ms/step - loss: 5153.8926 - accuracy: 0.6200 - val_loss: 9589.0000 - val_accuracy: 0.5280\n",
      "Epoch 9/20\n",
      "10/10 [==============================] - 0s 41ms/step - loss: 6086.9355 - accuracy: 0.6440 - val_loss: 11718.5283 - val_accuracy: 0.5320\n",
      "Epoch 10/20\n",
      "10/10 [==============================] - 0s 40ms/step - loss: 7722.3848 - accuracy: 0.6160 - val_loss: 13464.2666 - val_accuracy: 0.5000\n",
      "Epoch 11/20\n",
      "10/10 [==============================] - 0s 36ms/step - loss: 8613.5605 - accuracy: 0.5800 - val_loss: 12944.8213 - val_accuracy: 0.5200\n",
      "Epoch 12/20\n",
      "10/10 [==============================] - 0s 41ms/step - loss: 9384.0303 - accuracy: 0.5760 - val_loss: 14290.9385 - val_accuracy: 0.5560\n",
      "Epoch 13/20\n",
      "10/10 [==============================] - 0s 37ms/step - loss: 10102.3105 - accuracy: 0.5960 - val_loss: 16898.4004 - val_accuracy: 0.5520\n",
      "Epoch 14/20\n",
      "10/10 [==============================] - 0s 38ms/step - loss: 10238.2090 - accuracy: 0.6000 - val_loss: 19582.9121 - val_accuracy: 0.5280\n",
      "Epoch 15/20\n",
      "10/10 [==============================] - 0s 37ms/step - loss: 11571.6445 - accuracy: 0.6680 - val_loss: 24415.6934 - val_accuracy: 0.5240\n",
      "Epoch 16/20\n",
      "10/10 [==============================] - 0s 40ms/step - loss: 14462.4922 - accuracy: 0.6120 - val_loss: 25338.5137 - val_accuracy: 0.4560\n",
      "Epoch 17/20\n",
      "10/10 [==============================] - 0s 41ms/step - loss: 14558.0439 - accuracy: 0.5600 - val_loss: 26571.3457 - val_accuracy: 0.4560\n",
      "Epoch 18/20\n",
      "10/10 [==============================] - 0s 35ms/step - loss: 12630.9482 - accuracy: 0.6840 - val_loss: 26515.3633 - val_accuracy: 0.4440\n",
      "Epoch 19/20\n",
      "10/10 [==============================] - 0s 42ms/step - loss: 12371.6211 - accuracy: 0.6320 - val_loss: 27893.4629 - val_accuracy: 0.4840\n",
      "Epoch 20/20\n",
      "10/10 [==============================] - 0s 39ms/step - loss: 14032.9873 - accuracy: 0.5960 - val_loss: 30630.6328 - val_accuracy: 0.4560\n",
      "INFO:tensorflow:Assets written to: safe2.hd5/assets\n",
      "WARNING: model parameters may present a disclosure risk:\n",
      "- parameter l2_norm_clip = 1.1 identified as greater than the recommended max value of 1.0.- parameter noise_multiplier = 0.6 identified as less than the recommended min value of 0.7.\n",
      "INFO:tensorflow:Assets written to: safe2.hd5/assets\n"
     ]
    },
    {
     "name": "stderr",
     "output_type": "stream",
     "text": [
      "_obj_reference_counts_dict cannot be copied\n",
      "...<class 'TypeError'> error; cannot pickle '_thread.RLock' object\n",
      "_thread_local cannot be copied\n",
      "...<class 'TypeError'> error; cannot pickle '_thread._local' object\n",
      "_metrics_lock cannot be copied\n",
      "...<class 'TypeError'> error; cannot pickle '_thread.lock' object\n"
     ]
    },
    {
     "name": "stdout",
     "output_type": "stream",
     "text": [
      "INFO:tensorflow:Assets written to: ram://b2bf8de7-68ff-4f79-b548-a7c3a0faa015/assets\n"
     ]
    },
    {
     "name": "stderr",
     "output_type": "stream",
     "text": [
      "_trackable_saver cannot be copied\n",
      "...<class 'ValueError'> error; Unknown optimizer: DPOptimizerClass. Please ensure this object is passed to the `custom_objects` argument. See https://www.tensorflow.org/guide/keras/save_and_serialize#registering_the_custom_object for details.\n",
      "_self_unconditional_checkpoint_dependencies cannot be copied\n",
      "...<class 'TypeError'> error; cannot pickle '_thread.RLock' object\n",
      "_self_unconditional_dependency_names cannot be copied\n",
      "...<class 'TypeError'> error; cannot pickle '_thread.RLock' object\n",
      "compiled_loss cannot be copied\n",
      "...<class 'TypeError'> error; cannot pickle '_thread.RLock' object\n",
      "compiled_metrics cannot be copied\n",
      "...<class 'TypeError'> error; cannot pickle '_thread.RLock' object\n"
     ]
    },
    {
     "name": "stdout",
     "output_type": "stream",
     "text": [
      "INFO:tensorflow:Assets written to: ram://940e4328-68b5-4c7e-a3cf-97f8e2d38a6c/assets\n"
     ]
    },
    {
     "name": "stderr",
     "output_type": "stream",
     "text": [
      "history cannot be copied\n",
      "...<class 'ValueError'> error; Unknown optimizer: DPOptimizerClass. Please ensure this object is passed to the `custom_objects` argument. See https://www.tensorflow.org/guide/keras/save_and_serialize#registering_the_custom_object for details.\n",
      "train_function cannot be copied\n",
      "...<class 'TypeError'> error; cannot pickle '_thread.RLock' object\n",
      "test_function cannot be copied\n",
      "...<class 'TypeError'> error; cannot pickle '_thread.RLock' object\n",
      "train_tf_function cannot be copied\n",
      "...<class 'TypeError'> error; cannot pickle '_thread.RLock' object\n"
     ]
    },
    {
     "name": "stdout",
     "output_type": "stream",
     "text": [
      "<tensorflow_privacy.privacy.optimizers.dp_optimizer_keras.make_keras_optimizer_class.<locals>.DPOptimizerClass object at 0x7f7191f264f0>\n",
      "<tensorflow_privacy.privacy.optimizers.dp_optimizer_keras.make_keras_optimizer_class.<locals>.DPOptimizerClass object at 0x7f7191f264f0>\n",
      "DP-SGD with sampling rate = 10% and noise_multiplier = 0.6 iterated over 200 steps satisfies differential privacy with eps = 32.9 and delta = 1e-05.\n",
      "The optimal RDP order is 1.75.\n"
     ]
    }
   ],
   "source": [
    "importlib.reload(safemodel.safemodel)\n",
    "importlib.reload(safemodel.classifiers.safekeras)\n",
    "from safemodel.classifiers.safekeras import Safe_KerasModel\n",
    "\n",
    "# change model params to recommended values\n",
    "print(\"\\n***Test 2: researcher changes params safely\")\n",
    "safeKerasModel2 = Safe_KerasModel(inputs= input_data, outputs=output,name=\"safekerasmodel2-test\", l2_norm_clip = 1.1, noise_multiplier=0.6)\n",
    "safeKerasModel2.optimizer=tensorflow_privacy.DPKerasAdamOptimizer\n",
    "safeKerasModel2.compile(loss=loss)\n",
    "safeKerasModel2.l2_norm_clip = 1.1\n",
    "safeKerasModel2.noise_multiplier = 0.6\n",
    "safeKerasModel2.fit(Xt_member, \n",
    "                    yt_member, \n",
    "                    validation_data=(Xt_nonmember, yt_nonmember),\n",
    "                    epochs=epochs, \n",
    "                    batch_size=batch_size)\n",
    "\n",
    "safeKerasModel2.save(\"safe2.hd5\")\n",
    "safeKerasModel2.preliminary_check()\n",
    "safeKerasModel2.request_release(filename=\"safe2.hd5\")"
   ]
  },
  {
   "cell_type": "markdown",
   "metadata": {},
   "source": [
    "## Test 3 - researcher changes string params unsafely\n",
    "Expected result:\n",
    "\n",
    "WARNING: model parameters may present a disclosure risk:\n",
    "- parameter l2_norm_clip = 0.8 identified as less than the recommended min value of 1.0.\n",
    "Changed parameter l2_norm_clip = 1.0.\n"
   ]
  },
  {
   "cell_type": "code",
   "execution_count": 24,
   "metadata": {
    "scrolled": false
   },
   "outputs": [
    {
     "name": "stdout",
     "output_type": "stream",
     "text": [
      "\n",
      "***Test 3: researcher changes params unsafely\n",
      "WARNING: model parameters may present a disclosure risk:\n",
      "- parameter l2_norm_clip = 0.8 identified as less than the recommended min value of 1.0.\n",
      "Changed parameter l2_norm_clip = 1.0.\n",
      "- parameter noise_multiplier = 0.5 identified as less than the recommended min value of 0.7.\n",
      "Changed parameter noise_multiplier = 0.7.\n",
      "\n",
      "Changed parameter optimizer = 'DPKerasSGDOptimizer'\n",
      "DP optimizer used = False\n",
      "optimizer has been changed but fit() has not been rerun.\n",
      "(250, 300)\n",
      "DP-SGD with sampling rate = 10% and noise_multiplier = 0.7 iterated over 200 steps satisfies differential privacy with eps = 23.1 and delta = 1e-05.\n",
      "The optimal RDP order is 2.0.\n",
      "Current epsilon is 23.09099569905857\n",
      "The requirements for DP are not met, current epsilon is: 23.09099569905857. To attain true DP the following parameters can be changed:  Num Samples = 250, batch_size = 25, epochs = 20\n",
      "This will not result in a Differentially Private model do you want to continue [Y/N]y\n",
      "Continuing\n",
      "Epoch 1/20\n",
      "10/10 [==============================] - 3s 103ms/step - loss: 14772.0908 - accuracy: 0.6000 - val_loss: 30532.1934 - val_accuracy: 0.4680\n",
      "Epoch 2/20\n",
      "10/10 [==============================] - 0s 36ms/step - loss: 14051.3975 - accuracy: 0.6240 - val_loss: 30392.7148 - val_accuracy: 0.4840\n",
      "Epoch 3/20\n",
      "10/10 [==============================] - 0s 36ms/step - loss: 13524.1650 - accuracy: 0.6240 - val_loss: 30124.8359 - val_accuracy: 0.4800\n",
      "Epoch 4/20\n",
      "10/10 [==============================] - 0s 38ms/step - loss: 13070.9160 - accuracy: 0.6160 - val_loss: 29776.7676 - val_accuracy: 0.4880\n",
      "Epoch 5/20\n",
      "10/10 [==============================] - 0s 43ms/step - loss: 12743.3545 - accuracy: 0.6360 - val_loss: 29560.9570 - val_accuracy: 0.4800\n",
      "Epoch 6/20\n",
      "10/10 [==============================] - 0s 41ms/step - loss: 12400.6719 - accuracy: 0.6360 - val_loss: 29656.4023 - val_accuracy: 0.4920\n",
      "Epoch 7/20\n",
      "10/10 [==============================] - 0s 43ms/step - loss: 12045.7988 - accuracy: 0.6360 - val_loss: 29474.2754 - val_accuracy: 0.4800\n",
      "Epoch 8/20\n",
      "10/10 [==============================] - 0s 36ms/step - loss: 11702.8877 - accuracy: 0.6400 - val_loss: 29481.2715 - val_accuracy: 0.4840\n",
      "Epoch 9/20\n",
      "10/10 [==============================] - 0s 41ms/step - loss: 11443.8193 - accuracy: 0.6440 - val_loss: 29131.8555 - val_accuracy: 0.4800\n",
      "Epoch 10/20\n",
      "10/10 [==============================] - 0s 41ms/step - loss: 11049.2021 - accuracy: 0.6440 - val_loss: 28834.0703 - val_accuracy: 0.4720\n",
      "Epoch 11/20\n",
      "10/10 [==============================] - 0s 36ms/step - loss: 10790.3330 - accuracy: 0.6480 - val_loss: 28857.2832 - val_accuracy: 0.4800\n",
      "Epoch 12/20\n",
      "10/10 [==============================] - 0s 39ms/step - loss: 10498.1172 - accuracy: 0.6680 - val_loss: 28798.5273 - val_accuracy: 0.4760\n",
      "Epoch 13/20\n",
      "10/10 [==============================] - 0s 39ms/step - loss: 10318.4277 - accuracy: 0.6640 - val_loss: 28826.5371 - val_accuracy: 0.4840\n",
      "Epoch 14/20\n",
      "10/10 [==============================] - 0s 42ms/step - loss: 10236.5391 - accuracy: 0.6520 - val_loss: 28490.4609 - val_accuracy: 0.4800\n",
      "Epoch 15/20\n",
      "10/10 [==============================] - 0s 39ms/step - loss: 9912.0459 - accuracy: 0.6680 - val_loss: 28419.6582 - val_accuracy: 0.4800\n",
      "Epoch 16/20\n",
      "10/10 [==============================] - 0s 36ms/step - loss: 9742.8369 - accuracy: 0.6720 - val_loss: 28098.2559 - val_accuracy: 0.4760\n",
      "Epoch 17/20\n",
      "10/10 [==============================] - 0s 42ms/step - loss: 9382.3164 - accuracy: 0.6560 - val_loss: 27839.1934 - val_accuracy: 0.4680\n",
      "Epoch 18/20\n",
      "10/10 [==============================] - 0s 41ms/step - loss: 9163.5352 - accuracy: 0.6800 - val_loss: 27894.6875 - val_accuracy: 0.4720\n",
      "Epoch 19/20\n",
      "10/10 [==============================] - 0s 40ms/step - loss: 8869.2100 - accuracy: 0.6760 - val_loss: 27566.7559 - val_accuracy: 0.4720\n",
      "Epoch 20/20\n",
      "10/10 [==============================] - 0s 36ms/step - loss: 8686.0986 - accuracy: 0.6720 - val_loss: 27385.6641 - val_accuracy: 0.4720\n",
      "INFO:tensorflow:Assets written to: unsafe3.hd5/assets\n",
      "Model parameters are within recommended ranges.\n",
      "\n",
      "INFO:tensorflow:Assets written to: unsafe3.hd5/assets\n"
     ]
    },
    {
     "name": "stderr",
     "output_type": "stream",
     "text": [
      "_obj_reference_counts_dict cannot be copied\n",
      "...<class 'TypeError'> error; cannot pickle '_thread.RLock' object\n",
      "_thread_local cannot be copied\n",
      "...<class 'TypeError'> error; cannot pickle '_thread._local' object\n",
      "_metrics_lock cannot be copied\n",
      "...<class 'TypeError'> error; cannot pickle '_thread.lock' object\n"
     ]
    },
    {
     "name": "stdout",
     "output_type": "stream",
     "text": [
      "INFO:tensorflow:Assets written to: ram://c101e833-881d-4752-b069-813c3b8f020d/assets\n"
     ]
    },
    {
     "name": "stderr",
     "output_type": "stream",
     "text": [
      "_trackable_saver cannot be copied\n",
      "...<class 'ValueError'> error; Unknown optimizer: DPOptimizerClass. Please ensure this object is passed to the `custom_objects` argument. See https://www.tensorflow.org/guide/keras/save_and_serialize#registering_the_custom_object for details.\n",
      "_self_unconditional_checkpoint_dependencies cannot be copied\n",
      "...<class 'TypeError'> error; cannot pickle '_thread.RLock' object\n",
      "_self_unconditional_dependency_names cannot be copied\n",
      "...<class 'TypeError'> error; cannot pickle '_thread.RLock' object\n",
      "compiled_loss cannot be copied\n",
      "...<class 'TypeError'> error; cannot pickle '_thread.RLock' object\n",
      "compiled_metrics cannot be copied\n",
      "...<class 'TypeError'> error; cannot pickle '_thread.RLock' object\n"
     ]
    },
    {
     "name": "stdout",
     "output_type": "stream",
     "text": [
      "INFO:tensorflow:Assets written to: ram://181a85c2-129a-4b0b-b04b-c3995fc09036/assets\n"
     ]
    },
    {
     "name": "stderr",
     "output_type": "stream",
     "text": [
      "history cannot be copied\n",
      "...<class 'ValueError'> error; Unknown optimizer: DPOptimizerClass. Please ensure this object is passed to the `custom_objects` argument. See https://www.tensorflow.org/guide/keras/save_and_serialize#registering_the_custom_object for details.\n",
      "train_function cannot be copied\n",
      "...<class 'TypeError'> error; cannot pickle '_thread.RLock' object\n",
      "test_function cannot be copied\n",
      "...<class 'TypeError'> error; cannot pickle '_thread.RLock' object\n",
      "train_tf_function cannot be copied\n",
      "...<class 'TypeError'> error; cannot pickle '_thread.RLock' object\n"
     ]
    },
    {
     "name": "stdout",
     "output_type": "stream",
     "text": [
      "<tensorflow_privacy.privacy.optimizers.dp_optimizer_keras.make_keras_optimizer_class.<locals>.DPOptimizerClass object at 0x7f7191448460>\n",
      "<tensorflow_privacy.privacy.optimizers.dp_optimizer_keras.make_keras_optimizer_class.<locals>.DPOptimizerClass object at 0x7f7191448460>\n",
      "DP-SGD with sampling rate = 10% and noise_multiplier = 0.7 iterated over 200 steps satisfies differential privacy with eps = 23.1 and delta = 1e-05.\n",
      "The optimal RDP order is 2.0.\n"
     ]
    }
   ],
   "source": [
    "importlib.reload(safemodel.safemodel)\n",
    "importlib.reload(safemodel.classifiers.safekeras)\n",
    "from safemodel.classifiers.safekeras import Safe_KerasModel\n",
    "\n",
    "# change one model params in an unsafe way\n",
    "print(\"\\n***Test 3: researcher changes params unsafely\")\n",
    "safeKerasModel3 = Safe_KerasModel(inputs= input_data, outputs=output,name=\"safekerasmodel3-test\", l2_norm_clip = 0.8)\n",
    "safeKerasModel3.compile(loss=loss)\n",
    "#safeKerasModel3.optimizer=\"Adam\"\n",
    "safeKerasModel3.fit(Xt_member, \n",
    "                    yt_member, \n",
    "                    validation_data=(Xt_nonmember, yt_nonmember),\n",
    "                    epochs=epochs, \n",
    "                    batch_size=batch_size)\n",
    "safeKerasModel3.save(\"unsafe3.hd5\")\n",
    "safeKerasModel3.preliminary_check()\n",
    "safeKerasModel3.request_release(filename=\"unsafe3.hd5\")"
   ]
  },
  {
   "cell_type": "markdown",
   "metadata": {},
   "source": [
    "## Test 3 - researcher changes string params unsafely\n",
    "Input delta = -1 \n",
    "\n",
    "Expected Result:\n",
    "\n",
    "WARNING: model parameters may present a disclosure risk:\n",
    "- parameter delta = -1 identified as less than the recommended min value of 1e-05.\n",
    "Changed parameter delta = 1e-05."
   ]
  },
  {
   "cell_type": "code",
   "execution_count": 25,
   "metadata": {},
   "outputs": [
    {
     "name": "stdout",
     "output_type": "stream",
     "text": [
      "\n",
      "***Test 3: researcher changes string params unsafely\n",
      "WARNING: model parameters may present a disclosure risk:\n",
      "- parameter noise_multiplier = 0.5 identified as less than the recommended min value of 0.7.\n",
      "Changed parameter noise_multiplier = 0.7.\n",
      "- parameter delta = -1 identified as less than the recommended min value of 1e-05.\n",
      "Changed parameter delta = 1e-05.\n",
      "\n",
      "Changed parameter optimizer = 'DPKerasSGDOptimizer'\n",
      "DP optimizer used = False\n",
      "optimizer has been changed but fit() has not been rerun.\n",
      "(250, 300)\n",
      "DP-SGD with sampling rate = 10% and noise_multiplier = 0.7 iterated over 200 steps satisfies differential privacy with eps = 23.1 and delta = 1e-05.\n",
      "The optimal RDP order is 2.0.\n",
      "Current epsilon is 23.09099569905857\n",
      "The requirements for DP are not met, current epsilon is: 23.09099569905857. To attain true DP the following parameters can be changed:  Num Samples = 250, batch_size = 25, epochs = 20\n",
      "This will not result in a Differentially Private model do you want to continue [Y/N]y\n",
      "Continuing\n",
      "Epoch 1/20\n",
      "10/10 [==============================] - 3s 54ms/step - loss: 8589.9395 - accuracy: 0.6840 - val_loss: 27235.5039 - val_accuracy: 0.4800\n",
      "Epoch 2/20\n",
      "10/10 [==============================] - 0s 36ms/step - loss: 8474.2334 - accuracy: 0.6800 - val_loss: 27598.7871 - val_accuracy: 0.4800\n",
      "Epoch 3/20\n",
      "10/10 [==============================] - 0s 32ms/step - loss: 8360.5449 - accuracy: 0.6760 - val_loss: 27341.9551 - val_accuracy: 0.4760\n",
      "Epoch 4/20\n",
      "10/10 [==============================] - 0s 35ms/step - loss: 8268.9980 - accuracy: 0.6880 - val_loss: 27428.9531 - val_accuracy: 0.4720\n",
      "Epoch 5/20\n",
      "10/10 [==============================] - 0s 37ms/step - loss: 8044.0684 - accuracy: 0.7080 - val_loss: 27396.8145 - val_accuracy: 0.4760\n",
      "Epoch 6/20\n",
      "10/10 [==============================] - 0s 42ms/step - loss: 7848.5088 - accuracy: 0.7160 - val_loss: 27462.7227 - val_accuracy: 0.4720\n",
      "Epoch 7/20\n",
      "10/10 [==============================] - 0s 43ms/step - loss: 7621.1470 - accuracy: 0.7120 - val_loss: 27144.2168 - val_accuracy: 0.4640\n",
      "Epoch 8/20\n",
      "10/10 [==============================] - 0s 42ms/step - loss: 7539.4604 - accuracy: 0.7080 - val_loss: 27190.7227 - val_accuracy: 0.4680\n",
      "Epoch 9/20\n",
      "10/10 [==============================] - 0s 41ms/step - loss: 7369.4668 - accuracy: 0.7160 - val_loss: 27225.7949 - val_accuracy: 0.4640\n",
      "Epoch 10/20\n",
      "10/10 [==============================] - 1s 121ms/step - loss: 7274.5752 - accuracy: 0.7120 - val_loss: 27388.2402 - val_accuracy: 0.4880\n",
      "Epoch 11/20\n",
      "10/10 [==============================] - 0s 39ms/step - loss: 7054.5957 - accuracy: 0.7280 - val_loss: 27314.0508 - val_accuracy: 0.4720\n",
      "Epoch 12/20\n",
      "10/10 [==============================] - 0s 41ms/step - loss: 6998.0674 - accuracy: 0.7360 - val_loss: 27278.0547 - val_accuracy: 0.4720\n",
      "Epoch 13/20\n",
      "10/10 [==============================] - 0s 41ms/step - loss: 6842.4756 - accuracy: 0.7400 - val_loss: 27340.2324 - val_accuracy: 0.4800\n",
      "Epoch 14/20\n",
      "10/10 [==============================] - 0s 40ms/step - loss: 6878.5815 - accuracy: 0.7480 - val_loss: 27250.5020 - val_accuracy: 0.4720\n",
      "Epoch 15/20\n",
      "10/10 [==============================] - 0s 43ms/step - loss: 6632.7554 - accuracy: 0.7480 - val_loss: 27195.0000 - val_accuracy: 0.4680\n",
      "Epoch 16/20\n",
      "10/10 [==============================] - 0s 35ms/step - loss: 6633.0586 - accuracy: 0.7520 - val_loss: 27405.9961 - val_accuracy: 0.4680\n",
      "Epoch 17/20\n",
      "10/10 [==============================] - 0s 41ms/step - loss: 6549.6226 - accuracy: 0.7400 - val_loss: 27446.2363 - val_accuracy: 0.4760\n",
      "Epoch 18/20\n",
      "10/10 [==============================] - 0s 37ms/step - loss: 6569.6636 - accuracy: 0.7400 - val_loss: 27496.5703 - val_accuracy: 0.4800\n",
      "Epoch 19/20\n",
      "10/10 [==============================] - 0s 39ms/step - loss: 6522.3154 - accuracy: 0.7440 - val_loss: 27300.9746 - val_accuracy: 0.4680\n",
      "Epoch 20/20\n",
      "10/10 [==============================] - 0s 40ms/step - loss: 6431.8433 - accuracy: 0.7480 - val_loss: 27259.3613 - val_accuracy: 0.4760\n",
      "INFO:tensorflow:Assets written to: unsafe3.hd5/assets\n",
      "Model parameters are within recommended ranges.\n",
      "\n",
      "INFO:tensorflow:Assets written to: unsafe3.hd5/assets\n"
     ]
    },
    {
     "name": "stderr",
     "output_type": "stream",
     "text": [
      "_obj_reference_counts_dict cannot be copied\n",
      "...<class 'TypeError'> error; cannot pickle '_thread.RLock' object\n",
      "_thread_local cannot be copied\n",
      "...<class 'TypeError'> error; cannot pickle '_thread._local' object\n",
      "_metrics_lock cannot be copied\n",
      "...<class 'TypeError'> error; cannot pickle '_thread.lock' object\n"
     ]
    },
    {
     "name": "stdout",
     "output_type": "stream",
     "text": [
      "INFO:tensorflow:Assets written to: ram://46507319-1fe2-40c2-bf5c-dfbab3fba2ae/assets\n"
     ]
    },
    {
     "name": "stderr",
     "output_type": "stream",
     "text": [
      "_trackable_saver cannot be copied\n",
      "...<class 'ValueError'> error; Unknown optimizer: DPOptimizerClass. Please ensure this object is passed to the `custom_objects` argument. See https://www.tensorflow.org/guide/keras/save_and_serialize#registering_the_custom_object for details.\n",
      "_self_unconditional_checkpoint_dependencies cannot be copied\n",
      "...<class 'TypeError'> error; cannot pickle '_thread.RLock' object\n",
      "_self_unconditional_dependency_names cannot be copied\n",
      "...<class 'TypeError'> error; cannot pickle '_thread.RLock' object\n",
      "compiled_loss cannot be copied\n",
      "...<class 'TypeError'> error; cannot pickle '_thread.RLock' object\n",
      "compiled_metrics cannot be copied\n",
      "...<class 'TypeError'> error; cannot pickle '_thread.RLock' object\n"
     ]
    },
    {
     "name": "stdout",
     "output_type": "stream",
     "text": [
      "INFO:tensorflow:Assets written to: ram://b4e63d62-a053-49e4-a7f1-130ecec4ad8b/assets\n"
     ]
    },
    {
     "name": "stderr",
     "output_type": "stream",
     "text": [
      "history cannot be copied\n",
      "...<class 'ValueError'> error; Unknown optimizer: DPOptimizerClass. Please ensure this object is passed to the `custom_objects` argument. See https://www.tensorflow.org/guide/keras/save_and_serialize#registering_the_custom_object for details.\n",
      "train_function cannot be copied\n",
      "...<class 'TypeError'> error; cannot pickle '_thread.RLock' object\n",
      "test_function cannot be copied\n",
      "...<class 'TypeError'> error; cannot pickle '_thread.RLock' object\n",
      "train_tf_function cannot be copied\n",
      "...<class 'TypeError'> error; cannot pickle '_thread.RLock' object\n"
     ]
    },
    {
     "name": "stdout",
     "output_type": "stream",
     "text": [
      "<tensorflow_privacy.privacy.optimizers.dp_optimizer_keras.make_keras_optimizer_class.<locals>.DPOptimizerClass object at 0x7f7192808400>\n",
      "<tensorflow_privacy.privacy.optimizers.dp_optimizer_keras.make_keras_optimizer_class.<locals>.DPOptimizerClass object at 0x7f7192808400>\n",
      "DP-SGD with sampling rate = 10% and noise_multiplier = 0.7 iterated over 200 steps satisfies differential privacy with eps = 23.1 and delta = 1e-05.\n",
      "The optimal RDP order is 2.0.\n"
     ]
    }
   ],
   "source": [
    "# change another model params in an  unsafe way\n",
    "importlib.reload(safemodel.safemodel)\n",
    "importlib.reload(safemodel.classifiers.safekeras)\n",
    "from safemodel.classifiers.safekeras import Safe_KerasModel\n",
    "\n",
    "print(\"\\n***Test 3: researcher changes string params unsafely\")\n",
    "safeKerasModel4 = Safe_KerasModel(inputs= input_data, outputs=output,name=\"safekerasmodel3-test\", delta=-1)\n",
    "safeKerasModel4.compile(loss=loss)\n",
    "#safeKerasModel3.optimizer=\"Adam\"\n",
    "safeKerasModel4.fit(Xt_member, \n",
    "                    yt_member, \n",
    "                    validation_data=(Xt_nonmember, yt_nonmember),\n",
    "                    epochs=epochs, \n",
    "                    batch_size=batch_size)\n",
    "safeKerasModel4.save(\"unsafe3.hd5\")\n",
    "safeKerasModel4.preliminary_check()\n",
    "safeKerasModel4.request_release(filename=\"unsafe3.hd5\")"
   ]
  },
  {
   "cell_type": "markdown",
   "metadata": {},
   "source": [
    "## Test 5: researcher changes params unsafely\n",
    "input: l2_norm_clip=0.9, noise_multipier=0.4, min_epsilon=9,delta=-1\n",
    "\n",
    "Expected Result:\n",
    "\n",
    "WARNING: model parameters may present a disclosure risk:\n",
    "- parameter l2_norm_clip = 0.9 identified as less than the recommended min value of 1.0.\n",
    "Changed parameter l2_norm_clip = 1.0.\n",
    "- parameter min_epsilon = 9 identified as less than the recommended min value of 10.\n",
    "Changed parameter min_epsilon = 10.\n",
    "- parameter delta = -1 identified as less than the recommended min value of 1e-05.\n",
    "Changed parameter delta = 1e-05."
   ]
  },
  {
   "cell_type": "code",
   "execution_count": 26,
   "metadata": {
    "scrolled": true
   },
   "outputs": [
    {
     "name": "stdout",
     "output_type": "stream",
     "text": [
      "\n",
      "***Test 5: researcher changes string and numeric params unsafely\n",
      "WARNING: model parameters may present a disclosure risk:\n",
      "- parameter l2_norm_clip = 0.9 identified as less than the recommended min value of 1.0.\n",
      "Changed parameter l2_norm_clip = 1.0.\n",
      "- parameter noise_multiplier = 0.5 identified as less than the recommended min value of 0.7.\n",
      "Changed parameter noise_multiplier = 0.7.\n",
      "- parameter delta = -1 identified as less than the recommended min value of 1e-05.\n",
      "Changed parameter delta = 1e-05.\n",
      "\n",
      "Changed parameter optimizer = 'DPKerasSGDOptimizer'\n",
      "DP optimizer used = False\n",
      "optimizer has been changed but fit() has not been rerun.\n",
      "(250, 300)\n",
      "DP-SGD with sampling rate = 10% and noise_multiplier = 0.7 iterated over 200 steps satisfies differential privacy with eps = 23.1 and delta = 1e-05.\n",
      "The optimal RDP order is 2.0.\n",
      "Current epsilon is 23.09099569905857\n",
      "The requirements for DP are not met, current epsilon is: 23.09099569905857. To attain true DP the following parameters can be changed:  Num Samples = 250, batch_size = 25, epochs = 20\n",
      "This will not result in a Differentially Private model do you want to continue [Y/N]y\n",
      "Continuing\n",
      "Epoch 1/20\n",
      "10/10 [==============================] - 3s 57ms/step - loss: 6256.1294 - accuracy: 0.7520 - val_loss: 27479.2402 - val_accuracy: 0.4680\n",
      "Epoch 2/20\n",
      "10/10 [==============================] - 0s 40ms/step - loss: 6214.1992 - accuracy: 0.7560 - val_loss: 27506.7832 - val_accuracy: 0.4720\n",
      "Epoch 3/20\n",
      "10/10 [==============================] - 0s 36ms/step - loss: 6047.7754 - accuracy: 0.7400 - val_loss: 27167.7168 - val_accuracy: 0.4640\n",
      "Epoch 4/20\n",
      "10/10 [==============================] - 0s 35ms/step - loss: 6028.5713 - accuracy: 0.7520 - val_loss: 27242.6621 - val_accuracy: 0.4680\n",
      "Epoch 5/20\n",
      "10/10 [==============================] - 0s 37ms/step - loss: 5920.5259 - accuracy: 0.7560 - val_loss: 27178.9023 - val_accuracy: 0.4680\n",
      "Epoch 6/20\n",
      "10/10 [==============================] - 0s 39ms/step - loss: 5664.7700 - accuracy: 0.7520 - val_loss: 27607.9453 - val_accuracy: 0.4880\n",
      "Epoch 7/20\n",
      "10/10 [==============================] - 0s 38ms/step - loss: 5630.0830 - accuracy: 0.7520 - val_loss: 26989.8086 - val_accuracy: 0.4760\n",
      "Epoch 8/20\n",
      "10/10 [==============================] - 0s 37ms/step - loss: 5586.3525 - accuracy: 0.7640 - val_loss: 26864.1230 - val_accuracy: 0.4640\n",
      "Epoch 9/20\n",
      "10/10 [==============================] - 0s 36ms/step - loss: 5501.8452 - accuracy: 0.7480 - val_loss: 26644.1328 - val_accuracy: 0.4560\n",
      "Epoch 10/20\n",
      "10/10 [==============================] - 0s 39ms/step - loss: 5375.7617 - accuracy: 0.7520 - val_loss: 27018.7266 - val_accuracy: 0.4760\n",
      "Epoch 11/20\n",
      "10/10 [==============================] - 1s 129ms/step - loss: 5237.4951 - accuracy: 0.7720 - val_loss: 26689.6836 - val_accuracy: 0.4640\n",
      "Epoch 12/20\n",
      "10/10 [==============================] - 0s 35ms/step - loss: 5141.4229 - accuracy: 0.7680 - val_loss: 26553.9102 - val_accuracy: 0.4600\n",
      "Epoch 13/20\n",
      "10/10 [==============================] - 0s 41ms/step - loss: 5072.1968 - accuracy: 0.7600 - val_loss: 26614.9785 - val_accuracy: 0.4640\n",
      "Epoch 14/20\n",
      "10/10 [==============================] - 0s 37ms/step - loss: 4999.8101 - accuracy: 0.7680 - val_loss: 26402.1348 - val_accuracy: 0.4600\n",
      "Epoch 15/20\n",
      "10/10 [==============================] - 0s 35ms/step - loss: 4873.5474 - accuracy: 0.7880 - val_loss: 26376.7637 - val_accuracy: 0.4520\n",
      "Epoch 16/20\n",
      "10/10 [==============================] - 0s 41ms/step - loss: 4710.8042 - accuracy: 0.7680 - val_loss: 26287.9844 - val_accuracy: 0.4520\n",
      "Epoch 17/20\n",
      "10/10 [==============================] - 0s 41ms/step - loss: 4700.5874 - accuracy: 0.7560 - val_loss: 26280.7754 - val_accuracy: 0.4560\n",
      "Epoch 18/20\n",
      "10/10 [==============================] - 0s 42ms/step - loss: 4539.0825 - accuracy: 0.7600 - val_loss: 26404.6250 - val_accuracy: 0.4600\n",
      "Epoch 19/20\n",
      "10/10 [==============================] - 0s 37ms/step - loss: 4549.8965 - accuracy: 0.7840 - val_loss: 26487.3242 - val_accuracy: 0.4640\n",
      "Epoch 20/20\n",
      "10/10 [==============================] - 0s 42ms/step - loss: 4481.8184 - accuracy: 0.8000 - val_loss: 26299.0645 - val_accuracy: 0.4680\n",
      "INFO:tensorflow:Assets written to: unsafe4.hd5/assets\n",
      "Model parameters are within recommended ranges.\n",
      "\n",
      "INFO:tensorflow:Assets written to: unsafe4.hd5/assets\n"
     ]
    },
    {
     "name": "stderr",
     "output_type": "stream",
     "text": [
      "_obj_reference_counts_dict cannot be copied\n",
      "...<class 'TypeError'> error; cannot pickle '_thread.RLock' object\n",
      "_thread_local cannot be copied\n",
      "...<class 'TypeError'> error; cannot pickle '_thread._local' object\n",
      "_metrics_lock cannot be copied\n",
      "...<class 'TypeError'> error; cannot pickle '_thread.lock' object\n"
     ]
    },
    {
     "name": "stdout",
     "output_type": "stream",
     "text": [
      "INFO:tensorflow:Assets written to: ram://fd951a48-fb09-49d6-a77e-aca0c14deb4d/assets\n"
     ]
    },
    {
     "name": "stderr",
     "output_type": "stream",
     "text": [
      "_trackable_saver cannot be copied\n",
      "...<class 'ValueError'> error; Unknown optimizer: DPOptimizerClass. Please ensure this object is passed to the `custom_objects` argument. See https://www.tensorflow.org/guide/keras/save_and_serialize#registering_the_custom_object for details.\n",
      "_self_unconditional_checkpoint_dependencies cannot be copied\n",
      "...<class 'TypeError'> error; cannot pickle '_thread.RLock' object\n",
      "_self_unconditional_dependency_names cannot be copied\n",
      "...<class 'TypeError'> error; cannot pickle '_thread.RLock' object\n",
      "compiled_loss cannot be copied\n",
      "...<class 'TypeError'> error; cannot pickle '_thread.RLock' object\n",
      "compiled_metrics cannot be copied\n",
      "...<class 'TypeError'> error; cannot pickle '_thread.RLock' object\n"
     ]
    },
    {
     "name": "stdout",
     "output_type": "stream",
     "text": [
      "INFO:tensorflow:Assets written to: ram://faf53410-79f5-4c78-9d22-80c62cdb141d/assets\n"
     ]
    },
    {
     "name": "stderr",
     "output_type": "stream",
     "text": [
      "history cannot be copied\n",
      "...<class 'ValueError'> error; Unknown optimizer: DPOptimizerClass. Please ensure this object is passed to the `custom_objects` argument. See https://www.tensorflow.org/guide/keras/save_and_serialize#registering_the_custom_object for details.\n",
      "train_function cannot be copied\n",
      "...<class 'TypeError'> error; cannot pickle '_thread.RLock' object\n",
      "test_function cannot be copied\n",
      "...<class 'TypeError'> error; cannot pickle '_thread.RLock' object\n",
      "train_tf_function cannot be copied\n",
      "...<class 'TypeError'> error; cannot pickle '_thread.RLock' object\n"
     ]
    },
    {
     "name": "stdout",
     "output_type": "stream",
     "text": [
      "<tensorflow_privacy.privacy.optimizers.dp_optimizer_keras.make_keras_optimizer_class.<locals>.DPOptimizerClass object at 0x7f718f28e130>\n",
      "<tensorflow_privacy.privacy.optimizers.dp_optimizer_keras.make_keras_optimizer_class.<locals>.DPOptimizerClass object at 0x7f718f28e130>\n",
      "DP-SGD with sampling rate = 10% and noise_multiplier = 0.7 iterated over 200 steps satisfies differential privacy with eps = 23.1 and delta = 1e-05.\n",
      "The optimal RDP order is 2.0.\n"
     ]
    }
   ],
   "source": [
    "# change another model params in an  unsafe way\n",
    "print(\"\\n***Test 5: researcher changes string and numeric params unsafely\")\n",
    "\n",
    "importlib.reload(safemodel.safemodel)\n",
    "importlib.reload(safemodel.classifiers.safekeras)\n",
    "from safemodel.classifiers.safekeras import Safe_KerasModel\n",
    "\n",
    "\n",
    "safeKerasModel4 = Safe_KerasModel(inputs= input_data, outputs=output,name=\"safekerasmodel3-test\", l2_norm_clip=0.9, noise_multipier=0.4, min_epsilon=9,delta=-1)\n",
    "safeKerasModel4.compile(loss=loss)\n",
    "safeKerasModel4.fit(Xt_member, \n",
    "                    yt_member, \n",
    "                    validation_data=(Xt_nonmember, yt_nonmember),\n",
    "                    epochs=epochs, \n",
    "                    batch_size=batch_size)\n",
    "safeKerasModel4.save(\"unsafe4.hd5\")\n",
    "safeKerasModel4.preliminary_check()\n",
    "safeKerasModel4.request_release(filename=\"unsafe4.hd5\")"
   ]
  },
  {
   "cell_type": "markdown",
   "metadata": {},
   "source": [
    "## Test 6 researcher changes params unsafely\n",
    "\n",
    "Expected result:\n",
    "\n",
    "Input optimizer = wobble\n",
    "\n",
    "WARNING: model parameters may present a disclosure risk\n",
    "Unknown optimizer wobble - Changed parameter optimizer = 'DPKerasSGDOptimizer'"
   ]
  },
  {
   "cell_type": "code",
   "execution_count": 27,
   "metadata": {},
   "outputs": [
    {
     "name": "stdout",
     "output_type": "stream",
     "text": [
      "\n",
      "***Test 6: researcher changes string and numeric params unsafely\n",
      "WARNING: model parameters may present a disclosure risk:\n",
      "- parameter noise_multiplier = 0.5 identified as less than the recommended min value of 0.7.\n",
      "Changed parameter noise_multiplier = 0.7.\n",
      "\n",
      "WARNING: model parameters may present a disclosure risk\n",
      "Unknown optimizer wobble - Changed parameter optimizer = 'DPKerasSGDOptimizer'\n",
      "DP optimizer used = False\n",
      "optimizer has been changed but fit() has not been rerun.\n",
      "(250, 300)\n",
      "DP-SGD with sampling rate = 10% and noise_multiplier = 0.7 iterated over 200 steps satisfies differential privacy with eps = 23.1 and delta = 1e-05.\n",
      "The optimal RDP order is 2.0.\n",
      "Current epsilon is 23.09099569905857\n",
      "The requirements for DP are not met, current epsilon is: 23.09099569905857. To attain true DP the following parameters can be changed:  Num Samples = 250, batch_size = 25, epochs = 20\n",
      "This will not result in a Differentially Private model do you want to continue [Y/N]y\n",
      "Continuing\n",
      "Epoch 1/20\n",
      "10/10 [==============================] - 3s 53ms/step - loss: 4393.3867 - accuracy: 0.8040 - val_loss: 26157.5684 - val_accuracy: 0.4600\n",
      "Epoch 2/20\n",
      "10/10 [==============================] - 0s 39ms/step - loss: 4402.0024 - accuracy: 0.8080 - val_loss: 26293.5781 - val_accuracy: 0.4520\n",
      "Epoch 3/20\n",
      "10/10 [==============================] - 0s 38ms/step - loss: 4290.8242 - accuracy: 0.8080 - val_loss: 26064.6914 - val_accuracy: 0.4640\n",
      "Epoch 4/20\n",
      "10/10 [==============================] - 0s 39ms/step - loss: 4395.1904 - accuracy: 0.7880 - val_loss: 26217.4980 - val_accuracy: 0.4480\n",
      "Epoch 5/20\n",
      "10/10 [==============================] - 0s 37ms/step - loss: 4253.9692 - accuracy: 0.8200 - val_loss: 26326.1328 - val_accuracy: 0.4600\n",
      "Epoch 6/20\n",
      "10/10 [==============================] - 0s 37ms/step - loss: 4208.9727 - accuracy: 0.8040 - val_loss: 26247.5879 - val_accuracy: 0.4520\n",
      "Epoch 7/20\n",
      "10/10 [==============================] - 0s 38ms/step - loss: 4185.0654 - accuracy: 0.7960 - val_loss: 26319.9902 - val_accuracy: 0.4640\n",
      "Epoch 8/20\n",
      "10/10 [==============================] - 0s 42ms/step - loss: 4181.7583 - accuracy: 0.7840 - val_loss: 26143.6562 - val_accuracy: 0.4640\n",
      "Epoch 9/20\n",
      "10/10 [==============================] - 0s 37ms/step - loss: 4127.9780 - accuracy: 0.7880 - val_loss: 26341.5254 - val_accuracy: 0.4640\n",
      "Epoch 10/20\n",
      "10/10 [==============================] - 0s 36ms/step - loss: 4127.4116 - accuracy: 0.8000 - val_loss: 26117.5723 - val_accuracy: 0.4640\n",
      "Epoch 11/20\n",
      "10/10 [==============================] - 0s 39ms/step - loss: 4115.8379 - accuracy: 0.7880 - val_loss: 26191.6523 - val_accuracy: 0.4640\n",
      "Epoch 12/20\n",
      "10/10 [==============================] - 0s 36ms/step - loss: 4021.0054 - accuracy: 0.7960 - val_loss: 25957.6836 - val_accuracy: 0.4640\n",
      "Epoch 13/20\n",
      "10/10 [==============================] - 0s 41ms/step - loss: 3933.6147 - accuracy: 0.7880 - val_loss: 25941.7246 - val_accuracy: 0.4600\n",
      "Epoch 14/20\n",
      "10/10 [==============================] - 0s 37ms/step - loss: 3795.0398 - accuracy: 0.8000 - val_loss: 26118.1074 - val_accuracy: 0.4640\n",
      "Epoch 15/20\n",
      "10/10 [==============================] - 0s 40ms/step - loss: 3854.4089 - accuracy: 0.8000 - val_loss: 26055.2441 - val_accuracy: 0.4600\n",
      "Epoch 16/20\n",
      "10/10 [==============================] - 0s 32ms/step - loss: 3848.4514 - accuracy: 0.7880 - val_loss: 26175.4922 - val_accuracy: 0.4640\n",
      "Epoch 17/20\n",
      "10/10 [==============================] - 0s 41ms/step - loss: 3847.9622 - accuracy: 0.7760 - val_loss: 25949.0508 - val_accuracy: 0.4680\n",
      "Epoch 18/20\n",
      "10/10 [==============================] - 0s 32ms/step - loss: 3686.1970 - accuracy: 0.7880 - val_loss: 25994.0195 - val_accuracy: 0.4720\n",
      "Epoch 19/20\n",
      "10/10 [==============================] - 0s 36ms/step - loss: 3640.2156 - accuracy: 0.7840 - val_loss: 25799.3516 - val_accuracy: 0.4640\n",
      "Epoch 20/20\n",
      "10/10 [==============================] - 0s 35ms/step - loss: 3621.3120 - accuracy: 0.7760 - val_loss: 25911.6973 - val_accuracy: 0.4720\n",
      "INFO:tensorflow:Assets written to: unsafe6.hd5/assets\n",
      "Model parameters are within recommended ranges.\n",
      "\n",
      "INFO:tensorflow:Assets written to: unsafe6.hd5/assets\n"
     ]
    },
    {
     "name": "stderr",
     "output_type": "stream",
     "text": [
      "_obj_reference_counts_dict cannot be copied\n",
      "...<class 'TypeError'> error; cannot pickle '_thread.RLock' object\n",
      "_thread_local cannot be copied\n",
      "...<class 'TypeError'> error; cannot pickle '_thread._local' object\n",
      "_metrics_lock cannot be copied\n",
      "...<class 'TypeError'> error; cannot pickle '_thread.lock' object\n"
     ]
    },
    {
     "name": "stdout",
     "output_type": "stream",
     "text": [
      "INFO:tensorflow:Assets written to: ram://f99d3958-943b-46a9-b573-0d3f1047a922/assets\n"
     ]
    },
    {
     "name": "stderr",
     "output_type": "stream",
     "text": [
      "_trackable_saver cannot be copied\n",
      "...<class 'ValueError'> error; Unknown optimizer: DPOptimizerClass. Please ensure this object is passed to the `custom_objects` argument. See https://www.tensorflow.org/guide/keras/save_and_serialize#registering_the_custom_object for details.\n",
      "_self_unconditional_checkpoint_dependencies cannot be copied\n",
      "...<class 'TypeError'> error; cannot pickle '_thread.RLock' object\n",
      "_self_unconditional_dependency_names cannot be copied\n",
      "...<class 'TypeError'> error; cannot pickle '_thread.RLock' object\n",
      "compiled_loss cannot be copied\n",
      "...<class 'TypeError'> error; cannot pickle '_thread.RLock' object\n",
      "compiled_metrics cannot be copied\n",
      "...<class 'TypeError'> error; cannot pickle '_thread.RLock' object\n"
     ]
    },
    {
     "name": "stdout",
     "output_type": "stream",
     "text": [
      "INFO:tensorflow:Assets written to: ram://2d765826-b04b-49d2-924e-fe792cb6ea5f/assets\n"
     ]
    },
    {
     "name": "stderr",
     "output_type": "stream",
     "text": [
      "history cannot be copied\n",
      "...<class 'ValueError'> error; Unknown optimizer: DPOptimizerClass. Please ensure this object is passed to the `custom_objects` argument. See https://www.tensorflow.org/guide/keras/save_and_serialize#registering_the_custom_object for details.\n",
      "train_function cannot be copied\n",
      "...<class 'TypeError'> error; cannot pickle '_thread.RLock' object\n",
      "test_function cannot be copied\n",
      "...<class 'TypeError'> error; cannot pickle '_thread.RLock' object\n",
      "train_tf_function cannot be copied\n",
      "...<class 'TypeError'> error; cannot pickle '_thread.RLock' object\n"
     ]
    },
    {
     "name": "stdout",
     "output_type": "stream",
     "text": [
      "<tensorflow_privacy.privacy.optimizers.dp_optimizer_keras.make_keras_optimizer_class.<locals>.DPOptimizerClass object at 0x7f718f1bc520>\n",
      "<tensorflow_privacy.privacy.optimizers.dp_optimizer_keras.make_keras_optimizer_class.<locals>.DPOptimizerClass object at 0x7f718f1bc520>\n",
      "DP-SGD with sampling rate = 10% and noise_multiplier = 0.7 iterated over 200 steps satisfies differential privacy with eps = 23.1 and delta = 1e-05.\n",
      "The optimal RDP order is 2.0.\n"
     ]
    }
   ],
   "source": [
    "importlib.reload(safemodel.safemodel)\n",
    "importlib.reload(safemodel.classifiers.safekeras)\n",
    "from safemodel.classifiers.safekeras import Safe_KerasModel\n",
    "\n",
    "# change another model params in an  unsafe way but tells preliminary_check() not to overwrite params\n",
    "print(\"\\n***Test 6: researcher changes string and numeric params unsafely\")\n",
    "safeKerasModel6 = Safe_KerasModel(inputs= input_data, outputs=output,name=\"safekerasmodel6-test\", optimizer=\"wobble\")\n",
    "safeKerasModel6.compile(loss=loss)\n",
    "safeKerasModel6.fit(Xt_member, \n",
    "                    yt_member, \n",
    "                    validation_data=(Xt_nonmember, yt_nonmember),\n",
    "                    epochs=epochs, \n",
    "                    batch_size=batch_size)\n",
    "safeKerasModel6.save(\"unsafe6.hd5\")\n",
    "\n",
    "safeKerasModel6.preliminary_check(apply_constraints=False)\n",
    "safeKerasModel6.request_release(filename=\"unsafe6.hd5\")"
   ]
  },
  {
   "cell_type": "markdown",
   "metadata": {},
   "source": [
    "## Test 7 researcher changes params unsafely\n",
    "\n",
    "Inputs:\n",
    "\n",
    "Input optimizer = Adam\n",
    "\n",
    "Expected Result:\n",
    "\n",
    "WARNING: model parameters may present a disclosure risk\n",
    "Changed parameter optimizer = 'DPKerasAdamOptimizer'"
   ]
  },
  {
   "cell_type": "code",
   "execution_count": 28,
   "metadata": {},
   "outputs": [
    {
     "name": "stdout",
     "output_type": "stream",
     "text": [
      "\n",
      "***Test 7: researcher changes string and numeric params unsafely\n",
      "WARNING: model parameters may present a disclosure risk:\n",
      "- parameter noise_multiplier = 0.5 identified as less than the recommended min value of 0.7.\n",
      "Changed parameter noise_multiplier = 0.7.\n",
      "\n",
      "WARNING: model parameters may present a disclosure risk\n",
      "Changed parameter optimizer = 'DPKerasAdamOptimizer'\n",
      "DP optimizer used = False\n",
      "optimizer has been changed but fit() has not been rerun.\n",
      "(250, 300)\n",
      "DP-SGD with sampling rate = 10% and noise_multiplier = 0.7 iterated over 200 steps satisfies differential privacy with eps = 23.1 and delta = 1e-05.\n",
      "The optimal RDP order is 2.0.\n",
      "Current epsilon is 23.09099569905857\n",
      "The requirements for DP are not met, current epsilon is: 23.09099569905857. To attain true DP the following parameters can be changed:  Num Samples = 250, batch_size = 25, epochs = 20\n",
      "This will not result in a Differentially Private model do you want to continue [Y/N]y\n",
      "Continuing\n",
      "Epoch 1/20\n",
      "10/10 [==============================] - 3s 48ms/step - loss: 15962.6572 - accuracy: 0.6280 - val_loss: 40777.2305 - val_accuracy: 0.4760\n",
      "Epoch 2/20\n",
      "10/10 [==============================] - 0s 31ms/step - loss: 25334.9473 - accuracy: 0.6200 - val_loss: 43925.2070 - val_accuracy: 0.4800\n",
      "Epoch 3/20\n",
      "10/10 [==============================] - 0s 31ms/step - loss: 26779.8379 - accuracy: 0.5960 - val_loss: 46809.8242 - val_accuracy: 0.5280\n",
      "Epoch 4/20\n",
      "10/10 [==============================] - 0s 36ms/step - loss: 26627.4414 - accuracy: 0.5880 - val_loss: 46561.5781 - val_accuracy: 0.5080\n",
      "Epoch 5/20\n",
      "10/10 [==============================] - 0s 35ms/step - loss: 27034.5469 - accuracy: 0.6480 - val_loss: 49301.2891 - val_accuracy: 0.5320\n",
      "Epoch 6/20\n",
      "10/10 [==============================] - 0s 38ms/step - loss: 26895.2500 - accuracy: 0.6440 - val_loss: 58790.2070 - val_accuracy: 0.5360\n",
      "Epoch 7/20\n",
      "10/10 [==============================] - 0s 42ms/step - loss: 28416.5840 - accuracy: 0.6120 - val_loss: 47044.4492 - val_accuracy: 0.5600\n",
      "Epoch 8/20\n",
      "10/10 [==============================] - 0s 40ms/step - loss: 22442.4160 - accuracy: 0.6800 - val_loss: 49083.4727 - val_accuracy: 0.5760\n",
      "Epoch 9/20\n",
      "10/10 [==============================] - 0s 41ms/step - loss: 22804.5098 - accuracy: 0.6800 - val_loss: 53050.0195 - val_accuracy: 0.5520\n",
      "Epoch 10/20\n",
      "10/10 [==============================] - 0s 40ms/step - loss: 24637.9648 - accuracy: 0.6360 - val_loss: 51261.7266 - val_accuracy: 0.5240\n",
      "Epoch 11/20\n",
      "10/10 [==============================] - 0s 39ms/step - loss: 26803.2109 - accuracy: 0.6240 - val_loss: 56762.4258 - val_accuracy: 0.5320\n",
      "Epoch 12/20\n",
      "10/10 [==============================] - 0s 38ms/step - loss: 24778.0098 - accuracy: 0.6600 - val_loss: 53845.0859 - val_accuracy: 0.5400\n",
      "Epoch 13/20\n",
      "10/10 [==============================] - 0s 39ms/step - loss: 24334.1074 - accuracy: 0.6440 - val_loss: 57415.2227 - val_accuracy: 0.5360\n",
      "Epoch 14/20\n",
      "10/10 [==============================] - 0s 40ms/step - loss: 28070.0449 - accuracy: 0.6480 - val_loss: 65406.7930 - val_accuracy: 0.5200\n",
      "Epoch 15/20\n",
      "10/10 [==============================] - 0s 36ms/step - loss: 34565.3320 - accuracy: 0.6640 - val_loss: 87962.7500 - val_accuracy: 0.5120\n",
      "Epoch 16/20\n",
      "10/10 [==============================] - 0s 33ms/step - loss: 36929.7148 - accuracy: 0.6600 - val_loss: 70653.4297 - val_accuracy: 0.5200\n",
      "Epoch 17/20\n",
      "10/10 [==============================] - 0s 42ms/step - loss: 39407.9648 - accuracy: 0.6560 - val_loss: 79440.5859 - val_accuracy: 0.5120\n",
      "Epoch 18/20\n",
      "10/10 [==============================] - 0s 37ms/step - loss: 43935.6836 - accuracy: 0.6400 - val_loss: 80898.8047 - val_accuracy: 0.5120\n",
      "Epoch 19/20\n",
      "10/10 [==============================] - 0s 40ms/step - loss: 39387.4141 - accuracy: 0.6440 - val_loss: 83990.6328 - val_accuracy: 0.5160\n",
      "Epoch 20/20\n",
      "10/10 [==============================] - 0s 36ms/step - loss: 44051.9727 - accuracy: 0.6160 - val_loss: 91875.0547 - val_accuracy: 0.5080\n",
      "INFO:tensorflow:Assets written to: unsafe7.hd5/assets\n",
      "Model parameters are within recommended ranges.\n",
      "\n",
      "INFO:tensorflow:Assets written to: unsafe7.hd5/assets\n"
     ]
    },
    {
     "name": "stderr",
     "output_type": "stream",
     "text": [
      "_obj_reference_counts_dict cannot be copied\n",
      "...<class 'TypeError'> error; cannot pickle '_thread.RLock' object\n",
      "_thread_local cannot be copied\n",
      "...<class 'TypeError'> error; cannot pickle '_thread._local' object\n",
      "_metrics_lock cannot be copied\n",
      "...<class 'TypeError'> error; cannot pickle '_thread.lock' object\n"
     ]
    },
    {
     "name": "stdout",
     "output_type": "stream",
     "text": [
      "INFO:tensorflow:Assets written to: ram://cfe6f625-7d1d-4ad4-b53e-5e983f0f22ef/assets\n"
     ]
    },
    {
     "name": "stderr",
     "output_type": "stream",
     "text": [
      "_trackable_saver cannot be copied\n",
      "...<class 'ValueError'> error; Unknown optimizer: DPOptimizerClass. Please ensure this object is passed to the `custom_objects` argument. See https://www.tensorflow.org/guide/keras/save_and_serialize#registering_the_custom_object for details.\n",
      "_self_unconditional_checkpoint_dependencies cannot be copied\n",
      "...<class 'TypeError'> error; cannot pickle '_thread.RLock' object\n",
      "_self_unconditional_dependency_names cannot be copied\n",
      "...<class 'TypeError'> error; cannot pickle '_thread.RLock' object\n",
      "compiled_loss cannot be copied\n",
      "...<class 'TypeError'> error; cannot pickle '_thread.RLock' object\n",
      "compiled_metrics cannot be copied\n",
      "...<class 'TypeError'> error; cannot pickle '_thread.RLock' object\n"
     ]
    },
    {
     "name": "stdout",
     "output_type": "stream",
     "text": [
      "INFO:tensorflow:Assets written to: ram://73dd2092-2595-4add-9bc5-b9a698e813f2/assets\n"
     ]
    },
    {
     "name": "stderr",
     "output_type": "stream",
     "text": [
      "history cannot be copied\n",
      "...<class 'ValueError'> error; Unknown optimizer: DPOptimizerClass. Please ensure this object is passed to the `custom_objects` argument. See https://www.tensorflow.org/guide/keras/save_and_serialize#registering_the_custom_object for details.\n",
      "train_function cannot be copied\n",
      "...<class 'TypeError'> error; cannot pickle '_thread.RLock' object\n",
      "test_function cannot be copied\n",
      "...<class 'TypeError'> error; cannot pickle '_thread.RLock' object\n",
      "train_tf_function cannot be copied\n",
      "...<class 'TypeError'> error; cannot pickle '_thread.RLock' object\n"
     ]
    },
    {
     "name": "stdout",
     "output_type": "stream",
     "text": [
      "<tensorflow_privacy.privacy.optimizers.dp_optimizer_keras.make_keras_optimizer_class.<locals>.DPOptimizerClass object at 0x7f71912e5dc0>\n",
      "<tensorflow_privacy.privacy.optimizers.dp_optimizer_keras.make_keras_optimizer_class.<locals>.DPOptimizerClass object at 0x7f71912e5dc0>\n",
      "DP-SGD with sampling rate = 10% and noise_multiplier = 0.7 iterated over 200 steps satisfies differential privacy with eps = 23.1 and delta = 1e-05.\n",
      "The optimal RDP order is 2.0.\n"
     ]
    }
   ],
   "source": [
    "importlib.reload(safemodel.safemodel)\n",
    "importlib.reload(safemodel.classifiers.safekeras)\n",
    "from safemodel.classifiers.safekeras import Safe_KerasModel\n",
    "\n",
    "# change another model params in an  unsafe way but tells preliminary_check() not to overwrite params\n",
    "print(\"\\n***Test 7: researcher changes string and numeric params unsafely\")\n",
    "safeKerasModel7 = Safe_KerasModel(inputs= input_data, outputs=output,name=\"safekerasmodel6-test\", optimizer=\"Adam\")\n",
    "safeKerasModel7.compile(loss=loss)\n",
    "safeKerasModel7.fit(Xt_member, \n",
    "                    yt_member, \n",
    "                    validation_data=(Xt_nonmember, yt_nonmember),\n",
    "                    epochs=epochs, \n",
    "                    batch_size=batch_size)\n",
    "safeKerasModel7.save(\"unsafe7.hd5\")\n",
    "\n",
    "safeKerasModel7.preliminary_check(apply_constraints=False)\n",
    "safeKerasModel7.request_release(filename=\"unsafe7.hd5\")"
   ]
  },
  {
   "cell_type": "markdown",
   "metadata": {},
   "source": [
    "### Dictionary Tests"
   ]
  },
  {
   "cell_type": "code",
   "execution_count": 29,
   "metadata": {},
   "outputs": [
    {
     "name": "stdout",
     "output_type": "stream",
     "text": [
      "\n",
      "***Test 8: researcher changes string and numeric params unsafely\n",
      "WARNING: model parameters may present a disclosure risk:\n",
      "- parameter noise_multiplier = 0.5 identified as less than the recommended min value of 0.7.\n",
      "Changed parameter noise_multiplier = 0.7.\n",
      "\n",
      "WARNING: model parameters may present a disclosure risk\n",
      "Changed parameter optimizer = 'DPKerasAdamOptimizer'\n",
      "DP optimizer used = False\n",
      "optimizer has been changed but fit() has not been rerun.\n",
      "(250, 300)\n",
      "DP-SGD with sampling rate = 10% and noise_multiplier = 0.7 iterated over 200 steps satisfies differential privacy with eps = 23.1 and delta = 1e-05.\n",
      "The optimal RDP order is 2.0.\n",
      "Current epsilon is 23.09099569905857\n",
      "The requirements for DP are not met, current epsilon is: 23.09099569905857. To attain true DP the following parameters can be changed:  Num Samples = 250, batch_size = 25, epochs = 20\n",
      "This will not result in a Differentially Private model do you want to continue [Y/N]y\n",
      "Continuing\n",
      "Epoch 1/20\n",
      "10/10 [==============================] - 3s 52ms/step - loss: 71729.6094 - accuracy: 0.5960 - val_loss: 118181.2969 - val_accuracy: 0.4840\n",
      "Epoch 2/20\n",
      "10/10 [==============================] - 0s 41ms/step - loss: 59575.6445 - accuracy: 0.6200 - val_loss: 144476.0469 - val_accuracy: 0.4720\n",
      "Epoch 3/20\n",
      "10/10 [==============================] - 0s 36ms/step - loss: 62998.7695 - accuracy: 0.6440 - val_loss: 176760.4844 - val_accuracy: 0.4560\n",
      "Epoch 4/20\n",
      "10/10 [==============================] - 0s 40ms/step - loss: 61765.3867 - accuracy: 0.6520 - val_loss: 155427.6094 - val_accuracy: 0.4840\n",
      "Epoch 5/20\n",
      "10/10 [==============================] - 0s 33ms/step - loss: 52215.6484 - accuracy: 0.6840 - val_loss: 166011.4688 - val_accuracy: 0.4600\n",
      "Epoch 6/20\n",
      "10/10 [==============================] - 0s 31ms/step - loss: 59177.3477 - accuracy: 0.6760 - val_loss: 156017.7656 - val_accuracy: 0.4760\n",
      "Epoch 7/20\n",
      "10/10 [==============================] - 0s 39ms/step - loss: 58398.7617 - accuracy: 0.6800 - val_loss: 139693.0156 - val_accuracy: 0.4920\n",
      "Epoch 8/20\n",
      "10/10 [==============================] - 0s 33ms/step - loss: 56762.2344 - accuracy: 0.6880 - val_loss: 155187.5000 - val_accuracy: 0.4880\n",
      "Epoch 9/20\n",
      "10/10 [==============================] - 0s 39ms/step - loss: 62111.3906 - accuracy: 0.6800 - val_loss: 163019.1875 - val_accuracy: 0.4720\n",
      "Epoch 10/20\n",
      "10/10 [==============================] - 0s 40ms/step - loss: 67755.7578 - accuracy: 0.6520 - val_loss: 166521.7812 - val_accuracy: 0.4720\n",
      "Epoch 11/20\n",
      "10/10 [==============================] - 0s 32ms/step - loss: 75913.8359 - accuracy: 0.6960 - val_loss: 172634.3438 - val_accuracy: 0.4600\n",
      "Epoch 12/20\n",
      "10/10 [==============================] - 0s 38ms/step - loss: 84953.7812 - accuracy: 0.7000 - val_loss: 202908.4688 - val_accuracy: 0.5000\n",
      "Epoch 13/20\n",
      "10/10 [==============================] - 0s 32ms/step - loss: 96829.2578 - accuracy: 0.6800 - val_loss: 203737.9844 - val_accuracy: 0.4880\n",
      "Epoch 14/20\n",
      "10/10 [==============================] - 0s 33ms/step - loss: 94040.1328 - accuracy: 0.6880 - val_loss: 197465.4219 - val_accuracy: 0.5080\n",
      "Epoch 15/20\n",
      "10/10 [==============================] - 0s 40ms/step - loss: 82930.8359 - accuracy: 0.7040 - val_loss: 199358.7344 - val_accuracy: 0.5120\n",
      "Epoch 16/20\n",
      "10/10 [==============================] - 0s 36ms/step - loss: 82310.5625 - accuracy: 0.7080 - val_loss: 201002.2500 - val_accuracy: 0.5280\n",
      "Epoch 17/20\n",
      "10/10 [==============================] - 0s 41ms/step - loss: 78180.0547 - accuracy: 0.7040 - val_loss: 203584.2031 - val_accuracy: 0.5000\n",
      "Epoch 18/20\n",
      "10/10 [==============================] - 0s 35ms/step - loss: 92238.7656 - accuracy: 0.6640 - val_loss: 209879.7969 - val_accuracy: 0.4880\n",
      "Epoch 19/20\n",
      "10/10 [==============================] - 0s 42ms/step - loss: 104186.8828 - accuracy: 0.6640 - val_loss: 225303.7500 - val_accuracy: 0.4840\n",
      "Epoch 20/20\n",
      "10/10 [==============================] - 0s 35ms/step - loss: 111876.8047 - accuracy: 0.6560 - val_loss: 199709.5781 - val_accuracy: 0.5760\n"
     ]
    }
   ],
   "source": [
    "import h5py\n",
    "importlib.reload(safemodel.safemodel)\n",
    "importlib.reload(safemodel.classifiers.safekeras)\n",
    "from safemodel.classifiers.safekeras import Safe_KerasModel\n",
    "\n",
    "# change another model params in an  unsafe way but tells preliminary_check() not to overwrite params\n",
    "print(\"\\n***Test 8: researcher changes string and numeric params unsafely\")\n",
    "safeKerasModel8 = Safe_KerasModel(inputs= input_data, outputs=output,name=\"safekerasmodel6-test\", optimizer=\"Adam\")\n",
    "safeKerasModel8.compile(loss=loss)\n",
    "safeKerasModel8.fit(Xt_member, \n",
    "                    yt_member, \n",
    "                    validation_data=(Xt_nonmember, yt_nonmember),\n",
    "                    epochs=epochs, \n",
    "                    batch_size=batch_size)\n",
    "safeKerasModel8.save(\"unsafe8.h5\", include_optimizer=False, save_format='h5')\n",
    "\n",
    "#print(\"Now Load the file\")\n",
    "\n",
    "#importlib.reload(safemodel.safemodel)\n",
    "#importlib.reload(safemodel.classifiers.safekeras)\n",
    "#safeKerasModel8 = safeKerasModel8.load('unsafe8.h5')\n",
    "\n",
    "#print('loaded file')\n",
    "\n"
   ]
  },
  {
   "cell_type": "code",
   "execution_count": 30,
   "metadata": {
    "scrolled": false
   },
   "outputs": [
    {
     "name": "stdout",
     "output_type": "stream",
     "text": [
      "WARNING: model parameters may present a disclosure risk:\n",
      "- parameter noise_multiplier = 0.5 identified as less than the recommended min value of 0.7.\n",
      "Changed parameter noise_multiplier = 0.7.\n",
      "\n",
      "WARNING:tensorflow:No training configuration found in the save file, so the model was *not* compiled. Compile it manually.\n",
      "Our model has 107 keys\n",
      "The keras model has 104 keys\n",
      "['_activity_regularizer', '_auto_track_sub_layers', '_autocast', '_base_model_initialized', '_build_input_shape', '_callable_losses', '_cluster_coordinator', '_compiled_trainable_state', '_compute_dtype_object', '_compute_output_and_mask_jointly', '_default_training_arg', '_distribution_strategy', '_dtype_policy', '_dynamic', '_enable_dict_to_input_mapping', '_expects_mask_arg', '_expects_training_arg', '_feed_input_names', '_feed_input_shapes', '_feed_inputs', '_inbound_nodes_value', '_initial_weights', '_input_coordinates', '_input_layers', '_input_spec', '_instrumented_keras_api', '_instrumented_keras_layer_class', '_instrumented_keras_model_class', '_is_compiled', '_is_graph_network', '_is_model_for_instrumentation', '_jit_compile', '_layer_call_argspecs', '_losses', '_metrics', '_metrics_lock', '_name', '_nested_inputs', '_nested_outputs', '_network_nodes', '_nodes_by_depth', '_non_trainable_weights', '_obj_reference_counts_dict', '_outbound_nodes_value', '_outer_name_scope', '_output_coordinates', '_output_layers', '_output_mask_cache', '_output_shape_cache', '_output_tensor_cache', '_predict_counter', '_preserve_input_structure_in_config', '_run_eagerly', '_saved_model_arg_spec', '_saved_model_inputs_spec', '_self_name_based_restores', '_self_saveable_object_factories', '_self_setattr_tracking', '_self_tracked_trackables', '_self_unconditional_checkpoint_dependencies', '_self_unconditional_deferred_dependencies', '_self_unconditional_dependency_names', '_self_update_uid', '_stateful', '_steps_per_execution', '_supports_masking', '_tensor_usage_count', '_test_counter', '_thread_local', '_trackable_saver', '_train_counter', '_trainable', '_trainable_weights', '_training_state', '_updates', 'batch_size', 'built', 'compiled_loss', 'compiled_metrics', 'delta', 'epochs', 'examine_seperately_items', 'filename', 'history', 'ignore_items', 'input_names', 'inputs', 'l2_norm_clip', 'learning_rate', 'loss', 'min_epsilon', 'model', 'model_save_file', 'model_type', 'noise_multiplier', 'num_microbatches', 'num_samples', 'optimizer', 'output_names', 'outputs', 'predict_function', 'researcher', 'saved_model', 'stop_training', 'test_function', 'train_function', 'train_tf_function']\n",
      " key examine_seperately_items is in ignore_list: value ListWrapper([]) \n",
      "\n",
      " key examine_seperately_items is type <class 'str'>\n",
      "\n",
      " key researcher is in ignore_list: value andy \n",
      "\n",
      " key researcher is type <class 'str'>\n",
      "\n",
      " key ignore_items is in ignore_list: value ListWrapper(['_jit_compile', 'examine_seperately_items', 'ignore_items', 'loss', 'researcher']) \n",
      "\n",
      " key ignore_items is type <class 'str'>\n",
      "\n",
      "Keys to move to examine_seperately\n",
      "[]\n"
     ]
    }
   ],
   "source": [
    "importlib.reload(safemodel.safemodel)\n",
    "importlib.reload(safemodel.classifiers.safekeras)\n",
    "from safemodel.classifiers.safekeras import Safe_KerasModel\n",
    "f = tf.keras.models.load_model('unsafe8.h5', custom_objects={\"Safe_KerasModel\": Safe_KerasModel})\n",
    "kerasmodelkeys =[]\n",
    "for key,value in f.__dict__.items():\n",
    "        #print ( f' key {key} : value {value} \\n')\n",
    "        kerasmodelkeys.append(key)\n",
    "\n",
    "        \n",
    "ourmodelkeys =[]\n",
    "for key,value in safeKerasModel8.__dict__.items():\n",
    "        #print ( f' key {key} : value {value} \\n')\n",
    "        ourmodelkeys.append(key)\n",
    "\n",
    "print(f'Our model has {len(ourmodelkeys)} keys')\n",
    "print(f'The keras model has {len(kerasmodelkeys)} keys')\n",
    "ourmodelkeys.sort()\n",
    "kerasmodelkeys.sort()\n",
    "\n",
    "print(ourmodelkeys)\n",
    "\n",
    "move_list = []\n",
    "\n",
    "for key,value in f.__dict__.items():\n",
    "        #print ( f' key {key} : value {value} \\n')\n",
    "        if(key in f.ignore_items):\n",
    "            print ( f' key {key} is in ignore_list: value {value} \\n')\n",
    "            print ( f' key {key} is type {type(key)}\\n')\n",
    "            if(type(key) == type(move_list)):\n",
    "              move_list.append(key)\n",
    "            \n",
    "        else:\n",
    "            pass\n",
    "print('Keys to move to examine_seperately')\n",
    "print(move_list)\n",
    "\n",
    "\n",
    "    \n"
   ]
  },
  {
   "cell_type": "code",
   "execution_count": 31,
   "metadata": {},
   "outputs": [
    {
     "name": "stdout",
     "output_type": "stream",
     "text": [
      " key optimizer : value <tensorflow_privacy.privacy.optimizers.dp_optimizer_keras.make_keras_optimizer_class.<locals>.DPOptimizerClass object at 0x7f71a9df99d0> \n",
      "\n"
     ]
    }
   ],
   "source": [
    "for key,value in safeKerasModel8.__dict__.items():\n",
    "    if 'optimizer' in key:\n",
    "        print ( f' key {key} : value {value} \\n')"
   ]
  },
  {
   "cell_type": "markdown",
   "metadata": {},
   "source": [
    "## dp_epsilon_met\n"
   ]
  },
  {
   "cell_type": "code",
   "execution_count": 32,
   "metadata": {},
   "outputs": [
    {
     "name": "stdout",
     "output_type": "stream",
     "text": [
      "WARNING: model parameters may present a disclosure risk:\n",
      "- parameter noise_multiplier = 0.5 identified as less than the recommended min value of 0.7.\n",
      "Changed parameter noise_multiplier = 0.7.\n",
      "\n",
      "DP-SGD with sampling rate = 0.4% and noise_multiplier = 0.7 iterated over 5000 steps satisfies differential privacy with eps = 4.38 and delta = 1e-05.\n",
      "The optimal RDP order is 4.5.\n",
      "DP-SGD with sampling rate = 0.4% and noise_multiplier = 0.7 iterated over 50000 steps satisfies differential privacy with eps = 13.5 and delta = 1e-05.\n",
      "The optimal RDP order is 2.5.\n",
      "DP-SGD with sampling rate = 0.4% and noise_multiplier = 0.7 iterated over 625000 steps satisfies differential privacy with eps = 69.7 and delta = 1e-05.\n",
      "The optimal RDP order is 1.5.\n",
      "DP-SGD with sampling rate = 2% and noise_multiplier = 0.7 iterated over 1000 steps satisfies differential privacy with eps = 10.4 and delta = 1e-05.\n",
      "The optimal RDP order is 2.5.\n",
      "DP-SGD with sampling rate = 2% and noise_multiplier = 0.7 iterated over 10000 steps satisfies differential privacy with eps = 35.8 and delta = 1e-05.\n",
      "The optimal RDP order is 1.75.\n",
      "DP-SGD with sampling rate = 2% and noise_multiplier = 0.7 iterated over 125000 steps satisfies differential privacy with eps = 222 and delta = 1e-05.\n",
      "The optimal RDP order is 1.25.\n",
      "The privacy estimate is likely to be improved by expanding the set of orders.\n",
      "DP-SGD with sampling rate = 10% and noise_multiplier = 0.7 iterated over 200 steps satisfies differential privacy with eps = 23.1 and delta = 1e-05.\n",
      "The optimal RDP order is 2.0.\n",
      "DP-SGD with sampling rate = 10% and noise_multiplier = 0.7 iterated over 2000 steps satisfies differential privacy with eps = 95 and delta = 1e-05.\n",
      "The optimal RDP order is 1.5.\n",
      "DP-SGD with sampling rate = 10% and noise_multiplier = 0.7 iterated over 25000 steps satisfies differential privacy with eps = 733 and delta = 1e-05.\n",
      "The optimal RDP order is 1.25.\n",
      "The privacy estimate is likely to be improved by expanding the set of orders.\n",
      "DP-SGD with sampling rate = 0.4% and noise_multiplier = 0.8 iterated over 5000 steps satisfies differential privacy with eps = 2.93 and delta = 1e-05.\n",
      "The optimal RDP order is 6.0.\n",
      "DP-SGD with sampling rate = 0.4% and noise_multiplier = 0.8 iterated over 50000 steps satisfies differential privacy with eps = 9.33 and delta = 1e-05.\n",
      "The optimal RDP order is 3.5.\n",
      "DP-SGD with sampling rate = 0.4% and noise_multiplier = 0.8 iterated over 625000 steps satisfies differential privacy with eps = 46.5 and delta = 1e-05.\n",
      "The optimal RDP order is 1.75.\n",
      "DP-SGD with sampling rate = 2% and noise_multiplier = 0.8 iterated over 1000 steps satisfies differential privacy with eps = 7.21 and delta = 1e-05.\n",
      "The optimal RDP order is 3.5.\n",
      "DP-SGD with sampling rate = 2% and noise_multiplier = 0.8 iterated over 10000 steps satisfies differential privacy with eps = 25.2 and delta = 1e-05.\n",
      "The optimal RDP order is 2.0.\n",
      "DP-SGD with sampling rate = 2% and noise_multiplier = 0.8 iterated over 125000 steps satisfies differential privacy with eps = 152 and delta = 1e-05.\n",
      "The optimal RDP order is 1.25.\n",
      "The privacy estimate is likely to be improved by expanding the set of orders.\n",
      "DP-SGD with sampling rate = 10% and noise_multiplier = 0.8 iterated over 200 steps satisfies differential privacy with eps = 17.2 and delta = 1e-05.\n",
      "The optimal RDP order is 2.25.\n",
      "DP-SGD with sampling rate = 10% and noise_multiplier = 0.8 iterated over 2000 steps satisfies differential privacy with eps = 67.7 and delta = 1e-05.\n",
      "The optimal RDP order is 1.5.\n",
      "DP-SGD with sampling rate = 10% and noise_multiplier = 0.8 iterated over 25000 steps satisfies differential privacy with eps = 495 and delta = 1e-05.\n",
      "The optimal RDP order is 1.25.\n",
      "The privacy estimate is likely to be improved by expanding the set of orders.\n",
      "DP-SGD with sampling rate = 0.4% and noise_multiplier = 0.9 iterated over 5000 steps satisfies differential privacy with eps = 2.18 and delta = 1e-05.\n",
      "The optimal RDP order is 8.0.\n",
      "DP-SGD with sampling rate = 0.4% and noise_multiplier = 0.9 iterated over 50000 steps satisfies differential privacy with eps = 7.13 and delta = 1e-05.\n",
      "The optimal RDP order is 4.0.\n",
      "DP-SGD with sampling rate = 0.4% and noise_multiplier = 0.9 iterated over 625000 steps satisfies differential privacy with eps = 34.5 and delta = 1e-05.\n",
      "The optimal RDP order is 2.0.\n",
      "DP-SGD with sampling rate = 2% and noise_multiplier = 0.9 iterated over 1000 steps satisfies differential privacy with eps = 5.45 and delta = 1e-05.\n",
      "The optimal RDP order is 4.0.\n",
      "DP-SGD with sampling rate = 2% and noise_multiplier = 0.9 iterated over 10000 steps satisfies differential privacy with eps = 19.1 and delta = 1e-05.\n",
      "The optimal RDP order is 2.25.\n",
      "DP-SGD with sampling rate = 2% and noise_multiplier = 0.9 iterated over 125000 steps satisfies differential privacy with eps = 109 and delta = 1e-05.\n",
      "The optimal RDP order is 1.5.\n",
      "DP-SGD with sampling rate = 10% and noise_multiplier = 0.9 iterated over 200 steps satisfies differential privacy with eps = 13.5 and delta = 1e-05.\n",
      "The optimal RDP order is 2.5.\n",
      "DP-SGD with sampling rate = 10% and noise_multiplier = 0.9 iterated over 2000 steps satisfies differential privacy with eps = 53.2 and delta = 1e-05.\n",
      "The optimal RDP order is 1.5.\n",
      "DP-SGD with sampling rate = 10% and noise_multiplier = 0.9 iterated over 25000 steps satisfies differential privacy with eps = 361 and delta = 1e-05.\n",
      "The optimal RDP order is 1.25.\n",
      "The privacy estimate is likely to be improved by expanding the set of orders.\n"
     ]
    },
    {
     "data": {
      "text/html": [
       "<div>\n",
       "<style scoped>\n",
       "    .dataframe tbody tr th:only-of-type {\n",
       "        vertical-align: middle;\n",
       "    }\n",
       "\n",
       "    .dataframe tbody tr th {\n",
       "        vertical-align: top;\n",
       "    }\n",
       "\n",
       "    .dataframe thead th {\n",
       "        text-align: right;\n",
       "    }\n",
       "</style>\n",
       "<table border=\"1\" class=\"dataframe\">\n",
       "  <thead>\n",
       "    <tr style=\"text-align: right;\">\n",
       "      <th></th>\n",
       "      <th>OK</th>\n",
       "      <th>Epsilon</th>\n",
       "      <th>Noise Multiplier</th>\n",
       "      <th>Num Samples</th>\n",
       "      <th>Epochs</th>\n",
       "      <th>Batch Size</th>\n",
       "    </tr>\n",
       "  </thead>\n",
       "  <tbody>\n",
       "    <tr>\n",
       "      <th>18</th>\n",
       "      <td>True</td>\n",
       "      <td>2.18</td>\n",
       "      <td>0.9</td>\n",
       "      <td>250</td>\n",
       "      <td>20</td>\n",
       "      <td>1</td>\n",
       "    </tr>\n",
       "    <tr>\n",
       "      <th>9</th>\n",
       "      <td>True</td>\n",
       "      <td>2.93</td>\n",
       "      <td>0.8</td>\n",
       "      <td>250</td>\n",
       "      <td>20</td>\n",
       "      <td>1</td>\n",
       "    </tr>\n",
       "    <tr>\n",
       "      <th>0</th>\n",
       "      <td>True</td>\n",
       "      <td>4.38</td>\n",
       "      <td>0.7</td>\n",
       "      <td>250</td>\n",
       "      <td>20</td>\n",
       "      <td>1</td>\n",
       "    </tr>\n",
       "    <tr>\n",
       "      <th>21</th>\n",
       "      <td>True</td>\n",
       "      <td>5.45</td>\n",
       "      <td>0.9</td>\n",
       "      <td>250</td>\n",
       "      <td>20</td>\n",
       "      <td>5</td>\n",
       "    </tr>\n",
       "    <tr>\n",
       "      <th>19</th>\n",
       "      <td>True</td>\n",
       "      <td>7.13</td>\n",
       "      <td>0.9</td>\n",
       "      <td>250</td>\n",
       "      <td>200</td>\n",
       "      <td>1</td>\n",
       "    </tr>\n",
       "    <tr>\n",
       "      <th>12</th>\n",
       "      <td>True</td>\n",
       "      <td>7.21</td>\n",
       "      <td>0.8</td>\n",
       "      <td>250</td>\n",
       "      <td>20</td>\n",
       "      <td>5</td>\n",
       "    </tr>\n",
       "    <tr>\n",
       "      <th>10</th>\n",
       "      <td>True</td>\n",
       "      <td>9.33</td>\n",
       "      <td>0.8</td>\n",
       "      <td>250</td>\n",
       "      <td>200</td>\n",
       "      <td>1</td>\n",
       "    </tr>\n",
       "    <tr>\n",
       "      <th>3</th>\n",
       "      <td>False</td>\n",
       "      <td>10.42</td>\n",
       "      <td>0.7</td>\n",
       "      <td>250</td>\n",
       "      <td>20</td>\n",
       "      <td>5</td>\n",
       "    </tr>\n",
       "    <tr>\n",
       "      <th>1</th>\n",
       "      <td>False</td>\n",
       "      <td>13.51</td>\n",
       "      <td>0.7</td>\n",
       "      <td>250</td>\n",
       "      <td>200</td>\n",
       "      <td>1</td>\n",
       "    </tr>\n",
       "    <tr>\n",
       "      <th>24</th>\n",
       "      <td>False</td>\n",
       "      <td>13.51</td>\n",
       "      <td>0.9</td>\n",
       "      <td>250</td>\n",
       "      <td>20</td>\n",
       "      <td>25</td>\n",
       "    </tr>\n",
       "    <tr>\n",
       "      <th>15</th>\n",
       "      <td>False</td>\n",
       "      <td>17.23</td>\n",
       "      <td>0.8</td>\n",
       "      <td>250</td>\n",
       "      <td>20</td>\n",
       "      <td>25</td>\n",
       "    </tr>\n",
       "    <tr>\n",
       "      <th>22</th>\n",
       "      <td>False</td>\n",
       "      <td>19.15</td>\n",
       "      <td>0.9</td>\n",
       "      <td>250</td>\n",
       "      <td>200</td>\n",
       "      <td>5</td>\n",
       "    </tr>\n",
       "    <tr>\n",
       "      <th>6</th>\n",
       "      <td>False</td>\n",
       "      <td>23.09</td>\n",
       "      <td>0.7</td>\n",
       "      <td>250</td>\n",
       "      <td>20</td>\n",
       "      <td>25</td>\n",
       "    </tr>\n",
       "    <tr>\n",
       "      <th>13</th>\n",
       "      <td>False</td>\n",
       "      <td>25.20</td>\n",
       "      <td>0.8</td>\n",
       "      <td>250</td>\n",
       "      <td>200</td>\n",
       "      <td>5</td>\n",
       "    </tr>\n",
       "    <tr>\n",
       "      <th>20</th>\n",
       "      <td>False</td>\n",
       "      <td>34.50</td>\n",
       "      <td>0.9</td>\n",
       "      <td>250</td>\n",
       "      <td>2500</td>\n",
       "      <td>1</td>\n",
       "    </tr>\n",
       "    <tr>\n",
       "      <th>4</th>\n",
       "      <td>False</td>\n",
       "      <td>35.83</td>\n",
       "      <td>0.7</td>\n",
       "      <td>250</td>\n",
       "      <td>200</td>\n",
       "      <td>5</td>\n",
       "    </tr>\n",
       "    <tr>\n",
       "      <th>11</th>\n",
       "      <td>False</td>\n",
       "      <td>46.50</td>\n",
       "      <td>0.8</td>\n",
       "      <td>250</td>\n",
       "      <td>2500</td>\n",
       "      <td>1</td>\n",
       "    </tr>\n",
       "    <tr>\n",
       "      <th>25</th>\n",
       "      <td>False</td>\n",
       "      <td>53.19</td>\n",
       "      <td>0.9</td>\n",
       "      <td>250</td>\n",
       "      <td>200</td>\n",
       "      <td>25</td>\n",
       "    </tr>\n",
       "    <tr>\n",
       "      <th>16</th>\n",
       "      <td>False</td>\n",
       "      <td>67.73</td>\n",
       "      <td>0.8</td>\n",
       "      <td>250</td>\n",
       "      <td>200</td>\n",
       "      <td>25</td>\n",
       "    </tr>\n",
       "    <tr>\n",
       "      <th>2</th>\n",
       "      <td>False</td>\n",
       "      <td>69.72</td>\n",
       "      <td>0.7</td>\n",
       "      <td>250</td>\n",
       "      <td>2500</td>\n",
       "      <td>1</td>\n",
       "    </tr>\n",
       "    <tr>\n",
       "      <th>7</th>\n",
       "      <td>False</td>\n",
       "      <td>95.01</td>\n",
       "      <td>0.7</td>\n",
       "      <td>250</td>\n",
       "      <td>200</td>\n",
       "      <td>25</td>\n",
       "    </tr>\n",
       "    <tr>\n",
       "      <th>23</th>\n",
       "      <td>False</td>\n",
       "      <td>109.24</td>\n",
       "      <td>0.9</td>\n",
       "      <td>250</td>\n",
       "      <td>2500</td>\n",
       "      <td>5</td>\n",
       "    </tr>\n",
       "    <tr>\n",
       "      <th>14</th>\n",
       "      <td>False</td>\n",
       "      <td>151.52</td>\n",
       "      <td>0.8</td>\n",
       "      <td>250</td>\n",
       "      <td>2500</td>\n",
       "      <td>5</td>\n",
       "    </tr>\n",
       "    <tr>\n",
       "      <th>5</th>\n",
       "      <td>False</td>\n",
       "      <td>221.99</td>\n",
       "      <td>0.7</td>\n",
       "      <td>250</td>\n",
       "      <td>2500</td>\n",
       "      <td>5</td>\n",
       "    </tr>\n",
       "    <tr>\n",
       "      <th>26</th>\n",
       "      <td>False</td>\n",
       "      <td>360.59</td>\n",
       "      <td>0.9</td>\n",
       "      <td>250</td>\n",
       "      <td>2500</td>\n",
       "      <td>25</td>\n",
       "    </tr>\n",
       "    <tr>\n",
       "      <th>17</th>\n",
       "      <td>False</td>\n",
       "      <td>494.52</td>\n",
       "      <td>0.8</td>\n",
       "      <td>250</td>\n",
       "      <td>2500</td>\n",
       "      <td>25</td>\n",
       "    </tr>\n",
       "    <tr>\n",
       "      <th>8</th>\n",
       "      <td>False</td>\n",
       "      <td>733.44</td>\n",
       "      <td>0.7</td>\n",
       "      <td>250</td>\n",
       "      <td>2500</td>\n",
       "      <td>25</td>\n",
       "    </tr>\n",
       "  </tbody>\n",
       "</table>\n",
       "</div>"
      ],
      "text/plain": [
       "       OK  Epsilon  Noise Multiplier  Num Samples  Epochs  Batch Size\n",
       "18   True     2.18               0.9          250      20           1\n",
       "9    True     2.93               0.8          250      20           1\n",
       "0    True     4.38               0.7          250      20           1\n",
       "21   True     5.45               0.9          250      20           5\n",
       "19   True     7.13               0.9          250     200           1\n",
       "12   True     7.21               0.8          250      20           5\n",
       "10   True     9.33               0.8          250     200           1\n",
       "3   False    10.42               0.7          250      20           5\n",
       "1   False    13.51               0.7          250     200           1\n",
       "24  False    13.51               0.9          250      20          25\n",
       "15  False    17.23               0.8          250      20          25\n",
       "22  False    19.15               0.9          250     200           5\n",
       "6   False    23.09               0.7          250      20          25\n",
       "13  False    25.20               0.8          250     200           5\n",
       "20  False    34.50               0.9          250    2500           1\n",
       "4   False    35.83               0.7          250     200           5\n",
       "11  False    46.50               0.8          250    2500           1\n",
       "25  False    53.19               0.9          250     200          25\n",
       "16  False    67.73               0.8          250     200          25\n",
       "2   False    69.72               0.7          250    2500           1\n",
       "7   False    95.01               0.7          250     200          25\n",
       "23  False   109.24               0.9          250    2500           5\n",
       "14  False   151.52               0.8          250    2500           5\n",
       "5   False   221.99               0.7          250    2500           5\n",
       "26  False   360.59               0.9          250    2500          25\n",
       "17  False   494.52               0.8          250    2500          25\n",
       "8   False   733.44               0.7          250    2500          25"
      ]
     },
     "execution_count": 32,
     "metadata": {},
     "output_type": "execute_result"
    }
   ],
   "source": [
    "\n",
    "import pandas as pd\n",
    "importlib.reload(safemodel.safemodel)\n",
    "importlib.reload(safemodel.classifiers.safekeras)\n",
    "from safemodel.classifiers.safekeras import Safe_KerasModel\n",
    "\n",
    "samples = [250, 250, 250]\n",
    "batch_sizes = [1, 5, 25]\n",
    "epochs = [20, 200, 2500]\n",
    "noisemult = [0.7, 0.8, 0.9]\n",
    "\n",
    "okslist = []\n",
    "epsilonslist = []\n",
    "noisemultslist = []\n",
    "sampleslist = []\n",
    "batch_size_list = []\n",
    "epochs_list = []\n",
    "\n",
    "safeKerasModel8 = Safe_KerasModel(inputs= input_data, outputs=output,name=\"safekerasmodel6-test\", optimizer=\"Adam\")\n",
    "\n",
    "for i in range(0,3):\n",
    "    for j in range(0,3):\n",
    "        for k in range(0,3):\n",
    "            sampleslist.append(samples[i])\n",
    "            safeKerasModel8.noise_multiplier = noisemult[i]\n",
    "            noisemultslist.append(noisemult[i])\n",
    "            batch_size_list.append(batch_sizes[j])\n",
    "            epochs_list.append(epochs[k])\n",
    "            ok, epsilon = safeKerasModel8.dp_epsilon_met(num_examples=samples[i],batch_size=batch_sizes[j],epochs=epochs[k])\n",
    "            okslist.append(ok)\n",
    "            epsilonslist.append(epsilon)\n",
    "\n",
    "for i in range(0, len(okslist)):\n",
    "    pass\n",
    "    #print(f'{okslist[i]} {epsilonslist[i]} {noisemultslist[i]} {sampleslist[i]} {epochs_list[i]}' )\n",
    "    \n",
    "\n",
    "    \n",
    "mydf = pd.DataFrame(\n",
    "    {'OK': okslist,\n",
    "     'Epsilon': epsilonslist,\n",
    "     'Noise Multiplier': noisemultslist,\n",
    "     'Num Samples': sampleslist,\n",
    "     'Epochs': epochs_list,\n",
    "     'Batch Size': batch_size_list\n",
    "\n",
    "\n",
    "    })\n",
    "\n",
    "mydf.round(decimals=2).sort_values('Epsilon')\n"
   ]
  },
  {
   "cell_type": "markdown",
   "metadata": {},
   "source": [
    "### Meets DP Epsilon Criteria"
   ]
  },
  {
   "cell_type": "code",
   "execution_count": 33,
   "metadata": {},
   "outputs": [
    {
     "name": "stdout",
     "output_type": "stream",
     "text": [
      "\n",
      "***Test 9: Meets DP epsilon criteria\n",
      "WARNING: model parameters may present a disclosure risk:\n",
      "- parameter noise_multiplier = 0.5 identified as less than the recommended min value of 0.7.\n",
      "Changed parameter noise_multiplier = 0.7.\n",
      "\n",
      "WARNING: model parameters may present a disclosure risk\n",
      "Changed parameter optimizer = 'DPKerasAdamOptimizer'\n",
      "DP optimizer used = False\n",
      "optimizer has been changed but fit() has not been rerun.\n",
      "(250, 300)\n",
      "DP-SGD with sampling rate = 0.4% and noise_multiplier = 0.7 iterated over 5000 steps satisfies differential privacy with eps = 4.38 and delta = 1e-05.\n",
      "The optimal RDP order is 4.5.\n",
      "Epoch 1/20\n",
      "250/250 [==============================] - 7s 14ms/step - loss: 467153.3750 - accuracy: 0.5840 - val_loss: 795467.7500 - val_accuracy: 0.5640\n",
      "Epoch 2/20\n",
      "250/250 [==============================] - 3s 13ms/step - loss: 1229967.3750 - accuracy: 0.5640 - val_loss: 1575647.3750 - val_accuracy: 0.5040\n",
      "Epoch 3/20\n",
      "250/250 [==============================] - 3s 12ms/step - loss: 1772888.2500 - accuracy: 0.5480 - val_loss: 2882975.5000 - val_accuracy: 0.5080\n",
      "Epoch 4/20\n",
      "250/250 [==============================] - 3s 12ms/step - loss: 3166426.2500 - accuracy: 0.5520 - val_loss: 4604403.0000 - val_accuracy: 0.5040\n",
      "Epoch 5/20\n",
      "250/250 [==============================] - 3s 10ms/step - loss: 5013384.5000 - accuracy: 0.5000 - val_loss: 5052031.0000 - val_accuracy: 0.5040\n",
      "Epoch 6/20\n",
      "250/250 [==============================] - 2s 9ms/step - loss: 5973691.5000 - accuracy: 0.4960 - val_loss: 5585022.5000 - val_accuracy: 0.4680\n",
      "Epoch 7/20\n",
      "250/250 [==============================] - 2s 9ms/step - loss: 6638712.5000 - accuracy: 0.5000 - val_loss: 7749687.5000 - val_accuracy: 0.5040\n",
      "Epoch 8/20\n",
      "250/250 [==============================] - 2s 9ms/step - loss: 8320535.0000 - accuracy: 0.4920 - val_loss: 7749388.5000 - val_accuracy: 0.5360\n",
      "Epoch 9/20\n",
      "250/250 [==============================] - 2s 9ms/step - loss: 10977835.0000 - accuracy: 0.5000 - val_loss: 10107639.0000 - val_accuracy: 0.5000\n",
      "Epoch 10/20\n",
      "250/250 [==============================] - 2s 9ms/step - loss: 14376984.0000 - accuracy: 0.4840 - val_loss: 12188262.0000 - val_accuracy: 0.5120\n",
      "Epoch 11/20\n",
      "250/250 [==============================] - 2s 9ms/step - loss: 15108029.0000 - accuracy: 0.5200 - val_loss: 12637501.0000 - val_accuracy: 0.5520\n",
      "Epoch 12/20\n",
      "250/250 [==============================] - 2s 8ms/step - loss: 16914184.0000 - accuracy: 0.4840 - val_loss: 14314341.0000 - val_accuracy: 0.5160\n",
      "Epoch 13/20\n",
      "250/250 [==============================] - 2s 9ms/step - loss: 18235352.0000 - accuracy: 0.5640 - val_loss: 19104842.0000 - val_accuracy: 0.5160\n",
      "Epoch 14/20\n",
      "250/250 [==============================] - 3s 14ms/step - loss: 20145876.0000 - accuracy: 0.5360 - val_loss: 29047226.0000 - val_accuracy: 0.4760\n",
      "Epoch 15/20\n",
      "250/250 [==============================] - 2s 9ms/step - loss: 24984496.0000 - accuracy: 0.5280 - val_loss: 27635054.0000 - val_accuracy: 0.5040\n",
      "Epoch 16/20\n",
      "250/250 [==============================] - 2s 9ms/step - loss: 29466294.0000 - accuracy: 0.5600 - val_loss: 34403600.0000 - val_accuracy: 0.4880\n",
      "Epoch 17/20\n",
      "250/250 [==============================] - 3s 12ms/step - loss: 28426186.0000 - accuracy: 0.5640 - val_loss: 37349224.0000 - val_accuracy: 0.5240\n",
      "Epoch 18/20\n",
      "250/250 [==============================] - 3s 10ms/step - loss: 29840454.0000 - accuracy: 0.5600 - val_loss: 43087912.0000 - val_accuracy: 0.5280\n",
      "Epoch 19/20\n",
      "250/250 [==============================] - 2s 9ms/step - loss: 34350420.0000 - accuracy: 0.5520 - val_loss: 42731212.0000 - val_accuracy: 0.5160\n",
      "Epoch 20/20\n",
      "250/250 [==============================] - 2s 9ms/step - loss: 36848812.0000 - accuracy: 0.5520 - val_loss: 46252912.0000 - val_accuracy: 0.5080\n",
      "INFO:tensorflow:Assets written to: unsafe7.hd5/assets\n",
      "Model parameters are within recommended ranges.\n",
      "\n",
      "INFO:tensorflow:Assets written to: unsafe9.hd5/assets\n"
     ]
    },
    {
     "name": "stderr",
     "output_type": "stream",
     "text": [
      "_obj_reference_counts_dict cannot be copied\n",
      "...<class 'TypeError'> error; cannot pickle '_thread.RLock' object\n",
      "_thread_local cannot be copied\n",
      "...<class 'TypeError'> error; cannot pickle '_thread._local' object\n",
      "_metrics_lock cannot be copied\n",
      "...<class 'TypeError'> error; cannot pickle '_thread.lock' object\n"
     ]
    },
    {
     "name": "stdout",
     "output_type": "stream",
     "text": [
      "INFO:tensorflow:Assets written to: ram://4995f4d1-4ae4-40b5-b80f-e4f3ad791707/assets\n"
     ]
    },
    {
     "name": "stderr",
     "output_type": "stream",
     "text": [
      "_trackable_saver cannot be copied\n",
      "...<class 'ValueError'> error; Unknown optimizer: DPOptimizerClass. Please ensure this object is passed to the `custom_objects` argument. See https://www.tensorflow.org/guide/keras/save_and_serialize#registering_the_custom_object for details.\n",
      "_self_unconditional_checkpoint_dependencies cannot be copied\n",
      "...<class 'TypeError'> error; cannot pickle '_thread.RLock' object\n",
      "_self_unconditional_dependency_names cannot be copied\n",
      "...<class 'TypeError'> error; cannot pickle '_thread.RLock' object\n",
      "compiled_loss cannot be copied\n",
      "...<class 'TypeError'> error; cannot pickle '_thread.RLock' object\n",
      "compiled_metrics cannot be copied\n",
      "...<class 'TypeError'> error; cannot pickle '_thread.RLock' object\n"
     ]
    },
    {
     "name": "stdout",
     "output_type": "stream",
     "text": [
      "INFO:tensorflow:Assets written to: ram://46d4d6f6-9a3b-48e4-acc4-3337505af374/assets\n"
     ]
    },
    {
     "name": "stderr",
     "output_type": "stream",
     "text": [
      "history cannot be copied\n",
      "...<class 'ValueError'> error; Unknown optimizer: DPOptimizerClass. Please ensure this object is passed to the `custom_objects` argument. See https://www.tensorflow.org/guide/keras/save_and_serialize#registering_the_custom_object for details.\n",
      "train_function cannot be copied\n",
      "...<class 'TypeError'> error; cannot pickle '_thread.RLock' object\n",
      "test_function cannot be copied\n",
      "...<class 'TypeError'> error; cannot pickle '_thread.RLock' object\n",
      "train_tf_function cannot be copied\n",
      "...<class 'TypeError'> error; cannot pickle '_thread.RLock' object\n"
     ]
    },
    {
     "name": "stdout",
     "output_type": "stream",
     "text": [
      "<tensorflow_privacy.privacy.optimizers.dp_optimizer_keras.make_keras_optimizer_class.<locals>.DPOptimizerClass object at 0x7f718f28e280>\n",
      "<tensorflow_privacy.privacy.optimizers.dp_optimizer_keras.make_keras_optimizer_class.<locals>.DPOptimizerClass object at 0x7f718f28e280>\n",
      "DP-SGD with sampling rate = 10% and noise_multiplier = 0.7 iterated over 200 steps satisfies differential privacy with eps = 23.1 and delta = 1e-05.\n",
      "The optimal RDP order is 2.0.\n"
     ]
    }
   ],
   "source": [
    "importlib.reload(safemodel.safemodel)\n",
    "importlib.reload(safemodel.classifiers.safekeras)\n",
    "from safemodel.classifiers.safekeras import Safe_KerasModel\n",
    "\n",
    "epochs=20\n",
    "batch_size=1\n",
    "# change another model params in an  unsafe way i.e. Optimizer=Adam\n",
    "print(\"\\n***Test 9: Meets DP epsilon criteria\")\n",
    "safeKerasModel9 = Safe_KerasModel(inputs= input_data, outputs=output,name=\"safekerasmodel9-test\", optimizer=\"Adam\")\n",
    "safeKerasModel9.compile(loss=loss)\n",
    "safeKerasModel9.fit(Xt_member, \n",
    "                    yt_member, \n",
    "                    validation_data=(Xt_nonmember, yt_nonmember),\n",
    "                    epochs=epochs, \n",
    "                    batch_size=batch_size)\n",
    "safeKerasModel9.save(\"unsafe7.hd5\")\n",
    "\n",
    "safeKerasModel9.preliminary_check(apply_constraints=False)\n",
    "safeKerasModel9.request_release(filename=\"unsafe9.hd5\")"
   ]
  },
  {
   "cell_type": "markdown",
   "metadata": {},
   "source": [
    "### Test 10 Optimizer is set as DP Version from the start"
   ]
  },
  {
   "cell_type": "code",
   "execution_count": 34,
   "metadata": {},
   "outputs": [
    {
     "name": "stdout",
     "output_type": "stream",
     "text": [
      "\n",
      "***Test 10: Optimizer is set as DP version from the start\n",
      "WARNING: model parameters may present a disclosure risk:\n",
      "- parameter noise_multiplier = 0.5 identified as less than the recommended min value of 0.7.\n",
      "Changed parameter noise_multiplier = 0.7.\n",
      "\n",
      "DP optimizer used = False\n",
      "optimizer has been changed but fit() has not been rerun.\n",
      "(250, 300)\n",
      "DP-SGD with sampling rate = 0.4% and noise_multiplier = 0.7 iterated over 5000 steps satisfies differential privacy with eps = 4.38 and delta = 1e-05.\n",
      "The optimal RDP order is 4.5.\n",
      "Epoch 1/20\n",
      "250/250 [==============================] - 6s 12ms/step - loss: 38802852.0000 - accuracy: 0.5920 - val_loss: 46974120.0000 - val_accuracy: 0.4760\n",
      "Epoch 2/20\n",
      "250/250 [==============================] - 3s 10ms/step - loss: 42542492.0000 - accuracy: 0.5640 - val_loss: 53113272.0000 - val_accuracy: 0.5000\n",
      "Epoch 3/20\n",
      "250/250 [==============================] - 2s 9ms/step - loss: 52882716.0000 - accuracy: 0.5760 - val_loss: 65385396.0000 - val_accuracy: 0.5120\n",
      "Epoch 4/20\n",
      "250/250 [==============================] - 2s 9ms/step - loss: 60625460.0000 - accuracy: 0.5560 - val_loss: 76387568.0000 - val_accuracy: 0.4960\n",
      "Epoch 5/20\n",
      "250/250 [==============================] - 3s 14ms/step - loss: 59317692.0000 - accuracy: 0.5760 - val_loss: 75990488.0000 - val_accuracy: 0.4880\n",
      "Epoch 6/20\n",
      "250/250 [==============================] - 3s 10ms/step - loss: 68491824.0000 - accuracy: 0.5240 - val_loss: 76961248.0000 - val_accuracy: 0.4960\n",
      "Epoch 7/20\n",
      "250/250 [==============================] - 3s 10ms/step - loss: 69583088.0000 - accuracy: 0.5320 - val_loss: 92695256.0000 - val_accuracy: 0.4920\n",
      "Epoch 8/20\n",
      "250/250 [==============================] - 4s 15ms/step - loss: 63679608.0000 - accuracy: 0.5440 - val_loss: 71139176.0000 - val_accuracy: 0.5120\n",
      "Epoch 9/20\n",
      "250/250 [==============================] - 2s 9ms/step - loss: 61077704.0000 - accuracy: 0.5600 - val_loss: 77457400.0000 - val_accuracy: 0.5040\n",
      "Epoch 10/20\n",
      "250/250 [==============================] - 2s 9ms/step - loss: 68670912.0000 - accuracy: 0.5680 - val_loss: 77630384.0000 - val_accuracy: 0.5400\n",
      "Epoch 11/20\n",
      "250/250 [==============================] - 2s 8ms/step - loss: 71016504.0000 - accuracy: 0.5480 - val_loss: 77687256.0000 - val_accuracy: 0.5440\n",
      "Epoch 12/20\n",
      "250/250 [==============================] - 2s 8ms/step - loss: 76015776.0000 - accuracy: 0.5400 - val_loss: 90187064.0000 - val_accuracy: 0.5240\n",
      "Epoch 13/20\n",
      "250/250 [==============================] - 2s 9ms/step - loss: 76649664.0000 - accuracy: 0.6000 - val_loss: 92421824.0000 - val_accuracy: 0.5240\n",
      "Epoch 14/20\n",
      "250/250 [==============================] - 2s 9ms/step - loss: 82666920.0000 - accuracy: 0.5720 - val_loss: 101823552.0000 - val_accuracy: 0.5320\n",
      "Epoch 15/20\n",
      "250/250 [==============================] - 3s 10ms/step - loss: 80206032.0000 - accuracy: 0.5680 - val_loss: 116585432.0000 - val_accuracy: 0.5200\n",
      "Epoch 16/20\n",
      "250/250 [==============================] - 3s 10ms/step - loss: 91593936.0000 - accuracy: 0.5840 - val_loss: 114557656.0000 - val_accuracy: 0.4920\n",
      "Epoch 17/20\n",
      "250/250 [==============================] - 2s 10ms/step - loss: 96530680.0000 - accuracy: 0.5960 - val_loss: 130324416.0000 - val_accuracy: 0.5040\n",
      "Epoch 18/20\n",
      "250/250 [==============================] - 3s 10ms/step - loss: 100581048.0000 - accuracy: 0.5840 - val_loss: 124644896.0000 - val_accuracy: 0.5160\n",
      "Epoch 19/20\n",
      "250/250 [==============================] - 3s 11ms/step - loss: 83830112.0000 - accuracy: 0.6000 - val_loss: 119027688.0000 - val_accuracy: 0.5080\n",
      "Epoch 20/20\n",
      "250/250 [==============================] - 3s 11ms/step - loss: 88902848.0000 - accuracy: 0.5760 - val_loss: 126239488.0000 - val_accuracy: 0.4600\n",
      "INFO:tensorflow:Assets written to: unsafe7.hd5/assets\n",
      "Model parameters are within recommended ranges.\n",
      "\n",
      "INFO:tensorflow:Assets written to: unsafe10.hd5/assets\n"
     ]
    },
    {
     "name": "stderr",
     "output_type": "stream",
     "text": [
      "_obj_reference_counts_dict cannot be copied\n",
      "...<class 'TypeError'> error; cannot pickle '_thread.RLock' object\n",
      "_thread_local cannot be copied\n",
      "...<class 'TypeError'> error; cannot pickle '_thread._local' object\n",
      "_metrics_lock cannot be copied\n",
      "...<class 'TypeError'> error; cannot pickle '_thread.lock' object\n"
     ]
    },
    {
     "name": "stdout",
     "output_type": "stream",
     "text": [
      "INFO:tensorflow:Assets written to: ram://3ba1b825-9f68-4ca1-97cc-1532df3d5188/assets\n"
     ]
    },
    {
     "name": "stderr",
     "output_type": "stream",
     "text": [
      "_trackable_saver cannot be copied\n",
      "...<class 'ValueError'> error; Unknown optimizer: DPOptimizerClass. Please ensure this object is passed to the `custom_objects` argument. See https://www.tensorflow.org/guide/keras/save_and_serialize#registering_the_custom_object for details.\n",
      "_self_unconditional_checkpoint_dependencies cannot be copied\n",
      "...<class 'TypeError'> error; cannot pickle '_thread.RLock' object\n",
      "_self_unconditional_dependency_names cannot be copied\n",
      "...<class 'TypeError'> error; cannot pickle '_thread.RLock' object\n",
      "compiled_loss cannot be copied\n",
      "...<class 'TypeError'> error; cannot pickle '_thread.RLock' object\n",
      "compiled_metrics cannot be copied\n",
      "...<class 'TypeError'> error; cannot pickle '_thread.RLock' object\n"
     ]
    },
    {
     "name": "stdout",
     "output_type": "stream",
     "text": [
      "INFO:tensorflow:Assets written to: ram://43e1de4f-67f2-4bd7-a024-77ccbc2c9920/assets\n"
     ]
    },
    {
     "name": "stderr",
     "output_type": "stream",
     "text": [
      "history cannot be copied\n",
      "...<class 'ValueError'> error; Unknown optimizer: DPOptimizerClass. Please ensure this object is passed to the `custom_objects` argument. See https://www.tensorflow.org/guide/keras/save_and_serialize#registering_the_custom_object for details.\n",
      "train_function cannot be copied\n",
      "...<class 'TypeError'> error; cannot pickle '_thread.RLock' object\n",
      "test_function cannot be copied\n",
      "...<class 'TypeError'> error; cannot pickle '_thread.RLock' object\n",
      "train_tf_function cannot be copied\n",
      "...<class 'TypeError'> error; cannot pickle '_thread.RLock' object\n"
     ]
    },
    {
     "name": "stdout",
     "output_type": "stream",
     "text": [
      "<tensorflow_privacy.privacy.optimizers.dp_optimizer_keras.make_keras_optimizer_class.<locals>.DPOptimizerClass object at 0x7f718f197a00>\n",
      "<tensorflow_privacy.privacy.optimizers.dp_optimizer_keras.make_keras_optimizer_class.<locals>.DPOptimizerClass object at 0x7f718f197a00>\n",
      "DP-SGD with sampling rate = 10% and noise_multiplier = 0.7 iterated over 200 steps satisfies differential privacy with eps = 23.1 and delta = 1e-05.\n",
      "The optimal RDP order is 2.0.\n"
     ]
    }
   ],
   "source": [
    "import tensorflow_privacy as tf_privacy\n",
    "importlib.reload(safemodel.safemodel)\n",
    "importlib.reload(safemodel.classifiers.safekeras)\n",
    "from safemodel.classifiers.safekeras import Safe_KerasModel\n",
    "\n",
    "epochs=20\n",
    "batch_size=1\n",
    "# change another model params in an  safe way i.e. Optimizer=tf_privacy.DPKerasAdamOptimizer\n",
    "print(\"\\n***Test 10: Optimizer is set as DP version from the start\")\n",
    "safeKerasModel10 = Safe_KerasModel(inputs= input_data, outputs=output,name=\"safekerasmodel10-test\", optimizer=tf_privacy.DPKerasAdamOptimizer)\n",
    "safeKerasModel10.compile(loss=loss)\n",
    "safeKerasModel10.fit(Xt_member, \n",
    "                    yt_member, \n",
    "                    validation_data=(Xt_nonmember, yt_nonmember),\n",
    "                    epochs=epochs, \n",
    "                    batch_size=batch_size)\n",
    "safeKerasModel10.save(\"unsafe7.hd5\")\n",
    "\n",
    "safeKerasModel10.preliminary_check(apply_constraints=False)\n",
    "safeKerasModel10.request_release(filename=\"unsafe10.hd5\")"
   ]
  }
 ],
 "metadata": {
  "kernelspec": {
   "display_name": "Python 3 (ipykernel)",
   "language": "python",
   "name": "python3"
  },
  "language_info": {
   "codemirror_mode": {
    "name": "ipython",
    "version": 3
   },
   "file_extension": ".py",
   "mimetype": "text/x-python",
   "name": "python",
   "nbconvert_exporter": "python",
   "pygments_lexer": "ipython3",
   "version": "3.9.7"
  }
 },
 "nbformat": 4,
 "nbformat_minor": 4
}
