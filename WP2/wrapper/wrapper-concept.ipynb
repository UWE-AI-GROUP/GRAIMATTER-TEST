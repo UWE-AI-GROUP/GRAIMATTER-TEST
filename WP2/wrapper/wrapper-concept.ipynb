{
 "cells": [
  {
   "cell_type": "code",
   "execution_count": null,
   "id": "b6b8ac33-d00b-4d38-bc76-a649325e18a2",
   "metadata": {},
   "outputs": [],
   "source": [
    "# file wrapper-concept.ipynb\n",
    "# author Jim Smith Jan 2022\n",
    "# note book to explore and illsutrate the basic concept of a warpper class"
   ]
  },
  {
   "cell_type": "markdown",
   "id": "c0d92b96-a6bc-4b1b-9040-f81c095e8770",
   "metadata": {},
   "source": [
    "## Some basic examples to explore what the wrapper class could look like and be implemented\n",
    "\n",
    "### Lets start by making some data with one disclosive case\n",
    "We'll do this by adding an example to the iris data and give it a new class to make things really obvious"
   ]
  },
  {
   "cell_type": "code",
   "execution_count": null,
   "id": "47e9809e-f778-48de-9857-a6a481d96cd3",
   "metadata": {},
   "outputs": [],
   "source": [
    "import numpy as np\n",
    "from sklearn import datasets \n",
    "\n",
    "iris= datasets.load_iris()\n",
    "X= iris.data\n",
    "y = iris.target\n",
    "\n",
    "\n",
    "\n",
    "#print the max and min values in each feature to help hand-craft the disclopsive point\n",
    "for  feature in range (4):\n",
    "    print (f'feature {feature} min {np.min(X[:,feature])}, min {np.max(X[:,feature])}')\n",
    "    \n",
    "# now add a single disclosve point with features [7,2,4.5,1] and label 3\n",
    "X = np.vstack([X,(7,2.0,4.5,1)])\n",
    "y = np.append(y,4)"
   ]
  },
  {
   "cell_type": "markdown",
   "id": "d5effc9f-f2b3-4e8c-b2c3-87633c7a76fb",
   "metadata": {},
   "source": [
    "### and import some basic libraries to show our point"
   ]
  },
  {
   "cell_type": "code",
   "execution_count": null,
   "id": "828ba8d9-c78e-4259-bd49-802481b70ee5",
   "metadata": {},
   "outputs": [],
   "source": [
    "from sklearn.tree import  plot_tree\n",
    "import matplotlib.pyplot as plt"
   ]
  },
  {
   "cell_type": "markdown",
   "id": "9d657d29-6edb-4e50-813e-654b104c7f75",
   "metadata": {},
   "source": [
    "## Here's the raw version\n",
    "-  note I am setting random_state=1 to make it deterministic, just so you ge the same reults as me\n",
    " - the general point is not that someone always will, but that they could\n",
    " - in practice i ran 10 times not setting random state and got the same tree 4/5 times"
   ]
  },
  {
   "cell_type": "code",
   "execution_count": null,
   "id": "0a2e85c9-5516-43f7-bb96-ddb48dc08d15",
   "metadata": {},
   "outputs": [],
   "source": [
    "# example code with no safety\n",
    "\n",
    "from sklearn.tree import DecisionTreeClassifier\n",
    "\n",
    "rawDT = DecisionTreeClassifier(min_samples_leaf = 1, criterion=\"gini\",random_state=1)\n",
    "rawDT.fit(X,y)\n",
    "\n",
    "print(f'Training set accuracy in this naive case is {rawDT.score(X,y)}')\n",
    "\n",
    "fig,ax = plt.subplots(1,1,figsize=(15,10))\n",
    "output = plot_tree(rawDT,filled=True, ax=ax,fontsize=11)\n",
    "\n",
    "\n"
   ]
  },
  {
   "cell_type": "markdown",
   "id": "1dd44240-2ed4-4e94-9633-94057220d686",
   "metadata": {},
   "source": [
    "### As we can see we have several disclosive nodes, one of which is our added point\n",
    "The exact values cannot be inferred but if we (reasonably) assume all features are non-negative we can get uper and lower bounds for the attribute values on that node:  \n",
    "> (6.95,inf),  \\[0,2.6\\],  (0,4.95\\],  (0.8, 1.65\\]\n",
    "\n",
    "so this is disclosive to a certain degree.\n",
    "\n",
    "- In this case I spent 5 minutes manually tuning the values of the added point so that the tree included at least one decision node for each feature\n",
    "\n",
    "- We can take it as read that it would be fairly trivial to write something like a GA automatically tune the feature values of the added point minimising the differnce betwee nthre upper and lower boiunds for each feauture.\n",
    "\n",
    "- But that is not really the point of this exercise which was to show that allowing the user to set inappropriatse values for a single parameter could produce a disclosive tree. \n"
   ]
  },
  {
   "cell_type": "markdown",
   "id": "2bcf587c-fd29-4801-ba9b-51a342ac8aed",
   "metadata": {},
   "source": [
    "### Diligent user realises problem, and changes their code to enforce at least n samples in each leaf\n",
    "We'll use n=5 "
   ]
  },
  {
   "cell_type": "code",
   "execution_count": null,
   "id": "24bd26c3-6917-4493-b1c8-283d9fd8d4a2",
   "metadata": {},
   "outputs": [],
   "source": [
    "manualDT = DecisionTreeClassifier(min_samples_leaf = 5, criterion=\"gini\", random_state=1)\n",
    "manualDT.fit(X,y)\n",
    "\n",
    "print(f'Training set accuracy in this naive case is {manualDT.score(X,y)}')\n",
    "\n",
    "fig2,ax2 = plt.subplots(1,1,figsize=(15,10))\n",
    "output = plot_tree(manualDT,filled=True, ax=ax2,fontsize=11)\n",
    "\n"
   ]
  },
  {
   "cell_type": "markdown",
   "id": "968acece-746d-4b53-a20d-ef100e1b59a8",
   "metadata": {},
   "source": [
    "### output is now non-disclosive (at least according to the threshold rule)\n",
    "- easily see we don't get a node for the new class 3"
   ]
  },
  {
   "cell_type": "markdown",
   "id": "ac1d51e4-a2ad-41e9-bd59-389741c1d996",
   "metadata": {},
   "source": [
    "## So lets define a new class SafeDecisionTree \n",
    "### after starting by removing the import of DecisionTreeClassfier"
   ]
  },
  {
   "cell_type": "code",
   "execution_count": null,
   "id": "6bd1dad2-a194-4697-8dc4-465ae83791b2",
   "metadata": {},
   "outputs": [],
   "source": [
    "del DecisionTreeClassifier\n",
    "try:\n",
    "    shouldFail = DecisionTreeClassifier()\n",
    "except:\n",
    "    print('call failed correctly')"
   ]
  },
  {
   "cell_type": "code",
   "execution_count": null,
   "id": "a6c88914-790f-417c-89b7-6641f2ca6539",
   "metadata": {},
   "outputs": [],
   "source": [
    "import importlib, SafeModel\n",
    "importlib.reload(SafeModel)\n",
    "\n",
    "\n",
    "\n",
    "\n",
    "from SafeModel import SafeModel, SafeDecisionTree\n",
    "\n",
    " "
   ]
  },
  {
   "cell_type": "code",
   "execution_count": null,
   "id": "8993ca95-4e71-48e4-8b11-783fcffcdec9",
   "metadata": {},
   "outputs": [],
   "source": [
    "\n",
    "noNameModel = SafeModel()\n",
    "\n",
    "try:\n",
    "    print(noNameModel.__str__())\n",
    "except:\n",
    "    print(\"super class has no attributes to print\")"
   ]
  },
  {
   "cell_type": "code",
   "execution_count": null,
   "id": "504c3c64-adcf-4796-b4ef-c574a6cfe1bb",
   "metadata": {},
   "outputs": [],
   "source": [
    "safeDTModel= SafeDecisionTree()#(criterion=\"entropy\")\n",
    "print(safeDTModel.__str__())"
   ]
  },
  {
   "cell_type": "code",
   "execution_count": null,
   "id": "e92b751a-5d23-4019-bc54-3986c072c9b1",
   "metadata": {},
   "outputs": [],
   "source": [
    "safeDTModel.fit(X,y)\n",
    "\n",
    "print(f'Training set accuracy in this naive case is {safeDTModel.score(X,y)}')\n",
    "\n",
    "fig,ax = plt.subplots(1,1,figsize=(15,10))\n",
    "output = plot_tree(safeDTModel.model,filled=True, ax=ax,fontsize=11)\n",
    "\n",
    "\n",
    "\n"
   ]
  },
  {
   "cell_type": "markdown",
   "id": "894919fa-17d4-41cc-b065-690e10cdc192",
   "metadata": {},
   "source": [
    "## Now demonstrate the save and reporting functionality"
   ]
  },
  {
   "cell_type": "code",
   "execution_count": null,
   "id": "2fec67c3-4b39-4d90-aa83-45ca576742ac",
   "metadata": {},
   "outputs": [],
   "source": [
    "safeDTModel.saveModel(name=\"testSave.pkl\")\n",
    "safeDTModel.preliminaryCheck()\n",
    "#safeDTmodel.requestRelease()"
   ]
  },
  {
   "cell_type": "markdown",
   "id": "27211998-c809-4c20-96c7-49909983f1af",
   "metadata": {},
   "source": [
    "## Now lets try to attack this approach\n",
    "### starting with listing the params then trying to set the params manually after init"
   ]
  },
  {
   "cell_type": "code",
   "execution_count": null,
   "id": "6f393ab2-9237-43ed-8921-36ffd0044e5d",
   "metadata": {},
   "outputs": [],
   "source": [
    "print(safeDTModel.__dict__)\n",
    "print(safeDTModel.model)\n",
    "print(safeDTModel.model.__dict__)"
   ]
  },
  {
   "cell_type": "code",
   "execution_count": null,
   "id": "c060b2c1-9866-4eb4-93fd-083db423f393",
   "metadata": {},
   "outputs": [],
   "source": [
    "safeDTModel.model.min_samples_leaf=1\n",
    "\n",
    "safeDTModel.fit(X,y)\n",
    "\n",
    "print(f'Training set accuracy in this naive case is {safeDTModel.score(X,y)}')\n",
    "\n",
    "fig,ax = plt.subplots(1,1,figsize=(15,10))\n",
    "output = plot_tree(safeDTModel.model,filled=True, ax=ax,fontsize=11)\n",
    "\n"
   ]
  },
  {
   "cell_type": "markdown",
   "id": "8bf0bb1a-1a5e-4702-9c4d-cdafa2bc1b8a",
   "metadata": {},
   "source": [
    "### This has let the user reset the params so that the model is now disclosive once again.\n",
    "\n",
    "## Question: what do we do here:\n",
    "1. Find a way of obfuscating the params so that they cannot be changed from outside the wrapper class\n",
    "  - hard, not very python esque\n",
    "  - also what if the use wants to increase min_samples_leaf which would make the model less disclosive than the default values?\n",
    "2. Put code into the makeReport() function that checks the params values and says if they have been changed.\n",
    " - this suggest a route i have thought about, but not put into code yet, which stores the \"safe\" param values in a read-only file  \n",
    "   and reads that into a dict in the init(0 and makeReport() functions. \n",
    "    - The dict key is name of parameter name, value is a tuple of [operator, value]  \n",
    "      where operator is one of [\"min\" |\"equals\" | \"max\"] and value is applied to operator\n",
    "    - the dict is read afresh in __init__() and in makeReport() to prevent users amending values \n",
    " - that would have the benefit of allowing users to increase the min_samples_leaf but report when it was taken below our threshold\n",
    " \n",
    " - issue is how to deal with situations where the safety is built from a non-linear interaction between param values\n",
    "   - that is a problem to deal with in the second stage of the project once we have proved the concept\n",
    " "
   ]
  },
  {
   "cell_type": "code",
   "execution_count": null,
   "id": "8b352bb2-3608-433e-b586-b235344ec58f",
   "metadata": {},
   "outputs": [],
   "source": [
    "# create and fit using recomended params\n",
    "print(\"***researcher doesn't change recomended params\")\n",
    "safeDTModel2= SafeDecisionTree()\n",
    "safeDTModel2.fit(X,y)\n",
    "safeDTModel2.saveModel(name=\"safe2.pkl\")\n",
    "safeDTModel2.preliminaryCheck()\n",
    "safeDTModel2.requestRelease(filename=\"safe2.pkl\")\n",
    "\n",
    "\n",
    "\n",
    "\n",
    "\n",
    "# change model params to recommended values\n",
    "print(\"\\n***researcher changes params safely\")\n",
    "safeDTModel3= SafeDecisionTree()\n",
    "safeDTModel3.model.min_samples_leaf=5\n",
    "safeDTModel3.fit(X,y)\n",
    "safeDTModel3.saveModel(name=\"safe3.pkl\")\n",
    "safeDTModel3.preliminaryCheck()\n",
    "safeDTModel3.requestRelease(filename=\"safe3.pkl\")\n",
    "\n",
    "\n",
    "\n",
    "# change model params in a safe way\n",
    "print(\"\\n***researcher changes params safely\")\n",
    "safeDTModel4= SafeDecisionTree()\n",
    "safeDTModel4.model.min_samples_leaf=10\n",
    "safeDTModel4.fit(X,y)\n",
    "safeDTModel4.saveModel(name=\"safe4.pkl\")\n",
    "safeDTModel4.preliminaryCheck()\n",
    "safeDTModel4.requestRelease(filename=\"safe4.pkl\")\n",
    "\n",
    "\n",
    "\n",
    "\n",
    "\n",
    "# change model params in an  unsafe way\n",
    "print(\"\\n***researcher changes params unsafely\")\n",
    "safeDTModel5= SafeDecisionTree()\n",
    "safeDTModel5.model.min_samples_leaf=1\n",
    "safeDTModel5.saveModel(name=\"unsafe.pkl\")\n",
    "safeDTModel5.preliminaryCheck()\n",
    "safeDTModel5.requestRelease(filename= \"unsafe.pkl\")\n",
    "\n"
   ]
  },
  {
   "cell_type": "code",
   "execution_count": null,
   "id": "5c59ee3b-52fb-4aa8-a481-6ca879a14466",
   "metadata": {},
   "outputs": [],
   "source": [
    "!ls; echo \"contetns of checkfile are\"; cat j4-smith_checkfile.txt\n"
   ]
  },
  {
   "cell_type": "code",
   "execution_count": null,
   "id": "6f70d4ac",
   "metadata": {},
   "outputs": [],
   "source": []
  }
 ],
 "metadata": {
  "kernelspec": {
   "display_name": "Python 3 (ipykernel)",
   "language": "python",
   "name": "python3"
  },
  "language_info": {
   "codemirror_mode": {
    "name": "ipython",
    "version": 3
   },
   "file_extension": ".py",
   "mimetype": "text/x-python",
   "name": "python",
   "nbconvert_exporter": "python",
   "pygments_lexer": "ipython3",
   "version": "3.9.7"
  }
 },
 "nbformat": 4,
 "nbformat_minor": 5
}
