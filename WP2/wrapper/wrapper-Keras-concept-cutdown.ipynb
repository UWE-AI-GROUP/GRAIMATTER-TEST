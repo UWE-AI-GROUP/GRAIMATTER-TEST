{
 "cells": [
  {
   "cell_type": "code",
   "execution_count": 1,
   "metadata": {},
   "outputs": [],
   "source": [
    "import sys\n",
    "import os\n",
    "\n",
    "ROOT_DIR = os.path.dirname(os.path.dirname(os.path.abspath(\"\")))\n",
    "sys.path.append(ROOT_DIR)"
   ]
  },
  {
   "cell_type": "code",
   "execution_count": 2,
   "metadata": {},
   "outputs": [],
   "source": [
    "import numpy as np\n",
    "import matplotlib.pyplot as plt\n",
    "\n",
    "%matplotlib inline\n",
    "\n",
    "# Scikit-learn utils\n",
    "from sklearn.model_selection import train_test_split\n",
    "from sklearn.datasets import make_classification, make_moons\n",
    "from sklearn.metrics import ConfusionMatrixDisplay\n",
    "from sklearn.metrics import confusion_matrix, classification_report, roc_curve, auc\n",
    "\n",
    "# Tensorflow imports\n",
    "import tensorflow as tf\n",
    "from tensorflow.keras.models import Model\n",
    "from tensorflow.keras.layers import Input, Dense, Dropout\n",
    "\n",
    "# Classifiers for attack models\n",
    "from sklearn.linear_model import LogisticRegression\n",
    "from sklearn.neural_network import MLPClassifier\n"
   ]
  },
  {
   "cell_type": "code",
   "execution_count": 3,
   "metadata": {},
   "outputs": [],
   "source": [
    "#import t=privachy version \n",
    "import tensorflow_privacy\n",
    "\n",
    "from tensorflow_privacy.privacy.analysis import compute_dp_sgd_privacy\n"
   ]
  },
  {
   "cell_type": "markdown",
   "metadata": {},
   "source": [
    "### Definition of the datasets\n",
    "1. We draw data points from a distribution.\n",
    "2. We split these data points into the target dataset and a shadow dataset drawn from the same distribution.\n",
    "3. We also draw a dataset from a different distribution.\n",
    "\n",
    "**NOTE**. ***I make datasets with few samples but with many features to force the target model to overfit.***\n",
    "\n",
    "\n",
    "***NOTE JIM: had to make batch_size 25 so DP optimizer would run with same hyperparams"
   ]
  },
  {
   "cell_type": "code",
   "execution_count": 4,
   "metadata": {},
   "outputs": [],
   "source": [
    "n_classes = 2\n",
    "\n",
    "# (X,y): Original distribution\n",
    "X, y = make_classification(n_samples=1000,\n",
    "                           n_classes=n_classes, \n",
    "                           n_features=300,\n",
    "                           n_informative=300,\n",
    "                           n_redundant=0,\n",
    "                           n_repeated=0,\n",
    "                           random_state=15\n",
    "                          )\n",
    "# One-hot encoding of the label\n",
    "y = np.eye(n_classes)[y]\n",
    "\n",
    "# (Xt, yt) is the target dataset, owned by the TRE and drawn from the (X,y) distribution\n",
    "# (Xs, ys) is a shadow dataset drawn from the (X,y) distribution\n",
    "Xt, Xs, yt, ys = train_test_split(X, y, test_size=0.50, random_state=15)\n",
    "\n",
    "# (Xd, yd) is a shadow dataset, drawn from a different distribution (different seed)\n",
    "Xd, yd = make_classification(n_samples=1000,\n",
    "                           n_classes=n_classes, \n",
    "                           n_features=300,\n",
    "                           n_informative=300,\n",
    "                           n_redundant=0,\n",
    "                           n_repeated=0,\n",
    "                           random_state=42\n",
    "                          )\n",
    "yd = np.eye(n_classes)[yd]\n",
    "\n",
    "\n"
   ]
  },
  {
   "cell_type": "code",
   "execution_count": 5,
   "metadata": {},
   "outputs": [],
   "source": [
    "# Split into train (member) and test (non-member) datasets\n",
    "# Set shuffle to False so that Xt_membership is consistent with Xt, otherwise\n",
    "# we need to stack Xt_member and Xt_nonmember again to get a consistent Xt.\n",
    "Xt_member, Xt_nonmember, yt_member, yt_nonmember = train_test_split(Xt, yt, test_size=0.5, shuffle=False)\n",
    "\n",
    "# Set membership status for future tests\n",
    "Xt_membership = np.vstack(\n",
    "    (\n",
    "        np.ones((Xt_member.shape[0], 1), np.uint8),\n",
    "        np.zeros((Xt_nonmember.shape[0], 1), np.uint8)\n",
    "    )\n",
    ").flatten()"
   ]
  },
  {
   "cell_type": "markdown",
   "metadata": {},
   "source": [
    "### Define the target model architecture\n",
    "\n",
    "*Again, I'm using a rather big model (for the classification task) to favour overfitting.*"
   ]
  },
  {
   "cell_type": "code",
   "execution_count": 6,
   "metadata": {},
   "outputs": [
    {
     "name": "stdout",
     "output_type": "stream",
     "text": [
      "Metal device set to: Apple M1 Pro\n"
     ]
    },
    {
     "name": "stderr",
     "output_type": "stream",
     "text": [
      "2022-05-13 11:37:26.390092: I tensorflow/core/common_runtime/pluggable_device/pluggable_device_factory.cc:305] Could not identify NUMA node of platform GPU ID 0, defaulting to 0. Your kernel may not have been built with NUMA support.\n",
      "2022-05-13 11:37:26.390211: I tensorflow/core/common_runtime/pluggable_device/pluggable_device_factory.cc:271] Created TensorFlow device (/job:localhost/replica:0/task:0/device:GPU:0 with 0 MB memory) -> physical PluggableDevice (device: 0, name: METAL, pci bus id: <undefined>)\n"
     ]
    }
   ],
   "source": [
    "# Define target model\n",
    "# Tensorflow model (MLP) (making it big to make it overfit)\n",
    "\n",
    "input_data = Input(shape = Xt_member[0].shape)\n",
    "x = Dense(128, activation='relu')(input_data)\n",
    "x = Dense(128, activation='relu')(x)\n",
    "x = Dense(64, activation='relu')(x)\n",
    "output = Dense(2, activation='softmax')(x)"
   ]
  },
  {
   "cell_type": "markdown",
   "metadata": {},
   "source": [
    "## Now try the SafeKerasModel version"
   ]
  },
  {
   "cell_type": "code",
   "execution_count": 7,
   "metadata": {
    "scrolled": true
   },
   "outputs": [],
   "source": [
    "import importlib\n",
    "import safemodel\n",
    "from safemodel.classifiers.safekeras import Safe_KerasModel\n",
    "\n",
    "\n",
    "\n",
    "importlib.reload(safemodel.safemodel)\n",
    "importlib.reload(safemodel.classifiers.safekeras)\n",
    "from safemodel.classifiers.safekeras import Safe_KerasModel\n",
    "\n"
   ]
  },
  {
   "cell_type": "code",
   "execution_count": 8,
   "metadata": {},
   "outputs": [
    {
     "name": "stdout",
     "output_type": "stream",
     "text": [
      "args is a <class 'tuple'> = ()  kwargs is a <class 'dict'>= {'inputs': <KerasTensor: shape=(None, 300) dtype=float32 (created by layer 'input_1')>, 'outputs': <KerasTensor: shape=(None, 2) dtype=float32 (created by layer 'dense_3')>, 'name': 'safekeras-test'}\n",
      "WARNING: model parameters may present a disclosure risk:\n",
      "- parameter optimizer = None identified as different type to recommendation of tensorflow_privacy.privacy.optimizers.dp_optimizer_keras.make_keras_optimizer_class.<locals>.DPOptimizerClass.Nothing currently implemented to change type of parameter optimizer from NoneType to tensorflow_privacy.privacy.optimizers.dp_optimizer_keras.make_keras_optimizer_class.<locals>.DPOptimizerClass.\n",
      "\n"
     ]
    }
   ],
   "source": [
    "optimizer=None\n",
    "safeModel = Safe_KerasModel(inputs= input_data, outputs=output,name=\"safekeras-test\")\n"
   ]
  },
  {
   "cell_type": "code",
   "execution_count": 9,
   "metadata": {},
   "outputs": [],
   "source": [
    "#safeModel.__dict__\n"
   ]
  },
  {
   "cell_type": "code",
   "execution_count": 10,
   "metadata": {},
   "outputs": [],
   "source": [
    "loss = tf.keras.losses.CategoricalCrossentropy(\n",
    "    from_logits=False, reduction=tf.losses.Reduction.NONE)\n",
    "\n",
    "\n",
    "safeModel.compile(loss=loss)#optimizer='adam', loss='categorical_crossentropy', metrics=['accuracy'])\n",
    "\n",
    "\n"
   ]
  },
  {
   "cell_type": "code",
   "execution_count": 11,
   "metadata": {},
   "outputs": [
    {
     "name": "stdout",
     "output_type": "stream",
     "text": [
      "optimiser is type <class 'tensorflow_privacy.privacy.optimizers.dp_optimizer_keras.make_keras_optimizer_class.<locals>.DPOptimizerClass'>\n",
      " It is True that the moddel will be DP because optimiser does  contain key _was_dp_gradients_called so should be DP.\n"
     ]
    }
   ],
   "source": [
    "theType= type(safeModel.optimizer)\n",
    "print(f'optimiser is type {theType}')\n",
    "\n",
    "dpused,reason = safeModel.check_optimizer_is_DP(safeModel.optimizer)\n",
    "print(f' It is {dpused} that the moddel will be DP because {reason}')"
   ]
  },
  {
   "cell_type": "code",
   "execution_count": 12,
   "metadata": {},
   "outputs": [
    {
     "name": "stdout",
     "output_type": "stream",
     "text": [
      "Epoch 1/20\n"
     ]
    },
    {
     "name": "stderr",
     "output_type": "stream",
     "text": [
      "2022-05-13 11:37:26.650451: W tensorflow/core/platform/profile_utils/cpu_utils.cc:128] Failed to get CPU frequency: 0 Hz\n",
      "2022-05-13 11:37:27.147907: I tensorflow/core/grappler/optimizers/custom_graph_optimizer_registry.cc:113] Plugin optimizer for device_type GPU is enabled.\n"
     ]
    },
    {
     "name": "stdout",
     "output_type": "stream",
     "text": [
      "10/10 [==============================] - 4s 278ms/step - loss: 2.3861 - accuracy: 0.5360 - val_loss: 2.6914 - val_accuracy: 0.4640\n",
      "Epoch 2/20\n"
     ]
    },
    {
     "name": "stderr",
     "output_type": "stream",
     "text": [
      "2022-05-13 11:37:30.065634: I tensorflow/core/grappler/optimizers/custom_graph_optimizer_registry.cc:113] Plugin optimizer for device_type GPU is enabled.\n"
     ]
    },
    {
     "name": "stdout",
     "output_type": "stream",
     "text": [
      "10/10 [==============================] - 3s 273ms/step - loss: 1.9059 - accuracy: 0.6040 - val_loss: 2.3900 - val_accuracy: 0.5000\n",
      "Epoch 3/20\n",
      "10/10 [==============================] - 3s 276ms/step - loss: 1.5324 - accuracy: 0.6360 - val_loss: 2.2764 - val_accuracy: 0.5440\n",
      "Epoch 4/20\n",
      "10/10 [==============================] - 3s 272ms/step - loss: 1.3597 - accuracy: 0.6920 - val_loss: 2.2212 - val_accuracy: 0.5440\n",
      "Epoch 5/20\n",
      "10/10 [==============================] - 3s 276ms/step - loss: 1.1609 - accuracy: 0.7200 - val_loss: 2.0556 - val_accuracy: 0.5400\n",
      "Epoch 6/20\n",
      "10/10 [==============================] - 3s 277ms/step - loss: 0.9064 - accuracy: 0.7640 - val_loss: 2.0575 - val_accuracy: 0.5600\n",
      "Epoch 7/20\n",
      "10/10 [==============================] - 3s 307ms/step - loss: 0.8158 - accuracy: 0.7880 - val_loss: 2.0412 - val_accuracy: 0.5680\n",
      "Epoch 8/20\n",
      "10/10 [==============================] - 3s 277ms/step - loss: 0.7182 - accuracy: 0.8120 - val_loss: 2.0571 - val_accuracy: 0.5840\n",
      "Epoch 9/20\n",
      "10/10 [==============================] - 3s 281ms/step - loss: 0.6840 - accuracy: 0.8400 - val_loss: 2.1790 - val_accuracy: 0.5720\n",
      "Epoch 10/20\n",
      "10/10 [==============================] - 3s 276ms/step - loss: 0.6075 - accuracy: 0.8320 - val_loss: 2.1313 - val_accuracy: 0.5760\n",
      "Epoch 11/20\n",
      "10/10 [==============================] - 3s 280ms/step - loss: 0.4799 - accuracy: 0.8600 - val_loss: 2.1324 - val_accuracy: 0.5800\n",
      "Epoch 12/20\n",
      "10/10 [==============================] - 3s 277ms/step - loss: 0.3848 - accuracy: 0.8960 - val_loss: 2.2355 - val_accuracy: 0.5720\n",
      "Epoch 13/20\n",
      "10/10 [==============================] - 3s 284ms/step - loss: 0.3961 - accuracy: 0.9120 - val_loss: 2.2198 - val_accuracy: 0.6080\n",
      "Epoch 14/20\n",
      "10/10 [==============================] - 3s 279ms/step - loss: 0.3615 - accuracy: 0.9120 - val_loss: 2.3071 - val_accuracy: 0.5920\n",
      "Epoch 15/20\n",
      "10/10 [==============================] - 3s 291ms/step - loss: 0.3189 - accuracy: 0.9120 - val_loss: 2.3260 - val_accuracy: 0.6080\n",
      "Epoch 16/20\n",
      "10/10 [==============================] - 3s 277ms/step - loss: 0.2826 - accuracy: 0.9240 - val_loss: 2.2663 - val_accuracy: 0.6040\n",
      "Epoch 17/20\n",
      "10/10 [==============================] - 3s 280ms/step - loss: 0.2464 - accuracy: 0.9320 - val_loss: 2.3202 - val_accuracy: 0.6200\n",
      "Epoch 18/20\n",
      "10/10 [==============================] - 3s 284ms/step - loss: 0.2432 - accuracy: 0.9480 - val_loss: 2.4565 - val_accuracy: 0.6040\n",
      "Epoch 19/20\n",
      "10/10 [==============================] - 3s 277ms/step - loss: 0.2055 - accuracy: 0.9440 - val_loss: 2.4442 - val_accuracy: 0.6120\n",
      "Epoch 20/20\n",
      "10/10 [==============================] - 3s 274ms/step - loss: 0.2021 - accuracy: 0.9360 - val_loss: 2.4367 - val_accuracy: 0.5920\n"
     ]
    },
    {
     "data": {
      "image/png": "[encoded data removed]",
      "text/plain": [
       "<Figure size 432x288 with 1 Axes>"
      ]
     },
     "metadata": {
      "needs_background": "light"
     },
     "output_type": "display_data"
    }
   ],
   "source": [
    "epochs = 20\n",
    "batch_size = 25\n",
    "\n",
    "r_DP = safeModel.fit(Xt_member, \n",
    "              yt_member, \n",
    "              validation_data=(Xt_nonmember, yt_nonmember),\n",
    "              epochs=epochs, \n",
    "              batch_size=batch_size\n",
    ")  \n",
    "\n",
    "\n",
    "plt.plot(r_DP.history['accuracy'], label='accuracy')\n",
    "plt.plot(r_DP.history['val_accuracy'], label='validation accuracy')\n",
    "plt.legend()\n",
    "plt.show() \n"
   ]
  },
  {
   "cell_type": "code",
   "execution_count": 13,
   "metadata": {},
   "outputs": [
    {
     "name": "stdout",
     "output_type": "stream",
     "text": [
      "optimiser is type <class 'tensorflow_privacy.privacy.optimizers.dp_optimizer_keras.make_keras_optimizer_class.<locals>.DPOptimizerClass'>\n",
      " It is True that the moddel will be DP because  value of optimizer._was_dp_gradients_called is True so DP variant of optimiser has been run\n"
     ]
    }
   ],
   "source": [
    "theType= type(safeModel.optimizer)\n",
    "print(f'optimiser is type {theType}')\n",
    "\n",
    "dpused,reason = safeModel.check_DP_used(safeModel.optimizer)\n",
    "print(f' It is {dpused} that the moddel will be DP because {reason}')"
   ]
  },
  {
   "cell_type": "markdown",
   "metadata": {},
   "source": [
    "## compute privacy"
   ]
  },
  {
   "cell_type": "code",
   "execution_count": 16,
   "metadata": {},
   "outputs": [
    {
     "name": "stdout",
     "output_type": "stream",
     "text": [
      "dataset has 500 entries so batch size is 5.0%\n",
      "DP-SGD with sampling rate = 5% and noise_multiplier = 0.5 iterated over 500 steps satisfies differential privacy with eps = 43.9 and delta = 1e-05.\n",
      "The optimal RDP order is 1.5.\n",
      "with these settings privacy = (43.852285895654624, 1.5)\n"
     ]
    }
   ],
   "source": [
    "print(f'dataset has {Xt.shape[0]} entries so batch size is {100*safeModel.batch_size/Xt.shape[0]}%')\n",
    "privacy = compute_dp_sgd_privacy.compute_dp_sgd_privacy(n=Xt.shape[0],\n",
    "                                              batch_size=safeModel.batch_size,\n",
    "                                              noise_multiplier=safeModel.noise_multiplier,\n",
    "                                              epochs=25,#epochs,\n",
    "                                              delta=1e-5)\n",
    "print(f'with these settings privacy = {privacy}')"
   ]
  },
  {
   "cell_type": "code",
   "execution_count": 18,
   "metadata": {},
   "outputs": [
    {
     "name": "stdout",
     "output_type": "stream",
     "text": [
      "INFO:tensorflow:Assets written to: safekeras.sav/assets\n"
     ]
    },
    {
     "name": "stderr",
     "output_type": "stream",
     "text": [
      "2022-05-13 12:07:08.356706: W tensorflow/python/util/util.cc:368] Sets are not currently considered sequences, but this may change in the future, so consider avoiding using them.\n"
     ]
    }
   ],
   "source": [
    "safeModel.save('safekeras.sav')"
   ]
  },
  {
   "cell_type": "code",
   "execution_count": 19,
   "metadata": {},
   "outputs": [
    {
     "name": "stdout",
     "output_type": "stream",
     "text": [
      "WARNING: model parameters may present a disclosure risk:\n",
      "- parameter optimizer = <tensorflow_privacy.privacy.optimizers.dp_optimizer_keras.make_keras_optimizer_class.<locals>.DPOptimizerClass object at 0x28fe30100> identified as different type to recommendation of tensorflow_privacy.privacy.optimizers.dp_optimizer_keras.make_keras_optimizer_class.<locals>.DPOptimizerClass.\n"
     ]
    },
    {
     "data": {
      "text/plain": [
       "('WARNING: model parameters may present a disclosure risk:\\n- parameter optimizer = <tensorflow_privacy.privacy.optimizers.dp_optimizer_keras.make_keras_optimizer_class.<locals>.DPOptimizerClass object at 0x28fe30100> identified as different type to recommendation of tensorflow_privacy.privacy.optimizers.dp_optimizer_keras.make_keras_optimizer_class.<locals>.DPOptimizerClass.',\n",
       " True)"
      ]
     },
     "execution_count": 19,
     "metadata": {},
     "output_type": "execute_result"
    }
   ],
   "source": [
    "safeModel.preliminary_check()"
   ]
  },
  {
   "cell_type": "code",
   "execution_count": 20,
   "metadata": {},
   "outputs": [
    {
     "name": "stdout",
     "output_type": "stream",
     "text": [
      "INFO:tensorflow:Assets written to: safekeras.pkl/assets\n"
     ]
    },
    {
     "ename": "AttributeError",
     "evalue": "type object 'super' has no attribute 'posthoc'",
     "output_type": "error",
     "traceback": [
      "\u001b[0;31m---------------------------------------------------------------------------\u001b[0m",
      "\u001b[0;31mAttributeError\u001b[0m                            Traceback (most recent call last)",
      "\u001b[0;32m/var/folders/4m/prf7hx2x71dd2kz4x0g_v6hc000369/T/ipykernel_57183/2327239443.py\u001b[0m in \u001b[0;36m<module>\u001b[0;34m\u001b[0m\n\u001b[0;32m----> 1\u001b[0;31m \u001b[0msafeModel\u001b[0m\u001b[0;34m.\u001b[0m\u001b[0mrequest_release\u001b[0m\u001b[0;34m(\u001b[0m\u001b[0;34m'safekeras.pkl'\u001b[0m\u001b[0;34m)\u001b[0m\u001b[0;34m\u001b[0m\u001b[0;34m\u001b[0m\u001b[0m\n\u001b[0m",
      "\u001b[0;32m~/Documents/GraiMatter-work/GRAIMatter/safemodel/safemodel.py\u001b[0m in \u001b[0;36mrequest_release\u001b[0;34m(self, filename)\u001b[0m\n\u001b[1;32m    338\u001b[0m             \u001b[0mself\u001b[0m\u001b[0;34m.\u001b[0m\u001b[0msave\u001b[0m\u001b[0;34m(\u001b[0m\u001b[0mfilename\u001b[0m\u001b[0;34m)\u001b[0m\u001b[0;34m\u001b[0m\u001b[0;34m\u001b[0m\u001b[0m\n\u001b[1;32m    339\u001b[0m             \u001b[0mmsg_prel\u001b[0m\u001b[0;34m,\u001b[0m \u001b[0mdisclosive_prel\u001b[0m \u001b[0;34m=\u001b[0m \u001b[0mself\u001b[0m\u001b[0;34m.\u001b[0m\u001b[0mpreliminary_check\u001b[0m\u001b[0;34m(\u001b[0m\u001b[0mverbose\u001b[0m\u001b[0;34m=\u001b[0m\u001b[0;32mFalse\u001b[0m\u001b[0;34m)\u001b[0m\u001b[0;34m\u001b[0m\u001b[0;34m\u001b[0m\u001b[0m\n\u001b[0;32m--> 340\u001b[0;31m             \u001b[0mmsg_post\u001b[0m\u001b[0;34m,\u001b[0m \u001b[0mdisclosive_post\u001b[0m \u001b[0;34m=\u001b[0m \u001b[0mself\u001b[0m\u001b[0;34m.\u001b[0m\u001b[0mposthoc_check\u001b[0m\u001b[0;34m(\u001b[0m\u001b[0;34m)\u001b[0m\u001b[0;34m\u001b[0m\u001b[0;34m\u001b[0m\u001b[0m\n\u001b[0m\u001b[1;32m    341\u001b[0m             output: dict = {\n\u001b[1;32m    342\u001b[0m                 \u001b[0;34m\"researcher\"\u001b[0m\u001b[0;34m:\u001b[0m \u001b[0mself\u001b[0m\u001b[0;34m.\u001b[0m\u001b[0mresearcher\u001b[0m\u001b[0;34m,\u001b[0m\u001b[0;34m\u001b[0m\u001b[0;34m\u001b[0m\u001b[0m\n",
      "\u001b[0;32m~/Documents/GraiMatter-work/GRAIMatter/safemodel/classifiers/safekeras.py\u001b[0m in \u001b[0;36mposthoc_check\u001b[0;34m(self, verbose)\u001b[0m\n\u001b[1;32m    183\u001b[0m                                 \u001b[0;34mf\"for parameter list {item}\"\u001b[0m\u001b[0;34m\u001b[0m\u001b[0;34m\u001b[0m\u001b[0m\n\u001b[1;32m    184\u001b[0m                             )\n\u001b[0;32m--> 185\u001b[0;31m                             \u001b[0mdisclosive\u001b[0m \u001b[0;34m=\u001b[0m \u001b[0;32mTrue\u001b[0m\u001b[0;34m\u001b[0m\u001b[0;34m\u001b[0m\u001b[0m\n\u001b[0m\u001b[1;32m    186\u001b[0m                             \u001b[0;32mbreak\u001b[0m\u001b[0;34m\u001b[0m\u001b[0;34m\u001b[0m\u001b[0m\n\u001b[1;32m    187\u001b[0m \u001b[0;34m\u001b[0m\u001b[0m\n",
      "\u001b[0;31mAttributeError\u001b[0m: type object 'super' has no attribute 'posthoc'"
     ]
    }
   ],
   "source": [
    "safeModel.request_release('safekeras.pkl')"
   ]
  },
  {
   "cell_type": "code",
   "execution_count": 17,
   "metadata": {},
   "outputs": [
    {
     "name": "stdout",
     "output_type": "stream",
     "text": [
      "_self_setattr_tracking True\n",
      "_obj_reference_counts_dict ObjectIdentityDictionary({<_ObjectIdentityWrapper wrapping <KerasTensor: shape=(None, 300) dtype=float32 (created by layer 'input_1')>>: 1, <_ObjectIdentityWrapper wrapping <KerasTensor: shape=(None, 2) dtype=float32 (created by layer 'dense_3')>>: 1, <_ObjectIdentityWrapper wrapping ListWrapper([])>: 1, <_ObjectIdentityWrapper wrapping ListWrapper([])>: 1, <_ObjectIdentityWrapper wrapping 'j4-smith'>: 1, <_ObjectIdentityWrapper wrapping 'KerasModel'>: 1, <_ObjectIdentityWrapper wrapping 25>: 1, <_ObjectIdentityWrapper wrapping 1.0>: 1, <_ObjectIdentityWrapper wrapping 0.5>: 1, <_ObjectIdentityWrapper wrapping 0.1>: 1, <_ObjectIdentityWrapper wrapping <tensorflow_privacy.privacy.optimizers.dp_optimizer_keras.make_keras_optimizer_class.<locals>.DPOptimizerClass object at 0x28fe30100>>: 1, <_ObjectIdentityWrapper wrapping <keras.engine.compile_utils.LossesContainer object at 0x28fe307c0>>: 1, <_ObjectIdentityWrapper wrapping <keras.engine.compile_utils.MetricsContainer object at 0x28fc2ebe0>>: 1, <_ObjectIdentityWrapper wrapping True>: 1, <_ObjectIdentityWrapper wrapping <keras.losses.CategoricalCrossentropy object at 0x28fe302e0>>: 1, <_ObjectIdentityWrapper wrapping <keras.callbacks.History object at 0x290087f70>>: 1, <_ObjectIdentityWrapper wrapping <tensorflow.python.eager.def_function.Function object at 0x28cce9910>>: 2, <_ObjectIdentityWrapper wrapping <tensorflow.python.eager.def_function.Function object at 0x290db7bb0>>: 1})\n",
      "inputs [<KerasTensor: shape=(None, 300) dtype=float32 (created by layer 'input_1')>]\n",
      "outputs [<KerasTensor: shape=(None, 2) dtype=float32 (created by layer 'dense_3')>]\n",
      "_is_model_for_instrumentation True\n",
      "_instrumented_keras_api True\n",
      "_instrumented_keras_layer_class False\n",
      "_instrumented_keras_model_class True\n",
      "_trainable True\n",
      "_stateful False\n",
      "built True\n",
      "_input_spec None\n",
      "_build_input_shape (None, 300)\n",
      "_saved_model_inputs_spec TensorSpec(shape=(None, 300), dtype=tf.float32, name='input_1')\n",
      "_saved_model_arg_spec ([TensorSpec(shape=(None, 300), dtype=tf.float32, name='input_1')], {})\n",
      "_supports_masking True\n",
      "_name safe__keras_model\n",
      "_activity_regularizer None\n",
      "_trainable_weights []\n",
      "_non_trainable_weights []\n",
      "_updates []\n",
      "_thread_local <_thread._local object at 0x28fdce540>\n",
      "_callable_losses []\n",
      "_losses []\n",
      "_metrics []\n",
      "_metrics_lock <unlocked _thread.lock object at 0x28fc2e8d0>\n",
      "_dtype_policy <Policy \"float32\">\n",
      "_compute_dtype_object <dtype: 'float32'>\n",
      "_autocast False\n",
      "_self_tracked_trackables [<keras.engine.input_layer.InputLayer object at 0x28cb128e0>, <keras.layers.core.dense.Dense object at 0x28cb12eb0>, <keras.layers.core.dense.Dense object at 0x28cb8a670>, <keras.layers.core.dense.Dense object at 0x28cb8ab50>, <keras.layers.core.dense.Dense object at 0x28cd42370>, ListWrapper([]), ListWrapper([])]\n",
      "_inbound_nodes_value []\n",
      "_outbound_nodes_value []\n",
      "_expects_training_arg True\n",
      "_default_training_arg None\n",
      "_expects_mask_arg True\n",
      "_dynamic False\n",
      "_initial_weights None\n",
      "_auto_track_sub_layers True\n",
      "_preserve_input_structure_in_config False\n",
      "_outer_name_scope \n",
      "_is_graph_network True\n",
      "input_names ['input_1']\n",
      "output_names ['dense_3']\n",
      "_compute_output_and_mask_jointly True\n",
      "_distribution_strategy None\n",
      "_cluster_coordinator None\n",
      "predict_function None\n",
      "_compiled_trainable_state <WeakKeyDictionary at 0x28e476af0>\n",
      "_training_state None\n",
      "_trackable_saver <tensorflow.python.training.tracking.util.TrackableSaver object at 0x28fc2e4f0>\n",
      "_steps_per_execution <tf.Variable 'Variable:0' shape=() dtype=int64, numpy=1>\n",
      "_train_counter <tf.Variable 'Variable:0' shape=() dtype=int64, numpy=200>\n",
      "_test_counter <tf.Variable 'Variable:0' shape=() dtype=int64, numpy=10>\n",
      "_predict_counter <tf.Variable 'Variable:0' shape=() dtype=int64, numpy=0>\n",
      "_base_model_initialized True\n",
      "_nested_inputs KerasTensor(type_spec=TensorSpec(shape=(None, 300), dtype=tf.float32, name='input_1'), name='input_1', description=\"created by layer 'input_1'\")\n",
      "_nested_outputs KerasTensor(type_spec=TensorSpec(shape=(None, 2), dtype=tf.float32, name=None), name='dense_3/Softmax:0', description=\"created by layer 'dense_3'\")\n",
      "_enable_dict_to_input_mapping True\n",
      "_input_layers [<keras.engine.input_layer.InputLayer object at 0x28cb128e0>]\n",
      "_output_layers [<keras.layers.core.dense.Dense object at 0x28cd42370>]\n",
      "_input_coordinates [(<keras.engine.input_layer.InputLayer object at 0x28cb128e0>, 0, 0)]\n",
      "_output_coordinates [(<keras.layers.core.dense.Dense object at 0x28cd42370>, 0, 0)]\n",
      "_output_mask_cache {}\n",
      "_output_tensor_cache {}\n",
      "_output_shape_cache {}\n",
      "_network_nodes {'dense_ib-0', 'dense_2_ib-0', 'dense_3_ib-0', 'dense_1_ib-0', 'input_1_ib-0'}\n",
      "_nodes_by_depth defaultdict(<class 'list'>, {0: [<keras.engine.node.Node object at 0x28e4726d0>], 1: [<keras.engine.node.Node object at 0x28e46cd60>], 2: [<keras.engine.node.Node object at 0x28cd42cd0>], 3: [<keras.engine.node.Node object at 0x28cb8aaf0>], 4: [<keras.engine.node.Node object at 0x28cb8a640>]})\n",
      "_layer_call_argspecs {<keras.engine.input_layer.InputLayer object at 0x28cb128e0>: FullArgSpec(args=['self', 'inputs'], varargs='args', varkw='kwargs', defaults=None, kwonlyargs=[], kwonlydefaults=None, annotations={}), <keras.layers.core.dense.Dense object at 0x28cb12eb0>: FullArgSpec(args=['self', 'inputs'], varargs=None, varkw=None, defaults=None, kwonlyargs=[], kwonlydefaults=None, annotations={}), <keras.layers.core.dense.Dense object at 0x28cb8a670>: FullArgSpec(args=['self', 'inputs'], varargs=None, varkw=None, defaults=None, kwonlyargs=[], kwonlydefaults=None, annotations={}), <keras.layers.core.dense.Dense object at 0x28cb8ab50>: FullArgSpec(args=['self', 'inputs'], varargs=None, varkw=None, defaults=None, kwonlyargs=[], kwonlydefaults=None, annotations={}), <keras.layers.core.dense.Dense object at 0x28cd42370>: FullArgSpec(args=['self', 'inputs'], varargs=None, varkw=None, defaults=None, kwonlyargs=[], kwonlydefaults=None, annotations={})}\n",
      "_feed_input_names ['input_1']\n",
      "_feed_inputs [<KerasTensor: shape=(None, 300) dtype=float32 (created by layer 'input_1')>]\n",
      "_feed_input_shapes [(None, 300)]\n",
      "_tensor_usage_count Counter({'10950846160': 1, '10952648736': 1, '10976938448': 1, '10976938640': 1, '10976977968': 1})\n",
      "model None\n",
      "saved_model None\n",
      "model_save_file None\n",
      "_self_unconditional_checkpoint_dependencies [TrackableReference(name=ignore_items, ref=ListWrapper([])), TrackableReference(name=examine_seperately_items, ref=ListWrapper([])), TrackableReference(name=optimizer, ref=<tensorflow_privacy.privacy.optimizers.dp_optimizer_keras.make_keras_optimizer_class.<locals>.DPOptimizerClass object at 0x28fe30100>), TrackableReference(name=train_tf_function, ref=<tensorflow.python.eager.def_function.Function object at 0x28cce9910>), TrackableReference(name=train_function, ref=<tensorflow.python.eager.def_function.Function object at 0x28cce9910>), TrackableReference(name=test_function, ref=<tensorflow.python.eager.def_function.Function object at 0x290db7bb0>)]\n",
      "_self_unconditional_dependency_names {'ignore_items': ListWrapper([]), 'examine_seperately_items': ListWrapper([]), 'optimizer': <tensorflow_privacy.privacy.optimizers.dp_optimizer_keras.make_keras_optimizer_class.<locals>.DPOptimizerClass object at 0x28fe30100>, 'train_tf_function': <tensorflow.python.eager.def_function.Function object at 0x28cce9910>, 'train_function': <tensorflow.python.eager.def_function.Function object at 0x28cce9910>, 'test_function': <tensorflow.python.eager.def_function.Function object at 0x290db7bb0>}\n",
      "_self_unconditional_deferred_dependencies {}\n",
      "_self_update_uid -1\n",
      "_self_name_based_restores set()\n",
      "_self_saveable_object_factories {}\n",
      "ignore_items ListWrapper([])\n",
      "examine_seperately_items ListWrapper([])\n",
      "filename None\n",
      "researcher j4-smith\n",
      "model_type KerasModel\n",
      "batch_size 25\n",
      "l2_norm_clip 1.0\n",
      "noise_multiplier 0.5\n",
      "num_microbatches None\n",
      "learning_rate 0.1\n",
      "_run_eagerly None\n",
      "optimizer <tensorflow_privacy.privacy.optimizers.dp_optimizer_keras.make_keras_optimizer_class.<locals>.DPOptimizerClass object at 0x28fe30100>\n",
      "compiled_loss <keras.engine.compile_utils.LossesContainer object at 0x28fe307c0>\n",
      "compiled_metrics <keras.engine.compile_utils.MetricsContainer object at 0x28fc2ebe0>\n",
      "_is_compiled True\n",
      "loss <keras.losses.CategoricalCrossentropy object at 0x28fe302e0>\n",
      "_jit_compile None\n",
      "stop_training False\n",
      "train_tf_function <tensorflow.python.eager.def_function.Function object at 0x28cce9910>\n",
      "train_function <tensorflow.python.eager.def_function.Function object at 0x28cce9910>\n",
      "test_function <tensorflow.python.eager.def_function.Function object at 0x290db7bb0>\n",
      "history <keras.callbacks.History object at 0x290087f70>\n"
     ]
    }
   ],
   "source": [
    "for key,value in safeModel.__dict__.items():\n",
    "    print(key,value)"
   ]
  },
  {
   "cell_type": "code",
   "execution_count": null,
   "metadata": {},
   "outputs": [],
   "source": [
    "# create and fit using recommended params\n",
    "print(\"***Test 1: researcher doesn't change recommended params\")\n",
    "safeKerasModel1 = Safe_KerasModel(input_data, output)\n",
    "safeKerasModel1.compile()\n",
    "safeKerasModel1.fit(Xt_member, \n",
    "                    yt_member, \n",
    "                    validation_data=(Xt_nonmember, yt_nonmember),\n",
    "                    epochs=epochs, \n",
    "                    batch_size=batch_size)\n",
    "safeKerasModel1.save(name=\"safe1.pkl\")\n",
    "safeKerasModel1.preliminary_check()\n",
    "safeKerasModel1.request_release(filename=\"safe1.pkl\")\n",
    "\n",
    "\n",
    "# change model params to recommended values\n",
    "print(\"\\n***Test 2: researcher changes params safely\")\n",
    "safeKerasModel2 = Safe_KerasModel(input_data, output)\n",
    "safeKerasModel2.compile()\n",
    "safeKerasModel2.optimizer=\"DPAdam\"\n",
    "safeKerasModel2.fit(Xt_member, \n",
    "                    yt_member, \n",
    "                    validation_data=(Xt_nonmember, yt_nonmember),\n",
    "                    epochs=epochs, \n",
    "                    batch_size=batch_size)\n",
    "safeKerasModel2.save(name=\"safe2.pkl\")\n",
    "safeKerasModel2.preliminary_check()\n",
    "safeKerasModel2.request_release(filename=\"safe2.pkl\")\n",
    "\n",
    "# change one model params in an unsafe way\n",
    "print(\"\\n***Test 3: researcher changes string params unsafely\")\n",
    "safeKerasModel3 = Safe_KerasModel(input_data, output)\n",
    "safeKerasModel3.compile()\n",
    "safeKerasModel3.optimizer=\"Adam\"\n",
    "safeKerasModel3.fit(Xt_member, \n",
    "                    yt_member, \n",
    "                    validation_data=(Xt_nonmember, yt_nonmember),\n",
    "                    epochs=epochs, \n",
    "                    batch_size=batch_size)\n",
    "safeKerasModel3.save(name=\"unsafe3.pkl\")\n",
    "safeKerasModel3.preliminary_check()\n",
    "safeKerasModel3.request_release(filename=\"unsafe3.pkl\")\n",
    "\n",
    "# change another model params in an  unsafe way\n",
    "\n",
    "\n",
    "# change another model params in an  unsafe way\n",
    "print(\"\\n***Test 5: researcher changes string and numeric params unsafely\")\n"
   ]
  },
  {
   "cell_type": "code",
   "execution_count": null,
   "metadata": {},
   "outputs": [],
   "source": [
    "# change another model params in an  unsafe way but tells preliminary_check() not to overwrite params\n",
    "print(\"\\n***Test 6: researcher changes string and numeric params unsafely\")\n",
    "safeKerasModel6 = Safe_KerasModel(input_data, output)\n",
    "safeKerasModel6.compile()\n",
    "safeKerasModel6.optimizer=\"Adam\"\n",
    "safeKerasModel6.fit(Xt_member, \n",
    "                    yt_member, \n",
    "                    validation_data=(Xt_nonmember, yt_nonmember),\n",
    "                    epochs=epochs, \n",
    "                    batch_size=batch_size)\n",
    "safeKerasModel6.save(name=\"unsafe6.pkl\")\n",
    "safeKerasModel6.preliminary_check(apply_constraints=False)\n",
    "safeKerasModel6.request_release(filename=\"unsafe6.pkl\")"
   ]
  },
  {
   "cell_type": "code",
   "execution_count": null,
   "metadata": {},
   "outputs": [],
   "source": []
  }
 ],
 "metadata": {
  "kernelspec": {
   "display_name": "Python 3 (ipykernel)",
   "language": "python",
   "name": "python3"
  },
  "language_info": {
   "codemirror_mode": {
    "name": "ipython",
    "version": 3
   },
   "file_extension": ".py",
   "mimetype": "text/x-python",
   "name": "python",
   "nbconvert_exporter": "python",
   "pygments_lexer": "ipython3",
   "version": "3.9.7"
  }
 },
 "nbformat": 4,
 "nbformat_minor": 4
}
