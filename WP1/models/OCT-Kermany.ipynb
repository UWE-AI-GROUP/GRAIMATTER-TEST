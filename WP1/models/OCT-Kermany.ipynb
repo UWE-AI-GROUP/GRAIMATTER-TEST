{
 "cells": [
  {
   "cell_type": "markdown",
   "id": "220934c9",
   "metadata": {},
   "source": [
    "### Re-implementation of \"Identifying Medical Diagnoses and Treatable Diseases by Image-Based Deep Learning\"\n",
    "\n",
    "Image-based deep learning classifies macular degeneration and diabetic retinopathy using retinal optical coherence tomography (OCT) images and has potential for generalized applications in biomedical image interpretation and medical decision making. Kermany et al., 2018, Cell 172, 1122–1131 February 22, 2018 2018 Elsevier Inc. https://doi.org/10.1016/j.cell.2018.02.010\n",
    "\n",
    "The paper uses transfer learning, with an InceptionV3 model pre-trained on the ImageNet dataset. \n"
   ]
  },
  {
   "cell_type": "code",
   "execution_count": 62,
   "id": "7314f0a6",
   "metadata": {},
   "outputs": [],
   "source": [
    "import os\n",
    "import time\n",
    "import numpy as np\n",
    "import PIL\n",
    "import PIL.Image\n",
    "\n",
    "import tensorflow as tf\n",
    "from tensorflow.keras.applications import InceptionV3\n",
    "from tensorflow.keras.layers import Input, Dense, Flatten, Rescaling\n",
    "from tensorflow.keras.models import Sequential, Model\n",
    "from tensorflow.keras.callbacks import EarlyStopping, ReduceLROnPlateau\n",
    "\n",
    "from sklearn.metrics import ConfusionMatrixDisplay\n",
    "from sklearn.metrics import confusion_matrix, classification_report\n",
    "import matplotlib.pyplot as plt\n",
    "\n",
    "%matplotlib inline"
   ]
  },
  {
   "cell_type": "code",
   "execution_count": 2,
   "id": "2cb16868",
   "metadata": {},
   "outputs": [],
   "source": [
    "PATH_TO_DATASET = \"../../../../../../research/datasets/ZhangLabData/CellData/OCT\"\n",
    "PATH_TO_TRAIN_DATASET = os.path.join(PATH_TO_DATASET, \"train\")\n",
    "PATH_TO_TEST_DATASET = os.path.join(PATH_TO_DATASET, \"test\")"
   ]
  },
  {
   "cell_type": "code",
   "execution_count": 3,
   "id": "cc5afd5e",
   "metadata": {},
   "outputs": [],
   "source": [
    "batch_size = 100\n",
    "epochs = 100\n",
    "\n",
    "# Max image size for InceptionV3\n",
    "img_height = 299\n",
    "img_width = 299"
   ]
  },
  {
   "cell_type": "code",
   "execution_count": 4,
   "id": "5c950759",
   "metadata": {},
   "outputs": [
    {
     "name": "stdout",
     "output_type": "stream",
     "text": [
      "Found 108309 files belonging to 4 classes.\n",
      "Found 1000 files belonging to 4 classes.\n"
     ]
    }
   ],
   "source": [
    "train_ds = tf.keras.utils.image_dataset_from_directory(\n",
    "    PATH_TO_TRAIN_DATASET,\n",
    "    label_mode=\"categorical\",\n",
    "    image_size=(img_height, img_width),\n",
    "    batch_size=batch_size,\n",
    ")\n",
    "\n",
    "test_ds = tf.keras.utils.image_dataset_from_directory(\n",
    "    PATH_TO_TEST_DATASET,\n",
    "    label_mode=\"categorical\",\n",
    "    image_size=(img_height, img_width),\n",
    "    batch_size=batch_size,\n",
    ")\n",
    "\n",
    "class_names = train_ds.class_names\n",
    "num_classes = len(class_names)"
   ]
  },
  {
   "cell_type": "markdown",
   "id": "7980de1b",
   "metadata": {},
   "source": [
    "#### TODO: \n",
    "Authors recode the data to have 3 classes instead of 4:\n",
    " - CNV & DMR -> urgent referrals\n",
    " - Drusen -> routine referrals\n",
    " - Normal -> normal"
   ]
  },
  {
   "cell_type": "code",
   "execution_count": 5,
   "id": "c03eaefa",
   "metadata": {},
   "outputs": [],
   "source": [
    "def build_classifier():\n",
    "    # InceptionV3 pretrained on ImageNet\n",
    "    base_model = InceptionV3(\n",
    "        include_top=False,\n",
    "        weights=\"imagenet\",\n",
    "        input_shape=(img_height, img_width, 3),\n",
    "        pooling=\"avg\",\n",
    "    )\n",
    "    # Freeze parameters\n",
    "    base_model.trainable = False\n",
    "\n",
    "    # Model definition\n",
    "    input_data = Input(shape=(img_height, img_width, 3))\n",
    "    # InceptionV3 expects pixel data in range [-1,1]\n",
    "    x = Rescaling(1.0 / 127.5, offset=-1)(input_data)\n",
    "    x = base_model(x, training=False)\n",
    "    output = Dense(num_classes, activation=\"softmax\")(x)\n",
    "\n",
    "    model = Model(inputs=input_data, outputs=output)\n",
    "\n",
    "    model.compile(\n",
    "        optimizer=\"adam\",\n",
    "        loss=\"categorical_crossentropy\",\n",
    "        metrics=[\"accuracy\"],\n",
    "    )\n",
    "\n",
    "    return model"
   ]
  },
  {
   "cell_type": "code",
   "execution_count": 6,
   "id": "a9506155",
   "metadata": {},
   "outputs": [
    {
     "name": "stdout",
     "output_type": "stream",
     "text": [
      "Model: \"model\"\n",
      "_________________________________________________________________\n",
      " Layer (type)                Output Shape              Param #   \n",
      "=================================================================\n",
      " input_2 (InputLayer)        [(None, 299, 299, 3)]     0         \n",
      "                                                                 \n",
      " rescaling (Rescaling)       (None, 299, 299, 3)       0         \n",
      "                                                                 \n",
      " inception_v3 (Functional)   (None, 2048)              21802784  \n",
      "                                                                 \n",
      " dense (Dense)               (None, 4)                 8196      \n",
      "                                                                 \n",
      "=================================================================\n",
      "Total params: 21,810,980\n",
      "Trainable params: 8,196\n",
      "Non-trainable params: 21,802,784\n",
      "_________________________________________________________________\n",
      "Epoch 1/100\n",
      "1084/1084 [==============================] - 223s 201ms/step - loss: 0.3965 - accuracy: 0.8626 - val_loss: 0.3239 - val_accuracy: 0.8820 - lr: 0.0010\n",
      "Epoch 2/100\n",
      "1084/1084 [==============================] - 222s 205ms/step - loss: 0.3062 - accuracy: 0.8940 - val_loss: 0.2824 - val_accuracy: 0.8970 - lr: 0.0010\n",
      "Epoch 3/100\n",
      "1084/1084 [==============================] - 223s 205ms/step - loss: 0.2846 - accuracy: 0.9010 - val_loss: 0.2426 - val_accuracy: 0.9160 - lr: 0.0010\n",
      "Epoch 4/100\n",
      "1084/1084 [==============================] - 223s 206ms/step - loss: 0.2713 - accuracy: 0.9061 - val_loss: 0.2633 - val_accuracy: 0.9040 - lr: 0.0010\n",
      "Epoch 5/100\n",
      "1084/1084 [==============================] - 222s 204ms/step - loss: 0.2629 - accuracy: 0.9094 - val_loss: 0.2385 - val_accuracy: 0.9130 - lr: 0.0010\n",
      "Epoch 6/100\n",
      "1084/1084 [==============================] - 222s 205ms/step - loss: 0.2563 - accuracy: 0.9110 - val_loss: 0.2489 - val_accuracy: 0.9070 - lr: 0.0010\n",
      "Epoch 7/100\n",
      "1084/1084 [==============================] - 223s 205ms/step - loss: 0.2506 - accuracy: 0.9133 - val_loss: 0.2377 - val_accuracy: 0.9060 - lr: 0.0010\n",
      "Epoch 8/100\n",
      "1084/1084 [==============================] - 224s 206ms/step - loss: 0.2495 - accuracy: 0.9138 - val_loss: 0.2528 - val_accuracy: 0.9020 - lr: 0.0010\n",
      "Epoch 9/100\n",
      "1084/1084 [==============================] - 232s 213ms/step - loss: 0.2431 - accuracy: 0.9159 - val_loss: 0.2407 - val_accuracy: 0.9070 - lr: 0.0010\n",
      "Epoch 10/100\n",
      "1084/1084 [==============================] - 228s 210ms/step - loss: 0.2397 - accuracy: 0.9176 - val_loss: 0.2593 - val_accuracy: 0.9000 - lr: 0.0010\n",
      "Epoch 11/100\n",
      "1084/1084 [==============================] - 229s 211ms/step - loss: 0.2379 - accuracy: 0.9185 - val_loss: 0.2375 - val_accuracy: 0.9090 - lr: 0.0010\n",
      "Epoch 12/100\n",
      "1084/1084 [==============================] - 229s 211ms/step - loss: 0.2357 - accuracy: 0.9184 - val_loss: 0.2589 - val_accuracy: 0.9020 - lr: 0.0010\n",
      "Epoch 13/100\n",
      "1084/1084 [==============================] - 228s 210ms/step - loss: 0.2334 - accuracy: 0.9192 - val_loss: 0.2263 - val_accuracy: 0.9070 - lr: 0.0010\n",
      "Epoch 14/100\n",
      "1084/1084 [==============================] - 234s 216ms/step - loss: 0.2330 - accuracy: 0.9196 - val_loss: 0.2095 - val_accuracy: 0.9170 - lr: 0.0010\n",
      "Epoch 15/100\n",
      "1084/1084 [==============================] - 223s 205ms/step - loss: 0.2306 - accuracy: 0.9202 - val_loss: 0.2196 - val_accuracy: 0.9230 - lr: 0.0010\n",
      "Epoch 16/100\n",
      "1084/1084 [==============================] - 222s 205ms/step - loss: 0.2283 - accuracy: 0.9216 - val_loss: 0.2278 - val_accuracy: 0.9110 - lr: 0.0010\n",
      "Epoch 17/100\n",
      "1084/1084 [==============================] - 221s 203ms/step - loss: 0.2276 - accuracy: 0.9213 - val_loss: 0.2045 - val_accuracy: 0.9270 - lr: 0.0010\n",
      "Epoch 18/100\n",
      "1084/1084 [==============================] - 220s 203ms/step - loss: 0.2259 - accuracy: 0.9221 - val_loss: 0.2482 - val_accuracy: 0.9040 - lr: 0.0010\n",
      "Epoch 19/100\n",
      "1084/1084 [==============================] - 221s 203ms/step - loss: 0.2241 - accuracy: 0.9229 - val_loss: 0.1942 - val_accuracy: 0.9330 - lr: 0.0010\n",
      "Epoch 20/100\n",
      "1084/1084 [==============================] - 221s 203ms/step - loss: 0.2243 - accuracy: 0.9229 - val_loss: 0.1926 - val_accuracy: 0.9350 - lr: 0.0010\n",
      "Epoch 21/100\n",
      "1084/1084 [==============================] - 220s 203ms/step - loss: 0.2219 - accuracy: 0.9233 - val_loss: 0.2225 - val_accuracy: 0.9170 - lr: 0.0010\n",
      "Epoch 22/100\n",
      "1084/1084 [==============================] - 222s 204ms/step - loss: 0.2213 - accuracy: 0.9239 - val_loss: 0.1912 - val_accuracy: 0.9310 - lr: 0.0010\n",
      "Epoch 23/100\n",
      "1084/1084 [==============================] - 221s 203ms/step - loss: 0.2214 - accuracy: 0.9234 - val_loss: 0.2185 - val_accuracy: 0.9160 - lr: 0.0010\n",
      "Epoch 24/100\n",
      "1084/1084 [==============================] - 221s 204ms/step - loss: 0.2197 - accuracy: 0.9239 - val_loss: 0.3150 - val_accuracy: 0.8670 - lr: 0.0010\n",
      "Epoch 25/100\n",
      "1084/1084 [==============================] - 221s 204ms/step - loss: 0.2184 - accuracy: 0.9242 - val_loss: 0.2024 - val_accuracy: 0.9280 - lr: 0.0010\n",
      "Epoch 26/100\n",
      "1084/1084 [==============================] - 222s 204ms/step - loss: 0.2169 - accuracy: 0.9253 - val_loss: 0.2208 - val_accuracy: 0.9190 - lr: 0.0010\n",
      "Epoch 27/100\n",
      "1084/1084 [==============================] - 221s 203ms/step - loss: 0.2172 - accuracy: 0.9246 - val_loss: 0.1891 - val_accuracy: 0.9350 - lr: 0.0010\n",
      "Epoch 28/100\n",
      "1084/1084 [==============================] - 221s 203ms/step - loss: 0.2154 - accuracy: 0.9259 - val_loss: 0.2891 - val_accuracy: 0.8870 - lr: 0.0010\n",
      "Epoch 29/100\n",
      "1084/1084 [==============================] - 221s 203ms/step - loss: 0.2155 - accuracy: 0.9260 - val_loss: 0.2747 - val_accuracy: 0.8970 - lr: 0.0010\n",
      "Epoch 30/100\n",
      "1084/1084 [==============================] - 222s 205ms/step - loss: 0.2160 - accuracy: 0.9252 - val_loss: 0.2730 - val_accuracy: 0.8960 - lr: 0.0010\n",
      "Epoch 31/100\n",
      "1084/1084 [==============================] - 221s 203ms/step - loss: 0.2150 - accuracy: 0.9256 - val_loss: 0.2337 - val_accuracy: 0.9110 - lr: 0.0010\n",
      "Epoch 32/100\n",
      "1084/1084 [==============================] - 221s 203ms/step - loss: 0.2136 - accuracy: 0.9262 - val_loss: 0.2452 - val_accuracy: 0.9060 - lr: 0.0010\n",
      "Epoch 33/100\n",
      "1084/1084 [==============================] - 220s 203ms/step - loss: 0.2132 - accuracy: 0.9261 - val_loss: 0.2615 - val_accuracy: 0.9040 - lr: 0.0010\n",
      "Epoch 34/100\n",
      "1084/1084 [==============================] - 221s 203ms/step - loss: 0.2126 - accuracy: 0.9261 - val_loss: 0.2441 - val_accuracy: 0.9090 - lr: 0.0010\n",
      "Epoch 35/100\n",
      "1084/1084 [==============================] - 221s 203ms/step - loss: 0.2123 - accuracy: 0.9270 - val_loss: 0.2135 - val_accuracy: 0.9200 - lr: 0.0010\n",
      "Epoch 36/100\n",
      "1084/1084 [==============================] - 222s 204ms/step - loss: 0.2122 - accuracy: 0.9269 - val_loss: 0.2113 - val_accuracy: 0.9230 - lr: 0.0010\n",
      "Epoch 37/100\n",
      "1084/1084 [==============================] - 221s 203ms/step - loss: 0.2112 - accuracy: 0.9273 - val_loss: 0.2389 - val_accuracy: 0.9160 - lr: 0.0010\n",
      "Epoch 38/100\n",
      "1084/1084 [==============================] - 220s 203ms/step - loss: 0.2115 - accuracy: 0.9267 - val_loss: 0.2700 - val_accuracy: 0.8920 - lr: 0.0010\n",
      "Epoch 39/100\n",
      "1084/1084 [==============================] - 220s 203ms/step - loss: 0.2121 - accuracy: 0.9264 - val_loss: 0.2030 - val_accuracy: 0.9270 - lr: 0.0010\n",
      "Epoch 40/100\n",
      "1084/1084 [==============================] - 220s 203ms/step - loss: 0.2108 - accuracy: 0.9264 - val_loss: 0.2664 - val_accuracy: 0.8960 - lr: 0.0010\n",
      "Epoch 41/100\n",
      "1084/1084 [==============================] - 221s 204ms/step - loss: 0.2102 - accuracy: 0.9275 - val_loss: 0.2300 - val_accuracy: 0.9150 - lr: 0.0010\n",
      "Epoch 42/100\n",
      "1084/1084 [==============================] - 221s 204ms/step - loss: 0.2087 - accuracy: 0.9276 - val_loss: 0.2019 - val_accuracy: 0.9290 - lr: 0.0010\n",
      "Epoch 43/100\n",
      "1084/1084 [==============================] - 220s 202ms/step - loss: 0.2083 - accuracy: 0.9283 - val_loss: 0.2351 - val_accuracy: 0.9120 - lr: 0.0010\n",
      "Epoch 44/100\n",
      "1084/1084 [==============================] - 220s 203ms/step - loss: 0.2096 - accuracy: 0.9277 - val_loss: 0.2599 - val_accuracy: 0.8990 - lr: 0.0010\n",
      "Epoch 45/100\n"
     ]
    },
    {
     "name": "stdout",
     "output_type": "stream",
     "text": [
      "1084/1084 [==============================] - 220s 203ms/step - loss: 0.2091 - accuracy: 0.9275 - val_loss: 0.2049 - val_accuracy: 0.9260 - lr: 0.0010\n",
      "Epoch 46/100\n",
      "1084/1084 [==============================] - 221s 203ms/step - loss: 0.2088 - accuracy: 0.9278 - val_loss: 0.2255 - val_accuracy: 0.9170 - lr: 0.0010\n"
     ]
    }
   ],
   "source": [
    "classifier = build_classifier()\n",
    "classifier.summary()\n",
    "\n",
    "# Train network until convergence\n",
    "early_stopping = EarlyStopping(monitor=\"loss\", patience=3)\n",
    "reduce_lr = ReduceLROnPlateau(monitor=\"val_loss\", factor=0.2, patience=5, min_lr=1e-5)\n",
    "r = classifier.fit(\n",
    "    train_ds,\n",
    "    epochs=epochs,\n",
    "    validation_data=test_ds,\n",
    "    verbose=1,\n",
    "    callbacks=[early_stopping, reduce_lr],\n",
    ")"
   ]
  },
  {
   "cell_type": "code",
   "execution_count": 7,
   "id": "6c060909",
   "metadata": {},
   "outputs": [
    {
     "data": {
      "image/png": "[encoded data removed]",
      "text/plain": [
       "<Figure size 576x576 with 2 Axes>"
      ]
     },
     "metadata": {
      "needs_background": "light"
     },
     "output_type": "display_data"
    }
   ],
   "source": [
    "acc = r.history[\"accuracy\"]\n",
    "val_acc = r.history[\"val_accuracy\"]\n",
    "\n",
    "loss = r.history[\"loss\"]\n",
    "val_loss = r.history[\"val_loss\"]\n",
    "\n",
    "plt.figure(figsize=(8, 8))\n",
    "plt.subplot(2, 1, 1)\n",
    "plt.plot(acc, label=\"Training Accuracy\")\n",
    "plt.plot(val_acc, label=\"Validation Accuracy\")\n",
    "plt.legend(loc=\"lower right\")\n",
    "plt.ylabel(\"Accuracy\")\n",
    "plt.ylim([min(plt.ylim()), 1])\n",
    "plt.title(\"Training and Validation Accuracy\")\n",
    "\n",
    "plt.subplot(2, 1, 2)\n",
    "plt.plot(loss, label=\"Training Loss\")\n",
    "plt.plot(val_loss, label=\"Validation Loss\")\n",
    "plt.legend(loc=\"upper right\")\n",
    "plt.ylabel(\"Cross Entropy\")\n",
    "plt.ylim([0, 1.0])\n",
    "plt.title(\"Training and Validation Loss\")\n",
    "plt.xlabel(\"epoch\")\n",
    "plt.show()"
   ]
  },
  {
   "cell_type": "code",
   "execution_count": 69,
   "id": "c8eb2a33",
   "metadata": {},
   "outputs": [],
   "source": [
    "y_pred = np.array([])\n",
    "y_true = np.array([])\n",
    "for x, y in test_ds:\n",
    "    y_true = np.concatenate((y_true, np.argmax(y, axis=1)), axis=0)\n",
    "    y_pred = np.concatenate((y_pred, np.argmax(classifier.predict(x), axis=1)), axis=0)"
   ]
  },
  {
   "cell_type": "code",
   "execution_count": 70,
   "id": "9d45d5dd",
   "metadata": {},
   "outputs": [
    {
     "name": "stdout",
     "output_type": "stream",
     "text": [
      "              precision    recall  f1-score   support\n",
      "\n",
      "         CNV     0.8294    0.9720    0.8950       250\n",
      "         DME     0.9373    0.9560    0.9465       250\n",
      "      DRUSEN     0.9847    0.7720    0.8655       250\n",
      "      NORMAL     0.9453    0.9680    0.9565       250\n",
      "\n",
      "    accuracy                         0.9170      1000\n",
      "   macro avg     0.9242    0.9170    0.9159      1000\n",
      "weighted avg     0.9242    0.9170    0.9159      1000\n",
      "\n"
     ]
    }
   ],
   "source": [
    "print(classification_report(y_true, y_pred, target_names=class_names, digits=4))"
   ]
  },
  {
   "cell_type": "code",
   "execution_count": 71,
   "id": "3415e2d8",
   "metadata": {},
   "outputs": [
    {
     "data": {
      "image/png": "[encoded data removed]",
      "text/plain": [
       "<Figure size 432x288 with 2 Axes>"
      ]
     },
     "metadata": {
      "needs_background": "light"
     },
     "output_type": "display_data"
    }
   ],
   "source": [
    "cm = confusion_matrix(y_true, y_pred)\n",
    "disp = ConfusionMatrixDisplay(confusion_matrix=cm, display_labels=class_names)\n",
    "disp.plot()\n",
    "plt.show()"
   ]
  },
  {
   "cell_type": "code",
   "execution_count": 10,
   "id": "bb3f2444",
   "metadata": {},
   "outputs": [
    {
     "name": "stdout",
     "output_type": "stream",
     "text": [
      "INFO:tensorflow:Assets written to: OCT-Kermany-20220111-21.38\\assets\n"
     ]
    }
   ],
   "source": [
    "from datetime import datetime\n",
    "\n",
    "classifier.save(\"OCT-Kermany-\" + datetime.now().strftime(\"%Y%m%d-%H.%M\"))"
   ]
  },
  {
   "cell_type": "code",
   "execution_count": null,
   "id": "1c064c41",
   "metadata": {},
   "outputs": [],
   "source": [
    "# To retrieve saved model\n",
    "# model = keras.models.load_model('OCT-Kermany-model')"
   ]
  }
 ],
 "metadata": {
  "kernelspec": {
   "display_name": "Python 3",
   "language": "python",
   "name": "python3"
  },
  "language_info": {
   "codemirror_mode": {
    "name": "ipython",
    "version": 3
   },
   "file_extension": ".py",
   "mimetype": "text/x-python",
   "name": "python",
   "nbconvert_exporter": "python",
   "pygments_lexer": "ipython3",
   "version": "3.8.10"
  }
 },
 "nbformat": 4,
 "nbformat_minor": 5
}
